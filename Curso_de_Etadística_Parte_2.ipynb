{
  "nbformat": 4,
  "nbformat_minor": 0,
  "metadata": {
    "colab": {
      "provenance": [],
      "include_colab_link": true
    },
    "kernelspec": {
      "display_name": "Python 3",
      "language": "python",
      "name": "python3"
    },
    "language_info": {
      "codemirror_mode": {
        "name": "ipython",
        "version": 3
      },
      "file_extension": ".py",
      "mimetype": "text/x-python",
      "name": "python",
      "nbconvert_exporter": "python",
      "pygments_lexer": "ipython3",
      "version": "3.6.5"
    }
  },
  "cells": [
    {
      "cell_type": "markdown",
      "metadata": {
        "id": "view-in-github",
        "colab_type": "text"
      },
      "source": [
        "<a href=\"https://colab.research.google.com/github/Maucho6340/1764-estadistica-con-python-probabilidad-y-muestreo/blob/main/Curso_de_Etad%C3%ADstica_Parte_2.ipynb\" target=\"_parent\"><img src=\"https://colab.research.google.com/assets/colab-badge.svg\" alt=\"Open In Colab\"/></a>"
      ]
    },
    {
      "cell_type": "markdown",
      "metadata": {
        "id": "WvMflodMjQKe"
      },
      "source": [
        "***\n",
        "# <font color=green size=10>CURSO DE ESTADÍSTICA - PARTE 2</font>\n",
        "***"
      ]
    },
    {
      "cell_type": "markdown",
      "metadata": {
        "id": "cVgsZ_E3jQKg"
      },
      "source": [
        "# <font color=green>1 CONOCIENDO LOS DATOS</font>\n",
        "***"
      ]
    },
    {
      "cell_type": "markdown",
      "metadata": {
        "id": "TDjqYYNojQKh"
      },
      "source": [
        "## <font color=green>1.1 Dataset del proyecto</font>\n",
        "***"
      ]
    },
    {
      "cell_type": "markdown",
      "metadata": {
        "id": "iN1gIbaKjQKh"
      },
      "source": [
        "### Encuesta Nacional por Muestreo de Hogares - 2015\n",
        "\n",
        "La **Encuesta Nacional por Muestreo de Hogares - ENMH** en Brasil anualmente investiga, de manera permanente, características generales de la población, educación, trabajo, ingresos, vivienda y otras, con frecuencia variables, de acuerdo a las necesidades de información del país, tales como las características de migración, fecundidad, nupcialidad, salud, seguridad alimentaria, entre otros temas. La recopilación de estas estadísticas constituye, durante los 49 años de realización de la investigación, un importante instrumento para la formulación, validación y evaluación de políticas orientadas al desarrollo socioeconómico y la mejora de las condiciones de vida en Brasil."
      ]
    },
    {
      "cell_type": "markdown",
      "metadata": {
        "id": "U6V7br1RjQKi"
      },
      "source": [
        "### Fuente de los Datos\n",
        "\n",
        "Instituto Brasileño de Geografía y Estadística (IBGE) Encuesta Nacional por Muestreo de Hogares(PNAD) en el 2015"
      ]
    },
    {
      "cell_type": "markdown",
      "metadata": {
        "id": "r0Fe_qnzjQKj"
      },
      "source": [
        "### Variables utilizadas\n",
        "\n",
        "> ### Ingresos\n",
        "> ***\n",
        "\n",
        "Ingresos mensuales del trabajo principal para personas de 10 años o más.\n",
        "\n",
        "> ### Edad\n",
        "> ***\n",
        "\n",
        "Edad del residente en años en la fecha de referencia .\n",
        "\n",
        "> ### Altura (elaboración propia)\n",
        "> ***\n",
        "\n",
        "Altura del habitante en metros.\n",
        "\n",
        "> ### UF\n",
        "> ***\n",
        "\n",
        "Unidad Federal\n",
        "\n",
        "|Código|Descripción|\n",
        "|---|---|\n",
        "|11|Rondônia|\n",
        "|12|Acre|\n",
        "|13|Amazonas|\n",
        "|14|Roraima|\n",
        "|15|Pará|\n",
        "|16|Amapá|\n",
        "|17|Tocantins|\n",
        "|21|Maranhão|\n",
        "|22|Piauí|\n",
        "|23|Ceará|\n",
        "|24|Rio Grande do Norte|\n",
        "|25|Paraíba|\n",
        "|26|Pernambuco|\n",
        "|27|Alagoas|\n",
        "|28|Sergipe|\n",
        "|29|Bahia|\n",
        "|31|Minas Gerais|\n",
        "|32|Espírito Santo|\n",
        "|33|Rio de Janeiro|\n",
        "|35|São Paulo|\n",
        "|41|Paraná|\n",
        "|42|Santa Catarina|\n",
        "|43|Rio Grande do Sul|\n",
        "|50|Mato Grosso do Sul|\n",
        "|51|Mato Grosso|\n",
        "|52|Goiás|\n",
        "|53|Distrito Federal|\n",
        "\n",
        "> ### Sexo\n",
        "> ***\n",
        "\n",
        "|Código|Descripción|\n",
        "|---|---|\n",
        "|0|Masculino|\n",
        "|1|Femenino|\n",
        "\n",
        "> ### Años de Estudio\n",
        "> ***\n",
        "\n",
        "|Código|Descripción|\n",
        "|---|---|\n",
        "|1|Sin educación o menos de 1 año|\n",
        "|2|1 año|\n",
        "|3|2 años|\n",
        "|4|3 años|\n",
        "|5|4 años|\n",
        "|6|5 años|\n",
        "|7|6 años|\n",
        "|8|7 años|\n",
        "|9|8 años|\n",
        "|10|9 años|\n",
        "|11|10 años|\n",
        "|12|11 años|\n",
        "|13|12 años|\n",
        "|14|13 años|\n",
        "|15|14 años|\n",
        "|16|15 años o más|\n",
        "|17|No determinado|\n",
        "||No aplica|\n",
        "\n",
        "> ### Color\n",
        "> ***\n",
        "\n",
        "|Código|Descripción|\n",
        "|---|---|\n",
        "|0|Indígena|\n",
        "|2|Blanco|\n",
        "|4|Negro|\n",
        "|6|Amarillo|\n",
        "|8|Pardo|\n",
        "|9|Sin declarar|"
      ]
    },
    {
      "cell_type": "markdown",
      "metadata": {
        "id": "OK1IQH5cX7Gb"
      },
      "source": [
        "#### <font color='red'>Nota</font>\n",
        "***\n",
        "> Se realizaron los siguientes tratamientos sobre los datos originales:\n",
        "> 1. Se eliminaron los registros en los que **Ingreso** no era válido. (999 999 999 999);\n",
        "> 2. Se eliminaron los registros en los que **Ingreso** eran missing;\n",
        "> 3. Solo se consideraron los registros de **Personas de Referencia** de cada hogar (responsable del hogar)."
      ]
    },
    {
      "cell_type": "markdown",
      "metadata": {
        "id": "8Rw70V6ojQKk"
      },
      "source": [
        "### Importando pandas y leyendo el dataset del proyecto\n",
        "\n",
        "https://pandas.pydata.org/"
      ]
    },
    {
      "cell_type": "code",
      "metadata": {
        "id": "8QgOpE-wjQKl"
      },
      "source": [
        "import pandas as pd\n"
      ],
      "execution_count": 397,
      "outputs": []
    },
    {
      "cell_type": "code",
      "metadata": {
        "id": "ufRZ7TLwjQKo"
      },
      "source": [
        "datos = pd.read_csv('datos.csv', encoding='latin-1')"
      ],
      "execution_count": 398,
      "outputs": []
    },
    {
      "cell_type": "code",
      "metadata": {
        "id": "GsC_WhLFjQKq",
        "scrolled": true,
        "colab": {
          "base_uri": "https://localhost:8080/",
          "height": 206
        },
        "outputId": "8c904479-cdd0-40c5-a368-9c2bdf562337"
      },
      "source": [
        "datos.head()"
      ],
      "execution_count": 399,
      "outputs": [
        {
          "output_type": "execute_result",
          "data": {
            "text/plain": [
              "   Ciudad  Sexo  Edad  Color  Años de Estudio  Ingreso    Altura\n",
              "0      11     0    23      8               12      800  1.603808\n",
              "1      11     1    23      2               12     1150  1.739790\n",
              "2      11     1    35      8               15      880  1.760444\n",
              "3      11     0    46      2                6     3500  1.783158\n",
              "4      11     1    47      8                9      150  1.690631"
            ],
            "text/html": [
              "\n",
              "  <div id=\"df-f6d40e74-caba-4481-8e20-c52cdf07cfcc\" class=\"colab-df-container\">\n",
              "    <div>\n",
              "<style scoped>\n",
              "    .dataframe tbody tr th:only-of-type {\n",
              "        vertical-align: middle;\n",
              "    }\n",
              "\n",
              "    .dataframe tbody tr th {\n",
              "        vertical-align: top;\n",
              "    }\n",
              "\n",
              "    .dataframe thead th {\n",
              "        text-align: right;\n",
              "    }\n",
              "</style>\n",
              "<table border=\"1\" class=\"dataframe\">\n",
              "  <thead>\n",
              "    <tr style=\"text-align: right;\">\n",
              "      <th></th>\n",
              "      <th>Ciudad</th>\n",
              "      <th>Sexo</th>\n",
              "      <th>Edad</th>\n",
              "      <th>Color</th>\n",
              "      <th>Años de Estudio</th>\n",
              "      <th>Ingreso</th>\n",
              "      <th>Altura</th>\n",
              "    </tr>\n",
              "  </thead>\n",
              "  <tbody>\n",
              "    <tr>\n",
              "      <th>0</th>\n",
              "      <td>11</td>\n",
              "      <td>0</td>\n",
              "      <td>23</td>\n",
              "      <td>8</td>\n",
              "      <td>12</td>\n",
              "      <td>800</td>\n",
              "      <td>1.603808</td>\n",
              "    </tr>\n",
              "    <tr>\n",
              "      <th>1</th>\n",
              "      <td>11</td>\n",
              "      <td>1</td>\n",
              "      <td>23</td>\n",
              "      <td>2</td>\n",
              "      <td>12</td>\n",
              "      <td>1150</td>\n",
              "      <td>1.739790</td>\n",
              "    </tr>\n",
              "    <tr>\n",
              "      <th>2</th>\n",
              "      <td>11</td>\n",
              "      <td>1</td>\n",
              "      <td>35</td>\n",
              "      <td>8</td>\n",
              "      <td>15</td>\n",
              "      <td>880</td>\n",
              "      <td>1.760444</td>\n",
              "    </tr>\n",
              "    <tr>\n",
              "      <th>3</th>\n",
              "      <td>11</td>\n",
              "      <td>0</td>\n",
              "      <td>46</td>\n",
              "      <td>2</td>\n",
              "      <td>6</td>\n",
              "      <td>3500</td>\n",
              "      <td>1.783158</td>\n",
              "    </tr>\n",
              "    <tr>\n",
              "      <th>4</th>\n",
              "      <td>11</td>\n",
              "      <td>1</td>\n",
              "      <td>47</td>\n",
              "      <td>8</td>\n",
              "      <td>9</td>\n",
              "      <td>150</td>\n",
              "      <td>1.690631</td>\n",
              "    </tr>\n",
              "  </tbody>\n",
              "</table>\n",
              "</div>\n",
              "    <div class=\"colab-df-buttons\">\n",
              "\n",
              "  <div class=\"colab-df-container\">\n",
              "    <button class=\"colab-df-convert\" onclick=\"convertToInteractive('df-f6d40e74-caba-4481-8e20-c52cdf07cfcc')\"\n",
              "            title=\"Convert this dataframe to an interactive table.\"\n",
              "            style=\"display:none;\">\n",
              "\n",
              "  <svg xmlns=\"http://www.w3.org/2000/svg\" height=\"24px\" viewBox=\"0 -960 960 960\">\n",
              "    <path d=\"M120-120v-720h720v720H120Zm60-500h600v-160H180v160Zm220 220h160v-160H400v160Zm0 220h160v-160H400v160ZM180-400h160v-160H180v160Zm440 0h160v-160H620v160ZM180-180h160v-160H180v160Zm440 0h160v-160H620v160Z\"/>\n",
              "  </svg>\n",
              "    </button>\n",
              "\n",
              "  <style>\n",
              "    .colab-df-container {\n",
              "      display:flex;\n",
              "      gap: 12px;\n",
              "    }\n",
              "\n",
              "    .colab-df-convert {\n",
              "      background-color: #E8F0FE;\n",
              "      border: none;\n",
              "      border-radius: 50%;\n",
              "      cursor: pointer;\n",
              "      display: none;\n",
              "      fill: #1967D2;\n",
              "      height: 32px;\n",
              "      padding: 0 0 0 0;\n",
              "      width: 32px;\n",
              "    }\n",
              "\n",
              "    .colab-df-convert:hover {\n",
              "      background-color: #E2EBFA;\n",
              "      box-shadow: 0px 1px 2px rgba(60, 64, 67, 0.3), 0px 1px 3px 1px rgba(60, 64, 67, 0.15);\n",
              "      fill: #174EA6;\n",
              "    }\n",
              "\n",
              "    .colab-df-buttons div {\n",
              "      margin-bottom: 4px;\n",
              "    }\n",
              "\n",
              "    [theme=dark] .colab-df-convert {\n",
              "      background-color: #3B4455;\n",
              "      fill: #D2E3FC;\n",
              "    }\n",
              "\n",
              "    [theme=dark] .colab-df-convert:hover {\n",
              "      background-color: #434B5C;\n",
              "      box-shadow: 0px 1px 3px 1px rgba(0, 0, 0, 0.15);\n",
              "      filter: drop-shadow(0px 1px 2px rgba(0, 0, 0, 0.3));\n",
              "      fill: #FFFFFF;\n",
              "    }\n",
              "  </style>\n",
              "\n",
              "    <script>\n",
              "      const buttonEl =\n",
              "        document.querySelector('#df-f6d40e74-caba-4481-8e20-c52cdf07cfcc button.colab-df-convert');\n",
              "      buttonEl.style.display =\n",
              "        google.colab.kernel.accessAllowed ? 'block' : 'none';\n",
              "\n",
              "      async function convertToInteractive(key) {\n",
              "        const element = document.querySelector('#df-f6d40e74-caba-4481-8e20-c52cdf07cfcc');\n",
              "        const dataTable =\n",
              "          await google.colab.kernel.invokeFunction('convertToInteractive',\n",
              "                                                    [key], {});\n",
              "        if (!dataTable) return;\n",
              "\n",
              "        const docLinkHtml = 'Like what you see? Visit the ' +\n",
              "          '<a target=\"_blank\" href=https://colab.research.google.com/notebooks/data_table.ipynb>data table notebook</a>'\n",
              "          + ' to learn more about interactive tables.';\n",
              "        element.innerHTML = '';\n",
              "        dataTable['output_type'] = 'display_data';\n",
              "        await google.colab.output.renderOutput(dataTable, element);\n",
              "        const docLink = document.createElement('div');\n",
              "        docLink.innerHTML = docLinkHtml;\n",
              "        element.appendChild(docLink);\n",
              "      }\n",
              "    </script>\n",
              "  </div>\n",
              "\n",
              "\n",
              "    <div id=\"df-4a4f4582-c5a8-4b8e-a14f-433bf309ace8\">\n",
              "      <button class=\"colab-df-quickchart\" onclick=\"quickchart('df-4a4f4582-c5a8-4b8e-a14f-433bf309ace8')\"\n",
              "                title=\"Suggest charts\"\n",
              "                style=\"display:none;\">\n",
              "\n",
              "<svg xmlns=\"http://www.w3.org/2000/svg\" height=\"24px\"viewBox=\"0 0 24 24\"\n",
              "     width=\"24px\">\n",
              "    <g>\n",
              "        <path d=\"M19 3H5c-1.1 0-2 .9-2 2v14c0 1.1.9 2 2 2h14c1.1 0 2-.9 2-2V5c0-1.1-.9-2-2-2zM9 17H7v-7h2v7zm4 0h-2V7h2v10zm4 0h-2v-4h2v4z\"/>\n",
              "    </g>\n",
              "</svg>\n",
              "      </button>\n",
              "\n",
              "<style>\n",
              "  .colab-df-quickchart {\n",
              "      --bg-color: #E8F0FE;\n",
              "      --fill-color: #1967D2;\n",
              "      --hover-bg-color: #E2EBFA;\n",
              "      --hover-fill-color: #174EA6;\n",
              "      --disabled-fill-color: #AAA;\n",
              "      --disabled-bg-color: #DDD;\n",
              "  }\n",
              "\n",
              "  [theme=dark] .colab-df-quickchart {\n",
              "      --bg-color: #3B4455;\n",
              "      --fill-color: #D2E3FC;\n",
              "      --hover-bg-color: #434B5C;\n",
              "      --hover-fill-color: #FFFFFF;\n",
              "      --disabled-bg-color: #3B4455;\n",
              "      --disabled-fill-color: #666;\n",
              "  }\n",
              "\n",
              "  .colab-df-quickchart {\n",
              "    background-color: var(--bg-color);\n",
              "    border: none;\n",
              "    border-radius: 50%;\n",
              "    cursor: pointer;\n",
              "    display: none;\n",
              "    fill: var(--fill-color);\n",
              "    height: 32px;\n",
              "    padding: 0;\n",
              "    width: 32px;\n",
              "  }\n",
              "\n",
              "  .colab-df-quickchart:hover {\n",
              "    background-color: var(--hover-bg-color);\n",
              "    box-shadow: 0 1px 2px rgba(60, 64, 67, 0.3), 0 1px 3px 1px rgba(60, 64, 67, 0.15);\n",
              "    fill: var(--button-hover-fill-color);\n",
              "  }\n",
              "\n",
              "  .colab-df-quickchart-complete:disabled,\n",
              "  .colab-df-quickchart-complete:disabled:hover {\n",
              "    background-color: var(--disabled-bg-color);\n",
              "    fill: var(--disabled-fill-color);\n",
              "    box-shadow: none;\n",
              "  }\n",
              "\n",
              "  .colab-df-spinner {\n",
              "    border: 2px solid var(--fill-color);\n",
              "    border-color: transparent;\n",
              "    border-bottom-color: var(--fill-color);\n",
              "    animation:\n",
              "      spin 1s steps(1) infinite;\n",
              "  }\n",
              "\n",
              "  @keyframes spin {\n",
              "    0% {\n",
              "      border-color: transparent;\n",
              "      border-bottom-color: var(--fill-color);\n",
              "      border-left-color: var(--fill-color);\n",
              "    }\n",
              "    20% {\n",
              "      border-color: transparent;\n",
              "      border-left-color: var(--fill-color);\n",
              "      border-top-color: var(--fill-color);\n",
              "    }\n",
              "    30% {\n",
              "      border-color: transparent;\n",
              "      border-left-color: var(--fill-color);\n",
              "      border-top-color: var(--fill-color);\n",
              "      border-right-color: var(--fill-color);\n",
              "    }\n",
              "    40% {\n",
              "      border-color: transparent;\n",
              "      border-right-color: var(--fill-color);\n",
              "      border-top-color: var(--fill-color);\n",
              "    }\n",
              "    60% {\n",
              "      border-color: transparent;\n",
              "      border-right-color: var(--fill-color);\n",
              "    }\n",
              "    80% {\n",
              "      border-color: transparent;\n",
              "      border-right-color: var(--fill-color);\n",
              "      border-bottom-color: var(--fill-color);\n",
              "    }\n",
              "    90% {\n",
              "      border-color: transparent;\n",
              "      border-bottom-color: var(--fill-color);\n",
              "    }\n",
              "  }\n",
              "</style>\n",
              "\n",
              "      <script>\n",
              "        async function quickchart(key) {\n",
              "          const quickchartButtonEl =\n",
              "            document.querySelector('#' + key + ' button');\n",
              "          quickchartButtonEl.disabled = true;  // To prevent multiple clicks.\n",
              "          quickchartButtonEl.classList.add('colab-df-spinner');\n",
              "          try {\n",
              "            const charts = await google.colab.kernel.invokeFunction(\n",
              "                'suggestCharts', [key], {});\n",
              "          } catch (error) {\n",
              "            console.error('Error during call to suggestCharts:', error);\n",
              "          }\n",
              "          quickchartButtonEl.classList.remove('colab-df-spinner');\n",
              "          quickchartButtonEl.classList.add('colab-df-quickchart-complete');\n",
              "        }\n",
              "        (() => {\n",
              "          let quickchartButtonEl =\n",
              "            document.querySelector('#df-4a4f4582-c5a8-4b8e-a14f-433bf309ace8 button');\n",
              "          quickchartButtonEl.style.display =\n",
              "            google.colab.kernel.accessAllowed ? 'block' : 'none';\n",
              "        })();\n",
              "      </script>\n",
              "    </div>\n",
              "\n",
              "    </div>\n",
              "  </div>\n"
            ],
            "application/vnd.google.colaboratory.intrinsic+json": {
              "type": "dataframe",
              "variable_name": "datos",
              "summary": "{\n  \"name\": \"datos\",\n  \"rows\": 76840,\n  \"fields\": [\n    {\n      \"column\": \"Ciudad\",\n      \"properties\": {\n        \"dtype\": \"number\",\n        \"std\": 11,\n        \"min\": 11,\n        \"max\": 53,\n        \"num_unique_values\": 27,\n        \"samples\": [\n          22,\n          27,\n          23\n        ],\n        \"semantic_type\": \"\",\n        \"description\": \"\"\n      }\n    },\n    {\n      \"column\": \"Sexo\",\n      \"properties\": {\n        \"dtype\": \"number\",\n        \"std\": 0,\n        \"min\": 0,\n        \"max\": 1,\n        \"num_unique_values\": 2,\n        \"samples\": [\n          1,\n          0\n        ],\n        \"semantic_type\": \"\",\n        \"description\": \"\"\n      }\n    },\n    {\n      \"column\": \"Edad\",\n      \"properties\": {\n        \"dtype\": \"number\",\n        \"std\": 12,\n        \"min\": 13,\n        \"max\": 99,\n        \"num_unique_values\": 84,\n        \"samples\": [\n          88,\n          23\n        ],\n        \"semantic_type\": \"\",\n        \"description\": \"\"\n      }\n    },\n    {\n      \"column\": \"Color\",\n      \"properties\": {\n        \"dtype\": \"number\",\n        \"std\": 2,\n        \"min\": 0,\n        \"max\": 8,\n        \"num_unique_values\": 5,\n        \"samples\": [\n          2,\n          0\n        ],\n        \"semantic_type\": \"\",\n        \"description\": \"\"\n      }\n    },\n    {\n      \"column\": \"A\\u00f1os de Estudio\",\n      \"properties\": {\n        \"dtype\": \"number\",\n        \"std\": 4,\n        \"min\": 1,\n        \"max\": 17,\n        \"num_unique_values\": 17,\n        \"samples\": [\n          12,\n          15\n        ],\n        \"semantic_type\": \"\",\n        \"description\": \"\"\n      }\n    },\n    {\n      \"column\": \"Ingreso\",\n      \"properties\": {\n        \"dtype\": \"number\",\n        \"std\": 3323,\n        \"min\": 0,\n        \"max\": 200000,\n        \"num_unique_values\": 1606,\n        \"samples\": [\n          3279,\n          2456\n        ],\n        \"semantic_type\": \"\",\n        \"description\": \"\"\n      }\n    },\n    {\n      \"column\": \"Altura\",\n      \"properties\": {\n        \"dtype\": \"number\",\n        \"std\": 0.07971743006825309,\n        \"min\": 1.339244614,\n        \"max\": 2.028496765,\n        \"num_unique_values\": 76831,\n        \"samples\": [\n          1.616531581,\n          1.799777606\n        ],\n        \"semantic_type\": \"\",\n        \"description\": \"\"\n      }\n    }\n  ]\n}"
            }
          },
          "metadata": {},
          "execution_count": 399
        }
      ]
    },
    {
      "cell_type": "code",
      "source": [
        "datos.sample(10)"
      ],
      "metadata": {
        "colab": {
          "base_uri": "https://localhost:8080/",
          "height": 363
        },
        "id": "APNBww3pEr0S",
        "outputId": "5ff3b724-4412-4ac7-b695-e6359f85f54b"
      },
      "execution_count": 400,
      "outputs": [
        {
          "output_type": "execute_result",
          "data": {
            "text/plain": [
              "       Ciudad  Sexo  Edad  Color  Años de Estudio  Ingreso    Altura\n",
              "55948      41     1    31      2                5      800  1.674075\n",
              "29346      29     0    64      0               12     1000  1.644210\n",
              "24893      28     1    42      8               12     2100  1.737195\n",
              "28754      29     0    59      8                5      500  1.723480\n",
              "36026      31     0    48      8               13     3300  1.726668\n",
              "5425       15     0    37      2                9     1500  1.670495\n",
              "74326      52     1    44      8               15     1400  1.676006\n",
              "33802      31     0    33      8               12     1000  1.555494\n",
              "10421      17     0    29      8               12      850  1.814562\n",
              "48104      35     0    55      2                5      700  1.747268"
            ],
            "text/html": [
              "\n",
              "  <div id=\"df-93b08cab-b38e-41a4-a207-32f1df3304cc\" class=\"colab-df-container\">\n",
              "    <div>\n",
              "<style scoped>\n",
              "    .dataframe tbody tr th:only-of-type {\n",
              "        vertical-align: middle;\n",
              "    }\n",
              "\n",
              "    .dataframe tbody tr th {\n",
              "        vertical-align: top;\n",
              "    }\n",
              "\n",
              "    .dataframe thead th {\n",
              "        text-align: right;\n",
              "    }\n",
              "</style>\n",
              "<table border=\"1\" class=\"dataframe\">\n",
              "  <thead>\n",
              "    <tr style=\"text-align: right;\">\n",
              "      <th></th>\n",
              "      <th>Ciudad</th>\n",
              "      <th>Sexo</th>\n",
              "      <th>Edad</th>\n",
              "      <th>Color</th>\n",
              "      <th>Años de Estudio</th>\n",
              "      <th>Ingreso</th>\n",
              "      <th>Altura</th>\n",
              "    </tr>\n",
              "  </thead>\n",
              "  <tbody>\n",
              "    <tr>\n",
              "      <th>55948</th>\n",
              "      <td>41</td>\n",
              "      <td>1</td>\n",
              "      <td>31</td>\n",
              "      <td>2</td>\n",
              "      <td>5</td>\n",
              "      <td>800</td>\n",
              "      <td>1.674075</td>\n",
              "    </tr>\n",
              "    <tr>\n",
              "      <th>29346</th>\n",
              "      <td>29</td>\n",
              "      <td>0</td>\n",
              "      <td>64</td>\n",
              "      <td>0</td>\n",
              "      <td>12</td>\n",
              "      <td>1000</td>\n",
              "      <td>1.644210</td>\n",
              "    </tr>\n",
              "    <tr>\n",
              "      <th>24893</th>\n",
              "      <td>28</td>\n",
              "      <td>1</td>\n",
              "      <td>42</td>\n",
              "      <td>8</td>\n",
              "      <td>12</td>\n",
              "      <td>2100</td>\n",
              "      <td>1.737195</td>\n",
              "    </tr>\n",
              "    <tr>\n",
              "      <th>28754</th>\n",
              "      <td>29</td>\n",
              "      <td>0</td>\n",
              "      <td>59</td>\n",
              "      <td>8</td>\n",
              "      <td>5</td>\n",
              "      <td>500</td>\n",
              "      <td>1.723480</td>\n",
              "    </tr>\n",
              "    <tr>\n",
              "      <th>36026</th>\n",
              "      <td>31</td>\n",
              "      <td>0</td>\n",
              "      <td>48</td>\n",
              "      <td>8</td>\n",
              "      <td>13</td>\n",
              "      <td>3300</td>\n",
              "      <td>1.726668</td>\n",
              "    </tr>\n",
              "    <tr>\n",
              "      <th>5425</th>\n",
              "      <td>15</td>\n",
              "      <td>0</td>\n",
              "      <td>37</td>\n",
              "      <td>2</td>\n",
              "      <td>9</td>\n",
              "      <td>1500</td>\n",
              "      <td>1.670495</td>\n",
              "    </tr>\n",
              "    <tr>\n",
              "      <th>74326</th>\n",
              "      <td>52</td>\n",
              "      <td>1</td>\n",
              "      <td>44</td>\n",
              "      <td>8</td>\n",
              "      <td>15</td>\n",
              "      <td>1400</td>\n",
              "      <td>1.676006</td>\n",
              "    </tr>\n",
              "    <tr>\n",
              "      <th>33802</th>\n",
              "      <td>31</td>\n",
              "      <td>0</td>\n",
              "      <td>33</td>\n",
              "      <td>8</td>\n",
              "      <td>12</td>\n",
              "      <td>1000</td>\n",
              "      <td>1.555494</td>\n",
              "    </tr>\n",
              "    <tr>\n",
              "      <th>10421</th>\n",
              "      <td>17</td>\n",
              "      <td>0</td>\n",
              "      <td>29</td>\n",
              "      <td>8</td>\n",
              "      <td>12</td>\n",
              "      <td>850</td>\n",
              "      <td>1.814562</td>\n",
              "    </tr>\n",
              "    <tr>\n",
              "      <th>48104</th>\n",
              "      <td>35</td>\n",
              "      <td>0</td>\n",
              "      <td>55</td>\n",
              "      <td>2</td>\n",
              "      <td>5</td>\n",
              "      <td>700</td>\n",
              "      <td>1.747268</td>\n",
              "    </tr>\n",
              "  </tbody>\n",
              "</table>\n",
              "</div>\n",
              "    <div class=\"colab-df-buttons\">\n",
              "\n",
              "  <div class=\"colab-df-container\">\n",
              "    <button class=\"colab-df-convert\" onclick=\"convertToInteractive('df-93b08cab-b38e-41a4-a207-32f1df3304cc')\"\n",
              "            title=\"Convert this dataframe to an interactive table.\"\n",
              "            style=\"display:none;\">\n",
              "\n",
              "  <svg xmlns=\"http://www.w3.org/2000/svg\" height=\"24px\" viewBox=\"0 -960 960 960\">\n",
              "    <path d=\"M120-120v-720h720v720H120Zm60-500h600v-160H180v160Zm220 220h160v-160H400v160Zm0 220h160v-160H400v160ZM180-400h160v-160H180v160Zm440 0h160v-160H620v160ZM180-180h160v-160H180v160Zm440 0h160v-160H620v160Z\"/>\n",
              "  </svg>\n",
              "    </button>\n",
              "\n",
              "  <style>\n",
              "    .colab-df-container {\n",
              "      display:flex;\n",
              "      gap: 12px;\n",
              "    }\n",
              "\n",
              "    .colab-df-convert {\n",
              "      background-color: #E8F0FE;\n",
              "      border: none;\n",
              "      border-radius: 50%;\n",
              "      cursor: pointer;\n",
              "      display: none;\n",
              "      fill: #1967D2;\n",
              "      height: 32px;\n",
              "      padding: 0 0 0 0;\n",
              "      width: 32px;\n",
              "    }\n",
              "\n",
              "    .colab-df-convert:hover {\n",
              "      background-color: #E2EBFA;\n",
              "      box-shadow: 0px 1px 2px rgba(60, 64, 67, 0.3), 0px 1px 3px 1px rgba(60, 64, 67, 0.15);\n",
              "      fill: #174EA6;\n",
              "    }\n",
              "\n",
              "    .colab-df-buttons div {\n",
              "      margin-bottom: 4px;\n",
              "    }\n",
              "\n",
              "    [theme=dark] .colab-df-convert {\n",
              "      background-color: #3B4455;\n",
              "      fill: #D2E3FC;\n",
              "    }\n",
              "\n",
              "    [theme=dark] .colab-df-convert:hover {\n",
              "      background-color: #434B5C;\n",
              "      box-shadow: 0px 1px 3px 1px rgba(0, 0, 0, 0.15);\n",
              "      filter: drop-shadow(0px 1px 2px rgba(0, 0, 0, 0.3));\n",
              "      fill: #FFFFFF;\n",
              "    }\n",
              "  </style>\n",
              "\n",
              "    <script>\n",
              "      const buttonEl =\n",
              "        document.querySelector('#df-93b08cab-b38e-41a4-a207-32f1df3304cc button.colab-df-convert');\n",
              "      buttonEl.style.display =\n",
              "        google.colab.kernel.accessAllowed ? 'block' : 'none';\n",
              "\n",
              "      async function convertToInteractive(key) {\n",
              "        const element = document.querySelector('#df-93b08cab-b38e-41a4-a207-32f1df3304cc');\n",
              "        const dataTable =\n",
              "          await google.colab.kernel.invokeFunction('convertToInteractive',\n",
              "                                                    [key], {});\n",
              "        if (!dataTable) return;\n",
              "\n",
              "        const docLinkHtml = 'Like what you see? Visit the ' +\n",
              "          '<a target=\"_blank\" href=https://colab.research.google.com/notebooks/data_table.ipynb>data table notebook</a>'\n",
              "          + ' to learn more about interactive tables.';\n",
              "        element.innerHTML = '';\n",
              "        dataTable['output_type'] = 'display_data';\n",
              "        await google.colab.output.renderOutput(dataTable, element);\n",
              "        const docLink = document.createElement('div');\n",
              "        docLink.innerHTML = docLinkHtml;\n",
              "        element.appendChild(docLink);\n",
              "      }\n",
              "    </script>\n",
              "  </div>\n",
              "\n",
              "\n",
              "    <div id=\"df-88f3bca4-9f48-4a0b-b73d-7807b2a62e51\">\n",
              "      <button class=\"colab-df-quickchart\" onclick=\"quickchart('df-88f3bca4-9f48-4a0b-b73d-7807b2a62e51')\"\n",
              "                title=\"Suggest charts\"\n",
              "                style=\"display:none;\">\n",
              "\n",
              "<svg xmlns=\"http://www.w3.org/2000/svg\" height=\"24px\"viewBox=\"0 0 24 24\"\n",
              "     width=\"24px\">\n",
              "    <g>\n",
              "        <path d=\"M19 3H5c-1.1 0-2 .9-2 2v14c0 1.1.9 2 2 2h14c1.1 0 2-.9 2-2V5c0-1.1-.9-2-2-2zM9 17H7v-7h2v7zm4 0h-2V7h2v10zm4 0h-2v-4h2v4z\"/>\n",
              "    </g>\n",
              "</svg>\n",
              "      </button>\n",
              "\n",
              "<style>\n",
              "  .colab-df-quickchart {\n",
              "      --bg-color: #E8F0FE;\n",
              "      --fill-color: #1967D2;\n",
              "      --hover-bg-color: #E2EBFA;\n",
              "      --hover-fill-color: #174EA6;\n",
              "      --disabled-fill-color: #AAA;\n",
              "      --disabled-bg-color: #DDD;\n",
              "  }\n",
              "\n",
              "  [theme=dark] .colab-df-quickchart {\n",
              "      --bg-color: #3B4455;\n",
              "      --fill-color: #D2E3FC;\n",
              "      --hover-bg-color: #434B5C;\n",
              "      --hover-fill-color: #FFFFFF;\n",
              "      --disabled-bg-color: #3B4455;\n",
              "      --disabled-fill-color: #666;\n",
              "  }\n",
              "\n",
              "  .colab-df-quickchart {\n",
              "    background-color: var(--bg-color);\n",
              "    border: none;\n",
              "    border-radius: 50%;\n",
              "    cursor: pointer;\n",
              "    display: none;\n",
              "    fill: var(--fill-color);\n",
              "    height: 32px;\n",
              "    padding: 0;\n",
              "    width: 32px;\n",
              "  }\n",
              "\n",
              "  .colab-df-quickchart:hover {\n",
              "    background-color: var(--hover-bg-color);\n",
              "    box-shadow: 0 1px 2px rgba(60, 64, 67, 0.3), 0 1px 3px 1px rgba(60, 64, 67, 0.15);\n",
              "    fill: var(--button-hover-fill-color);\n",
              "  }\n",
              "\n",
              "  .colab-df-quickchart-complete:disabled,\n",
              "  .colab-df-quickchart-complete:disabled:hover {\n",
              "    background-color: var(--disabled-bg-color);\n",
              "    fill: var(--disabled-fill-color);\n",
              "    box-shadow: none;\n",
              "  }\n",
              "\n",
              "  .colab-df-spinner {\n",
              "    border: 2px solid var(--fill-color);\n",
              "    border-color: transparent;\n",
              "    border-bottom-color: var(--fill-color);\n",
              "    animation:\n",
              "      spin 1s steps(1) infinite;\n",
              "  }\n",
              "\n",
              "  @keyframes spin {\n",
              "    0% {\n",
              "      border-color: transparent;\n",
              "      border-bottom-color: var(--fill-color);\n",
              "      border-left-color: var(--fill-color);\n",
              "    }\n",
              "    20% {\n",
              "      border-color: transparent;\n",
              "      border-left-color: var(--fill-color);\n",
              "      border-top-color: var(--fill-color);\n",
              "    }\n",
              "    30% {\n",
              "      border-color: transparent;\n",
              "      border-left-color: var(--fill-color);\n",
              "      border-top-color: var(--fill-color);\n",
              "      border-right-color: var(--fill-color);\n",
              "    }\n",
              "    40% {\n",
              "      border-color: transparent;\n",
              "      border-right-color: var(--fill-color);\n",
              "      border-top-color: var(--fill-color);\n",
              "    }\n",
              "    60% {\n",
              "      border-color: transparent;\n",
              "      border-right-color: var(--fill-color);\n",
              "    }\n",
              "    80% {\n",
              "      border-color: transparent;\n",
              "      border-right-color: var(--fill-color);\n",
              "      border-bottom-color: var(--fill-color);\n",
              "    }\n",
              "    90% {\n",
              "      border-color: transparent;\n",
              "      border-bottom-color: var(--fill-color);\n",
              "    }\n",
              "  }\n",
              "</style>\n",
              "\n",
              "      <script>\n",
              "        async function quickchart(key) {\n",
              "          const quickchartButtonEl =\n",
              "            document.querySelector('#' + key + ' button');\n",
              "          quickchartButtonEl.disabled = true;  // To prevent multiple clicks.\n",
              "          quickchartButtonEl.classList.add('colab-df-spinner');\n",
              "          try {\n",
              "            const charts = await google.colab.kernel.invokeFunction(\n",
              "                'suggestCharts', [key], {});\n",
              "          } catch (error) {\n",
              "            console.error('Error during call to suggestCharts:', error);\n",
              "          }\n",
              "          quickchartButtonEl.classList.remove('colab-df-spinner');\n",
              "          quickchartButtonEl.classList.add('colab-df-quickchart-complete');\n",
              "        }\n",
              "        (() => {\n",
              "          let quickchartButtonEl =\n",
              "            document.querySelector('#df-88f3bca4-9f48-4a0b-b73d-7807b2a62e51 button');\n",
              "          quickchartButtonEl.style.display =\n",
              "            google.colab.kernel.accessAllowed ? 'block' : 'none';\n",
              "        })();\n",
              "      </script>\n",
              "    </div>\n",
              "\n",
              "    </div>\n",
              "  </div>\n"
            ],
            "application/vnd.google.colaboratory.intrinsic+json": {
              "type": "dataframe",
              "summary": "{\n  \"name\": \"datos\",\n  \"rows\": 10,\n  \"fields\": [\n    {\n      \"column\": \"Ciudad\",\n      \"properties\": {\n        \"dtype\": \"number\",\n        \"std\": 10,\n        \"min\": 15,\n        \"max\": 52,\n        \"num_unique_values\": 8,\n        \"samples\": [\n          29,\n          52,\n          41\n        ],\n        \"semantic_type\": \"\",\n        \"description\": \"\"\n      }\n    },\n    {\n      \"column\": \"Sexo\",\n      \"properties\": {\n        \"dtype\": \"number\",\n        \"std\": 0,\n        \"min\": 0,\n        \"max\": 1,\n        \"num_unique_values\": 2,\n        \"samples\": [\n          0,\n          1\n        ],\n        \"semantic_type\": \"\",\n        \"description\": \"\"\n      }\n    },\n    {\n      \"column\": \"Edad\",\n      \"properties\": {\n        \"dtype\": \"number\",\n        \"std\": 12,\n        \"min\": 29,\n        \"max\": 64,\n        \"num_unique_values\": 10,\n        \"samples\": [\n          29,\n          64\n        ],\n        \"semantic_type\": \"\",\n        \"description\": \"\"\n      }\n    },\n    {\n      \"column\": \"Color\",\n      \"properties\": {\n        \"dtype\": \"number\",\n        \"std\": 3,\n        \"min\": 0,\n        \"max\": 8,\n        \"num_unique_values\": 3,\n        \"samples\": [\n          2,\n          0\n        ],\n        \"semantic_type\": \"\",\n        \"description\": \"\"\n      }\n    },\n    {\n      \"column\": \"A\\u00f1os de Estudio\",\n      \"properties\": {\n        \"dtype\": \"number\",\n        \"std\": 3,\n        \"min\": 5,\n        \"max\": 15,\n        \"num_unique_values\": 5,\n        \"samples\": [\n          12,\n          15\n        ],\n        \"semantic_type\": \"\",\n        \"description\": \"\"\n      }\n    },\n    {\n      \"column\": \"Ingreso\",\n      \"properties\": {\n        \"dtype\": \"number\",\n        \"std\": 838,\n        \"min\": 500,\n        \"max\": 3300,\n        \"num_unique_values\": 9,\n        \"samples\": [\n          850,\n          1000\n        ],\n        \"semantic_type\": \"\",\n        \"description\": \"\"\n      }\n    },\n    {\n      \"column\": \"Altura\",\n      \"properties\": {\n        \"dtype\": \"number\",\n        \"std\": 0.0699399968219886,\n        \"min\": 1.555493529,\n        \"max\": 1.814562377,\n        \"num_unique_values\": 10,\n        \"samples\": [\n          1.814562377,\n          1.644210244\n        ],\n        \"semantic_type\": \"\",\n        \"description\": \"\"\n      }\n    }\n  ]\n}"
            }
          },
          "metadata": {},
          "execution_count": 400
        }
      ]
    },
    {
      "cell_type": "markdown",
      "metadata": {
        "id": "-z3bLQIUG3Hv"
      },
      "source": [
        "---\n",
        "---"
      ]
    },
    {
      "cell_type": "markdown",
      "metadata": {
        "id": "tL9xVLwTX07g"
      },
      "source": [
        "# <font color=green>2 DISTRIBUCIONES DE PROBABILIDAD</font>\n",
        "***"
      ]
    },
    {
      "cell_type": "markdown",
      "metadata": {
        "id": "3nlvC-5qG3Bj"
      },
      "source": [
        "## <font color=red>Problema</font>\n",
        "***"
      ]
    },
    {
      "cell_type": "markdown",
      "metadata": {
        "id": "8CclIz9oG3Bk"
      },
      "source": [
        "En una competencia para ocupar un puesto de científico de datos, tenemos un total de **10 preguntas** de opción múltiple con **3 alternativas posibles** en cada pregunta. **Cada pregunta tiene el mismo valor.** Suponga que un candidato decide aventurarse sin haber estudiado nada. Decide hacer la prueba con los ojos vendados y adivinar todas las respuestas. Suponiendo que la prueba **vale 10 puntos y la puntuación de corte es 5**, obtenga la probabilidad de que este candidato **acierte 5 preguntas** y también la probabilidad de que el candidato **pase a la siguiente etapa del proceso de selección**."
      ]
    },
    {
      "cell_type": "markdown",
      "metadata": {
        "id": "KJxd2KFSYLML"
      },
      "source": [
        "## <font color=green>2.1 Distribución Binomial</font>\n",
        "***"
      ]
    },
    {
      "cell_type": "markdown",
      "metadata": {
        "id": "mcbl3KbnG3Bq"
      },
      "source": [
        "Un evento **binomial** se caracteriza por la posibilidad de que solo ocurran dos categorías. Estas categorías juntas representan todo el espacio muestral, siendo también mutuamente excluyentes, es decir, la ocurrencia de una implica la no ocurrencia de la otra.\n",
        "\n",
        "En el análisis estadístico, el uso más común de la distribución binomial es para resolver problemas que involucran situaciones de **éxito** y **fracaso**."
      ]
    },
    {
      "cell_type": "markdown",
      "metadata": {
        "id": "iLoYAuJ9G3Bs"
      },
      "source": [
        "# $$P(k)=\\binom{n}{k} p^k q^{n-k}$$\n",
        "\n",
        "Donde:\n",
        "\n",
        "$p$ = probabilidad de éxito\n",
        "\n",
        "$q = (1 - p)$ = probabilidad de fracaso\n",
        "\n",
        "$n$ = número de eventos estudiados\n",
        "\n",
        "$k$ = número de eventos deseados que tienen éxito"
      ]
    },
    {
      "cell_type": "markdown",
      "metadata": {
        "id": "PxEgWbFdG3Bt"
      },
      "source": [
        "### Experimento Binomial"
      ]
    },
    {
      "cell_type": "markdown",
      "metadata": {
        "id": "eqQK3Ny-G3Bv"
      },
      "source": [
        "1. Realización de $n$ pruebas idénticas.\n",
        "\n",
        "2. Las pruebas son independientes.\n",
        "\n",
        "3. Solo son posibles dos resultados, por ejemplo: Verdadero o falso; Cara o cruz; Éxito o fracaso.\n",
        "\n",
        "4. La probabilidad de éxito está representada por $p$ y la probabilidad de fracaso por $1-p = q$. Estas probabilidades no cambian de una prueba para otra."
      ]
    },
    {
      "cell_type": "markdown",
      "metadata": {
        "id": "mT77udQ0G3Bx"
      },
      "source": [
        "### Media de la distribución binomial"
      ]
    },
    {
      "cell_type": "markdown",
      "metadata": {
        "id": "EGiuemgqG3By"
      },
      "source": [
        "El valor esperado o la media de la distribución binomial es igual al número de experimentos realizados multiplicado por la probabilidad de que ocurra el evento.\n",
        "\n",
        "# $$\\mu = n \\times p$$"
      ]
    },
    {
      "cell_type": "markdown",
      "metadata": {
        "id": "1fDLi96OG3Bz"
      },
      "source": [
        "### Desviación estándar de la distribución binomial"
      ]
    },
    {
      "cell_type": "markdown",
      "metadata": {
        "id": "EZojizotG3B1"
      },
      "source": [
        "La desviación estándar es la raíz quadrada del producto entre el número de experimentos, la probabilidad de éxito y la probabilidad de fracaso.\n",
        "\n",
        "# $$\\sigma = \\sqrt{n \\times p \\times q}$$"
      ]
    },
    {
      "cell_type": "markdown",
      "metadata": {
        "id": "udqnjFnsG3B2"
      },
      "source": [
        "### Importando bibliotecas\n",
        "https://docs.scipy.org/doc/scipy/reference/generated/scipy.special.comb.html"
      ]
    },
    {
      "cell_type": "code",
      "metadata": {
        "id": "-U2sGssNG3B4"
      },
      "source": [
        "from scipy.special import comb"
      ],
      "execution_count": 401,
      "outputs": []
    },
    {
      "cell_type": "code",
      "source": [],
      "metadata": {
        "id": "bDgXZArIyvDO"
      },
      "execution_count": 401,
      "outputs": []
    },
    {
      "cell_type": "markdown",
      "metadata": {
        "id": "MxxuJNSwG3B7"
      },
      "source": [
        "### Combinaciones\n",
        "\n",
        "El número de combinaciones de $n$ objetos, tomando $k$ cada vez, es:\n",
        "\n",
        "# $$C_{k}^{n} = \\binom{n}{k} = \\frac{n!}{k!(n - k)!}$$\n",
        "\n",
        "Donde\n",
        "\n",
        "## $$n! = n\\times(n-1)\\times(n-2)\\times...\\times(2)\\times(1)$$\n",
        "## $$k! = k\\times(k-1)\\times(k-2)\\times...\\times(2)\\times(1)$$\n",
        "\n",
        "Por definición\n",
        "\n",
        "## $$0! = 1$$"
      ]
    },
    {
      "cell_type": "markdown",
      "metadata": {
        "id": "Udz87Pq3G3B8"
      },
      "source": [
        "## <font color='blue'>Ejemplo: Mega Sena</font>"
      ]
    },
    {
      "cell_type": "markdown",
      "metadata": {
        "id": "h1Mo9AxyG3B8"
      },
      "source": [
        "En una rueda de lotería Mega Sena tenemos un total de **60 números** para elegir, donde la apuesta mínima es de **seis números**. Usted que es curioso(a) decide calcular la probabilidad de ganar la Mega Sena con solo **un juego**. Para eso necesitamos saber cuántas **combinaciones de seis números se pueden formar con los 60 números disponibles**.\n",
        "\n",
        "### $$C_{6}^{60} = \\binom{60}{6} = \\frac{60!}{6!(60 - 6)!}$$"
      ]
    },
    {
      "cell_type": "code",
      "metadata": {
        "id": "c2t7yHl7G3B9",
        "colab": {
          "base_uri": "https://localhost:8080/"
        },
        "outputId": "be7f7a0e-49ec-40d4-c8e0-a127b50b7550"
      },
      "source": [
        "combinaciones_1 = comb(60,6)\n",
        "combinaciones_1"
      ],
      "execution_count": 402,
      "outputs": [
        {
          "output_type": "execute_result",
          "data": {
            "text/plain": [
              "np.float64(50063860.0)"
            ]
          },
          "metadata": {},
          "execution_count": 402
        }
      ]
    },
    {
      "cell_type": "code",
      "metadata": {
        "id": "LpioeTSXG3CB",
        "colab": {
          "base_uri": "https://localhost:8080/"
        },
        "outputId": "4042de5e-6418-4c2c-f572-ea35ebcef204"
      },
      "source": [
        "probabilidad_1 = 1/combinaciones_1\n",
        "print('%0.15f' % probabilidad_1)"
      ],
      "execution_count": 403,
      "outputs": [
        {
          "output_type": "stream",
          "name": "stdout",
          "text": [
            "0.000000019974489\n"
          ]
        }
      ]
    },
    {
      "cell_type": "markdown",
      "source": [
        "Supongamos que acabamos de crear un juego de lotería llamado Exposición de Premios de Alura. En este nuevo juego, el que apuesta marca 20 números, de los 25 disponibles en el boleto, y puede ganar hasta 1 millón de pesos.\n",
        "\n",
        "Determine el número de combinaciones posibles (espacio muestral) y la probabilidad de ganar el premio jugando solo un boleto (considere sólo quince lugares decimales)."
      ],
      "metadata": {
        "id": "CK9Z-nMl1OXR"
      }
    },
    {
      "cell_type": "code",
      "source": [
        "combinaciones_2 = comb(25,20)\n",
        "combinaciones_2"
      ],
      "metadata": {
        "id": "oa-rbYPs1RsX",
        "colab": {
          "base_uri": "https://localhost:8080/"
        },
        "outputId": "81f3018f-eb1b-4534-952f-a2084def19b4"
      },
      "execution_count": 404,
      "outputs": [
        {
          "output_type": "execute_result",
          "data": {
            "text/plain": [
              "np.float64(53130.0)"
            ]
          },
          "metadata": {},
          "execution_count": 404
        }
      ]
    },
    {
      "cell_type": "code",
      "source": [
        "probabilidad_2 = 1/combinaciones_2\n",
        "print('%0.15f' % probabilidad_2)"
      ],
      "metadata": {
        "id": "iiCsgQn_1c62",
        "colab": {
          "base_uri": "https://localhost:8080/"
        },
        "outputId": "e7f70495-7332-4299-dc92-f3b541d84c24"
      },
      "execution_count": 405,
      "outputs": [
        {
          "output_type": "stream",
          "name": "stdout",
          "text": [
            "0.000018821757952\n"
          ]
        }
      ]
    },
    {
      "cell_type": "markdown",
      "metadata": {
        "id": "t1rA1yJpG3CF"
      },
      "source": [
        "## <font color='blue'>Ejemplo: Concurso para científico de datos</font>"
      ]
    },
    {
      "cell_type": "markdown",
      "metadata": {
        "id": "K0DPDD37G3CG"
      },
      "source": [
        "En una competencia para ocupar un puesto de científico de datos, tenemos un total de **10 preguntas** de opción múltiple con **3 alternativas posibles** en cada pregunta. **Cada pregunta tiene el mismo valor.** Suponga que un candidato decide aventurarse sin haber estudiado nada. Decide tomar la prueba con los ojos vendados y adivinar todas las respuestas. Suponiendo que la prueba **vale 10 puntos y la puntuación de corte es 5**, obtenga la probabilidad de que este candidato **acierte 5 preguntas** y también la probabilidad de que el candidato **pase a la siguiente etapa del proceso de selección**."
      ]
    },
    {
      "cell_type": "markdown",
      "source": [
        "Identificar características:<br>\n",
        "\n",
        "1. Realización de pruebas idénticas\n",
        "- Realización de n pruebas idénticas: SI. Cada pregunta  (10 en total) es un experimento y cada pregunta es idéntica.\n",
        "2. Las pruebas son independientes: SI. Por que la primera pregunta no tiene nada que ver con la segunda y la 2da nada que ver con la 3ra y así sucesivamente. En cada pregunta va a intentar adivinar aleatoriamente la pregunta.\n",
        "3. Solo son posibles dos resultados, por ejemplo: Verdadero o falso; Cara o cruz; Éxito o fracaso. SI. Cada pregunta tienen tress opciones, pero el candidato solo tiene dos, adivinar o errar.\n",
        "4. La probabilidad de éxito está representada por  p  y la probabilidad de fracaso por  1−p=q . Estas probabilidades no cambian de una prueba para otra."
      ],
      "metadata": {
        "id": "XOTL_aSd3qNg"
      }
    },
    {
      "cell_type": "markdown",
      "metadata": {
        "id": "sf-NMPfxG3CH"
      },
      "source": [
        "### ¿Cuál es la cantidad de pruebas ($n$)?"
      ]
    },
    {
      "cell_type": "code",
      "metadata": {
        "id": "WmnjMTnYG3CH"
      },
      "source": [
        "n=10"
      ],
      "execution_count": 406,
      "outputs": []
    },
    {
      "cell_type": "markdown",
      "metadata": {
        "id": "1USf9Ro8G3CK"
      },
      "source": [
        "### ¿Las pruebas son independientes?"
      ]
    },
    {
      "cell_type": "markdown",
      "metadata": {
        "id": "82xf2XIkG3CM"
      },
      "source": [
        "Sí. La opción elegida en una pregunta no influye en la opción elegida en otra pregunta."
      ]
    },
    {
      "cell_type": "markdown",
      "metadata": {
        "id": "7jN0H5e7G3CN"
      },
      "source": [
        "### ¿Sólo dos resultados son posibles en cada prueba?"
      ]
    },
    {
      "cell_type": "markdown",
      "metadata": {
        "id": "gGxcY7K8G3CO"
      },
      "source": [
        "Sí. El candidato tiene dos posibilidades, ACERTAR o FALLAR una pregunta."
      ]
    },
    {
      "cell_type": "markdown",
      "metadata": {
        "id": "MZw2LDQjG3CR"
      },
      "source": [
        "### ¿Cuál es la probabilidad de éxito ($p$)?"
      ]
    },
    {
      "cell_type": "code",
      "metadata": {
        "id": "AazGDtt0G3CS",
        "colab": {
          "base_uri": "https://localhost:8080/"
        },
        "outputId": "9d25e57d-c7b4-4231-d3e7-7ac8da92963a"
      },
      "source": [
        "numero_de_alternativas_por_pregunta = 3\n",
        "p = 1/numero_de_alternativas_por_pregunta\n",
        "p"
      ],
      "execution_count": 407,
      "outputs": [
        {
          "output_type": "execute_result",
          "data": {
            "text/plain": [
              "0.3333333333333333"
            ]
          },
          "metadata": {},
          "execution_count": 407
        }
      ]
    },
    {
      "cell_type": "markdown",
      "metadata": {
        "id": "KPCw41OlG3CX"
      },
      "source": [
        "### ¿Cuál es la probabilidad de fracaso ($q$)?"
      ]
    },
    {
      "cell_type": "code",
      "metadata": {
        "id": "FRhmjCnpG3CZ",
        "colab": {
          "base_uri": "https://localhost:8080/"
        },
        "outputId": "44a2858a-70d1-4e70-b394-1bb1373c22fb"
      },
      "source": [
        "q = 1-p\n",
        "q"
      ],
      "execution_count": 408,
      "outputs": [
        {
          "output_type": "execute_result",
          "data": {
            "text/plain": [
              "0.6666666666666667"
            ]
          },
          "metadata": {},
          "execution_count": 408
        }
      ]
    },
    {
      "cell_type": "markdown",
      "metadata": {
        "id": "W2htpmzaG3Ce"
      },
      "source": [
        "### ¿Cuál es el número total de eventos para tener éxito ($k$)?"
      ]
    },
    {
      "cell_type": "code",
      "metadata": {
        "id": "MmHpiIIuG3Cj"
      },
      "source": [
        "k=5"
      ],
      "execution_count": 409,
      "outputs": []
    },
    {
      "cell_type": "markdown",
      "metadata": {
        "id": "r8TZ6DSuG3Cm"
      },
      "source": [
        "### Solución 1"
      ]
    },
    {
      "cell_type": "code",
      "metadata": {
        "id": "tZBbMIzKG3Cn",
        "colab": {
          "base_uri": "https://localhost:8080/"
        },
        "outputId": "3aff7e70-0f7b-4912-a76e-2470a99f8ccd"
      },
      "source": [
        "probabilidad_3 = (comb(10,5)*(p**k)*(q**(n-k)))\n",
        "\n",
        "print(f'La probabilidad es {probabilidad_3:.5} %')"
      ],
      "execution_count": 410,
      "outputs": [
        {
          "output_type": "stream",
          "name": "stdout",
          "text": [
            "La probabilidad es 0.13656 %\n"
          ]
        }
      ]
    },
    {
      "cell_type": "markdown",
      "metadata": {
        "id": "rDwUvW5UG3Cq"
      },
      "source": [
        "### Importando bibliotecas\n",
        "https://docs.scipy.org/doc/scipy/reference/generated/scipy.stats.binom.html"
      ]
    },
    {
      "cell_type": "code",
      "metadata": {
        "id": "rhlsI3iLG3Cr"
      },
      "source": [
        "from scipy.stats import binom"
      ],
      "execution_count": 411,
      "outputs": []
    },
    {
      "cell_type": "markdown",
      "metadata": {
        "id": "hvj2sYaSG3Ct"
      },
      "source": [
        "### Solución 2"
      ]
    },
    {
      "cell_type": "code",
      "metadata": {
        "id": "OjS1xsz5G3Cu",
        "colab": {
          "base_uri": "https://localhost:8080/"
        },
        "outputId": "fc35ec8f-2510-4b31-b18c-e5350cf0ae56"
      },
      "source": [
        "probabilidad_4=binom.pmf(k,n,p)\n",
        "print(f'La probabilidad es {probabilidad_4:.5} %')"
      ],
      "execution_count": 412,
      "outputs": [
        {
          "output_type": "stream",
          "name": "stdout",
          "text": [
            "La probabilidad es 0.13656 %\n"
          ]
        }
      ]
    },
    {
      "cell_type": "markdown",
      "metadata": {
        "id": "fT3vvRYGVeBG"
      },
      "source": [
        "### Obtenga la probabilidad de que el candidato apruebe\n",
        "\n",
        "sabemos que aprueba tanto si obtiene 5 preguntas correctas, como si obtiene 6 ó 7 u 8 ó 9 ó 10.<br>\n",
        "Entonces debemos calcular cada una de las probabilidades en cada obtener 5 ó 6 ó 7 ó 8 ó 9 ó 10 preguntas y luego sumarlas, essta manera es la mass trabajossa, pero la mas intuitiva."
      ]
    },
    {
      "cell_type": "markdown",
      "metadata": {
        "id": "SOiiR_XYVeBH"
      },
      "source": [
        "### $$P(acertar \\geq 5) = P(5) + P(6) + P(7) + P(8) + P(9) + P(10)$$"
      ]
    },
    {
      "cell_type": "code",
      "metadata": {
        "id": "MbBQB9JkVeBH",
        "colab": {
          "base_uri": "https://localhost:8080/"
        },
        "outputId": "164fc534-d955-435b-aa3a-436a2a65c569"
      },
      "source": [
        "binom.pmf(5,n,p)+binom.pmf(6,n,p)+binom.pmf(7,n,p)+binom.pmf(8,n,p)+binom.pmf(9,n,p)+binom.pmf(10,n,p)"
      ],
      "execution_count": 413,
      "outputs": [
        {
          "output_type": "execute_result",
          "data": {
            "text/plain": [
              "np.float64(0.21312808006909476)"
            ]
          },
          "metadata": {},
          "execution_count": 413
        }
      ]
    },
    {
      "cell_type": "markdown",
      "source": [
        "Existe un opción. Usar listas"
      ],
      "metadata": {
        "id": "Ua64sG8gEPJO"
      }
    },
    {
      "cell_type": "code",
      "metadata": {
        "id": "JcCrf3dpVeBI",
        "colab": {
          "base_uri": "https://localhost:8080/"
        },
        "outputId": "fb629fe6-9b70-4edf-fd18-d57a520f12d4"
      },
      "source": [
        "binom.pmf([5,6,7,8,9,10],n,p)"
      ],
      "execution_count": 414,
      "outputs": [
        {
          "output_type": "execute_result",
          "data": {
            "text/plain": [
              "array([1.36564548e-01, 5.69018950e-02, 1.62576843e-02, 3.04831581e-03,\n",
              "       3.38701756e-04, 1.69350878e-05])"
            ]
          },
          "metadata": {},
          "execution_count": 414
        }
      ]
    },
    {
      "cell_type": "code",
      "metadata": {
        "id": "iiZjUp8_VeBJ",
        "colab": {
          "base_uri": "https://localhost:8080/"
        },
        "outputId": "f8eb4980-2a8c-4f70-e096-13a7ef00662d"
      },
      "source": [
        "binom.pmf([5,6,7,8,9,10],n,p).sum()"
      ],
      "execution_count": 415,
      "outputs": [
        {
          "output_type": "execute_result",
          "data": {
            "text/plain": [
              "np.float64(0.21312808006909476)"
            ]
          },
          "metadata": {},
          "execution_count": 415
        }
      ]
    },
    {
      "cell_type": "markdown",
      "source": [
        "Función acumulativa.<br>\n",
        "Voy a calcular la probabilidad de acertar 0,1,2,3 y 4 preguntas. E la probabilidad de acertar 4 preguntas, que al restar a 1, me va a dar la probabilidad de acertar a 5 y mas preguntas. O ea, 1-probabilidad de acertar 4."
      ],
      "metadata": {
        "id": "c4O_Zr8QE9GF"
      }
    },
    {
      "cell_type": "code",
      "source": [
        "1-binom.cdf(4,n,p)"
      ],
      "metadata": {
        "colab": {
          "base_uri": "https://localhost:8080/"
        },
        "id": "I8HxTNjNE8zf",
        "outputId": "0468e91e-348f-441e-efbe-a0d10c566653"
      },
      "execution_count": 416,
      "outputs": [
        {
          "output_type": "execute_result",
          "data": {
            "text/plain": [
              "np.float64(0.21312808006909523)"
            ]
          },
          "metadata": {},
          "execution_count": 416
        }
      ]
    },
    {
      "cell_type": "markdown",
      "source": [
        "Existe una función que permite calcular 1 - probabilidad"
      ],
      "metadata": {
        "id": "oD90np28GMlP"
      }
    },
    {
      "cell_type": "code",
      "source": [
        "binom.sf(4,n,p)"
      ],
      "metadata": {
        "colab": {
          "base_uri": "https://localhost:8080/"
        },
        "id": "em2Vm1ZTGVfI",
        "outputId": "4b290bed-dc78-4ba9-a421-e470363559f1"
      },
      "execution_count": 417,
      "outputs": [
        {
          "output_type": "execute_result",
          "data": {
            "text/plain": [
              "np.float64(0.21312808006909525)"
            ]
          },
          "metadata": {},
          "execution_count": 417
        }
      ]
    },
    {
      "cell_type": "markdown",
      "source": [],
      "metadata": {
        "id": "KJjR-C3VHyxt"
      }
    },
    {
      "cell_type": "markdown",
      "source": [
        "Pregunta 1: Una moneda perfectamente equilibrada se lanza al aire cuatro veces. Usando la distribución binomial, obtenga la probabilidad de que la moneda caiga con la cruz hacia arriba dos veces."
      ],
      "metadata": {
        "id": "fh9SsPh7HqaA"
      }
    },
    {
      "cell_type": "code",
      "metadata": {
        "id": "r-hkg9l4VeBK",
        "colab": {
          "base_uri": "https://localhost:8080/"
        },
        "outputId": "de74201a-69a5-4f1b-82ef-c6052669f565"
      },
      "source": [
        "# Parámetros del experimento\n",
        "n = 4       # número de lanzamientos\n",
        "k = 2       # número de veces que queremos cruz\n",
        "p = 0.5     # probabilidad de cruz (moneda equilibrada)\n",
        "\n",
        "# Calcular la probabilidad usando la función de masa de probabilidad\n",
        "probabilidad = binom.pmf(k, n, p)\n",
        "\n",
        "# Mostrar resultado\n",
        "print(f\"La probabilidad de obtener exactamente 2 cruces es: {probabilidad:.4f}\")"
      ],
      "execution_count": 418,
      "outputs": [
        {
          "output_type": "stream",
          "name": "stdout",
          "text": [
            "La probabilidad de obtener exactamente 2 cruces es: 0.3750\n"
          ]
        }
      ]
    },
    {
      "cell_type": "markdown",
      "source": [
        "Pregunta 2: Un dado perfectamente equilibrado se lanza hacia arriba diez veces. Usando la distribución binomial, obtenga la probabilidad de que los dados caigan con el número cinco hacia arriba al menos tres veces."
      ],
      "metadata": {
        "id": "BEXrJvlnIBQp"
      }
    },
    {
      "cell_type": "code",
      "source": [
        "from scipy.stats import binom\n",
        "\n",
        "p = 1 / 6   # Probabilidad de salir el número CINCO\n",
        "n = 10      # Total de lanzamientos\n",
        "\n",
        "print(f'{binom.sf(2, n, p):.2%}')\n",
        "# Mostrar resultado\n",
        "# print(f\"La probabilidad de lanzar 10 veces una dado al aire y obtener 5, tres veces: {probabilidad:.4f}\")"
      ],
      "metadata": {
        "colab": {
          "base_uri": "https://localhost:8080/"
        },
        "id": "4OQgfJCHIHmH",
        "outputId": "d635d3f6-a37a-4452-91eb-e95d40e8c7b0"
      },
      "execution_count": 419,
      "outputs": [
        {
          "output_type": "stream",
          "name": "stdout",
          "text": [
            "22.48%\n"
          ]
        }
      ]
    },
    {
      "cell_type": "markdown",
      "metadata": {
        "id": "7hAZ4XkMG3Cx"
      },
      "source": [
        "## <font color='blue'>Ejemplo: Yincana</font>"
      ]
    },
    {
      "cell_type": "markdown",
      "metadata": {
        "id": "l42alRhOG3Cy"
      },
      "source": [
        "Una ciudad del interior realiza una yincana cada año para recaudar fondos para el hospital de la ciudad. En la última competencia se sabe que la **proporción de mujeres participantes fue del 60%**. **El número total de equipos, con 12 miembros, inscritos en la yincana de este año es 30**. Con la información anterior, responda: ¿Cuántos equipos deberían estar formados por **8 mujeres**?"
      ]
    },
    {
      "cell_type": "code",
      "source": [
        "n"
      ],
      "metadata": {
        "colab": {
          "base_uri": "https://localhost:8080/"
        },
        "id": "JTuz8mMZJoSx",
        "outputId": "c6ea2f57-eeef-4a38-cab5-c5f7310a1ad4"
      },
      "execution_count": 420,
      "outputs": [
        {
          "output_type": "execute_result",
          "data": {
            "text/plain": [
              "10"
            ]
          },
          "metadata": {},
          "execution_count": 420
        }
      ]
    },
    {
      "cell_type": "markdown",
      "metadata": {
        "id": "dqBGf6d7G3C0"
      },
      "source": [
        "### Entendiendo el problema\n",
        "i tuviera un saco de personas, voy a seleccionar 12 para formar un equipo\n",
        "\n",
        "### Solución\n",
        "Se divide el problema en dos partes.<br>\n",
        "1ro Descubrir cuál es la probailidad de un equipo esté formado por 8 mujeres y 4 hombres.<br>\n",
        "2do Calculamos, cuántos de los 30 equipos están conformados por 8 mujeres en media.\n",
        "\n",
        "\n",
        "---\n",
        "\n"
      ]
    },
    {
      "cell_type": "code",
      "metadata": {
        "id": "Xw9b6ch3G3C1"
      },
      "source": [
        "p=0.6 #La probabilidad de seleccionar una mujer es de 60%"
      ],
      "execution_count": 421,
      "outputs": []
    },
    {
      "cell_type": "code",
      "metadata": {
        "id": "R3-RaxP5G3C3"
      },
      "source": [
        "n=12 # La cantidad de peronas en el equipo."
      ],
      "execution_count": 422,
      "outputs": []
    },
    {
      "cell_type": "code",
      "metadata": {
        "id": "otBHHyD0G3C6"
      },
      "source": [
        "k=8 # La cantidad de mujeres en un equipo"
      ],
      "execution_count": 423,
      "outputs": []
    },
    {
      "cell_type": "code",
      "metadata": {
        "id": "Tg53uGL4G3DA",
        "colab": {
          "base_uri": "https://localhost:8080/"
        },
        "outputId": "9a5ba4aa-09dc-41a5-e901-f1e9fdb2ae8e"
      },
      "source": [
        "probabilidad_5=binom.pmf(k,n,p) #probabilida de tener 8 mujeres en cada equipo\n",
        "print(f'La probabilidad es {probabilidad_5:.5} %')"
      ],
      "execution_count": 424,
      "outputs": [
        {
          "output_type": "stream",
          "name": "stdout",
          "text": [
            "La probabilidad es 0.21284 %\n"
          ]
        }
      ]
    },
    {
      "cell_type": "markdown",
      "source": [
        "Ahora queremos saber, cuántos de los 30 equipos que van ser seleccionados, estarán conformados con esta distribución de 8 mujeres y 4 hombres. <br>\n",
        "Aquí n pasa a ser 30<br> Para esto vamos a utilizar la media de la distribución binominal."
      ],
      "metadata": {
        "id": "NDlECu_ULyQZ"
      }
    },
    {
      "cell_type": "code",
      "metadata": {
        "id": "ZAoBvbQqG3C9",
        "colab": {
          "base_uri": "https://localhost:8080/"
        },
        "outputId": "0fa66366-a844-482c-85af-de119e9363d4"
      },
      "source": [
        "equipos=30*probabilidad_5\n",
        "equipos"
      ],
      "execution_count": 425,
      "outputs": [
        {
          "output_type": "execute_result",
          "data": {
            "text/plain": [
              "np.float64(6.3852281856)"
            ]
          },
          "metadata": {},
          "execution_count": 425
        }
      ]
    },
    {
      "cell_type": "markdown",
      "source": [
        "Suponga que la probabilidad de que una pareja tenga hijos con ojos azules es del 22%. En 50 familias, con 3 hijos cada una, ¿cuántas podemos esperar que tengan dos hijos con ojos azules?"
      ],
      "metadata": {
        "id": "r64PXk6qNA6S"
      }
    },
    {
      "cell_type": "code",
      "source": [
        "# Parámetros\n",
        "n = 3           # Hijos por familia\n",
        "k = 2           # Hijos con ojos azules\n",
        "p = 0.22        # Probabilidad de ojos azules\n",
        "familias = 50   # Número de familias\n",
        "\n",
        "# Probabilidad de exactamente 2 hijos con ojos azules en una familia\n",
        "probabilidad = binom.pmf(k, n, p)\n",
        "\n",
        "# Número esperado de familias con 2 hijos con ojos azules\n",
        "esperado = familias * probabilidad\n",
        "\n",
        "print(f\"Probabilidad de 2 hijos con ojos azules en una familia: {probabilidad:.15f}\")\n",
        "print(f\"Familias esperadas con ese resultado: {esperado:.2f}\")"
      ],
      "metadata": {
        "colab": {
          "base_uri": "https://localhost:8080/"
        },
        "id": "1E8gTaicNDFD",
        "outputId": "a9e9d83c-4bee-4a8c-e7c2-1610dd192c9d"
      },
      "execution_count": 426,
      "outputs": [
        {
          "output_type": "stream",
          "name": "stdout",
          "text": [
            "Probabilidad de 2 hijos con ojos azules en una familia: 0.113256000000000\n",
            "Familias esperadas con ese resultado: 5.66\n"
          ]
        }
      ]
    },
    {
      "cell_type": "markdown",
      "metadata": {
        "id": "49TiCQRvG3DC"
      },
      "source": [
        "---\n",
        "---"
      ]
    },
    {
      "cell_type": "markdown",
      "metadata": {
        "id": "X6bYonAZG3DE"
      },
      "source": [
        "## <font color=red>Problema</font>\n",
        "***"
      ]
    },
    {
      "cell_type": "markdown",
      "metadata": {
        "id": "Ccx-Bc9oG3DH"
      },
      "source": [
        "Un restaurante recibe un promedio de **20 pedidos por hora**. ¿Cuál es la probabilidad de que, en un momento determinado al azar, el restaurante reciba **15 pedidos**?"
      ]
    },
    {
      "cell_type": "markdown",
      "metadata": {
        "id": "k-uV7bgsmand"
      },
      "source": [
        "## <font color=green>2.2 Distribución Poisson</font>\n",
        "***"
      ]
    },
    {
      "cell_type": "markdown",
      "metadata": {
        "id": "H0jPtJICG3DM"
      },
      "source": [
        "Se utiliza para describir el número de ocurrencias en un tiempo o espacio específico. Los eventos se caracterizan por la posibilidad de contar los éxitos, pero no poder contar los fracasos.\n",
        "\n",
        "Como ejemplos de procesos donde podemos aplicar la distribución de Poisson tenemos la determinación del número de clientes que ingresan a una tienda en un momento determinado, el número de autos que llegan a un Auto-servicio de una cafetería a la hora del almuerzo, la determinación del número de accidentes registrados en un tramo de carretera, etc."
      ]
    },
    {
      "cell_type": "markdown",
      "metadata": {
        "id": "O_XqwANJG3DN"
      },
      "source": [
        "# $$P(k) = \\frac{e^{-\\mu}(\\mu)^k}{k!}$$\n",
        "\n",
        "Donde:\n",
        "\n",
        "$e$ = constante cuyo valor aproximado es 2.718281828459045\n",
        "\n",
        "$\\mu$ = representa el número promedio de ocurrencias en un intervalo de tiempo o espacio dado\n",
        "\n",
        "$k$ = número de éxitos en el intervalo deseado"
      ]
    },
    {
      "cell_type": "markdown",
      "metadata": {
        "id": "FqquU8wOG3DO"
      },
      "source": [
        "### Experimento Poisson"
      ]
    },
    {
      "cell_type": "markdown",
      "metadata": {
        "id": "ir2odEW3G3DO"
      },
      "source": [
        "1. La probabilidad de que ocurra es la misma en todo el intervalo observado.\n",
        "\n",
        "2. El número de ocurrencias en un intervalo dado es independiente del número de ocurrencias en otros intervalos.\n",
        "\n",
        "3. La probabilidad de que ocurra es la misma en intervalos de igual longitud."
      ]
    },
    {
      "cell_type": "markdown",
      "metadata": {
        "id": "2INlWMa0G3DP"
      },
      "source": [
        "### Media de la distribución Poisson"
      ]
    },
    {
      "cell_type": "markdown",
      "metadata": {
        "id": "xywTsniCG3DP"
      },
      "source": [
        "# $$\\mu$$"
      ]
    },
    {
      "cell_type": "markdown",
      "metadata": {
        "id": "7-Lh-LpfG3DQ"
      },
      "source": [
        "### Desviación estándar de la distribución Poisson"
      ]
    },
    {
      "cell_type": "markdown",
      "metadata": {
        "id": "61uStWUsG3DQ"
      },
      "source": [
        "# $$\\sigma = \\sqrt{\\mu}$$"
      ]
    },
    {
      "cell_type": "markdown",
      "metadata": {
        "id": "vniBmzIMG3DR"
      },
      "source": [
        "### Importando bibliotecas\n",
        "\n",
        "http://www.numpy.org/"
      ]
    },
    {
      "cell_type": "code",
      "metadata": {
        "id": "w23fjVT-G3DS"
      },
      "source": [
        "import numpy as np"
      ],
      "execution_count": 427,
      "outputs": []
    },
    {
      "cell_type": "code",
      "metadata": {
        "id": "rdNqMuFNG3DU",
        "colab": {
          "base_uri": "https://localhost:8080/"
        },
        "outputId": "c8d520e2-4915-4f83-9265-dc02b50653c9"
      },
      "source": [
        "np.e #constante de euler"
      ],
      "execution_count": 428,
      "outputs": [
        {
          "output_type": "execute_result",
          "data": {
            "text/plain": [
              "2.718281828459045"
            ]
          },
          "metadata": {},
          "execution_count": 428
        }
      ]
    },
    {
      "cell_type": "markdown",
      "metadata": {
        "id": "RKQWuVgMG3DW"
      },
      "source": [
        "## <font color='blue'>Ejemplo: Delivery</font>"
      ]
    },
    {
      "cell_type": "markdown",
      "metadata": {
        "id": "ZKc__49bG3DX"
      },
      "source": [
        "Un restaurante recibe un promedio de **20 pedidos por hora**. ¿Cuál es la probabilidad de que, en un momento determinado al azar, el restaurante reciba **15 pedidos**?"
      ]
    },
    {
      "cell_type": "markdown",
      "metadata": {
        "id": "W-MJ4XBkG3DX"
      },
      "source": [
        "### ¿Cuál es el número promedio de ocurrencias por hora ($\\mu$)?"
      ]
    },
    {
      "cell_type": "code",
      "metadata": {
        "id": "2fVfJxdSG3DY"
      },
      "source": [
        "# Cantidad de éxitos, donde éxito=pedido\n",
        "media=20 # 20 pedidos por hora"
      ],
      "execution_count": 429,
      "outputs": []
    },
    {
      "cell_type": "markdown",
      "metadata": {
        "id": "3SagRtPvG3Da"
      },
      "source": [
        "### ¿Qué número de ocurrencias queremos obtener en el período ($k$)?"
      ]
    },
    {
      "cell_type": "code",
      "metadata": {
        "id": "yXB3QhWyG3Da"
      },
      "source": [
        "k=15 # éxitos"
      ],
      "execution_count": 430,
      "outputs": []
    },
    {
      "cell_type": "markdown",
      "metadata": {
        "id": "3wFh3lFCG3De"
      },
      "source": [
        "\n",
        "\n",
        "```\n",
        "# Esto tiene formato de código\n",
        "```\n",
        "\n",
        "### Solución 1 MANUAL"
      ]
    },
    {
      "cell_type": "code",
      "source": [
        "import numpy as np\n"
      ],
      "metadata": {
        "id": "MsvOC4eMR9jN"
      },
      "execution_count": 431,
      "outputs": []
    },
    {
      "cell_type": "code",
      "metadata": {
        "id": "IEGO31WCG3Df",
        "colab": {
          "base_uri": "https://localhost:8080/"
        },
        "outputId": "dc50ba01-97d9-4bb8-f700-b7dd017e9e83"
      },
      "source": [
        "# probabilidad_6= ((np.e**(-media))*(media**k))/np.math.factorial(k)\n",
        "# print(f'La probabilidad es {probabilidad_6:.8} %')\n",
        "import numpy as np\n",
        "import math\n",
        "\n",
        "media = 3.5  # ejemplo\n",
        "k = 2        # número de eventos\n",
        "\n",
        "probabilidad_6 = ((np.e ** (-media)) * (media ** k)) / math.factorial(k)\n",
        "print(f'La probabilidad es {probabilidad_6:.8%}')"
      ],
      "execution_count": 432,
      "outputs": [
        {
          "output_type": "stream",
          "name": "stdout",
          "text": [
            "La probabilidad es 18.49589735%\n"
          ]
        }
      ]
    },
    {
      "cell_type": "markdown",
      "metadata": {
        "id": "GoIBvH62G3Di"
      },
      "source": [
        "### Importando bibliotecas"
      ]
    },
    {
      "cell_type": "markdown",
      "metadata": {
        "id": "iFSF_9Y4G3Dj"
      },
      "source": [
        "https://docs.scipy.org/doc/scipy/reference/generated/scipy.stats.poisson.html"
      ]
    },
    {
      "cell_type": "markdown",
      "metadata": {
        "id": "yAyXh0euG3Dk"
      },
      "source": [
        "### Solución 2 UTILIZANDO RECURSOS DE PYTHON"
      ]
    },
    {
      "cell_type": "code",
      "metadata": {
        "id": "sNw4oCAyG3Dk"
      },
      "source": [
        "from scipy.stats import poisson"
      ],
      "execution_count": 433,
      "outputs": []
    },
    {
      "cell_type": "code",
      "source": [
        "probabilidad = poisson.pmf(k,media)\n",
        "print(f'La probabilidad es {probabilidad:.8} %')"
      ],
      "metadata": {
        "colab": {
          "base_uri": "https://localhost:8080/"
        },
        "id": "EXZwL2RycVo6",
        "outputId": "c8127c9b-15c7-455c-9f09-3c4f7249cee8"
      },
      "execution_count": 434,
      "outputs": [
        {
          "output_type": "stream",
          "name": "stdout",
          "text": [
            "La probabilidad es 0.18495897 %\n"
          ]
        }
      ]
    },
    {
      "cell_type": "code",
      "source": [
        "# El número media de clientes que ingresan a una panadería por hora es 20.\n",
        "# Obtenga la probabilidad de que, en la próxima hora, ingresen exactamente 25 clientes."
      ],
      "metadata": {
        "id": "R-jqCsO2eIrS"
      },
      "execution_count": 435,
      "outputs": []
    },
    {
      "cell_type": "code",
      "source": [
        "from scipy.stats import poisson\n",
        "\n",
        "# Parámetros\n",
        "media = 20   # promedio de clientes por hora\n",
        "k = 25       # número exacto de clientes que queremos calcular\n",
        "\n",
        "# Probabilidad de exactamente 25 clientes en una hora\n",
        "probabilidad = poisson.pmf(k, media)\n",
        "\n",
        "# Mostrar resultado con 8 decimales\n",
        "print(f\"La probabilidad de que ingresen exactamente 25 clientes es: {probabilidad:.8f}\")"
      ],
      "metadata": {
        "colab": {
          "base_uri": "https://localhost:8080/"
        },
        "id": "cefX_Pr9eOOO",
        "outputId": "36192439-668d-40be-cf64-bc8da8d974fe"
      },
      "execution_count": 436,
      "outputs": [
        {
          "output_type": "stream",
          "name": "stdout",
          "text": [
            "La probabilidad de que ingresen exactamente 25 clientes es: 0.04458765\n"
          ]
        }
      ]
    },
    {
      "cell_type": "markdown",
      "metadata": {
        "id": "g3ng8tQFG3Do"
      },
      "source": [
        "---\n",
        "---"
      ]
    },
    {
      "cell_type": "markdown",
      "metadata": {
        "id": "tVPUT9kEG3Dp"
      },
      "source": [
        "## <font color=red>Problema</font>\n",
        "***"
      ]
    },
    {
      "cell_type": "markdown",
      "metadata": {
        "id": "j7zVDN0kG3Dq"
      },
      "source": [
        "En un estudio sobre la altura de los residentes de una ciudad, se encontró que el conjunto de datos sigue una **distribución aproximadamente normal**, con **media 1.70** y **desviación estándar de 0.1**. Con esta información, obtenga el siguiente conjunto de probabilidades:\n",
        "\n",
        "> **A.** probabilidad de que una persona, seleccionada al azar, sea menor de 1.80 metros.\n",
        "\n",
        "> **B.** probabilidad de que una persona, seleccionada al azar, tenga entre 1.60 metros y 1.80 metros.\n",
        "\n",
        "> **C.** probabilidad de que una persona, seleccionada al azar, tenga más de 1.90 metros.\n"
      ]
    },
    {
      "cell_type": "markdown",
      "metadata": {
        "id": "AowcVaKqpvf2"
      },
      "source": [
        "## <font color=green>2.3 Distribución Normal</font>\n",
        "***"
      ]
    },
    {
      "cell_type": "markdown",
      "metadata": {
        "id": "YOBD21hGG3Dw"
      },
      "source": [
        "La distribución normal es una de las más utilizadas en estadística. Es una distribución continua, donde la distribución de frecuencias de una variable cuantitativa tiene forma de campana y es simétrica en relación con su media."
      ]
    },
    {
      "cell_type": "markdown",
      "metadata": {
        "id": "kbPy2ORqqKJA"
      },
      "source": [
        "<img src='https://caelum-online-public.s3.amazonaws.com/ESP-1764-estadistica-con-python-probabilidad-y-muestreo/img001.png' width='500px'>"
      ]
    },
    {
      "cell_type": "markdown",
      "metadata": {
        "id": "J3eKESHTG3Dx"
      },
      "source": [
        "### Características importantes"
      ]
    },
    {
      "cell_type": "markdown",
      "metadata": {
        "id": "z8GxAzWZG3Dx"
      },
      "source": [
        "1. Es simétrica alrededor de la media;\n",
        "\n",
        "2. El área bajo la curva corresponde a la proporción 1 o 100%;\n",
        "\n",
        "3. Las medidas de tendencia central (media, mediana y moda) tienen el mismo valor;\n",
        "\n",
        "4. Los extremos de la curva tienden al infinito en ambas direcciones y, teóricamente, nunca tocan el eje $x$;\n",
        "\n",
        "5. La desviación estándar define la planitud y el ancho de la distribución. Las curvas más anchas y planas tienen valores de desviación estándar más altos;\n",
        "\n",
        "6. La distribución se define por su media y desviación estándar;\n",
        "\n",
        "7. La probabilidad siempre será igual al área bajo la curva, delimitada por los límites superior e inferior."
      ]
    },
    {
      "cell_type": "markdown",
      "metadata": {
        "id": "hoWLlOiwG3Dy"
      },
      "source": [
        "# $$f(x) = \\frac{1}{\\sqrt{2\\pi\\sigma}}e^{-\\frac{1}{2}\\left(\\frac{x-\\mu}{\\sigma}\\right)^2}$$\n",
        "\n",
        "Donde:\n",
        "\n",
        "$x$ = variable normal\n",
        "\n",
        "$\\sigma$ = desviación estándar\n",
        "\n",
        "$\\mu$ = media"
      ]
    },
    {
      "cell_type": "markdown",
      "metadata": {
        "id": "8n03Z0VlG3Dz"
      },
      "source": [
        "La probabilidad se obtiene del área bajo la curva, delimitada por los límites superior e inferior especificados. Se puede ver un ejemplo en la figura siguiente."
      ]
    },
    {
      "cell_type": "markdown",
      "metadata": {
        "id": "X1UgmFoxG3Dz"
      },
      "source": [
        "<img src='https://caelum-online-public.s3.amazonaws.com/ESP-1764-estadistica-con-python-probabilidad-y-muestreo/img002.png' width='500px'>\n"
      ]
    },
    {
      "cell_type": "markdown",
      "metadata": {
        "id": "rtKiApHLG3D0"
      },
      "source": [
        "Para obtener el área anterior, simplemente calcule la integral de la función para los intervalos determinados. Según la siguiente ecuación:"
      ]
    },
    {
      "cell_type": "markdown",
      "metadata": {
        "id": "0r_9CbSOG3D0"
      },
      "source": [
        "# $$P(L_i<x<L_s) = \\int_{L_i}^{L_s}\\frac{1}{\\sqrt{2\\pi\\sigma}}e^{-\\frac{1}{2}\\left(\\frac{x-\\mu}{\\sigma}\\right)^2}$$\n",
        "\n",
        "Donde:\n",
        "\n",
        "$x$ = variable normal\n",
        "\n",
        "$\\sigma$ = desviación estándar\n",
        "\n",
        "$\\mu$ = media\n",
        "\n",
        "$L_i$ = límite inferior\n",
        "\n",
        "$L_s$ = límite superior"
      ]
    },
    {
      "cell_type": "markdown",
      "metadata": {
        "id": "qP-Ye-leG3D1"
      },
      "source": [
        "### Tablas estandarizadas"
      ]
    },
    {
      "cell_type": "markdown",
      "metadata": {
        "id": "Z1VnLK11G3D1"
      },
      "source": [
        "Se crearon tablas estandarizadas para facilitar la obtención de los valores de las áreas bajo la curva normal y eliminar la necesidad de resolver integrales definidas.\n",
        "\n",
        "Para ver los valores en una tabla estandarizada, simplemente transforme nuestra variable en una variable estandarizada $Z$.\n",
        "\n",
        "Esta variable $Z$ representa la desviación en las desviaciones estándar de un valor de la variable original en relación con la media."
      ]
    },
    {
      "cell_type": "markdown",
      "metadata": {
        "id": "HJcdgdsgG3D2"
      },
      "source": [
        "# $$Z = \\frac{x-\\mu}{\\sigma}$$\n",
        "\n",
        "Donde:\n",
        "\n",
        "$x$ = variable normal con media $\\mu$ y desviación estándar $\\sigma$\n",
        "\n",
        "$\\sigma$ = desviación estándar\n",
        "\n",
        "$\\mu$ = media"
      ]
    },
    {
      "cell_type": "markdown",
      "metadata": {
        "id": "hUrVKJH3G3D2"
      },
      "source": [
        "### Construyendo la tabla normal estandarizada\n",
        "https://docs.scipy.org/doc/scipy/reference/generated/scipy.stats.norm.html"
      ]
    },
    {
      "cell_type": "code",
      "metadata": {
        "colab": {
          "base_uri": "https://localhost:8080/",
          "height": 1000
        },
        "id": "7SudUNlcG3D4",
        "outputId": "38fd2265-7ac3-48be-9650-b2045271fe24"
      },
      "source": [
        "import pandas as pd\n",
        "import numpy as np\n",
        "from scipy.stats import norm\n",
        "\n",
        "tabla_normal_estandarizada = pd.DataFrame(\n",
        "    [],\n",
        "    index=[\"{0:0.2f}\".format(i / 100) for i in range(0, 400, 10)],\n",
        "    columns = [\"{0:0.2f}\".format(i / 100) for i in range(0, 10)])\n",
        "\n",
        "for index in tabla_normal_estandarizada.index:\n",
        "    for column in tabla_normal_estandarizada.columns:\n",
        "        Z = np.round(float(index) + float(column), 2)\n",
        "        tabla_normal_estandarizada.loc[index, column] = \"{0:0.4f}\".format(norm.cdf(Z))\n",
        "\n",
        "tabla_normal_estandarizada.rename_axis('Z', axis = 'columns', inplace = True)\n",
        "\n",
        "tabla_normal_estandarizada"
      ],
      "execution_count": 437,
      "outputs": [
        {
          "output_type": "execute_result",
          "data": {
            "text/plain": [
              "Z       0.00    0.01    0.02    0.03    0.04    0.05    0.06    0.07    0.08  \\\n",
              "0.00  0.5000  0.5040  0.5080  0.5120  0.5160  0.5199  0.5239  0.5279  0.5319   \n",
              "0.10  0.5398  0.5438  0.5478  0.5517  0.5557  0.5596  0.5636  0.5675  0.5714   \n",
              "0.20  0.5793  0.5832  0.5871  0.5910  0.5948  0.5987  0.6026  0.6064  0.6103   \n",
              "0.30  0.6179  0.6217  0.6255  0.6293  0.6331  0.6368  0.6406  0.6443  0.6480   \n",
              "0.40  0.6554  0.6591  0.6628  0.6664  0.6700  0.6736  0.6772  0.6808  0.6844   \n",
              "0.50  0.6915  0.6950  0.6985  0.7019  0.7054  0.7088  0.7123  0.7157  0.7190   \n",
              "0.60  0.7257  0.7291  0.7324  0.7357  0.7389  0.7422  0.7454  0.7486  0.7517   \n",
              "0.70  0.7580  0.7611  0.7642  0.7673  0.7704  0.7734  0.7764  0.7794  0.7823   \n",
              "0.80  0.7881  0.7910  0.7939  0.7967  0.7995  0.8023  0.8051  0.8078  0.8106   \n",
              "0.90  0.8159  0.8186  0.8212  0.8238  0.8264  0.8289  0.8315  0.8340  0.8365   \n",
              "1.00  0.8413  0.8438  0.8461  0.8485  0.8508  0.8531  0.8554  0.8577  0.8599   \n",
              "1.10  0.8643  0.8665  0.8686  0.8708  0.8729  0.8749  0.8770  0.8790  0.8810   \n",
              "1.20  0.8849  0.8869  0.8888  0.8907  0.8925  0.8944  0.8962  0.8980  0.8997   \n",
              "1.30  0.9032  0.9049  0.9066  0.9082  0.9099  0.9115  0.9131  0.9147  0.9162   \n",
              "1.40  0.9192  0.9207  0.9222  0.9236  0.9251  0.9265  0.9279  0.9292  0.9306   \n",
              "1.50  0.9332  0.9345  0.9357  0.9370  0.9382  0.9394  0.9406  0.9418  0.9429   \n",
              "1.60  0.9452  0.9463  0.9474  0.9484  0.9495  0.9505  0.9515  0.9525  0.9535   \n",
              "1.70  0.9554  0.9564  0.9573  0.9582  0.9591  0.9599  0.9608  0.9616  0.9625   \n",
              "1.80  0.9641  0.9649  0.9656  0.9664  0.9671  0.9678  0.9686  0.9693  0.9699   \n",
              "1.90  0.9713  0.9719  0.9726  0.9732  0.9738  0.9744  0.9750  0.9756  0.9761   \n",
              "2.00  0.9772  0.9778  0.9783  0.9788  0.9793  0.9798  0.9803  0.9808  0.9812   \n",
              "2.10  0.9821  0.9826  0.9830  0.9834  0.9838  0.9842  0.9846  0.9850  0.9854   \n",
              "2.20  0.9861  0.9864  0.9868  0.9871  0.9875  0.9878  0.9881  0.9884  0.9887   \n",
              "2.30  0.9893  0.9896  0.9898  0.9901  0.9904  0.9906  0.9909  0.9911  0.9913   \n",
              "2.40  0.9918  0.9920  0.9922  0.9925  0.9927  0.9929  0.9931  0.9932  0.9934   \n",
              "2.50  0.9938  0.9940  0.9941  0.9943  0.9945  0.9946  0.9948  0.9949  0.9951   \n",
              "2.60  0.9953  0.9955  0.9956  0.9957  0.9959  0.9960  0.9961  0.9962  0.9963   \n",
              "2.70  0.9965  0.9966  0.9967  0.9968  0.9969  0.9970  0.9971  0.9972  0.9973   \n",
              "2.80  0.9974  0.9975  0.9976  0.9977  0.9977  0.9978  0.9979  0.9979  0.9980   \n",
              "2.90  0.9981  0.9982  0.9982  0.9983  0.9984  0.9984  0.9985  0.9985  0.9986   \n",
              "3.00  0.9987  0.9987  0.9987  0.9988  0.9988  0.9989  0.9989  0.9989  0.9990   \n",
              "3.10  0.9990  0.9991  0.9991  0.9991  0.9992  0.9992  0.9992  0.9992  0.9993   \n",
              "3.20  0.9993  0.9993  0.9994  0.9994  0.9994  0.9994  0.9994  0.9995  0.9995   \n",
              "3.30  0.9995  0.9995  0.9995  0.9996  0.9996  0.9996  0.9996  0.9996  0.9996   \n",
              "3.40  0.9997  0.9997  0.9997  0.9997  0.9997  0.9997  0.9997  0.9997  0.9997   \n",
              "3.50  0.9998  0.9998  0.9998  0.9998  0.9998  0.9998  0.9998  0.9998  0.9998   \n",
              "3.60  0.9998  0.9998  0.9999  0.9999  0.9999  0.9999  0.9999  0.9999  0.9999   \n",
              "3.70  0.9999  0.9999  0.9999  0.9999  0.9999  0.9999  0.9999  0.9999  0.9999   \n",
              "3.80  0.9999  0.9999  0.9999  0.9999  0.9999  0.9999  0.9999  0.9999  0.9999   \n",
              "3.90  1.0000  1.0000  1.0000  1.0000  1.0000  1.0000  1.0000  1.0000  1.0000   \n",
              "\n",
              "Z       0.09  \n",
              "0.00  0.5359  \n",
              "0.10  0.5753  \n",
              "0.20  0.6141  \n",
              "0.30  0.6517  \n",
              "0.40  0.6879  \n",
              "0.50  0.7224  \n",
              "0.60  0.7549  \n",
              "0.70  0.7852  \n",
              "0.80  0.8133  \n",
              "0.90  0.8389  \n",
              "1.00  0.8621  \n",
              "1.10  0.8830  \n",
              "1.20  0.9015  \n",
              "1.30  0.9177  \n",
              "1.40  0.9319  \n",
              "1.50  0.9441  \n",
              "1.60  0.9545  \n",
              "1.70  0.9633  \n",
              "1.80  0.9706  \n",
              "1.90  0.9767  \n",
              "2.00  0.9817  \n",
              "2.10  0.9857  \n",
              "2.20  0.9890  \n",
              "2.30  0.9916  \n",
              "2.40  0.9936  \n",
              "2.50  0.9952  \n",
              "2.60  0.9964  \n",
              "2.70  0.9974  \n",
              "2.80  0.9981  \n",
              "2.90  0.9986  \n",
              "3.00  0.9990  \n",
              "3.10  0.9993  \n",
              "3.20  0.9995  \n",
              "3.30  0.9997  \n",
              "3.40  0.9998  \n",
              "3.50  0.9998  \n",
              "3.60  0.9999  \n",
              "3.70  0.9999  \n",
              "3.80  0.9999  \n",
              "3.90  1.0000  "
            ],
            "text/html": [
              "\n",
              "  <div id=\"df-d7447ff8-b81c-4c84-8224-96573cbbce82\" class=\"colab-df-container\">\n",
              "    <div>\n",
              "<style scoped>\n",
              "    .dataframe tbody tr th:only-of-type {\n",
              "        vertical-align: middle;\n",
              "    }\n",
              "\n",
              "    .dataframe tbody tr th {\n",
              "        vertical-align: top;\n",
              "    }\n",
              "\n",
              "    .dataframe thead th {\n",
              "        text-align: right;\n",
              "    }\n",
              "</style>\n",
              "<table border=\"1\" class=\"dataframe\">\n",
              "  <thead>\n",
              "    <tr style=\"text-align: right;\">\n",
              "      <th>Z</th>\n",
              "      <th>0.00</th>\n",
              "      <th>0.01</th>\n",
              "      <th>0.02</th>\n",
              "      <th>0.03</th>\n",
              "      <th>0.04</th>\n",
              "      <th>0.05</th>\n",
              "      <th>0.06</th>\n",
              "      <th>0.07</th>\n",
              "      <th>0.08</th>\n",
              "      <th>0.09</th>\n",
              "    </tr>\n",
              "  </thead>\n",
              "  <tbody>\n",
              "    <tr>\n",
              "      <th>0.00</th>\n",
              "      <td>0.5000</td>\n",
              "      <td>0.5040</td>\n",
              "      <td>0.5080</td>\n",
              "      <td>0.5120</td>\n",
              "      <td>0.5160</td>\n",
              "      <td>0.5199</td>\n",
              "      <td>0.5239</td>\n",
              "      <td>0.5279</td>\n",
              "      <td>0.5319</td>\n",
              "      <td>0.5359</td>\n",
              "    </tr>\n",
              "    <tr>\n",
              "      <th>0.10</th>\n",
              "      <td>0.5398</td>\n",
              "      <td>0.5438</td>\n",
              "      <td>0.5478</td>\n",
              "      <td>0.5517</td>\n",
              "      <td>0.5557</td>\n",
              "      <td>0.5596</td>\n",
              "      <td>0.5636</td>\n",
              "      <td>0.5675</td>\n",
              "      <td>0.5714</td>\n",
              "      <td>0.5753</td>\n",
              "    </tr>\n",
              "    <tr>\n",
              "      <th>0.20</th>\n",
              "      <td>0.5793</td>\n",
              "      <td>0.5832</td>\n",
              "      <td>0.5871</td>\n",
              "      <td>0.5910</td>\n",
              "      <td>0.5948</td>\n",
              "      <td>0.5987</td>\n",
              "      <td>0.6026</td>\n",
              "      <td>0.6064</td>\n",
              "      <td>0.6103</td>\n",
              "      <td>0.6141</td>\n",
              "    </tr>\n",
              "    <tr>\n",
              "      <th>0.30</th>\n",
              "      <td>0.6179</td>\n",
              "      <td>0.6217</td>\n",
              "      <td>0.6255</td>\n",
              "      <td>0.6293</td>\n",
              "      <td>0.6331</td>\n",
              "      <td>0.6368</td>\n",
              "      <td>0.6406</td>\n",
              "      <td>0.6443</td>\n",
              "      <td>0.6480</td>\n",
              "      <td>0.6517</td>\n",
              "    </tr>\n",
              "    <tr>\n",
              "      <th>0.40</th>\n",
              "      <td>0.6554</td>\n",
              "      <td>0.6591</td>\n",
              "      <td>0.6628</td>\n",
              "      <td>0.6664</td>\n",
              "      <td>0.6700</td>\n",
              "      <td>0.6736</td>\n",
              "      <td>0.6772</td>\n",
              "      <td>0.6808</td>\n",
              "      <td>0.6844</td>\n",
              "      <td>0.6879</td>\n",
              "    </tr>\n",
              "    <tr>\n",
              "      <th>0.50</th>\n",
              "      <td>0.6915</td>\n",
              "      <td>0.6950</td>\n",
              "      <td>0.6985</td>\n",
              "      <td>0.7019</td>\n",
              "      <td>0.7054</td>\n",
              "      <td>0.7088</td>\n",
              "      <td>0.7123</td>\n",
              "      <td>0.7157</td>\n",
              "      <td>0.7190</td>\n",
              "      <td>0.7224</td>\n",
              "    </tr>\n",
              "    <tr>\n",
              "      <th>0.60</th>\n",
              "      <td>0.7257</td>\n",
              "      <td>0.7291</td>\n",
              "      <td>0.7324</td>\n",
              "      <td>0.7357</td>\n",
              "      <td>0.7389</td>\n",
              "      <td>0.7422</td>\n",
              "      <td>0.7454</td>\n",
              "      <td>0.7486</td>\n",
              "      <td>0.7517</td>\n",
              "      <td>0.7549</td>\n",
              "    </tr>\n",
              "    <tr>\n",
              "      <th>0.70</th>\n",
              "      <td>0.7580</td>\n",
              "      <td>0.7611</td>\n",
              "      <td>0.7642</td>\n",
              "      <td>0.7673</td>\n",
              "      <td>0.7704</td>\n",
              "      <td>0.7734</td>\n",
              "      <td>0.7764</td>\n",
              "      <td>0.7794</td>\n",
              "      <td>0.7823</td>\n",
              "      <td>0.7852</td>\n",
              "    </tr>\n",
              "    <tr>\n",
              "      <th>0.80</th>\n",
              "      <td>0.7881</td>\n",
              "      <td>0.7910</td>\n",
              "      <td>0.7939</td>\n",
              "      <td>0.7967</td>\n",
              "      <td>0.7995</td>\n",
              "      <td>0.8023</td>\n",
              "      <td>0.8051</td>\n",
              "      <td>0.8078</td>\n",
              "      <td>0.8106</td>\n",
              "      <td>0.8133</td>\n",
              "    </tr>\n",
              "    <tr>\n",
              "      <th>0.90</th>\n",
              "      <td>0.8159</td>\n",
              "      <td>0.8186</td>\n",
              "      <td>0.8212</td>\n",
              "      <td>0.8238</td>\n",
              "      <td>0.8264</td>\n",
              "      <td>0.8289</td>\n",
              "      <td>0.8315</td>\n",
              "      <td>0.8340</td>\n",
              "      <td>0.8365</td>\n",
              "      <td>0.8389</td>\n",
              "    </tr>\n",
              "    <tr>\n",
              "      <th>1.00</th>\n",
              "      <td>0.8413</td>\n",
              "      <td>0.8438</td>\n",
              "      <td>0.8461</td>\n",
              "      <td>0.8485</td>\n",
              "      <td>0.8508</td>\n",
              "      <td>0.8531</td>\n",
              "      <td>0.8554</td>\n",
              "      <td>0.8577</td>\n",
              "      <td>0.8599</td>\n",
              "      <td>0.8621</td>\n",
              "    </tr>\n",
              "    <tr>\n",
              "      <th>1.10</th>\n",
              "      <td>0.8643</td>\n",
              "      <td>0.8665</td>\n",
              "      <td>0.8686</td>\n",
              "      <td>0.8708</td>\n",
              "      <td>0.8729</td>\n",
              "      <td>0.8749</td>\n",
              "      <td>0.8770</td>\n",
              "      <td>0.8790</td>\n",
              "      <td>0.8810</td>\n",
              "      <td>0.8830</td>\n",
              "    </tr>\n",
              "    <tr>\n",
              "      <th>1.20</th>\n",
              "      <td>0.8849</td>\n",
              "      <td>0.8869</td>\n",
              "      <td>0.8888</td>\n",
              "      <td>0.8907</td>\n",
              "      <td>0.8925</td>\n",
              "      <td>0.8944</td>\n",
              "      <td>0.8962</td>\n",
              "      <td>0.8980</td>\n",
              "      <td>0.8997</td>\n",
              "      <td>0.9015</td>\n",
              "    </tr>\n",
              "    <tr>\n",
              "      <th>1.30</th>\n",
              "      <td>0.9032</td>\n",
              "      <td>0.9049</td>\n",
              "      <td>0.9066</td>\n",
              "      <td>0.9082</td>\n",
              "      <td>0.9099</td>\n",
              "      <td>0.9115</td>\n",
              "      <td>0.9131</td>\n",
              "      <td>0.9147</td>\n",
              "      <td>0.9162</td>\n",
              "      <td>0.9177</td>\n",
              "    </tr>\n",
              "    <tr>\n",
              "      <th>1.40</th>\n",
              "      <td>0.9192</td>\n",
              "      <td>0.9207</td>\n",
              "      <td>0.9222</td>\n",
              "      <td>0.9236</td>\n",
              "      <td>0.9251</td>\n",
              "      <td>0.9265</td>\n",
              "      <td>0.9279</td>\n",
              "      <td>0.9292</td>\n",
              "      <td>0.9306</td>\n",
              "      <td>0.9319</td>\n",
              "    </tr>\n",
              "    <tr>\n",
              "      <th>1.50</th>\n",
              "      <td>0.9332</td>\n",
              "      <td>0.9345</td>\n",
              "      <td>0.9357</td>\n",
              "      <td>0.9370</td>\n",
              "      <td>0.9382</td>\n",
              "      <td>0.9394</td>\n",
              "      <td>0.9406</td>\n",
              "      <td>0.9418</td>\n",
              "      <td>0.9429</td>\n",
              "      <td>0.9441</td>\n",
              "    </tr>\n",
              "    <tr>\n",
              "      <th>1.60</th>\n",
              "      <td>0.9452</td>\n",
              "      <td>0.9463</td>\n",
              "      <td>0.9474</td>\n",
              "      <td>0.9484</td>\n",
              "      <td>0.9495</td>\n",
              "      <td>0.9505</td>\n",
              "      <td>0.9515</td>\n",
              "      <td>0.9525</td>\n",
              "      <td>0.9535</td>\n",
              "      <td>0.9545</td>\n",
              "    </tr>\n",
              "    <tr>\n",
              "      <th>1.70</th>\n",
              "      <td>0.9554</td>\n",
              "      <td>0.9564</td>\n",
              "      <td>0.9573</td>\n",
              "      <td>0.9582</td>\n",
              "      <td>0.9591</td>\n",
              "      <td>0.9599</td>\n",
              "      <td>0.9608</td>\n",
              "      <td>0.9616</td>\n",
              "      <td>0.9625</td>\n",
              "      <td>0.9633</td>\n",
              "    </tr>\n",
              "    <tr>\n",
              "      <th>1.80</th>\n",
              "      <td>0.9641</td>\n",
              "      <td>0.9649</td>\n",
              "      <td>0.9656</td>\n",
              "      <td>0.9664</td>\n",
              "      <td>0.9671</td>\n",
              "      <td>0.9678</td>\n",
              "      <td>0.9686</td>\n",
              "      <td>0.9693</td>\n",
              "      <td>0.9699</td>\n",
              "      <td>0.9706</td>\n",
              "    </tr>\n",
              "    <tr>\n",
              "      <th>1.90</th>\n",
              "      <td>0.9713</td>\n",
              "      <td>0.9719</td>\n",
              "      <td>0.9726</td>\n",
              "      <td>0.9732</td>\n",
              "      <td>0.9738</td>\n",
              "      <td>0.9744</td>\n",
              "      <td>0.9750</td>\n",
              "      <td>0.9756</td>\n",
              "      <td>0.9761</td>\n",
              "      <td>0.9767</td>\n",
              "    </tr>\n",
              "    <tr>\n",
              "      <th>2.00</th>\n",
              "      <td>0.9772</td>\n",
              "      <td>0.9778</td>\n",
              "      <td>0.9783</td>\n",
              "      <td>0.9788</td>\n",
              "      <td>0.9793</td>\n",
              "      <td>0.9798</td>\n",
              "      <td>0.9803</td>\n",
              "      <td>0.9808</td>\n",
              "      <td>0.9812</td>\n",
              "      <td>0.9817</td>\n",
              "    </tr>\n",
              "    <tr>\n",
              "      <th>2.10</th>\n",
              "      <td>0.9821</td>\n",
              "      <td>0.9826</td>\n",
              "      <td>0.9830</td>\n",
              "      <td>0.9834</td>\n",
              "      <td>0.9838</td>\n",
              "      <td>0.9842</td>\n",
              "      <td>0.9846</td>\n",
              "      <td>0.9850</td>\n",
              "      <td>0.9854</td>\n",
              "      <td>0.9857</td>\n",
              "    </tr>\n",
              "    <tr>\n",
              "      <th>2.20</th>\n",
              "      <td>0.9861</td>\n",
              "      <td>0.9864</td>\n",
              "      <td>0.9868</td>\n",
              "      <td>0.9871</td>\n",
              "      <td>0.9875</td>\n",
              "      <td>0.9878</td>\n",
              "      <td>0.9881</td>\n",
              "      <td>0.9884</td>\n",
              "      <td>0.9887</td>\n",
              "      <td>0.9890</td>\n",
              "    </tr>\n",
              "    <tr>\n",
              "      <th>2.30</th>\n",
              "      <td>0.9893</td>\n",
              "      <td>0.9896</td>\n",
              "      <td>0.9898</td>\n",
              "      <td>0.9901</td>\n",
              "      <td>0.9904</td>\n",
              "      <td>0.9906</td>\n",
              "      <td>0.9909</td>\n",
              "      <td>0.9911</td>\n",
              "      <td>0.9913</td>\n",
              "      <td>0.9916</td>\n",
              "    </tr>\n",
              "    <tr>\n",
              "      <th>2.40</th>\n",
              "      <td>0.9918</td>\n",
              "      <td>0.9920</td>\n",
              "      <td>0.9922</td>\n",
              "      <td>0.9925</td>\n",
              "      <td>0.9927</td>\n",
              "      <td>0.9929</td>\n",
              "      <td>0.9931</td>\n",
              "      <td>0.9932</td>\n",
              "      <td>0.9934</td>\n",
              "      <td>0.9936</td>\n",
              "    </tr>\n",
              "    <tr>\n",
              "      <th>2.50</th>\n",
              "      <td>0.9938</td>\n",
              "      <td>0.9940</td>\n",
              "      <td>0.9941</td>\n",
              "      <td>0.9943</td>\n",
              "      <td>0.9945</td>\n",
              "      <td>0.9946</td>\n",
              "      <td>0.9948</td>\n",
              "      <td>0.9949</td>\n",
              "      <td>0.9951</td>\n",
              "      <td>0.9952</td>\n",
              "    </tr>\n",
              "    <tr>\n",
              "      <th>2.60</th>\n",
              "      <td>0.9953</td>\n",
              "      <td>0.9955</td>\n",
              "      <td>0.9956</td>\n",
              "      <td>0.9957</td>\n",
              "      <td>0.9959</td>\n",
              "      <td>0.9960</td>\n",
              "      <td>0.9961</td>\n",
              "      <td>0.9962</td>\n",
              "      <td>0.9963</td>\n",
              "      <td>0.9964</td>\n",
              "    </tr>\n",
              "    <tr>\n",
              "      <th>2.70</th>\n",
              "      <td>0.9965</td>\n",
              "      <td>0.9966</td>\n",
              "      <td>0.9967</td>\n",
              "      <td>0.9968</td>\n",
              "      <td>0.9969</td>\n",
              "      <td>0.9970</td>\n",
              "      <td>0.9971</td>\n",
              "      <td>0.9972</td>\n",
              "      <td>0.9973</td>\n",
              "      <td>0.9974</td>\n",
              "    </tr>\n",
              "    <tr>\n",
              "      <th>2.80</th>\n",
              "      <td>0.9974</td>\n",
              "      <td>0.9975</td>\n",
              "      <td>0.9976</td>\n",
              "      <td>0.9977</td>\n",
              "      <td>0.9977</td>\n",
              "      <td>0.9978</td>\n",
              "      <td>0.9979</td>\n",
              "      <td>0.9979</td>\n",
              "      <td>0.9980</td>\n",
              "      <td>0.9981</td>\n",
              "    </tr>\n",
              "    <tr>\n",
              "      <th>2.90</th>\n",
              "      <td>0.9981</td>\n",
              "      <td>0.9982</td>\n",
              "      <td>0.9982</td>\n",
              "      <td>0.9983</td>\n",
              "      <td>0.9984</td>\n",
              "      <td>0.9984</td>\n",
              "      <td>0.9985</td>\n",
              "      <td>0.9985</td>\n",
              "      <td>0.9986</td>\n",
              "      <td>0.9986</td>\n",
              "    </tr>\n",
              "    <tr>\n",
              "      <th>3.00</th>\n",
              "      <td>0.9987</td>\n",
              "      <td>0.9987</td>\n",
              "      <td>0.9987</td>\n",
              "      <td>0.9988</td>\n",
              "      <td>0.9988</td>\n",
              "      <td>0.9989</td>\n",
              "      <td>0.9989</td>\n",
              "      <td>0.9989</td>\n",
              "      <td>0.9990</td>\n",
              "      <td>0.9990</td>\n",
              "    </tr>\n",
              "    <tr>\n",
              "      <th>3.10</th>\n",
              "      <td>0.9990</td>\n",
              "      <td>0.9991</td>\n",
              "      <td>0.9991</td>\n",
              "      <td>0.9991</td>\n",
              "      <td>0.9992</td>\n",
              "      <td>0.9992</td>\n",
              "      <td>0.9992</td>\n",
              "      <td>0.9992</td>\n",
              "      <td>0.9993</td>\n",
              "      <td>0.9993</td>\n",
              "    </tr>\n",
              "    <tr>\n",
              "      <th>3.20</th>\n",
              "      <td>0.9993</td>\n",
              "      <td>0.9993</td>\n",
              "      <td>0.9994</td>\n",
              "      <td>0.9994</td>\n",
              "      <td>0.9994</td>\n",
              "      <td>0.9994</td>\n",
              "      <td>0.9994</td>\n",
              "      <td>0.9995</td>\n",
              "      <td>0.9995</td>\n",
              "      <td>0.9995</td>\n",
              "    </tr>\n",
              "    <tr>\n",
              "      <th>3.30</th>\n",
              "      <td>0.9995</td>\n",
              "      <td>0.9995</td>\n",
              "      <td>0.9995</td>\n",
              "      <td>0.9996</td>\n",
              "      <td>0.9996</td>\n",
              "      <td>0.9996</td>\n",
              "      <td>0.9996</td>\n",
              "      <td>0.9996</td>\n",
              "      <td>0.9996</td>\n",
              "      <td>0.9997</td>\n",
              "    </tr>\n",
              "    <tr>\n",
              "      <th>3.40</th>\n",
              "      <td>0.9997</td>\n",
              "      <td>0.9997</td>\n",
              "      <td>0.9997</td>\n",
              "      <td>0.9997</td>\n",
              "      <td>0.9997</td>\n",
              "      <td>0.9997</td>\n",
              "      <td>0.9997</td>\n",
              "      <td>0.9997</td>\n",
              "      <td>0.9997</td>\n",
              "      <td>0.9998</td>\n",
              "    </tr>\n",
              "    <tr>\n",
              "      <th>3.50</th>\n",
              "      <td>0.9998</td>\n",
              "      <td>0.9998</td>\n",
              "      <td>0.9998</td>\n",
              "      <td>0.9998</td>\n",
              "      <td>0.9998</td>\n",
              "      <td>0.9998</td>\n",
              "      <td>0.9998</td>\n",
              "      <td>0.9998</td>\n",
              "      <td>0.9998</td>\n",
              "      <td>0.9998</td>\n",
              "    </tr>\n",
              "    <tr>\n",
              "      <th>3.60</th>\n",
              "      <td>0.9998</td>\n",
              "      <td>0.9998</td>\n",
              "      <td>0.9999</td>\n",
              "      <td>0.9999</td>\n",
              "      <td>0.9999</td>\n",
              "      <td>0.9999</td>\n",
              "      <td>0.9999</td>\n",
              "      <td>0.9999</td>\n",
              "      <td>0.9999</td>\n",
              "      <td>0.9999</td>\n",
              "    </tr>\n",
              "    <tr>\n",
              "      <th>3.70</th>\n",
              "      <td>0.9999</td>\n",
              "      <td>0.9999</td>\n",
              "      <td>0.9999</td>\n",
              "      <td>0.9999</td>\n",
              "      <td>0.9999</td>\n",
              "      <td>0.9999</td>\n",
              "      <td>0.9999</td>\n",
              "      <td>0.9999</td>\n",
              "      <td>0.9999</td>\n",
              "      <td>0.9999</td>\n",
              "    </tr>\n",
              "    <tr>\n",
              "      <th>3.80</th>\n",
              "      <td>0.9999</td>\n",
              "      <td>0.9999</td>\n",
              "      <td>0.9999</td>\n",
              "      <td>0.9999</td>\n",
              "      <td>0.9999</td>\n",
              "      <td>0.9999</td>\n",
              "      <td>0.9999</td>\n",
              "      <td>0.9999</td>\n",
              "      <td>0.9999</td>\n",
              "      <td>0.9999</td>\n",
              "    </tr>\n",
              "    <tr>\n",
              "      <th>3.90</th>\n",
              "      <td>1.0000</td>\n",
              "      <td>1.0000</td>\n",
              "      <td>1.0000</td>\n",
              "      <td>1.0000</td>\n",
              "      <td>1.0000</td>\n",
              "      <td>1.0000</td>\n",
              "      <td>1.0000</td>\n",
              "      <td>1.0000</td>\n",
              "      <td>1.0000</td>\n",
              "      <td>1.0000</td>\n",
              "    </tr>\n",
              "  </tbody>\n",
              "</table>\n",
              "</div>\n",
              "    <div class=\"colab-df-buttons\">\n",
              "\n",
              "  <div class=\"colab-df-container\">\n",
              "    <button class=\"colab-df-convert\" onclick=\"convertToInteractive('df-d7447ff8-b81c-4c84-8224-96573cbbce82')\"\n",
              "            title=\"Convert this dataframe to an interactive table.\"\n",
              "            style=\"display:none;\">\n",
              "\n",
              "  <svg xmlns=\"http://www.w3.org/2000/svg\" height=\"24px\" viewBox=\"0 -960 960 960\">\n",
              "    <path d=\"M120-120v-720h720v720H120Zm60-500h600v-160H180v160Zm220 220h160v-160H400v160Zm0 220h160v-160H400v160ZM180-400h160v-160H180v160Zm440 0h160v-160H620v160ZM180-180h160v-160H180v160Zm440 0h160v-160H620v160Z\"/>\n",
              "  </svg>\n",
              "    </button>\n",
              "\n",
              "  <style>\n",
              "    .colab-df-container {\n",
              "      display:flex;\n",
              "      gap: 12px;\n",
              "    }\n",
              "\n",
              "    .colab-df-convert {\n",
              "      background-color: #E8F0FE;\n",
              "      border: none;\n",
              "      border-radius: 50%;\n",
              "      cursor: pointer;\n",
              "      display: none;\n",
              "      fill: #1967D2;\n",
              "      height: 32px;\n",
              "      padding: 0 0 0 0;\n",
              "      width: 32px;\n",
              "    }\n",
              "\n",
              "    .colab-df-convert:hover {\n",
              "      background-color: #E2EBFA;\n",
              "      box-shadow: 0px 1px 2px rgba(60, 64, 67, 0.3), 0px 1px 3px 1px rgba(60, 64, 67, 0.15);\n",
              "      fill: #174EA6;\n",
              "    }\n",
              "\n",
              "    .colab-df-buttons div {\n",
              "      margin-bottom: 4px;\n",
              "    }\n",
              "\n",
              "    [theme=dark] .colab-df-convert {\n",
              "      background-color: #3B4455;\n",
              "      fill: #D2E3FC;\n",
              "    }\n",
              "\n",
              "    [theme=dark] .colab-df-convert:hover {\n",
              "      background-color: #434B5C;\n",
              "      box-shadow: 0px 1px 3px 1px rgba(0, 0, 0, 0.15);\n",
              "      filter: drop-shadow(0px 1px 2px rgba(0, 0, 0, 0.3));\n",
              "      fill: #FFFFFF;\n",
              "    }\n",
              "  </style>\n",
              "\n",
              "    <script>\n",
              "      const buttonEl =\n",
              "        document.querySelector('#df-d7447ff8-b81c-4c84-8224-96573cbbce82 button.colab-df-convert');\n",
              "      buttonEl.style.display =\n",
              "        google.colab.kernel.accessAllowed ? 'block' : 'none';\n",
              "\n",
              "      async function convertToInteractive(key) {\n",
              "        const element = document.querySelector('#df-d7447ff8-b81c-4c84-8224-96573cbbce82');\n",
              "        const dataTable =\n",
              "          await google.colab.kernel.invokeFunction('convertToInteractive',\n",
              "                                                    [key], {});\n",
              "        if (!dataTable) return;\n",
              "\n",
              "        const docLinkHtml = 'Like what you see? Visit the ' +\n",
              "          '<a target=\"_blank\" href=https://colab.research.google.com/notebooks/data_table.ipynb>data table notebook</a>'\n",
              "          + ' to learn more about interactive tables.';\n",
              "        element.innerHTML = '';\n",
              "        dataTable['output_type'] = 'display_data';\n",
              "        await google.colab.output.renderOutput(dataTable, element);\n",
              "        const docLink = document.createElement('div');\n",
              "        docLink.innerHTML = docLinkHtml;\n",
              "        element.appendChild(docLink);\n",
              "      }\n",
              "    </script>\n",
              "  </div>\n",
              "\n",
              "\n",
              "    <div id=\"df-a1c0cec4-d9f4-4372-bfcf-2da8858c4b4b\">\n",
              "      <button class=\"colab-df-quickchart\" onclick=\"quickchart('df-a1c0cec4-d9f4-4372-bfcf-2da8858c4b4b')\"\n",
              "                title=\"Suggest charts\"\n",
              "                style=\"display:none;\">\n",
              "\n",
              "<svg xmlns=\"http://www.w3.org/2000/svg\" height=\"24px\"viewBox=\"0 0 24 24\"\n",
              "     width=\"24px\">\n",
              "    <g>\n",
              "        <path d=\"M19 3H5c-1.1 0-2 .9-2 2v14c0 1.1.9 2 2 2h14c1.1 0 2-.9 2-2V5c0-1.1-.9-2-2-2zM9 17H7v-7h2v7zm4 0h-2V7h2v10zm4 0h-2v-4h2v4z\"/>\n",
              "    </g>\n",
              "</svg>\n",
              "      </button>\n",
              "\n",
              "<style>\n",
              "  .colab-df-quickchart {\n",
              "      --bg-color: #E8F0FE;\n",
              "      --fill-color: #1967D2;\n",
              "      --hover-bg-color: #E2EBFA;\n",
              "      --hover-fill-color: #174EA6;\n",
              "      --disabled-fill-color: #AAA;\n",
              "      --disabled-bg-color: #DDD;\n",
              "  }\n",
              "\n",
              "  [theme=dark] .colab-df-quickchart {\n",
              "      --bg-color: #3B4455;\n",
              "      --fill-color: #D2E3FC;\n",
              "      --hover-bg-color: #434B5C;\n",
              "      --hover-fill-color: #FFFFFF;\n",
              "      --disabled-bg-color: #3B4455;\n",
              "      --disabled-fill-color: #666;\n",
              "  }\n",
              "\n",
              "  .colab-df-quickchart {\n",
              "    background-color: var(--bg-color);\n",
              "    border: none;\n",
              "    border-radius: 50%;\n",
              "    cursor: pointer;\n",
              "    display: none;\n",
              "    fill: var(--fill-color);\n",
              "    height: 32px;\n",
              "    padding: 0;\n",
              "    width: 32px;\n",
              "  }\n",
              "\n",
              "  .colab-df-quickchart:hover {\n",
              "    background-color: var(--hover-bg-color);\n",
              "    box-shadow: 0 1px 2px rgba(60, 64, 67, 0.3), 0 1px 3px 1px rgba(60, 64, 67, 0.15);\n",
              "    fill: var(--button-hover-fill-color);\n",
              "  }\n",
              "\n",
              "  .colab-df-quickchart-complete:disabled,\n",
              "  .colab-df-quickchart-complete:disabled:hover {\n",
              "    background-color: var(--disabled-bg-color);\n",
              "    fill: var(--disabled-fill-color);\n",
              "    box-shadow: none;\n",
              "  }\n",
              "\n",
              "  .colab-df-spinner {\n",
              "    border: 2px solid var(--fill-color);\n",
              "    border-color: transparent;\n",
              "    border-bottom-color: var(--fill-color);\n",
              "    animation:\n",
              "      spin 1s steps(1) infinite;\n",
              "  }\n",
              "\n",
              "  @keyframes spin {\n",
              "    0% {\n",
              "      border-color: transparent;\n",
              "      border-bottom-color: var(--fill-color);\n",
              "      border-left-color: var(--fill-color);\n",
              "    }\n",
              "    20% {\n",
              "      border-color: transparent;\n",
              "      border-left-color: var(--fill-color);\n",
              "      border-top-color: var(--fill-color);\n",
              "    }\n",
              "    30% {\n",
              "      border-color: transparent;\n",
              "      border-left-color: var(--fill-color);\n",
              "      border-top-color: var(--fill-color);\n",
              "      border-right-color: var(--fill-color);\n",
              "    }\n",
              "    40% {\n",
              "      border-color: transparent;\n",
              "      border-right-color: var(--fill-color);\n",
              "      border-top-color: var(--fill-color);\n",
              "    }\n",
              "    60% {\n",
              "      border-color: transparent;\n",
              "      border-right-color: var(--fill-color);\n",
              "    }\n",
              "    80% {\n",
              "      border-color: transparent;\n",
              "      border-right-color: var(--fill-color);\n",
              "      border-bottom-color: var(--fill-color);\n",
              "    }\n",
              "    90% {\n",
              "      border-color: transparent;\n",
              "      border-bottom-color: var(--fill-color);\n",
              "    }\n",
              "  }\n",
              "</style>\n",
              "\n",
              "      <script>\n",
              "        async function quickchart(key) {\n",
              "          const quickchartButtonEl =\n",
              "            document.querySelector('#' + key + ' button');\n",
              "          quickchartButtonEl.disabled = true;  // To prevent multiple clicks.\n",
              "          quickchartButtonEl.classList.add('colab-df-spinner');\n",
              "          try {\n",
              "            const charts = await google.colab.kernel.invokeFunction(\n",
              "                'suggestCharts', [key], {});\n",
              "          } catch (error) {\n",
              "            console.error('Error during call to suggestCharts:', error);\n",
              "          }\n",
              "          quickchartButtonEl.classList.remove('colab-df-spinner');\n",
              "          quickchartButtonEl.classList.add('colab-df-quickchart-complete');\n",
              "        }\n",
              "        (() => {\n",
              "          let quickchartButtonEl =\n",
              "            document.querySelector('#df-a1c0cec4-d9f4-4372-bfcf-2da8858c4b4b button');\n",
              "          quickchartButtonEl.style.display =\n",
              "            google.colab.kernel.accessAllowed ? 'block' : 'none';\n",
              "        })();\n",
              "      </script>\n",
              "    </div>\n",
              "\n",
              "  <div id=\"id_9b12758d-f48a-4883-ae53-aaa39c97068f\">\n",
              "    <style>\n",
              "      .colab-df-generate {\n",
              "        background-color: #E8F0FE;\n",
              "        border: none;\n",
              "        border-radius: 50%;\n",
              "        cursor: pointer;\n",
              "        display: none;\n",
              "        fill: #1967D2;\n",
              "        height: 32px;\n",
              "        padding: 0 0 0 0;\n",
              "        width: 32px;\n",
              "      }\n",
              "\n",
              "      .colab-df-generate:hover {\n",
              "        background-color: #E2EBFA;\n",
              "        box-shadow: 0px 1px 2px rgba(60, 64, 67, 0.3), 0px 1px 3px 1px rgba(60, 64, 67, 0.15);\n",
              "        fill: #174EA6;\n",
              "      }\n",
              "\n",
              "      [theme=dark] .colab-df-generate {\n",
              "        background-color: #3B4455;\n",
              "        fill: #D2E3FC;\n",
              "      }\n",
              "\n",
              "      [theme=dark] .colab-df-generate:hover {\n",
              "        background-color: #434B5C;\n",
              "        box-shadow: 0px 1px 3px 1px rgba(0, 0, 0, 0.15);\n",
              "        filter: drop-shadow(0px 1px 2px rgba(0, 0, 0, 0.3));\n",
              "        fill: #FFFFFF;\n",
              "      }\n",
              "    </style>\n",
              "    <button class=\"colab-df-generate\" onclick=\"generateWithVariable('tabla_normal_estandarizada')\"\n",
              "            title=\"Generate code using this dataframe.\"\n",
              "            style=\"display:none;\">\n",
              "\n",
              "  <svg xmlns=\"http://www.w3.org/2000/svg\" height=\"24px\"viewBox=\"0 0 24 24\"\n",
              "       width=\"24px\">\n",
              "    <path d=\"M7,19H8.4L18.45,9,17,7.55,7,17.6ZM5,21V16.75L18.45,3.32a2,2,0,0,1,2.83,0l1.4,1.43a1.91,1.91,0,0,1,.58,1.4,1.91,1.91,0,0,1-.58,1.4L9.25,21ZM18.45,9,17,7.55Zm-12,3A5.31,5.31,0,0,0,4.9,8.1,5.31,5.31,0,0,0,1,6.5,5.31,5.31,0,0,0,4.9,4.9,5.31,5.31,0,0,0,6.5,1,5.31,5.31,0,0,0,8.1,4.9,5.31,5.31,0,0,0,12,6.5,5.46,5.46,0,0,0,6.5,12Z\"/>\n",
              "  </svg>\n",
              "    </button>\n",
              "    <script>\n",
              "      (() => {\n",
              "      const buttonEl =\n",
              "        document.querySelector('#id_9b12758d-f48a-4883-ae53-aaa39c97068f button.colab-df-generate');\n",
              "      buttonEl.style.display =\n",
              "        google.colab.kernel.accessAllowed ? 'block' : 'none';\n",
              "\n",
              "      buttonEl.onclick = () => {\n",
              "        google.colab.notebook.generateWithVariable('tabla_normal_estandarizada');\n",
              "      }\n",
              "      })();\n",
              "    </script>\n",
              "  </div>\n",
              "\n",
              "    </div>\n",
              "  </div>\n"
            ],
            "application/vnd.google.colaboratory.intrinsic+json": {
              "type": "dataframe",
              "variable_name": "tabla_normal_estandarizada",
              "summary": "{\n  \"name\": \"tabla_normal_estandarizada\",\n  \"rows\": 40,\n  \"fields\": [\n    {\n      \"column\": \"0.00\",\n      \"properties\": {\n        \"dtype\": \"string\",\n        \"num_unique_values\": 38,\n        \"samples\": [\n          \"0.9995\",\n          \"0.9999\",\n          \"0.6554\"\n        ],\n        \"semantic_type\": \"\",\n        \"description\": \"\"\n      }\n    },\n    {\n      \"column\": \"0.01\",\n      \"properties\": {\n        \"dtype\": \"string\",\n        \"num_unique_values\": 38,\n        \"samples\": [\n          \"0.9995\",\n          \"0.9999\",\n          \"0.6591\"\n        ],\n        \"semantic_type\": \"\",\n        \"description\": \"\"\n      }\n    },\n    {\n      \"column\": \"0.02\",\n      \"properties\": {\n        \"dtype\": \"string\",\n        \"num_unique_values\": 38,\n        \"samples\": [\n          \"0.9995\",\n          \"0.9999\",\n          \"0.6628\"\n        ],\n        \"semantic_type\": \"\",\n        \"description\": \"\"\n      }\n    },\n    {\n      \"column\": \"0.03\",\n      \"properties\": {\n        \"dtype\": \"string\",\n        \"num_unique_values\": 38,\n        \"samples\": [\n          \"0.9996\",\n          \"0.9999\",\n          \"0.6664\"\n        ],\n        \"semantic_type\": \"\",\n        \"description\": \"\"\n      }\n    },\n    {\n      \"column\": \"0.04\",\n      \"properties\": {\n        \"dtype\": \"string\",\n        \"num_unique_values\": 38,\n        \"samples\": [\n          \"0.9996\",\n          \"0.9999\",\n          \"0.6700\"\n        ],\n        \"semantic_type\": \"\",\n        \"description\": \"\"\n      }\n    },\n    {\n      \"column\": \"0.05\",\n      \"properties\": {\n        \"dtype\": \"string\",\n        \"num_unique_values\": 38,\n        \"samples\": [\n          \"0.9996\",\n          \"0.9999\",\n          \"0.6736\"\n        ],\n        \"semantic_type\": \"\",\n        \"description\": \"\"\n      }\n    },\n    {\n      \"column\": \"0.06\",\n      \"properties\": {\n        \"dtype\": \"string\",\n        \"num_unique_values\": 38,\n        \"samples\": [\n          \"0.9996\",\n          \"0.9999\",\n          \"0.6772\"\n        ],\n        \"semantic_type\": \"\",\n        \"description\": \"\"\n      }\n    },\n    {\n      \"column\": \"0.07\",\n      \"properties\": {\n        \"dtype\": \"string\",\n        \"num_unique_values\": 38,\n        \"samples\": [\n          \"0.9996\",\n          \"0.9999\",\n          \"0.6808\"\n        ],\n        \"semantic_type\": \"\",\n        \"description\": \"\"\n      }\n    },\n    {\n      \"column\": \"0.08\",\n      \"properties\": {\n        \"dtype\": \"string\",\n        \"num_unique_values\": 38,\n        \"samples\": [\n          \"0.9996\",\n          \"0.9999\",\n          \"0.6844\"\n        ],\n        \"semantic_type\": \"\",\n        \"description\": \"\"\n      }\n    },\n    {\n      \"column\": \"0.09\",\n      \"properties\": {\n        \"dtype\": \"string\",\n        \"num_unique_values\": 37,\n        \"samples\": [\n          \"0.9633\",\n          \"0.9177\",\n          \"0.6879\"\n        ],\n        \"semantic_type\": \"\",\n        \"description\": \"\"\n      }\n    }\n  ]\n}"
            }
          },
          "metadata": {},
          "execution_count": 437
        }
      ]
    },
    {
      "cell_type": "markdown",
      "metadata": {
        "id": "XHYeMaN3G3D9"
      },
      "source": [
        "<img src='https://caelum-online-public.s3.amazonaws.com/ESP-1764-estadistica-con-python-probabilidad-y-muestreo/img003.png' width='250px'>\n",
        "\n",
        "La tabla anterior proporciona el área bajo la curva entre $-\\infty$ y $Z$ desviaciones estándar por encima de la media. Recordando que dado que estos son valores estandarizados, tenemos $\\mu = 0$."
      ]
    },
    {
      "cell_type": "markdown",
      "metadata": {
        "id": "Bs-KyZAJG3D-"
      },
      "source": [
        "## <font color='blue'>Ejemplo: ¿Cuánto mides?</font>"
      ]
    },
    {
      "cell_type": "markdown",
      "metadata": {
        "id": "8PFIjXejG3EA"
      },
      "source": [
        "En un estudio sobre la altura de los residentes de una ciudad, se encontró que el conjunto de datos sigue una **distribución aproximadamente normal**, con **media 1.70** y **desviación estándar de 0.1**. Con esta información, obtenga el siguiente conjunto de probabilidades:\n",
        "\n",
        "> **A.** probabilidad de que una persona, seleccionada al azar, mida menos que 1.80 metros.\n",
        "\n",
        "> **B.** probabilidad de que una persona, seleccionada al azar, mida entre 1.60 metros y 1.80 metros.\n",
        "\n",
        "> **C.** probabilidad de que una persona, seleccionada al azar, mida más de 1.90 metros."
      ]
    },
    {
      "cell_type": "markdown",
      "metadata": {
        "id": "aHpZLwt1G3EC"
      },
      "source": [
        "### Problema A - Identificación del área bajo la curva"
      ]
    },
    {
      "cell_type": "markdown",
      "metadata": {
        "id": "V1eC7tydG3EF"
      },
      "source": [
        "<img style='float: left' src='https://caelum-online-public.s3.amazonaws.com/ESP-1764-estadistica-con-python-probabilidad-y-muestreo/img004.png' width='350px'>\n"
      ]
    },
    {
      "cell_type": "markdown",
      "source": [
        "El problema plantea que debemos calcular el área de la curva dede -infinito hasta 1,80 mts. Para ello, primero debemos hacer el cálculo de estandarizar la variable."
      ],
      "metadata": {
        "id": "wzko4XoI6co9"
      }
    },
    {
      "cell_type": "markdown",
      "metadata": {
        "id": "X61wEuRrG3EI"
      },
      "source": [
        "### Obtener la variable estandarizada $Z$"
      ]
    },
    {
      "cell_type": "code",
      "metadata": {
        "id": "gNSNIMvZG3EK",
        "colab": {
          "base_uri": "https://localhost:8080/"
        },
        "outputId": "6b2b1511-16fe-4ad7-ed5e-3fea352cc59a"
      },
      "source": [
        "media=1.7\n",
        "desvest= 0.1\n",
        "x=1.8\n",
        "Z=(x-media)/desvest\n",
        "Z"
      ],
      "execution_count": 438,
      "outputs": [
        {
          "output_type": "execute_result",
          "data": {
            "text/plain": [
              "1.0000000000000009"
            ]
          },
          "metadata": {},
          "execution_count": 438
        }
      ]
    },
    {
      "cell_type": "markdown",
      "source": [
        "Ingresamos a la tabla con Z=1.0000000000000009<br>\n",
        "\n",
        "|Z|0.00|0.01|0.02|0.03|\n",
        "|---|---|---|---|---|\n",
        "|0.90|0.8159|0.8186|0.8212|0.8238|\n",
        "|1.00|<u>***0.8413***</u>|0.8438|0.8461|0.8485|\n",
        "|1.10|0.8643|0.8665|0.8686|0.8708|\n",
        "\n",
        "<br>\n",
        "Y obtenemos el valor de 0.8413 que es la probabilidad de elegir una persona al azar y que mida menos de 1.80 mts"
      ],
      "metadata": {
        "id": "wt-dR8uH8JQu"
      }
    },
    {
      "cell_type": "markdown",
      "metadata": {
        "id": "oj9sgHbkG3Eb"
      },
      "source": [
        "### Solución 1 - Utilizando la tabla"
      ]
    },
    {
      "cell_type": "code",
      "metadata": {
        "id": "ReDTH3WgG3Ec",
        "colab": {
          "base_uri": "https://localhost:8080/"
        },
        "outputId": "17918496-be92-42e6-9ae7-b2e9ae425319"
      },
      "source": [
        "probabilidad = 0.8413*100\n",
        "print(f'La probabilidad de obtener al azar una persona con estatura menor de 1.80 mt es de {probabilidad:.2f} %')"
      ],
      "execution_count": 439,
      "outputs": [
        {
          "output_type": "stream",
          "name": "stdout",
          "text": [
            "La probabilidad de obtener al azar una persona con estatura menor de 1.80 mt es de 84.13 %\n"
          ]
        }
      ]
    },
    {
      "cell_type": "markdown",
      "metadata": {
        "id": "4ud0OnQOG3Eh"
      },
      "source": [
        "### Solución 2 - Utilizando Scipy"
      ]
    },
    {
      "cell_type": "code",
      "source": [
        "import pandas as pd\n",
        "import numpy as np\n",
        "from scipy.stats import norm"
      ],
      "metadata": {
        "id": "MWUTfR9yGWDS"
      },
      "execution_count": 440,
      "outputs": []
    },
    {
      "cell_type": "code",
      "source": [
        "media=1.70\n",
        "desvstd=0.1\n",
        "x=1.80\n",
        "z=(x-media)/desvstd\n",
        "z"
      ],
      "metadata": {
        "colab": {
          "base_uri": "https://localhost:8080/"
        },
        "id": "RDXn-MTOFDup",
        "outputId": "6e10e68d-b21e-41f9-ea4a-bac7d7fd3016"
      },
      "execution_count": 441,
      "outputs": [
        {
          "output_type": "execute_result",
          "data": {
            "text/plain": [
              "1.0000000000000009"
            ]
          },
          "metadata": {},
          "execution_count": 441
        }
      ]
    },
    {
      "cell_type": "code",
      "metadata": {
        "id": "sx7riZVlG3Ei",
        "colab": {
          "base_uri": "https://localhost:8080/"
        },
        "outputId": "be026dcf-e4aa-40cb-9bfc-22c1c84d47be"
      },
      "source": [
        "from scipy.stats import norm\n",
        "probab=(norm.cdf(Z))\n",
        "print(f'La probabilidad es {probab:.4f} %')"
      ],
      "execution_count": 442,
      "outputs": [
        {
          "output_type": "stream",
          "name": "stdout",
          "text": [
            "La probabilidad es 0.8413 %\n"
          ]
        }
      ]
    },
    {
      "cell_type": "markdown",
      "source": [
        "#####Pregunta 03_1 Distr Normal<br>\n",
        "La aplicación de una prueba Estadística en una competencia presentó un conjunto de notas normalmente distribuidas. Se encontró que el conjunto de notas tenía una media de 70 y una desviación estándar de 5 puntos.\n",
        "\n",
        "¿Qué probabilidad hay de que un estudiante, seleccionado al azar, obtenga una puntuación inferior a 85 puntos?\n"
      ],
      "metadata": {
        "id": "cwE6OgPNCIVG"
      }
    },
    {
      "cell_type": "code",
      "source": [
        "media=70\n",
        "desvest= 5\n",
        "x=85\n",
        "Z=(x-media)/desvest\n",
        "Z"
      ],
      "metadata": {
        "id": "s5zsrhu0CMOT",
        "outputId": "dc4a41ad-074c-4511-99f3-08f576d8683c",
        "colab": {
          "base_uri": "https://localhost:8080/"
        }
      },
      "execution_count": 443,
      "outputs": [
        {
          "output_type": "execute_result",
          "data": {
            "text/plain": [
              "3.0"
            ]
          },
          "metadata": {},
          "execution_count": 443
        }
      ]
    },
    {
      "cell_type": "code",
      "source": [
        "from scipy.stats import norm\n",
        "norm.cdf(Z)"
      ],
      "metadata": {
        "id": "kkaaOahGLMO7",
        "outputId": "8271ef2c-e1ee-4af5-f1a4-5c4a7a9a3613",
        "colab": {
          "base_uri": "https://localhost:8080/"
        }
      },
      "execution_count": 444,
      "outputs": [
        {
          "output_type": "execute_result",
          "data": {
            "text/plain": [
              "np.float64(0.9986501019683699)"
            ]
          },
          "metadata": {},
          "execution_count": 444
        }
      ]
    },
    {
      "cell_type": "markdown",
      "metadata": {
        "id": "ZsnMjGzJG3Ep"
      },
      "source": [
        "### Problema B - Identificación del área bajo la curva"
      ]
    },
    {
      "cell_type": "markdown",
      "metadata": {
        "id": "LN2HY-UCG3Ep"
      },
      "source": [
        "<img style='float: left' src='https://caelum-online-public.s3.amazonaws.com/ESP-1764-estadistica-con-python-probabilidad-y-muestreo/img005.png' width='350px'>\n",
        "\n",
        "Por las características de simetría de la distribución normal (la distancia que separa 1.60 de la media, es la misma que separa 1.80 de la media), hace que las áreas de ambas medidas sean iguales (el área de 1.60 a 1.70 es la misma que de 1.80 a 1.70, o sea, las probabilidad de ambas medidas (1.60 y 1.80) es la misma."
      ]
    },
    {
      "cell_type": "markdown",
      "metadata": {
        "id": "FS6WNg88G3Eq"
      },
      "source": [
        "### Obtener la variable estandarizada $Z$"
      ]
    },
    {
      "cell_type": "markdown",
      "source": [
        "Estrategia: Calculamos Z para 1.80 y le restamos Z para 1.60"
      ],
      "metadata": {
        "id": "ZLUsaGuUITUW"
      }
    },
    {
      "cell_type": "code",
      "metadata": {
        "id": "mxPsPIOYG3Er",
        "colab": {
          "base_uri": "https://localhost:8080/"
        },
        "outputId": "1a4cca14-3682-47b8-c9c3-0208a5891d3f"
      },
      "source": [
        "#Z para 1.80\n",
        "media=1.7\n",
        "#print(f'La media es {media}')\n",
        "desvest= 0.1\n",
        "#print (f'La desviación estándar es {desvest}')\n",
        "x=1.8\n",
        "#print(f'El valor de x es {x}')\n",
        "Z_1_8=(x-media)/desvest\n",
        "print(f'El valor de Z 1.80 es {Z_1_8}')\n",
        "\n",
        "#Z para 1.60\n",
        "media=1.7\n",
        "#print(f'La media es {media}')\n",
        "desvest= 0.1\n",
        "#print (f'La desviación estándar es {desvest}')\n",
        "x=1.6\n",
        "#print(f'El valor de x es {x}')\n",
        "Z_1_6=(x-media)/desvest\n",
        "print(f'El valor de Z 1.60 es {Z_1_6}')\n",
        "\n",
        "#Resta entre ambos\n",
        "z_def=Z_1_8+Z_1_6 #suma para representar valor absoluto\n",
        "print(f'El valor de Z es {z_def:.20f}')"
      ],
      "execution_count": 445,
      "outputs": [
        {
          "output_type": "stream",
          "name": "stdout",
          "text": [
            "El valor de Z 1.80 es 1.0000000000000009\n",
            "El valor de Z 1.60 es -0.9999999999999987\n",
            "El valor de Z es 0.00000000000000222045\n"
          ]
        }
      ]
    },
    {
      "cell_type": "markdown",
      "metadata": {
        "id": "MseXjmZ7G3E0"
      },
      "source": [
        "### Solución 1 - Utilizando la tabla"
      ]
    },
    {
      "cell_type": "markdown",
      "source": [
        "De la tabla, z=0<br>\n",
        "\n",
        "|Z\t|0.00\t|0.01\t|0.02\t|\n",
        "|---|---|---|---|\n",
        "|0.00\t|<u>**0.5000**</u>\t|0.5040\t|0.5080|\n",
        "|0.10\t|0.5398\t|0.5438\t|0.5478|"
      ],
      "metadata": {
        "id": "559aZclPKHIM"
      }
    },
    {
      "cell_type": "code",
      "metadata": {
        "id": "s0Vf0GXHG3Et",
        "colab": {
          "base_uri": "https://localhost:8080/"
        },
        "outputId": "bc84b5b1-a75e-4f98-b060-a64dfc3773ab"
      },
      "source": [
        "probabilidad_18_16=0.5000*100\n",
        "print(f'La probabilidad de obtener al azar una persona con estatura entre 1.60 y 1.80 mt es de {probabilidad_18_16:.2f} %')"
      ],
      "execution_count": 446,
      "outputs": [
        {
          "output_type": "stream",
          "name": "stdout",
          "text": [
            "La probabilidad de obtener al azar una persona con estatura entre 1.60 y 1.80 mt es de 50.00 %\n"
          ]
        }
      ]
    },
    {
      "cell_type": "markdown",
      "metadata": {
        "id": "y5e4zAifG3E2"
      },
      "source": [
        "### Solución 2 - Utilizando Scipy"
      ]
    },
    {
      "cell_type": "code",
      "metadata": {
        "id": "hcps6lkNG3E3",
        "colab": {
          "base_uri": "https://localhost:8080/"
        },
        "outputId": "ea543b26-a749-4a74-9da5-331b99e8ce29"
      },
      "source": [
        "from scipy.stats import norm\n",
        "probab_18_16=(norm.cdf(z_def))*100\n",
        "print(f'La probabilidad de obtener al azar una persona con estatura entre 1.60 y 1.80 mt es de {probab_18_16:.2f} %')"
      ],
      "execution_count": 447,
      "outputs": [
        {
          "output_type": "stream",
          "name": "stdout",
          "text": [
            "La probabilidad de obtener al azar una persona con estatura entre 1.60 y 1.80 mt es de 50.00 %\n"
          ]
        }
      ]
    },
    {
      "cell_type": "code",
      "metadata": {
        "id": "MjEfhnQEG3E5"
      },
      "source": [],
      "execution_count": 447,
      "outputs": []
    },
    {
      "cell_type": "markdown",
      "metadata": {
        "id": "05sqVgdaG3E-"
      },
      "source": [
        "### Problema C - Identificación del área bajo la curva"
      ]
    },
    {
      "cell_type": "markdown",
      "metadata": {
        "id": "EPKhGTEkG3E_"
      },
      "source": [
        "<img style='float: left' src='https://caelum-online-public.s3.amazonaws.com/ESP-1764-estadistica-con-python-probabilidad-y-muestreo/img006.png' width='350px'>"
      ]
    },
    {
      "cell_type": "markdown",
      "metadata": {
        "id": "BA6jYbsSG3E_"
      },
      "source": [
        "### Obtener la variable estandarizada $Z$"
      ]
    },
    {
      "cell_type": "markdown",
      "metadata": {
        "id": "hCiiWAm_G3FC"
      },
      "source": [
        "### Solución 1 - Utilizando la tabla<br>\n"
      ]
    },
    {
      "cell_type": "code",
      "metadata": {
        "id": "3OVj60MzG3E_",
        "colab": {
          "base_uri": "https://localhost:8080/"
        },
        "outputId": "0c8cc47c-edbc-497a-8997-1b2fd3544875"
      },
      "source": [
        "media=1.7\n",
        "#print(f'La media es {media}')\n",
        "desvest= 0.1\n",
        "#print (f'La desviación estándar es {desvest}')\n",
        "x=1.9\n",
        "#print(f'El valor de x es {x}')\n",
        "Z_19=(x-media)/desvest\n",
        "print(f'El valor de Z es {Z_19}')\n"
      ],
      "execution_count": 448,
      "outputs": [
        {
          "output_type": "stream",
          "name": "stdout",
          "text": [
            "El valor de Z es 1.9999999999999996\n"
          ]
        }
      ]
    },
    {
      "cell_type": "markdown",
      "source": [
        "Ingresamos a la tabla con z=1.99<br>\n",
        "\n",
        "|z|0.00|0.1|0.2|0.3|0.4|0.5|0.6|0.7|0.8|0.9|\n",
        "|---|---|---|---|---|---|---|---|---|---|---|\n",
        "|1.80\t|0.9641\t|0.9649\t|0.9656\t|0.9664\t|0.9671\t|0.9678\t|0.9686\t|0.9693\t|0.9699\t|0.9706|\n",
        "|1.90\t|0.9713\t|0.9719\t|0.9726\t|0.9732\t|0.9738\t|0.9744\t|0.9750\t|0.9756\t|0.9761\t|<u>**0.9767**</u>|\n",
        "|2.00\t|0.9772\t|0.9778\t|0.9783\t|0.9788\t|0.9793\t|0.9798\t|0.9803\t|0.9808\t|0.9812\t|0.9817|\n",
        "\n",
        "Obtenemos: <u>**0.9767**</u>"
      ],
      "metadata": {
        "id": "2u1wF0rSBo6J"
      }
    },
    {
      "cell_type": "code",
      "source": [
        "probabilidad_19=0.9767*100\n",
        "print(f'La probabilidad de obtener estatura menor o = a 1.90 es {probabilidad_19:.2f} %')"
      ],
      "metadata": {
        "colab": {
          "base_uri": "https://localhost:8080/"
        },
        "id": "DO3DxH7zB11s",
        "outputId": "08329d6d-9648-4293-9320-e86eec910355"
      },
      "execution_count": 449,
      "outputs": [
        {
          "output_type": "stream",
          "name": "stdout",
          "text": [
            "La probabilidad de obtener estatura menor o = a 1.90 es 97.67 %\n"
          ]
        }
      ]
    },
    {
      "cell_type": "markdown",
      "source": [
        "Pero como necesitamos el valor del área de la curva después de 1.90, tenemos que restar este valor a 1"
      ],
      "metadata": {
        "id": "KhvVIne1EBkb"
      }
    },
    {
      "cell_type": "code",
      "source": [
        "Probabilidad_1_9_def= (1 -0.9767)*100\n",
        "print(f'La probabilidad de obtener estatura mayor a 1.90 es {Probabilidad_1_9_def:.2f} %')"
      ],
      "metadata": {
        "colab": {
          "base_uri": "https://localhost:8080/"
        },
        "id": "7mjn-2uPEOVG",
        "outputId": "b4ce8f7c-b3d1-4af9-f9a2-69af89dd0b4b"
      },
      "execution_count": 450,
      "outputs": [
        {
          "output_type": "stream",
          "name": "stdout",
          "text": [
            "La probabilidad de obtener estatura mayor a 1.90 es 2.33 %\n"
          ]
        }
      ]
    },
    {
      "cell_type": "markdown",
      "metadata": {
        "id": "QCyoVXOdG3FF"
      },
      "source": [
        "### Solución 2 - Utilizando Scipy"
      ]
    },
    {
      "cell_type": "code",
      "metadata": {
        "id": "caIE-t83G3FF",
        "colab": {
          "base_uri": "https://localhost:8080/"
        },
        "outputId": "7cbfc427-ca85-4703-f6dc-c180be5383ea"
      },
      "source": [
        "media=1.7\n",
        "desvest= 0.1\n",
        "x=1.9\n",
        "Z_19=(x-media)/desvest\n",
        "print(f'El valor de Z es {Z_19}')\n",
        "from scipy.stats import norm\n",
        "probabilidad_19=(norm.cdf(Z_19))\n",
        "print(f'La probabilidad hasta 1.90 de la curva es {probabilidad_19:.4f} %')\n",
        "probabilidad_1_9_def= ((1-probabilidad_19)*100)\n",
        "print(f'La probabilidad sobre 1.90 es {probabilidad_1_9_def:.2f} %')"
      ],
      "execution_count": 451,
      "outputs": [
        {
          "output_type": "stream",
          "name": "stdout",
          "text": [
            "El valor de Z es 1.9999999999999996\n",
            "La probabilidad hasta 1.90 de la curva es 0.9772 %\n",
            "La probabilidad sobre 1.90 es 2.28 %\n"
          ]
        }
      ]
    },
    {
      "cell_type": "markdown",
      "source": [
        "Si utilizo \"-Z\" en vez de \"Z\" en la fórmula, estaré haciendo referencia a la zona blanca, contraria al área en gris.<br>\n",
        "***Me evito un paso de tener que restar a 1 el valor de \"Z\"***<br>\n",
        "Es decir, se entiende que \"Z\" representa la zona en gris, por lo tanto \"-Z\" representa la zona en blanco."
      ],
      "metadata": {
        "id": "KBj_QnqiF_Wq"
      }
    },
    {
      "cell_type": "code",
      "source": [
        "probabilidad_19=(norm.cdf(-Z_19))*100\n",
        "print(f'La probabilidad sobre 1.90 es {probabilidad_19:.2f} %')"
      ],
      "metadata": {
        "colab": {
          "base_uri": "https://localhost:8080/"
        },
        "id": "KtzhdtdrGb9T",
        "outputId": "c3ced3b8-4d29-4969-8650-1d1a3996e860"
      },
      "execution_count": 452,
      "outputs": [
        {
          "output_type": "stream",
          "name": "stdout",
          "text": [
            "La probabilidad sobre 1.90 es 2.28 %\n"
          ]
        }
      ]
    },
    {
      "cell_type": "markdown",
      "source": [
        "#####Ejercicio 03_3 Dist Normal\n",
        "Una empresa verificó que las lámparas incandescentes XPTO tienen una vida útil normalmente distribuida, con un media igual a 720 días y una desviación estándar igual a 30 días. Calcula la probabilidad de que una lámpara, elegida al azar, dure:\n",
        "\n",
        "1) Entre 650 y 750 días\n",
        "\n",
        "2) Más de 800 días\n",
        "\n",
        "3) Menos de 700 días"
      ],
      "metadata": {
        "id": "PzIwv5viLunT"
      }
    },
    {
      "cell_type": "code",
      "source": [
        "# 1) CÁLCULO PROBABILIDAD VIDA ÚTIL ENTRE 650 Y 750 DÍAS\n",
        "\n",
        "#z para 650 días\n",
        "media=720\n",
        "desvest= 30\n",
        "x=650\n",
        "z_650=(x-media)/desvest\n",
        "print(f'El valor de Z para 650 días es {z_650:.4f}')\n",
        "\n",
        "#z para 750 días\n",
        "media=720\n",
        "desvest= 30\n",
        "x=750\n",
        "z_750=(x-media)/desvest\n",
        "print(f'El valor de Z para 750 días es {z_750:.4f}')\n",
        "\n",
        "#Resta entre ambas \"z\"\n",
        "z_650_750=z_650+z_750 #suma para representar valor absoluto\n",
        "print(f'El valor de Z es {z_650_750:.20f}')\n",
        "\n",
        "# Probabilidad\n",
        "probabilidad_650_750=(norm.cdf(z_650_750))*100\n",
        "print(f'La probabilidad de una vida útil entre 650 y 750 días es {probabilidad_650_750:.2f} %')\n"
      ],
      "metadata": {
        "colab": {
          "base_uri": "https://localhost:8080/"
        },
        "id": "-aC6SmaML3L3",
        "outputId": "dfb2995a-78b1-479b-cd7b-9096aebdf963"
      },
      "execution_count": 453,
      "outputs": [
        {
          "output_type": "stream",
          "name": "stdout",
          "text": [
            "El valor de Z para 650 días es -2.3333\n",
            "El valor de Z para 750 días es 1.0000\n",
            "El valor de Z es -1.33333333333333348136\n",
            "La probabilidad de una vida útil entre 650 y 750 días es 9.12 %\n"
          ]
        }
      ]
    },
    {
      "cell_type": "code",
      "source": [
        "# 2) CÁLCULO PROBABILIDAD VIDA ÚTIL MAS DE 800 DÍAS\n",
        "\n",
        "# Cálculo de \"z\" para 800 días\n",
        "media=720\n",
        "desvest= 30\n",
        "x=800\n",
        "z_800=(x-media)/desvest\n",
        "print(f'El valor de Z para 800 días es {z_800:.4f}')\n",
        "\n",
        "# Probabilidad\n",
        "probabilidad_800=(norm.cdf(-z_800))*100 #-z para lo que está mas allá de 800 días en la curva\n",
        "print(f'La probabilidad de una vida útil mayor a 800 días es {probabilidad_800:.2f} %')"
      ],
      "metadata": {
        "colab": {
          "base_uri": "https://localhost:8080/"
        },
        "id": "UvbKjKglOYdn",
        "outputId": "51d0df5e-d43d-4aff-8c9f-15b14849df3d"
      },
      "execution_count": 454,
      "outputs": [
        {
          "output_type": "stream",
          "name": "stdout",
          "text": [
            "El valor de Z para 800 días es 2.6667\n",
            "La probabilidad de una vida útil mayor a 800 días es 0.38 %\n"
          ]
        }
      ]
    },
    {
      "cell_type": "markdown",
      "source": [
        "|Z\t|0.00\t|0.01\t|0.02\t|0.03\t|0.04\t|0.05\t|0.06| 0.07|\n",
        "|---|---|---|---|---|---|---|---|---|\n",
        "|2.60\t|0.9953\t|0.9955\t|0.9956\t|0.9957\t|0.9959\t|0.9960\t|0.9961|<u>**0.9962**</u>|<br>\n",
        "Según tabla 9.96%\n"
      ],
      "metadata": {
        "id": "FDl5Ws_wPc-v"
      }
    },
    {
      "cell_type": "code",
      "source": [
        "# 3) CÁLCULO PROBABILIDAD VIDA ÚTIL MENOS DE 700 DÍAS\n",
        "\n",
        "# Cálculo de \"z\" para 800 días\n",
        "media=720\n",
        "desvest= 30\n",
        "x=700\n",
        "z_700=(x-media)/desvest\n",
        "print(f'El valor de Z para menos de 700 días es {z_700:.4f}')\n",
        "\n",
        "# Probabilidad\n",
        "probabilidad_700=(norm.cdf(z_700))*100 #-z para lo que está mas allá de 800 días en la curva\n",
        "print(f'La probabilidad de una vida útil menor a 700 días es {probabilidad_700:.2f} %')"
      ],
      "metadata": {
        "colab": {
          "base_uri": "https://localhost:8080/"
        },
        "id": "m8D7tAULQ6lN",
        "outputId": "b3b2f080-b42c-43ae-88d1-96c45bfb332c"
      },
      "execution_count": 455,
      "outputs": [
        {
          "output_type": "stream",
          "name": "stdout",
          "text": [
            "El valor de Z para menos de 700 días es -0.6667\n",
            "La probabilidad de una vida útil menor a 700 días es 25.25 %\n"
          ]
        }
      ]
    },
    {
      "cell_type": "markdown",
      "source": [
        "|Z\t|0.00\t|0.01\t|0.02\t|0.03\t|0.04\t|0.05\t|0.06\t|0.07|\n",
        "|---|---|---|---|---|---|---|---|---|\n",
        "|0.60\t|0.7257\t|0.7291\t|0.7324\t|0.7357\t|0.7389\t|0.7422\t|0.7454\t|<u>**0.7486**</u>|\n",
        "Según tabla 7.49 %"
      ],
      "metadata": {
        "id": "yUJxd3K6RnIt"
      }
    },
    {
      "cell_type": "code",
      "source": [
        "print(f'Resultado 1){probabilidad_650_750:.2f}; 2){probabilidad_800:.2f}; 3){probabilidad_700:.2f} %')"
      ],
      "metadata": {
        "colab": {
          "base_uri": "https://localhost:8080/"
        },
        "id": "V5cXw5WRSs5L",
        "outputId": "dc8a2d45-3719-48b1-a23f-9a611609a61f"
      },
      "execution_count": 456,
      "outputs": [
        {
          "output_type": "stream",
          "name": "stdout",
          "text": [
            "Resultado 1)9.12; 2)0.38; 3)25.25 %\n"
          ]
        }
      ]
    },
    {
      "cell_type": "markdown",
      "source": [
        "Resultado correcto = 1) 83,15%; 2) 0,38%; 3) 25,25%"
      ],
      "metadata": {
        "id": "_VGtWkfrRbwf"
      }
    },
    {
      "cell_type": "markdown",
      "source": [
        "Usando la tabla estandarizada, o las herramientas proporcionadas por Python, encuentre el área debajo de la curva normal para los valores Z a continuación:\n",
        "\n",
        "1) Z < 1,96\n",
        "\n",
        "2) Z > 2,15\n",
        "\n",
        "3) Z < -0,78\n",
        "\n",
        "4) Z > 0,59"
      ],
      "metadata": {
        "id": "1JH2I9Trfm0x"
      }
    },
    {
      "cell_type": "markdown",
      "source": [
        "|Z\t|0.00\t|0.01\t|0.02\t|0.03\t|0.04\t|0.05\t|0.06\t|0.07\t|0.08\t|0.09|\n",
        "|---|---|---|---|---|---|---|---|---|---|---|\n",
        "|0.50\t|0.6915\t|0.6950\t|0.6985\t|0.7019\t|0.7054\t|0.7088\t|0.7123\t|0.7157\t|0.7190\t|0.7224\n",
        "|0.60\t|<u>0.7257</u>\t|0.7291\t|0.7324\t|0.7357\t|0.7389\t|0.7422\t|0.7454\t|0.7486\t|0.7517\t|0.7549|\n",
        "|0.70\t|0.7580\t|0.7611\t|0.7642\t|0.7673\t|0.7704\t|0.7734\t|0.7764\t|0.7794\t|0.7823\t|0.7852|\n",
        "|1.90\t|0.9713\t|0.9719\t|0.9726\t|0.9732\t|0.9738\t|<u>0.9744</u>\t|0.9750\t|0.9756\t|0.9761\t|0.9767|\n",
        "|2.10\t|0.9821\t|0.9826\t|0.9830\t|0.9834\t|0.9838\t|0.9842\t|<u>0.9846</u>\t|0.9850\t|0.9854\t|0.9857|\n",
        "\n",
        "\n",
        "\n"
      ],
      "metadata": {
        "id": "yBHavuFDf1G4"
      }
    },
    {
      "cell_type": "code",
      "source": [
        "print('Resultados:\\n1) Z < 1,96 = 0.9744\\n2) Z > 2,15 = 0.9846\\n3) Z < -0,78 = 0.7257\\n4) Z > 0,59 = 0.7611')\n"
      ],
      "metadata": {
        "colab": {
          "base_uri": "https://localhost:8080/"
        },
        "id": "2736ZrTkhr5m",
        "outputId": "53bad477-0eba-4684-c0ac-74eb68ccbf0e"
      },
      "execution_count": 457,
      "outputs": [
        {
          "output_type": "stream",
          "name": "stdout",
          "text": [
            "Resultados:\n",
            "1) Z < 1,96 = 0.9744\n",
            "2) Z > 2,15 = 0.9846\n",
            "3) Z < -0,78 = 0.7257\n",
            "4) Z > 0,59 = 0.7611\n"
          ]
        }
      ]
    },
    {
      "cell_type": "code",
      "source": [
        "from scipy.stats import norm\n",
        "\n",
        "# Item A\n",
        "probabilidad = norm.cdf(1.96)\n",
        "print(f'{probabilidad:0.4f}')\n",
        "\n",
        "# Item B\n",
        "probabilidad = 1 - norm.cdf(2.15)\n",
        "# o -> probabilidad = norm.sf(2.15)\n",
        "print(f'{probabilidad:0.4f}')\n",
        "\n",
        "# Item C\n",
        "probabilidad = norm.cdf(-0.78)\n",
        "print(f'{probabilidad:0.4f}')\n",
        "\n",
        "# Item D\n",
        "probabilidad = 1 - norm.cdf(0.59)\n",
        "# o -> probabilidad = norm.sf(0.59)\n",
        "print(f'{probabilidad:0.4f}')"
      ],
      "metadata": {
        "colab": {
          "base_uri": "https://localhost:8080/"
        },
        "id": "eIeOrlBojW5S",
        "outputId": "3f672805-e53e-492a-894d-e597441ade3a"
      },
      "execution_count": 458,
      "outputs": [
        {
          "output_type": "stream",
          "name": "stdout",
          "text": [
            "0.9750\n",
            "0.0158\n",
            "0.2177\n",
            "0.2776\n"
          ]
        }
      ]
    },
    {
      "cell_type": "markdown",
      "metadata": {
        "id": "GmmzChE2t4wW"
      },
      "source": [
        "# <font color=green>3 MUESTREO</font>\n",
        "***"
      ]
    },
    {
      "cell_type": "markdown",
      "metadata": {
        "id": "g8PbtmQZt4Wv"
      },
      "source": [
        "## <font color=green>3.1 Población y Muestra</font>\n",
        "***"
      ]
    },
    {
      "cell_type": "markdown",
      "metadata": {
        "id": "sedD5gB9G3FV"
      },
      "source": [
        "### Población\n",
        "Conjunto de todos los elementos de interés de un estudio. Varios elementos pueden componer una población, por ejemplo: personas, edades, alturas, automóviles, etc.\n",
        "\n",
        "En cuanto al tamaño, las poblaciones pueden ser limitadas (poblaciones finitas) o ilimitadas (poblaciones infinitas)."
      ]
    },
    {
      "cell_type": "markdown",
      "metadata": {
        "id": "XBFhAWNcG3FW"
      },
      "source": [
        "### Poblaciones finitas\n",
        "\n",
        "Permiten el recuento de sus elementos. Los ejemplos incluyen el número de empleados en una empresa, el número de estudiantes en una escuela, etc."
      ]
    },
    {
      "cell_type": "markdown",
      "metadata": {
        "id": "YT8V2GB1G3FW"
      },
      "source": [
        "### Poblaciones infinitas\n",
        "\n",
        "No es posible contar sus elementos. Como ejemplos tenemos el número de porciones que se pueden extraer del agua del mar para su análisis, la temperatura medida en cada punto de un territorio, etc.\n",
        "\n",
        "<font color=red>Cuando se pueden contar los elementos de una población, pero presentando una cantidad muy grande, se supone que la población es infinita.</font>"
      ]
    },
    {
      "cell_type": "markdown",
      "metadata": {
        "id": "a-WtAXv1G3FX"
      },
      "source": [
        "### Muestra\n",
        "Subconjunto representativo de la población."
      ]
    },
    {
      "cell_type": "markdown",
      "metadata": {
        "id": "QWnDYpPSG3FX"
      },
      "source": [
        "Los atributos numéricos de una población, como su media, varianza y desviación estándar, se conocen como **parámetros**. El enfoque principal de la inferencia estadística es precisamente generar estimaciones y probar hipótesis sobre parámetros poblacionales utilizando información de la muestra."
      ]
    },
    {
      "cell_type": "markdown",
      "metadata": {
        "id": "dDz6vFbDG3FZ"
      },
      "source": [
        "## <font color=green>3.2 ¿Cuándo usar una muestra?</font>\n",
        "***"
      ]
    },
    {
      "cell_type": "markdown",
      "metadata": {
        "id": "5X1YwCGlG3Fe"
      },
      "source": [
        "### Poblaciones infinitas\n",
        "\n",
        "El estudio nunca llegaría a su fin. No es posible investigar todos los elementos de la población."
      ]
    },
    {
      "cell_type": "markdown",
      "metadata": {
        "id": "jHLtG8HSG3Ff"
      },
      "source": [
        "### Pruebas destructivas\n",
        "\n",
        "Estudios donde los elementos evaluados son totalmente consumidos o destruidos. Ejemplo: pruebas de vida útil, pruebas de seguridad en accidentes de tráfico."
      ]
    },
    {
      "cell_type": "markdown",
      "metadata": {
        "id": "lxYxepmdG3Ff"
      },
      "source": [
        "### Resultados rápidos\n",
        "\n",
        "Investigaciones que necesitan más agilidad en la difusión. Ejemplo: encuestas de opinión, encuestas sobre problemas de salud pública."
      ]
    },
    {
      "cell_type": "markdown",
      "metadata": {
        "id": "PeUCGL5nG3Fj"
      },
      "source": [
        "### Altos precios\n",
        "\n",
        "Cuando la población es finita pero muy grande, el costo de un censo puede hacer inviable el proceso."
      ]
    },
    {
      "cell_type": "markdown",
      "metadata": {
        "id": "1sbJeMpSG3Fj"
      },
      "source": [
        "## <font color=green>3.3 Muestreo Aleatorio Simple</font>\n",
        "***"
      ]
    },
    {
      "cell_type": "markdown",
      "metadata": {
        "id": "Kiq9cYMYG3Fp"
      },
      "source": [
        "Es una de las principales formas de extraer una muestra de una población. El requisito fundamental de este tipo de enfoque es que **cada elemento de la población tenga las mismas posibilidades de ser seleccionado para formar parte de la muestra**."
      ]
    },
    {
      "cell_type": "markdown",
      "source": [
        "P.ej.: Si tenemos una población con 40% de hombres, debemos garantizar un valor próximo a éste en nuestra muestra."
      ],
      "metadata": {
        "id": "P1vHOpGqmesV"
      }
    },
    {
      "cell_type": "code",
      "metadata": {
        "id": "NtQ8HOYdG3Fq",
        "colab": {
          "base_uri": "https://localhost:8080/"
        },
        "outputId": "25303b68-c1de-4418-a218-869a233551ce"
      },
      "source": [
        "#Primero vemos cuantos datos tiene mi muestra\n",
        "datos.shape[0]"
      ],
      "execution_count": 459,
      "outputs": [
        {
          "output_type": "execute_result",
          "data": {
            "text/plain": [
              "76840"
            ]
          },
          "metadata": {},
          "execution_count": 459
        }
      ]
    },
    {
      "cell_type": "code",
      "metadata": {
        "id": "DsXJHWhMG3Fs",
        "colab": {
          "base_uri": "https://localhost:8080/"
        },
        "outputId": "7586a9cb-048b-4199-f463-58dcbfec4c77"
      },
      "source": [
        "# Luego vemos cuál es la media de Ingresos\n",
        "datos.Ingreso.mean()"
      ],
      "execution_count": 460,
      "outputs": [
        {
          "output_type": "execute_result",
          "data": {
            "text/plain": [
              "np.float64(2000.3831988547631)"
            ]
          },
          "metadata": {},
          "execution_count": 460
        }
      ]
    },
    {
      "cell_type": "markdown",
      "source": [
        "¿Para qué vamos seleccionar una muestra? Para hacer inferencias sobre los parámetros de la población, que sea representativa y con un error controlado.<br>\n",
        "Entonces, vamos a crear una muestra aleatoria simple"
      ],
      "metadata": {
        "id": "LZ7TXbulnXTo"
      }
    },
    {
      "cell_type": "code",
      "metadata": {
        "id": "k7yJucVMG3Fw"
      },
      "source": [
        "# Crea muestra aleatoria simple de 100 datos\n",
        "muestra=datos.sample(n=100, random_state=101)"
      ],
      "execution_count": 461,
      "outputs": []
    },
    {
      "cell_type": "code",
      "metadata": {
        "id": "wUyXS65sG3F2",
        "colab": {
          "base_uri": "https://localhost:8080/"
        },
        "outputId": "90b690cd-a77f-4f5b-daed-e1a515ce3412"
      },
      "source": [
        "# Revisamos si seleccionó los 100 datos\n",
        "muestra.shape[0]"
      ],
      "execution_count": 462,
      "outputs": [
        {
          "output_type": "execute_result",
          "data": {
            "text/plain": [
              "100"
            ]
          },
          "metadata": {},
          "execution_count": 462
        }
      ]
    },
    {
      "cell_type": "code",
      "metadata": {
        "id": "y0J4UtOwG3F5",
        "colab": {
          "base_uri": "https://localhost:8080/"
        },
        "outputId": "20248c60-8b96-441b-b62e-fb00c1a70cb4"
      },
      "source": [
        "# Calculamos la media para la muestra\n",
        "muestra.Ingreso.mean()"
      ],
      "execution_count": 463,
      "outputs": [
        {
          "output_type": "execute_result",
          "data": {
            "text/plain": [
              "np.float64(2150.85)"
            ]
          },
          "metadata": {},
          "execution_count": 463
        }
      ]
    },
    {
      "cell_type": "markdown",
      "source": [
        "Obtuvimos una media levemente superior, pero como se trata de una muestra, e supone que debe tener un pequeño margen de error.<br>\n",
        "Cuanto mayor el tamaño de la muestra, el valor de la media se acercará al valor original.<br>\n",
        "\n",
        "Vamos a hacer una prueba sobre la distribución del sexo maculino en la muestra que debeía bordear el 69%, usando value.counts()"
      ],
      "metadata": {
        "id": "_rnr0Xmjr0MZ"
      }
    },
    {
      "cell_type": "code",
      "metadata": {
        "id": "WGZT_wnjSgPy",
        "colab": {
          "base_uri": "https://localhost:8080/",
          "height": 178
        },
        "outputId": "5b4829b7-9535-407f-cb4a-8fd026493050"
      },
      "source": [
        "# Vamos a verificar la distribución de sexo en la población\n",
        "datos.Sexo.value_counts(normalize=True)"
      ],
      "execution_count": 464,
      "outputs": [
        {
          "output_type": "execute_result",
          "data": {
            "text/plain": [
              "Sexo\n",
              "0    0.692998\n",
              "1    0.307002\n",
              "Name: proportion, dtype: float64"
            ],
            "text/html": [
              "<div>\n",
              "<style scoped>\n",
              "    .dataframe tbody tr th:only-of-type {\n",
              "        vertical-align: middle;\n",
              "    }\n",
              "\n",
              "    .dataframe tbody tr th {\n",
              "        vertical-align: top;\n",
              "    }\n",
              "\n",
              "    .dataframe thead th {\n",
              "        text-align: right;\n",
              "    }\n",
              "</style>\n",
              "<table border=\"1\" class=\"dataframe\">\n",
              "  <thead>\n",
              "    <tr style=\"text-align: right;\">\n",
              "      <th></th>\n",
              "      <th>proportion</th>\n",
              "    </tr>\n",
              "    <tr>\n",
              "      <th>Sexo</th>\n",
              "      <th></th>\n",
              "    </tr>\n",
              "  </thead>\n",
              "  <tbody>\n",
              "    <tr>\n",
              "      <th>0</th>\n",
              "      <td>0.692998</td>\n",
              "    </tr>\n",
              "    <tr>\n",
              "      <th>1</th>\n",
              "      <td>0.307002</td>\n",
              "    </tr>\n",
              "  </tbody>\n",
              "</table>\n",
              "</div><br><label><b>dtype:</b> float64</label>"
            ]
          },
          "metadata": {},
          "execution_count": 464
        }
      ]
    },
    {
      "cell_type": "code",
      "metadata": {
        "id": "1la3Y_reSgEM",
        "colab": {
          "base_uri": "https://localhost:8080/",
          "height": 178
        },
        "outputId": "59135246-e367-426c-add6-bf9628fa0ced"
      },
      "source": [
        "# Vamos a verificar la distribución de sexo en la muestra\n",
        "muestra.Sexo.value_counts(normalize=True)"
      ],
      "execution_count": 465,
      "outputs": [
        {
          "output_type": "execute_result",
          "data": {
            "text/plain": [
              "Sexo\n",
              "0    0.69\n",
              "1    0.31\n",
              "Name: proportion, dtype: float64"
            ],
            "text/html": [
              "<div>\n",
              "<style scoped>\n",
              "    .dataframe tbody tr th:only-of-type {\n",
              "        vertical-align: middle;\n",
              "    }\n",
              "\n",
              "    .dataframe tbody tr th {\n",
              "        vertical-align: top;\n",
              "    }\n",
              "\n",
              "    .dataframe thead th {\n",
              "        text-align: right;\n",
              "    }\n",
              "</style>\n",
              "<table border=\"1\" class=\"dataframe\">\n",
              "  <thead>\n",
              "    <tr style=\"text-align: right;\">\n",
              "      <th></th>\n",
              "      <th>proportion</th>\n",
              "    </tr>\n",
              "    <tr>\n",
              "      <th>Sexo</th>\n",
              "      <th></th>\n",
              "    </tr>\n",
              "  </thead>\n",
              "  <tbody>\n",
              "    <tr>\n",
              "      <th>0</th>\n",
              "      <td>0.69</td>\n",
              "    </tr>\n",
              "    <tr>\n",
              "      <th>1</th>\n",
              "      <td>0.31</td>\n",
              "    </tr>\n",
              "  </tbody>\n",
              "</table>\n",
              "</div><br><label><b>dtype:</b> float64</label>"
            ]
          },
          "metadata": {},
          "execution_count": 465
        }
      ]
    },
    {
      "cell_type": "markdown",
      "source": [
        "Los valores de la muestra son similares a la población, pero no comprueban que sea suficientemente representativa."
      ],
      "metadata": {
        "id": "1JL0Cu6otOqR"
      }
    },
    {
      "cell_type": "markdown",
      "source": [
        "Hacemos lo mismo para una muestra mas grande de 1000 datos"
      ],
      "metadata": {
        "id": "m6g7dlDLtiIM"
      }
    },
    {
      "cell_type": "code",
      "source": [
        "# Crea muestra aleatoria simple de 1000 datos\n",
        "muestra=datos.sample(n=1000, random_state=101)\n",
        "\n",
        "# Revisamos si seleccionó los 100 datos\n",
        "muestra.shape[0]\n",
        "\n",
        "# Calculamos la media para la muestra\n",
        "muestra.Ingreso.mean()"
      ],
      "metadata": {
        "colab": {
          "base_uri": "https://localhost:8080/"
        },
        "id": "l63CN8Q3tnwg",
        "outputId": "27aec24e-3ec6-44c0-be97-cd378116b25d"
      },
      "execution_count": 466,
      "outputs": [
        {
          "output_type": "execute_result",
          "data": {
            "text/plain": [
              "np.float64(1998.783)"
            ]
          },
          "metadata": {},
          "execution_count": 466
        }
      ]
    },
    {
      "cell_type": "markdown",
      "source": [
        "Ahora la media está mucho mas próxima a la media de la población"
      ],
      "metadata": {
        "id": "rASUhMnTt897"
      }
    },
    {
      "cell_type": "code",
      "source": [
        "# Vamos a verificar la distribución de sexo en la muestra\n",
        "muestra.Sexo.value_counts(normalize=True)"
      ],
      "metadata": {
        "colab": {
          "base_uri": "https://localhost:8080/",
          "height": 178
        },
        "id": "he8zoh7_uHbL",
        "outputId": "921fb4c9-b1aa-4119-c2c6-8c198975e333"
      },
      "execution_count": 467,
      "outputs": [
        {
          "output_type": "execute_result",
          "data": {
            "text/plain": [
              "Sexo\n",
              "0    0.706\n",
              "1    0.294\n",
              "Name: proportion, dtype: float64"
            ],
            "text/html": [
              "<div>\n",
              "<style scoped>\n",
              "    .dataframe tbody tr th:only-of-type {\n",
              "        vertical-align: middle;\n",
              "    }\n",
              "\n",
              "    .dataframe tbody tr th {\n",
              "        vertical-align: top;\n",
              "    }\n",
              "\n",
              "    .dataframe thead th {\n",
              "        text-align: right;\n",
              "    }\n",
              "</style>\n",
              "<table border=\"1\" class=\"dataframe\">\n",
              "  <thead>\n",
              "    <tr style=\"text-align: right;\">\n",
              "      <th></th>\n",
              "      <th>proportion</th>\n",
              "    </tr>\n",
              "    <tr>\n",
              "      <th>Sexo</th>\n",
              "      <th></th>\n",
              "    </tr>\n",
              "  </thead>\n",
              "  <tbody>\n",
              "    <tr>\n",
              "      <th>0</th>\n",
              "      <td>0.706</td>\n",
              "    </tr>\n",
              "    <tr>\n",
              "      <th>1</th>\n",
              "      <td>0.294</td>\n",
              "    </tr>\n",
              "  </tbody>\n",
              "</table>\n",
              "</div><br><label><b>dtype:</b> float64</label>"
            ]
          },
          "metadata": {},
          "execution_count": 467
        }
      ]
    },
    {
      "cell_type": "markdown",
      "source": [
        "Cambio la distribución, pero con valores muy cercanos a la distribución de la población"
      ],
      "metadata": {
        "id": "wQdlILWuuLMX"
      }
    },
    {
      "cell_type": "markdown",
      "metadata": {
        "id": "stcKhnJBG3F7"
      },
      "source": [
        "## <font color=green>3.4 Muestreo Estratificado</font>\n",
        "***"
      ]
    },
    {
      "cell_type": "markdown",
      "metadata": {
        "id": "W1uEZMRIG3GA"
      },
      "source": [
        "Es una mejora del proceso de muestreo aleatorio simple. En este método, se propone dividir la población en subgrupos de elementos con características similares, es decir, grupos más homogéneos. Con estos subgrupos separados, la técnica de muestreo aleatorio simple dentro de cada subgrupo se aplica individualmente."
      ]
    },
    {
      "cell_type": "markdown",
      "source": [
        "P.ej.: Una población con clases de ingreso A, B, C, D donde la población es homogénea. Entonces haremos un muestreo eleatorio simple en cada grupo."
      ],
      "metadata": {
        "id": "nTnt27_kvKor"
      }
    },
    {
      "cell_type": "markdown",
      "metadata": {
        "id": "xRjUHDAbG3GB"
      },
      "source": [
        "## <font color=green>3.5 Muestreo por Conglomerados</font>\n",
        "***"
      ]
    },
    {
      "cell_type": "markdown",
      "metadata": {
        "id": "sW9IuaL9G3GH"
      },
      "source": [
        "También tiene como objetivo mejorar el criterio de muestreo aleatorio simple. En el muestreo por conglomerados también se crean subgrupos, pero no serán homogéneos como en el muestreo estratificado. En el muestreo por conglomerados los subgrupos serán heterogéneos, donde luego se aplicará un muestreo aleatorio simple o estratificado.\n",
        "\n",
        "Un ejemplo muy común de la aplicación de este tipo de técnica es la división de la población en grupos territoriales, donde los elementos investigados tendrán características bastante variadas."
      ]
    },
    {
      "cell_type": "markdown",
      "source": [
        "La diferencia con la anterior es que los grupos son hetereogéneos. P.ej.: grupos por provincia, por municipios, por barrios, etc."
      ],
      "metadata": {
        "id": "uoClVJELwEZ4"
      }
    },
    {
      "cell_type": "markdown",
      "metadata": {
        "id": "2LNJT4FEuzO4"
      },
      "source": [
        "# <font color=green>4 ESTIMACIÓN</font>\n",
        "***"
      ]
    },
    {
      "cell_type": "markdown",
      "source": [
        "Sabemos que los parámetros de la población son los atributos numéricos de ésta. Media Desv STD, entre otros.<br>\n",
        "\n",
        "Ahora vamos a trabajar con muestras que tienen un cierto error inherente por el hecho de ser muestra y no la población completa.<br>\n",
        "\n",
        "Entonces vamos a aprender a calcular esos errores"
      ],
      "metadata": {
        "id": "igfk1q13w7KM"
      }
    },
    {
      "cell_type": "code",
      "source": [],
      "metadata": {
        "id": "B5A7Bi5axbPE"
      },
      "execution_count": 467,
      "outputs": []
    },
    {
      "cell_type": "markdown",
      "metadata": {
        "id": "z69W2sVGmybS"
      },
      "source": [
        "## <font color='red'>Problema </font>"
      ]
    },
    {
      "cell_type": "markdown",
      "metadata": {
        "id": "ytP6VpismwDY"
      },
      "source": [
        "Suponga que los pesos de las bolsas de arroz de una industria alimentaria se distribuyen aproximadamente como una distribución normal **desviación estándar igual a 150 g**. Se seleccionó una **muestra aleatoria de 20 bolsas** de un lote específico, se obtuvo un **peso promedio de 5.050 g**. Construya un **intervalo de confianza para la media de la población** asumiendo un **nivel de significancia del 5%**."
      ]
    },
    {
      "cell_type": "markdown",
      "metadata": {
        "id": "PCqEvJMOwvUf"
      },
      "source": [
        "---"
      ]
    },
    {
      "cell_type": "markdown",
      "metadata": {
        "id": "HU578SXBG3GN"
      },
      "source": [
        "Es la forma de hacer suposiciones generalizadas sobre los parámetros de una población a partir de información de una muestra.\n",
        "\n",
        "- **Los parámetros** son los atributos numéricos de una población, como la media, la desviación estándar, etc.\n",
        "\n",
        "- **Estimación** es el valor obtenido para un parámetro dado a partir de los datos de una muestra de la población."
      ]
    },
    {
      "cell_type": "markdown",
      "metadata": {
        "id": "klWVkoUDG3GR"
      },
      "source": [
        "## <font color=green>4.1 Teorema central del límite</font>\n",
        "***"
      ]
    },
    {
      "cell_type": "markdown",
      "metadata": {
        "id": "QpgTvbISG3GU"
      },
      "source": [
        "> El **Teorema Central del Límite** establece que, con el aumento del tamaño de la muestra, la distribución de las medias muestrales se aproxima a una distribución normal con media igual a la media de la población y una desviación estándar igual a la desviación estándar de la variable original dividida por la raíz cuadrada del tamaño de la muestra. Este hecho está asegurado para $n$ mayores o iguales a 30."
      ]
    },
    {
      "cell_type": "markdown",
      "metadata": {
        "id": "ZIAr6is3wEMp"
      },
      "source": [
        "# $$\\sigma_\\bar{x} = \\frac{\\sigma}{\\sqrt{n}}$$\n",
        "\n",
        "La desviación estándar de las medias muestrales se conoce como **error estándar de la media**"
      ]
    },
    {
      "cell_type": "markdown",
      "metadata": {
        "id": "eFtSo6H0iz7z"
      },
      "source": [
        "### Entendiendo el Teorema Central del Límite"
      ]
    },
    {
      "cell_type": "code",
      "metadata": {
        "id": "S3q73XpnizTi"
      },
      "source": [
        "# Comenzamos por determinar el tamaño de las muestras que vamos a calcular (2000)\n",
        "# Pero quiero repetir 1.500 veces el proceso de ubicar muestras de 2.000 datos.\n",
        "n=2000\n",
        "total_de_muestras=1500"
      ],
      "execution_count": 468,
      "outputs": []
    },
    {
      "cell_type": "markdown",
      "source": [
        "Ahora vamos a crear un conjunto de datos (DataFrame) donde guardar las muestras que vamos a calcular."
      ],
      "metadata": {
        "id": "eKTooffLzO3U"
      }
    },
    {
      "cell_type": "code",
      "metadata": {
        "id": "uXZvARZ0izQp",
        "colab": {
          "base_uri": "https://localhost:8080/",
          "height": 89
        },
        "outputId": "c287a8c4-f09e-49db-b7a3-6debcbf21f3a"
      },
      "source": [
        "muestras=pd.DataFrame() # Creamos un df vacío\n",
        "muestras"
      ],
      "execution_count": 469,
      "outputs": [
        {
          "output_type": "execute_result",
          "data": {
            "text/plain": [
              "Empty DataFrame\n",
              "Columns: []\n",
              "Index: []"
            ],
            "text/html": [
              "\n",
              "  <div id=\"df-5e0431a3-0f14-4083-8cb7-334014517ce1\" class=\"colab-df-container\">\n",
              "    <div>\n",
              "<style scoped>\n",
              "    .dataframe tbody tr th:only-of-type {\n",
              "        vertical-align: middle;\n",
              "    }\n",
              "\n",
              "    .dataframe tbody tr th {\n",
              "        vertical-align: top;\n",
              "    }\n",
              "\n",
              "    .dataframe thead th {\n",
              "        text-align: right;\n",
              "    }\n",
              "</style>\n",
              "<table border=\"1\" class=\"dataframe\">\n",
              "  <thead>\n",
              "    <tr style=\"text-align: right;\">\n",
              "      <th></th>\n",
              "    </tr>\n",
              "  </thead>\n",
              "  <tbody>\n",
              "  </tbody>\n",
              "</table>\n",
              "</div>\n",
              "    <div class=\"colab-df-buttons\">\n",
              "\n",
              "  <div class=\"colab-df-container\">\n",
              "    <button class=\"colab-df-convert\" onclick=\"convertToInteractive('df-5e0431a3-0f14-4083-8cb7-334014517ce1')\"\n",
              "            title=\"Convert this dataframe to an interactive table.\"\n",
              "            style=\"display:none;\">\n",
              "\n",
              "  <svg xmlns=\"http://www.w3.org/2000/svg\" height=\"24px\" viewBox=\"0 -960 960 960\">\n",
              "    <path d=\"M120-120v-720h720v720H120Zm60-500h600v-160H180v160Zm220 220h160v-160H400v160Zm0 220h160v-160H400v160ZM180-400h160v-160H180v160Zm440 0h160v-160H620v160ZM180-180h160v-160H180v160Zm440 0h160v-160H620v160Z\"/>\n",
              "  </svg>\n",
              "    </button>\n",
              "\n",
              "  <style>\n",
              "    .colab-df-container {\n",
              "      display:flex;\n",
              "      gap: 12px;\n",
              "    }\n",
              "\n",
              "    .colab-df-convert {\n",
              "      background-color: #E8F0FE;\n",
              "      border: none;\n",
              "      border-radius: 50%;\n",
              "      cursor: pointer;\n",
              "      display: none;\n",
              "      fill: #1967D2;\n",
              "      height: 32px;\n",
              "      padding: 0 0 0 0;\n",
              "      width: 32px;\n",
              "    }\n",
              "\n",
              "    .colab-df-convert:hover {\n",
              "      background-color: #E2EBFA;\n",
              "      box-shadow: 0px 1px 2px rgba(60, 64, 67, 0.3), 0px 1px 3px 1px rgba(60, 64, 67, 0.15);\n",
              "      fill: #174EA6;\n",
              "    }\n",
              "\n",
              "    .colab-df-buttons div {\n",
              "      margin-bottom: 4px;\n",
              "    }\n",
              "\n",
              "    [theme=dark] .colab-df-convert {\n",
              "      background-color: #3B4455;\n",
              "      fill: #D2E3FC;\n",
              "    }\n",
              "\n",
              "    [theme=dark] .colab-df-convert:hover {\n",
              "      background-color: #434B5C;\n",
              "      box-shadow: 0px 1px 3px 1px rgba(0, 0, 0, 0.15);\n",
              "      filter: drop-shadow(0px 1px 2px rgba(0, 0, 0, 0.3));\n",
              "      fill: #FFFFFF;\n",
              "    }\n",
              "  </style>\n",
              "\n",
              "    <script>\n",
              "      const buttonEl =\n",
              "        document.querySelector('#df-5e0431a3-0f14-4083-8cb7-334014517ce1 button.colab-df-convert');\n",
              "      buttonEl.style.display =\n",
              "        google.colab.kernel.accessAllowed ? 'block' : 'none';\n",
              "\n",
              "      async function convertToInteractive(key) {\n",
              "        const element = document.querySelector('#df-5e0431a3-0f14-4083-8cb7-334014517ce1');\n",
              "        const dataTable =\n",
              "          await google.colab.kernel.invokeFunction('convertToInteractive',\n",
              "                                                    [key], {});\n",
              "        if (!dataTable) return;\n",
              "\n",
              "        const docLinkHtml = 'Like what you see? Visit the ' +\n",
              "          '<a target=\"_blank\" href=https://colab.research.google.com/notebooks/data_table.ipynb>data table notebook</a>'\n",
              "          + ' to learn more about interactive tables.';\n",
              "        element.innerHTML = '';\n",
              "        dataTable['output_type'] = 'display_data';\n",
              "        await google.colab.output.renderOutput(dataTable, element);\n",
              "        const docLink = document.createElement('div');\n",
              "        docLink.innerHTML = docLinkHtml;\n",
              "        element.appendChild(docLink);\n",
              "      }\n",
              "    </script>\n",
              "  </div>\n",
              "\n",
              "\n",
              "  <div id=\"id_00010aaa-ea94-4f52-9126-a79f6e96c4b5\">\n",
              "    <style>\n",
              "      .colab-df-generate {\n",
              "        background-color: #E8F0FE;\n",
              "        border: none;\n",
              "        border-radius: 50%;\n",
              "        cursor: pointer;\n",
              "        display: none;\n",
              "        fill: #1967D2;\n",
              "        height: 32px;\n",
              "        padding: 0 0 0 0;\n",
              "        width: 32px;\n",
              "      }\n",
              "\n",
              "      .colab-df-generate:hover {\n",
              "        background-color: #E2EBFA;\n",
              "        box-shadow: 0px 1px 2px rgba(60, 64, 67, 0.3), 0px 1px 3px 1px rgba(60, 64, 67, 0.15);\n",
              "        fill: #174EA6;\n",
              "      }\n",
              "\n",
              "      [theme=dark] .colab-df-generate {\n",
              "        background-color: #3B4455;\n",
              "        fill: #D2E3FC;\n",
              "      }\n",
              "\n",
              "      [theme=dark] .colab-df-generate:hover {\n",
              "        background-color: #434B5C;\n",
              "        box-shadow: 0px 1px 3px 1px rgba(0, 0, 0, 0.15);\n",
              "        filter: drop-shadow(0px 1px 2px rgba(0, 0, 0, 0.3));\n",
              "        fill: #FFFFFF;\n",
              "      }\n",
              "    </style>\n",
              "    <button class=\"colab-df-generate\" onclick=\"generateWithVariable('muestras')\"\n",
              "            title=\"Generate code using this dataframe.\"\n",
              "            style=\"display:none;\">\n",
              "\n",
              "  <svg xmlns=\"http://www.w3.org/2000/svg\" height=\"24px\"viewBox=\"0 0 24 24\"\n",
              "       width=\"24px\">\n",
              "    <path d=\"M7,19H8.4L18.45,9,17,7.55,7,17.6ZM5,21V16.75L18.45,3.32a2,2,0,0,1,2.83,0l1.4,1.43a1.91,1.91,0,0,1,.58,1.4,1.91,1.91,0,0,1-.58,1.4L9.25,21ZM18.45,9,17,7.55Zm-12,3A5.31,5.31,0,0,0,4.9,8.1,5.31,5.31,0,0,0,1,6.5,5.31,5.31,0,0,0,4.9,4.9,5.31,5.31,0,0,0,6.5,1,5.31,5.31,0,0,0,8.1,4.9,5.31,5.31,0,0,0,12,6.5,5.46,5.46,0,0,0,6.5,12Z\"/>\n",
              "  </svg>\n",
              "    </button>\n",
              "    <script>\n",
              "      (() => {\n",
              "      const buttonEl =\n",
              "        document.querySelector('#id_00010aaa-ea94-4f52-9126-a79f6e96c4b5 button.colab-df-generate');\n",
              "      buttonEl.style.display =\n",
              "        google.colab.kernel.accessAllowed ? 'block' : 'none';\n",
              "\n",
              "      buttonEl.onclick = () => {\n",
              "        google.colab.notebook.generateWithVariable('muestras');\n",
              "      }\n",
              "      })();\n",
              "    </script>\n",
              "  </div>\n",
              "\n",
              "    </div>\n",
              "  </div>\n"
            ],
            "application/vnd.google.colaboratory.intrinsic+json": {
              "type": "dataframe",
              "variable_name": "muestras",
              "summary": "{\n  \"name\": \"muestras\",\n  \"rows\": 0,\n  \"fields\": []\n}"
            }
          },
          "metadata": {},
          "execution_count": 469
        }
      ]
    },
    {
      "cell_type": "markdown",
      "source": [
        "Ahora vamos a llenar este DataFrame con cada una de las 1.500 muestras de tamaño 2000 cada una que vamos a crear"
      ],
      "metadata": {
        "id": "9oHl4nDS1uWh"
      }
    },
    {
      "cell_type": "code",
      "metadata": {
        "id": "tXa7XKhKTyMu",
        "scrolled": true,
        "colab": {
          "base_uri": "https://localhost:8080/",
          "height": 1000
        },
        "outputId": "cdb191b0-34e7-4432-a033-556d11038f47"
      },
      "source": [
        "for i in range(total_de_muestras): # creamos un ciclo for para cada i en intervalo del total de muestras (1.500)\n",
        "  _=datos.Edad.sample(n) # Usamos \"_\" para no almacenar exactamente las muestra en ningún lugar en específico,\n",
        "                         # pues al final las vamos a incorporar al df. Llamamos a la variable que vamo a utilizar para el ejemplo\n",
        "                         # mediante método \"sample\" y seleccionamos una muestra de tamaño 2000 como si lo hiciéramos como única vez\n",
        "  _.index=range(0,len(_)) # Yo quiero que el índice sea un rango numérico que vaya enumerando cada una de las muestras desde cero hasta\n",
        "                          # la longuitud de la muestra que acabé de crear con nombre \"_\".\n",
        "  muestras['Muestra_' + str(i)]=_ # Con ello salvo cada una de las columnas del df\n",
        "\n",
        "muestras"
      ],
      "execution_count": 470,
      "outputs": [
        {
          "output_type": "stream",
          "name": "stderr",
          "text": [
            "/tmp/ipython-input-470-1324038430.py:7: PerformanceWarning: DataFrame is highly fragmented.  This is usually the result of calling `frame.insert` many times, which has poor performance.  Consider joining all columns at once using pd.concat(axis=1) instead. To get a de-fragmented frame, use `newframe = frame.copy()`\n",
            "  muestras['Muestra_' + str(i)]=_ # Con ello salvo cada una de las columnas del df\n",
            "/tmp/ipython-input-470-1324038430.py:7: PerformanceWarning: DataFrame is highly fragmented.  This is usually the result of calling `frame.insert` many times, which has poor performance.  Consider joining all columns at once using pd.concat(axis=1) instead. To get a de-fragmented frame, use `newframe = frame.copy()`\n",
            "  muestras['Muestra_' + str(i)]=_ # Con ello salvo cada una de las columnas del df\n",
            "/tmp/ipython-input-470-1324038430.py:7: PerformanceWarning: DataFrame is highly fragmented.  This is usually the result of calling `frame.insert` many times, which has poor performance.  Consider joining all columns at once using pd.concat(axis=1) instead. To get a de-fragmented frame, use `newframe = frame.copy()`\n",
            "  muestras['Muestra_' + str(i)]=_ # Con ello salvo cada una de las columnas del df\n",
            "/tmp/ipython-input-470-1324038430.py:7: PerformanceWarning: DataFrame is highly fragmented.  This is usually the result of calling `frame.insert` many times, which has poor performance.  Consider joining all columns at once using pd.concat(axis=1) instead. To get a de-fragmented frame, use `newframe = frame.copy()`\n",
            "  muestras['Muestra_' + str(i)]=_ # Con ello salvo cada una de las columnas del df\n",
            "/tmp/ipython-input-470-1324038430.py:7: PerformanceWarning: DataFrame is highly fragmented.  This is usually the result of calling `frame.insert` many times, which has poor performance.  Consider joining all columns at once using pd.concat(axis=1) instead. To get a de-fragmented frame, use `newframe = frame.copy()`\n",
            "  muestras['Muestra_' + str(i)]=_ # Con ello salvo cada una de las columnas del df\n",
            "/tmp/ipython-input-470-1324038430.py:7: PerformanceWarning: DataFrame is highly fragmented.  This is usually the result of calling `frame.insert` many times, which has poor performance.  Consider joining all columns at once using pd.concat(axis=1) instead. To get a de-fragmented frame, use `newframe = frame.copy()`\n",
            "  muestras['Muestra_' + str(i)]=_ # Con ello salvo cada una de las columnas del df\n",
            "/tmp/ipython-input-470-1324038430.py:7: PerformanceWarning: DataFrame is highly fragmented.  This is usually the result of calling `frame.insert` many times, which has poor performance.  Consider joining all columns at once using pd.concat(axis=1) instead. To get a de-fragmented frame, use `newframe = frame.copy()`\n",
            "  muestras['Muestra_' + str(i)]=_ # Con ello salvo cada una de las columnas del df\n",
            "/tmp/ipython-input-470-1324038430.py:7: PerformanceWarning: DataFrame is highly fragmented.  This is usually the result of calling `frame.insert` many times, which has poor performance.  Consider joining all columns at once using pd.concat(axis=1) instead. To get a de-fragmented frame, use `newframe = frame.copy()`\n",
            "  muestras['Muestra_' + str(i)]=_ # Con ello salvo cada una de las columnas del df\n",
            "/tmp/ipython-input-470-1324038430.py:7: PerformanceWarning: DataFrame is highly fragmented.  This is usually the result of calling `frame.insert` many times, which has poor performance.  Consider joining all columns at once using pd.concat(axis=1) instead. To get a de-fragmented frame, use `newframe = frame.copy()`\n",
            "  muestras['Muestra_' + str(i)]=_ # Con ello salvo cada una de las columnas del df\n",
            "/tmp/ipython-input-470-1324038430.py:7: PerformanceWarning: DataFrame is highly fragmented.  This is usually the result of calling `frame.insert` many times, which has poor performance.  Consider joining all columns at once using pd.concat(axis=1) instead. To get a de-fragmented frame, use `newframe = frame.copy()`\n",
            "  muestras['Muestra_' + str(i)]=_ # Con ello salvo cada una de las columnas del df\n",
            "/tmp/ipython-input-470-1324038430.py:7: PerformanceWarning: DataFrame is highly fragmented.  This is usually the result of calling `frame.insert` many times, which has poor performance.  Consider joining all columns at once using pd.concat(axis=1) instead. To get a de-fragmented frame, use `newframe = frame.copy()`\n",
            "  muestras['Muestra_' + str(i)]=_ # Con ello salvo cada una de las columnas del df\n",
            "/tmp/ipython-input-470-1324038430.py:7: PerformanceWarning: DataFrame is highly fragmented.  This is usually the result of calling `frame.insert` many times, which has poor performance.  Consider joining all columns at once using pd.concat(axis=1) instead. To get a de-fragmented frame, use `newframe = frame.copy()`\n",
            "  muestras['Muestra_' + str(i)]=_ # Con ello salvo cada una de las columnas del df\n",
            "/tmp/ipython-input-470-1324038430.py:7: PerformanceWarning: DataFrame is highly fragmented.  This is usually the result of calling `frame.insert` many times, which has poor performance.  Consider joining all columns at once using pd.concat(axis=1) instead. To get a de-fragmented frame, use `newframe = frame.copy()`\n",
            "  muestras['Muestra_' + str(i)]=_ # Con ello salvo cada una de las columnas del df\n",
            "/tmp/ipython-input-470-1324038430.py:7: PerformanceWarning: DataFrame is highly fragmented.  This is usually the result of calling `frame.insert` many times, which has poor performance.  Consider joining all columns at once using pd.concat(axis=1) instead. To get a de-fragmented frame, use `newframe = frame.copy()`\n",
            "  muestras['Muestra_' + str(i)]=_ # Con ello salvo cada una de las columnas del df\n",
            "/tmp/ipython-input-470-1324038430.py:7: PerformanceWarning: DataFrame is highly fragmented.  This is usually the result of calling `frame.insert` many times, which has poor performance.  Consider joining all columns at once using pd.concat(axis=1) instead. To get a de-fragmented frame, use `newframe = frame.copy()`\n",
            "  muestras['Muestra_' + str(i)]=_ # Con ello salvo cada una de las columnas del df\n",
            "/tmp/ipython-input-470-1324038430.py:7: PerformanceWarning: DataFrame is highly fragmented.  This is usually the result of calling `frame.insert` many times, which has poor performance.  Consider joining all columns at once using pd.concat(axis=1) instead. To get a de-fragmented frame, use `newframe = frame.copy()`\n",
            "  muestras['Muestra_' + str(i)]=_ # Con ello salvo cada una de las columnas del df\n",
            "/tmp/ipython-input-470-1324038430.py:7: PerformanceWarning: DataFrame is highly fragmented.  This is usually the result of calling `frame.insert` many times, which has poor performance.  Consider joining all columns at once using pd.concat(axis=1) instead. To get a de-fragmented frame, use `newframe = frame.copy()`\n",
            "  muestras['Muestra_' + str(i)]=_ # Con ello salvo cada una de las columnas del df\n",
            "/tmp/ipython-input-470-1324038430.py:7: PerformanceWarning: DataFrame is highly fragmented.  This is usually the result of calling `frame.insert` many times, which has poor performance.  Consider joining all columns at once using pd.concat(axis=1) instead. To get a de-fragmented frame, use `newframe = frame.copy()`\n",
            "  muestras['Muestra_' + str(i)]=_ # Con ello salvo cada una de las columnas del df\n",
            "/tmp/ipython-input-470-1324038430.py:7: PerformanceWarning: DataFrame is highly fragmented.  This is usually the result of calling `frame.insert` many times, which has poor performance.  Consider joining all columns at once using pd.concat(axis=1) instead. To get a de-fragmented frame, use `newframe = frame.copy()`\n",
            "  muestras['Muestra_' + str(i)]=_ # Con ello salvo cada una de las columnas del df\n",
            "/tmp/ipython-input-470-1324038430.py:7: PerformanceWarning: DataFrame is highly fragmented.  This is usually the result of calling `frame.insert` many times, which has poor performance.  Consider joining all columns at once using pd.concat(axis=1) instead. To get a de-fragmented frame, use `newframe = frame.copy()`\n",
            "  muestras['Muestra_' + str(i)]=_ # Con ello salvo cada una de las columnas del df\n",
            "/tmp/ipython-input-470-1324038430.py:7: PerformanceWarning: DataFrame is highly fragmented.  This is usually the result of calling `frame.insert` many times, which has poor performance.  Consider joining all columns at once using pd.concat(axis=1) instead. To get a de-fragmented frame, use `newframe = frame.copy()`\n",
            "  muestras['Muestra_' + str(i)]=_ # Con ello salvo cada una de las columnas del df\n",
            "/tmp/ipython-input-470-1324038430.py:7: PerformanceWarning: DataFrame is highly fragmented.  This is usually the result of calling `frame.insert` many times, which has poor performance.  Consider joining all columns at once using pd.concat(axis=1) instead. To get a de-fragmented frame, use `newframe = frame.copy()`\n",
            "  muestras['Muestra_' + str(i)]=_ # Con ello salvo cada una de las columnas del df\n",
            "/tmp/ipython-input-470-1324038430.py:7: PerformanceWarning: DataFrame is highly fragmented.  This is usually the result of calling `frame.insert` many times, which has poor performance.  Consider joining all columns at once using pd.concat(axis=1) instead. To get a de-fragmented frame, use `newframe = frame.copy()`\n",
            "  muestras['Muestra_' + str(i)]=_ # Con ello salvo cada una de las columnas del df\n",
            "/tmp/ipython-input-470-1324038430.py:7: PerformanceWarning: DataFrame is highly fragmented.  This is usually the result of calling `frame.insert` many times, which has poor performance.  Consider joining all columns at once using pd.concat(axis=1) instead. To get a de-fragmented frame, use `newframe = frame.copy()`\n",
            "  muestras['Muestra_' + str(i)]=_ # Con ello salvo cada una de las columnas del df\n",
            "/tmp/ipython-input-470-1324038430.py:7: PerformanceWarning: DataFrame is highly fragmented.  This is usually the result of calling `frame.insert` many times, which has poor performance.  Consider joining all columns at once using pd.concat(axis=1) instead. To get a de-fragmented frame, use `newframe = frame.copy()`\n",
            "  muestras['Muestra_' + str(i)]=_ # Con ello salvo cada una de las columnas del df\n",
            "/tmp/ipython-input-470-1324038430.py:7: PerformanceWarning: DataFrame is highly fragmented.  This is usually the result of calling `frame.insert` many times, which has poor performance.  Consider joining all columns at once using pd.concat(axis=1) instead. To get a de-fragmented frame, use `newframe = frame.copy()`\n",
            "  muestras['Muestra_' + str(i)]=_ # Con ello salvo cada una de las columnas del df\n",
            "/tmp/ipython-input-470-1324038430.py:7: PerformanceWarning: DataFrame is highly fragmented.  This is usually the result of calling `frame.insert` many times, which has poor performance.  Consider joining all columns at once using pd.concat(axis=1) instead. To get a de-fragmented frame, use `newframe = frame.copy()`\n",
            "  muestras['Muestra_' + str(i)]=_ # Con ello salvo cada una de las columnas del df\n",
            "/tmp/ipython-input-470-1324038430.py:7: PerformanceWarning: DataFrame is highly fragmented.  This is usually the result of calling `frame.insert` many times, which has poor performance.  Consider joining all columns at once using pd.concat(axis=1) instead. To get a de-fragmented frame, use `newframe = frame.copy()`\n",
            "  muestras['Muestra_' + str(i)]=_ # Con ello salvo cada una de las columnas del df\n",
            "/tmp/ipython-input-470-1324038430.py:7: PerformanceWarning: DataFrame is highly fragmented.  This is usually the result of calling `frame.insert` many times, which has poor performance.  Consider joining all columns at once using pd.concat(axis=1) instead. To get a de-fragmented frame, use `newframe = frame.copy()`\n",
            "  muestras['Muestra_' + str(i)]=_ # Con ello salvo cada una de las columnas del df\n",
            "/tmp/ipython-input-470-1324038430.py:7: PerformanceWarning: DataFrame is highly fragmented.  This is usually the result of calling `frame.insert` many times, which has poor performance.  Consider joining all columns at once using pd.concat(axis=1) instead. To get a de-fragmented frame, use `newframe = frame.copy()`\n",
            "  muestras['Muestra_' + str(i)]=_ # Con ello salvo cada una de las columnas del df\n",
            "/tmp/ipython-input-470-1324038430.py:7: PerformanceWarning: DataFrame is highly fragmented.  This is usually the result of calling `frame.insert` many times, which has poor performance.  Consider joining all columns at once using pd.concat(axis=1) instead. To get a de-fragmented frame, use `newframe = frame.copy()`\n",
            "  muestras['Muestra_' + str(i)]=_ # Con ello salvo cada una de las columnas del df\n",
            "/tmp/ipython-input-470-1324038430.py:7: PerformanceWarning: DataFrame is highly fragmented.  This is usually the result of calling `frame.insert` many times, which has poor performance.  Consider joining all columns at once using pd.concat(axis=1) instead. To get a de-fragmented frame, use `newframe = frame.copy()`\n",
            "  muestras['Muestra_' + str(i)]=_ # Con ello salvo cada una de las columnas del df\n",
            "/tmp/ipython-input-470-1324038430.py:7: PerformanceWarning: DataFrame is highly fragmented.  This is usually the result of calling `frame.insert` many times, which has poor performance.  Consider joining all columns at once using pd.concat(axis=1) instead. To get a de-fragmented frame, use `newframe = frame.copy()`\n",
            "  muestras['Muestra_' + str(i)]=_ # Con ello salvo cada una de las columnas del df\n",
            "/tmp/ipython-input-470-1324038430.py:7: PerformanceWarning: DataFrame is highly fragmented.  This is usually the result of calling `frame.insert` many times, which has poor performance.  Consider joining all columns at once using pd.concat(axis=1) instead. To get a de-fragmented frame, use `newframe = frame.copy()`\n",
            "  muestras['Muestra_' + str(i)]=_ # Con ello salvo cada una de las columnas del df\n",
            "/tmp/ipython-input-470-1324038430.py:7: PerformanceWarning: DataFrame is highly fragmented.  This is usually the result of calling `frame.insert` many times, which has poor performance.  Consider joining all columns at once using pd.concat(axis=1) instead. To get a de-fragmented frame, use `newframe = frame.copy()`\n",
            "  muestras['Muestra_' + str(i)]=_ # Con ello salvo cada una de las columnas del df\n",
            "/tmp/ipython-input-470-1324038430.py:7: PerformanceWarning: DataFrame is highly fragmented.  This is usually the result of calling `frame.insert` many times, which has poor performance.  Consider joining all columns at once using pd.concat(axis=1) instead. To get a de-fragmented frame, use `newframe = frame.copy()`\n",
            "  muestras['Muestra_' + str(i)]=_ # Con ello salvo cada una de las columnas del df\n",
            "/tmp/ipython-input-470-1324038430.py:7: PerformanceWarning: DataFrame is highly fragmented.  This is usually the result of calling `frame.insert` many times, which has poor performance.  Consider joining all columns at once using pd.concat(axis=1) instead. To get a de-fragmented frame, use `newframe = frame.copy()`\n",
            "  muestras['Muestra_' + str(i)]=_ # Con ello salvo cada una de las columnas del df\n",
            "/tmp/ipython-input-470-1324038430.py:7: PerformanceWarning: DataFrame is highly fragmented.  This is usually the result of calling `frame.insert` many times, which has poor performance.  Consider joining all columns at once using pd.concat(axis=1) instead. To get a de-fragmented frame, use `newframe = frame.copy()`\n",
            "  muestras['Muestra_' + str(i)]=_ # Con ello salvo cada una de las columnas del df\n",
            "/tmp/ipython-input-470-1324038430.py:7: PerformanceWarning: DataFrame is highly fragmented.  This is usually the result of calling `frame.insert` many times, which has poor performance.  Consider joining all columns at once using pd.concat(axis=1) instead. To get a de-fragmented frame, use `newframe = frame.copy()`\n",
            "  muestras['Muestra_' + str(i)]=_ # Con ello salvo cada una de las columnas del df\n",
            "/tmp/ipython-input-470-1324038430.py:7: PerformanceWarning: DataFrame is highly fragmented.  This is usually the result of calling `frame.insert` many times, which has poor performance.  Consider joining all columns at once using pd.concat(axis=1) instead. To get a de-fragmented frame, use `newframe = frame.copy()`\n",
            "  muestras['Muestra_' + str(i)]=_ # Con ello salvo cada una de las columnas del df\n",
            "/tmp/ipython-input-470-1324038430.py:7: PerformanceWarning: DataFrame is highly fragmented.  This is usually the result of calling `frame.insert` many times, which has poor performance.  Consider joining all columns at once using pd.concat(axis=1) instead. To get a de-fragmented frame, use `newframe = frame.copy()`\n",
            "  muestras['Muestra_' + str(i)]=_ # Con ello salvo cada una de las columnas del df\n",
            "/tmp/ipython-input-470-1324038430.py:7: PerformanceWarning: DataFrame is highly fragmented.  This is usually the result of calling `frame.insert` many times, which has poor performance.  Consider joining all columns at once using pd.concat(axis=1) instead. To get a de-fragmented frame, use `newframe = frame.copy()`\n",
            "  muestras['Muestra_' + str(i)]=_ # Con ello salvo cada una de las columnas del df\n",
            "/tmp/ipython-input-470-1324038430.py:7: PerformanceWarning: DataFrame is highly fragmented.  This is usually the result of calling `frame.insert` many times, which has poor performance.  Consider joining all columns at once using pd.concat(axis=1) instead. To get a de-fragmented frame, use `newframe = frame.copy()`\n",
            "  muestras['Muestra_' + str(i)]=_ # Con ello salvo cada una de las columnas del df\n",
            "/tmp/ipython-input-470-1324038430.py:7: PerformanceWarning: DataFrame is highly fragmented.  This is usually the result of calling `frame.insert` many times, which has poor performance.  Consider joining all columns at once using pd.concat(axis=1) instead. To get a de-fragmented frame, use `newframe = frame.copy()`\n",
            "  muestras['Muestra_' + str(i)]=_ # Con ello salvo cada una de las columnas del df\n",
            "/tmp/ipython-input-470-1324038430.py:7: PerformanceWarning: DataFrame is highly fragmented.  This is usually the result of calling `frame.insert` many times, which has poor performance.  Consider joining all columns at once using pd.concat(axis=1) instead. To get a de-fragmented frame, use `newframe = frame.copy()`\n",
            "  muestras['Muestra_' + str(i)]=_ # Con ello salvo cada una de las columnas del df\n",
            "/tmp/ipython-input-470-1324038430.py:7: PerformanceWarning: DataFrame is highly fragmented.  This is usually the result of calling `frame.insert` many times, which has poor performance.  Consider joining all columns at once using pd.concat(axis=1) instead. To get a de-fragmented frame, use `newframe = frame.copy()`\n",
            "  muestras['Muestra_' + str(i)]=_ # Con ello salvo cada una de las columnas del df\n",
            "/tmp/ipython-input-470-1324038430.py:7: PerformanceWarning: DataFrame is highly fragmented.  This is usually the result of calling `frame.insert` many times, which has poor performance.  Consider joining all columns at once using pd.concat(axis=1) instead. To get a de-fragmented frame, use `newframe = frame.copy()`\n",
            "  muestras['Muestra_' + str(i)]=_ # Con ello salvo cada una de las columnas del df\n",
            "/tmp/ipython-input-470-1324038430.py:7: PerformanceWarning: DataFrame is highly fragmented.  This is usually the result of calling `frame.insert` many times, which has poor performance.  Consider joining all columns at once using pd.concat(axis=1) instead. To get a de-fragmented frame, use `newframe = frame.copy()`\n",
            "  muestras['Muestra_' + str(i)]=_ # Con ello salvo cada una de las columnas del df\n",
            "/tmp/ipython-input-470-1324038430.py:7: PerformanceWarning: DataFrame is highly fragmented.  This is usually the result of calling `frame.insert` many times, which has poor performance.  Consider joining all columns at once using pd.concat(axis=1) instead. To get a de-fragmented frame, use `newframe = frame.copy()`\n",
            "  muestras['Muestra_' + str(i)]=_ # Con ello salvo cada una de las columnas del df\n",
            "/tmp/ipython-input-470-1324038430.py:7: PerformanceWarning: DataFrame is highly fragmented.  This is usually the result of calling `frame.insert` many times, which has poor performance.  Consider joining all columns at once using pd.concat(axis=1) instead. To get a de-fragmented frame, use `newframe = frame.copy()`\n",
            "  muestras['Muestra_' + str(i)]=_ # Con ello salvo cada una de las columnas del df\n",
            "/tmp/ipython-input-470-1324038430.py:7: PerformanceWarning: DataFrame is highly fragmented.  This is usually the result of calling `frame.insert` many times, which has poor performance.  Consider joining all columns at once using pd.concat(axis=1) instead. To get a de-fragmented frame, use `newframe = frame.copy()`\n",
            "  muestras['Muestra_' + str(i)]=_ # Con ello salvo cada una de las columnas del df\n",
            "/tmp/ipython-input-470-1324038430.py:7: PerformanceWarning: DataFrame is highly fragmented.  This is usually the result of calling `frame.insert` many times, which has poor performance.  Consider joining all columns at once using pd.concat(axis=1) instead. To get a de-fragmented frame, use `newframe = frame.copy()`\n",
            "  muestras['Muestra_' + str(i)]=_ # Con ello salvo cada una de las columnas del df\n",
            "/tmp/ipython-input-470-1324038430.py:7: PerformanceWarning: DataFrame is highly fragmented.  This is usually the result of calling `frame.insert` many times, which has poor performance.  Consider joining all columns at once using pd.concat(axis=1) instead. To get a de-fragmented frame, use `newframe = frame.copy()`\n",
            "  muestras['Muestra_' + str(i)]=_ # Con ello salvo cada una de las columnas del df\n",
            "/tmp/ipython-input-470-1324038430.py:7: PerformanceWarning: DataFrame is highly fragmented.  This is usually the result of calling `frame.insert` many times, which has poor performance.  Consider joining all columns at once using pd.concat(axis=1) instead. To get a de-fragmented frame, use `newframe = frame.copy()`\n",
            "  muestras['Muestra_' + str(i)]=_ # Con ello salvo cada una de las columnas del df\n",
            "/tmp/ipython-input-470-1324038430.py:7: PerformanceWarning: DataFrame is highly fragmented.  This is usually the result of calling `frame.insert` many times, which has poor performance.  Consider joining all columns at once using pd.concat(axis=1) instead. To get a de-fragmented frame, use `newframe = frame.copy()`\n",
            "  muestras['Muestra_' + str(i)]=_ # Con ello salvo cada una de las columnas del df\n",
            "/tmp/ipython-input-470-1324038430.py:7: PerformanceWarning: DataFrame is highly fragmented.  This is usually the result of calling `frame.insert` many times, which has poor performance.  Consider joining all columns at once using pd.concat(axis=1) instead. To get a de-fragmented frame, use `newframe = frame.copy()`\n",
            "  muestras['Muestra_' + str(i)]=_ # Con ello salvo cada una de las columnas del df\n",
            "/tmp/ipython-input-470-1324038430.py:7: PerformanceWarning: DataFrame is highly fragmented.  This is usually the result of calling `frame.insert` many times, which has poor performance.  Consider joining all columns at once using pd.concat(axis=1) instead. To get a de-fragmented frame, use `newframe = frame.copy()`\n",
            "  muestras['Muestra_' + str(i)]=_ # Con ello salvo cada una de las columnas del df\n",
            "/tmp/ipython-input-470-1324038430.py:7: PerformanceWarning: DataFrame is highly fragmented.  This is usually the result of calling `frame.insert` many times, which has poor performance.  Consider joining all columns at once using pd.concat(axis=1) instead. To get a de-fragmented frame, use `newframe = frame.copy()`\n",
            "  muestras['Muestra_' + str(i)]=_ # Con ello salvo cada una de las columnas del df\n",
            "/tmp/ipython-input-470-1324038430.py:7: PerformanceWarning: DataFrame is highly fragmented.  This is usually the result of calling `frame.insert` many times, which has poor performance.  Consider joining all columns at once using pd.concat(axis=1) instead. To get a de-fragmented frame, use `newframe = frame.copy()`\n",
            "  muestras['Muestra_' + str(i)]=_ # Con ello salvo cada una de las columnas del df\n",
            "/tmp/ipython-input-470-1324038430.py:7: PerformanceWarning: DataFrame is highly fragmented.  This is usually the result of calling `frame.insert` many times, which has poor performance.  Consider joining all columns at once using pd.concat(axis=1) instead. To get a de-fragmented frame, use `newframe = frame.copy()`\n",
            "  muestras['Muestra_' + str(i)]=_ # Con ello salvo cada una de las columnas del df\n",
            "/tmp/ipython-input-470-1324038430.py:7: PerformanceWarning: DataFrame is highly fragmented.  This is usually the result of calling `frame.insert` many times, which has poor performance.  Consider joining all columns at once using pd.concat(axis=1) instead. To get a de-fragmented frame, use `newframe = frame.copy()`\n",
            "  muestras['Muestra_' + str(i)]=_ # Con ello salvo cada una de las columnas del df\n",
            "/tmp/ipython-input-470-1324038430.py:7: PerformanceWarning: DataFrame is highly fragmented.  This is usually the result of calling `frame.insert` many times, which has poor performance.  Consider joining all columns at once using pd.concat(axis=1) instead. To get a de-fragmented frame, use `newframe = frame.copy()`\n",
            "  muestras['Muestra_' + str(i)]=_ # Con ello salvo cada una de las columnas del df\n",
            "/tmp/ipython-input-470-1324038430.py:7: PerformanceWarning: DataFrame is highly fragmented.  This is usually the result of calling `frame.insert` many times, which has poor performance.  Consider joining all columns at once using pd.concat(axis=1) instead. To get a de-fragmented frame, use `newframe = frame.copy()`\n",
            "  muestras['Muestra_' + str(i)]=_ # Con ello salvo cada una de las columnas del df\n",
            "/tmp/ipython-input-470-1324038430.py:7: PerformanceWarning: DataFrame is highly fragmented.  This is usually the result of calling `frame.insert` many times, which has poor performance.  Consider joining all columns at once using pd.concat(axis=1) instead. To get a de-fragmented frame, use `newframe = frame.copy()`\n",
            "  muestras['Muestra_' + str(i)]=_ # Con ello salvo cada una de las columnas del df\n",
            "/tmp/ipython-input-470-1324038430.py:7: PerformanceWarning: DataFrame is highly fragmented.  This is usually the result of calling `frame.insert` many times, which has poor performance.  Consider joining all columns at once using pd.concat(axis=1) instead. To get a de-fragmented frame, use `newframe = frame.copy()`\n",
            "  muestras['Muestra_' + str(i)]=_ # Con ello salvo cada una de las columnas del df\n",
            "/tmp/ipython-input-470-1324038430.py:7: PerformanceWarning: DataFrame is highly fragmented.  This is usually the result of calling `frame.insert` many times, which has poor performance.  Consider joining all columns at once using pd.concat(axis=1) instead. To get a de-fragmented frame, use `newframe = frame.copy()`\n",
            "  muestras['Muestra_' + str(i)]=_ # Con ello salvo cada una de las columnas del df\n",
            "/tmp/ipython-input-470-1324038430.py:7: PerformanceWarning: DataFrame is highly fragmented.  This is usually the result of calling `frame.insert` many times, which has poor performance.  Consider joining all columns at once using pd.concat(axis=1) instead. To get a de-fragmented frame, use `newframe = frame.copy()`\n",
            "  muestras['Muestra_' + str(i)]=_ # Con ello salvo cada una de las columnas del df\n",
            "/tmp/ipython-input-470-1324038430.py:7: PerformanceWarning: DataFrame is highly fragmented.  This is usually the result of calling `frame.insert` many times, which has poor performance.  Consider joining all columns at once using pd.concat(axis=1) instead. To get a de-fragmented frame, use `newframe = frame.copy()`\n",
            "  muestras['Muestra_' + str(i)]=_ # Con ello salvo cada una de las columnas del df\n",
            "/tmp/ipython-input-470-1324038430.py:7: PerformanceWarning: DataFrame is highly fragmented.  This is usually the result of calling `frame.insert` many times, which has poor performance.  Consider joining all columns at once using pd.concat(axis=1) instead. To get a de-fragmented frame, use `newframe = frame.copy()`\n",
            "  muestras['Muestra_' + str(i)]=_ # Con ello salvo cada una de las columnas del df\n",
            "/tmp/ipython-input-470-1324038430.py:7: PerformanceWarning: DataFrame is highly fragmented.  This is usually the result of calling `frame.insert` many times, which has poor performance.  Consider joining all columns at once using pd.concat(axis=1) instead. To get a de-fragmented frame, use `newframe = frame.copy()`\n",
            "  muestras['Muestra_' + str(i)]=_ # Con ello salvo cada una de las columnas del df\n",
            "/tmp/ipython-input-470-1324038430.py:7: PerformanceWarning: DataFrame is highly fragmented.  This is usually the result of calling `frame.insert` many times, which has poor performance.  Consider joining all columns at once using pd.concat(axis=1) instead. To get a de-fragmented frame, use `newframe = frame.copy()`\n",
            "  muestras['Muestra_' + str(i)]=_ # Con ello salvo cada una de las columnas del df\n",
            "/tmp/ipython-input-470-1324038430.py:7: PerformanceWarning: DataFrame is highly fragmented.  This is usually the result of calling `frame.insert` many times, which has poor performance.  Consider joining all columns at once using pd.concat(axis=1) instead. To get a de-fragmented frame, use `newframe = frame.copy()`\n",
            "  muestras['Muestra_' + str(i)]=_ # Con ello salvo cada una de las columnas del df\n",
            "/tmp/ipython-input-470-1324038430.py:7: PerformanceWarning: DataFrame is highly fragmented.  This is usually the result of calling `frame.insert` many times, which has poor performance.  Consider joining all columns at once using pd.concat(axis=1) instead. To get a de-fragmented frame, use `newframe = frame.copy()`\n",
            "  muestras['Muestra_' + str(i)]=_ # Con ello salvo cada una de las columnas del df\n",
            "/tmp/ipython-input-470-1324038430.py:7: PerformanceWarning: DataFrame is highly fragmented.  This is usually the result of calling `frame.insert` many times, which has poor performance.  Consider joining all columns at once using pd.concat(axis=1) instead. To get a de-fragmented frame, use `newframe = frame.copy()`\n",
            "  muestras['Muestra_' + str(i)]=_ # Con ello salvo cada una de las columnas del df\n",
            "/tmp/ipython-input-470-1324038430.py:7: PerformanceWarning: DataFrame is highly fragmented.  This is usually the result of calling `frame.insert` many times, which has poor performance.  Consider joining all columns at once using pd.concat(axis=1) instead. To get a de-fragmented frame, use `newframe = frame.copy()`\n",
            "  muestras['Muestra_' + str(i)]=_ # Con ello salvo cada una de las columnas del df\n",
            "/tmp/ipython-input-470-1324038430.py:7: PerformanceWarning: DataFrame is highly fragmented.  This is usually the result of calling `frame.insert` many times, which has poor performance.  Consider joining all columns at once using pd.concat(axis=1) instead. To get a de-fragmented frame, use `newframe = frame.copy()`\n",
            "  muestras['Muestra_' + str(i)]=_ # Con ello salvo cada una de las columnas del df\n",
            "/tmp/ipython-input-470-1324038430.py:7: PerformanceWarning: DataFrame is highly fragmented.  This is usually the result of calling `frame.insert` many times, which has poor performance.  Consider joining all columns at once using pd.concat(axis=1) instead. To get a de-fragmented frame, use `newframe = frame.copy()`\n",
            "  muestras['Muestra_' + str(i)]=_ # Con ello salvo cada una de las columnas del df\n",
            "/tmp/ipython-input-470-1324038430.py:7: PerformanceWarning: DataFrame is highly fragmented.  This is usually the result of calling `frame.insert` many times, which has poor performance.  Consider joining all columns at once using pd.concat(axis=1) instead. To get a de-fragmented frame, use `newframe = frame.copy()`\n",
            "  muestras['Muestra_' + str(i)]=_ # Con ello salvo cada una de las columnas del df\n",
            "/tmp/ipython-input-470-1324038430.py:7: PerformanceWarning: DataFrame is highly fragmented.  This is usually the result of calling `frame.insert` many times, which has poor performance.  Consider joining all columns at once using pd.concat(axis=1) instead. To get a de-fragmented frame, use `newframe = frame.copy()`\n",
            "  muestras['Muestra_' + str(i)]=_ # Con ello salvo cada una de las columnas del df\n",
            "/tmp/ipython-input-470-1324038430.py:7: PerformanceWarning: DataFrame is highly fragmented.  This is usually the result of calling `frame.insert` many times, which has poor performance.  Consider joining all columns at once using pd.concat(axis=1) instead. To get a de-fragmented frame, use `newframe = frame.copy()`\n",
            "  muestras['Muestra_' + str(i)]=_ # Con ello salvo cada una de las columnas del df\n",
            "/tmp/ipython-input-470-1324038430.py:7: PerformanceWarning: DataFrame is highly fragmented.  This is usually the result of calling `frame.insert` many times, which has poor performance.  Consider joining all columns at once using pd.concat(axis=1) instead. To get a de-fragmented frame, use `newframe = frame.copy()`\n",
            "  muestras['Muestra_' + str(i)]=_ # Con ello salvo cada una de las columnas del df\n",
            "/tmp/ipython-input-470-1324038430.py:7: PerformanceWarning: DataFrame is highly fragmented.  This is usually the result of calling `frame.insert` many times, which has poor performance.  Consider joining all columns at once using pd.concat(axis=1) instead. To get a de-fragmented frame, use `newframe = frame.copy()`\n",
            "  muestras['Muestra_' + str(i)]=_ # Con ello salvo cada una de las columnas del df\n",
            "/tmp/ipython-input-470-1324038430.py:7: PerformanceWarning: DataFrame is highly fragmented.  This is usually the result of calling `frame.insert` many times, which has poor performance.  Consider joining all columns at once using pd.concat(axis=1) instead. To get a de-fragmented frame, use `newframe = frame.copy()`\n",
            "  muestras['Muestra_' + str(i)]=_ # Con ello salvo cada una de las columnas del df\n",
            "/tmp/ipython-input-470-1324038430.py:7: PerformanceWarning: DataFrame is highly fragmented.  This is usually the result of calling `frame.insert` many times, which has poor performance.  Consider joining all columns at once using pd.concat(axis=1) instead. To get a de-fragmented frame, use `newframe = frame.copy()`\n",
            "  muestras['Muestra_' + str(i)]=_ # Con ello salvo cada una de las columnas del df\n",
            "/tmp/ipython-input-470-1324038430.py:7: PerformanceWarning: DataFrame is highly fragmented.  This is usually the result of calling `frame.insert` many times, which has poor performance.  Consider joining all columns at once using pd.concat(axis=1) instead. To get a de-fragmented frame, use `newframe = frame.copy()`\n",
            "  muestras['Muestra_' + str(i)]=_ # Con ello salvo cada una de las columnas del df\n",
            "/tmp/ipython-input-470-1324038430.py:7: PerformanceWarning: DataFrame is highly fragmented.  This is usually the result of calling `frame.insert` many times, which has poor performance.  Consider joining all columns at once using pd.concat(axis=1) instead. To get a de-fragmented frame, use `newframe = frame.copy()`\n",
            "  muestras['Muestra_' + str(i)]=_ # Con ello salvo cada una de las columnas del df\n",
            "/tmp/ipython-input-470-1324038430.py:7: PerformanceWarning: DataFrame is highly fragmented.  This is usually the result of calling `frame.insert` many times, which has poor performance.  Consider joining all columns at once using pd.concat(axis=1) instead. To get a de-fragmented frame, use `newframe = frame.copy()`\n",
            "  muestras['Muestra_' + str(i)]=_ # Con ello salvo cada una de las columnas del df\n",
            "/tmp/ipython-input-470-1324038430.py:7: PerformanceWarning: DataFrame is highly fragmented.  This is usually the result of calling `frame.insert` many times, which has poor performance.  Consider joining all columns at once using pd.concat(axis=1) instead. To get a de-fragmented frame, use `newframe = frame.copy()`\n",
            "  muestras['Muestra_' + str(i)]=_ # Con ello salvo cada una de las columnas del df\n",
            "/tmp/ipython-input-470-1324038430.py:7: PerformanceWarning: DataFrame is highly fragmented.  This is usually the result of calling `frame.insert` many times, which has poor performance.  Consider joining all columns at once using pd.concat(axis=1) instead. To get a de-fragmented frame, use `newframe = frame.copy()`\n",
            "  muestras['Muestra_' + str(i)]=_ # Con ello salvo cada una de las columnas del df\n",
            "/tmp/ipython-input-470-1324038430.py:7: PerformanceWarning: DataFrame is highly fragmented.  This is usually the result of calling `frame.insert` many times, which has poor performance.  Consider joining all columns at once using pd.concat(axis=1) instead. To get a de-fragmented frame, use `newframe = frame.copy()`\n",
            "  muestras['Muestra_' + str(i)]=_ # Con ello salvo cada una de las columnas del df\n",
            "/tmp/ipython-input-470-1324038430.py:7: PerformanceWarning: DataFrame is highly fragmented.  This is usually the result of calling `frame.insert` many times, which has poor performance.  Consider joining all columns at once using pd.concat(axis=1) instead. To get a de-fragmented frame, use `newframe = frame.copy()`\n",
            "  muestras['Muestra_' + str(i)]=_ # Con ello salvo cada una de las columnas del df\n",
            "/tmp/ipython-input-470-1324038430.py:7: PerformanceWarning: DataFrame is highly fragmented.  This is usually the result of calling `frame.insert` many times, which has poor performance.  Consider joining all columns at once using pd.concat(axis=1) instead. To get a de-fragmented frame, use `newframe = frame.copy()`\n",
            "  muestras['Muestra_' + str(i)]=_ # Con ello salvo cada una de las columnas del df\n",
            "/tmp/ipython-input-470-1324038430.py:7: PerformanceWarning: DataFrame is highly fragmented.  This is usually the result of calling `frame.insert` many times, which has poor performance.  Consider joining all columns at once using pd.concat(axis=1) instead. To get a de-fragmented frame, use `newframe = frame.copy()`\n",
            "  muestras['Muestra_' + str(i)]=_ # Con ello salvo cada una de las columnas del df\n",
            "/tmp/ipython-input-470-1324038430.py:7: PerformanceWarning: DataFrame is highly fragmented.  This is usually the result of calling `frame.insert` many times, which has poor performance.  Consider joining all columns at once using pd.concat(axis=1) instead. To get a de-fragmented frame, use `newframe = frame.copy()`\n",
            "  muestras['Muestra_' + str(i)]=_ # Con ello salvo cada una de las columnas del df\n",
            "/tmp/ipython-input-470-1324038430.py:7: PerformanceWarning: DataFrame is highly fragmented.  This is usually the result of calling `frame.insert` many times, which has poor performance.  Consider joining all columns at once using pd.concat(axis=1) instead. To get a de-fragmented frame, use `newframe = frame.copy()`\n",
            "  muestras['Muestra_' + str(i)]=_ # Con ello salvo cada una de las columnas del df\n",
            "/tmp/ipython-input-470-1324038430.py:7: PerformanceWarning: DataFrame is highly fragmented.  This is usually the result of calling `frame.insert` many times, which has poor performance.  Consider joining all columns at once using pd.concat(axis=1) instead. To get a de-fragmented frame, use `newframe = frame.copy()`\n",
            "  muestras['Muestra_' + str(i)]=_ # Con ello salvo cada una de las columnas del df\n",
            "/tmp/ipython-input-470-1324038430.py:7: PerformanceWarning: DataFrame is highly fragmented.  This is usually the result of calling `frame.insert` many times, which has poor performance.  Consider joining all columns at once using pd.concat(axis=1) instead. To get a de-fragmented frame, use `newframe = frame.copy()`\n",
            "  muestras['Muestra_' + str(i)]=_ # Con ello salvo cada una de las columnas del df\n",
            "/tmp/ipython-input-470-1324038430.py:7: PerformanceWarning: DataFrame is highly fragmented.  This is usually the result of calling `frame.insert` many times, which has poor performance.  Consider joining all columns at once using pd.concat(axis=1) instead. To get a de-fragmented frame, use `newframe = frame.copy()`\n",
            "  muestras['Muestra_' + str(i)]=_ # Con ello salvo cada una de las columnas del df\n",
            "/tmp/ipython-input-470-1324038430.py:7: PerformanceWarning: DataFrame is highly fragmented.  This is usually the result of calling `frame.insert` many times, which has poor performance.  Consider joining all columns at once using pd.concat(axis=1) instead. To get a de-fragmented frame, use `newframe = frame.copy()`\n",
            "  muestras['Muestra_' + str(i)]=_ # Con ello salvo cada una de las columnas del df\n",
            "/tmp/ipython-input-470-1324038430.py:7: PerformanceWarning: DataFrame is highly fragmented.  This is usually the result of calling `frame.insert` many times, which has poor performance.  Consider joining all columns at once using pd.concat(axis=1) instead. To get a de-fragmented frame, use `newframe = frame.copy()`\n",
            "  muestras['Muestra_' + str(i)]=_ # Con ello salvo cada una de las columnas del df\n",
            "/tmp/ipython-input-470-1324038430.py:7: PerformanceWarning: DataFrame is highly fragmented.  This is usually the result of calling `frame.insert` many times, which has poor performance.  Consider joining all columns at once using pd.concat(axis=1) instead. To get a de-fragmented frame, use `newframe = frame.copy()`\n",
            "  muestras['Muestra_' + str(i)]=_ # Con ello salvo cada una de las columnas del df\n",
            "/tmp/ipython-input-470-1324038430.py:7: PerformanceWarning: DataFrame is highly fragmented.  This is usually the result of calling `frame.insert` many times, which has poor performance.  Consider joining all columns at once using pd.concat(axis=1) instead. To get a de-fragmented frame, use `newframe = frame.copy()`\n",
            "  muestras['Muestra_' + str(i)]=_ # Con ello salvo cada una de las columnas del df\n",
            "/tmp/ipython-input-470-1324038430.py:7: PerformanceWarning: DataFrame is highly fragmented.  This is usually the result of calling `frame.insert` many times, which has poor performance.  Consider joining all columns at once using pd.concat(axis=1) instead. To get a de-fragmented frame, use `newframe = frame.copy()`\n",
            "  muestras['Muestra_' + str(i)]=_ # Con ello salvo cada una de las columnas del df\n",
            "/tmp/ipython-input-470-1324038430.py:7: PerformanceWarning: DataFrame is highly fragmented.  This is usually the result of calling `frame.insert` many times, which has poor performance.  Consider joining all columns at once using pd.concat(axis=1) instead. To get a de-fragmented frame, use `newframe = frame.copy()`\n",
            "  muestras['Muestra_' + str(i)]=_ # Con ello salvo cada una de las columnas del df\n",
            "/tmp/ipython-input-470-1324038430.py:7: PerformanceWarning: DataFrame is highly fragmented.  This is usually the result of calling `frame.insert` many times, which has poor performance.  Consider joining all columns at once using pd.concat(axis=1) instead. To get a de-fragmented frame, use `newframe = frame.copy()`\n",
            "  muestras['Muestra_' + str(i)]=_ # Con ello salvo cada una de las columnas del df\n",
            "/tmp/ipython-input-470-1324038430.py:7: PerformanceWarning: DataFrame is highly fragmented.  This is usually the result of calling `frame.insert` many times, which has poor performance.  Consider joining all columns at once using pd.concat(axis=1) instead. To get a de-fragmented frame, use `newframe = frame.copy()`\n",
            "  muestras['Muestra_' + str(i)]=_ # Con ello salvo cada una de las columnas del df\n",
            "/tmp/ipython-input-470-1324038430.py:7: PerformanceWarning: DataFrame is highly fragmented.  This is usually the result of calling `frame.insert` many times, which has poor performance.  Consider joining all columns at once using pd.concat(axis=1) instead. To get a de-fragmented frame, use `newframe = frame.copy()`\n",
            "  muestras['Muestra_' + str(i)]=_ # Con ello salvo cada una de las columnas del df\n",
            "/tmp/ipython-input-470-1324038430.py:7: PerformanceWarning: DataFrame is highly fragmented.  This is usually the result of calling `frame.insert` many times, which has poor performance.  Consider joining all columns at once using pd.concat(axis=1) instead. To get a de-fragmented frame, use `newframe = frame.copy()`\n",
            "  muestras['Muestra_' + str(i)]=_ # Con ello salvo cada una de las columnas del df\n",
            "/tmp/ipython-input-470-1324038430.py:7: PerformanceWarning: DataFrame is highly fragmented.  This is usually the result of calling `frame.insert` many times, which has poor performance.  Consider joining all columns at once using pd.concat(axis=1) instead. To get a de-fragmented frame, use `newframe = frame.copy()`\n",
            "  muestras['Muestra_' + str(i)]=_ # Con ello salvo cada una de las columnas del df\n",
            "/tmp/ipython-input-470-1324038430.py:7: PerformanceWarning: DataFrame is highly fragmented.  This is usually the result of calling `frame.insert` many times, which has poor performance.  Consider joining all columns at once using pd.concat(axis=1) instead. To get a de-fragmented frame, use `newframe = frame.copy()`\n",
            "  muestras['Muestra_' + str(i)]=_ # Con ello salvo cada una de las columnas del df\n",
            "/tmp/ipython-input-470-1324038430.py:7: PerformanceWarning: DataFrame is highly fragmented.  This is usually the result of calling `frame.insert` many times, which has poor performance.  Consider joining all columns at once using pd.concat(axis=1) instead. To get a de-fragmented frame, use `newframe = frame.copy()`\n",
            "  muestras['Muestra_' + str(i)]=_ # Con ello salvo cada una de las columnas del df\n",
            "/tmp/ipython-input-470-1324038430.py:7: PerformanceWarning: DataFrame is highly fragmented.  This is usually the result of calling `frame.insert` many times, which has poor performance.  Consider joining all columns at once using pd.concat(axis=1) instead. To get a de-fragmented frame, use `newframe = frame.copy()`\n",
            "  muestras['Muestra_' + str(i)]=_ # Con ello salvo cada una de las columnas del df\n",
            "/tmp/ipython-input-470-1324038430.py:7: PerformanceWarning: DataFrame is highly fragmented.  This is usually the result of calling `frame.insert` many times, which has poor performance.  Consider joining all columns at once using pd.concat(axis=1) instead. To get a de-fragmented frame, use `newframe = frame.copy()`\n",
            "  muestras['Muestra_' + str(i)]=_ # Con ello salvo cada una de las columnas del df\n",
            "/tmp/ipython-input-470-1324038430.py:7: PerformanceWarning: DataFrame is highly fragmented.  This is usually the result of calling `frame.insert` many times, which has poor performance.  Consider joining all columns at once using pd.concat(axis=1) instead. To get a de-fragmented frame, use `newframe = frame.copy()`\n",
            "  muestras['Muestra_' + str(i)]=_ # Con ello salvo cada una de las columnas del df\n",
            "/tmp/ipython-input-470-1324038430.py:7: PerformanceWarning: DataFrame is highly fragmented.  This is usually the result of calling `frame.insert` many times, which has poor performance.  Consider joining all columns at once using pd.concat(axis=1) instead. To get a de-fragmented frame, use `newframe = frame.copy()`\n",
            "  muestras['Muestra_' + str(i)]=_ # Con ello salvo cada una de las columnas del df\n",
            "/tmp/ipython-input-470-1324038430.py:7: PerformanceWarning: DataFrame is highly fragmented.  This is usually the result of calling `frame.insert` many times, which has poor performance.  Consider joining all columns at once using pd.concat(axis=1) instead. To get a de-fragmented frame, use `newframe = frame.copy()`\n",
            "  muestras['Muestra_' + str(i)]=_ # Con ello salvo cada una de las columnas del df\n",
            "/tmp/ipython-input-470-1324038430.py:7: PerformanceWarning: DataFrame is highly fragmented.  This is usually the result of calling `frame.insert` many times, which has poor performance.  Consider joining all columns at once using pd.concat(axis=1) instead. To get a de-fragmented frame, use `newframe = frame.copy()`\n",
            "  muestras['Muestra_' + str(i)]=_ # Con ello salvo cada una de las columnas del df\n",
            "/tmp/ipython-input-470-1324038430.py:7: PerformanceWarning: DataFrame is highly fragmented.  This is usually the result of calling `frame.insert` many times, which has poor performance.  Consider joining all columns at once using pd.concat(axis=1) instead. To get a de-fragmented frame, use `newframe = frame.copy()`\n",
            "  muestras['Muestra_' + str(i)]=_ # Con ello salvo cada una de las columnas del df\n",
            "/tmp/ipython-input-470-1324038430.py:7: PerformanceWarning: DataFrame is highly fragmented.  This is usually the result of calling `frame.insert` many times, which has poor performance.  Consider joining all columns at once using pd.concat(axis=1) instead. To get a de-fragmented frame, use `newframe = frame.copy()`\n",
            "  muestras['Muestra_' + str(i)]=_ # Con ello salvo cada una de las columnas del df\n",
            "/tmp/ipython-input-470-1324038430.py:7: PerformanceWarning: DataFrame is highly fragmented.  This is usually the result of calling `frame.insert` many times, which has poor performance.  Consider joining all columns at once using pd.concat(axis=1) instead. To get a de-fragmented frame, use `newframe = frame.copy()`\n",
            "  muestras['Muestra_' + str(i)]=_ # Con ello salvo cada una de las columnas del df\n",
            "/tmp/ipython-input-470-1324038430.py:7: PerformanceWarning: DataFrame is highly fragmented.  This is usually the result of calling `frame.insert` many times, which has poor performance.  Consider joining all columns at once using pd.concat(axis=1) instead. To get a de-fragmented frame, use `newframe = frame.copy()`\n",
            "  muestras['Muestra_' + str(i)]=_ # Con ello salvo cada una de las columnas del df\n",
            "/tmp/ipython-input-470-1324038430.py:7: PerformanceWarning: DataFrame is highly fragmented.  This is usually the result of calling `frame.insert` many times, which has poor performance.  Consider joining all columns at once using pd.concat(axis=1) instead. To get a de-fragmented frame, use `newframe = frame.copy()`\n",
            "  muestras['Muestra_' + str(i)]=_ # Con ello salvo cada una de las columnas del df\n",
            "/tmp/ipython-input-470-1324038430.py:7: PerformanceWarning: DataFrame is highly fragmented.  This is usually the result of calling `frame.insert` many times, which has poor performance.  Consider joining all columns at once using pd.concat(axis=1) instead. To get a de-fragmented frame, use `newframe = frame.copy()`\n",
            "  muestras['Muestra_' + str(i)]=_ # Con ello salvo cada una de las columnas del df\n",
            "/tmp/ipython-input-470-1324038430.py:7: PerformanceWarning: DataFrame is highly fragmented.  This is usually the result of calling `frame.insert` many times, which has poor performance.  Consider joining all columns at once using pd.concat(axis=1) instead. To get a de-fragmented frame, use `newframe = frame.copy()`\n",
            "  muestras['Muestra_' + str(i)]=_ # Con ello salvo cada una de las columnas del df\n",
            "/tmp/ipython-input-470-1324038430.py:7: PerformanceWarning: DataFrame is highly fragmented.  This is usually the result of calling `frame.insert` many times, which has poor performance.  Consider joining all columns at once using pd.concat(axis=1) instead. To get a de-fragmented frame, use `newframe = frame.copy()`\n",
            "  muestras['Muestra_' + str(i)]=_ # Con ello salvo cada una de las columnas del df\n",
            "/tmp/ipython-input-470-1324038430.py:7: PerformanceWarning: DataFrame is highly fragmented.  This is usually the result of calling `frame.insert` many times, which has poor performance.  Consider joining all columns at once using pd.concat(axis=1) instead. To get a de-fragmented frame, use `newframe = frame.copy()`\n",
            "  muestras['Muestra_' + str(i)]=_ # Con ello salvo cada una de las columnas del df\n",
            "/tmp/ipython-input-470-1324038430.py:7: PerformanceWarning: DataFrame is highly fragmented.  This is usually the result of calling `frame.insert` many times, which has poor performance.  Consider joining all columns at once using pd.concat(axis=1) instead. To get a de-fragmented frame, use `newframe = frame.copy()`\n",
            "  muestras['Muestra_' + str(i)]=_ # Con ello salvo cada una de las columnas del df\n",
            "/tmp/ipython-input-470-1324038430.py:7: PerformanceWarning: DataFrame is highly fragmented.  This is usually the result of calling `frame.insert` many times, which has poor performance.  Consider joining all columns at once using pd.concat(axis=1) instead. To get a de-fragmented frame, use `newframe = frame.copy()`\n",
            "  muestras['Muestra_' + str(i)]=_ # Con ello salvo cada una de las columnas del df\n",
            "/tmp/ipython-input-470-1324038430.py:7: PerformanceWarning: DataFrame is highly fragmented.  This is usually the result of calling `frame.insert` many times, which has poor performance.  Consider joining all columns at once using pd.concat(axis=1) instead. To get a de-fragmented frame, use `newframe = frame.copy()`\n",
            "  muestras['Muestra_' + str(i)]=_ # Con ello salvo cada una de las columnas del df\n",
            "/tmp/ipython-input-470-1324038430.py:7: PerformanceWarning: DataFrame is highly fragmented.  This is usually the result of calling `frame.insert` many times, which has poor performance.  Consider joining all columns at once using pd.concat(axis=1) instead. To get a de-fragmented frame, use `newframe = frame.copy()`\n",
            "  muestras['Muestra_' + str(i)]=_ # Con ello salvo cada una de las columnas del df\n",
            "/tmp/ipython-input-470-1324038430.py:7: PerformanceWarning: DataFrame is highly fragmented.  This is usually the result of calling `frame.insert` many times, which has poor performance.  Consider joining all columns at once using pd.concat(axis=1) instead. To get a de-fragmented frame, use `newframe = frame.copy()`\n",
            "  muestras['Muestra_' + str(i)]=_ # Con ello salvo cada una de las columnas del df\n",
            "/tmp/ipython-input-470-1324038430.py:7: PerformanceWarning: DataFrame is highly fragmented.  This is usually the result of calling `frame.insert` many times, which has poor performance.  Consider joining all columns at once using pd.concat(axis=1) instead. To get a de-fragmented frame, use `newframe = frame.copy()`\n",
            "  muestras['Muestra_' + str(i)]=_ # Con ello salvo cada una de las columnas del df\n",
            "/tmp/ipython-input-470-1324038430.py:7: PerformanceWarning: DataFrame is highly fragmented.  This is usually the result of calling `frame.insert` many times, which has poor performance.  Consider joining all columns at once using pd.concat(axis=1) instead. To get a de-fragmented frame, use `newframe = frame.copy()`\n",
            "  muestras['Muestra_' + str(i)]=_ # Con ello salvo cada una de las columnas del df\n",
            "/tmp/ipython-input-470-1324038430.py:7: PerformanceWarning: DataFrame is highly fragmented.  This is usually the result of calling `frame.insert` many times, which has poor performance.  Consider joining all columns at once using pd.concat(axis=1) instead. To get a de-fragmented frame, use `newframe = frame.copy()`\n",
            "  muestras['Muestra_' + str(i)]=_ # Con ello salvo cada una de las columnas del df\n",
            "/tmp/ipython-input-470-1324038430.py:7: PerformanceWarning: DataFrame is highly fragmented.  This is usually the result of calling `frame.insert` many times, which has poor performance.  Consider joining all columns at once using pd.concat(axis=1) instead. To get a de-fragmented frame, use `newframe = frame.copy()`\n",
            "  muestras['Muestra_' + str(i)]=_ # Con ello salvo cada una de las columnas del df\n",
            "/tmp/ipython-input-470-1324038430.py:7: PerformanceWarning: DataFrame is highly fragmented.  This is usually the result of calling `frame.insert` many times, which has poor performance.  Consider joining all columns at once using pd.concat(axis=1) instead. To get a de-fragmented frame, use `newframe = frame.copy()`\n",
            "  muestras['Muestra_' + str(i)]=_ # Con ello salvo cada una de las columnas del df\n",
            "/tmp/ipython-input-470-1324038430.py:7: PerformanceWarning: DataFrame is highly fragmented.  This is usually the result of calling `frame.insert` many times, which has poor performance.  Consider joining all columns at once using pd.concat(axis=1) instead. To get a de-fragmented frame, use `newframe = frame.copy()`\n",
            "  muestras['Muestra_' + str(i)]=_ # Con ello salvo cada una de las columnas del df\n",
            "/tmp/ipython-input-470-1324038430.py:7: PerformanceWarning: DataFrame is highly fragmented.  This is usually the result of calling `frame.insert` many times, which has poor performance.  Consider joining all columns at once using pd.concat(axis=1) instead. To get a de-fragmented frame, use `newframe = frame.copy()`\n",
            "  muestras['Muestra_' + str(i)]=_ # Con ello salvo cada una de las columnas del df\n",
            "/tmp/ipython-input-470-1324038430.py:7: PerformanceWarning: DataFrame is highly fragmented.  This is usually the result of calling `frame.insert` many times, which has poor performance.  Consider joining all columns at once using pd.concat(axis=1) instead. To get a de-fragmented frame, use `newframe = frame.copy()`\n",
            "  muestras['Muestra_' + str(i)]=_ # Con ello salvo cada una de las columnas del df\n",
            "/tmp/ipython-input-470-1324038430.py:7: PerformanceWarning: DataFrame is highly fragmented.  This is usually the result of calling `frame.insert` many times, which has poor performance.  Consider joining all columns at once using pd.concat(axis=1) instead. To get a de-fragmented frame, use `newframe = frame.copy()`\n",
            "  muestras['Muestra_' + str(i)]=_ # Con ello salvo cada una de las columnas del df\n",
            "/tmp/ipython-input-470-1324038430.py:7: PerformanceWarning: DataFrame is highly fragmented.  This is usually the result of calling `frame.insert` many times, which has poor performance.  Consider joining all columns at once using pd.concat(axis=1) instead. To get a de-fragmented frame, use `newframe = frame.copy()`\n",
            "  muestras['Muestra_' + str(i)]=_ # Con ello salvo cada una de las columnas del df\n",
            "/tmp/ipython-input-470-1324038430.py:7: PerformanceWarning: DataFrame is highly fragmented.  This is usually the result of calling `frame.insert` many times, which has poor performance.  Consider joining all columns at once using pd.concat(axis=1) instead. To get a de-fragmented frame, use `newframe = frame.copy()`\n",
            "  muestras['Muestra_' + str(i)]=_ # Con ello salvo cada una de las columnas del df\n",
            "/tmp/ipython-input-470-1324038430.py:7: PerformanceWarning: DataFrame is highly fragmented.  This is usually the result of calling `frame.insert` many times, which has poor performance.  Consider joining all columns at once using pd.concat(axis=1) instead. To get a de-fragmented frame, use `newframe = frame.copy()`\n",
            "  muestras['Muestra_' + str(i)]=_ # Con ello salvo cada una de las columnas del df\n",
            "/tmp/ipython-input-470-1324038430.py:7: PerformanceWarning: DataFrame is highly fragmented.  This is usually the result of calling `frame.insert` many times, which has poor performance.  Consider joining all columns at once using pd.concat(axis=1) instead. To get a de-fragmented frame, use `newframe = frame.copy()`\n",
            "  muestras['Muestra_' + str(i)]=_ # Con ello salvo cada una de las columnas del df\n",
            "/tmp/ipython-input-470-1324038430.py:7: PerformanceWarning: DataFrame is highly fragmented.  This is usually the result of calling `frame.insert` many times, which has poor performance.  Consider joining all columns at once using pd.concat(axis=1) instead. To get a de-fragmented frame, use `newframe = frame.copy()`\n",
            "  muestras['Muestra_' + str(i)]=_ # Con ello salvo cada una de las columnas del df\n",
            "/tmp/ipython-input-470-1324038430.py:7: PerformanceWarning: DataFrame is highly fragmented.  This is usually the result of calling `frame.insert` many times, which has poor performance.  Consider joining all columns at once using pd.concat(axis=1) instead. To get a de-fragmented frame, use `newframe = frame.copy()`\n",
            "  muestras['Muestra_' + str(i)]=_ # Con ello salvo cada una de las columnas del df\n",
            "/tmp/ipython-input-470-1324038430.py:7: PerformanceWarning: DataFrame is highly fragmented.  This is usually the result of calling `frame.insert` many times, which has poor performance.  Consider joining all columns at once using pd.concat(axis=1) instead. To get a de-fragmented frame, use `newframe = frame.copy()`\n",
            "  muestras['Muestra_' + str(i)]=_ # Con ello salvo cada una de las columnas del df\n",
            "/tmp/ipython-input-470-1324038430.py:7: PerformanceWarning: DataFrame is highly fragmented.  This is usually the result of calling `frame.insert` many times, which has poor performance.  Consider joining all columns at once using pd.concat(axis=1) instead. To get a de-fragmented frame, use `newframe = frame.copy()`\n",
            "  muestras['Muestra_' + str(i)]=_ # Con ello salvo cada una de las columnas del df\n",
            "/tmp/ipython-input-470-1324038430.py:7: PerformanceWarning: DataFrame is highly fragmented.  This is usually the result of calling `frame.insert` many times, which has poor performance.  Consider joining all columns at once using pd.concat(axis=1) instead. To get a de-fragmented frame, use `newframe = frame.copy()`\n",
            "  muestras['Muestra_' + str(i)]=_ # Con ello salvo cada una de las columnas del df\n",
            "/tmp/ipython-input-470-1324038430.py:7: PerformanceWarning: DataFrame is highly fragmented.  This is usually the result of calling `frame.insert` many times, which has poor performance.  Consider joining all columns at once using pd.concat(axis=1) instead. To get a de-fragmented frame, use `newframe = frame.copy()`\n",
            "  muestras['Muestra_' + str(i)]=_ # Con ello salvo cada una de las columnas del df\n",
            "/tmp/ipython-input-470-1324038430.py:7: PerformanceWarning: DataFrame is highly fragmented.  This is usually the result of calling `frame.insert` many times, which has poor performance.  Consider joining all columns at once using pd.concat(axis=1) instead. To get a de-fragmented frame, use `newframe = frame.copy()`\n",
            "  muestras['Muestra_' + str(i)]=_ # Con ello salvo cada una de las columnas del df\n",
            "/tmp/ipython-input-470-1324038430.py:7: PerformanceWarning: DataFrame is highly fragmented.  This is usually the result of calling `frame.insert` many times, which has poor performance.  Consider joining all columns at once using pd.concat(axis=1) instead. To get a de-fragmented frame, use `newframe = frame.copy()`\n",
            "  muestras['Muestra_' + str(i)]=_ # Con ello salvo cada una de las columnas del df\n",
            "/tmp/ipython-input-470-1324038430.py:7: PerformanceWarning: DataFrame is highly fragmented.  This is usually the result of calling `frame.insert` many times, which has poor performance.  Consider joining all columns at once using pd.concat(axis=1) instead. To get a de-fragmented frame, use `newframe = frame.copy()`\n",
            "  muestras['Muestra_' + str(i)]=_ # Con ello salvo cada una de las columnas del df\n",
            "/tmp/ipython-input-470-1324038430.py:7: PerformanceWarning: DataFrame is highly fragmented.  This is usually the result of calling `frame.insert` many times, which has poor performance.  Consider joining all columns at once using pd.concat(axis=1) instead. To get a de-fragmented frame, use `newframe = frame.copy()`\n",
            "  muestras['Muestra_' + str(i)]=_ # Con ello salvo cada una de las columnas del df\n",
            "/tmp/ipython-input-470-1324038430.py:7: PerformanceWarning: DataFrame is highly fragmented.  This is usually the result of calling `frame.insert` many times, which has poor performance.  Consider joining all columns at once using pd.concat(axis=1) instead. To get a de-fragmented frame, use `newframe = frame.copy()`\n",
            "  muestras['Muestra_' + str(i)]=_ # Con ello salvo cada una de las columnas del df\n",
            "/tmp/ipython-input-470-1324038430.py:7: PerformanceWarning: DataFrame is highly fragmented.  This is usually the result of calling `frame.insert` many times, which has poor performance.  Consider joining all columns at once using pd.concat(axis=1) instead. To get a de-fragmented frame, use `newframe = frame.copy()`\n",
            "  muestras['Muestra_' + str(i)]=_ # Con ello salvo cada una de las columnas del df\n",
            "/tmp/ipython-input-470-1324038430.py:7: PerformanceWarning: DataFrame is highly fragmented.  This is usually the result of calling `frame.insert` many times, which has poor performance.  Consider joining all columns at once using pd.concat(axis=1) instead. To get a de-fragmented frame, use `newframe = frame.copy()`\n",
            "  muestras['Muestra_' + str(i)]=_ # Con ello salvo cada una de las columnas del df\n",
            "/tmp/ipython-input-470-1324038430.py:7: PerformanceWarning: DataFrame is highly fragmented.  This is usually the result of calling `frame.insert` many times, which has poor performance.  Consider joining all columns at once using pd.concat(axis=1) instead. To get a de-fragmented frame, use `newframe = frame.copy()`\n",
            "  muestras['Muestra_' + str(i)]=_ # Con ello salvo cada una de las columnas del df\n",
            "/tmp/ipython-input-470-1324038430.py:7: PerformanceWarning: DataFrame is highly fragmented.  This is usually the result of calling `frame.insert` many times, which has poor performance.  Consider joining all columns at once using pd.concat(axis=1) instead. To get a de-fragmented frame, use `newframe = frame.copy()`\n",
            "  muestras['Muestra_' + str(i)]=_ # Con ello salvo cada una de las columnas del df\n",
            "/tmp/ipython-input-470-1324038430.py:7: PerformanceWarning: DataFrame is highly fragmented.  This is usually the result of calling `frame.insert` many times, which has poor performance.  Consider joining all columns at once using pd.concat(axis=1) instead. To get a de-fragmented frame, use `newframe = frame.copy()`\n",
            "  muestras['Muestra_' + str(i)]=_ # Con ello salvo cada una de las columnas del df\n",
            "/tmp/ipython-input-470-1324038430.py:7: PerformanceWarning: DataFrame is highly fragmented.  This is usually the result of calling `frame.insert` many times, which has poor performance.  Consider joining all columns at once using pd.concat(axis=1) instead. To get a de-fragmented frame, use `newframe = frame.copy()`\n",
            "  muestras['Muestra_' + str(i)]=_ # Con ello salvo cada una de las columnas del df\n",
            "/tmp/ipython-input-470-1324038430.py:7: PerformanceWarning: DataFrame is highly fragmented.  This is usually the result of calling `frame.insert` many times, which has poor performance.  Consider joining all columns at once using pd.concat(axis=1) instead. To get a de-fragmented frame, use `newframe = frame.copy()`\n",
            "  muestras['Muestra_' + str(i)]=_ # Con ello salvo cada una de las columnas del df\n",
            "/tmp/ipython-input-470-1324038430.py:7: PerformanceWarning: DataFrame is highly fragmented.  This is usually the result of calling `frame.insert` many times, which has poor performance.  Consider joining all columns at once using pd.concat(axis=1) instead. To get a de-fragmented frame, use `newframe = frame.copy()`\n",
            "  muestras['Muestra_' + str(i)]=_ # Con ello salvo cada una de las columnas del df\n",
            "/tmp/ipython-input-470-1324038430.py:7: PerformanceWarning: DataFrame is highly fragmented.  This is usually the result of calling `frame.insert` many times, which has poor performance.  Consider joining all columns at once using pd.concat(axis=1) instead. To get a de-fragmented frame, use `newframe = frame.copy()`\n",
            "  muestras['Muestra_' + str(i)]=_ # Con ello salvo cada una de las columnas del df\n",
            "/tmp/ipython-input-470-1324038430.py:7: PerformanceWarning: DataFrame is highly fragmented.  This is usually the result of calling `frame.insert` many times, which has poor performance.  Consider joining all columns at once using pd.concat(axis=1) instead. To get a de-fragmented frame, use `newframe = frame.copy()`\n",
            "  muestras['Muestra_' + str(i)]=_ # Con ello salvo cada una de las columnas del df\n",
            "/tmp/ipython-input-470-1324038430.py:7: PerformanceWarning: DataFrame is highly fragmented.  This is usually the result of calling `frame.insert` many times, which has poor performance.  Consider joining all columns at once using pd.concat(axis=1) instead. To get a de-fragmented frame, use `newframe = frame.copy()`\n",
            "  muestras['Muestra_' + str(i)]=_ # Con ello salvo cada una de las columnas del df\n",
            "/tmp/ipython-input-470-1324038430.py:7: PerformanceWarning: DataFrame is highly fragmented.  This is usually the result of calling `frame.insert` many times, which has poor performance.  Consider joining all columns at once using pd.concat(axis=1) instead. To get a de-fragmented frame, use `newframe = frame.copy()`\n",
            "  muestras['Muestra_' + str(i)]=_ # Con ello salvo cada una de las columnas del df\n",
            "/tmp/ipython-input-470-1324038430.py:7: PerformanceWarning: DataFrame is highly fragmented.  This is usually the result of calling `frame.insert` many times, which has poor performance.  Consider joining all columns at once using pd.concat(axis=1) instead. To get a de-fragmented frame, use `newframe = frame.copy()`\n",
            "  muestras['Muestra_' + str(i)]=_ # Con ello salvo cada una de las columnas del df\n",
            "/tmp/ipython-input-470-1324038430.py:7: PerformanceWarning: DataFrame is highly fragmented.  This is usually the result of calling `frame.insert` many times, which has poor performance.  Consider joining all columns at once using pd.concat(axis=1) instead. To get a de-fragmented frame, use `newframe = frame.copy()`\n",
            "  muestras['Muestra_' + str(i)]=_ # Con ello salvo cada una de las columnas del df\n",
            "/tmp/ipython-input-470-1324038430.py:7: PerformanceWarning: DataFrame is highly fragmented.  This is usually the result of calling `frame.insert` many times, which has poor performance.  Consider joining all columns at once using pd.concat(axis=1) instead. To get a de-fragmented frame, use `newframe = frame.copy()`\n",
            "  muestras['Muestra_' + str(i)]=_ # Con ello salvo cada una de las columnas del df\n",
            "/tmp/ipython-input-470-1324038430.py:7: PerformanceWarning: DataFrame is highly fragmented.  This is usually the result of calling `frame.insert` many times, which has poor performance.  Consider joining all columns at once using pd.concat(axis=1) instead. To get a de-fragmented frame, use `newframe = frame.copy()`\n",
            "  muestras['Muestra_' + str(i)]=_ # Con ello salvo cada una de las columnas del df\n",
            "/tmp/ipython-input-470-1324038430.py:7: PerformanceWarning: DataFrame is highly fragmented.  This is usually the result of calling `frame.insert` many times, which has poor performance.  Consider joining all columns at once using pd.concat(axis=1) instead. To get a de-fragmented frame, use `newframe = frame.copy()`\n",
            "  muestras['Muestra_' + str(i)]=_ # Con ello salvo cada una de las columnas del df\n",
            "/tmp/ipython-input-470-1324038430.py:7: PerformanceWarning: DataFrame is highly fragmented.  This is usually the result of calling `frame.insert` many times, which has poor performance.  Consider joining all columns at once using pd.concat(axis=1) instead. To get a de-fragmented frame, use `newframe = frame.copy()`\n",
            "  muestras['Muestra_' + str(i)]=_ # Con ello salvo cada una de las columnas del df\n",
            "/tmp/ipython-input-470-1324038430.py:7: PerformanceWarning: DataFrame is highly fragmented.  This is usually the result of calling `frame.insert` many times, which has poor performance.  Consider joining all columns at once using pd.concat(axis=1) instead. To get a de-fragmented frame, use `newframe = frame.copy()`\n",
            "  muestras['Muestra_' + str(i)]=_ # Con ello salvo cada una de las columnas del df\n",
            "/tmp/ipython-input-470-1324038430.py:7: PerformanceWarning: DataFrame is highly fragmented.  This is usually the result of calling `frame.insert` many times, which has poor performance.  Consider joining all columns at once using pd.concat(axis=1) instead. To get a de-fragmented frame, use `newframe = frame.copy()`\n",
            "  muestras['Muestra_' + str(i)]=_ # Con ello salvo cada una de las columnas del df\n",
            "/tmp/ipython-input-470-1324038430.py:7: PerformanceWarning: DataFrame is highly fragmented.  This is usually the result of calling `frame.insert` many times, which has poor performance.  Consider joining all columns at once using pd.concat(axis=1) instead. To get a de-fragmented frame, use `newframe = frame.copy()`\n",
            "  muestras['Muestra_' + str(i)]=_ # Con ello salvo cada una de las columnas del df\n",
            "/tmp/ipython-input-470-1324038430.py:7: PerformanceWarning: DataFrame is highly fragmented.  This is usually the result of calling `frame.insert` many times, which has poor performance.  Consider joining all columns at once using pd.concat(axis=1) instead. To get a de-fragmented frame, use `newframe = frame.copy()`\n",
            "  muestras['Muestra_' + str(i)]=_ # Con ello salvo cada una de las columnas del df\n",
            "/tmp/ipython-input-470-1324038430.py:7: PerformanceWarning: DataFrame is highly fragmented.  This is usually the result of calling `frame.insert` many times, which has poor performance.  Consider joining all columns at once using pd.concat(axis=1) instead. To get a de-fragmented frame, use `newframe = frame.copy()`\n",
            "  muestras['Muestra_' + str(i)]=_ # Con ello salvo cada una de las columnas del df\n",
            "/tmp/ipython-input-470-1324038430.py:7: PerformanceWarning: DataFrame is highly fragmented.  This is usually the result of calling `frame.insert` many times, which has poor performance.  Consider joining all columns at once using pd.concat(axis=1) instead. To get a de-fragmented frame, use `newframe = frame.copy()`\n",
            "  muestras['Muestra_' + str(i)]=_ # Con ello salvo cada una de las columnas del df\n",
            "/tmp/ipython-input-470-1324038430.py:7: PerformanceWarning: DataFrame is highly fragmented.  This is usually the result of calling `frame.insert` many times, which has poor performance.  Consider joining all columns at once using pd.concat(axis=1) instead. To get a de-fragmented frame, use `newframe = frame.copy()`\n",
            "  muestras['Muestra_' + str(i)]=_ # Con ello salvo cada una de las columnas del df\n",
            "/tmp/ipython-input-470-1324038430.py:7: PerformanceWarning: DataFrame is highly fragmented.  This is usually the result of calling `frame.insert` many times, which has poor performance.  Consider joining all columns at once using pd.concat(axis=1) instead. To get a de-fragmented frame, use `newframe = frame.copy()`\n",
            "  muestras['Muestra_' + str(i)]=_ # Con ello salvo cada una de las columnas del df\n",
            "/tmp/ipython-input-470-1324038430.py:7: PerformanceWarning: DataFrame is highly fragmented.  This is usually the result of calling `frame.insert` many times, which has poor performance.  Consider joining all columns at once using pd.concat(axis=1) instead. To get a de-fragmented frame, use `newframe = frame.copy()`\n",
            "  muestras['Muestra_' + str(i)]=_ # Con ello salvo cada una de las columnas del df\n",
            "/tmp/ipython-input-470-1324038430.py:7: PerformanceWarning: DataFrame is highly fragmented.  This is usually the result of calling `frame.insert` many times, which has poor performance.  Consider joining all columns at once using pd.concat(axis=1) instead. To get a de-fragmented frame, use `newframe = frame.copy()`\n",
            "  muestras['Muestra_' + str(i)]=_ # Con ello salvo cada una de las columnas del df\n",
            "/tmp/ipython-input-470-1324038430.py:7: PerformanceWarning: DataFrame is highly fragmented.  This is usually the result of calling `frame.insert` many times, which has poor performance.  Consider joining all columns at once using pd.concat(axis=1) instead. To get a de-fragmented frame, use `newframe = frame.copy()`\n",
            "  muestras['Muestra_' + str(i)]=_ # Con ello salvo cada una de las columnas del df\n",
            "/tmp/ipython-input-470-1324038430.py:7: PerformanceWarning: DataFrame is highly fragmented.  This is usually the result of calling `frame.insert` many times, which has poor performance.  Consider joining all columns at once using pd.concat(axis=1) instead. To get a de-fragmented frame, use `newframe = frame.copy()`\n",
            "  muestras['Muestra_' + str(i)]=_ # Con ello salvo cada una de las columnas del df\n",
            "/tmp/ipython-input-470-1324038430.py:7: PerformanceWarning: DataFrame is highly fragmented.  This is usually the result of calling `frame.insert` many times, which has poor performance.  Consider joining all columns at once using pd.concat(axis=1) instead. To get a de-fragmented frame, use `newframe = frame.copy()`\n",
            "  muestras['Muestra_' + str(i)]=_ # Con ello salvo cada una de las columnas del df\n",
            "/tmp/ipython-input-470-1324038430.py:7: PerformanceWarning: DataFrame is highly fragmented.  This is usually the result of calling `frame.insert` many times, which has poor performance.  Consider joining all columns at once using pd.concat(axis=1) instead. To get a de-fragmented frame, use `newframe = frame.copy()`\n",
            "  muestras['Muestra_' + str(i)]=_ # Con ello salvo cada una de las columnas del df\n",
            "/tmp/ipython-input-470-1324038430.py:7: PerformanceWarning: DataFrame is highly fragmented.  This is usually the result of calling `frame.insert` many times, which has poor performance.  Consider joining all columns at once using pd.concat(axis=1) instead. To get a de-fragmented frame, use `newframe = frame.copy()`\n",
            "  muestras['Muestra_' + str(i)]=_ # Con ello salvo cada una de las columnas del df\n",
            "/tmp/ipython-input-470-1324038430.py:7: PerformanceWarning: DataFrame is highly fragmented.  This is usually the result of calling `frame.insert` many times, which has poor performance.  Consider joining all columns at once using pd.concat(axis=1) instead. To get a de-fragmented frame, use `newframe = frame.copy()`\n",
            "  muestras['Muestra_' + str(i)]=_ # Con ello salvo cada una de las columnas del df\n",
            "/tmp/ipython-input-470-1324038430.py:7: PerformanceWarning: DataFrame is highly fragmented.  This is usually the result of calling `frame.insert` many times, which has poor performance.  Consider joining all columns at once using pd.concat(axis=1) instead. To get a de-fragmented frame, use `newframe = frame.copy()`\n",
            "  muestras['Muestra_' + str(i)]=_ # Con ello salvo cada una de las columnas del df\n",
            "/tmp/ipython-input-470-1324038430.py:7: PerformanceWarning: DataFrame is highly fragmented.  This is usually the result of calling `frame.insert` many times, which has poor performance.  Consider joining all columns at once using pd.concat(axis=1) instead. To get a de-fragmented frame, use `newframe = frame.copy()`\n",
            "  muestras['Muestra_' + str(i)]=_ # Con ello salvo cada una de las columnas del df\n",
            "/tmp/ipython-input-470-1324038430.py:7: PerformanceWarning: DataFrame is highly fragmented.  This is usually the result of calling `frame.insert` many times, which has poor performance.  Consider joining all columns at once using pd.concat(axis=1) instead. To get a de-fragmented frame, use `newframe = frame.copy()`\n",
            "  muestras['Muestra_' + str(i)]=_ # Con ello salvo cada una de las columnas del df\n",
            "/tmp/ipython-input-470-1324038430.py:7: PerformanceWarning: DataFrame is highly fragmented.  This is usually the result of calling `frame.insert` many times, which has poor performance.  Consider joining all columns at once using pd.concat(axis=1) instead. To get a de-fragmented frame, use `newframe = frame.copy()`\n",
            "  muestras['Muestra_' + str(i)]=_ # Con ello salvo cada una de las columnas del df\n",
            "/tmp/ipython-input-470-1324038430.py:7: PerformanceWarning: DataFrame is highly fragmented.  This is usually the result of calling `frame.insert` many times, which has poor performance.  Consider joining all columns at once using pd.concat(axis=1) instead. To get a de-fragmented frame, use `newframe = frame.copy()`\n",
            "  muestras['Muestra_' + str(i)]=_ # Con ello salvo cada una de las columnas del df\n",
            "/tmp/ipython-input-470-1324038430.py:7: PerformanceWarning: DataFrame is highly fragmented.  This is usually the result of calling `frame.insert` many times, which has poor performance.  Consider joining all columns at once using pd.concat(axis=1) instead. To get a de-fragmented frame, use `newframe = frame.copy()`\n",
            "  muestras['Muestra_' + str(i)]=_ # Con ello salvo cada una de las columnas del df\n",
            "/tmp/ipython-input-470-1324038430.py:7: PerformanceWarning: DataFrame is highly fragmented.  This is usually the result of calling `frame.insert` many times, which has poor performance.  Consider joining all columns at once using pd.concat(axis=1) instead. To get a de-fragmented frame, use `newframe = frame.copy()`\n",
            "  muestras['Muestra_' + str(i)]=_ # Con ello salvo cada una de las columnas del df\n",
            "/tmp/ipython-input-470-1324038430.py:7: PerformanceWarning: DataFrame is highly fragmented.  This is usually the result of calling `frame.insert` many times, which has poor performance.  Consider joining all columns at once using pd.concat(axis=1) instead. To get a de-fragmented frame, use `newframe = frame.copy()`\n",
            "  muestras['Muestra_' + str(i)]=_ # Con ello salvo cada una de las columnas del df\n",
            "/tmp/ipython-input-470-1324038430.py:7: PerformanceWarning: DataFrame is highly fragmented.  This is usually the result of calling `frame.insert` many times, which has poor performance.  Consider joining all columns at once using pd.concat(axis=1) instead. To get a de-fragmented frame, use `newframe = frame.copy()`\n",
            "  muestras['Muestra_' + str(i)]=_ # Con ello salvo cada una de las columnas del df\n",
            "/tmp/ipython-input-470-1324038430.py:7: PerformanceWarning: DataFrame is highly fragmented.  This is usually the result of calling `frame.insert` many times, which has poor performance.  Consider joining all columns at once using pd.concat(axis=1) instead. To get a de-fragmented frame, use `newframe = frame.copy()`\n",
            "  muestras['Muestra_' + str(i)]=_ # Con ello salvo cada una de las columnas del df\n",
            "/tmp/ipython-input-470-1324038430.py:7: PerformanceWarning: DataFrame is highly fragmented.  This is usually the result of calling `frame.insert` many times, which has poor performance.  Consider joining all columns at once using pd.concat(axis=1) instead. To get a de-fragmented frame, use `newframe = frame.copy()`\n",
            "  muestras['Muestra_' + str(i)]=_ # Con ello salvo cada una de las columnas del df\n",
            "/tmp/ipython-input-470-1324038430.py:7: PerformanceWarning: DataFrame is highly fragmented.  This is usually the result of calling `frame.insert` many times, which has poor performance.  Consider joining all columns at once using pd.concat(axis=1) instead. To get a de-fragmented frame, use `newframe = frame.copy()`\n",
            "  muestras['Muestra_' + str(i)]=_ # Con ello salvo cada una de las columnas del df\n",
            "/tmp/ipython-input-470-1324038430.py:7: PerformanceWarning: DataFrame is highly fragmented.  This is usually the result of calling `frame.insert` many times, which has poor performance.  Consider joining all columns at once using pd.concat(axis=1) instead. To get a de-fragmented frame, use `newframe = frame.copy()`\n",
            "  muestras['Muestra_' + str(i)]=_ # Con ello salvo cada una de las columnas del df\n",
            "/tmp/ipython-input-470-1324038430.py:7: PerformanceWarning: DataFrame is highly fragmented.  This is usually the result of calling `frame.insert` many times, which has poor performance.  Consider joining all columns at once using pd.concat(axis=1) instead. To get a de-fragmented frame, use `newframe = frame.copy()`\n",
            "  muestras['Muestra_' + str(i)]=_ # Con ello salvo cada una de las columnas del df\n",
            "/tmp/ipython-input-470-1324038430.py:7: PerformanceWarning: DataFrame is highly fragmented.  This is usually the result of calling `frame.insert` many times, which has poor performance.  Consider joining all columns at once using pd.concat(axis=1) instead. To get a de-fragmented frame, use `newframe = frame.copy()`\n",
            "  muestras['Muestra_' + str(i)]=_ # Con ello salvo cada una de las columnas del df\n",
            "/tmp/ipython-input-470-1324038430.py:7: PerformanceWarning: DataFrame is highly fragmented.  This is usually the result of calling `frame.insert` many times, which has poor performance.  Consider joining all columns at once using pd.concat(axis=1) instead. To get a de-fragmented frame, use `newframe = frame.copy()`\n",
            "  muestras['Muestra_' + str(i)]=_ # Con ello salvo cada una de las columnas del df\n",
            "/tmp/ipython-input-470-1324038430.py:7: PerformanceWarning: DataFrame is highly fragmented.  This is usually the result of calling `frame.insert` many times, which has poor performance.  Consider joining all columns at once using pd.concat(axis=1) instead. To get a de-fragmented frame, use `newframe = frame.copy()`\n",
            "  muestras['Muestra_' + str(i)]=_ # Con ello salvo cada una de las columnas del df\n",
            "/tmp/ipython-input-470-1324038430.py:7: PerformanceWarning: DataFrame is highly fragmented.  This is usually the result of calling `frame.insert` many times, which has poor performance.  Consider joining all columns at once using pd.concat(axis=1) instead. To get a de-fragmented frame, use `newframe = frame.copy()`\n",
            "  muestras['Muestra_' + str(i)]=_ # Con ello salvo cada una de las columnas del df\n",
            "/tmp/ipython-input-470-1324038430.py:7: PerformanceWarning: DataFrame is highly fragmented.  This is usually the result of calling `frame.insert` many times, which has poor performance.  Consider joining all columns at once using pd.concat(axis=1) instead. To get a de-fragmented frame, use `newframe = frame.copy()`\n",
            "  muestras['Muestra_' + str(i)]=_ # Con ello salvo cada una de las columnas del df\n",
            "/tmp/ipython-input-470-1324038430.py:7: PerformanceWarning: DataFrame is highly fragmented.  This is usually the result of calling `frame.insert` many times, which has poor performance.  Consider joining all columns at once using pd.concat(axis=1) instead. To get a de-fragmented frame, use `newframe = frame.copy()`\n",
            "  muestras['Muestra_' + str(i)]=_ # Con ello salvo cada una de las columnas del df\n",
            "/tmp/ipython-input-470-1324038430.py:7: PerformanceWarning: DataFrame is highly fragmented.  This is usually the result of calling `frame.insert` many times, which has poor performance.  Consider joining all columns at once using pd.concat(axis=1) instead. To get a de-fragmented frame, use `newframe = frame.copy()`\n",
            "  muestras['Muestra_' + str(i)]=_ # Con ello salvo cada una de las columnas del df\n",
            "/tmp/ipython-input-470-1324038430.py:7: PerformanceWarning: DataFrame is highly fragmented.  This is usually the result of calling `frame.insert` many times, which has poor performance.  Consider joining all columns at once using pd.concat(axis=1) instead. To get a de-fragmented frame, use `newframe = frame.copy()`\n",
            "  muestras['Muestra_' + str(i)]=_ # Con ello salvo cada una de las columnas del df\n",
            "/tmp/ipython-input-470-1324038430.py:7: PerformanceWarning: DataFrame is highly fragmented.  This is usually the result of calling `frame.insert` many times, which has poor performance.  Consider joining all columns at once using pd.concat(axis=1) instead. To get a de-fragmented frame, use `newframe = frame.copy()`\n",
            "  muestras['Muestra_' + str(i)]=_ # Con ello salvo cada una de las columnas del df\n",
            "/tmp/ipython-input-470-1324038430.py:7: PerformanceWarning: DataFrame is highly fragmented.  This is usually the result of calling `frame.insert` many times, which has poor performance.  Consider joining all columns at once using pd.concat(axis=1) instead. To get a de-fragmented frame, use `newframe = frame.copy()`\n",
            "  muestras['Muestra_' + str(i)]=_ # Con ello salvo cada una de las columnas del df\n",
            "/tmp/ipython-input-470-1324038430.py:7: PerformanceWarning: DataFrame is highly fragmented.  This is usually the result of calling `frame.insert` many times, which has poor performance.  Consider joining all columns at once using pd.concat(axis=1) instead. To get a de-fragmented frame, use `newframe = frame.copy()`\n",
            "  muestras['Muestra_' + str(i)]=_ # Con ello salvo cada una de las columnas del df\n",
            "/tmp/ipython-input-470-1324038430.py:7: PerformanceWarning: DataFrame is highly fragmented.  This is usually the result of calling `frame.insert` many times, which has poor performance.  Consider joining all columns at once using pd.concat(axis=1) instead. To get a de-fragmented frame, use `newframe = frame.copy()`\n",
            "  muestras['Muestra_' + str(i)]=_ # Con ello salvo cada una de las columnas del df\n",
            "/tmp/ipython-input-470-1324038430.py:7: PerformanceWarning: DataFrame is highly fragmented.  This is usually the result of calling `frame.insert` many times, which has poor performance.  Consider joining all columns at once using pd.concat(axis=1) instead. To get a de-fragmented frame, use `newframe = frame.copy()`\n",
            "  muestras['Muestra_' + str(i)]=_ # Con ello salvo cada una de las columnas del df\n",
            "/tmp/ipython-input-470-1324038430.py:7: PerformanceWarning: DataFrame is highly fragmented.  This is usually the result of calling `frame.insert` many times, which has poor performance.  Consider joining all columns at once using pd.concat(axis=1) instead. To get a de-fragmented frame, use `newframe = frame.copy()`\n",
            "  muestras['Muestra_' + str(i)]=_ # Con ello salvo cada una de las columnas del df\n",
            "/tmp/ipython-input-470-1324038430.py:7: PerformanceWarning: DataFrame is highly fragmented.  This is usually the result of calling `frame.insert` many times, which has poor performance.  Consider joining all columns at once using pd.concat(axis=1) instead. To get a de-fragmented frame, use `newframe = frame.copy()`\n",
            "  muestras['Muestra_' + str(i)]=_ # Con ello salvo cada una de las columnas del df\n",
            "/tmp/ipython-input-470-1324038430.py:7: PerformanceWarning: DataFrame is highly fragmented.  This is usually the result of calling `frame.insert` many times, which has poor performance.  Consider joining all columns at once using pd.concat(axis=1) instead. To get a de-fragmented frame, use `newframe = frame.copy()`\n",
            "  muestras['Muestra_' + str(i)]=_ # Con ello salvo cada una de las columnas del df\n",
            "/tmp/ipython-input-470-1324038430.py:7: PerformanceWarning: DataFrame is highly fragmented.  This is usually the result of calling `frame.insert` many times, which has poor performance.  Consider joining all columns at once using pd.concat(axis=1) instead. To get a de-fragmented frame, use `newframe = frame.copy()`\n",
            "  muestras['Muestra_' + str(i)]=_ # Con ello salvo cada una de las columnas del df\n",
            "/tmp/ipython-input-470-1324038430.py:7: PerformanceWarning: DataFrame is highly fragmented.  This is usually the result of calling `frame.insert` many times, which has poor performance.  Consider joining all columns at once using pd.concat(axis=1) instead. To get a de-fragmented frame, use `newframe = frame.copy()`\n",
            "  muestras['Muestra_' + str(i)]=_ # Con ello salvo cada una de las columnas del df\n",
            "/tmp/ipython-input-470-1324038430.py:7: PerformanceWarning: DataFrame is highly fragmented.  This is usually the result of calling `frame.insert` many times, which has poor performance.  Consider joining all columns at once using pd.concat(axis=1) instead. To get a de-fragmented frame, use `newframe = frame.copy()`\n",
            "  muestras['Muestra_' + str(i)]=_ # Con ello salvo cada una de las columnas del df\n",
            "/tmp/ipython-input-470-1324038430.py:7: PerformanceWarning: DataFrame is highly fragmented.  This is usually the result of calling `frame.insert` many times, which has poor performance.  Consider joining all columns at once using pd.concat(axis=1) instead. To get a de-fragmented frame, use `newframe = frame.copy()`\n",
            "  muestras['Muestra_' + str(i)]=_ # Con ello salvo cada una de las columnas del df\n",
            "/tmp/ipython-input-470-1324038430.py:7: PerformanceWarning: DataFrame is highly fragmented.  This is usually the result of calling `frame.insert` many times, which has poor performance.  Consider joining all columns at once using pd.concat(axis=1) instead. To get a de-fragmented frame, use `newframe = frame.copy()`\n",
            "  muestras['Muestra_' + str(i)]=_ # Con ello salvo cada una de las columnas del df\n",
            "/tmp/ipython-input-470-1324038430.py:7: PerformanceWarning: DataFrame is highly fragmented.  This is usually the result of calling `frame.insert` many times, which has poor performance.  Consider joining all columns at once using pd.concat(axis=1) instead. To get a de-fragmented frame, use `newframe = frame.copy()`\n",
            "  muestras['Muestra_' + str(i)]=_ # Con ello salvo cada una de las columnas del df\n",
            "/tmp/ipython-input-470-1324038430.py:7: PerformanceWarning: DataFrame is highly fragmented.  This is usually the result of calling `frame.insert` many times, which has poor performance.  Consider joining all columns at once using pd.concat(axis=1) instead. To get a de-fragmented frame, use `newframe = frame.copy()`\n",
            "  muestras['Muestra_' + str(i)]=_ # Con ello salvo cada una de las columnas del df\n",
            "/tmp/ipython-input-470-1324038430.py:7: PerformanceWarning: DataFrame is highly fragmented.  This is usually the result of calling `frame.insert` many times, which has poor performance.  Consider joining all columns at once using pd.concat(axis=1) instead. To get a de-fragmented frame, use `newframe = frame.copy()`\n",
            "  muestras['Muestra_' + str(i)]=_ # Con ello salvo cada una de las columnas del df\n",
            "/tmp/ipython-input-470-1324038430.py:7: PerformanceWarning: DataFrame is highly fragmented.  This is usually the result of calling `frame.insert` many times, which has poor performance.  Consider joining all columns at once using pd.concat(axis=1) instead. To get a de-fragmented frame, use `newframe = frame.copy()`\n",
            "  muestras['Muestra_' + str(i)]=_ # Con ello salvo cada una de las columnas del df\n",
            "/tmp/ipython-input-470-1324038430.py:7: PerformanceWarning: DataFrame is highly fragmented.  This is usually the result of calling `frame.insert` many times, which has poor performance.  Consider joining all columns at once using pd.concat(axis=1) instead. To get a de-fragmented frame, use `newframe = frame.copy()`\n",
            "  muestras['Muestra_' + str(i)]=_ # Con ello salvo cada una de las columnas del df\n",
            "/tmp/ipython-input-470-1324038430.py:7: PerformanceWarning: DataFrame is highly fragmented.  This is usually the result of calling `frame.insert` many times, which has poor performance.  Consider joining all columns at once using pd.concat(axis=1) instead. To get a de-fragmented frame, use `newframe = frame.copy()`\n",
            "  muestras['Muestra_' + str(i)]=_ # Con ello salvo cada una de las columnas del df\n",
            "/tmp/ipython-input-470-1324038430.py:7: PerformanceWarning: DataFrame is highly fragmented.  This is usually the result of calling `frame.insert` many times, which has poor performance.  Consider joining all columns at once using pd.concat(axis=1) instead. To get a de-fragmented frame, use `newframe = frame.copy()`\n",
            "  muestras['Muestra_' + str(i)]=_ # Con ello salvo cada una de las columnas del df\n",
            "/tmp/ipython-input-470-1324038430.py:7: PerformanceWarning: DataFrame is highly fragmented.  This is usually the result of calling `frame.insert` many times, which has poor performance.  Consider joining all columns at once using pd.concat(axis=1) instead. To get a de-fragmented frame, use `newframe = frame.copy()`\n",
            "  muestras['Muestra_' + str(i)]=_ # Con ello salvo cada una de las columnas del df\n",
            "/tmp/ipython-input-470-1324038430.py:7: PerformanceWarning: DataFrame is highly fragmented.  This is usually the result of calling `frame.insert` many times, which has poor performance.  Consider joining all columns at once using pd.concat(axis=1) instead. To get a de-fragmented frame, use `newframe = frame.copy()`\n",
            "  muestras['Muestra_' + str(i)]=_ # Con ello salvo cada una de las columnas del df\n",
            "/tmp/ipython-input-470-1324038430.py:7: PerformanceWarning: DataFrame is highly fragmented.  This is usually the result of calling `frame.insert` many times, which has poor performance.  Consider joining all columns at once using pd.concat(axis=1) instead. To get a de-fragmented frame, use `newframe = frame.copy()`\n",
            "  muestras['Muestra_' + str(i)]=_ # Con ello salvo cada una de las columnas del df\n",
            "/tmp/ipython-input-470-1324038430.py:7: PerformanceWarning: DataFrame is highly fragmented.  This is usually the result of calling `frame.insert` many times, which has poor performance.  Consider joining all columns at once using pd.concat(axis=1) instead. To get a de-fragmented frame, use `newframe = frame.copy()`\n",
            "  muestras['Muestra_' + str(i)]=_ # Con ello salvo cada una de las columnas del df\n",
            "/tmp/ipython-input-470-1324038430.py:7: PerformanceWarning: DataFrame is highly fragmented.  This is usually the result of calling `frame.insert` many times, which has poor performance.  Consider joining all columns at once using pd.concat(axis=1) instead. To get a de-fragmented frame, use `newframe = frame.copy()`\n",
            "  muestras['Muestra_' + str(i)]=_ # Con ello salvo cada una de las columnas del df\n",
            "/tmp/ipython-input-470-1324038430.py:7: PerformanceWarning: DataFrame is highly fragmented.  This is usually the result of calling `frame.insert` many times, which has poor performance.  Consider joining all columns at once using pd.concat(axis=1) instead. To get a de-fragmented frame, use `newframe = frame.copy()`\n",
            "  muestras['Muestra_' + str(i)]=_ # Con ello salvo cada una de las columnas del df\n",
            "/tmp/ipython-input-470-1324038430.py:7: PerformanceWarning: DataFrame is highly fragmented.  This is usually the result of calling `frame.insert` many times, which has poor performance.  Consider joining all columns at once using pd.concat(axis=1) instead. To get a de-fragmented frame, use `newframe = frame.copy()`\n",
            "  muestras['Muestra_' + str(i)]=_ # Con ello salvo cada una de las columnas del df\n",
            "/tmp/ipython-input-470-1324038430.py:7: PerformanceWarning: DataFrame is highly fragmented.  This is usually the result of calling `frame.insert` many times, which has poor performance.  Consider joining all columns at once using pd.concat(axis=1) instead. To get a de-fragmented frame, use `newframe = frame.copy()`\n",
            "  muestras['Muestra_' + str(i)]=_ # Con ello salvo cada una de las columnas del df\n",
            "/tmp/ipython-input-470-1324038430.py:7: PerformanceWarning: DataFrame is highly fragmented.  This is usually the result of calling `frame.insert` many times, which has poor performance.  Consider joining all columns at once using pd.concat(axis=1) instead. To get a de-fragmented frame, use `newframe = frame.copy()`\n",
            "  muestras['Muestra_' + str(i)]=_ # Con ello salvo cada una de las columnas del df\n",
            "/tmp/ipython-input-470-1324038430.py:7: PerformanceWarning: DataFrame is highly fragmented.  This is usually the result of calling `frame.insert` many times, which has poor performance.  Consider joining all columns at once using pd.concat(axis=1) instead. To get a de-fragmented frame, use `newframe = frame.copy()`\n",
            "  muestras['Muestra_' + str(i)]=_ # Con ello salvo cada una de las columnas del df\n",
            "/tmp/ipython-input-470-1324038430.py:7: PerformanceWarning: DataFrame is highly fragmented.  This is usually the result of calling `frame.insert` many times, which has poor performance.  Consider joining all columns at once using pd.concat(axis=1) instead. To get a de-fragmented frame, use `newframe = frame.copy()`\n",
            "  muestras['Muestra_' + str(i)]=_ # Con ello salvo cada una de las columnas del df\n",
            "/tmp/ipython-input-470-1324038430.py:7: PerformanceWarning: DataFrame is highly fragmented.  This is usually the result of calling `frame.insert` many times, which has poor performance.  Consider joining all columns at once using pd.concat(axis=1) instead. To get a de-fragmented frame, use `newframe = frame.copy()`\n",
            "  muestras['Muestra_' + str(i)]=_ # Con ello salvo cada una de las columnas del df\n",
            "/tmp/ipython-input-470-1324038430.py:7: PerformanceWarning: DataFrame is highly fragmented.  This is usually the result of calling `frame.insert` many times, which has poor performance.  Consider joining all columns at once using pd.concat(axis=1) instead. To get a de-fragmented frame, use `newframe = frame.copy()`\n",
            "  muestras['Muestra_' + str(i)]=_ # Con ello salvo cada una de las columnas del df\n",
            "/tmp/ipython-input-470-1324038430.py:7: PerformanceWarning: DataFrame is highly fragmented.  This is usually the result of calling `frame.insert` many times, which has poor performance.  Consider joining all columns at once using pd.concat(axis=1) instead. To get a de-fragmented frame, use `newframe = frame.copy()`\n",
            "  muestras['Muestra_' + str(i)]=_ # Con ello salvo cada una de las columnas del df\n",
            "/tmp/ipython-input-470-1324038430.py:7: PerformanceWarning: DataFrame is highly fragmented.  This is usually the result of calling `frame.insert` many times, which has poor performance.  Consider joining all columns at once using pd.concat(axis=1) instead. To get a de-fragmented frame, use `newframe = frame.copy()`\n",
            "  muestras['Muestra_' + str(i)]=_ # Con ello salvo cada una de las columnas del df\n",
            "/tmp/ipython-input-470-1324038430.py:7: PerformanceWarning: DataFrame is highly fragmented.  This is usually the result of calling `frame.insert` many times, which has poor performance.  Consider joining all columns at once using pd.concat(axis=1) instead. To get a de-fragmented frame, use `newframe = frame.copy()`\n",
            "  muestras['Muestra_' + str(i)]=_ # Con ello salvo cada una de las columnas del df\n",
            "/tmp/ipython-input-470-1324038430.py:7: PerformanceWarning: DataFrame is highly fragmented.  This is usually the result of calling `frame.insert` many times, which has poor performance.  Consider joining all columns at once using pd.concat(axis=1) instead. To get a de-fragmented frame, use `newframe = frame.copy()`\n",
            "  muestras['Muestra_' + str(i)]=_ # Con ello salvo cada una de las columnas del df\n",
            "/tmp/ipython-input-470-1324038430.py:7: PerformanceWarning: DataFrame is highly fragmented.  This is usually the result of calling `frame.insert` many times, which has poor performance.  Consider joining all columns at once using pd.concat(axis=1) instead. To get a de-fragmented frame, use `newframe = frame.copy()`\n",
            "  muestras['Muestra_' + str(i)]=_ # Con ello salvo cada una de las columnas del df\n",
            "/tmp/ipython-input-470-1324038430.py:7: PerformanceWarning: DataFrame is highly fragmented.  This is usually the result of calling `frame.insert` many times, which has poor performance.  Consider joining all columns at once using pd.concat(axis=1) instead. To get a de-fragmented frame, use `newframe = frame.copy()`\n",
            "  muestras['Muestra_' + str(i)]=_ # Con ello salvo cada una de las columnas del df\n",
            "/tmp/ipython-input-470-1324038430.py:7: PerformanceWarning: DataFrame is highly fragmented.  This is usually the result of calling `frame.insert` many times, which has poor performance.  Consider joining all columns at once using pd.concat(axis=1) instead. To get a de-fragmented frame, use `newframe = frame.copy()`\n",
            "  muestras['Muestra_' + str(i)]=_ # Con ello salvo cada una de las columnas del df\n",
            "/tmp/ipython-input-470-1324038430.py:7: PerformanceWarning: DataFrame is highly fragmented.  This is usually the result of calling `frame.insert` many times, which has poor performance.  Consider joining all columns at once using pd.concat(axis=1) instead. To get a de-fragmented frame, use `newframe = frame.copy()`\n",
            "  muestras['Muestra_' + str(i)]=_ # Con ello salvo cada una de las columnas del df\n",
            "/tmp/ipython-input-470-1324038430.py:7: PerformanceWarning: DataFrame is highly fragmented.  This is usually the result of calling `frame.insert` many times, which has poor performance.  Consider joining all columns at once using pd.concat(axis=1) instead. To get a de-fragmented frame, use `newframe = frame.copy()`\n",
            "  muestras['Muestra_' + str(i)]=_ # Con ello salvo cada una de las columnas del df\n",
            "/tmp/ipython-input-470-1324038430.py:7: PerformanceWarning: DataFrame is highly fragmented.  This is usually the result of calling `frame.insert` many times, which has poor performance.  Consider joining all columns at once using pd.concat(axis=1) instead. To get a de-fragmented frame, use `newframe = frame.copy()`\n",
            "  muestras['Muestra_' + str(i)]=_ # Con ello salvo cada una de las columnas del df\n",
            "/tmp/ipython-input-470-1324038430.py:7: PerformanceWarning: DataFrame is highly fragmented.  This is usually the result of calling `frame.insert` many times, which has poor performance.  Consider joining all columns at once using pd.concat(axis=1) instead. To get a de-fragmented frame, use `newframe = frame.copy()`\n",
            "  muestras['Muestra_' + str(i)]=_ # Con ello salvo cada una de las columnas del df\n",
            "/tmp/ipython-input-470-1324038430.py:7: PerformanceWarning: DataFrame is highly fragmented.  This is usually the result of calling `frame.insert` many times, which has poor performance.  Consider joining all columns at once using pd.concat(axis=1) instead. To get a de-fragmented frame, use `newframe = frame.copy()`\n",
            "  muestras['Muestra_' + str(i)]=_ # Con ello salvo cada una de las columnas del df\n",
            "/tmp/ipython-input-470-1324038430.py:7: PerformanceWarning: DataFrame is highly fragmented.  This is usually the result of calling `frame.insert` many times, which has poor performance.  Consider joining all columns at once using pd.concat(axis=1) instead. To get a de-fragmented frame, use `newframe = frame.copy()`\n",
            "  muestras['Muestra_' + str(i)]=_ # Con ello salvo cada una de las columnas del df\n",
            "/tmp/ipython-input-470-1324038430.py:7: PerformanceWarning: DataFrame is highly fragmented.  This is usually the result of calling `frame.insert` many times, which has poor performance.  Consider joining all columns at once using pd.concat(axis=1) instead. To get a de-fragmented frame, use `newframe = frame.copy()`\n",
            "  muestras['Muestra_' + str(i)]=_ # Con ello salvo cada una de las columnas del df\n",
            "/tmp/ipython-input-470-1324038430.py:7: PerformanceWarning: DataFrame is highly fragmented.  This is usually the result of calling `frame.insert` many times, which has poor performance.  Consider joining all columns at once using pd.concat(axis=1) instead. To get a de-fragmented frame, use `newframe = frame.copy()`\n",
            "  muestras['Muestra_' + str(i)]=_ # Con ello salvo cada una de las columnas del df\n",
            "/tmp/ipython-input-470-1324038430.py:7: PerformanceWarning: DataFrame is highly fragmented.  This is usually the result of calling `frame.insert` many times, which has poor performance.  Consider joining all columns at once using pd.concat(axis=1) instead. To get a de-fragmented frame, use `newframe = frame.copy()`\n",
            "  muestras['Muestra_' + str(i)]=_ # Con ello salvo cada una de las columnas del df\n",
            "/tmp/ipython-input-470-1324038430.py:7: PerformanceWarning: DataFrame is highly fragmented.  This is usually the result of calling `frame.insert` many times, which has poor performance.  Consider joining all columns at once using pd.concat(axis=1) instead. To get a de-fragmented frame, use `newframe = frame.copy()`\n",
            "  muestras['Muestra_' + str(i)]=_ # Con ello salvo cada una de las columnas del df\n",
            "/tmp/ipython-input-470-1324038430.py:7: PerformanceWarning: DataFrame is highly fragmented.  This is usually the result of calling `frame.insert` many times, which has poor performance.  Consider joining all columns at once using pd.concat(axis=1) instead. To get a de-fragmented frame, use `newframe = frame.copy()`\n",
            "  muestras['Muestra_' + str(i)]=_ # Con ello salvo cada una de las columnas del df\n",
            "/tmp/ipython-input-470-1324038430.py:7: PerformanceWarning: DataFrame is highly fragmented.  This is usually the result of calling `frame.insert` many times, which has poor performance.  Consider joining all columns at once using pd.concat(axis=1) instead. To get a de-fragmented frame, use `newframe = frame.copy()`\n",
            "  muestras['Muestra_' + str(i)]=_ # Con ello salvo cada una de las columnas del df\n",
            "/tmp/ipython-input-470-1324038430.py:7: PerformanceWarning: DataFrame is highly fragmented.  This is usually the result of calling `frame.insert` many times, which has poor performance.  Consider joining all columns at once using pd.concat(axis=1) instead. To get a de-fragmented frame, use `newframe = frame.copy()`\n",
            "  muestras['Muestra_' + str(i)]=_ # Con ello salvo cada una de las columnas del df\n",
            "/tmp/ipython-input-470-1324038430.py:7: PerformanceWarning: DataFrame is highly fragmented.  This is usually the result of calling `frame.insert` many times, which has poor performance.  Consider joining all columns at once using pd.concat(axis=1) instead. To get a de-fragmented frame, use `newframe = frame.copy()`\n",
            "  muestras['Muestra_' + str(i)]=_ # Con ello salvo cada una de las columnas del df\n",
            "/tmp/ipython-input-470-1324038430.py:7: PerformanceWarning: DataFrame is highly fragmented.  This is usually the result of calling `frame.insert` many times, which has poor performance.  Consider joining all columns at once using pd.concat(axis=1) instead. To get a de-fragmented frame, use `newframe = frame.copy()`\n",
            "  muestras['Muestra_' + str(i)]=_ # Con ello salvo cada una de las columnas del df\n",
            "/tmp/ipython-input-470-1324038430.py:7: PerformanceWarning: DataFrame is highly fragmented.  This is usually the result of calling `frame.insert` many times, which has poor performance.  Consider joining all columns at once using pd.concat(axis=1) instead. To get a de-fragmented frame, use `newframe = frame.copy()`\n",
            "  muestras['Muestra_' + str(i)]=_ # Con ello salvo cada una de las columnas del df\n",
            "/tmp/ipython-input-470-1324038430.py:7: PerformanceWarning: DataFrame is highly fragmented.  This is usually the result of calling `frame.insert` many times, which has poor performance.  Consider joining all columns at once using pd.concat(axis=1) instead. To get a de-fragmented frame, use `newframe = frame.copy()`\n",
            "  muestras['Muestra_' + str(i)]=_ # Con ello salvo cada una de las columnas del df\n",
            "/tmp/ipython-input-470-1324038430.py:7: PerformanceWarning: DataFrame is highly fragmented.  This is usually the result of calling `frame.insert` many times, which has poor performance.  Consider joining all columns at once using pd.concat(axis=1) instead. To get a de-fragmented frame, use `newframe = frame.copy()`\n",
            "  muestras['Muestra_' + str(i)]=_ # Con ello salvo cada una de las columnas del df\n",
            "/tmp/ipython-input-470-1324038430.py:7: PerformanceWarning: DataFrame is highly fragmented.  This is usually the result of calling `frame.insert` many times, which has poor performance.  Consider joining all columns at once using pd.concat(axis=1) instead. To get a de-fragmented frame, use `newframe = frame.copy()`\n",
            "  muestras['Muestra_' + str(i)]=_ # Con ello salvo cada una de las columnas del df\n",
            "/tmp/ipython-input-470-1324038430.py:7: PerformanceWarning: DataFrame is highly fragmented.  This is usually the result of calling `frame.insert` many times, which has poor performance.  Consider joining all columns at once using pd.concat(axis=1) instead. To get a de-fragmented frame, use `newframe = frame.copy()`\n",
            "  muestras['Muestra_' + str(i)]=_ # Con ello salvo cada una de las columnas del df\n",
            "/tmp/ipython-input-470-1324038430.py:7: PerformanceWarning: DataFrame is highly fragmented.  This is usually the result of calling `frame.insert` many times, which has poor performance.  Consider joining all columns at once using pd.concat(axis=1) instead. To get a de-fragmented frame, use `newframe = frame.copy()`\n",
            "  muestras['Muestra_' + str(i)]=_ # Con ello salvo cada una de las columnas del df\n",
            "/tmp/ipython-input-470-1324038430.py:7: PerformanceWarning: DataFrame is highly fragmented.  This is usually the result of calling `frame.insert` many times, which has poor performance.  Consider joining all columns at once using pd.concat(axis=1) instead. To get a de-fragmented frame, use `newframe = frame.copy()`\n",
            "  muestras['Muestra_' + str(i)]=_ # Con ello salvo cada una de las columnas del df\n",
            "/tmp/ipython-input-470-1324038430.py:7: PerformanceWarning: DataFrame is highly fragmented.  This is usually the result of calling `frame.insert` many times, which has poor performance.  Consider joining all columns at once using pd.concat(axis=1) instead. To get a de-fragmented frame, use `newframe = frame.copy()`\n",
            "  muestras['Muestra_' + str(i)]=_ # Con ello salvo cada una de las columnas del df\n",
            "/tmp/ipython-input-470-1324038430.py:7: PerformanceWarning: DataFrame is highly fragmented.  This is usually the result of calling `frame.insert` many times, which has poor performance.  Consider joining all columns at once using pd.concat(axis=1) instead. To get a de-fragmented frame, use `newframe = frame.copy()`\n",
            "  muestras['Muestra_' + str(i)]=_ # Con ello salvo cada una de las columnas del df\n",
            "/tmp/ipython-input-470-1324038430.py:7: PerformanceWarning: DataFrame is highly fragmented.  This is usually the result of calling `frame.insert` many times, which has poor performance.  Consider joining all columns at once using pd.concat(axis=1) instead. To get a de-fragmented frame, use `newframe = frame.copy()`\n",
            "  muestras['Muestra_' + str(i)]=_ # Con ello salvo cada una de las columnas del df\n",
            "/tmp/ipython-input-470-1324038430.py:7: PerformanceWarning: DataFrame is highly fragmented.  This is usually the result of calling `frame.insert` many times, which has poor performance.  Consider joining all columns at once using pd.concat(axis=1) instead. To get a de-fragmented frame, use `newframe = frame.copy()`\n",
            "  muestras['Muestra_' + str(i)]=_ # Con ello salvo cada una de las columnas del df\n",
            "/tmp/ipython-input-470-1324038430.py:7: PerformanceWarning: DataFrame is highly fragmented.  This is usually the result of calling `frame.insert` many times, which has poor performance.  Consider joining all columns at once using pd.concat(axis=1) instead. To get a de-fragmented frame, use `newframe = frame.copy()`\n",
            "  muestras['Muestra_' + str(i)]=_ # Con ello salvo cada una de las columnas del df\n",
            "/tmp/ipython-input-470-1324038430.py:7: PerformanceWarning: DataFrame is highly fragmented.  This is usually the result of calling `frame.insert` many times, which has poor performance.  Consider joining all columns at once using pd.concat(axis=1) instead. To get a de-fragmented frame, use `newframe = frame.copy()`\n",
            "  muestras['Muestra_' + str(i)]=_ # Con ello salvo cada una de las columnas del df\n",
            "/tmp/ipython-input-470-1324038430.py:7: PerformanceWarning: DataFrame is highly fragmented.  This is usually the result of calling `frame.insert` many times, which has poor performance.  Consider joining all columns at once using pd.concat(axis=1) instead. To get a de-fragmented frame, use `newframe = frame.copy()`\n",
            "  muestras['Muestra_' + str(i)]=_ # Con ello salvo cada una de las columnas del df\n",
            "/tmp/ipython-input-470-1324038430.py:7: PerformanceWarning: DataFrame is highly fragmented.  This is usually the result of calling `frame.insert` many times, which has poor performance.  Consider joining all columns at once using pd.concat(axis=1) instead. To get a de-fragmented frame, use `newframe = frame.copy()`\n",
            "  muestras['Muestra_' + str(i)]=_ # Con ello salvo cada una de las columnas del df\n",
            "/tmp/ipython-input-470-1324038430.py:7: PerformanceWarning: DataFrame is highly fragmented.  This is usually the result of calling `frame.insert` many times, which has poor performance.  Consider joining all columns at once using pd.concat(axis=1) instead. To get a de-fragmented frame, use `newframe = frame.copy()`\n",
            "  muestras['Muestra_' + str(i)]=_ # Con ello salvo cada una de las columnas del df\n",
            "/tmp/ipython-input-470-1324038430.py:7: PerformanceWarning: DataFrame is highly fragmented.  This is usually the result of calling `frame.insert` many times, which has poor performance.  Consider joining all columns at once using pd.concat(axis=1) instead. To get a de-fragmented frame, use `newframe = frame.copy()`\n",
            "  muestras['Muestra_' + str(i)]=_ # Con ello salvo cada una de las columnas del df\n",
            "/tmp/ipython-input-470-1324038430.py:7: PerformanceWarning: DataFrame is highly fragmented.  This is usually the result of calling `frame.insert` many times, which has poor performance.  Consider joining all columns at once using pd.concat(axis=1) instead. To get a de-fragmented frame, use `newframe = frame.copy()`\n",
            "  muestras['Muestra_' + str(i)]=_ # Con ello salvo cada una de las columnas del df\n",
            "/tmp/ipython-input-470-1324038430.py:7: PerformanceWarning: DataFrame is highly fragmented.  This is usually the result of calling `frame.insert` many times, which has poor performance.  Consider joining all columns at once using pd.concat(axis=1) instead. To get a de-fragmented frame, use `newframe = frame.copy()`\n",
            "  muestras['Muestra_' + str(i)]=_ # Con ello salvo cada una de las columnas del df\n",
            "/tmp/ipython-input-470-1324038430.py:7: PerformanceWarning: DataFrame is highly fragmented.  This is usually the result of calling `frame.insert` many times, which has poor performance.  Consider joining all columns at once using pd.concat(axis=1) instead. To get a de-fragmented frame, use `newframe = frame.copy()`\n",
            "  muestras['Muestra_' + str(i)]=_ # Con ello salvo cada una de las columnas del df\n",
            "/tmp/ipython-input-470-1324038430.py:7: PerformanceWarning: DataFrame is highly fragmented.  This is usually the result of calling `frame.insert` many times, which has poor performance.  Consider joining all columns at once using pd.concat(axis=1) instead. To get a de-fragmented frame, use `newframe = frame.copy()`\n",
            "  muestras['Muestra_' + str(i)]=_ # Con ello salvo cada una de las columnas del df\n",
            "/tmp/ipython-input-470-1324038430.py:7: PerformanceWarning: DataFrame is highly fragmented.  This is usually the result of calling `frame.insert` many times, which has poor performance.  Consider joining all columns at once using pd.concat(axis=1) instead. To get a de-fragmented frame, use `newframe = frame.copy()`\n",
            "  muestras['Muestra_' + str(i)]=_ # Con ello salvo cada una de las columnas del df\n",
            "/tmp/ipython-input-470-1324038430.py:7: PerformanceWarning: DataFrame is highly fragmented.  This is usually the result of calling `frame.insert` many times, which has poor performance.  Consider joining all columns at once using pd.concat(axis=1) instead. To get a de-fragmented frame, use `newframe = frame.copy()`\n",
            "  muestras['Muestra_' + str(i)]=_ # Con ello salvo cada una de las columnas del df\n",
            "/tmp/ipython-input-470-1324038430.py:7: PerformanceWarning: DataFrame is highly fragmented.  This is usually the result of calling `frame.insert` many times, which has poor performance.  Consider joining all columns at once using pd.concat(axis=1) instead. To get a de-fragmented frame, use `newframe = frame.copy()`\n",
            "  muestras['Muestra_' + str(i)]=_ # Con ello salvo cada una de las columnas del df\n",
            "/tmp/ipython-input-470-1324038430.py:7: PerformanceWarning: DataFrame is highly fragmented.  This is usually the result of calling `frame.insert` many times, which has poor performance.  Consider joining all columns at once using pd.concat(axis=1) instead. To get a de-fragmented frame, use `newframe = frame.copy()`\n",
            "  muestras['Muestra_' + str(i)]=_ # Con ello salvo cada una de las columnas del df\n",
            "/tmp/ipython-input-470-1324038430.py:7: PerformanceWarning: DataFrame is highly fragmented.  This is usually the result of calling `frame.insert` many times, which has poor performance.  Consider joining all columns at once using pd.concat(axis=1) instead. To get a de-fragmented frame, use `newframe = frame.copy()`\n",
            "  muestras['Muestra_' + str(i)]=_ # Con ello salvo cada una de las columnas del df\n",
            "/tmp/ipython-input-470-1324038430.py:7: PerformanceWarning: DataFrame is highly fragmented.  This is usually the result of calling `frame.insert` many times, which has poor performance.  Consider joining all columns at once using pd.concat(axis=1) instead. To get a de-fragmented frame, use `newframe = frame.copy()`\n",
            "  muestras['Muestra_' + str(i)]=_ # Con ello salvo cada una de las columnas del df\n",
            "/tmp/ipython-input-470-1324038430.py:7: PerformanceWarning: DataFrame is highly fragmented.  This is usually the result of calling `frame.insert` many times, which has poor performance.  Consider joining all columns at once using pd.concat(axis=1) instead. To get a de-fragmented frame, use `newframe = frame.copy()`\n",
            "  muestras['Muestra_' + str(i)]=_ # Con ello salvo cada una de las columnas del df\n",
            "/tmp/ipython-input-470-1324038430.py:7: PerformanceWarning: DataFrame is highly fragmented.  This is usually the result of calling `frame.insert` many times, which has poor performance.  Consider joining all columns at once using pd.concat(axis=1) instead. To get a de-fragmented frame, use `newframe = frame.copy()`\n",
            "  muestras['Muestra_' + str(i)]=_ # Con ello salvo cada una de las columnas del df\n",
            "/tmp/ipython-input-470-1324038430.py:7: PerformanceWarning: DataFrame is highly fragmented.  This is usually the result of calling `frame.insert` many times, which has poor performance.  Consider joining all columns at once using pd.concat(axis=1) instead. To get a de-fragmented frame, use `newframe = frame.copy()`\n",
            "  muestras['Muestra_' + str(i)]=_ # Con ello salvo cada una de las columnas del df\n",
            "/tmp/ipython-input-470-1324038430.py:7: PerformanceWarning: DataFrame is highly fragmented.  This is usually the result of calling `frame.insert` many times, which has poor performance.  Consider joining all columns at once using pd.concat(axis=1) instead. To get a de-fragmented frame, use `newframe = frame.copy()`\n",
            "  muestras['Muestra_' + str(i)]=_ # Con ello salvo cada una de las columnas del df\n",
            "/tmp/ipython-input-470-1324038430.py:7: PerformanceWarning: DataFrame is highly fragmented.  This is usually the result of calling `frame.insert` many times, which has poor performance.  Consider joining all columns at once using pd.concat(axis=1) instead. To get a de-fragmented frame, use `newframe = frame.copy()`\n",
            "  muestras['Muestra_' + str(i)]=_ # Con ello salvo cada una de las columnas del df\n",
            "/tmp/ipython-input-470-1324038430.py:7: PerformanceWarning: DataFrame is highly fragmented.  This is usually the result of calling `frame.insert` many times, which has poor performance.  Consider joining all columns at once using pd.concat(axis=1) instead. To get a de-fragmented frame, use `newframe = frame.copy()`\n",
            "  muestras['Muestra_' + str(i)]=_ # Con ello salvo cada una de las columnas del df\n",
            "/tmp/ipython-input-470-1324038430.py:7: PerformanceWarning: DataFrame is highly fragmented.  This is usually the result of calling `frame.insert` many times, which has poor performance.  Consider joining all columns at once using pd.concat(axis=1) instead. To get a de-fragmented frame, use `newframe = frame.copy()`\n",
            "  muestras['Muestra_' + str(i)]=_ # Con ello salvo cada una de las columnas del df\n",
            "/tmp/ipython-input-470-1324038430.py:7: PerformanceWarning: DataFrame is highly fragmented.  This is usually the result of calling `frame.insert` many times, which has poor performance.  Consider joining all columns at once using pd.concat(axis=1) instead. To get a de-fragmented frame, use `newframe = frame.copy()`\n",
            "  muestras['Muestra_' + str(i)]=_ # Con ello salvo cada una de las columnas del df\n",
            "/tmp/ipython-input-470-1324038430.py:7: PerformanceWarning: DataFrame is highly fragmented.  This is usually the result of calling `frame.insert` many times, which has poor performance.  Consider joining all columns at once using pd.concat(axis=1) instead. To get a de-fragmented frame, use `newframe = frame.copy()`\n",
            "  muestras['Muestra_' + str(i)]=_ # Con ello salvo cada una de las columnas del df\n",
            "/tmp/ipython-input-470-1324038430.py:7: PerformanceWarning: DataFrame is highly fragmented.  This is usually the result of calling `frame.insert` many times, which has poor performance.  Consider joining all columns at once using pd.concat(axis=1) instead. To get a de-fragmented frame, use `newframe = frame.copy()`\n",
            "  muestras['Muestra_' + str(i)]=_ # Con ello salvo cada una de las columnas del df\n",
            "/tmp/ipython-input-470-1324038430.py:7: PerformanceWarning: DataFrame is highly fragmented.  This is usually the result of calling `frame.insert` many times, which has poor performance.  Consider joining all columns at once using pd.concat(axis=1) instead. To get a de-fragmented frame, use `newframe = frame.copy()`\n",
            "  muestras['Muestra_' + str(i)]=_ # Con ello salvo cada una de las columnas del df\n",
            "/tmp/ipython-input-470-1324038430.py:7: PerformanceWarning: DataFrame is highly fragmented.  This is usually the result of calling `frame.insert` many times, which has poor performance.  Consider joining all columns at once using pd.concat(axis=1) instead. To get a de-fragmented frame, use `newframe = frame.copy()`\n",
            "  muestras['Muestra_' + str(i)]=_ # Con ello salvo cada una de las columnas del df\n",
            "/tmp/ipython-input-470-1324038430.py:7: PerformanceWarning: DataFrame is highly fragmented.  This is usually the result of calling `frame.insert` many times, which has poor performance.  Consider joining all columns at once using pd.concat(axis=1) instead. To get a de-fragmented frame, use `newframe = frame.copy()`\n",
            "  muestras['Muestra_' + str(i)]=_ # Con ello salvo cada una de las columnas del df\n",
            "/tmp/ipython-input-470-1324038430.py:7: PerformanceWarning: DataFrame is highly fragmented.  This is usually the result of calling `frame.insert` many times, which has poor performance.  Consider joining all columns at once using pd.concat(axis=1) instead. To get a de-fragmented frame, use `newframe = frame.copy()`\n",
            "  muestras['Muestra_' + str(i)]=_ # Con ello salvo cada una de las columnas del df\n",
            "/tmp/ipython-input-470-1324038430.py:7: PerformanceWarning: DataFrame is highly fragmented.  This is usually the result of calling `frame.insert` many times, which has poor performance.  Consider joining all columns at once using pd.concat(axis=1) instead. To get a de-fragmented frame, use `newframe = frame.copy()`\n",
            "  muestras['Muestra_' + str(i)]=_ # Con ello salvo cada una de las columnas del df\n",
            "/tmp/ipython-input-470-1324038430.py:7: PerformanceWarning: DataFrame is highly fragmented.  This is usually the result of calling `frame.insert` many times, which has poor performance.  Consider joining all columns at once using pd.concat(axis=1) instead. To get a de-fragmented frame, use `newframe = frame.copy()`\n",
            "  muestras['Muestra_' + str(i)]=_ # Con ello salvo cada una de las columnas del df\n",
            "/tmp/ipython-input-470-1324038430.py:7: PerformanceWarning: DataFrame is highly fragmented.  This is usually the result of calling `frame.insert` many times, which has poor performance.  Consider joining all columns at once using pd.concat(axis=1) instead. To get a de-fragmented frame, use `newframe = frame.copy()`\n",
            "  muestras['Muestra_' + str(i)]=_ # Con ello salvo cada una de las columnas del df\n",
            "/tmp/ipython-input-470-1324038430.py:7: PerformanceWarning: DataFrame is highly fragmented.  This is usually the result of calling `frame.insert` many times, which has poor performance.  Consider joining all columns at once using pd.concat(axis=1) instead. To get a de-fragmented frame, use `newframe = frame.copy()`\n",
            "  muestras['Muestra_' + str(i)]=_ # Con ello salvo cada una de las columnas del df\n",
            "/tmp/ipython-input-470-1324038430.py:7: PerformanceWarning: DataFrame is highly fragmented.  This is usually the result of calling `frame.insert` many times, which has poor performance.  Consider joining all columns at once using pd.concat(axis=1) instead. To get a de-fragmented frame, use `newframe = frame.copy()`\n",
            "  muestras['Muestra_' + str(i)]=_ # Con ello salvo cada una de las columnas del df\n",
            "/tmp/ipython-input-470-1324038430.py:7: PerformanceWarning: DataFrame is highly fragmented.  This is usually the result of calling `frame.insert` many times, which has poor performance.  Consider joining all columns at once using pd.concat(axis=1) instead. To get a de-fragmented frame, use `newframe = frame.copy()`\n",
            "  muestras['Muestra_' + str(i)]=_ # Con ello salvo cada una de las columnas del df\n",
            "/tmp/ipython-input-470-1324038430.py:7: PerformanceWarning: DataFrame is highly fragmented.  This is usually the result of calling `frame.insert` many times, which has poor performance.  Consider joining all columns at once using pd.concat(axis=1) instead. To get a de-fragmented frame, use `newframe = frame.copy()`\n",
            "  muestras['Muestra_' + str(i)]=_ # Con ello salvo cada una de las columnas del df\n",
            "/tmp/ipython-input-470-1324038430.py:7: PerformanceWarning: DataFrame is highly fragmented.  This is usually the result of calling `frame.insert` many times, which has poor performance.  Consider joining all columns at once using pd.concat(axis=1) instead. To get a de-fragmented frame, use `newframe = frame.copy()`\n",
            "  muestras['Muestra_' + str(i)]=_ # Con ello salvo cada una de las columnas del df\n",
            "/tmp/ipython-input-470-1324038430.py:7: PerformanceWarning: DataFrame is highly fragmented.  This is usually the result of calling `frame.insert` many times, which has poor performance.  Consider joining all columns at once using pd.concat(axis=1) instead. To get a de-fragmented frame, use `newframe = frame.copy()`\n",
            "  muestras['Muestra_' + str(i)]=_ # Con ello salvo cada una de las columnas del df\n",
            "/tmp/ipython-input-470-1324038430.py:7: PerformanceWarning: DataFrame is highly fragmented.  This is usually the result of calling `frame.insert` many times, which has poor performance.  Consider joining all columns at once using pd.concat(axis=1) instead. To get a de-fragmented frame, use `newframe = frame.copy()`\n",
            "  muestras['Muestra_' + str(i)]=_ # Con ello salvo cada una de las columnas del df\n",
            "/tmp/ipython-input-470-1324038430.py:7: PerformanceWarning: DataFrame is highly fragmented.  This is usually the result of calling `frame.insert` many times, which has poor performance.  Consider joining all columns at once using pd.concat(axis=1) instead. To get a de-fragmented frame, use `newframe = frame.copy()`\n",
            "  muestras['Muestra_' + str(i)]=_ # Con ello salvo cada una de las columnas del df\n",
            "/tmp/ipython-input-470-1324038430.py:7: PerformanceWarning: DataFrame is highly fragmented.  This is usually the result of calling `frame.insert` many times, which has poor performance.  Consider joining all columns at once using pd.concat(axis=1) instead. To get a de-fragmented frame, use `newframe = frame.copy()`\n",
            "  muestras['Muestra_' + str(i)]=_ # Con ello salvo cada una de las columnas del df\n",
            "/tmp/ipython-input-470-1324038430.py:7: PerformanceWarning: DataFrame is highly fragmented.  This is usually the result of calling `frame.insert` many times, which has poor performance.  Consider joining all columns at once using pd.concat(axis=1) instead. To get a de-fragmented frame, use `newframe = frame.copy()`\n",
            "  muestras['Muestra_' + str(i)]=_ # Con ello salvo cada una de las columnas del df\n",
            "/tmp/ipython-input-470-1324038430.py:7: PerformanceWarning: DataFrame is highly fragmented.  This is usually the result of calling `frame.insert` many times, which has poor performance.  Consider joining all columns at once using pd.concat(axis=1) instead. To get a de-fragmented frame, use `newframe = frame.copy()`\n",
            "  muestras['Muestra_' + str(i)]=_ # Con ello salvo cada una de las columnas del df\n",
            "/tmp/ipython-input-470-1324038430.py:7: PerformanceWarning: DataFrame is highly fragmented.  This is usually the result of calling `frame.insert` many times, which has poor performance.  Consider joining all columns at once using pd.concat(axis=1) instead. To get a de-fragmented frame, use `newframe = frame.copy()`\n",
            "  muestras['Muestra_' + str(i)]=_ # Con ello salvo cada una de las columnas del df\n",
            "/tmp/ipython-input-470-1324038430.py:7: PerformanceWarning: DataFrame is highly fragmented.  This is usually the result of calling `frame.insert` many times, which has poor performance.  Consider joining all columns at once using pd.concat(axis=1) instead. To get a de-fragmented frame, use `newframe = frame.copy()`\n",
            "  muestras['Muestra_' + str(i)]=_ # Con ello salvo cada una de las columnas del df\n",
            "/tmp/ipython-input-470-1324038430.py:7: PerformanceWarning: DataFrame is highly fragmented.  This is usually the result of calling `frame.insert` many times, which has poor performance.  Consider joining all columns at once using pd.concat(axis=1) instead. To get a de-fragmented frame, use `newframe = frame.copy()`\n",
            "  muestras['Muestra_' + str(i)]=_ # Con ello salvo cada una de las columnas del df\n",
            "/tmp/ipython-input-470-1324038430.py:7: PerformanceWarning: DataFrame is highly fragmented.  This is usually the result of calling `frame.insert` many times, which has poor performance.  Consider joining all columns at once using pd.concat(axis=1) instead. To get a de-fragmented frame, use `newframe = frame.copy()`\n",
            "  muestras['Muestra_' + str(i)]=_ # Con ello salvo cada una de las columnas del df\n",
            "/tmp/ipython-input-470-1324038430.py:7: PerformanceWarning: DataFrame is highly fragmented.  This is usually the result of calling `frame.insert` many times, which has poor performance.  Consider joining all columns at once using pd.concat(axis=1) instead. To get a de-fragmented frame, use `newframe = frame.copy()`\n",
            "  muestras['Muestra_' + str(i)]=_ # Con ello salvo cada una de las columnas del df\n",
            "/tmp/ipython-input-470-1324038430.py:7: PerformanceWarning: DataFrame is highly fragmented.  This is usually the result of calling `frame.insert` many times, which has poor performance.  Consider joining all columns at once using pd.concat(axis=1) instead. To get a de-fragmented frame, use `newframe = frame.copy()`\n",
            "  muestras['Muestra_' + str(i)]=_ # Con ello salvo cada una de las columnas del df\n",
            "/tmp/ipython-input-470-1324038430.py:7: PerformanceWarning: DataFrame is highly fragmented.  This is usually the result of calling `frame.insert` many times, which has poor performance.  Consider joining all columns at once using pd.concat(axis=1) instead. To get a de-fragmented frame, use `newframe = frame.copy()`\n",
            "  muestras['Muestra_' + str(i)]=_ # Con ello salvo cada una de las columnas del df\n",
            "/tmp/ipython-input-470-1324038430.py:7: PerformanceWarning: DataFrame is highly fragmented.  This is usually the result of calling `frame.insert` many times, which has poor performance.  Consider joining all columns at once using pd.concat(axis=1) instead. To get a de-fragmented frame, use `newframe = frame.copy()`\n",
            "  muestras['Muestra_' + str(i)]=_ # Con ello salvo cada una de las columnas del df\n",
            "/tmp/ipython-input-470-1324038430.py:7: PerformanceWarning: DataFrame is highly fragmented.  This is usually the result of calling `frame.insert` many times, which has poor performance.  Consider joining all columns at once using pd.concat(axis=1) instead. To get a de-fragmented frame, use `newframe = frame.copy()`\n",
            "  muestras['Muestra_' + str(i)]=_ # Con ello salvo cada una de las columnas del df\n",
            "/tmp/ipython-input-470-1324038430.py:7: PerformanceWarning: DataFrame is highly fragmented.  This is usually the result of calling `frame.insert` many times, which has poor performance.  Consider joining all columns at once using pd.concat(axis=1) instead. To get a de-fragmented frame, use `newframe = frame.copy()`\n",
            "  muestras['Muestra_' + str(i)]=_ # Con ello salvo cada una de las columnas del df\n",
            "/tmp/ipython-input-470-1324038430.py:7: PerformanceWarning: DataFrame is highly fragmented.  This is usually the result of calling `frame.insert` many times, which has poor performance.  Consider joining all columns at once using pd.concat(axis=1) instead. To get a de-fragmented frame, use `newframe = frame.copy()`\n",
            "  muestras['Muestra_' + str(i)]=_ # Con ello salvo cada una de las columnas del df\n",
            "/tmp/ipython-input-470-1324038430.py:7: PerformanceWarning: DataFrame is highly fragmented.  This is usually the result of calling `frame.insert` many times, which has poor performance.  Consider joining all columns at once using pd.concat(axis=1) instead. To get a de-fragmented frame, use `newframe = frame.copy()`\n",
            "  muestras['Muestra_' + str(i)]=_ # Con ello salvo cada una de las columnas del df\n",
            "/tmp/ipython-input-470-1324038430.py:7: PerformanceWarning: DataFrame is highly fragmented.  This is usually the result of calling `frame.insert` many times, which has poor performance.  Consider joining all columns at once using pd.concat(axis=1) instead. To get a de-fragmented frame, use `newframe = frame.copy()`\n",
            "  muestras['Muestra_' + str(i)]=_ # Con ello salvo cada una de las columnas del df\n",
            "/tmp/ipython-input-470-1324038430.py:7: PerformanceWarning: DataFrame is highly fragmented.  This is usually the result of calling `frame.insert` many times, which has poor performance.  Consider joining all columns at once using pd.concat(axis=1) instead. To get a de-fragmented frame, use `newframe = frame.copy()`\n",
            "  muestras['Muestra_' + str(i)]=_ # Con ello salvo cada una de las columnas del df\n",
            "/tmp/ipython-input-470-1324038430.py:7: PerformanceWarning: DataFrame is highly fragmented.  This is usually the result of calling `frame.insert` many times, which has poor performance.  Consider joining all columns at once using pd.concat(axis=1) instead. To get a de-fragmented frame, use `newframe = frame.copy()`\n",
            "  muestras['Muestra_' + str(i)]=_ # Con ello salvo cada una de las columnas del df\n",
            "/tmp/ipython-input-470-1324038430.py:7: PerformanceWarning: DataFrame is highly fragmented.  This is usually the result of calling `frame.insert` many times, which has poor performance.  Consider joining all columns at once using pd.concat(axis=1) instead. To get a de-fragmented frame, use `newframe = frame.copy()`\n",
            "  muestras['Muestra_' + str(i)]=_ # Con ello salvo cada una de las columnas del df\n",
            "/tmp/ipython-input-470-1324038430.py:7: PerformanceWarning: DataFrame is highly fragmented.  This is usually the result of calling `frame.insert` many times, which has poor performance.  Consider joining all columns at once using pd.concat(axis=1) instead. To get a de-fragmented frame, use `newframe = frame.copy()`\n",
            "  muestras['Muestra_' + str(i)]=_ # Con ello salvo cada una de las columnas del df\n",
            "/tmp/ipython-input-470-1324038430.py:7: PerformanceWarning: DataFrame is highly fragmented.  This is usually the result of calling `frame.insert` many times, which has poor performance.  Consider joining all columns at once using pd.concat(axis=1) instead. To get a de-fragmented frame, use `newframe = frame.copy()`\n",
            "  muestras['Muestra_' + str(i)]=_ # Con ello salvo cada una de las columnas del df\n",
            "/tmp/ipython-input-470-1324038430.py:7: PerformanceWarning: DataFrame is highly fragmented.  This is usually the result of calling `frame.insert` many times, which has poor performance.  Consider joining all columns at once using pd.concat(axis=1) instead. To get a de-fragmented frame, use `newframe = frame.copy()`\n",
            "  muestras['Muestra_' + str(i)]=_ # Con ello salvo cada una de las columnas del df\n",
            "/tmp/ipython-input-470-1324038430.py:7: PerformanceWarning: DataFrame is highly fragmented.  This is usually the result of calling `frame.insert` many times, which has poor performance.  Consider joining all columns at once using pd.concat(axis=1) instead. To get a de-fragmented frame, use `newframe = frame.copy()`\n",
            "  muestras['Muestra_' + str(i)]=_ # Con ello salvo cada una de las columnas del df\n",
            "/tmp/ipython-input-470-1324038430.py:7: PerformanceWarning: DataFrame is highly fragmented.  This is usually the result of calling `frame.insert` many times, which has poor performance.  Consider joining all columns at once using pd.concat(axis=1) instead. To get a de-fragmented frame, use `newframe = frame.copy()`\n",
            "  muestras['Muestra_' + str(i)]=_ # Con ello salvo cada una de las columnas del df\n",
            "/tmp/ipython-input-470-1324038430.py:7: PerformanceWarning: DataFrame is highly fragmented.  This is usually the result of calling `frame.insert` many times, which has poor performance.  Consider joining all columns at once using pd.concat(axis=1) instead. To get a de-fragmented frame, use `newframe = frame.copy()`\n",
            "  muestras['Muestra_' + str(i)]=_ # Con ello salvo cada una de las columnas del df\n",
            "/tmp/ipython-input-470-1324038430.py:7: PerformanceWarning: DataFrame is highly fragmented.  This is usually the result of calling `frame.insert` many times, which has poor performance.  Consider joining all columns at once using pd.concat(axis=1) instead. To get a de-fragmented frame, use `newframe = frame.copy()`\n",
            "  muestras['Muestra_' + str(i)]=_ # Con ello salvo cada una de las columnas del df\n",
            "/tmp/ipython-input-470-1324038430.py:7: PerformanceWarning: DataFrame is highly fragmented.  This is usually the result of calling `frame.insert` many times, which has poor performance.  Consider joining all columns at once using pd.concat(axis=1) instead. To get a de-fragmented frame, use `newframe = frame.copy()`\n",
            "  muestras['Muestra_' + str(i)]=_ # Con ello salvo cada una de las columnas del df\n",
            "/tmp/ipython-input-470-1324038430.py:7: PerformanceWarning: DataFrame is highly fragmented.  This is usually the result of calling `frame.insert` many times, which has poor performance.  Consider joining all columns at once using pd.concat(axis=1) instead. To get a de-fragmented frame, use `newframe = frame.copy()`\n",
            "  muestras['Muestra_' + str(i)]=_ # Con ello salvo cada una de las columnas del df\n",
            "/tmp/ipython-input-470-1324038430.py:7: PerformanceWarning: DataFrame is highly fragmented.  This is usually the result of calling `frame.insert` many times, which has poor performance.  Consider joining all columns at once using pd.concat(axis=1) instead. To get a de-fragmented frame, use `newframe = frame.copy()`\n",
            "  muestras['Muestra_' + str(i)]=_ # Con ello salvo cada una de las columnas del df\n",
            "/tmp/ipython-input-470-1324038430.py:7: PerformanceWarning: DataFrame is highly fragmented.  This is usually the result of calling `frame.insert` many times, which has poor performance.  Consider joining all columns at once using pd.concat(axis=1) instead. To get a de-fragmented frame, use `newframe = frame.copy()`\n",
            "  muestras['Muestra_' + str(i)]=_ # Con ello salvo cada una de las columnas del df\n",
            "/tmp/ipython-input-470-1324038430.py:7: PerformanceWarning: DataFrame is highly fragmented.  This is usually the result of calling `frame.insert` many times, which has poor performance.  Consider joining all columns at once using pd.concat(axis=1) instead. To get a de-fragmented frame, use `newframe = frame.copy()`\n",
            "  muestras['Muestra_' + str(i)]=_ # Con ello salvo cada una de las columnas del df\n",
            "/tmp/ipython-input-470-1324038430.py:7: PerformanceWarning: DataFrame is highly fragmented.  This is usually the result of calling `frame.insert` many times, which has poor performance.  Consider joining all columns at once using pd.concat(axis=1) instead. To get a de-fragmented frame, use `newframe = frame.copy()`\n",
            "  muestras['Muestra_' + str(i)]=_ # Con ello salvo cada una de las columnas del df\n",
            "/tmp/ipython-input-470-1324038430.py:7: PerformanceWarning: DataFrame is highly fragmented.  This is usually the result of calling `frame.insert` many times, which has poor performance.  Consider joining all columns at once using pd.concat(axis=1) instead. To get a de-fragmented frame, use `newframe = frame.copy()`\n",
            "  muestras['Muestra_' + str(i)]=_ # Con ello salvo cada una de las columnas del df\n",
            "/tmp/ipython-input-470-1324038430.py:7: PerformanceWarning: DataFrame is highly fragmented.  This is usually the result of calling `frame.insert` many times, which has poor performance.  Consider joining all columns at once using pd.concat(axis=1) instead. To get a de-fragmented frame, use `newframe = frame.copy()`\n",
            "  muestras['Muestra_' + str(i)]=_ # Con ello salvo cada una de las columnas del df\n",
            "/tmp/ipython-input-470-1324038430.py:7: PerformanceWarning: DataFrame is highly fragmented.  This is usually the result of calling `frame.insert` many times, which has poor performance.  Consider joining all columns at once using pd.concat(axis=1) instead. To get a de-fragmented frame, use `newframe = frame.copy()`\n",
            "  muestras['Muestra_' + str(i)]=_ # Con ello salvo cada una de las columnas del df\n",
            "/tmp/ipython-input-470-1324038430.py:7: PerformanceWarning: DataFrame is highly fragmented.  This is usually the result of calling `frame.insert` many times, which has poor performance.  Consider joining all columns at once using pd.concat(axis=1) instead. To get a de-fragmented frame, use `newframe = frame.copy()`\n",
            "  muestras['Muestra_' + str(i)]=_ # Con ello salvo cada una de las columnas del df\n",
            "/tmp/ipython-input-470-1324038430.py:7: PerformanceWarning: DataFrame is highly fragmented.  This is usually the result of calling `frame.insert` many times, which has poor performance.  Consider joining all columns at once using pd.concat(axis=1) instead. To get a de-fragmented frame, use `newframe = frame.copy()`\n",
            "  muestras['Muestra_' + str(i)]=_ # Con ello salvo cada una de las columnas del df\n",
            "/tmp/ipython-input-470-1324038430.py:7: PerformanceWarning: DataFrame is highly fragmented.  This is usually the result of calling `frame.insert` many times, which has poor performance.  Consider joining all columns at once using pd.concat(axis=1) instead. To get a de-fragmented frame, use `newframe = frame.copy()`\n",
            "  muestras['Muestra_' + str(i)]=_ # Con ello salvo cada una de las columnas del df\n",
            "/tmp/ipython-input-470-1324038430.py:7: PerformanceWarning: DataFrame is highly fragmented.  This is usually the result of calling `frame.insert` many times, which has poor performance.  Consider joining all columns at once using pd.concat(axis=1) instead. To get a de-fragmented frame, use `newframe = frame.copy()`\n",
            "  muestras['Muestra_' + str(i)]=_ # Con ello salvo cada una de las columnas del df\n",
            "/tmp/ipython-input-470-1324038430.py:7: PerformanceWarning: DataFrame is highly fragmented.  This is usually the result of calling `frame.insert` many times, which has poor performance.  Consider joining all columns at once using pd.concat(axis=1) instead. To get a de-fragmented frame, use `newframe = frame.copy()`\n",
            "  muestras['Muestra_' + str(i)]=_ # Con ello salvo cada una de las columnas del df\n",
            "/tmp/ipython-input-470-1324038430.py:7: PerformanceWarning: DataFrame is highly fragmented.  This is usually the result of calling `frame.insert` many times, which has poor performance.  Consider joining all columns at once using pd.concat(axis=1) instead. To get a de-fragmented frame, use `newframe = frame.copy()`\n",
            "  muestras['Muestra_' + str(i)]=_ # Con ello salvo cada una de las columnas del df\n",
            "/tmp/ipython-input-470-1324038430.py:7: PerformanceWarning: DataFrame is highly fragmented.  This is usually the result of calling `frame.insert` many times, which has poor performance.  Consider joining all columns at once using pd.concat(axis=1) instead. To get a de-fragmented frame, use `newframe = frame.copy()`\n",
            "  muestras['Muestra_' + str(i)]=_ # Con ello salvo cada una de las columnas del df\n",
            "/tmp/ipython-input-470-1324038430.py:7: PerformanceWarning: DataFrame is highly fragmented.  This is usually the result of calling `frame.insert` many times, which has poor performance.  Consider joining all columns at once using pd.concat(axis=1) instead. To get a de-fragmented frame, use `newframe = frame.copy()`\n",
            "  muestras['Muestra_' + str(i)]=_ # Con ello salvo cada una de las columnas del df\n",
            "/tmp/ipython-input-470-1324038430.py:7: PerformanceWarning: DataFrame is highly fragmented.  This is usually the result of calling `frame.insert` many times, which has poor performance.  Consider joining all columns at once using pd.concat(axis=1) instead. To get a de-fragmented frame, use `newframe = frame.copy()`\n",
            "  muestras['Muestra_' + str(i)]=_ # Con ello salvo cada una de las columnas del df\n",
            "/tmp/ipython-input-470-1324038430.py:7: PerformanceWarning: DataFrame is highly fragmented.  This is usually the result of calling `frame.insert` many times, which has poor performance.  Consider joining all columns at once using pd.concat(axis=1) instead. To get a de-fragmented frame, use `newframe = frame.copy()`\n",
            "  muestras['Muestra_' + str(i)]=_ # Con ello salvo cada una de las columnas del df\n",
            "/tmp/ipython-input-470-1324038430.py:7: PerformanceWarning: DataFrame is highly fragmented.  This is usually the result of calling `frame.insert` many times, which has poor performance.  Consider joining all columns at once using pd.concat(axis=1) instead. To get a de-fragmented frame, use `newframe = frame.copy()`\n",
            "  muestras['Muestra_' + str(i)]=_ # Con ello salvo cada una de las columnas del df\n",
            "/tmp/ipython-input-470-1324038430.py:7: PerformanceWarning: DataFrame is highly fragmented.  This is usually the result of calling `frame.insert` many times, which has poor performance.  Consider joining all columns at once using pd.concat(axis=1) instead. To get a de-fragmented frame, use `newframe = frame.copy()`\n",
            "  muestras['Muestra_' + str(i)]=_ # Con ello salvo cada una de las columnas del df\n",
            "/tmp/ipython-input-470-1324038430.py:7: PerformanceWarning: DataFrame is highly fragmented.  This is usually the result of calling `frame.insert` many times, which has poor performance.  Consider joining all columns at once using pd.concat(axis=1) instead. To get a de-fragmented frame, use `newframe = frame.copy()`\n",
            "  muestras['Muestra_' + str(i)]=_ # Con ello salvo cada una de las columnas del df\n",
            "/tmp/ipython-input-470-1324038430.py:7: PerformanceWarning: DataFrame is highly fragmented.  This is usually the result of calling `frame.insert` many times, which has poor performance.  Consider joining all columns at once using pd.concat(axis=1) instead. To get a de-fragmented frame, use `newframe = frame.copy()`\n",
            "  muestras['Muestra_' + str(i)]=_ # Con ello salvo cada una de las columnas del df\n",
            "/tmp/ipython-input-470-1324038430.py:7: PerformanceWarning: DataFrame is highly fragmented.  This is usually the result of calling `frame.insert` many times, which has poor performance.  Consider joining all columns at once using pd.concat(axis=1) instead. To get a de-fragmented frame, use `newframe = frame.copy()`\n",
            "  muestras['Muestra_' + str(i)]=_ # Con ello salvo cada una de las columnas del df\n",
            "/tmp/ipython-input-470-1324038430.py:7: PerformanceWarning: DataFrame is highly fragmented.  This is usually the result of calling `frame.insert` many times, which has poor performance.  Consider joining all columns at once using pd.concat(axis=1) instead. To get a de-fragmented frame, use `newframe = frame.copy()`\n",
            "  muestras['Muestra_' + str(i)]=_ # Con ello salvo cada una de las columnas del df\n",
            "/tmp/ipython-input-470-1324038430.py:7: PerformanceWarning: DataFrame is highly fragmented.  This is usually the result of calling `frame.insert` many times, which has poor performance.  Consider joining all columns at once using pd.concat(axis=1) instead. To get a de-fragmented frame, use `newframe = frame.copy()`\n",
            "  muestras['Muestra_' + str(i)]=_ # Con ello salvo cada una de las columnas del df\n",
            "/tmp/ipython-input-470-1324038430.py:7: PerformanceWarning: DataFrame is highly fragmented.  This is usually the result of calling `frame.insert` many times, which has poor performance.  Consider joining all columns at once using pd.concat(axis=1) instead. To get a de-fragmented frame, use `newframe = frame.copy()`\n",
            "  muestras['Muestra_' + str(i)]=_ # Con ello salvo cada una de las columnas del df\n",
            "/tmp/ipython-input-470-1324038430.py:7: PerformanceWarning: DataFrame is highly fragmented.  This is usually the result of calling `frame.insert` many times, which has poor performance.  Consider joining all columns at once using pd.concat(axis=1) instead. To get a de-fragmented frame, use `newframe = frame.copy()`\n",
            "  muestras['Muestra_' + str(i)]=_ # Con ello salvo cada una de las columnas del df\n",
            "/tmp/ipython-input-470-1324038430.py:7: PerformanceWarning: DataFrame is highly fragmented.  This is usually the result of calling `frame.insert` many times, which has poor performance.  Consider joining all columns at once using pd.concat(axis=1) instead. To get a de-fragmented frame, use `newframe = frame.copy()`\n",
            "  muestras['Muestra_' + str(i)]=_ # Con ello salvo cada una de las columnas del df\n",
            "/tmp/ipython-input-470-1324038430.py:7: PerformanceWarning: DataFrame is highly fragmented.  This is usually the result of calling `frame.insert` many times, which has poor performance.  Consider joining all columns at once using pd.concat(axis=1) instead. To get a de-fragmented frame, use `newframe = frame.copy()`\n",
            "  muestras['Muestra_' + str(i)]=_ # Con ello salvo cada una de las columnas del df\n",
            "/tmp/ipython-input-470-1324038430.py:7: PerformanceWarning: DataFrame is highly fragmented.  This is usually the result of calling `frame.insert` many times, which has poor performance.  Consider joining all columns at once using pd.concat(axis=1) instead. To get a de-fragmented frame, use `newframe = frame.copy()`\n",
            "  muestras['Muestra_' + str(i)]=_ # Con ello salvo cada una de las columnas del df\n",
            "/tmp/ipython-input-470-1324038430.py:7: PerformanceWarning: DataFrame is highly fragmented.  This is usually the result of calling `frame.insert` many times, which has poor performance.  Consider joining all columns at once using pd.concat(axis=1) instead. To get a de-fragmented frame, use `newframe = frame.copy()`\n",
            "  muestras['Muestra_' + str(i)]=_ # Con ello salvo cada una de las columnas del df\n",
            "/tmp/ipython-input-470-1324038430.py:7: PerformanceWarning: DataFrame is highly fragmented.  This is usually the result of calling `frame.insert` many times, which has poor performance.  Consider joining all columns at once using pd.concat(axis=1) instead. To get a de-fragmented frame, use `newframe = frame.copy()`\n",
            "  muestras['Muestra_' + str(i)]=_ # Con ello salvo cada una de las columnas del df\n",
            "/tmp/ipython-input-470-1324038430.py:7: PerformanceWarning: DataFrame is highly fragmented.  This is usually the result of calling `frame.insert` many times, which has poor performance.  Consider joining all columns at once using pd.concat(axis=1) instead. To get a de-fragmented frame, use `newframe = frame.copy()`\n",
            "  muestras['Muestra_' + str(i)]=_ # Con ello salvo cada una de las columnas del df\n",
            "/tmp/ipython-input-470-1324038430.py:7: PerformanceWarning: DataFrame is highly fragmented.  This is usually the result of calling `frame.insert` many times, which has poor performance.  Consider joining all columns at once using pd.concat(axis=1) instead. To get a de-fragmented frame, use `newframe = frame.copy()`\n",
            "  muestras['Muestra_' + str(i)]=_ # Con ello salvo cada una de las columnas del df\n",
            "/tmp/ipython-input-470-1324038430.py:7: PerformanceWarning: DataFrame is highly fragmented.  This is usually the result of calling `frame.insert` many times, which has poor performance.  Consider joining all columns at once using pd.concat(axis=1) instead. To get a de-fragmented frame, use `newframe = frame.copy()`\n",
            "  muestras['Muestra_' + str(i)]=_ # Con ello salvo cada una de las columnas del df\n",
            "/tmp/ipython-input-470-1324038430.py:7: PerformanceWarning: DataFrame is highly fragmented.  This is usually the result of calling `frame.insert` many times, which has poor performance.  Consider joining all columns at once using pd.concat(axis=1) instead. To get a de-fragmented frame, use `newframe = frame.copy()`\n",
            "  muestras['Muestra_' + str(i)]=_ # Con ello salvo cada una de las columnas del df\n",
            "/tmp/ipython-input-470-1324038430.py:7: PerformanceWarning: DataFrame is highly fragmented.  This is usually the result of calling `frame.insert` many times, which has poor performance.  Consider joining all columns at once using pd.concat(axis=1) instead. To get a de-fragmented frame, use `newframe = frame.copy()`\n",
            "  muestras['Muestra_' + str(i)]=_ # Con ello salvo cada una de las columnas del df\n",
            "/tmp/ipython-input-470-1324038430.py:7: PerformanceWarning: DataFrame is highly fragmented.  This is usually the result of calling `frame.insert` many times, which has poor performance.  Consider joining all columns at once using pd.concat(axis=1) instead. To get a de-fragmented frame, use `newframe = frame.copy()`\n",
            "  muestras['Muestra_' + str(i)]=_ # Con ello salvo cada una de las columnas del df\n",
            "/tmp/ipython-input-470-1324038430.py:7: PerformanceWarning: DataFrame is highly fragmented.  This is usually the result of calling `frame.insert` many times, which has poor performance.  Consider joining all columns at once using pd.concat(axis=1) instead. To get a de-fragmented frame, use `newframe = frame.copy()`\n",
            "  muestras['Muestra_' + str(i)]=_ # Con ello salvo cada una de las columnas del df\n",
            "/tmp/ipython-input-470-1324038430.py:7: PerformanceWarning: DataFrame is highly fragmented.  This is usually the result of calling `frame.insert` many times, which has poor performance.  Consider joining all columns at once using pd.concat(axis=1) instead. To get a de-fragmented frame, use `newframe = frame.copy()`\n",
            "  muestras['Muestra_' + str(i)]=_ # Con ello salvo cada una de las columnas del df\n",
            "/tmp/ipython-input-470-1324038430.py:7: PerformanceWarning: DataFrame is highly fragmented.  This is usually the result of calling `frame.insert` many times, which has poor performance.  Consider joining all columns at once using pd.concat(axis=1) instead. To get a de-fragmented frame, use `newframe = frame.copy()`\n",
            "  muestras['Muestra_' + str(i)]=_ # Con ello salvo cada una de las columnas del df\n",
            "/tmp/ipython-input-470-1324038430.py:7: PerformanceWarning: DataFrame is highly fragmented.  This is usually the result of calling `frame.insert` many times, which has poor performance.  Consider joining all columns at once using pd.concat(axis=1) instead. To get a de-fragmented frame, use `newframe = frame.copy()`\n",
            "  muestras['Muestra_' + str(i)]=_ # Con ello salvo cada una de las columnas del df\n",
            "/tmp/ipython-input-470-1324038430.py:7: PerformanceWarning: DataFrame is highly fragmented.  This is usually the result of calling `frame.insert` many times, which has poor performance.  Consider joining all columns at once using pd.concat(axis=1) instead. To get a de-fragmented frame, use `newframe = frame.copy()`\n",
            "  muestras['Muestra_' + str(i)]=_ # Con ello salvo cada una de las columnas del df\n",
            "/tmp/ipython-input-470-1324038430.py:7: PerformanceWarning: DataFrame is highly fragmented.  This is usually the result of calling `frame.insert` many times, which has poor performance.  Consider joining all columns at once using pd.concat(axis=1) instead. To get a de-fragmented frame, use `newframe = frame.copy()`\n",
            "  muestras['Muestra_' + str(i)]=_ # Con ello salvo cada una de las columnas del df\n",
            "/tmp/ipython-input-470-1324038430.py:7: PerformanceWarning: DataFrame is highly fragmented.  This is usually the result of calling `frame.insert` many times, which has poor performance.  Consider joining all columns at once using pd.concat(axis=1) instead. To get a de-fragmented frame, use `newframe = frame.copy()`\n",
            "  muestras['Muestra_' + str(i)]=_ # Con ello salvo cada una de las columnas del df\n",
            "/tmp/ipython-input-470-1324038430.py:7: PerformanceWarning: DataFrame is highly fragmented.  This is usually the result of calling `frame.insert` many times, which has poor performance.  Consider joining all columns at once using pd.concat(axis=1) instead. To get a de-fragmented frame, use `newframe = frame.copy()`\n",
            "  muestras['Muestra_' + str(i)]=_ # Con ello salvo cada una de las columnas del df\n",
            "/tmp/ipython-input-470-1324038430.py:7: PerformanceWarning: DataFrame is highly fragmented.  This is usually the result of calling `frame.insert` many times, which has poor performance.  Consider joining all columns at once using pd.concat(axis=1) instead. To get a de-fragmented frame, use `newframe = frame.copy()`\n",
            "  muestras['Muestra_' + str(i)]=_ # Con ello salvo cada una de las columnas del df\n",
            "/tmp/ipython-input-470-1324038430.py:7: PerformanceWarning: DataFrame is highly fragmented.  This is usually the result of calling `frame.insert` many times, which has poor performance.  Consider joining all columns at once using pd.concat(axis=1) instead. To get a de-fragmented frame, use `newframe = frame.copy()`\n",
            "  muestras['Muestra_' + str(i)]=_ # Con ello salvo cada una de las columnas del df\n",
            "/tmp/ipython-input-470-1324038430.py:7: PerformanceWarning: DataFrame is highly fragmented.  This is usually the result of calling `frame.insert` many times, which has poor performance.  Consider joining all columns at once using pd.concat(axis=1) instead. To get a de-fragmented frame, use `newframe = frame.copy()`\n",
            "  muestras['Muestra_' + str(i)]=_ # Con ello salvo cada una de las columnas del df\n",
            "/tmp/ipython-input-470-1324038430.py:7: PerformanceWarning: DataFrame is highly fragmented.  This is usually the result of calling `frame.insert` many times, which has poor performance.  Consider joining all columns at once using pd.concat(axis=1) instead. To get a de-fragmented frame, use `newframe = frame.copy()`\n",
            "  muestras['Muestra_' + str(i)]=_ # Con ello salvo cada una de las columnas del df\n",
            "/tmp/ipython-input-470-1324038430.py:7: PerformanceWarning: DataFrame is highly fragmented.  This is usually the result of calling `frame.insert` many times, which has poor performance.  Consider joining all columns at once using pd.concat(axis=1) instead. To get a de-fragmented frame, use `newframe = frame.copy()`\n",
            "  muestras['Muestra_' + str(i)]=_ # Con ello salvo cada una de las columnas del df\n",
            "/tmp/ipython-input-470-1324038430.py:7: PerformanceWarning: DataFrame is highly fragmented.  This is usually the result of calling `frame.insert` many times, which has poor performance.  Consider joining all columns at once using pd.concat(axis=1) instead. To get a de-fragmented frame, use `newframe = frame.copy()`\n",
            "  muestras['Muestra_' + str(i)]=_ # Con ello salvo cada una de las columnas del df\n",
            "/tmp/ipython-input-470-1324038430.py:7: PerformanceWarning: DataFrame is highly fragmented.  This is usually the result of calling `frame.insert` many times, which has poor performance.  Consider joining all columns at once using pd.concat(axis=1) instead. To get a de-fragmented frame, use `newframe = frame.copy()`\n",
            "  muestras['Muestra_' + str(i)]=_ # Con ello salvo cada una de las columnas del df\n",
            "/tmp/ipython-input-470-1324038430.py:7: PerformanceWarning: DataFrame is highly fragmented.  This is usually the result of calling `frame.insert` many times, which has poor performance.  Consider joining all columns at once using pd.concat(axis=1) instead. To get a de-fragmented frame, use `newframe = frame.copy()`\n",
            "  muestras['Muestra_' + str(i)]=_ # Con ello salvo cada una de las columnas del df\n",
            "/tmp/ipython-input-470-1324038430.py:7: PerformanceWarning: DataFrame is highly fragmented.  This is usually the result of calling `frame.insert` many times, which has poor performance.  Consider joining all columns at once using pd.concat(axis=1) instead. To get a de-fragmented frame, use `newframe = frame.copy()`\n",
            "  muestras['Muestra_' + str(i)]=_ # Con ello salvo cada una de las columnas del df\n",
            "/tmp/ipython-input-470-1324038430.py:7: PerformanceWarning: DataFrame is highly fragmented.  This is usually the result of calling `frame.insert` many times, which has poor performance.  Consider joining all columns at once using pd.concat(axis=1) instead. To get a de-fragmented frame, use `newframe = frame.copy()`\n",
            "  muestras['Muestra_' + str(i)]=_ # Con ello salvo cada una de las columnas del df\n",
            "/tmp/ipython-input-470-1324038430.py:7: PerformanceWarning: DataFrame is highly fragmented.  This is usually the result of calling `frame.insert` many times, which has poor performance.  Consider joining all columns at once using pd.concat(axis=1) instead. To get a de-fragmented frame, use `newframe = frame.copy()`\n",
            "  muestras['Muestra_' + str(i)]=_ # Con ello salvo cada una de las columnas del df\n",
            "/tmp/ipython-input-470-1324038430.py:7: PerformanceWarning: DataFrame is highly fragmented.  This is usually the result of calling `frame.insert` many times, which has poor performance.  Consider joining all columns at once using pd.concat(axis=1) instead. To get a de-fragmented frame, use `newframe = frame.copy()`\n",
            "  muestras['Muestra_' + str(i)]=_ # Con ello salvo cada una de las columnas del df\n",
            "/tmp/ipython-input-470-1324038430.py:7: PerformanceWarning: DataFrame is highly fragmented.  This is usually the result of calling `frame.insert` many times, which has poor performance.  Consider joining all columns at once using pd.concat(axis=1) instead. To get a de-fragmented frame, use `newframe = frame.copy()`\n",
            "  muestras['Muestra_' + str(i)]=_ # Con ello salvo cada una de las columnas del df\n",
            "/tmp/ipython-input-470-1324038430.py:7: PerformanceWarning: DataFrame is highly fragmented.  This is usually the result of calling `frame.insert` many times, which has poor performance.  Consider joining all columns at once using pd.concat(axis=1) instead. To get a de-fragmented frame, use `newframe = frame.copy()`\n",
            "  muestras['Muestra_' + str(i)]=_ # Con ello salvo cada una de las columnas del df\n",
            "/tmp/ipython-input-470-1324038430.py:7: PerformanceWarning: DataFrame is highly fragmented.  This is usually the result of calling `frame.insert` many times, which has poor performance.  Consider joining all columns at once using pd.concat(axis=1) instead. To get a de-fragmented frame, use `newframe = frame.copy()`\n",
            "  muestras['Muestra_' + str(i)]=_ # Con ello salvo cada una de las columnas del df\n",
            "/tmp/ipython-input-470-1324038430.py:7: PerformanceWarning: DataFrame is highly fragmented.  This is usually the result of calling `frame.insert` many times, which has poor performance.  Consider joining all columns at once using pd.concat(axis=1) instead. To get a de-fragmented frame, use `newframe = frame.copy()`\n",
            "  muestras['Muestra_' + str(i)]=_ # Con ello salvo cada una de las columnas del df\n",
            "/tmp/ipython-input-470-1324038430.py:7: PerformanceWarning: DataFrame is highly fragmented.  This is usually the result of calling `frame.insert` many times, which has poor performance.  Consider joining all columns at once using pd.concat(axis=1) instead. To get a de-fragmented frame, use `newframe = frame.copy()`\n",
            "  muestras['Muestra_' + str(i)]=_ # Con ello salvo cada una de las columnas del df\n",
            "/tmp/ipython-input-470-1324038430.py:7: PerformanceWarning: DataFrame is highly fragmented.  This is usually the result of calling `frame.insert` many times, which has poor performance.  Consider joining all columns at once using pd.concat(axis=1) instead. To get a de-fragmented frame, use `newframe = frame.copy()`\n",
            "  muestras['Muestra_' + str(i)]=_ # Con ello salvo cada una de las columnas del df\n",
            "/tmp/ipython-input-470-1324038430.py:7: PerformanceWarning: DataFrame is highly fragmented.  This is usually the result of calling `frame.insert` many times, which has poor performance.  Consider joining all columns at once using pd.concat(axis=1) instead. To get a de-fragmented frame, use `newframe = frame.copy()`\n",
            "  muestras['Muestra_' + str(i)]=_ # Con ello salvo cada una de las columnas del df\n",
            "/tmp/ipython-input-470-1324038430.py:7: PerformanceWarning: DataFrame is highly fragmented.  This is usually the result of calling `frame.insert` many times, which has poor performance.  Consider joining all columns at once using pd.concat(axis=1) instead. To get a de-fragmented frame, use `newframe = frame.copy()`\n",
            "  muestras['Muestra_' + str(i)]=_ # Con ello salvo cada una de las columnas del df\n",
            "/tmp/ipython-input-470-1324038430.py:7: PerformanceWarning: DataFrame is highly fragmented.  This is usually the result of calling `frame.insert` many times, which has poor performance.  Consider joining all columns at once using pd.concat(axis=1) instead. To get a de-fragmented frame, use `newframe = frame.copy()`\n",
            "  muestras['Muestra_' + str(i)]=_ # Con ello salvo cada una de las columnas del df\n",
            "/tmp/ipython-input-470-1324038430.py:7: PerformanceWarning: DataFrame is highly fragmented.  This is usually the result of calling `frame.insert` many times, which has poor performance.  Consider joining all columns at once using pd.concat(axis=1) instead. To get a de-fragmented frame, use `newframe = frame.copy()`\n",
            "  muestras['Muestra_' + str(i)]=_ # Con ello salvo cada una de las columnas del df\n",
            "/tmp/ipython-input-470-1324038430.py:7: PerformanceWarning: DataFrame is highly fragmented.  This is usually the result of calling `frame.insert` many times, which has poor performance.  Consider joining all columns at once using pd.concat(axis=1) instead. To get a de-fragmented frame, use `newframe = frame.copy()`\n",
            "  muestras['Muestra_' + str(i)]=_ # Con ello salvo cada una de las columnas del df\n",
            "/tmp/ipython-input-470-1324038430.py:7: PerformanceWarning: DataFrame is highly fragmented.  This is usually the result of calling `frame.insert` many times, which has poor performance.  Consider joining all columns at once using pd.concat(axis=1) instead. To get a de-fragmented frame, use `newframe = frame.copy()`\n",
            "  muestras['Muestra_' + str(i)]=_ # Con ello salvo cada una de las columnas del df\n",
            "/tmp/ipython-input-470-1324038430.py:7: PerformanceWarning: DataFrame is highly fragmented.  This is usually the result of calling `frame.insert` many times, which has poor performance.  Consider joining all columns at once using pd.concat(axis=1) instead. To get a de-fragmented frame, use `newframe = frame.copy()`\n",
            "  muestras['Muestra_' + str(i)]=_ # Con ello salvo cada una de las columnas del df\n",
            "/tmp/ipython-input-470-1324038430.py:7: PerformanceWarning: DataFrame is highly fragmented.  This is usually the result of calling `frame.insert` many times, which has poor performance.  Consider joining all columns at once using pd.concat(axis=1) instead. To get a de-fragmented frame, use `newframe = frame.copy()`\n",
            "  muestras['Muestra_' + str(i)]=_ # Con ello salvo cada una de las columnas del df\n",
            "/tmp/ipython-input-470-1324038430.py:7: PerformanceWarning: DataFrame is highly fragmented.  This is usually the result of calling `frame.insert` many times, which has poor performance.  Consider joining all columns at once using pd.concat(axis=1) instead. To get a de-fragmented frame, use `newframe = frame.copy()`\n",
            "  muestras['Muestra_' + str(i)]=_ # Con ello salvo cada una de las columnas del df\n",
            "/tmp/ipython-input-470-1324038430.py:7: PerformanceWarning: DataFrame is highly fragmented.  This is usually the result of calling `frame.insert` many times, which has poor performance.  Consider joining all columns at once using pd.concat(axis=1) instead. To get a de-fragmented frame, use `newframe = frame.copy()`\n",
            "  muestras['Muestra_' + str(i)]=_ # Con ello salvo cada una de las columnas del df\n",
            "/tmp/ipython-input-470-1324038430.py:7: PerformanceWarning: DataFrame is highly fragmented.  This is usually the result of calling `frame.insert` many times, which has poor performance.  Consider joining all columns at once using pd.concat(axis=1) instead. To get a de-fragmented frame, use `newframe = frame.copy()`\n",
            "  muestras['Muestra_' + str(i)]=_ # Con ello salvo cada una de las columnas del df\n",
            "/tmp/ipython-input-470-1324038430.py:7: PerformanceWarning: DataFrame is highly fragmented.  This is usually the result of calling `frame.insert` many times, which has poor performance.  Consider joining all columns at once using pd.concat(axis=1) instead. To get a de-fragmented frame, use `newframe = frame.copy()`\n",
            "  muestras['Muestra_' + str(i)]=_ # Con ello salvo cada una de las columnas del df\n",
            "/tmp/ipython-input-470-1324038430.py:7: PerformanceWarning: DataFrame is highly fragmented.  This is usually the result of calling `frame.insert` many times, which has poor performance.  Consider joining all columns at once using pd.concat(axis=1) instead. To get a de-fragmented frame, use `newframe = frame.copy()`\n",
            "  muestras['Muestra_' + str(i)]=_ # Con ello salvo cada una de las columnas del df\n",
            "/tmp/ipython-input-470-1324038430.py:7: PerformanceWarning: DataFrame is highly fragmented.  This is usually the result of calling `frame.insert` many times, which has poor performance.  Consider joining all columns at once using pd.concat(axis=1) instead. To get a de-fragmented frame, use `newframe = frame.copy()`\n",
            "  muestras['Muestra_' + str(i)]=_ # Con ello salvo cada una de las columnas del df\n",
            "/tmp/ipython-input-470-1324038430.py:7: PerformanceWarning: DataFrame is highly fragmented.  This is usually the result of calling `frame.insert` many times, which has poor performance.  Consider joining all columns at once using pd.concat(axis=1) instead. To get a de-fragmented frame, use `newframe = frame.copy()`\n",
            "  muestras['Muestra_' + str(i)]=_ # Con ello salvo cada una de las columnas del df\n",
            "/tmp/ipython-input-470-1324038430.py:7: PerformanceWarning: DataFrame is highly fragmented.  This is usually the result of calling `frame.insert` many times, which has poor performance.  Consider joining all columns at once using pd.concat(axis=1) instead. To get a de-fragmented frame, use `newframe = frame.copy()`\n",
            "  muestras['Muestra_' + str(i)]=_ # Con ello salvo cada una de las columnas del df\n",
            "/tmp/ipython-input-470-1324038430.py:7: PerformanceWarning: DataFrame is highly fragmented.  This is usually the result of calling `frame.insert` many times, which has poor performance.  Consider joining all columns at once using pd.concat(axis=1) instead. To get a de-fragmented frame, use `newframe = frame.copy()`\n",
            "  muestras['Muestra_' + str(i)]=_ # Con ello salvo cada una de las columnas del df\n",
            "/tmp/ipython-input-470-1324038430.py:7: PerformanceWarning: DataFrame is highly fragmented.  This is usually the result of calling `frame.insert` many times, which has poor performance.  Consider joining all columns at once using pd.concat(axis=1) instead. To get a de-fragmented frame, use `newframe = frame.copy()`\n",
            "  muestras['Muestra_' + str(i)]=_ # Con ello salvo cada una de las columnas del df\n",
            "/tmp/ipython-input-470-1324038430.py:7: PerformanceWarning: DataFrame is highly fragmented.  This is usually the result of calling `frame.insert` many times, which has poor performance.  Consider joining all columns at once using pd.concat(axis=1) instead. To get a de-fragmented frame, use `newframe = frame.copy()`\n",
            "  muestras['Muestra_' + str(i)]=_ # Con ello salvo cada una de las columnas del df\n",
            "/tmp/ipython-input-470-1324038430.py:7: PerformanceWarning: DataFrame is highly fragmented.  This is usually the result of calling `frame.insert` many times, which has poor performance.  Consider joining all columns at once using pd.concat(axis=1) instead. To get a de-fragmented frame, use `newframe = frame.copy()`\n",
            "  muestras['Muestra_' + str(i)]=_ # Con ello salvo cada una de las columnas del df\n",
            "/tmp/ipython-input-470-1324038430.py:7: PerformanceWarning: DataFrame is highly fragmented.  This is usually the result of calling `frame.insert` many times, which has poor performance.  Consider joining all columns at once using pd.concat(axis=1) instead. To get a de-fragmented frame, use `newframe = frame.copy()`\n",
            "  muestras['Muestra_' + str(i)]=_ # Con ello salvo cada una de las columnas del df\n",
            "/tmp/ipython-input-470-1324038430.py:7: PerformanceWarning: DataFrame is highly fragmented.  This is usually the result of calling `frame.insert` many times, which has poor performance.  Consider joining all columns at once using pd.concat(axis=1) instead. To get a de-fragmented frame, use `newframe = frame.copy()`\n",
            "  muestras['Muestra_' + str(i)]=_ # Con ello salvo cada una de las columnas del df\n",
            "/tmp/ipython-input-470-1324038430.py:7: PerformanceWarning: DataFrame is highly fragmented.  This is usually the result of calling `frame.insert` many times, which has poor performance.  Consider joining all columns at once using pd.concat(axis=1) instead. To get a de-fragmented frame, use `newframe = frame.copy()`\n",
            "  muestras['Muestra_' + str(i)]=_ # Con ello salvo cada una de las columnas del df\n",
            "/tmp/ipython-input-470-1324038430.py:7: PerformanceWarning: DataFrame is highly fragmented.  This is usually the result of calling `frame.insert` many times, which has poor performance.  Consider joining all columns at once using pd.concat(axis=1) instead. To get a de-fragmented frame, use `newframe = frame.copy()`\n",
            "  muestras['Muestra_' + str(i)]=_ # Con ello salvo cada una de las columnas del df\n",
            "/tmp/ipython-input-470-1324038430.py:7: PerformanceWarning: DataFrame is highly fragmented.  This is usually the result of calling `frame.insert` many times, which has poor performance.  Consider joining all columns at once using pd.concat(axis=1) instead. To get a de-fragmented frame, use `newframe = frame.copy()`\n",
            "  muestras['Muestra_' + str(i)]=_ # Con ello salvo cada una de las columnas del df\n",
            "/tmp/ipython-input-470-1324038430.py:7: PerformanceWarning: DataFrame is highly fragmented.  This is usually the result of calling `frame.insert` many times, which has poor performance.  Consider joining all columns at once using pd.concat(axis=1) instead. To get a de-fragmented frame, use `newframe = frame.copy()`\n",
            "  muestras['Muestra_' + str(i)]=_ # Con ello salvo cada una de las columnas del df\n",
            "/tmp/ipython-input-470-1324038430.py:7: PerformanceWarning: DataFrame is highly fragmented.  This is usually the result of calling `frame.insert` many times, which has poor performance.  Consider joining all columns at once using pd.concat(axis=1) instead. To get a de-fragmented frame, use `newframe = frame.copy()`\n",
            "  muestras['Muestra_' + str(i)]=_ # Con ello salvo cada una de las columnas del df\n",
            "/tmp/ipython-input-470-1324038430.py:7: PerformanceWarning: DataFrame is highly fragmented.  This is usually the result of calling `frame.insert` many times, which has poor performance.  Consider joining all columns at once using pd.concat(axis=1) instead. To get a de-fragmented frame, use `newframe = frame.copy()`\n",
            "  muestras['Muestra_' + str(i)]=_ # Con ello salvo cada una de las columnas del df\n",
            "/tmp/ipython-input-470-1324038430.py:7: PerformanceWarning: DataFrame is highly fragmented.  This is usually the result of calling `frame.insert` many times, which has poor performance.  Consider joining all columns at once using pd.concat(axis=1) instead. To get a de-fragmented frame, use `newframe = frame.copy()`\n",
            "  muestras['Muestra_' + str(i)]=_ # Con ello salvo cada una de las columnas del df\n",
            "/tmp/ipython-input-470-1324038430.py:7: PerformanceWarning: DataFrame is highly fragmented.  This is usually the result of calling `frame.insert` many times, which has poor performance.  Consider joining all columns at once using pd.concat(axis=1) instead. To get a de-fragmented frame, use `newframe = frame.copy()`\n",
            "  muestras['Muestra_' + str(i)]=_ # Con ello salvo cada una de las columnas del df\n",
            "/tmp/ipython-input-470-1324038430.py:7: PerformanceWarning: DataFrame is highly fragmented.  This is usually the result of calling `frame.insert` many times, which has poor performance.  Consider joining all columns at once using pd.concat(axis=1) instead. To get a de-fragmented frame, use `newframe = frame.copy()`\n",
            "  muestras['Muestra_' + str(i)]=_ # Con ello salvo cada una de las columnas del df\n",
            "/tmp/ipython-input-470-1324038430.py:7: PerformanceWarning: DataFrame is highly fragmented.  This is usually the result of calling `frame.insert` many times, which has poor performance.  Consider joining all columns at once using pd.concat(axis=1) instead. To get a de-fragmented frame, use `newframe = frame.copy()`\n",
            "  muestras['Muestra_' + str(i)]=_ # Con ello salvo cada una de las columnas del df\n",
            "/tmp/ipython-input-470-1324038430.py:7: PerformanceWarning: DataFrame is highly fragmented.  This is usually the result of calling `frame.insert` many times, which has poor performance.  Consider joining all columns at once using pd.concat(axis=1) instead. To get a de-fragmented frame, use `newframe = frame.copy()`\n",
            "  muestras['Muestra_' + str(i)]=_ # Con ello salvo cada una de las columnas del df\n",
            "/tmp/ipython-input-470-1324038430.py:7: PerformanceWarning: DataFrame is highly fragmented.  This is usually the result of calling `frame.insert` many times, which has poor performance.  Consider joining all columns at once using pd.concat(axis=1) instead. To get a de-fragmented frame, use `newframe = frame.copy()`\n",
            "  muestras['Muestra_' + str(i)]=_ # Con ello salvo cada una de las columnas del df\n",
            "/tmp/ipython-input-470-1324038430.py:7: PerformanceWarning: DataFrame is highly fragmented.  This is usually the result of calling `frame.insert` many times, which has poor performance.  Consider joining all columns at once using pd.concat(axis=1) instead. To get a de-fragmented frame, use `newframe = frame.copy()`\n",
            "  muestras['Muestra_' + str(i)]=_ # Con ello salvo cada una de las columnas del df\n",
            "/tmp/ipython-input-470-1324038430.py:7: PerformanceWarning: DataFrame is highly fragmented.  This is usually the result of calling `frame.insert` many times, which has poor performance.  Consider joining all columns at once using pd.concat(axis=1) instead. To get a de-fragmented frame, use `newframe = frame.copy()`\n",
            "  muestras['Muestra_' + str(i)]=_ # Con ello salvo cada una de las columnas del df\n",
            "/tmp/ipython-input-470-1324038430.py:7: PerformanceWarning: DataFrame is highly fragmented.  This is usually the result of calling `frame.insert` many times, which has poor performance.  Consider joining all columns at once using pd.concat(axis=1) instead. To get a de-fragmented frame, use `newframe = frame.copy()`\n",
            "  muestras['Muestra_' + str(i)]=_ # Con ello salvo cada una de las columnas del df\n",
            "/tmp/ipython-input-470-1324038430.py:7: PerformanceWarning: DataFrame is highly fragmented.  This is usually the result of calling `frame.insert` many times, which has poor performance.  Consider joining all columns at once using pd.concat(axis=1) instead. To get a de-fragmented frame, use `newframe = frame.copy()`\n",
            "  muestras['Muestra_' + str(i)]=_ # Con ello salvo cada una de las columnas del df\n",
            "/tmp/ipython-input-470-1324038430.py:7: PerformanceWarning: DataFrame is highly fragmented.  This is usually the result of calling `frame.insert` many times, which has poor performance.  Consider joining all columns at once using pd.concat(axis=1) instead. To get a de-fragmented frame, use `newframe = frame.copy()`\n",
            "  muestras['Muestra_' + str(i)]=_ # Con ello salvo cada una de las columnas del df\n",
            "/tmp/ipython-input-470-1324038430.py:7: PerformanceWarning: DataFrame is highly fragmented.  This is usually the result of calling `frame.insert` many times, which has poor performance.  Consider joining all columns at once using pd.concat(axis=1) instead. To get a de-fragmented frame, use `newframe = frame.copy()`\n",
            "  muestras['Muestra_' + str(i)]=_ # Con ello salvo cada una de las columnas del df\n",
            "/tmp/ipython-input-470-1324038430.py:7: PerformanceWarning: DataFrame is highly fragmented.  This is usually the result of calling `frame.insert` many times, which has poor performance.  Consider joining all columns at once using pd.concat(axis=1) instead. To get a de-fragmented frame, use `newframe = frame.copy()`\n",
            "  muestras['Muestra_' + str(i)]=_ # Con ello salvo cada una de las columnas del df\n",
            "/tmp/ipython-input-470-1324038430.py:7: PerformanceWarning: DataFrame is highly fragmented.  This is usually the result of calling `frame.insert` many times, which has poor performance.  Consider joining all columns at once using pd.concat(axis=1) instead. To get a de-fragmented frame, use `newframe = frame.copy()`\n",
            "  muestras['Muestra_' + str(i)]=_ # Con ello salvo cada una de las columnas del df\n",
            "/tmp/ipython-input-470-1324038430.py:7: PerformanceWarning: DataFrame is highly fragmented.  This is usually the result of calling `frame.insert` many times, which has poor performance.  Consider joining all columns at once using pd.concat(axis=1) instead. To get a de-fragmented frame, use `newframe = frame.copy()`\n",
            "  muestras['Muestra_' + str(i)]=_ # Con ello salvo cada una de las columnas del df\n",
            "/tmp/ipython-input-470-1324038430.py:7: PerformanceWarning: DataFrame is highly fragmented.  This is usually the result of calling `frame.insert` many times, which has poor performance.  Consider joining all columns at once using pd.concat(axis=1) instead. To get a de-fragmented frame, use `newframe = frame.copy()`\n",
            "  muestras['Muestra_' + str(i)]=_ # Con ello salvo cada una de las columnas del df\n",
            "/tmp/ipython-input-470-1324038430.py:7: PerformanceWarning: DataFrame is highly fragmented.  This is usually the result of calling `frame.insert` many times, which has poor performance.  Consider joining all columns at once using pd.concat(axis=1) instead. To get a de-fragmented frame, use `newframe = frame.copy()`\n",
            "  muestras['Muestra_' + str(i)]=_ # Con ello salvo cada una de las columnas del df\n",
            "/tmp/ipython-input-470-1324038430.py:7: PerformanceWarning: DataFrame is highly fragmented.  This is usually the result of calling `frame.insert` many times, which has poor performance.  Consider joining all columns at once using pd.concat(axis=1) instead. To get a de-fragmented frame, use `newframe = frame.copy()`\n",
            "  muestras['Muestra_' + str(i)]=_ # Con ello salvo cada una de las columnas del df\n",
            "/tmp/ipython-input-470-1324038430.py:7: PerformanceWarning: DataFrame is highly fragmented.  This is usually the result of calling `frame.insert` many times, which has poor performance.  Consider joining all columns at once using pd.concat(axis=1) instead. To get a de-fragmented frame, use `newframe = frame.copy()`\n",
            "  muestras['Muestra_' + str(i)]=_ # Con ello salvo cada una de las columnas del df\n",
            "/tmp/ipython-input-470-1324038430.py:7: PerformanceWarning: DataFrame is highly fragmented.  This is usually the result of calling `frame.insert` many times, which has poor performance.  Consider joining all columns at once using pd.concat(axis=1) instead. To get a de-fragmented frame, use `newframe = frame.copy()`\n",
            "  muestras['Muestra_' + str(i)]=_ # Con ello salvo cada una de las columnas del df\n",
            "/tmp/ipython-input-470-1324038430.py:7: PerformanceWarning: DataFrame is highly fragmented.  This is usually the result of calling `frame.insert` many times, which has poor performance.  Consider joining all columns at once using pd.concat(axis=1) instead. To get a de-fragmented frame, use `newframe = frame.copy()`\n",
            "  muestras['Muestra_' + str(i)]=_ # Con ello salvo cada una de las columnas del df\n",
            "/tmp/ipython-input-470-1324038430.py:7: PerformanceWarning: DataFrame is highly fragmented.  This is usually the result of calling `frame.insert` many times, which has poor performance.  Consider joining all columns at once using pd.concat(axis=1) instead. To get a de-fragmented frame, use `newframe = frame.copy()`\n",
            "  muestras['Muestra_' + str(i)]=_ # Con ello salvo cada una de las columnas del df\n",
            "/tmp/ipython-input-470-1324038430.py:7: PerformanceWarning: DataFrame is highly fragmented.  This is usually the result of calling `frame.insert` many times, which has poor performance.  Consider joining all columns at once using pd.concat(axis=1) instead. To get a de-fragmented frame, use `newframe = frame.copy()`\n",
            "  muestras['Muestra_' + str(i)]=_ # Con ello salvo cada una de las columnas del df\n",
            "/tmp/ipython-input-470-1324038430.py:7: PerformanceWarning: DataFrame is highly fragmented.  This is usually the result of calling `frame.insert` many times, which has poor performance.  Consider joining all columns at once using pd.concat(axis=1) instead. To get a de-fragmented frame, use `newframe = frame.copy()`\n",
            "  muestras['Muestra_' + str(i)]=_ # Con ello salvo cada una de las columnas del df\n",
            "/tmp/ipython-input-470-1324038430.py:7: PerformanceWarning: DataFrame is highly fragmented.  This is usually the result of calling `frame.insert` many times, which has poor performance.  Consider joining all columns at once using pd.concat(axis=1) instead. To get a de-fragmented frame, use `newframe = frame.copy()`\n",
            "  muestras['Muestra_' + str(i)]=_ # Con ello salvo cada una de las columnas del df\n",
            "/tmp/ipython-input-470-1324038430.py:7: PerformanceWarning: DataFrame is highly fragmented.  This is usually the result of calling `frame.insert` many times, which has poor performance.  Consider joining all columns at once using pd.concat(axis=1) instead. To get a de-fragmented frame, use `newframe = frame.copy()`\n",
            "  muestras['Muestra_' + str(i)]=_ # Con ello salvo cada una de las columnas del df\n",
            "/tmp/ipython-input-470-1324038430.py:7: PerformanceWarning: DataFrame is highly fragmented.  This is usually the result of calling `frame.insert` many times, which has poor performance.  Consider joining all columns at once using pd.concat(axis=1) instead. To get a de-fragmented frame, use `newframe = frame.copy()`\n",
            "  muestras['Muestra_' + str(i)]=_ # Con ello salvo cada una de las columnas del df\n",
            "/tmp/ipython-input-470-1324038430.py:7: PerformanceWarning: DataFrame is highly fragmented.  This is usually the result of calling `frame.insert` many times, which has poor performance.  Consider joining all columns at once using pd.concat(axis=1) instead. To get a de-fragmented frame, use `newframe = frame.copy()`\n",
            "  muestras['Muestra_' + str(i)]=_ # Con ello salvo cada una de las columnas del df\n",
            "/tmp/ipython-input-470-1324038430.py:7: PerformanceWarning: DataFrame is highly fragmented.  This is usually the result of calling `frame.insert` many times, which has poor performance.  Consider joining all columns at once using pd.concat(axis=1) instead. To get a de-fragmented frame, use `newframe = frame.copy()`\n",
            "  muestras['Muestra_' + str(i)]=_ # Con ello salvo cada una de las columnas del df\n",
            "/tmp/ipython-input-470-1324038430.py:7: PerformanceWarning: DataFrame is highly fragmented.  This is usually the result of calling `frame.insert` many times, which has poor performance.  Consider joining all columns at once using pd.concat(axis=1) instead. To get a de-fragmented frame, use `newframe = frame.copy()`\n",
            "  muestras['Muestra_' + str(i)]=_ # Con ello salvo cada una de las columnas del df\n",
            "/tmp/ipython-input-470-1324038430.py:7: PerformanceWarning: DataFrame is highly fragmented.  This is usually the result of calling `frame.insert` many times, which has poor performance.  Consider joining all columns at once using pd.concat(axis=1) instead. To get a de-fragmented frame, use `newframe = frame.copy()`\n",
            "  muestras['Muestra_' + str(i)]=_ # Con ello salvo cada una de las columnas del df\n",
            "/tmp/ipython-input-470-1324038430.py:7: PerformanceWarning: DataFrame is highly fragmented.  This is usually the result of calling `frame.insert` many times, which has poor performance.  Consider joining all columns at once using pd.concat(axis=1) instead. To get a de-fragmented frame, use `newframe = frame.copy()`\n",
            "  muestras['Muestra_' + str(i)]=_ # Con ello salvo cada una de las columnas del df\n",
            "/tmp/ipython-input-470-1324038430.py:7: PerformanceWarning: DataFrame is highly fragmented.  This is usually the result of calling `frame.insert` many times, which has poor performance.  Consider joining all columns at once using pd.concat(axis=1) instead. To get a de-fragmented frame, use `newframe = frame.copy()`\n",
            "  muestras['Muestra_' + str(i)]=_ # Con ello salvo cada una de las columnas del df\n",
            "/tmp/ipython-input-470-1324038430.py:7: PerformanceWarning: DataFrame is highly fragmented.  This is usually the result of calling `frame.insert` many times, which has poor performance.  Consider joining all columns at once using pd.concat(axis=1) instead. To get a de-fragmented frame, use `newframe = frame.copy()`\n",
            "  muestras['Muestra_' + str(i)]=_ # Con ello salvo cada una de las columnas del df\n",
            "/tmp/ipython-input-470-1324038430.py:7: PerformanceWarning: DataFrame is highly fragmented.  This is usually the result of calling `frame.insert` many times, which has poor performance.  Consider joining all columns at once using pd.concat(axis=1) instead. To get a de-fragmented frame, use `newframe = frame.copy()`\n",
            "  muestras['Muestra_' + str(i)]=_ # Con ello salvo cada una de las columnas del df\n",
            "/tmp/ipython-input-470-1324038430.py:7: PerformanceWarning: DataFrame is highly fragmented.  This is usually the result of calling `frame.insert` many times, which has poor performance.  Consider joining all columns at once using pd.concat(axis=1) instead. To get a de-fragmented frame, use `newframe = frame.copy()`\n",
            "  muestras['Muestra_' + str(i)]=_ # Con ello salvo cada una de las columnas del df\n",
            "/tmp/ipython-input-470-1324038430.py:7: PerformanceWarning: DataFrame is highly fragmented.  This is usually the result of calling `frame.insert` many times, which has poor performance.  Consider joining all columns at once using pd.concat(axis=1) instead. To get a de-fragmented frame, use `newframe = frame.copy()`\n",
            "  muestras['Muestra_' + str(i)]=_ # Con ello salvo cada una de las columnas del df\n",
            "/tmp/ipython-input-470-1324038430.py:7: PerformanceWarning: DataFrame is highly fragmented.  This is usually the result of calling `frame.insert` many times, which has poor performance.  Consider joining all columns at once using pd.concat(axis=1) instead. To get a de-fragmented frame, use `newframe = frame.copy()`\n",
            "  muestras['Muestra_' + str(i)]=_ # Con ello salvo cada una de las columnas del df\n",
            "/tmp/ipython-input-470-1324038430.py:7: PerformanceWarning: DataFrame is highly fragmented.  This is usually the result of calling `frame.insert` many times, which has poor performance.  Consider joining all columns at once using pd.concat(axis=1) instead. To get a de-fragmented frame, use `newframe = frame.copy()`\n",
            "  muestras['Muestra_' + str(i)]=_ # Con ello salvo cada una de las columnas del df\n",
            "/tmp/ipython-input-470-1324038430.py:7: PerformanceWarning: DataFrame is highly fragmented.  This is usually the result of calling `frame.insert` many times, which has poor performance.  Consider joining all columns at once using pd.concat(axis=1) instead. To get a de-fragmented frame, use `newframe = frame.copy()`\n",
            "  muestras['Muestra_' + str(i)]=_ # Con ello salvo cada una de las columnas del df\n",
            "/tmp/ipython-input-470-1324038430.py:7: PerformanceWarning: DataFrame is highly fragmented.  This is usually the result of calling `frame.insert` many times, which has poor performance.  Consider joining all columns at once using pd.concat(axis=1) instead. To get a de-fragmented frame, use `newframe = frame.copy()`\n",
            "  muestras['Muestra_' + str(i)]=_ # Con ello salvo cada una de las columnas del df\n",
            "/tmp/ipython-input-470-1324038430.py:7: PerformanceWarning: DataFrame is highly fragmented.  This is usually the result of calling `frame.insert` many times, which has poor performance.  Consider joining all columns at once using pd.concat(axis=1) instead. To get a de-fragmented frame, use `newframe = frame.copy()`\n",
            "  muestras['Muestra_' + str(i)]=_ # Con ello salvo cada una de las columnas del df\n",
            "/tmp/ipython-input-470-1324038430.py:7: PerformanceWarning: DataFrame is highly fragmented.  This is usually the result of calling `frame.insert` many times, which has poor performance.  Consider joining all columns at once using pd.concat(axis=1) instead. To get a de-fragmented frame, use `newframe = frame.copy()`\n",
            "  muestras['Muestra_' + str(i)]=_ # Con ello salvo cada una de las columnas del df\n",
            "/tmp/ipython-input-470-1324038430.py:7: PerformanceWarning: DataFrame is highly fragmented.  This is usually the result of calling `frame.insert` many times, which has poor performance.  Consider joining all columns at once using pd.concat(axis=1) instead. To get a de-fragmented frame, use `newframe = frame.copy()`\n",
            "  muestras['Muestra_' + str(i)]=_ # Con ello salvo cada una de las columnas del df\n",
            "/tmp/ipython-input-470-1324038430.py:7: PerformanceWarning: DataFrame is highly fragmented.  This is usually the result of calling `frame.insert` many times, which has poor performance.  Consider joining all columns at once using pd.concat(axis=1) instead. To get a de-fragmented frame, use `newframe = frame.copy()`\n",
            "  muestras['Muestra_' + str(i)]=_ # Con ello salvo cada una de las columnas del df\n",
            "/tmp/ipython-input-470-1324038430.py:7: PerformanceWarning: DataFrame is highly fragmented.  This is usually the result of calling `frame.insert` many times, which has poor performance.  Consider joining all columns at once using pd.concat(axis=1) instead. To get a de-fragmented frame, use `newframe = frame.copy()`\n",
            "  muestras['Muestra_' + str(i)]=_ # Con ello salvo cada una de las columnas del df\n",
            "/tmp/ipython-input-470-1324038430.py:7: PerformanceWarning: DataFrame is highly fragmented.  This is usually the result of calling `frame.insert` many times, which has poor performance.  Consider joining all columns at once using pd.concat(axis=1) instead. To get a de-fragmented frame, use `newframe = frame.copy()`\n",
            "  muestras['Muestra_' + str(i)]=_ # Con ello salvo cada una de las columnas del df\n",
            "/tmp/ipython-input-470-1324038430.py:7: PerformanceWarning: DataFrame is highly fragmented.  This is usually the result of calling `frame.insert` many times, which has poor performance.  Consider joining all columns at once using pd.concat(axis=1) instead. To get a de-fragmented frame, use `newframe = frame.copy()`\n",
            "  muestras['Muestra_' + str(i)]=_ # Con ello salvo cada una de las columnas del df\n",
            "/tmp/ipython-input-470-1324038430.py:7: PerformanceWarning: DataFrame is highly fragmented.  This is usually the result of calling `frame.insert` many times, which has poor performance.  Consider joining all columns at once using pd.concat(axis=1) instead. To get a de-fragmented frame, use `newframe = frame.copy()`\n",
            "  muestras['Muestra_' + str(i)]=_ # Con ello salvo cada una de las columnas del df\n",
            "/tmp/ipython-input-470-1324038430.py:7: PerformanceWarning: DataFrame is highly fragmented.  This is usually the result of calling `frame.insert` many times, which has poor performance.  Consider joining all columns at once using pd.concat(axis=1) instead. To get a de-fragmented frame, use `newframe = frame.copy()`\n",
            "  muestras['Muestra_' + str(i)]=_ # Con ello salvo cada una de las columnas del df\n",
            "/tmp/ipython-input-470-1324038430.py:7: PerformanceWarning: DataFrame is highly fragmented.  This is usually the result of calling `frame.insert` many times, which has poor performance.  Consider joining all columns at once using pd.concat(axis=1) instead. To get a de-fragmented frame, use `newframe = frame.copy()`\n",
            "  muestras['Muestra_' + str(i)]=_ # Con ello salvo cada una de las columnas del df\n",
            "/tmp/ipython-input-470-1324038430.py:7: PerformanceWarning: DataFrame is highly fragmented.  This is usually the result of calling `frame.insert` many times, which has poor performance.  Consider joining all columns at once using pd.concat(axis=1) instead. To get a de-fragmented frame, use `newframe = frame.copy()`\n",
            "  muestras['Muestra_' + str(i)]=_ # Con ello salvo cada una de las columnas del df\n",
            "/tmp/ipython-input-470-1324038430.py:7: PerformanceWarning: DataFrame is highly fragmented.  This is usually the result of calling `frame.insert` many times, which has poor performance.  Consider joining all columns at once using pd.concat(axis=1) instead. To get a de-fragmented frame, use `newframe = frame.copy()`\n",
            "  muestras['Muestra_' + str(i)]=_ # Con ello salvo cada una de las columnas del df\n",
            "/tmp/ipython-input-470-1324038430.py:7: PerformanceWarning: DataFrame is highly fragmented.  This is usually the result of calling `frame.insert` many times, which has poor performance.  Consider joining all columns at once using pd.concat(axis=1) instead. To get a de-fragmented frame, use `newframe = frame.copy()`\n",
            "  muestras['Muestra_' + str(i)]=_ # Con ello salvo cada una de las columnas del df\n",
            "/tmp/ipython-input-470-1324038430.py:7: PerformanceWarning: DataFrame is highly fragmented.  This is usually the result of calling `frame.insert` many times, which has poor performance.  Consider joining all columns at once using pd.concat(axis=1) instead. To get a de-fragmented frame, use `newframe = frame.copy()`\n",
            "  muestras['Muestra_' + str(i)]=_ # Con ello salvo cada una de las columnas del df\n",
            "/tmp/ipython-input-470-1324038430.py:7: PerformanceWarning: DataFrame is highly fragmented.  This is usually the result of calling `frame.insert` many times, which has poor performance.  Consider joining all columns at once using pd.concat(axis=1) instead. To get a de-fragmented frame, use `newframe = frame.copy()`\n",
            "  muestras['Muestra_' + str(i)]=_ # Con ello salvo cada una de las columnas del df\n",
            "/tmp/ipython-input-470-1324038430.py:7: PerformanceWarning: DataFrame is highly fragmented.  This is usually the result of calling `frame.insert` many times, which has poor performance.  Consider joining all columns at once using pd.concat(axis=1) instead. To get a de-fragmented frame, use `newframe = frame.copy()`\n",
            "  muestras['Muestra_' + str(i)]=_ # Con ello salvo cada una de las columnas del df\n",
            "/tmp/ipython-input-470-1324038430.py:7: PerformanceWarning: DataFrame is highly fragmented.  This is usually the result of calling `frame.insert` many times, which has poor performance.  Consider joining all columns at once using pd.concat(axis=1) instead. To get a de-fragmented frame, use `newframe = frame.copy()`\n",
            "  muestras['Muestra_' + str(i)]=_ # Con ello salvo cada una de las columnas del df\n",
            "/tmp/ipython-input-470-1324038430.py:7: PerformanceWarning: DataFrame is highly fragmented.  This is usually the result of calling `frame.insert` many times, which has poor performance.  Consider joining all columns at once using pd.concat(axis=1) instead. To get a de-fragmented frame, use `newframe = frame.copy()`\n",
            "  muestras['Muestra_' + str(i)]=_ # Con ello salvo cada una de las columnas del df\n",
            "/tmp/ipython-input-470-1324038430.py:7: PerformanceWarning: DataFrame is highly fragmented.  This is usually the result of calling `frame.insert` many times, which has poor performance.  Consider joining all columns at once using pd.concat(axis=1) instead. To get a de-fragmented frame, use `newframe = frame.copy()`\n",
            "  muestras['Muestra_' + str(i)]=_ # Con ello salvo cada una de las columnas del df\n",
            "/tmp/ipython-input-470-1324038430.py:7: PerformanceWarning: DataFrame is highly fragmented.  This is usually the result of calling `frame.insert` many times, which has poor performance.  Consider joining all columns at once using pd.concat(axis=1) instead. To get a de-fragmented frame, use `newframe = frame.copy()`\n",
            "  muestras['Muestra_' + str(i)]=_ # Con ello salvo cada una de las columnas del df\n",
            "/tmp/ipython-input-470-1324038430.py:7: PerformanceWarning: DataFrame is highly fragmented.  This is usually the result of calling `frame.insert` many times, which has poor performance.  Consider joining all columns at once using pd.concat(axis=1) instead. To get a de-fragmented frame, use `newframe = frame.copy()`\n",
            "  muestras['Muestra_' + str(i)]=_ # Con ello salvo cada una de las columnas del df\n",
            "/tmp/ipython-input-470-1324038430.py:7: PerformanceWarning: DataFrame is highly fragmented.  This is usually the result of calling `frame.insert` many times, which has poor performance.  Consider joining all columns at once using pd.concat(axis=1) instead. To get a de-fragmented frame, use `newframe = frame.copy()`\n",
            "  muestras['Muestra_' + str(i)]=_ # Con ello salvo cada una de las columnas del df\n",
            "/tmp/ipython-input-470-1324038430.py:7: PerformanceWarning: DataFrame is highly fragmented.  This is usually the result of calling `frame.insert` many times, which has poor performance.  Consider joining all columns at once using pd.concat(axis=1) instead. To get a de-fragmented frame, use `newframe = frame.copy()`\n",
            "  muestras['Muestra_' + str(i)]=_ # Con ello salvo cada una de las columnas del df\n",
            "/tmp/ipython-input-470-1324038430.py:7: PerformanceWarning: DataFrame is highly fragmented.  This is usually the result of calling `frame.insert` many times, which has poor performance.  Consider joining all columns at once using pd.concat(axis=1) instead. To get a de-fragmented frame, use `newframe = frame.copy()`\n",
            "  muestras['Muestra_' + str(i)]=_ # Con ello salvo cada una de las columnas del df\n",
            "/tmp/ipython-input-470-1324038430.py:7: PerformanceWarning: DataFrame is highly fragmented.  This is usually the result of calling `frame.insert` many times, which has poor performance.  Consider joining all columns at once using pd.concat(axis=1) instead. To get a de-fragmented frame, use `newframe = frame.copy()`\n",
            "  muestras['Muestra_' + str(i)]=_ # Con ello salvo cada una de las columnas del df\n",
            "/tmp/ipython-input-470-1324038430.py:7: PerformanceWarning: DataFrame is highly fragmented.  This is usually the result of calling `frame.insert` many times, which has poor performance.  Consider joining all columns at once using pd.concat(axis=1) instead. To get a de-fragmented frame, use `newframe = frame.copy()`\n",
            "  muestras['Muestra_' + str(i)]=_ # Con ello salvo cada una de las columnas del df\n",
            "/tmp/ipython-input-470-1324038430.py:7: PerformanceWarning: DataFrame is highly fragmented.  This is usually the result of calling `frame.insert` many times, which has poor performance.  Consider joining all columns at once using pd.concat(axis=1) instead. To get a de-fragmented frame, use `newframe = frame.copy()`\n",
            "  muestras['Muestra_' + str(i)]=_ # Con ello salvo cada una de las columnas del df\n",
            "/tmp/ipython-input-470-1324038430.py:7: PerformanceWarning: DataFrame is highly fragmented.  This is usually the result of calling `frame.insert` many times, which has poor performance.  Consider joining all columns at once using pd.concat(axis=1) instead. To get a de-fragmented frame, use `newframe = frame.copy()`\n",
            "  muestras['Muestra_' + str(i)]=_ # Con ello salvo cada una de las columnas del df\n",
            "/tmp/ipython-input-470-1324038430.py:7: PerformanceWarning: DataFrame is highly fragmented.  This is usually the result of calling `frame.insert` many times, which has poor performance.  Consider joining all columns at once using pd.concat(axis=1) instead. To get a de-fragmented frame, use `newframe = frame.copy()`\n",
            "  muestras['Muestra_' + str(i)]=_ # Con ello salvo cada una de las columnas del df\n",
            "/tmp/ipython-input-470-1324038430.py:7: PerformanceWarning: DataFrame is highly fragmented.  This is usually the result of calling `frame.insert` many times, which has poor performance.  Consider joining all columns at once using pd.concat(axis=1) instead. To get a de-fragmented frame, use `newframe = frame.copy()`\n",
            "  muestras['Muestra_' + str(i)]=_ # Con ello salvo cada una de las columnas del df\n",
            "/tmp/ipython-input-470-1324038430.py:7: PerformanceWarning: DataFrame is highly fragmented.  This is usually the result of calling `frame.insert` many times, which has poor performance.  Consider joining all columns at once using pd.concat(axis=1) instead. To get a de-fragmented frame, use `newframe = frame.copy()`\n",
            "  muestras['Muestra_' + str(i)]=_ # Con ello salvo cada una de las columnas del df\n",
            "/tmp/ipython-input-470-1324038430.py:7: PerformanceWarning: DataFrame is highly fragmented.  This is usually the result of calling `frame.insert` many times, which has poor performance.  Consider joining all columns at once using pd.concat(axis=1) instead. To get a de-fragmented frame, use `newframe = frame.copy()`\n",
            "  muestras['Muestra_' + str(i)]=_ # Con ello salvo cada una de las columnas del df\n",
            "/tmp/ipython-input-470-1324038430.py:7: PerformanceWarning: DataFrame is highly fragmented.  This is usually the result of calling `frame.insert` many times, which has poor performance.  Consider joining all columns at once using pd.concat(axis=1) instead. To get a de-fragmented frame, use `newframe = frame.copy()`\n",
            "  muestras['Muestra_' + str(i)]=_ # Con ello salvo cada una de las columnas del df\n",
            "/tmp/ipython-input-470-1324038430.py:7: PerformanceWarning: DataFrame is highly fragmented.  This is usually the result of calling `frame.insert` many times, which has poor performance.  Consider joining all columns at once using pd.concat(axis=1) instead. To get a de-fragmented frame, use `newframe = frame.copy()`\n",
            "  muestras['Muestra_' + str(i)]=_ # Con ello salvo cada una de las columnas del df\n",
            "/tmp/ipython-input-470-1324038430.py:7: PerformanceWarning: DataFrame is highly fragmented.  This is usually the result of calling `frame.insert` many times, which has poor performance.  Consider joining all columns at once using pd.concat(axis=1) instead. To get a de-fragmented frame, use `newframe = frame.copy()`\n",
            "  muestras['Muestra_' + str(i)]=_ # Con ello salvo cada una de las columnas del df\n",
            "/tmp/ipython-input-470-1324038430.py:7: PerformanceWarning: DataFrame is highly fragmented.  This is usually the result of calling `frame.insert` many times, which has poor performance.  Consider joining all columns at once using pd.concat(axis=1) instead. To get a de-fragmented frame, use `newframe = frame.copy()`\n",
            "  muestras['Muestra_' + str(i)]=_ # Con ello salvo cada una de las columnas del df\n",
            "/tmp/ipython-input-470-1324038430.py:7: PerformanceWarning: DataFrame is highly fragmented.  This is usually the result of calling `frame.insert` many times, which has poor performance.  Consider joining all columns at once using pd.concat(axis=1) instead. To get a de-fragmented frame, use `newframe = frame.copy()`\n",
            "  muestras['Muestra_' + str(i)]=_ # Con ello salvo cada una de las columnas del df\n",
            "/tmp/ipython-input-470-1324038430.py:7: PerformanceWarning: DataFrame is highly fragmented.  This is usually the result of calling `frame.insert` many times, which has poor performance.  Consider joining all columns at once using pd.concat(axis=1) instead. To get a de-fragmented frame, use `newframe = frame.copy()`\n",
            "  muestras['Muestra_' + str(i)]=_ # Con ello salvo cada una de las columnas del df\n",
            "/tmp/ipython-input-470-1324038430.py:7: PerformanceWarning: DataFrame is highly fragmented.  This is usually the result of calling `frame.insert` many times, which has poor performance.  Consider joining all columns at once using pd.concat(axis=1) instead. To get a de-fragmented frame, use `newframe = frame.copy()`\n",
            "  muestras['Muestra_' + str(i)]=_ # Con ello salvo cada una de las columnas del df\n",
            "/tmp/ipython-input-470-1324038430.py:7: PerformanceWarning: DataFrame is highly fragmented.  This is usually the result of calling `frame.insert` many times, which has poor performance.  Consider joining all columns at once using pd.concat(axis=1) instead. To get a de-fragmented frame, use `newframe = frame.copy()`\n",
            "  muestras['Muestra_' + str(i)]=_ # Con ello salvo cada una de las columnas del df\n",
            "/tmp/ipython-input-470-1324038430.py:7: PerformanceWarning: DataFrame is highly fragmented.  This is usually the result of calling `frame.insert` many times, which has poor performance.  Consider joining all columns at once using pd.concat(axis=1) instead. To get a de-fragmented frame, use `newframe = frame.copy()`\n",
            "  muestras['Muestra_' + str(i)]=_ # Con ello salvo cada una de las columnas del df\n",
            "/tmp/ipython-input-470-1324038430.py:7: PerformanceWarning: DataFrame is highly fragmented.  This is usually the result of calling `frame.insert` many times, which has poor performance.  Consider joining all columns at once using pd.concat(axis=1) instead. To get a de-fragmented frame, use `newframe = frame.copy()`\n",
            "  muestras['Muestra_' + str(i)]=_ # Con ello salvo cada una de las columnas del df\n",
            "/tmp/ipython-input-470-1324038430.py:7: PerformanceWarning: DataFrame is highly fragmented.  This is usually the result of calling `frame.insert` many times, which has poor performance.  Consider joining all columns at once using pd.concat(axis=1) instead. To get a de-fragmented frame, use `newframe = frame.copy()`\n",
            "  muestras['Muestra_' + str(i)]=_ # Con ello salvo cada una de las columnas del df\n",
            "/tmp/ipython-input-470-1324038430.py:7: PerformanceWarning: DataFrame is highly fragmented.  This is usually the result of calling `frame.insert` many times, which has poor performance.  Consider joining all columns at once using pd.concat(axis=1) instead. To get a de-fragmented frame, use `newframe = frame.copy()`\n",
            "  muestras['Muestra_' + str(i)]=_ # Con ello salvo cada una de las columnas del df\n",
            "/tmp/ipython-input-470-1324038430.py:7: PerformanceWarning: DataFrame is highly fragmented.  This is usually the result of calling `frame.insert` many times, which has poor performance.  Consider joining all columns at once using pd.concat(axis=1) instead. To get a de-fragmented frame, use `newframe = frame.copy()`\n",
            "  muestras['Muestra_' + str(i)]=_ # Con ello salvo cada una de las columnas del df\n",
            "/tmp/ipython-input-470-1324038430.py:7: PerformanceWarning: DataFrame is highly fragmented.  This is usually the result of calling `frame.insert` many times, which has poor performance.  Consider joining all columns at once using pd.concat(axis=1) instead. To get a de-fragmented frame, use `newframe = frame.copy()`\n",
            "  muestras['Muestra_' + str(i)]=_ # Con ello salvo cada una de las columnas del df\n",
            "/tmp/ipython-input-470-1324038430.py:7: PerformanceWarning: DataFrame is highly fragmented.  This is usually the result of calling `frame.insert` many times, which has poor performance.  Consider joining all columns at once using pd.concat(axis=1) instead. To get a de-fragmented frame, use `newframe = frame.copy()`\n",
            "  muestras['Muestra_' + str(i)]=_ # Con ello salvo cada una de las columnas del df\n",
            "/tmp/ipython-input-470-1324038430.py:7: PerformanceWarning: DataFrame is highly fragmented.  This is usually the result of calling `frame.insert` many times, which has poor performance.  Consider joining all columns at once using pd.concat(axis=1) instead. To get a de-fragmented frame, use `newframe = frame.copy()`\n",
            "  muestras['Muestra_' + str(i)]=_ # Con ello salvo cada una de las columnas del df\n",
            "/tmp/ipython-input-470-1324038430.py:7: PerformanceWarning: DataFrame is highly fragmented.  This is usually the result of calling `frame.insert` many times, which has poor performance.  Consider joining all columns at once using pd.concat(axis=1) instead. To get a de-fragmented frame, use `newframe = frame.copy()`\n",
            "  muestras['Muestra_' + str(i)]=_ # Con ello salvo cada una de las columnas del df\n",
            "/tmp/ipython-input-470-1324038430.py:7: PerformanceWarning: DataFrame is highly fragmented.  This is usually the result of calling `frame.insert` many times, which has poor performance.  Consider joining all columns at once using pd.concat(axis=1) instead. To get a de-fragmented frame, use `newframe = frame.copy()`\n",
            "  muestras['Muestra_' + str(i)]=_ # Con ello salvo cada una de las columnas del df\n",
            "/tmp/ipython-input-470-1324038430.py:7: PerformanceWarning: DataFrame is highly fragmented.  This is usually the result of calling `frame.insert` many times, which has poor performance.  Consider joining all columns at once using pd.concat(axis=1) instead. To get a de-fragmented frame, use `newframe = frame.copy()`\n",
            "  muestras['Muestra_' + str(i)]=_ # Con ello salvo cada una de las columnas del df\n",
            "/tmp/ipython-input-470-1324038430.py:7: PerformanceWarning: DataFrame is highly fragmented.  This is usually the result of calling `frame.insert` many times, which has poor performance.  Consider joining all columns at once using pd.concat(axis=1) instead. To get a de-fragmented frame, use `newframe = frame.copy()`\n",
            "  muestras['Muestra_' + str(i)]=_ # Con ello salvo cada una de las columnas del df\n",
            "/tmp/ipython-input-470-1324038430.py:7: PerformanceWarning: DataFrame is highly fragmented.  This is usually the result of calling `frame.insert` many times, which has poor performance.  Consider joining all columns at once using pd.concat(axis=1) instead. To get a de-fragmented frame, use `newframe = frame.copy()`\n",
            "  muestras['Muestra_' + str(i)]=_ # Con ello salvo cada una de las columnas del df\n",
            "/tmp/ipython-input-470-1324038430.py:7: PerformanceWarning: DataFrame is highly fragmented.  This is usually the result of calling `frame.insert` many times, which has poor performance.  Consider joining all columns at once using pd.concat(axis=1) instead. To get a de-fragmented frame, use `newframe = frame.copy()`\n",
            "  muestras['Muestra_' + str(i)]=_ # Con ello salvo cada una de las columnas del df\n",
            "/tmp/ipython-input-470-1324038430.py:7: PerformanceWarning: DataFrame is highly fragmented.  This is usually the result of calling `frame.insert` many times, which has poor performance.  Consider joining all columns at once using pd.concat(axis=1) instead. To get a de-fragmented frame, use `newframe = frame.copy()`\n",
            "  muestras['Muestra_' + str(i)]=_ # Con ello salvo cada una de las columnas del df\n",
            "/tmp/ipython-input-470-1324038430.py:7: PerformanceWarning: DataFrame is highly fragmented.  This is usually the result of calling `frame.insert` many times, which has poor performance.  Consider joining all columns at once using pd.concat(axis=1) instead. To get a de-fragmented frame, use `newframe = frame.copy()`\n",
            "  muestras['Muestra_' + str(i)]=_ # Con ello salvo cada una de las columnas del df\n",
            "/tmp/ipython-input-470-1324038430.py:7: PerformanceWarning: DataFrame is highly fragmented.  This is usually the result of calling `frame.insert` many times, which has poor performance.  Consider joining all columns at once using pd.concat(axis=1) instead. To get a de-fragmented frame, use `newframe = frame.copy()`\n",
            "  muestras['Muestra_' + str(i)]=_ # Con ello salvo cada una de las columnas del df\n",
            "/tmp/ipython-input-470-1324038430.py:7: PerformanceWarning: DataFrame is highly fragmented.  This is usually the result of calling `frame.insert` many times, which has poor performance.  Consider joining all columns at once using pd.concat(axis=1) instead. To get a de-fragmented frame, use `newframe = frame.copy()`\n",
            "  muestras['Muestra_' + str(i)]=_ # Con ello salvo cada una de las columnas del df\n",
            "/tmp/ipython-input-470-1324038430.py:7: PerformanceWarning: DataFrame is highly fragmented.  This is usually the result of calling `frame.insert` many times, which has poor performance.  Consider joining all columns at once using pd.concat(axis=1) instead. To get a de-fragmented frame, use `newframe = frame.copy()`\n",
            "  muestras['Muestra_' + str(i)]=_ # Con ello salvo cada una de las columnas del df\n",
            "/tmp/ipython-input-470-1324038430.py:7: PerformanceWarning: DataFrame is highly fragmented.  This is usually the result of calling `frame.insert` many times, which has poor performance.  Consider joining all columns at once using pd.concat(axis=1) instead. To get a de-fragmented frame, use `newframe = frame.copy()`\n",
            "  muestras['Muestra_' + str(i)]=_ # Con ello salvo cada una de las columnas del df\n",
            "/tmp/ipython-input-470-1324038430.py:7: PerformanceWarning: DataFrame is highly fragmented.  This is usually the result of calling `frame.insert` many times, which has poor performance.  Consider joining all columns at once using pd.concat(axis=1) instead. To get a de-fragmented frame, use `newframe = frame.copy()`\n",
            "  muestras['Muestra_' + str(i)]=_ # Con ello salvo cada una de las columnas del df\n",
            "/tmp/ipython-input-470-1324038430.py:7: PerformanceWarning: DataFrame is highly fragmented.  This is usually the result of calling `frame.insert` many times, which has poor performance.  Consider joining all columns at once using pd.concat(axis=1) instead. To get a de-fragmented frame, use `newframe = frame.copy()`\n",
            "  muestras['Muestra_' + str(i)]=_ # Con ello salvo cada una de las columnas del df\n",
            "/tmp/ipython-input-470-1324038430.py:7: PerformanceWarning: DataFrame is highly fragmented.  This is usually the result of calling `frame.insert` many times, which has poor performance.  Consider joining all columns at once using pd.concat(axis=1) instead. To get a de-fragmented frame, use `newframe = frame.copy()`\n",
            "  muestras['Muestra_' + str(i)]=_ # Con ello salvo cada una de las columnas del df\n",
            "/tmp/ipython-input-470-1324038430.py:7: PerformanceWarning: DataFrame is highly fragmented.  This is usually the result of calling `frame.insert` many times, which has poor performance.  Consider joining all columns at once using pd.concat(axis=1) instead. To get a de-fragmented frame, use `newframe = frame.copy()`\n",
            "  muestras['Muestra_' + str(i)]=_ # Con ello salvo cada una de las columnas del df\n",
            "/tmp/ipython-input-470-1324038430.py:7: PerformanceWarning: DataFrame is highly fragmented.  This is usually the result of calling `frame.insert` many times, which has poor performance.  Consider joining all columns at once using pd.concat(axis=1) instead. To get a de-fragmented frame, use `newframe = frame.copy()`\n",
            "  muestras['Muestra_' + str(i)]=_ # Con ello salvo cada una de las columnas del df\n",
            "/tmp/ipython-input-470-1324038430.py:7: PerformanceWarning: DataFrame is highly fragmented.  This is usually the result of calling `frame.insert` many times, which has poor performance.  Consider joining all columns at once using pd.concat(axis=1) instead. To get a de-fragmented frame, use `newframe = frame.copy()`\n",
            "  muestras['Muestra_' + str(i)]=_ # Con ello salvo cada una de las columnas del df\n",
            "/tmp/ipython-input-470-1324038430.py:7: PerformanceWarning: DataFrame is highly fragmented.  This is usually the result of calling `frame.insert` many times, which has poor performance.  Consider joining all columns at once using pd.concat(axis=1) instead. To get a de-fragmented frame, use `newframe = frame.copy()`\n",
            "  muestras['Muestra_' + str(i)]=_ # Con ello salvo cada una de las columnas del df\n",
            "/tmp/ipython-input-470-1324038430.py:7: PerformanceWarning: DataFrame is highly fragmented.  This is usually the result of calling `frame.insert` many times, which has poor performance.  Consider joining all columns at once using pd.concat(axis=1) instead. To get a de-fragmented frame, use `newframe = frame.copy()`\n",
            "  muestras['Muestra_' + str(i)]=_ # Con ello salvo cada una de las columnas del df\n",
            "/tmp/ipython-input-470-1324038430.py:7: PerformanceWarning: DataFrame is highly fragmented.  This is usually the result of calling `frame.insert` many times, which has poor performance.  Consider joining all columns at once using pd.concat(axis=1) instead. To get a de-fragmented frame, use `newframe = frame.copy()`\n",
            "  muestras['Muestra_' + str(i)]=_ # Con ello salvo cada una de las columnas del df\n",
            "/tmp/ipython-input-470-1324038430.py:7: PerformanceWarning: DataFrame is highly fragmented.  This is usually the result of calling `frame.insert` many times, which has poor performance.  Consider joining all columns at once using pd.concat(axis=1) instead. To get a de-fragmented frame, use `newframe = frame.copy()`\n",
            "  muestras['Muestra_' + str(i)]=_ # Con ello salvo cada una de las columnas del df\n",
            "/tmp/ipython-input-470-1324038430.py:7: PerformanceWarning: DataFrame is highly fragmented.  This is usually the result of calling `frame.insert` many times, which has poor performance.  Consider joining all columns at once using pd.concat(axis=1) instead. To get a de-fragmented frame, use `newframe = frame.copy()`\n",
            "  muestras['Muestra_' + str(i)]=_ # Con ello salvo cada una de las columnas del df\n",
            "/tmp/ipython-input-470-1324038430.py:7: PerformanceWarning: DataFrame is highly fragmented.  This is usually the result of calling `frame.insert` many times, which has poor performance.  Consider joining all columns at once using pd.concat(axis=1) instead. To get a de-fragmented frame, use `newframe = frame.copy()`\n",
            "  muestras['Muestra_' + str(i)]=_ # Con ello salvo cada una de las columnas del df\n",
            "/tmp/ipython-input-470-1324038430.py:7: PerformanceWarning: DataFrame is highly fragmented.  This is usually the result of calling `frame.insert` many times, which has poor performance.  Consider joining all columns at once using pd.concat(axis=1) instead. To get a de-fragmented frame, use `newframe = frame.copy()`\n",
            "  muestras['Muestra_' + str(i)]=_ # Con ello salvo cada una de las columnas del df\n",
            "/tmp/ipython-input-470-1324038430.py:7: PerformanceWarning: DataFrame is highly fragmented.  This is usually the result of calling `frame.insert` many times, which has poor performance.  Consider joining all columns at once using pd.concat(axis=1) instead. To get a de-fragmented frame, use `newframe = frame.copy()`\n",
            "  muestras['Muestra_' + str(i)]=_ # Con ello salvo cada una de las columnas del df\n",
            "/tmp/ipython-input-470-1324038430.py:7: PerformanceWarning: DataFrame is highly fragmented.  This is usually the result of calling `frame.insert` many times, which has poor performance.  Consider joining all columns at once using pd.concat(axis=1) instead. To get a de-fragmented frame, use `newframe = frame.copy()`\n",
            "  muestras['Muestra_' + str(i)]=_ # Con ello salvo cada una de las columnas del df\n",
            "/tmp/ipython-input-470-1324038430.py:7: PerformanceWarning: DataFrame is highly fragmented.  This is usually the result of calling `frame.insert` many times, which has poor performance.  Consider joining all columns at once using pd.concat(axis=1) instead. To get a de-fragmented frame, use `newframe = frame.copy()`\n",
            "  muestras['Muestra_' + str(i)]=_ # Con ello salvo cada una de las columnas del df\n",
            "/tmp/ipython-input-470-1324038430.py:7: PerformanceWarning: DataFrame is highly fragmented.  This is usually the result of calling `frame.insert` many times, which has poor performance.  Consider joining all columns at once using pd.concat(axis=1) instead. To get a de-fragmented frame, use `newframe = frame.copy()`\n",
            "  muestras['Muestra_' + str(i)]=_ # Con ello salvo cada una de las columnas del df\n",
            "/tmp/ipython-input-470-1324038430.py:7: PerformanceWarning: DataFrame is highly fragmented.  This is usually the result of calling `frame.insert` many times, which has poor performance.  Consider joining all columns at once using pd.concat(axis=1) instead. To get a de-fragmented frame, use `newframe = frame.copy()`\n",
            "  muestras['Muestra_' + str(i)]=_ # Con ello salvo cada una de las columnas del df\n",
            "/tmp/ipython-input-470-1324038430.py:7: PerformanceWarning: DataFrame is highly fragmented.  This is usually the result of calling `frame.insert` many times, which has poor performance.  Consider joining all columns at once using pd.concat(axis=1) instead. To get a de-fragmented frame, use `newframe = frame.copy()`\n",
            "  muestras['Muestra_' + str(i)]=_ # Con ello salvo cada una de las columnas del df\n",
            "/tmp/ipython-input-470-1324038430.py:7: PerformanceWarning: DataFrame is highly fragmented.  This is usually the result of calling `frame.insert` many times, which has poor performance.  Consider joining all columns at once using pd.concat(axis=1) instead. To get a de-fragmented frame, use `newframe = frame.copy()`\n",
            "  muestras['Muestra_' + str(i)]=_ # Con ello salvo cada una de las columnas del df\n",
            "/tmp/ipython-input-470-1324038430.py:7: PerformanceWarning: DataFrame is highly fragmented.  This is usually the result of calling `frame.insert` many times, which has poor performance.  Consider joining all columns at once using pd.concat(axis=1) instead. To get a de-fragmented frame, use `newframe = frame.copy()`\n",
            "  muestras['Muestra_' + str(i)]=_ # Con ello salvo cada una de las columnas del df\n",
            "/tmp/ipython-input-470-1324038430.py:7: PerformanceWarning: DataFrame is highly fragmented.  This is usually the result of calling `frame.insert` many times, which has poor performance.  Consider joining all columns at once using pd.concat(axis=1) instead. To get a de-fragmented frame, use `newframe = frame.copy()`\n",
            "  muestras['Muestra_' + str(i)]=_ # Con ello salvo cada una de las columnas del df\n",
            "/tmp/ipython-input-470-1324038430.py:7: PerformanceWarning: DataFrame is highly fragmented.  This is usually the result of calling `frame.insert` many times, which has poor performance.  Consider joining all columns at once using pd.concat(axis=1) instead. To get a de-fragmented frame, use `newframe = frame.copy()`\n",
            "  muestras['Muestra_' + str(i)]=_ # Con ello salvo cada una de las columnas del df\n",
            "/tmp/ipython-input-470-1324038430.py:7: PerformanceWarning: DataFrame is highly fragmented.  This is usually the result of calling `frame.insert` many times, which has poor performance.  Consider joining all columns at once using pd.concat(axis=1) instead. To get a de-fragmented frame, use `newframe = frame.copy()`\n",
            "  muestras['Muestra_' + str(i)]=_ # Con ello salvo cada una de las columnas del df\n",
            "/tmp/ipython-input-470-1324038430.py:7: PerformanceWarning: DataFrame is highly fragmented.  This is usually the result of calling `frame.insert` many times, which has poor performance.  Consider joining all columns at once using pd.concat(axis=1) instead. To get a de-fragmented frame, use `newframe = frame.copy()`\n",
            "  muestras['Muestra_' + str(i)]=_ # Con ello salvo cada una de las columnas del df\n",
            "/tmp/ipython-input-470-1324038430.py:7: PerformanceWarning: DataFrame is highly fragmented.  This is usually the result of calling `frame.insert` many times, which has poor performance.  Consider joining all columns at once using pd.concat(axis=1) instead. To get a de-fragmented frame, use `newframe = frame.copy()`\n",
            "  muestras['Muestra_' + str(i)]=_ # Con ello salvo cada una de las columnas del df\n",
            "/tmp/ipython-input-470-1324038430.py:7: PerformanceWarning: DataFrame is highly fragmented.  This is usually the result of calling `frame.insert` many times, which has poor performance.  Consider joining all columns at once using pd.concat(axis=1) instead. To get a de-fragmented frame, use `newframe = frame.copy()`\n",
            "  muestras['Muestra_' + str(i)]=_ # Con ello salvo cada una de las columnas del df\n",
            "/tmp/ipython-input-470-1324038430.py:7: PerformanceWarning: DataFrame is highly fragmented.  This is usually the result of calling `frame.insert` many times, which has poor performance.  Consider joining all columns at once using pd.concat(axis=1) instead. To get a de-fragmented frame, use `newframe = frame.copy()`\n",
            "  muestras['Muestra_' + str(i)]=_ # Con ello salvo cada una de las columnas del df\n",
            "/tmp/ipython-input-470-1324038430.py:7: PerformanceWarning: DataFrame is highly fragmented.  This is usually the result of calling `frame.insert` many times, which has poor performance.  Consider joining all columns at once using pd.concat(axis=1) instead. To get a de-fragmented frame, use `newframe = frame.copy()`\n",
            "  muestras['Muestra_' + str(i)]=_ # Con ello salvo cada una de las columnas del df\n",
            "/tmp/ipython-input-470-1324038430.py:7: PerformanceWarning: DataFrame is highly fragmented.  This is usually the result of calling `frame.insert` many times, which has poor performance.  Consider joining all columns at once using pd.concat(axis=1) instead. To get a de-fragmented frame, use `newframe = frame.copy()`\n",
            "  muestras['Muestra_' + str(i)]=_ # Con ello salvo cada una de las columnas del df\n",
            "/tmp/ipython-input-470-1324038430.py:7: PerformanceWarning: DataFrame is highly fragmented.  This is usually the result of calling `frame.insert` many times, which has poor performance.  Consider joining all columns at once using pd.concat(axis=1) instead. To get a de-fragmented frame, use `newframe = frame.copy()`\n",
            "  muestras['Muestra_' + str(i)]=_ # Con ello salvo cada una de las columnas del df\n",
            "/tmp/ipython-input-470-1324038430.py:7: PerformanceWarning: DataFrame is highly fragmented.  This is usually the result of calling `frame.insert` many times, which has poor performance.  Consider joining all columns at once using pd.concat(axis=1) instead. To get a de-fragmented frame, use `newframe = frame.copy()`\n",
            "  muestras['Muestra_' + str(i)]=_ # Con ello salvo cada una de las columnas del df\n",
            "/tmp/ipython-input-470-1324038430.py:7: PerformanceWarning: DataFrame is highly fragmented.  This is usually the result of calling `frame.insert` many times, which has poor performance.  Consider joining all columns at once using pd.concat(axis=1) instead. To get a de-fragmented frame, use `newframe = frame.copy()`\n",
            "  muestras['Muestra_' + str(i)]=_ # Con ello salvo cada una de las columnas del df\n",
            "/tmp/ipython-input-470-1324038430.py:7: PerformanceWarning: DataFrame is highly fragmented.  This is usually the result of calling `frame.insert` many times, which has poor performance.  Consider joining all columns at once using pd.concat(axis=1) instead. To get a de-fragmented frame, use `newframe = frame.copy()`\n",
            "  muestras['Muestra_' + str(i)]=_ # Con ello salvo cada una de las columnas del df\n",
            "/tmp/ipython-input-470-1324038430.py:7: PerformanceWarning: DataFrame is highly fragmented.  This is usually the result of calling `frame.insert` many times, which has poor performance.  Consider joining all columns at once using pd.concat(axis=1) instead. To get a de-fragmented frame, use `newframe = frame.copy()`\n",
            "  muestras['Muestra_' + str(i)]=_ # Con ello salvo cada una de las columnas del df\n",
            "/tmp/ipython-input-470-1324038430.py:7: PerformanceWarning: DataFrame is highly fragmented.  This is usually the result of calling `frame.insert` many times, which has poor performance.  Consider joining all columns at once using pd.concat(axis=1) instead. To get a de-fragmented frame, use `newframe = frame.copy()`\n",
            "  muestras['Muestra_' + str(i)]=_ # Con ello salvo cada una de las columnas del df\n",
            "/tmp/ipython-input-470-1324038430.py:7: PerformanceWarning: DataFrame is highly fragmented.  This is usually the result of calling `frame.insert` many times, which has poor performance.  Consider joining all columns at once using pd.concat(axis=1) instead. To get a de-fragmented frame, use `newframe = frame.copy()`\n",
            "  muestras['Muestra_' + str(i)]=_ # Con ello salvo cada una de las columnas del df\n",
            "/tmp/ipython-input-470-1324038430.py:7: PerformanceWarning: DataFrame is highly fragmented.  This is usually the result of calling `frame.insert` many times, which has poor performance.  Consider joining all columns at once using pd.concat(axis=1) instead. To get a de-fragmented frame, use `newframe = frame.copy()`\n",
            "  muestras['Muestra_' + str(i)]=_ # Con ello salvo cada una de las columnas del df\n",
            "/tmp/ipython-input-470-1324038430.py:7: PerformanceWarning: DataFrame is highly fragmented.  This is usually the result of calling `frame.insert` many times, which has poor performance.  Consider joining all columns at once using pd.concat(axis=1) instead. To get a de-fragmented frame, use `newframe = frame.copy()`\n",
            "  muestras['Muestra_' + str(i)]=_ # Con ello salvo cada una de las columnas del df\n",
            "/tmp/ipython-input-470-1324038430.py:7: PerformanceWarning: DataFrame is highly fragmented.  This is usually the result of calling `frame.insert` many times, which has poor performance.  Consider joining all columns at once using pd.concat(axis=1) instead. To get a de-fragmented frame, use `newframe = frame.copy()`\n",
            "  muestras['Muestra_' + str(i)]=_ # Con ello salvo cada una de las columnas del df\n",
            "/tmp/ipython-input-470-1324038430.py:7: PerformanceWarning: DataFrame is highly fragmented.  This is usually the result of calling `frame.insert` many times, which has poor performance.  Consider joining all columns at once using pd.concat(axis=1) instead. To get a de-fragmented frame, use `newframe = frame.copy()`\n",
            "  muestras['Muestra_' + str(i)]=_ # Con ello salvo cada una de las columnas del df\n",
            "/tmp/ipython-input-470-1324038430.py:7: PerformanceWarning: DataFrame is highly fragmented.  This is usually the result of calling `frame.insert` many times, which has poor performance.  Consider joining all columns at once using pd.concat(axis=1) instead. To get a de-fragmented frame, use `newframe = frame.copy()`\n",
            "  muestras['Muestra_' + str(i)]=_ # Con ello salvo cada una de las columnas del df\n",
            "/tmp/ipython-input-470-1324038430.py:7: PerformanceWarning: DataFrame is highly fragmented.  This is usually the result of calling `frame.insert` many times, which has poor performance.  Consider joining all columns at once using pd.concat(axis=1) instead. To get a de-fragmented frame, use `newframe = frame.copy()`\n",
            "  muestras['Muestra_' + str(i)]=_ # Con ello salvo cada una de las columnas del df\n",
            "/tmp/ipython-input-470-1324038430.py:7: PerformanceWarning: DataFrame is highly fragmented.  This is usually the result of calling `frame.insert` many times, which has poor performance.  Consider joining all columns at once using pd.concat(axis=1) instead. To get a de-fragmented frame, use `newframe = frame.copy()`\n",
            "  muestras['Muestra_' + str(i)]=_ # Con ello salvo cada una de las columnas del df\n",
            "/tmp/ipython-input-470-1324038430.py:7: PerformanceWarning: DataFrame is highly fragmented.  This is usually the result of calling `frame.insert` many times, which has poor performance.  Consider joining all columns at once using pd.concat(axis=1) instead. To get a de-fragmented frame, use `newframe = frame.copy()`\n",
            "  muestras['Muestra_' + str(i)]=_ # Con ello salvo cada una de las columnas del df\n",
            "/tmp/ipython-input-470-1324038430.py:7: PerformanceWarning: DataFrame is highly fragmented.  This is usually the result of calling `frame.insert` many times, which has poor performance.  Consider joining all columns at once using pd.concat(axis=1) instead. To get a de-fragmented frame, use `newframe = frame.copy()`\n",
            "  muestras['Muestra_' + str(i)]=_ # Con ello salvo cada una de las columnas del df\n",
            "/tmp/ipython-input-470-1324038430.py:7: PerformanceWarning: DataFrame is highly fragmented.  This is usually the result of calling `frame.insert` many times, which has poor performance.  Consider joining all columns at once using pd.concat(axis=1) instead. To get a de-fragmented frame, use `newframe = frame.copy()`\n",
            "  muestras['Muestra_' + str(i)]=_ # Con ello salvo cada una de las columnas del df\n",
            "/tmp/ipython-input-470-1324038430.py:7: PerformanceWarning: DataFrame is highly fragmented.  This is usually the result of calling `frame.insert` many times, which has poor performance.  Consider joining all columns at once using pd.concat(axis=1) instead. To get a de-fragmented frame, use `newframe = frame.copy()`\n",
            "  muestras['Muestra_' + str(i)]=_ # Con ello salvo cada una de las columnas del df\n",
            "/tmp/ipython-input-470-1324038430.py:7: PerformanceWarning: DataFrame is highly fragmented.  This is usually the result of calling `frame.insert` many times, which has poor performance.  Consider joining all columns at once using pd.concat(axis=1) instead. To get a de-fragmented frame, use `newframe = frame.copy()`\n",
            "  muestras['Muestra_' + str(i)]=_ # Con ello salvo cada una de las columnas del df\n",
            "/tmp/ipython-input-470-1324038430.py:7: PerformanceWarning: DataFrame is highly fragmented.  This is usually the result of calling `frame.insert` many times, which has poor performance.  Consider joining all columns at once using pd.concat(axis=1) instead. To get a de-fragmented frame, use `newframe = frame.copy()`\n",
            "  muestras['Muestra_' + str(i)]=_ # Con ello salvo cada una de las columnas del df\n",
            "/tmp/ipython-input-470-1324038430.py:7: PerformanceWarning: DataFrame is highly fragmented.  This is usually the result of calling `frame.insert` many times, which has poor performance.  Consider joining all columns at once using pd.concat(axis=1) instead. To get a de-fragmented frame, use `newframe = frame.copy()`\n",
            "  muestras['Muestra_' + str(i)]=_ # Con ello salvo cada una de las columnas del df\n",
            "/tmp/ipython-input-470-1324038430.py:7: PerformanceWarning: DataFrame is highly fragmented.  This is usually the result of calling `frame.insert` many times, which has poor performance.  Consider joining all columns at once using pd.concat(axis=1) instead. To get a de-fragmented frame, use `newframe = frame.copy()`\n",
            "  muestras['Muestra_' + str(i)]=_ # Con ello salvo cada una de las columnas del df\n",
            "/tmp/ipython-input-470-1324038430.py:7: PerformanceWarning: DataFrame is highly fragmented.  This is usually the result of calling `frame.insert` many times, which has poor performance.  Consider joining all columns at once using pd.concat(axis=1) instead. To get a de-fragmented frame, use `newframe = frame.copy()`\n",
            "  muestras['Muestra_' + str(i)]=_ # Con ello salvo cada una de las columnas del df\n",
            "/tmp/ipython-input-470-1324038430.py:7: PerformanceWarning: DataFrame is highly fragmented.  This is usually the result of calling `frame.insert` many times, which has poor performance.  Consider joining all columns at once using pd.concat(axis=1) instead. To get a de-fragmented frame, use `newframe = frame.copy()`\n",
            "  muestras['Muestra_' + str(i)]=_ # Con ello salvo cada una de las columnas del df\n",
            "/tmp/ipython-input-470-1324038430.py:7: PerformanceWarning: DataFrame is highly fragmented.  This is usually the result of calling `frame.insert` many times, which has poor performance.  Consider joining all columns at once using pd.concat(axis=1) instead. To get a de-fragmented frame, use `newframe = frame.copy()`\n",
            "  muestras['Muestra_' + str(i)]=_ # Con ello salvo cada una de las columnas del df\n",
            "/tmp/ipython-input-470-1324038430.py:7: PerformanceWarning: DataFrame is highly fragmented.  This is usually the result of calling `frame.insert` many times, which has poor performance.  Consider joining all columns at once using pd.concat(axis=1) instead. To get a de-fragmented frame, use `newframe = frame.copy()`\n",
            "  muestras['Muestra_' + str(i)]=_ # Con ello salvo cada una de las columnas del df\n",
            "/tmp/ipython-input-470-1324038430.py:7: PerformanceWarning: DataFrame is highly fragmented.  This is usually the result of calling `frame.insert` many times, which has poor performance.  Consider joining all columns at once using pd.concat(axis=1) instead. To get a de-fragmented frame, use `newframe = frame.copy()`\n",
            "  muestras['Muestra_' + str(i)]=_ # Con ello salvo cada una de las columnas del df\n",
            "/tmp/ipython-input-470-1324038430.py:7: PerformanceWarning: DataFrame is highly fragmented.  This is usually the result of calling `frame.insert` many times, which has poor performance.  Consider joining all columns at once using pd.concat(axis=1) instead. To get a de-fragmented frame, use `newframe = frame.copy()`\n",
            "  muestras['Muestra_' + str(i)]=_ # Con ello salvo cada una de las columnas del df\n",
            "/tmp/ipython-input-470-1324038430.py:7: PerformanceWarning: DataFrame is highly fragmented.  This is usually the result of calling `frame.insert` many times, which has poor performance.  Consider joining all columns at once using pd.concat(axis=1) instead. To get a de-fragmented frame, use `newframe = frame.copy()`\n",
            "  muestras['Muestra_' + str(i)]=_ # Con ello salvo cada una de las columnas del df\n",
            "/tmp/ipython-input-470-1324038430.py:7: PerformanceWarning: DataFrame is highly fragmented.  This is usually the result of calling `frame.insert` many times, which has poor performance.  Consider joining all columns at once using pd.concat(axis=1) instead. To get a de-fragmented frame, use `newframe = frame.copy()`\n",
            "  muestras['Muestra_' + str(i)]=_ # Con ello salvo cada una de las columnas del df\n",
            "/tmp/ipython-input-470-1324038430.py:7: PerformanceWarning: DataFrame is highly fragmented.  This is usually the result of calling `frame.insert` many times, which has poor performance.  Consider joining all columns at once using pd.concat(axis=1) instead. To get a de-fragmented frame, use `newframe = frame.copy()`\n",
            "  muestras['Muestra_' + str(i)]=_ # Con ello salvo cada una de las columnas del df\n",
            "/tmp/ipython-input-470-1324038430.py:7: PerformanceWarning: DataFrame is highly fragmented.  This is usually the result of calling `frame.insert` many times, which has poor performance.  Consider joining all columns at once using pd.concat(axis=1) instead. To get a de-fragmented frame, use `newframe = frame.copy()`\n",
            "  muestras['Muestra_' + str(i)]=_ # Con ello salvo cada una de las columnas del df\n",
            "/tmp/ipython-input-470-1324038430.py:7: PerformanceWarning: DataFrame is highly fragmented.  This is usually the result of calling `frame.insert` many times, which has poor performance.  Consider joining all columns at once using pd.concat(axis=1) instead. To get a de-fragmented frame, use `newframe = frame.copy()`\n",
            "  muestras['Muestra_' + str(i)]=_ # Con ello salvo cada una de las columnas del df\n",
            "/tmp/ipython-input-470-1324038430.py:7: PerformanceWarning: DataFrame is highly fragmented.  This is usually the result of calling `frame.insert` many times, which has poor performance.  Consider joining all columns at once using pd.concat(axis=1) instead. To get a de-fragmented frame, use `newframe = frame.copy()`\n",
            "  muestras['Muestra_' + str(i)]=_ # Con ello salvo cada una de las columnas del df\n",
            "/tmp/ipython-input-470-1324038430.py:7: PerformanceWarning: DataFrame is highly fragmented.  This is usually the result of calling `frame.insert` many times, which has poor performance.  Consider joining all columns at once using pd.concat(axis=1) instead. To get a de-fragmented frame, use `newframe = frame.copy()`\n",
            "  muestras['Muestra_' + str(i)]=_ # Con ello salvo cada una de las columnas del df\n",
            "/tmp/ipython-input-470-1324038430.py:7: PerformanceWarning: DataFrame is highly fragmented.  This is usually the result of calling `frame.insert` many times, which has poor performance.  Consider joining all columns at once using pd.concat(axis=1) instead. To get a de-fragmented frame, use `newframe = frame.copy()`\n",
            "  muestras['Muestra_' + str(i)]=_ # Con ello salvo cada una de las columnas del df\n",
            "/tmp/ipython-input-470-1324038430.py:7: PerformanceWarning: DataFrame is highly fragmented.  This is usually the result of calling `frame.insert` many times, which has poor performance.  Consider joining all columns at once using pd.concat(axis=1) instead. To get a de-fragmented frame, use `newframe = frame.copy()`\n",
            "  muestras['Muestra_' + str(i)]=_ # Con ello salvo cada una de las columnas del df\n",
            "/tmp/ipython-input-470-1324038430.py:7: PerformanceWarning: DataFrame is highly fragmented.  This is usually the result of calling `frame.insert` many times, which has poor performance.  Consider joining all columns at once using pd.concat(axis=1) instead. To get a de-fragmented frame, use `newframe = frame.copy()`\n",
            "  muestras['Muestra_' + str(i)]=_ # Con ello salvo cada una de las columnas del df\n",
            "/tmp/ipython-input-470-1324038430.py:7: PerformanceWarning: DataFrame is highly fragmented.  This is usually the result of calling `frame.insert` many times, which has poor performance.  Consider joining all columns at once using pd.concat(axis=1) instead. To get a de-fragmented frame, use `newframe = frame.copy()`\n",
            "  muestras['Muestra_' + str(i)]=_ # Con ello salvo cada una de las columnas del df\n",
            "/tmp/ipython-input-470-1324038430.py:7: PerformanceWarning: DataFrame is highly fragmented.  This is usually the result of calling `frame.insert` many times, which has poor performance.  Consider joining all columns at once using pd.concat(axis=1) instead. To get a de-fragmented frame, use `newframe = frame.copy()`\n",
            "  muestras['Muestra_' + str(i)]=_ # Con ello salvo cada una de las columnas del df\n",
            "/tmp/ipython-input-470-1324038430.py:7: PerformanceWarning: DataFrame is highly fragmented.  This is usually the result of calling `frame.insert` many times, which has poor performance.  Consider joining all columns at once using pd.concat(axis=1) instead. To get a de-fragmented frame, use `newframe = frame.copy()`\n",
            "  muestras['Muestra_' + str(i)]=_ # Con ello salvo cada una de las columnas del df\n",
            "/tmp/ipython-input-470-1324038430.py:7: PerformanceWarning: DataFrame is highly fragmented.  This is usually the result of calling `frame.insert` many times, which has poor performance.  Consider joining all columns at once using pd.concat(axis=1) instead. To get a de-fragmented frame, use `newframe = frame.copy()`\n",
            "  muestras['Muestra_' + str(i)]=_ # Con ello salvo cada una de las columnas del df\n",
            "/tmp/ipython-input-470-1324038430.py:7: PerformanceWarning: DataFrame is highly fragmented.  This is usually the result of calling `frame.insert` many times, which has poor performance.  Consider joining all columns at once using pd.concat(axis=1) instead. To get a de-fragmented frame, use `newframe = frame.copy()`\n",
            "  muestras['Muestra_' + str(i)]=_ # Con ello salvo cada una de las columnas del df\n",
            "/tmp/ipython-input-470-1324038430.py:7: PerformanceWarning: DataFrame is highly fragmented.  This is usually the result of calling `frame.insert` many times, which has poor performance.  Consider joining all columns at once using pd.concat(axis=1) instead. To get a de-fragmented frame, use `newframe = frame.copy()`\n",
            "  muestras['Muestra_' + str(i)]=_ # Con ello salvo cada una de las columnas del df\n",
            "/tmp/ipython-input-470-1324038430.py:7: PerformanceWarning: DataFrame is highly fragmented.  This is usually the result of calling `frame.insert` many times, which has poor performance.  Consider joining all columns at once using pd.concat(axis=1) instead. To get a de-fragmented frame, use `newframe = frame.copy()`\n",
            "  muestras['Muestra_' + str(i)]=_ # Con ello salvo cada una de las columnas del df\n",
            "/tmp/ipython-input-470-1324038430.py:7: PerformanceWarning: DataFrame is highly fragmented.  This is usually the result of calling `frame.insert` many times, which has poor performance.  Consider joining all columns at once using pd.concat(axis=1) instead. To get a de-fragmented frame, use `newframe = frame.copy()`\n",
            "  muestras['Muestra_' + str(i)]=_ # Con ello salvo cada una de las columnas del df\n",
            "/tmp/ipython-input-470-1324038430.py:7: PerformanceWarning: DataFrame is highly fragmented.  This is usually the result of calling `frame.insert` many times, which has poor performance.  Consider joining all columns at once using pd.concat(axis=1) instead. To get a de-fragmented frame, use `newframe = frame.copy()`\n",
            "  muestras['Muestra_' + str(i)]=_ # Con ello salvo cada una de las columnas del df\n",
            "/tmp/ipython-input-470-1324038430.py:7: PerformanceWarning: DataFrame is highly fragmented.  This is usually the result of calling `frame.insert` many times, which has poor performance.  Consider joining all columns at once using pd.concat(axis=1) instead. To get a de-fragmented frame, use `newframe = frame.copy()`\n",
            "  muestras['Muestra_' + str(i)]=_ # Con ello salvo cada una de las columnas del df\n",
            "/tmp/ipython-input-470-1324038430.py:7: PerformanceWarning: DataFrame is highly fragmented.  This is usually the result of calling `frame.insert` many times, which has poor performance.  Consider joining all columns at once using pd.concat(axis=1) instead. To get a de-fragmented frame, use `newframe = frame.copy()`\n",
            "  muestras['Muestra_' + str(i)]=_ # Con ello salvo cada una de las columnas del df\n",
            "/tmp/ipython-input-470-1324038430.py:7: PerformanceWarning: DataFrame is highly fragmented.  This is usually the result of calling `frame.insert` many times, which has poor performance.  Consider joining all columns at once using pd.concat(axis=1) instead. To get a de-fragmented frame, use `newframe = frame.copy()`\n",
            "  muestras['Muestra_' + str(i)]=_ # Con ello salvo cada una de las columnas del df\n",
            "/tmp/ipython-input-470-1324038430.py:7: PerformanceWarning: DataFrame is highly fragmented.  This is usually the result of calling `frame.insert` many times, which has poor performance.  Consider joining all columns at once using pd.concat(axis=1) instead. To get a de-fragmented frame, use `newframe = frame.copy()`\n",
            "  muestras['Muestra_' + str(i)]=_ # Con ello salvo cada una de las columnas del df\n",
            "/tmp/ipython-input-470-1324038430.py:7: PerformanceWarning: DataFrame is highly fragmented.  This is usually the result of calling `frame.insert` many times, which has poor performance.  Consider joining all columns at once using pd.concat(axis=1) instead. To get a de-fragmented frame, use `newframe = frame.copy()`\n",
            "  muestras['Muestra_' + str(i)]=_ # Con ello salvo cada una de las columnas del df\n",
            "/tmp/ipython-input-470-1324038430.py:7: PerformanceWarning: DataFrame is highly fragmented.  This is usually the result of calling `frame.insert` many times, which has poor performance.  Consider joining all columns at once using pd.concat(axis=1) instead. To get a de-fragmented frame, use `newframe = frame.copy()`\n",
            "  muestras['Muestra_' + str(i)]=_ # Con ello salvo cada una de las columnas del df\n",
            "/tmp/ipython-input-470-1324038430.py:7: PerformanceWarning: DataFrame is highly fragmented.  This is usually the result of calling `frame.insert` many times, which has poor performance.  Consider joining all columns at once using pd.concat(axis=1) instead. To get a de-fragmented frame, use `newframe = frame.copy()`\n",
            "  muestras['Muestra_' + str(i)]=_ # Con ello salvo cada una de las columnas del df\n",
            "/tmp/ipython-input-470-1324038430.py:7: PerformanceWarning: DataFrame is highly fragmented.  This is usually the result of calling `frame.insert` many times, which has poor performance.  Consider joining all columns at once using pd.concat(axis=1) instead. To get a de-fragmented frame, use `newframe = frame.copy()`\n",
            "  muestras['Muestra_' + str(i)]=_ # Con ello salvo cada una de las columnas del df\n",
            "/tmp/ipython-input-470-1324038430.py:7: PerformanceWarning: DataFrame is highly fragmented.  This is usually the result of calling `frame.insert` many times, which has poor performance.  Consider joining all columns at once using pd.concat(axis=1) instead. To get a de-fragmented frame, use `newframe = frame.copy()`\n",
            "  muestras['Muestra_' + str(i)]=_ # Con ello salvo cada una de las columnas del df\n",
            "/tmp/ipython-input-470-1324038430.py:7: PerformanceWarning: DataFrame is highly fragmented.  This is usually the result of calling `frame.insert` many times, which has poor performance.  Consider joining all columns at once using pd.concat(axis=1) instead. To get a de-fragmented frame, use `newframe = frame.copy()`\n",
            "  muestras['Muestra_' + str(i)]=_ # Con ello salvo cada una de las columnas del df\n",
            "/tmp/ipython-input-470-1324038430.py:7: PerformanceWarning: DataFrame is highly fragmented.  This is usually the result of calling `frame.insert` many times, which has poor performance.  Consider joining all columns at once using pd.concat(axis=1) instead. To get a de-fragmented frame, use `newframe = frame.copy()`\n",
            "  muestras['Muestra_' + str(i)]=_ # Con ello salvo cada una de las columnas del df\n",
            "/tmp/ipython-input-470-1324038430.py:7: PerformanceWarning: DataFrame is highly fragmented.  This is usually the result of calling `frame.insert` many times, which has poor performance.  Consider joining all columns at once using pd.concat(axis=1) instead. To get a de-fragmented frame, use `newframe = frame.copy()`\n",
            "  muestras['Muestra_' + str(i)]=_ # Con ello salvo cada una de las columnas del df\n",
            "/tmp/ipython-input-470-1324038430.py:7: PerformanceWarning: DataFrame is highly fragmented.  This is usually the result of calling `frame.insert` many times, which has poor performance.  Consider joining all columns at once using pd.concat(axis=1) instead. To get a de-fragmented frame, use `newframe = frame.copy()`\n",
            "  muestras['Muestra_' + str(i)]=_ # Con ello salvo cada una de las columnas del df\n",
            "/tmp/ipython-input-470-1324038430.py:7: PerformanceWarning: DataFrame is highly fragmented.  This is usually the result of calling `frame.insert` many times, which has poor performance.  Consider joining all columns at once using pd.concat(axis=1) instead. To get a de-fragmented frame, use `newframe = frame.copy()`\n",
            "  muestras['Muestra_' + str(i)]=_ # Con ello salvo cada una de las columnas del df\n",
            "/tmp/ipython-input-470-1324038430.py:7: PerformanceWarning: DataFrame is highly fragmented.  This is usually the result of calling `frame.insert` many times, which has poor performance.  Consider joining all columns at once using pd.concat(axis=1) instead. To get a de-fragmented frame, use `newframe = frame.copy()`\n",
            "  muestras['Muestra_' + str(i)]=_ # Con ello salvo cada una de las columnas del df\n",
            "/tmp/ipython-input-470-1324038430.py:7: PerformanceWarning: DataFrame is highly fragmented.  This is usually the result of calling `frame.insert` many times, which has poor performance.  Consider joining all columns at once using pd.concat(axis=1) instead. To get a de-fragmented frame, use `newframe = frame.copy()`\n",
            "  muestras['Muestra_' + str(i)]=_ # Con ello salvo cada una de las columnas del df\n",
            "/tmp/ipython-input-470-1324038430.py:7: PerformanceWarning: DataFrame is highly fragmented.  This is usually the result of calling `frame.insert` many times, which has poor performance.  Consider joining all columns at once using pd.concat(axis=1) instead. To get a de-fragmented frame, use `newframe = frame.copy()`\n",
            "  muestras['Muestra_' + str(i)]=_ # Con ello salvo cada una de las columnas del df\n",
            "/tmp/ipython-input-470-1324038430.py:7: PerformanceWarning: DataFrame is highly fragmented.  This is usually the result of calling `frame.insert` many times, which has poor performance.  Consider joining all columns at once using pd.concat(axis=1) instead. To get a de-fragmented frame, use `newframe = frame.copy()`\n",
            "  muestras['Muestra_' + str(i)]=_ # Con ello salvo cada una de las columnas del df\n",
            "/tmp/ipython-input-470-1324038430.py:7: PerformanceWarning: DataFrame is highly fragmented.  This is usually the result of calling `frame.insert` many times, which has poor performance.  Consider joining all columns at once using pd.concat(axis=1) instead. To get a de-fragmented frame, use `newframe = frame.copy()`\n",
            "  muestras['Muestra_' + str(i)]=_ # Con ello salvo cada una de las columnas del df\n",
            "/tmp/ipython-input-470-1324038430.py:7: PerformanceWarning: DataFrame is highly fragmented.  This is usually the result of calling `frame.insert` many times, which has poor performance.  Consider joining all columns at once using pd.concat(axis=1) instead. To get a de-fragmented frame, use `newframe = frame.copy()`\n",
            "  muestras['Muestra_' + str(i)]=_ # Con ello salvo cada una de las columnas del df\n",
            "/tmp/ipython-input-470-1324038430.py:7: PerformanceWarning: DataFrame is highly fragmented.  This is usually the result of calling `frame.insert` many times, which has poor performance.  Consider joining all columns at once using pd.concat(axis=1) instead. To get a de-fragmented frame, use `newframe = frame.copy()`\n",
            "  muestras['Muestra_' + str(i)]=_ # Con ello salvo cada una de las columnas del df\n",
            "/tmp/ipython-input-470-1324038430.py:7: PerformanceWarning: DataFrame is highly fragmented.  This is usually the result of calling `frame.insert` many times, which has poor performance.  Consider joining all columns at once using pd.concat(axis=1) instead. To get a de-fragmented frame, use `newframe = frame.copy()`\n",
            "  muestras['Muestra_' + str(i)]=_ # Con ello salvo cada una de las columnas del df\n",
            "/tmp/ipython-input-470-1324038430.py:7: PerformanceWarning: DataFrame is highly fragmented.  This is usually the result of calling `frame.insert` many times, which has poor performance.  Consider joining all columns at once using pd.concat(axis=1) instead. To get a de-fragmented frame, use `newframe = frame.copy()`\n",
            "  muestras['Muestra_' + str(i)]=_ # Con ello salvo cada una de las columnas del df\n",
            "/tmp/ipython-input-470-1324038430.py:7: PerformanceWarning: DataFrame is highly fragmented.  This is usually the result of calling `frame.insert` many times, which has poor performance.  Consider joining all columns at once using pd.concat(axis=1) instead. To get a de-fragmented frame, use `newframe = frame.copy()`\n",
            "  muestras['Muestra_' + str(i)]=_ # Con ello salvo cada una de las columnas del df\n",
            "/tmp/ipython-input-470-1324038430.py:7: PerformanceWarning: DataFrame is highly fragmented.  This is usually the result of calling `frame.insert` many times, which has poor performance.  Consider joining all columns at once using pd.concat(axis=1) instead. To get a de-fragmented frame, use `newframe = frame.copy()`\n",
            "  muestras['Muestra_' + str(i)]=_ # Con ello salvo cada una de las columnas del df\n",
            "/tmp/ipython-input-470-1324038430.py:7: PerformanceWarning: DataFrame is highly fragmented.  This is usually the result of calling `frame.insert` many times, which has poor performance.  Consider joining all columns at once using pd.concat(axis=1) instead. To get a de-fragmented frame, use `newframe = frame.copy()`\n",
            "  muestras['Muestra_' + str(i)]=_ # Con ello salvo cada una de las columnas del df\n",
            "/tmp/ipython-input-470-1324038430.py:7: PerformanceWarning: DataFrame is highly fragmented.  This is usually the result of calling `frame.insert` many times, which has poor performance.  Consider joining all columns at once using pd.concat(axis=1) instead. To get a de-fragmented frame, use `newframe = frame.copy()`\n",
            "  muestras['Muestra_' + str(i)]=_ # Con ello salvo cada una de las columnas del df\n",
            "/tmp/ipython-input-470-1324038430.py:7: PerformanceWarning: DataFrame is highly fragmented.  This is usually the result of calling `frame.insert` many times, which has poor performance.  Consider joining all columns at once using pd.concat(axis=1) instead. To get a de-fragmented frame, use `newframe = frame.copy()`\n",
            "  muestras['Muestra_' + str(i)]=_ # Con ello salvo cada una de las columnas del df\n",
            "/tmp/ipython-input-470-1324038430.py:7: PerformanceWarning: DataFrame is highly fragmented.  This is usually the result of calling `frame.insert` many times, which has poor performance.  Consider joining all columns at once using pd.concat(axis=1) instead. To get a de-fragmented frame, use `newframe = frame.copy()`\n",
            "  muestras['Muestra_' + str(i)]=_ # Con ello salvo cada una de las columnas del df\n",
            "/tmp/ipython-input-470-1324038430.py:7: PerformanceWarning: DataFrame is highly fragmented.  This is usually the result of calling `frame.insert` many times, which has poor performance.  Consider joining all columns at once using pd.concat(axis=1) instead. To get a de-fragmented frame, use `newframe = frame.copy()`\n",
            "  muestras['Muestra_' + str(i)]=_ # Con ello salvo cada una de las columnas del df\n",
            "/tmp/ipython-input-470-1324038430.py:7: PerformanceWarning: DataFrame is highly fragmented.  This is usually the result of calling `frame.insert` many times, which has poor performance.  Consider joining all columns at once using pd.concat(axis=1) instead. To get a de-fragmented frame, use `newframe = frame.copy()`\n",
            "  muestras['Muestra_' + str(i)]=_ # Con ello salvo cada una de las columnas del df\n",
            "/tmp/ipython-input-470-1324038430.py:7: PerformanceWarning: DataFrame is highly fragmented.  This is usually the result of calling `frame.insert` many times, which has poor performance.  Consider joining all columns at once using pd.concat(axis=1) instead. To get a de-fragmented frame, use `newframe = frame.copy()`\n",
            "  muestras['Muestra_' + str(i)]=_ # Con ello salvo cada una de las columnas del df\n",
            "/tmp/ipython-input-470-1324038430.py:7: PerformanceWarning: DataFrame is highly fragmented.  This is usually the result of calling `frame.insert` many times, which has poor performance.  Consider joining all columns at once using pd.concat(axis=1) instead. To get a de-fragmented frame, use `newframe = frame.copy()`\n",
            "  muestras['Muestra_' + str(i)]=_ # Con ello salvo cada una de las columnas del df\n",
            "/tmp/ipython-input-470-1324038430.py:7: PerformanceWarning: DataFrame is highly fragmented.  This is usually the result of calling `frame.insert` many times, which has poor performance.  Consider joining all columns at once using pd.concat(axis=1) instead. To get a de-fragmented frame, use `newframe = frame.copy()`\n",
            "  muestras['Muestra_' + str(i)]=_ # Con ello salvo cada una de las columnas del df\n",
            "/tmp/ipython-input-470-1324038430.py:7: PerformanceWarning: DataFrame is highly fragmented.  This is usually the result of calling `frame.insert` many times, which has poor performance.  Consider joining all columns at once using pd.concat(axis=1) instead. To get a de-fragmented frame, use `newframe = frame.copy()`\n",
            "  muestras['Muestra_' + str(i)]=_ # Con ello salvo cada una de las columnas del df\n",
            "/tmp/ipython-input-470-1324038430.py:7: PerformanceWarning: DataFrame is highly fragmented.  This is usually the result of calling `frame.insert` many times, which has poor performance.  Consider joining all columns at once using pd.concat(axis=1) instead. To get a de-fragmented frame, use `newframe = frame.copy()`\n",
            "  muestras['Muestra_' + str(i)]=_ # Con ello salvo cada una de las columnas del df\n",
            "/tmp/ipython-input-470-1324038430.py:7: PerformanceWarning: DataFrame is highly fragmented.  This is usually the result of calling `frame.insert` many times, which has poor performance.  Consider joining all columns at once using pd.concat(axis=1) instead. To get a de-fragmented frame, use `newframe = frame.copy()`\n",
            "  muestras['Muestra_' + str(i)]=_ # Con ello salvo cada una de las columnas del df\n",
            "/tmp/ipython-input-470-1324038430.py:7: PerformanceWarning: DataFrame is highly fragmented.  This is usually the result of calling `frame.insert` many times, which has poor performance.  Consider joining all columns at once using pd.concat(axis=1) instead. To get a de-fragmented frame, use `newframe = frame.copy()`\n",
            "  muestras['Muestra_' + str(i)]=_ # Con ello salvo cada una de las columnas del df\n",
            "/tmp/ipython-input-470-1324038430.py:7: PerformanceWarning: DataFrame is highly fragmented.  This is usually the result of calling `frame.insert` many times, which has poor performance.  Consider joining all columns at once using pd.concat(axis=1) instead. To get a de-fragmented frame, use `newframe = frame.copy()`\n",
            "  muestras['Muestra_' + str(i)]=_ # Con ello salvo cada una de las columnas del df\n",
            "/tmp/ipython-input-470-1324038430.py:7: PerformanceWarning: DataFrame is highly fragmented.  This is usually the result of calling `frame.insert` many times, which has poor performance.  Consider joining all columns at once using pd.concat(axis=1) instead. To get a de-fragmented frame, use `newframe = frame.copy()`\n",
            "  muestras['Muestra_' + str(i)]=_ # Con ello salvo cada una de las columnas del df\n",
            "/tmp/ipython-input-470-1324038430.py:7: PerformanceWarning: DataFrame is highly fragmented.  This is usually the result of calling `frame.insert` many times, which has poor performance.  Consider joining all columns at once using pd.concat(axis=1) instead. To get a de-fragmented frame, use `newframe = frame.copy()`\n",
            "  muestras['Muestra_' + str(i)]=_ # Con ello salvo cada una de las columnas del df\n",
            "/tmp/ipython-input-470-1324038430.py:7: PerformanceWarning: DataFrame is highly fragmented.  This is usually the result of calling `frame.insert` many times, which has poor performance.  Consider joining all columns at once using pd.concat(axis=1) instead. To get a de-fragmented frame, use `newframe = frame.copy()`\n",
            "  muestras['Muestra_' + str(i)]=_ # Con ello salvo cada una de las columnas del df\n",
            "/tmp/ipython-input-470-1324038430.py:7: PerformanceWarning: DataFrame is highly fragmented.  This is usually the result of calling `frame.insert` many times, which has poor performance.  Consider joining all columns at once using pd.concat(axis=1) instead. To get a de-fragmented frame, use `newframe = frame.copy()`\n",
            "  muestras['Muestra_' + str(i)]=_ # Con ello salvo cada una de las columnas del df\n",
            "/tmp/ipython-input-470-1324038430.py:7: PerformanceWarning: DataFrame is highly fragmented.  This is usually the result of calling `frame.insert` many times, which has poor performance.  Consider joining all columns at once using pd.concat(axis=1) instead. To get a de-fragmented frame, use `newframe = frame.copy()`\n",
            "  muestras['Muestra_' + str(i)]=_ # Con ello salvo cada una de las columnas del df\n",
            "/tmp/ipython-input-470-1324038430.py:7: PerformanceWarning: DataFrame is highly fragmented.  This is usually the result of calling `frame.insert` many times, which has poor performance.  Consider joining all columns at once using pd.concat(axis=1) instead. To get a de-fragmented frame, use `newframe = frame.copy()`\n",
            "  muestras['Muestra_' + str(i)]=_ # Con ello salvo cada una de las columnas del df\n",
            "/tmp/ipython-input-470-1324038430.py:7: PerformanceWarning: DataFrame is highly fragmented.  This is usually the result of calling `frame.insert` many times, which has poor performance.  Consider joining all columns at once using pd.concat(axis=1) instead. To get a de-fragmented frame, use `newframe = frame.copy()`\n",
            "  muestras['Muestra_' + str(i)]=_ # Con ello salvo cada una de las columnas del df\n",
            "/tmp/ipython-input-470-1324038430.py:7: PerformanceWarning: DataFrame is highly fragmented.  This is usually the result of calling `frame.insert` many times, which has poor performance.  Consider joining all columns at once using pd.concat(axis=1) instead. To get a de-fragmented frame, use `newframe = frame.copy()`\n",
            "  muestras['Muestra_' + str(i)]=_ # Con ello salvo cada una de las columnas del df\n",
            "/tmp/ipython-input-470-1324038430.py:7: PerformanceWarning: DataFrame is highly fragmented.  This is usually the result of calling `frame.insert` many times, which has poor performance.  Consider joining all columns at once using pd.concat(axis=1) instead. To get a de-fragmented frame, use `newframe = frame.copy()`\n",
            "  muestras['Muestra_' + str(i)]=_ # Con ello salvo cada una de las columnas del df\n",
            "/tmp/ipython-input-470-1324038430.py:7: PerformanceWarning: DataFrame is highly fragmented.  This is usually the result of calling `frame.insert` many times, which has poor performance.  Consider joining all columns at once using pd.concat(axis=1) instead. To get a de-fragmented frame, use `newframe = frame.copy()`\n",
            "  muestras['Muestra_' + str(i)]=_ # Con ello salvo cada una de las columnas del df\n",
            "/tmp/ipython-input-470-1324038430.py:7: PerformanceWarning: DataFrame is highly fragmented.  This is usually the result of calling `frame.insert` many times, which has poor performance.  Consider joining all columns at once using pd.concat(axis=1) instead. To get a de-fragmented frame, use `newframe = frame.copy()`\n",
            "  muestras['Muestra_' + str(i)]=_ # Con ello salvo cada una de las columnas del df\n",
            "/tmp/ipython-input-470-1324038430.py:7: PerformanceWarning: DataFrame is highly fragmented.  This is usually the result of calling `frame.insert` many times, which has poor performance.  Consider joining all columns at once using pd.concat(axis=1) instead. To get a de-fragmented frame, use `newframe = frame.copy()`\n",
            "  muestras['Muestra_' + str(i)]=_ # Con ello salvo cada una de las columnas del df\n",
            "/tmp/ipython-input-470-1324038430.py:7: PerformanceWarning: DataFrame is highly fragmented.  This is usually the result of calling `frame.insert` many times, which has poor performance.  Consider joining all columns at once using pd.concat(axis=1) instead. To get a de-fragmented frame, use `newframe = frame.copy()`\n",
            "  muestras['Muestra_' + str(i)]=_ # Con ello salvo cada una de las columnas del df\n",
            "/tmp/ipython-input-470-1324038430.py:7: PerformanceWarning: DataFrame is highly fragmented.  This is usually the result of calling `frame.insert` many times, which has poor performance.  Consider joining all columns at once using pd.concat(axis=1) instead. To get a de-fragmented frame, use `newframe = frame.copy()`\n",
            "  muestras['Muestra_' + str(i)]=_ # Con ello salvo cada una de las columnas del df\n",
            "/tmp/ipython-input-470-1324038430.py:7: PerformanceWarning: DataFrame is highly fragmented.  This is usually the result of calling `frame.insert` many times, which has poor performance.  Consider joining all columns at once using pd.concat(axis=1) instead. To get a de-fragmented frame, use `newframe = frame.copy()`\n",
            "  muestras['Muestra_' + str(i)]=_ # Con ello salvo cada una de las columnas del df\n",
            "/tmp/ipython-input-470-1324038430.py:7: PerformanceWarning: DataFrame is highly fragmented.  This is usually the result of calling `frame.insert` many times, which has poor performance.  Consider joining all columns at once using pd.concat(axis=1) instead. To get a de-fragmented frame, use `newframe = frame.copy()`\n",
            "  muestras['Muestra_' + str(i)]=_ # Con ello salvo cada una de las columnas del df\n",
            "/tmp/ipython-input-470-1324038430.py:7: PerformanceWarning: DataFrame is highly fragmented.  This is usually the result of calling `frame.insert` many times, which has poor performance.  Consider joining all columns at once using pd.concat(axis=1) instead. To get a de-fragmented frame, use `newframe = frame.copy()`\n",
            "  muestras['Muestra_' + str(i)]=_ # Con ello salvo cada una de las columnas del df\n",
            "/tmp/ipython-input-470-1324038430.py:7: PerformanceWarning: DataFrame is highly fragmented.  This is usually the result of calling `frame.insert` many times, which has poor performance.  Consider joining all columns at once using pd.concat(axis=1) instead. To get a de-fragmented frame, use `newframe = frame.copy()`\n",
            "  muestras['Muestra_' + str(i)]=_ # Con ello salvo cada una de las columnas del df\n",
            "/tmp/ipython-input-470-1324038430.py:7: PerformanceWarning: DataFrame is highly fragmented.  This is usually the result of calling `frame.insert` many times, which has poor performance.  Consider joining all columns at once using pd.concat(axis=1) instead. To get a de-fragmented frame, use `newframe = frame.copy()`\n",
            "  muestras['Muestra_' + str(i)]=_ # Con ello salvo cada una de las columnas del df\n",
            "/tmp/ipython-input-470-1324038430.py:7: PerformanceWarning: DataFrame is highly fragmented.  This is usually the result of calling `frame.insert` many times, which has poor performance.  Consider joining all columns at once using pd.concat(axis=1) instead. To get a de-fragmented frame, use `newframe = frame.copy()`\n",
            "  muestras['Muestra_' + str(i)]=_ # Con ello salvo cada una de las columnas del df\n",
            "/tmp/ipython-input-470-1324038430.py:7: PerformanceWarning: DataFrame is highly fragmented.  This is usually the result of calling `frame.insert` many times, which has poor performance.  Consider joining all columns at once using pd.concat(axis=1) instead. To get a de-fragmented frame, use `newframe = frame.copy()`\n",
            "  muestras['Muestra_' + str(i)]=_ # Con ello salvo cada una de las columnas del df\n",
            "/tmp/ipython-input-470-1324038430.py:7: PerformanceWarning: DataFrame is highly fragmented.  This is usually the result of calling `frame.insert` many times, which has poor performance.  Consider joining all columns at once using pd.concat(axis=1) instead. To get a de-fragmented frame, use `newframe = frame.copy()`\n",
            "  muestras['Muestra_' + str(i)]=_ # Con ello salvo cada una de las columnas del df\n",
            "/tmp/ipython-input-470-1324038430.py:7: PerformanceWarning: DataFrame is highly fragmented.  This is usually the result of calling `frame.insert` many times, which has poor performance.  Consider joining all columns at once using pd.concat(axis=1) instead. To get a de-fragmented frame, use `newframe = frame.copy()`\n",
            "  muestras['Muestra_' + str(i)]=_ # Con ello salvo cada una de las columnas del df\n",
            "/tmp/ipython-input-470-1324038430.py:7: PerformanceWarning: DataFrame is highly fragmented.  This is usually the result of calling `frame.insert` many times, which has poor performance.  Consider joining all columns at once using pd.concat(axis=1) instead. To get a de-fragmented frame, use `newframe = frame.copy()`\n",
            "  muestras['Muestra_' + str(i)]=_ # Con ello salvo cada una de las columnas del df\n",
            "/tmp/ipython-input-470-1324038430.py:7: PerformanceWarning: DataFrame is highly fragmented.  This is usually the result of calling `frame.insert` many times, which has poor performance.  Consider joining all columns at once using pd.concat(axis=1) instead. To get a de-fragmented frame, use `newframe = frame.copy()`\n",
            "  muestras['Muestra_' + str(i)]=_ # Con ello salvo cada una de las columnas del df\n",
            "/tmp/ipython-input-470-1324038430.py:7: PerformanceWarning: DataFrame is highly fragmented.  This is usually the result of calling `frame.insert` many times, which has poor performance.  Consider joining all columns at once using pd.concat(axis=1) instead. To get a de-fragmented frame, use `newframe = frame.copy()`\n",
            "  muestras['Muestra_' + str(i)]=_ # Con ello salvo cada una de las columnas del df\n",
            "/tmp/ipython-input-470-1324038430.py:7: PerformanceWarning: DataFrame is highly fragmented.  This is usually the result of calling `frame.insert` many times, which has poor performance.  Consider joining all columns at once using pd.concat(axis=1) instead. To get a de-fragmented frame, use `newframe = frame.copy()`\n",
            "  muestras['Muestra_' + str(i)]=_ # Con ello salvo cada una de las columnas del df\n",
            "/tmp/ipython-input-470-1324038430.py:7: PerformanceWarning: DataFrame is highly fragmented.  This is usually the result of calling `frame.insert` many times, which has poor performance.  Consider joining all columns at once using pd.concat(axis=1) instead. To get a de-fragmented frame, use `newframe = frame.copy()`\n",
            "  muestras['Muestra_' + str(i)]=_ # Con ello salvo cada una de las columnas del df\n",
            "/tmp/ipython-input-470-1324038430.py:7: PerformanceWarning: DataFrame is highly fragmented.  This is usually the result of calling `frame.insert` many times, which has poor performance.  Consider joining all columns at once using pd.concat(axis=1) instead. To get a de-fragmented frame, use `newframe = frame.copy()`\n",
            "  muestras['Muestra_' + str(i)]=_ # Con ello salvo cada una de las columnas del df\n",
            "/tmp/ipython-input-470-1324038430.py:7: PerformanceWarning: DataFrame is highly fragmented.  This is usually the result of calling `frame.insert` many times, which has poor performance.  Consider joining all columns at once using pd.concat(axis=1) instead. To get a de-fragmented frame, use `newframe = frame.copy()`\n",
            "  muestras['Muestra_' + str(i)]=_ # Con ello salvo cada una de las columnas del df\n",
            "/tmp/ipython-input-470-1324038430.py:7: PerformanceWarning: DataFrame is highly fragmented.  This is usually the result of calling `frame.insert` many times, which has poor performance.  Consider joining all columns at once using pd.concat(axis=1) instead. To get a de-fragmented frame, use `newframe = frame.copy()`\n",
            "  muestras['Muestra_' + str(i)]=_ # Con ello salvo cada una de las columnas del df\n",
            "/tmp/ipython-input-470-1324038430.py:7: PerformanceWarning: DataFrame is highly fragmented.  This is usually the result of calling `frame.insert` many times, which has poor performance.  Consider joining all columns at once using pd.concat(axis=1) instead. To get a de-fragmented frame, use `newframe = frame.copy()`\n",
            "  muestras['Muestra_' + str(i)]=_ # Con ello salvo cada una de las columnas del df\n",
            "/tmp/ipython-input-470-1324038430.py:7: PerformanceWarning: DataFrame is highly fragmented.  This is usually the result of calling `frame.insert` many times, which has poor performance.  Consider joining all columns at once using pd.concat(axis=1) instead. To get a de-fragmented frame, use `newframe = frame.copy()`\n",
            "  muestras['Muestra_' + str(i)]=_ # Con ello salvo cada una de las columnas del df\n",
            "/tmp/ipython-input-470-1324038430.py:7: PerformanceWarning: DataFrame is highly fragmented.  This is usually the result of calling `frame.insert` many times, which has poor performance.  Consider joining all columns at once using pd.concat(axis=1) instead. To get a de-fragmented frame, use `newframe = frame.copy()`\n",
            "  muestras['Muestra_' + str(i)]=_ # Con ello salvo cada una de las columnas del df\n",
            "/tmp/ipython-input-470-1324038430.py:7: PerformanceWarning: DataFrame is highly fragmented.  This is usually the result of calling `frame.insert` many times, which has poor performance.  Consider joining all columns at once using pd.concat(axis=1) instead. To get a de-fragmented frame, use `newframe = frame.copy()`\n",
            "  muestras['Muestra_' + str(i)]=_ # Con ello salvo cada una de las columnas del df\n",
            "/tmp/ipython-input-470-1324038430.py:7: PerformanceWarning: DataFrame is highly fragmented.  This is usually the result of calling `frame.insert` many times, which has poor performance.  Consider joining all columns at once using pd.concat(axis=1) instead. To get a de-fragmented frame, use `newframe = frame.copy()`\n",
            "  muestras['Muestra_' + str(i)]=_ # Con ello salvo cada una de las columnas del df\n",
            "/tmp/ipython-input-470-1324038430.py:7: PerformanceWarning: DataFrame is highly fragmented.  This is usually the result of calling `frame.insert` many times, which has poor performance.  Consider joining all columns at once using pd.concat(axis=1) instead. To get a de-fragmented frame, use `newframe = frame.copy()`\n",
            "  muestras['Muestra_' + str(i)]=_ # Con ello salvo cada una de las columnas del df\n",
            "/tmp/ipython-input-470-1324038430.py:7: PerformanceWarning: DataFrame is highly fragmented.  This is usually the result of calling `frame.insert` many times, which has poor performance.  Consider joining all columns at once using pd.concat(axis=1) instead. To get a de-fragmented frame, use `newframe = frame.copy()`\n",
            "  muestras['Muestra_' + str(i)]=_ # Con ello salvo cada una de las columnas del df\n",
            "/tmp/ipython-input-470-1324038430.py:7: PerformanceWarning: DataFrame is highly fragmented.  This is usually the result of calling `frame.insert` many times, which has poor performance.  Consider joining all columns at once using pd.concat(axis=1) instead. To get a de-fragmented frame, use `newframe = frame.copy()`\n",
            "  muestras['Muestra_' + str(i)]=_ # Con ello salvo cada una de las columnas del df\n",
            "/tmp/ipython-input-470-1324038430.py:7: PerformanceWarning: DataFrame is highly fragmented.  This is usually the result of calling `frame.insert` many times, which has poor performance.  Consider joining all columns at once using pd.concat(axis=1) instead. To get a de-fragmented frame, use `newframe = frame.copy()`\n",
            "  muestras['Muestra_' + str(i)]=_ # Con ello salvo cada una de las columnas del df\n",
            "/tmp/ipython-input-470-1324038430.py:7: PerformanceWarning: DataFrame is highly fragmented.  This is usually the result of calling `frame.insert` many times, which has poor performance.  Consider joining all columns at once using pd.concat(axis=1) instead. To get a de-fragmented frame, use `newframe = frame.copy()`\n",
            "  muestras['Muestra_' + str(i)]=_ # Con ello salvo cada una de las columnas del df\n",
            "/tmp/ipython-input-470-1324038430.py:7: PerformanceWarning: DataFrame is highly fragmented.  This is usually the result of calling `frame.insert` many times, which has poor performance.  Consider joining all columns at once using pd.concat(axis=1) instead. To get a de-fragmented frame, use `newframe = frame.copy()`\n",
            "  muestras['Muestra_' + str(i)]=_ # Con ello salvo cada una de las columnas del df\n",
            "/tmp/ipython-input-470-1324038430.py:7: PerformanceWarning: DataFrame is highly fragmented.  This is usually the result of calling `frame.insert` many times, which has poor performance.  Consider joining all columns at once using pd.concat(axis=1) instead. To get a de-fragmented frame, use `newframe = frame.copy()`\n",
            "  muestras['Muestra_' + str(i)]=_ # Con ello salvo cada una de las columnas del df\n",
            "/tmp/ipython-input-470-1324038430.py:7: PerformanceWarning: DataFrame is highly fragmented.  This is usually the result of calling `frame.insert` many times, which has poor performance.  Consider joining all columns at once using pd.concat(axis=1) instead. To get a de-fragmented frame, use `newframe = frame.copy()`\n",
            "  muestras['Muestra_' + str(i)]=_ # Con ello salvo cada una de las columnas del df\n",
            "/tmp/ipython-input-470-1324038430.py:7: PerformanceWarning: DataFrame is highly fragmented.  This is usually the result of calling `frame.insert` many times, which has poor performance.  Consider joining all columns at once using pd.concat(axis=1) instead. To get a de-fragmented frame, use `newframe = frame.copy()`\n",
            "  muestras['Muestra_' + str(i)]=_ # Con ello salvo cada una de las columnas del df\n",
            "/tmp/ipython-input-470-1324038430.py:7: PerformanceWarning: DataFrame is highly fragmented.  This is usually the result of calling `frame.insert` many times, which has poor performance.  Consider joining all columns at once using pd.concat(axis=1) instead. To get a de-fragmented frame, use `newframe = frame.copy()`\n",
            "  muestras['Muestra_' + str(i)]=_ # Con ello salvo cada una de las columnas del df\n",
            "/tmp/ipython-input-470-1324038430.py:7: PerformanceWarning: DataFrame is highly fragmented.  This is usually the result of calling `frame.insert` many times, which has poor performance.  Consider joining all columns at once using pd.concat(axis=1) instead. To get a de-fragmented frame, use `newframe = frame.copy()`\n",
            "  muestras['Muestra_' + str(i)]=_ # Con ello salvo cada una de las columnas del df\n",
            "/tmp/ipython-input-470-1324038430.py:7: PerformanceWarning: DataFrame is highly fragmented.  This is usually the result of calling `frame.insert` many times, which has poor performance.  Consider joining all columns at once using pd.concat(axis=1) instead. To get a de-fragmented frame, use `newframe = frame.copy()`\n",
            "  muestras['Muestra_' + str(i)]=_ # Con ello salvo cada una de las columnas del df\n",
            "/tmp/ipython-input-470-1324038430.py:7: PerformanceWarning: DataFrame is highly fragmented.  This is usually the result of calling `frame.insert` many times, which has poor performance.  Consider joining all columns at once using pd.concat(axis=1) instead. To get a de-fragmented frame, use `newframe = frame.copy()`\n",
            "  muestras['Muestra_' + str(i)]=_ # Con ello salvo cada una de las columnas del df\n",
            "/tmp/ipython-input-470-1324038430.py:7: PerformanceWarning: DataFrame is highly fragmented.  This is usually the result of calling `frame.insert` many times, which has poor performance.  Consider joining all columns at once using pd.concat(axis=1) instead. To get a de-fragmented frame, use `newframe = frame.copy()`\n",
            "  muestras['Muestra_' + str(i)]=_ # Con ello salvo cada una de las columnas del df\n",
            "/tmp/ipython-input-470-1324038430.py:7: PerformanceWarning: DataFrame is highly fragmented.  This is usually the result of calling `frame.insert` many times, which has poor performance.  Consider joining all columns at once using pd.concat(axis=1) instead. To get a de-fragmented frame, use `newframe = frame.copy()`\n",
            "  muestras['Muestra_' + str(i)]=_ # Con ello salvo cada una de las columnas del df\n",
            "/tmp/ipython-input-470-1324038430.py:7: PerformanceWarning: DataFrame is highly fragmented.  This is usually the result of calling `frame.insert` many times, which has poor performance.  Consider joining all columns at once using pd.concat(axis=1) instead. To get a de-fragmented frame, use `newframe = frame.copy()`\n",
            "  muestras['Muestra_' + str(i)]=_ # Con ello salvo cada una de las columnas del df\n",
            "/tmp/ipython-input-470-1324038430.py:7: PerformanceWarning: DataFrame is highly fragmented.  This is usually the result of calling `frame.insert` many times, which has poor performance.  Consider joining all columns at once using pd.concat(axis=1) instead. To get a de-fragmented frame, use `newframe = frame.copy()`\n",
            "  muestras['Muestra_' + str(i)]=_ # Con ello salvo cada una de las columnas del df\n",
            "/tmp/ipython-input-470-1324038430.py:7: PerformanceWarning: DataFrame is highly fragmented.  This is usually the result of calling `frame.insert` many times, which has poor performance.  Consider joining all columns at once using pd.concat(axis=1) instead. To get a de-fragmented frame, use `newframe = frame.copy()`\n",
            "  muestras['Muestra_' + str(i)]=_ # Con ello salvo cada una de las columnas del df\n",
            "/tmp/ipython-input-470-1324038430.py:7: PerformanceWarning: DataFrame is highly fragmented.  This is usually the result of calling `frame.insert` many times, which has poor performance.  Consider joining all columns at once using pd.concat(axis=1) instead. To get a de-fragmented frame, use `newframe = frame.copy()`\n",
            "  muestras['Muestra_' + str(i)]=_ # Con ello salvo cada una de las columnas del df\n",
            "/tmp/ipython-input-470-1324038430.py:7: PerformanceWarning: DataFrame is highly fragmented.  This is usually the result of calling `frame.insert` many times, which has poor performance.  Consider joining all columns at once using pd.concat(axis=1) instead. To get a de-fragmented frame, use `newframe = frame.copy()`\n",
            "  muestras['Muestra_' + str(i)]=_ # Con ello salvo cada una de las columnas del df\n",
            "/tmp/ipython-input-470-1324038430.py:7: PerformanceWarning: DataFrame is highly fragmented.  This is usually the result of calling `frame.insert` many times, which has poor performance.  Consider joining all columns at once using pd.concat(axis=1) instead. To get a de-fragmented frame, use `newframe = frame.copy()`\n",
            "  muestras['Muestra_' + str(i)]=_ # Con ello salvo cada una de las columnas del df\n",
            "/tmp/ipython-input-470-1324038430.py:7: PerformanceWarning: DataFrame is highly fragmented.  This is usually the result of calling `frame.insert` many times, which has poor performance.  Consider joining all columns at once using pd.concat(axis=1) instead. To get a de-fragmented frame, use `newframe = frame.copy()`\n",
            "  muestras['Muestra_' + str(i)]=_ # Con ello salvo cada una de las columnas del df\n",
            "/tmp/ipython-input-470-1324038430.py:7: PerformanceWarning: DataFrame is highly fragmented.  This is usually the result of calling `frame.insert` many times, which has poor performance.  Consider joining all columns at once using pd.concat(axis=1) instead. To get a de-fragmented frame, use `newframe = frame.copy()`\n",
            "  muestras['Muestra_' + str(i)]=_ # Con ello salvo cada una de las columnas del df\n",
            "/tmp/ipython-input-470-1324038430.py:7: PerformanceWarning: DataFrame is highly fragmented.  This is usually the result of calling `frame.insert` many times, which has poor performance.  Consider joining all columns at once using pd.concat(axis=1) instead. To get a de-fragmented frame, use `newframe = frame.copy()`\n",
            "  muestras['Muestra_' + str(i)]=_ # Con ello salvo cada una de las columnas del df\n",
            "/tmp/ipython-input-470-1324038430.py:7: PerformanceWarning: DataFrame is highly fragmented.  This is usually the result of calling `frame.insert` many times, which has poor performance.  Consider joining all columns at once using pd.concat(axis=1) instead. To get a de-fragmented frame, use `newframe = frame.copy()`\n",
            "  muestras['Muestra_' + str(i)]=_ # Con ello salvo cada una de las columnas del df\n",
            "/tmp/ipython-input-470-1324038430.py:7: PerformanceWarning: DataFrame is highly fragmented.  This is usually the result of calling `frame.insert` many times, which has poor performance.  Consider joining all columns at once using pd.concat(axis=1) instead. To get a de-fragmented frame, use `newframe = frame.copy()`\n",
            "  muestras['Muestra_' + str(i)]=_ # Con ello salvo cada una de las columnas del df\n",
            "/tmp/ipython-input-470-1324038430.py:7: PerformanceWarning: DataFrame is highly fragmented.  This is usually the result of calling `frame.insert` many times, which has poor performance.  Consider joining all columns at once using pd.concat(axis=1) instead. To get a de-fragmented frame, use `newframe = frame.copy()`\n",
            "  muestras['Muestra_' + str(i)]=_ # Con ello salvo cada una de las columnas del df\n",
            "/tmp/ipython-input-470-1324038430.py:7: PerformanceWarning: DataFrame is highly fragmented.  This is usually the result of calling `frame.insert` many times, which has poor performance.  Consider joining all columns at once using pd.concat(axis=1) instead. To get a de-fragmented frame, use `newframe = frame.copy()`\n",
            "  muestras['Muestra_' + str(i)]=_ # Con ello salvo cada una de las columnas del df\n",
            "/tmp/ipython-input-470-1324038430.py:7: PerformanceWarning: DataFrame is highly fragmented.  This is usually the result of calling `frame.insert` many times, which has poor performance.  Consider joining all columns at once using pd.concat(axis=1) instead. To get a de-fragmented frame, use `newframe = frame.copy()`\n",
            "  muestras['Muestra_' + str(i)]=_ # Con ello salvo cada una de las columnas del df\n",
            "/tmp/ipython-input-470-1324038430.py:7: PerformanceWarning: DataFrame is highly fragmented.  This is usually the result of calling `frame.insert` many times, which has poor performance.  Consider joining all columns at once using pd.concat(axis=1) instead. To get a de-fragmented frame, use `newframe = frame.copy()`\n",
            "  muestras['Muestra_' + str(i)]=_ # Con ello salvo cada una de las columnas del df\n",
            "/tmp/ipython-input-470-1324038430.py:7: PerformanceWarning: DataFrame is highly fragmented.  This is usually the result of calling `frame.insert` many times, which has poor performance.  Consider joining all columns at once using pd.concat(axis=1) instead. To get a de-fragmented frame, use `newframe = frame.copy()`\n",
            "  muestras['Muestra_' + str(i)]=_ # Con ello salvo cada una de las columnas del df\n",
            "/tmp/ipython-input-470-1324038430.py:7: PerformanceWarning: DataFrame is highly fragmented.  This is usually the result of calling `frame.insert` many times, which has poor performance.  Consider joining all columns at once using pd.concat(axis=1) instead. To get a de-fragmented frame, use `newframe = frame.copy()`\n",
            "  muestras['Muestra_' + str(i)]=_ # Con ello salvo cada una de las columnas del df\n",
            "/tmp/ipython-input-470-1324038430.py:7: PerformanceWarning: DataFrame is highly fragmented.  This is usually the result of calling `frame.insert` many times, which has poor performance.  Consider joining all columns at once using pd.concat(axis=1) instead. To get a de-fragmented frame, use `newframe = frame.copy()`\n",
            "  muestras['Muestra_' + str(i)]=_ # Con ello salvo cada una de las columnas del df\n",
            "/tmp/ipython-input-470-1324038430.py:7: PerformanceWarning: DataFrame is highly fragmented.  This is usually the result of calling `frame.insert` many times, which has poor performance.  Consider joining all columns at once using pd.concat(axis=1) instead. To get a de-fragmented frame, use `newframe = frame.copy()`\n",
            "  muestras['Muestra_' + str(i)]=_ # Con ello salvo cada una de las columnas del df\n",
            "/tmp/ipython-input-470-1324038430.py:7: PerformanceWarning: DataFrame is highly fragmented.  This is usually the result of calling `frame.insert` many times, which has poor performance.  Consider joining all columns at once using pd.concat(axis=1) instead. To get a de-fragmented frame, use `newframe = frame.copy()`\n",
            "  muestras['Muestra_' + str(i)]=_ # Con ello salvo cada una de las columnas del df\n",
            "/tmp/ipython-input-470-1324038430.py:7: PerformanceWarning: DataFrame is highly fragmented.  This is usually the result of calling `frame.insert` many times, which has poor performance.  Consider joining all columns at once using pd.concat(axis=1) instead. To get a de-fragmented frame, use `newframe = frame.copy()`\n",
            "  muestras['Muestra_' + str(i)]=_ # Con ello salvo cada una de las columnas del df\n",
            "/tmp/ipython-input-470-1324038430.py:7: PerformanceWarning: DataFrame is highly fragmented.  This is usually the result of calling `frame.insert` many times, which has poor performance.  Consider joining all columns at once using pd.concat(axis=1) instead. To get a de-fragmented frame, use `newframe = frame.copy()`\n",
            "  muestras['Muestra_' + str(i)]=_ # Con ello salvo cada una de las columnas del df\n",
            "/tmp/ipython-input-470-1324038430.py:7: PerformanceWarning: DataFrame is highly fragmented.  This is usually the result of calling `frame.insert` many times, which has poor performance.  Consider joining all columns at once using pd.concat(axis=1) instead. To get a de-fragmented frame, use `newframe = frame.copy()`\n",
            "  muestras['Muestra_' + str(i)]=_ # Con ello salvo cada una de las columnas del df\n",
            "/tmp/ipython-input-470-1324038430.py:7: PerformanceWarning: DataFrame is highly fragmented.  This is usually the result of calling `frame.insert` many times, which has poor performance.  Consider joining all columns at once using pd.concat(axis=1) instead. To get a de-fragmented frame, use `newframe = frame.copy()`\n",
            "  muestras['Muestra_' + str(i)]=_ # Con ello salvo cada una de las columnas del df\n",
            "/tmp/ipython-input-470-1324038430.py:7: PerformanceWarning: DataFrame is highly fragmented.  This is usually the result of calling `frame.insert` many times, which has poor performance.  Consider joining all columns at once using pd.concat(axis=1) instead. To get a de-fragmented frame, use `newframe = frame.copy()`\n",
            "  muestras['Muestra_' + str(i)]=_ # Con ello salvo cada una de las columnas del df\n",
            "/tmp/ipython-input-470-1324038430.py:7: PerformanceWarning: DataFrame is highly fragmented.  This is usually the result of calling `frame.insert` many times, which has poor performance.  Consider joining all columns at once using pd.concat(axis=1) instead. To get a de-fragmented frame, use `newframe = frame.copy()`\n",
            "  muestras['Muestra_' + str(i)]=_ # Con ello salvo cada una de las columnas del df\n",
            "/tmp/ipython-input-470-1324038430.py:7: PerformanceWarning: DataFrame is highly fragmented.  This is usually the result of calling `frame.insert` many times, which has poor performance.  Consider joining all columns at once using pd.concat(axis=1) instead. To get a de-fragmented frame, use `newframe = frame.copy()`\n",
            "  muestras['Muestra_' + str(i)]=_ # Con ello salvo cada una de las columnas del df\n",
            "/tmp/ipython-input-470-1324038430.py:7: PerformanceWarning: DataFrame is highly fragmented.  This is usually the result of calling `frame.insert` many times, which has poor performance.  Consider joining all columns at once using pd.concat(axis=1) instead. To get a de-fragmented frame, use `newframe = frame.copy()`\n",
            "  muestras['Muestra_' + str(i)]=_ # Con ello salvo cada una de las columnas del df\n",
            "/tmp/ipython-input-470-1324038430.py:7: PerformanceWarning: DataFrame is highly fragmented.  This is usually the result of calling `frame.insert` many times, which has poor performance.  Consider joining all columns at once using pd.concat(axis=1) instead. To get a de-fragmented frame, use `newframe = frame.copy()`\n",
            "  muestras['Muestra_' + str(i)]=_ # Con ello salvo cada una de las columnas del df\n",
            "/tmp/ipython-input-470-1324038430.py:7: PerformanceWarning: DataFrame is highly fragmented.  This is usually the result of calling `frame.insert` many times, which has poor performance.  Consider joining all columns at once using pd.concat(axis=1) instead. To get a de-fragmented frame, use `newframe = frame.copy()`\n",
            "  muestras['Muestra_' + str(i)]=_ # Con ello salvo cada una de las columnas del df\n",
            "/tmp/ipython-input-470-1324038430.py:7: PerformanceWarning: DataFrame is highly fragmented.  This is usually the result of calling `frame.insert` many times, which has poor performance.  Consider joining all columns at once using pd.concat(axis=1) instead. To get a de-fragmented frame, use `newframe = frame.copy()`\n",
            "  muestras['Muestra_' + str(i)]=_ # Con ello salvo cada una de las columnas del df\n",
            "/tmp/ipython-input-470-1324038430.py:7: PerformanceWarning: DataFrame is highly fragmented.  This is usually the result of calling `frame.insert` many times, which has poor performance.  Consider joining all columns at once using pd.concat(axis=1) instead. To get a de-fragmented frame, use `newframe = frame.copy()`\n",
            "  muestras['Muestra_' + str(i)]=_ # Con ello salvo cada una de las columnas del df\n",
            "/tmp/ipython-input-470-1324038430.py:7: PerformanceWarning: DataFrame is highly fragmented.  This is usually the result of calling `frame.insert` many times, which has poor performance.  Consider joining all columns at once using pd.concat(axis=1) instead. To get a de-fragmented frame, use `newframe = frame.copy()`\n",
            "  muestras['Muestra_' + str(i)]=_ # Con ello salvo cada una de las columnas del df\n",
            "/tmp/ipython-input-470-1324038430.py:7: PerformanceWarning: DataFrame is highly fragmented.  This is usually the result of calling `frame.insert` many times, which has poor performance.  Consider joining all columns at once using pd.concat(axis=1) instead. To get a de-fragmented frame, use `newframe = frame.copy()`\n",
            "  muestras['Muestra_' + str(i)]=_ # Con ello salvo cada una de las columnas del df\n",
            "/tmp/ipython-input-470-1324038430.py:7: PerformanceWarning: DataFrame is highly fragmented.  This is usually the result of calling `frame.insert` many times, which has poor performance.  Consider joining all columns at once using pd.concat(axis=1) instead. To get a de-fragmented frame, use `newframe = frame.copy()`\n",
            "  muestras['Muestra_' + str(i)]=_ # Con ello salvo cada una de las columnas del df\n",
            "/tmp/ipython-input-470-1324038430.py:7: PerformanceWarning: DataFrame is highly fragmented.  This is usually the result of calling `frame.insert` many times, which has poor performance.  Consider joining all columns at once using pd.concat(axis=1) instead. To get a de-fragmented frame, use `newframe = frame.copy()`\n",
            "  muestras['Muestra_' + str(i)]=_ # Con ello salvo cada una de las columnas del df\n",
            "/tmp/ipython-input-470-1324038430.py:7: PerformanceWarning: DataFrame is highly fragmented.  This is usually the result of calling `frame.insert` many times, which has poor performance.  Consider joining all columns at once using pd.concat(axis=1) instead. To get a de-fragmented frame, use `newframe = frame.copy()`\n",
            "  muestras['Muestra_' + str(i)]=_ # Con ello salvo cada una de las columnas del df\n",
            "/tmp/ipython-input-470-1324038430.py:7: PerformanceWarning: DataFrame is highly fragmented.  This is usually the result of calling `frame.insert` many times, which has poor performance.  Consider joining all columns at once using pd.concat(axis=1) instead. To get a de-fragmented frame, use `newframe = frame.copy()`\n",
            "  muestras['Muestra_' + str(i)]=_ # Con ello salvo cada una de las columnas del df\n",
            "/tmp/ipython-input-470-1324038430.py:7: PerformanceWarning: DataFrame is highly fragmented.  This is usually the result of calling `frame.insert` many times, which has poor performance.  Consider joining all columns at once using pd.concat(axis=1) instead. To get a de-fragmented frame, use `newframe = frame.copy()`\n",
            "  muestras['Muestra_' + str(i)]=_ # Con ello salvo cada una de las columnas del df\n",
            "/tmp/ipython-input-470-1324038430.py:7: PerformanceWarning: DataFrame is highly fragmented.  This is usually the result of calling `frame.insert` many times, which has poor performance.  Consider joining all columns at once using pd.concat(axis=1) instead. To get a de-fragmented frame, use `newframe = frame.copy()`\n",
            "  muestras['Muestra_' + str(i)]=_ # Con ello salvo cada una de las columnas del df\n",
            "/tmp/ipython-input-470-1324038430.py:7: PerformanceWarning: DataFrame is highly fragmented.  This is usually the result of calling `frame.insert` many times, which has poor performance.  Consider joining all columns at once using pd.concat(axis=1) instead. To get a de-fragmented frame, use `newframe = frame.copy()`\n",
            "  muestras['Muestra_' + str(i)]=_ # Con ello salvo cada una de las columnas del df\n",
            "/tmp/ipython-input-470-1324038430.py:7: PerformanceWarning: DataFrame is highly fragmented.  This is usually the result of calling `frame.insert` many times, which has poor performance.  Consider joining all columns at once using pd.concat(axis=1) instead. To get a de-fragmented frame, use `newframe = frame.copy()`\n",
            "  muestras['Muestra_' + str(i)]=_ # Con ello salvo cada una de las columnas del df\n",
            "/tmp/ipython-input-470-1324038430.py:7: PerformanceWarning: DataFrame is highly fragmented.  This is usually the result of calling `frame.insert` many times, which has poor performance.  Consider joining all columns at once using pd.concat(axis=1) instead. To get a de-fragmented frame, use `newframe = frame.copy()`\n",
            "  muestras['Muestra_' + str(i)]=_ # Con ello salvo cada una de las columnas del df\n",
            "/tmp/ipython-input-470-1324038430.py:7: PerformanceWarning: DataFrame is highly fragmented.  This is usually the result of calling `frame.insert` many times, which has poor performance.  Consider joining all columns at once using pd.concat(axis=1) instead. To get a de-fragmented frame, use `newframe = frame.copy()`\n",
            "  muestras['Muestra_' + str(i)]=_ # Con ello salvo cada una de las columnas del df\n",
            "/tmp/ipython-input-470-1324038430.py:7: PerformanceWarning: DataFrame is highly fragmented.  This is usually the result of calling `frame.insert` many times, which has poor performance.  Consider joining all columns at once using pd.concat(axis=1) instead. To get a de-fragmented frame, use `newframe = frame.copy()`\n",
            "  muestras['Muestra_' + str(i)]=_ # Con ello salvo cada una de las columnas del df\n",
            "/tmp/ipython-input-470-1324038430.py:7: PerformanceWarning: DataFrame is highly fragmented.  This is usually the result of calling `frame.insert` many times, which has poor performance.  Consider joining all columns at once using pd.concat(axis=1) instead. To get a de-fragmented frame, use `newframe = frame.copy()`\n",
            "  muestras['Muestra_' + str(i)]=_ # Con ello salvo cada una de las columnas del df\n",
            "/tmp/ipython-input-470-1324038430.py:7: PerformanceWarning: DataFrame is highly fragmented.  This is usually the result of calling `frame.insert` many times, which has poor performance.  Consider joining all columns at once using pd.concat(axis=1) instead. To get a de-fragmented frame, use `newframe = frame.copy()`\n",
            "  muestras['Muestra_' + str(i)]=_ # Con ello salvo cada una de las columnas del df\n",
            "/tmp/ipython-input-470-1324038430.py:7: PerformanceWarning: DataFrame is highly fragmented.  This is usually the result of calling `frame.insert` many times, which has poor performance.  Consider joining all columns at once using pd.concat(axis=1) instead. To get a de-fragmented frame, use `newframe = frame.copy()`\n",
            "  muestras['Muestra_' + str(i)]=_ # Con ello salvo cada una de las columnas del df\n",
            "/tmp/ipython-input-470-1324038430.py:7: PerformanceWarning: DataFrame is highly fragmented.  This is usually the result of calling `frame.insert` many times, which has poor performance.  Consider joining all columns at once using pd.concat(axis=1) instead. To get a de-fragmented frame, use `newframe = frame.copy()`\n",
            "  muestras['Muestra_' + str(i)]=_ # Con ello salvo cada una de las columnas del df\n",
            "/tmp/ipython-input-470-1324038430.py:7: PerformanceWarning: DataFrame is highly fragmented.  This is usually the result of calling `frame.insert` many times, which has poor performance.  Consider joining all columns at once using pd.concat(axis=1) instead. To get a de-fragmented frame, use `newframe = frame.copy()`\n",
            "  muestras['Muestra_' + str(i)]=_ # Con ello salvo cada una de las columnas del df\n",
            "/tmp/ipython-input-470-1324038430.py:7: PerformanceWarning: DataFrame is highly fragmented.  This is usually the result of calling `frame.insert` many times, which has poor performance.  Consider joining all columns at once using pd.concat(axis=1) instead. To get a de-fragmented frame, use `newframe = frame.copy()`\n",
            "  muestras['Muestra_' + str(i)]=_ # Con ello salvo cada una de las columnas del df\n",
            "/tmp/ipython-input-470-1324038430.py:7: PerformanceWarning: DataFrame is highly fragmented.  This is usually the result of calling `frame.insert` many times, which has poor performance.  Consider joining all columns at once using pd.concat(axis=1) instead. To get a de-fragmented frame, use `newframe = frame.copy()`\n",
            "  muestras['Muestra_' + str(i)]=_ # Con ello salvo cada una de las columnas del df\n",
            "/tmp/ipython-input-470-1324038430.py:7: PerformanceWarning: DataFrame is highly fragmented.  This is usually the result of calling `frame.insert` many times, which has poor performance.  Consider joining all columns at once using pd.concat(axis=1) instead. To get a de-fragmented frame, use `newframe = frame.copy()`\n",
            "  muestras['Muestra_' + str(i)]=_ # Con ello salvo cada una de las columnas del df\n",
            "/tmp/ipython-input-470-1324038430.py:7: PerformanceWarning: DataFrame is highly fragmented.  This is usually the result of calling `frame.insert` many times, which has poor performance.  Consider joining all columns at once using pd.concat(axis=1) instead. To get a de-fragmented frame, use `newframe = frame.copy()`\n",
            "  muestras['Muestra_' + str(i)]=_ # Con ello salvo cada una de las columnas del df\n",
            "/tmp/ipython-input-470-1324038430.py:7: PerformanceWarning: DataFrame is highly fragmented.  This is usually the result of calling `frame.insert` many times, which has poor performance.  Consider joining all columns at once using pd.concat(axis=1) instead. To get a de-fragmented frame, use `newframe = frame.copy()`\n",
            "  muestras['Muestra_' + str(i)]=_ # Con ello salvo cada una de las columnas del df\n",
            "/tmp/ipython-input-470-1324038430.py:7: PerformanceWarning: DataFrame is highly fragmented.  This is usually the result of calling `frame.insert` many times, which has poor performance.  Consider joining all columns at once using pd.concat(axis=1) instead. To get a de-fragmented frame, use `newframe = frame.copy()`\n",
            "  muestras['Muestra_' + str(i)]=_ # Con ello salvo cada una de las columnas del df\n",
            "/tmp/ipython-input-470-1324038430.py:7: PerformanceWarning: DataFrame is highly fragmented.  This is usually the result of calling `frame.insert` many times, which has poor performance.  Consider joining all columns at once using pd.concat(axis=1) instead. To get a de-fragmented frame, use `newframe = frame.copy()`\n",
            "  muestras['Muestra_' + str(i)]=_ # Con ello salvo cada una de las columnas del df\n",
            "/tmp/ipython-input-470-1324038430.py:7: PerformanceWarning: DataFrame is highly fragmented.  This is usually the result of calling `frame.insert` many times, which has poor performance.  Consider joining all columns at once using pd.concat(axis=1) instead. To get a de-fragmented frame, use `newframe = frame.copy()`\n",
            "  muestras['Muestra_' + str(i)]=_ # Con ello salvo cada una de las columnas del df\n",
            "/tmp/ipython-input-470-1324038430.py:7: PerformanceWarning: DataFrame is highly fragmented.  This is usually the result of calling `frame.insert` many times, which has poor performance.  Consider joining all columns at once using pd.concat(axis=1) instead. To get a de-fragmented frame, use `newframe = frame.copy()`\n",
            "  muestras['Muestra_' + str(i)]=_ # Con ello salvo cada una de las columnas del df\n",
            "/tmp/ipython-input-470-1324038430.py:7: PerformanceWarning: DataFrame is highly fragmented.  This is usually the result of calling `frame.insert` many times, which has poor performance.  Consider joining all columns at once using pd.concat(axis=1) instead. To get a de-fragmented frame, use `newframe = frame.copy()`\n",
            "  muestras['Muestra_' + str(i)]=_ # Con ello salvo cada una de las columnas del df\n",
            "/tmp/ipython-input-470-1324038430.py:7: PerformanceWarning: DataFrame is highly fragmented.  This is usually the result of calling `frame.insert` many times, which has poor performance.  Consider joining all columns at once using pd.concat(axis=1) instead. To get a de-fragmented frame, use `newframe = frame.copy()`\n",
            "  muestras['Muestra_' + str(i)]=_ # Con ello salvo cada una de las columnas del df\n",
            "/tmp/ipython-input-470-1324038430.py:7: PerformanceWarning: DataFrame is highly fragmented.  This is usually the result of calling `frame.insert` many times, which has poor performance.  Consider joining all columns at once using pd.concat(axis=1) instead. To get a de-fragmented frame, use `newframe = frame.copy()`\n",
            "  muestras['Muestra_' + str(i)]=_ # Con ello salvo cada una de las columnas del df\n",
            "/tmp/ipython-input-470-1324038430.py:7: PerformanceWarning: DataFrame is highly fragmented.  This is usually the result of calling `frame.insert` many times, which has poor performance.  Consider joining all columns at once using pd.concat(axis=1) instead. To get a de-fragmented frame, use `newframe = frame.copy()`\n",
            "  muestras['Muestra_' + str(i)]=_ # Con ello salvo cada una de las columnas del df\n",
            "/tmp/ipython-input-470-1324038430.py:7: PerformanceWarning: DataFrame is highly fragmented.  This is usually the result of calling `frame.insert` many times, which has poor performance.  Consider joining all columns at once using pd.concat(axis=1) instead. To get a de-fragmented frame, use `newframe = frame.copy()`\n",
            "  muestras['Muestra_' + str(i)]=_ # Con ello salvo cada una de las columnas del df\n",
            "/tmp/ipython-input-470-1324038430.py:7: PerformanceWarning: DataFrame is highly fragmented.  This is usually the result of calling `frame.insert` many times, which has poor performance.  Consider joining all columns at once using pd.concat(axis=1) instead. To get a de-fragmented frame, use `newframe = frame.copy()`\n",
            "  muestras['Muestra_' + str(i)]=_ # Con ello salvo cada una de las columnas del df\n",
            "/tmp/ipython-input-470-1324038430.py:7: PerformanceWarning: DataFrame is highly fragmented.  This is usually the result of calling `frame.insert` many times, which has poor performance.  Consider joining all columns at once using pd.concat(axis=1) instead. To get a de-fragmented frame, use `newframe = frame.copy()`\n",
            "  muestras['Muestra_' + str(i)]=_ # Con ello salvo cada una de las columnas del df\n",
            "/tmp/ipython-input-470-1324038430.py:7: PerformanceWarning: DataFrame is highly fragmented.  This is usually the result of calling `frame.insert` many times, which has poor performance.  Consider joining all columns at once using pd.concat(axis=1) instead. To get a de-fragmented frame, use `newframe = frame.copy()`\n",
            "  muestras['Muestra_' + str(i)]=_ # Con ello salvo cada una de las columnas del df\n",
            "/tmp/ipython-input-470-1324038430.py:7: PerformanceWarning: DataFrame is highly fragmented.  This is usually the result of calling `frame.insert` many times, which has poor performance.  Consider joining all columns at once using pd.concat(axis=1) instead. To get a de-fragmented frame, use `newframe = frame.copy()`\n",
            "  muestras['Muestra_' + str(i)]=_ # Con ello salvo cada una de las columnas del df\n",
            "/tmp/ipython-input-470-1324038430.py:7: PerformanceWarning: DataFrame is highly fragmented.  This is usually the result of calling `frame.insert` many times, which has poor performance.  Consider joining all columns at once using pd.concat(axis=1) instead. To get a de-fragmented frame, use `newframe = frame.copy()`\n",
            "  muestras['Muestra_' + str(i)]=_ # Con ello salvo cada una de las columnas del df\n",
            "/tmp/ipython-input-470-1324038430.py:7: PerformanceWarning: DataFrame is highly fragmented.  This is usually the result of calling `frame.insert` many times, which has poor performance.  Consider joining all columns at once using pd.concat(axis=1) instead. To get a de-fragmented frame, use `newframe = frame.copy()`\n",
            "  muestras['Muestra_' + str(i)]=_ # Con ello salvo cada una de las columnas del df\n",
            "/tmp/ipython-input-470-1324038430.py:7: PerformanceWarning: DataFrame is highly fragmented.  This is usually the result of calling `frame.insert` many times, which has poor performance.  Consider joining all columns at once using pd.concat(axis=1) instead. To get a de-fragmented frame, use `newframe = frame.copy()`\n",
            "  muestras['Muestra_' + str(i)]=_ # Con ello salvo cada una de las columnas del df\n",
            "/tmp/ipython-input-470-1324038430.py:7: PerformanceWarning: DataFrame is highly fragmented.  This is usually the result of calling `frame.insert` many times, which has poor performance.  Consider joining all columns at once using pd.concat(axis=1) instead. To get a de-fragmented frame, use `newframe = frame.copy()`\n",
            "  muestras['Muestra_' + str(i)]=_ # Con ello salvo cada una de las columnas del df\n",
            "/tmp/ipython-input-470-1324038430.py:7: PerformanceWarning: DataFrame is highly fragmented.  This is usually the result of calling `frame.insert` many times, which has poor performance.  Consider joining all columns at once using pd.concat(axis=1) instead. To get a de-fragmented frame, use `newframe = frame.copy()`\n",
            "  muestras['Muestra_' + str(i)]=_ # Con ello salvo cada una de las columnas del df\n",
            "/tmp/ipython-input-470-1324038430.py:7: PerformanceWarning: DataFrame is highly fragmented.  This is usually the result of calling `frame.insert` many times, which has poor performance.  Consider joining all columns at once using pd.concat(axis=1) instead. To get a de-fragmented frame, use `newframe = frame.copy()`\n",
            "  muestras['Muestra_' + str(i)]=_ # Con ello salvo cada una de las columnas del df\n",
            "/tmp/ipython-input-470-1324038430.py:7: PerformanceWarning: DataFrame is highly fragmented.  This is usually the result of calling `frame.insert` many times, which has poor performance.  Consider joining all columns at once using pd.concat(axis=1) instead. To get a de-fragmented frame, use `newframe = frame.copy()`\n",
            "  muestras['Muestra_' + str(i)]=_ # Con ello salvo cada una de las columnas del df\n",
            "/tmp/ipython-input-470-1324038430.py:7: PerformanceWarning: DataFrame is highly fragmented.  This is usually the result of calling `frame.insert` many times, which has poor performance.  Consider joining all columns at once using pd.concat(axis=1) instead. To get a de-fragmented frame, use `newframe = frame.copy()`\n",
            "  muestras['Muestra_' + str(i)]=_ # Con ello salvo cada una de las columnas del df\n",
            "/tmp/ipython-input-470-1324038430.py:7: PerformanceWarning: DataFrame is highly fragmented.  This is usually the result of calling `frame.insert` many times, which has poor performance.  Consider joining all columns at once using pd.concat(axis=1) instead. To get a de-fragmented frame, use `newframe = frame.copy()`\n",
            "  muestras['Muestra_' + str(i)]=_ # Con ello salvo cada una de las columnas del df\n",
            "/tmp/ipython-input-470-1324038430.py:7: PerformanceWarning: DataFrame is highly fragmented.  This is usually the result of calling `frame.insert` many times, which has poor performance.  Consider joining all columns at once using pd.concat(axis=1) instead. To get a de-fragmented frame, use `newframe = frame.copy()`\n",
            "  muestras['Muestra_' + str(i)]=_ # Con ello salvo cada una de las columnas del df\n",
            "/tmp/ipython-input-470-1324038430.py:7: PerformanceWarning: DataFrame is highly fragmented.  This is usually the result of calling `frame.insert` many times, which has poor performance.  Consider joining all columns at once using pd.concat(axis=1) instead. To get a de-fragmented frame, use `newframe = frame.copy()`\n",
            "  muestras['Muestra_' + str(i)]=_ # Con ello salvo cada una de las columnas del df\n",
            "/tmp/ipython-input-470-1324038430.py:7: PerformanceWarning: DataFrame is highly fragmented.  This is usually the result of calling `frame.insert` many times, which has poor performance.  Consider joining all columns at once using pd.concat(axis=1) instead. To get a de-fragmented frame, use `newframe = frame.copy()`\n",
            "  muestras['Muestra_' + str(i)]=_ # Con ello salvo cada una de las columnas del df\n",
            "/tmp/ipython-input-470-1324038430.py:7: PerformanceWarning: DataFrame is highly fragmented.  This is usually the result of calling `frame.insert` many times, which has poor performance.  Consider joining all columns at once using pd.concat(axis=1) instead. To get a de-fragmented frame, use `newframe = frame.copy()`\n",
            "  muestras['Muestra_' + str(i)]=_ # Con ello salvo cada una de las columnas del df\n",
            "/tmp/ipython-input-470-1324038430.py:7: PerformanceWarning: DataFrame is highly fragmented.  This is usually the result of calling `frame.insert` many times, which has poor performance.  Consider joining all columns at once using pd.concat(axis=1) instead. To get a de-fragmented frame, use `newframe = frame.copy()`\n",
            "  muestras['Muestra_' + str(i)]=_ # Con ello salvo cada una de las columnas del df\n",
            "/tmp/ipython-input-470-1324038430.py:7: PerformanceWarning: DataFrame is highly fragmented.  This is usually the result of calling `frame.insert` many times, which has poor performance.  Consider joining all columns at once using pd.concat(axis=1) instead. To get a de-fragmented frame, use `newframe = frame.copy()`\n",
            "  muestras['Muestra_' + str(i)]=_ # Con ello salvo cada una de las columnas del df\n",
            "/tmp/ipython-input-470-1324038430.py:7: PerformanceWarning: DataFrame is highly fragmented.  This is usually the result of calling `frame.insert` many times, which has poor performance.  Consider joining all columns at once using pd.concat(axis=1) instead. To get a de-fragmented frame, use `newframe = frame.copy()`\n",
            "  muestras['Muestra_' + str(i)]=_ # Con ello salvo cada una de las columnas del df\n",
            "/tmp/ipython-input-470-1324038430.py:7: PerformanceWarning: DataFrame is highly fragmented.  This is usually the result of calling `frame.insert` many times, which has poor performance.  Consider joining all columns at once using pd.concat(axis=1) instead. To get a de-fragmented frame, use `newframe = frame.copy()`\n",
            "  muestras['Muestra_' + str(i)]=_ # Con ello salvo cada una de las columnas del df\n",
            "/tmp/ipython-input-470-1324038430.py:7: PerformanceWarning: DataFrame is highly fragmented.  This is usually the result of calling `frame.insert` many times, which has poor performance.  Consider joining all columns at once using pd.concat(axis=1) instead. To get a de-fragmented frame, use `newframe = frame.copy()`\n",
            "  muestras['Muestra_' + str(i)]=_ # Con ello salvo cada una de las columnas del df\n",
            "/tmp/ipython-input-470-1324038430.py:7: PerformanceWarning: DataFrame is highly fragmented.  This is usually the result of calling `frame.insert` many times, which has poor performance.  Consider joining all columns at once using pd.concat(axis=1) instead. To get a de-fragmented frame, use `newframe = frame.copy()`\n",
            "  muestras['Muestra_' + str(i)]=_ # Con ello salvo cada una de las columnas del df\n",
            "/tmp/ipython-input-470-1324038430.py:7: PerformanceWarning: DataFrame is highly fragmented.  This is usually the result of calling `frame.insert` many times, which has poor performance.  Consider joining all columns at once using pd.concat(axis=1) instead. To get a de-fragmented frame, use `newframe = frame.copy()`\n",
            "  muestras['Muestra_' + str(i)]=_ # Con ello salvo cada una de las columnas del df\n",
            "/tmp/ipython-input-470-1324038430.py:7: PerformanceWarning: DataFrame is highly fragmented.  This is usually the result of calling `frame.insert` many times, which has poor performance.  Consider joining all columns at once using pd.concat(axis=1) instead. To get a de-fragmented frame, use `newframe = frame.copy()`\n",
            "  muestras['Muestra_' + str(i)]=_ # Con ello salvo cada una de las columnas del df\n",
            "/tmp/ipython-input-470-1324038430.py:7: PerformanceWarning: DataFrame is highly fragmented.  This is usually the result of calling `frame.insert` many times, which has poor performance.  Consider joining all columns at once using pd.concat(axis=1) instead. To get a de-fragmented frame, use `newframe = frame.copy()`\n",
            "  muestras['Muestra_' + str(i)]=_ # Con ello salvo cada una de las columnas del df\n",
            "/tmp/ipython-input-470-1324038430.py:7: PerformanceWarning: DataFrame is highly fragmented.  This is usually the result of calling `frame.insert` many times, which has poor performance.  Consider joining all columns at once using pd.concat(axis=1) instead. To get a de-fragmented frame, use `newframe = frame.copy()`\n",
            "  muestras['Muestra_' + str(i)]=_ # Con ello salvo cada una de las columnas del df\n",
            "/tmp/ipython-input-470-1324038430.py:7: PerformanceWarning: DataFrame is highly fragmented.  This is usually the result of calling `frame.insert` many times, which has poor performance.  Consider joining all columns at once using pd.concat(axis=1) instead. To get a de-fragmented frame, use `newframe = frame.copy()`\n",
            "  muestras['Muestra_' + str(i)]=_ # Con ello salvo cada una de las columnas del df\n",
            "/tmp/ipython-input-470-1324038430.py:7: PerformanceWarning: DataFrame is highly fragmented.  This is usually the result of calling `frame.insert` many times, which has poor performance.  Consider joining all columns at once using pd.concat(axis=1) instead. To get a de-fragmented frame, use `newframe = frame.copy()`\n",
            "  muestras['Muestra_' + str(i)]=_ # Con ello salvo cada una de las columnas del df\n",
            "/tmp/ipython-input-470-1324038430.py:7: PerformanceWarning: DataFrame is highly fragmented.  This is usually the result of calling `frame.insert` many times, which has poor performance.  Consider joining all columns at once using pd.concat(axis=1) instead. To get a de-fragmented frame, use `newframe = frame.copy()`\n",
            "  muestras['Muestra_' + str(i)]=_ # Con ello salvo cada una de las columnas del df\n",
            "/tmp/ipython-input-470-1324038430.py:7: PerformanceWarning: DataFrame is highly fragmented.  This is usually the result of calling `frame.insert` many times, which has poor performance.  Consider joining all columns at once using pd.concat(axis=1) instead. To get a de-fragmented frame, use `newframe = frame.copy()`\n",
            "  muestras['Muestra_' + str(i)]=_ # Con ello salvo cada una de las columnas del df\n",
            "/tmp/ipython-input-470-1324038430.py:7: PerformanceWarning: DataFrame is highly fragmented.  This is usually the result of calling `frame.insert` many times, which has poor performance.  Consider joining all columns at once using pd.concat(axis=1) instead. To get a de-fragmented frame, use `newframe = frame.copy()`\n",
            "  muestras['Muestra_' + str(i)]=_ # Con ello salvo cada una de las columnas del df\n",
            "/tmp/ipython-input-470-1324038430.py:7: PerformanceWarning: DataFrame is highly fragmented.  This is usually the result of calling `frame.insert` many times, which has poor performance.  Consider joining all columns at once using pd.concat(axis=1) instead. To get a de-fragmented frame, use `newframe = frame.copy()`\n",
            "  muestras['Muestra_' + str(i)]=_ # Con ello salvo cada una de las columnas del df\n",
            "/tmp/ipython-input-470-1324038430.py:7: PerformanceWarning: DataFrame is highly fragmented.  This is usually the result of calling `frame.insert` many times, which has poor performance.  Consider joining all columns at once using pd.concat(axis=1) instead. To get a de-fragmented frame, use `newframe = frame.copy()`\n",
            "  muestras['Muestra_' + str(i)]=_ # Con ello salvo cada una de las columnas del df\n",
            "/tmp/ipython-input-470-1324038430.py:7: PerformanceWarning: DataFrame is highly fragmented.  This is usually the result of calling `frame.insert` many times, which has poor performance.  Consider joining all columns at once using pd.concat(axis=1) instead. To get a de-fragmented frame, use `newframe = frame.copy()`\n",
            "  muestras['Muestra_' + str(i)]=_ # Con ello salvo cada una de las columnas del df\n",
            "/tmp/ipython-input-470-1324038430.py:7: PerformanceWarning: DataFrame is highly fragmented.  This is usually the result of calling `frame.insert` many times, which has poor performance.  Consider joining all columns at once using pd.concat(axis=1) instead. To get a de-fragmented frame, use `newframe = frame.copy()`\n",
            "  muestras['Muestra_' + str(i)]=_ # Con ello salvo cada una de las columnas del df\n",
            "/tmp/ipython-input-470-1324038430.py:7: PerformanceWarning: DataFrame is highly fragmented.  This is usually the result of calling `frame.insert` many times, which has poor performance.  Consider joining all columns at once using pd.concat(axis=1) instead. To get a de-fragmented frame, use `newframe = frame.copy()`\n",
            "  muestras['Muestra_' + str(i)]=_ # Con ello salvo cada una de las columnas del df\n",
            "/tmp/ipython-input-470-1324038430.py:7: PerformanceWarning: DataFrame is highly fragmented.  This is usually the result of calling `frame.insert` many times, which has poor performance.  Consider joining all columns at once using pd.concat(axis=1) instead. To get a de-fragmented frame, use `newframe = frame.copy()`\n",
            "  muestras['Muestra_' + str(i)]=_ # Con ello salvo cada una de las columnas del df\n",
            "/tmp/ipython-input-470-1324038430.py:7: PerformanceWarning: DataFrame is highly fragmented.  This is usually the result of calling `frame.insert` many times, which has poor performance.  Consider joining all columns at once using pd.concat(axis=1) instead. To get a de-fragmented frame, use `newframe = frame.copy()`\n",
            "  muestras['Muestra_' + str(i)]=_ # Con ello salvo cada una de las columnas del df\n",
            "/tmp/ipython-input-470-1324038430.py:7: PerformanceWarning: DataFrame is highly fragmented.  This is usually the result of calling `frame.insert` many times, which has poor performance.  Consider joining all columns at once using pd.concat(axis=1) instead. To get a de-fragmented frame, use `newframe = frame.copy()`\n",
            "  muestras['Muestra_' + str(i)]=_ # Con ello salvo cada una de las columnas del df\n",
            "/tmp/ipython-input-470-1324038430.py:7: PerformanceWarning: DataFrame is highly fragmented.  This is usually the result of calling `frame.insert` many times, which has poor performance.  Consider joining all columns at once using pd.concat(axis=1) instead. To get a de-fragmented frame, use `newframe = frame.copy()`\n",
            "  muestras['Muestra_' + str(i)]=_ # Con ello salvo cada una de las columnas del df\n",
            "/tmp/ipython-input-470-1324038430.py:7: PerformanceWarning: DataFrame is highly fragmented.  This is usually the result of calling `frame.insert` many times, which has poor performance.  Consider joining all columns at once using pd.concat(axis=1) instead. To get a de-fragmented frame, use `newframe = frame.copy()`\n",
            "  muestras['Muestra_' + str(i)]=_ # Con ello salvo cada una de las columnas del df\n",
            "/tmp/ipython-input-470-1324038430.py:7: PerformanceWarning: DataFrame is highly fragmented.  This is usually the result of calling `frame.insert` many times, which has poor performance.  Consider joining all columns at once using pd.concat(axis=1) instead. To get a de-fragmented frame, use `newframe = frame.copy()`\n",
            "  muestras['Muestra_' + str(i)]=_ # Con ello salvo cada una de las columnas del df\n",
            "/tmp/ipython-input-470-1324038430.py:7: PerformanceWarning: DataFrame is highly fragmented.  This is usually the result of calling `frame.insert` many times, which has poor performance.  Consider joining all columns at once using pd.concat(axis=1) instead. To get a de-fragmented frame, use `newframe = frame.copy()`\n",
            "  muestras['Muestra_' + str(i)]=_ # Con ello salvo cada una de las columnas del df\n",
            "/tmp/ipython-input-470-1324038430.py:7: PerformanceWarning: DataFrame is highly fragmented.  This is usually the result of calling `frame.insert` many times, which has poor performance.  Consider joining all columns at once using pd.concat(axis=1) instead. To get a de-fragmented frame, use `newframe = frame.copy()`\n",
            "  muestras['Muestra_' + str(i)]=_ # Con ello salvo cada una de las columnas del df\n",
            "/tmp/ipython-input-470-1324038430.py:7: PerformanceWarning: DataFrame is highly fragmented.  This is usually the result of calling `frame.insert` many times, which has poor performance.  Consider joining all columns at once using pd.concat(axis=1) instead. To get a de-fragmented frame, use `newframe = frame.copy()`\n",
            "  muestras['Muestra_' + str(i)]=_ # Con ello salvo cada una de las columnas del df\n",
            "/tmp/ipython-input-470-1324038430.py:7: PerformanceWarning: DataFrame is highly fragmented.  This is usually the result of calling `frame.insert` many times, which has poor performance.  Consider joining all columns at once using pd.concat(axis=1) instead. To get a de-fragmented frame, use `newframe = frame.copy()`\n",
            "  muestras['Muestra_' + str(i)]=_ # Con ello salvo cada una de las columnas del df\n",
            "/tmp/ipython-input-470-1324038430.py:7: PerformanceWarning: DataFrame is highly fragmented.  This is usually the result of calling `frame.insert` many times, which has poor performance.  Consider joining all columns at once using pd.concat(axis=1) instead. To get a de-fragmented frame, use `newframe = frame.copy()`\n",
            "  muestras['Muestra_' + str(i)]=_ # Con ello salvo cada una de las columnas del df\n",
            "/tmp/ipython-input-470-1324038430.py:7: PerformanceWarning: DataFrame is highly fragmented.  This is usually the result of calling `frame.insert` many times, which has poor performance.  Consider joining all columns at once using pd.concat(axis=1) instead. To get a de-fragmented frame, use `newframe = frame.copy()`\n",
            "  muestras['Muestra_' + str(i)]=_ # Con ello salvo cada una de las columnas del df\n",
            "/tmp/ipython-input-470-1324038430.py:7: PerformanceWarning: DataFrame is highly fragmented.  This is usually the result of calling `frame.insert` many times, which has poor performance.  Consider joining all columns at once using pd.concat(axis=1) instead. To get a de-fragmented frame, use `newframe = frame.copy()`\n",
            "  muestras['Muestra_' + str(i)]=_ # Con ello salvo cada una de las columnas del df\n",
            "/tmp/ipython-input-470-1324038430.py:7: PerformanceWarning: DataFrame is highly fragmented.  This is usually the result of calling `frame.insert` many times, which has poor performance.  Consider joining all columns at once using pd.concat(axis=1) instead. To get a de-fragmented frame, use `newframe = frame.copy()`\n",
            "  muestras['Muestra_' + str(i)]=_ # Con ello salvo cada una de las columnas del df\n",
            "/tmp/ipython-input-470-1324038430.py:7: PerformanceWarning: DataFrame is highly fragmented.  This is usually the result of calling `frame.insert` many times, which has poor performance.  Consider joining all columns at once using pd.concat(axis=1) instead. To get a de-fragmented frame, use `newframe = frame.copy()`\n",
            "  muestras['Muestra_' + str(i)]=_ # Con ello salvo cada una de las columnas del df\n",
            "/tmp/ipython-input-470-1324038430.py:7: PerformanceWarning: DataFrame is highly fragmented.  This is usually the result of calling `frame.insert` many times, which has poor performance.  Consider joining all columns at once using pd.concat(axis=1) instead. To get a de-fragmented frame, use `newframe = frame.copy()`\n",
            "  muestras['Muestra_' + str(i)]=_ # Con ello salvo cada una de las columnas del df\n",
            "/tmp/ipython-input-470-1324038430.py:7: PerformanceWarning: DataFrame is highly fragmented.  This is usually the result of calling `frame.insert` many times, which has poor performance.  Consider joining all columns at once using pd.concat(axis=1) instead. To get a de-fragmented frame, use `newframe = frame.copy()`\n",
            "  muestras['Muestra_' + str(i)]=_ # Con ello salvo cada una de las columnas del df\n",
            "/tmp/ipython-input-470-1324038430.py:7: PerformanceWarning: DataFrame is highly fragmented.  This is usually the result of calling `frame.insert` many times, which has poor performance.  Consider joining all columns at once using pd.concat(axis=1) instead. To get a de-fragmented frame, use `newframe = frame.copy()`\n",
            "  muestras['Muestra_' + str(i)]=_ # Con ello salvo cada una de las columnas del df\n",
            "/tmp/ipython-input-470-1324038430.py:7: PerformanceWarning: DataFrame is highly fragmented.  This is usually the result of calling `frame.insert` many times, which has poor performance.  Consider joining all columns at once using pd.concat(axis=1) instead. To get a de-fragmented frame, use `newframe = frame.copy()`\n",
            "  muestras['Muestra_' + str(i)]=_ # Con ello salvo cada una de las columnas del df\n",
            "/tmp/ipython-input-470-1324038430.py:7: PerformanceWarning: DataFrame is highly fragmented.  This is usually the result of calling `frame.insert` many times, which has poor performance.  Consider joining all columns at once using pd.concat(axis=1) instead. To get a de-fragmented frame, use `newframe = frame.copy()`\n",
            "  muestras['Muestra_' + str(i)]=_ # Con ello salvo cada una de las columnas del df\n",
            "/tmp/ipython-input-470-1324038430.py:7: PerformanceWarning: DataFrame is highly fragmented.  This is usually the result of calling `frame.insert` many times, which has poor performance.  Consider joining all columns at once using pd.concat(axis=1) instead. To get a de-fragmented frame, use `newframe = frame.copy()`\n",
            "  muestras['Muestra_' + str(i)]=_ # Con ello salvo cada una de las columnas del df\n",
            "/tmp/ipython-input-470-1324038430.py:7: PerformanceWarning: DataFrame is highly fragmented.  This is usually the result of calling `frame.insert` many times, which has poor performance.  Consider joining all columns at once using pd.concat(axis=1) instead. To get a de-fragmented frame, use `newframe = frame.copy()`\n",
            "  muestras['Muestra_' + str(i)]=_ # Con ello salvo cada una de las columnas del df\n",
            "/tmp/ipython-input-470-1324038430.py:7: PerformanceWarning: DataFrame is highly fragmented.  This is usually the result of calling `frame.insert` many times, which has poor performance.  Consider joining all columns at once using pd.concat(axis=1) instead. To get a de-fragmented frame, use `newframe = frame.copy()`\n",
            "  muestras['Muestra_' + str(i)]=_ # Con ello salvo cada una de las columnas del df\n",
            "/tmp/ipython-input-470-1324038430.py:7: PerformanceWarning: DataFrame is highly fragmented.  This is usually the result of calling `frame.insert` many times, which has poor performance.  Consider joining all columns at once using pd.concat(axis=1) instead. To get a de-fragmented frame, use `newframe = frame.copy()`\n",
            "  muestras['Muestra_' + str(i)]=_ # Con ello salvo cada una de las columnas del df\n",
            "/tmp/ipython-input-470-1324038430.py:7: PerformanceWarning: DataFrame is highly fragmented.  This is usually the result of calling `frame.insert` many times, which has poor performance.  Consider joining all columns at once using pd.concat(axis=1) instead. To get a de-fragmented frame, use `newframe = frame.copy()`\n",
            "  muestras['Muestra_' + str(i)]=_ # Con ello salvo cada una de las columnas del df\n",
            "/tmp/ipython-input-470-1324038430.py:7: PerformanceWarning: DataFrame is highly fragmented.  This is usually the result of calling `frame.insert` many times, which has poor performance.  Consider joining all columns at once using pd.concat(axis=1) instead. To get a de-fragmented frame, use `newframe = frame.copy()`\n",
            "  muestras['Muestra_' + str(i)]=_ # Con ello salvo cada una de las columnas del df\n",
            "/tmp/ipython-input-470-1324038430.py:7: PerformanceWarning: DataFrame is highly fragmented.  This is usually the result of calling `frame.insert` many times, which has poor performance.  Consider joining all columns at once using pd.concat(axis=1) instead. To get a de-fragmented frame, use `newframe = frame.copy()`\n",
            "  muestras['Muestra_' + str(i)]=_ # Con ello salvo cada una de las columnas del df\n",
            "/tmp/ipython-input-470-1324038430.py:7: PerformanceWarning: DataFrame is highly fragmented.  This is usually the result of calling `frame.insert` many times, which has poor performance.  Consider joining all columns at once using pd.concat(axis=1) instead. To get a de-fragmented frame, use `newframe = frame.copy()`\n",
            "  muestras['Muestra_' + str(i)]=_ # Con ello salvo cada una de las columnas del df\n",
            "/tmp/ipython-input-470-1324038430.py:7: PerformanceWarning: DataFrame is highly fragmented.  This is usually the result of calling `frame.insert` many times, which has poor performance.  Consider joining all columns at once using pd.concat(axis=1) instead. To get a de-fragmented frame, use `newframe = frame.copy()`\n",
            "  muestras['Muestra_' + str(i)]=_ # Con ello salvo cada una de las columnas del df\n",
            "/tmp/ipython-input-470-1324038430.py:7: PerformanceWarning: DataFrame is highly fragmented.  This is usually the result of calling `frame.insert` many times, which has poor performance.  Consider joining all columns at once using pd.concat(axis=1) instead. To get a de-fragmented frame, use `newframe = frame.copy()`\n",
            "  muestras['Muestra_' + str(i)]=_ # Con ello salvo cada una de las columnas del df\n",
            "/tmp/ipython-input-470-1324038430.py:7: PerformanceWarning: DataFrame is highly fragmented.  This is usually the result of calling `frame.insert` many times, which has poor performance.  Consider joining all columns at once using pd.concat(axis=1) instead. To get a de-fragmented frame, use `newframe = frame.copy()`\n",
            "  muestras['Muestra_' + str(i)]=_ # Con ello salvo cada una de las columnas del df\n",
            "/tmp/ipython-input-470-1324038430.py:7: PerformanceWarning: DataFrame is highly fragmented.  This is usually the result of calling `frame.insert` many times, which has poor performance.  Consider joining all columns at once using pd.concat(axis=1) instead. To get a de-fragmented frame, use `newframe = frame.copy()`\n",
            "  muestras['Muestra_' + str(i)]=_ # Con ello salvo cada una de las columnas del df\n",
            "/tmp/ipython-input-470-1324038430.py:7: PerformanceWarning: DataFrame is highly fragmented.  This is usually the result of calling `frame.insert` many times, which has poor performance.  Consider joining all columns at once using pd.concat(axis=1) instead. To get a de-fragmented frame, use `newframe = frame.copy()`\n",
            "  muestras['Muestra_' + str(i)]=_ # Con ello salvo cada una de las columnas del df\n",
            "/tmp/ipython-input-470-1324038430.py:7: PerformanceWarning: DataFrame is highly fragmented.  This is usually the result of calling `frame.insert` many times, which has poor performance.  Consider joining all columns at once using pd.concat(axis=1) instead. To get a de-fragmented frame, use `newframe = frame.copy()`\n",
            "  muestras['Muestra_' + str(i)]=_ # Con ello salvo cada una de las columnas del df\n",
            "/tmp/ipython-input-470-1324038430.py:7: PerformanceWarning: DataFrame is highly fragmented.  This is usually the result of calling `frame.insert` many times, which has poor performance.  Consider joining all columns at once using pd.concat(axis=1) instead. To get a de-fragmented frame, use `newframe = frame.copy()`\n",
            "  muestras['Muestra_' + str(i)]=_ # Con ello salvo cada una de las columnas del df\n",
            "/tmp/ipython-input-470-1324038430.py:7: PerformanceWarning: DataFrame is highly fragmented.  This is usually the result of calling `frame.insert` many times, which has poor performance.  Consider joining all columns at once using pd.concat(axis=1) instead. To get a de-fragmented frame, use `newframe = frame.copy()`\n",
            "  muestras['Muestra_' + str(i)]=_ # Con ello salvo cada una de las columnas del df\n",
            "/tmp/ipython-input-470-1324038430.py:7: PerformanceWarning: DataFrame is highly fragmented.  This is usually the result of calling `frame.insert` many times, which has poor performance.  Consider joining all columns at once using pd.concat(axis=1) instead. To get a de-fragmented frame, use `newframe = frame.copy()`\n",
            "  muestras['Muestra_' + str(i)]=_ # Con ello salvo cada una de las columnas del df\n",
            "/tmp/ipython-input-470-1324038430.py:7: PerformanceWarning: DataFrame is highly fragmented.  This is usually the result of calling `frame.insert` many times, which has poor performance.  Consider joining all columns at once using pd.concat(axis=1) instead. To get a de-fragmented frame, use `newframe = frame.copy()`\n",
            "  muestras['Muestra_' + str(i)]=_ # Con ello salvo cada una de las columnas del df\n",
            "/tmp/ipython-input-470-1324038430.py:7: PerformanceWarning: DataFrame is highly fragmented.  This is usually the result of calling `frame.insert` many times, which has poor performance.  Consider joining all columns at once using pd.concat(axis=1) instead. To get a de-fragmented frame, use `newframe = frame.copy()`\n",
            "  muestras['Muestra_' + str(i)]=_ # Con ello salvo cada una de las columnas del df\n",
            "/tmp/ipython-input-470-1324038430.py:7: PerformanceWarning: DataFrame is highly fragmented.  This is usually the result of calling `frame.insert` many times, which has poor performance.  Consider joining all columns at once using pd.concat(axis=1) instead. To get a de-fragmented frame, use `newframe = frame.copy()`\n",
            "  muestras['Muestra_' + str(i)]=_ # Con ello salvo cada una de las columnas del df\n",
            "/tmp/ipython-input-470-1324038430.py:7: PerformanceWarning: DataFrame is highly fragmented.  This is usually the result of calling `frame.insert` many times, which has poor performance.  Consider joining all columns at once using pd.concat(axis=1) instead. To get a de-fragmented frame, use `newframe = frame.copy()`\n",
            "  muestras['Muestra_' + str(i)]=_ # Con ello salvo cada una de las columnas del df\n",
            "/tmp/ipython-input-470-1324038430.py:7: PerformanceWarning: DataFrame is highly fragmented.  This is usually the result of calling `frame.insert` many times, which has poor performance.  Consider joining all columns at once using pd.concat(axis=1) instead. To get a de-fragmented frame, use `newframe = frame.copy()`\n",
            "  muestras['Muestra_' + str(i)]=_ # Con ello salvo cada una de las columnas del df\n",
            "/tmp/ipython-input-470-1324038430.py:7: PerformanceWarning: DataFrame is highly fragmented.  This is usually the result of calling `frame.insert` many times, which has poor performance.  Consider joining all columns at once using pd.concat(axis=1) instead. To get a de-fragmented frame, use `newframe = frame.copy()`\n",
            "  muestras['Muestra_' + str(i)]=_ # Con ello salvo cada una de las columnas del df\n",
            "/tmp/ipython-input-470-1324038430.py:7: PerformanceWarning: DataFrame is highly fragmented.  This is usually the result of calling `frame.insert` many times, which has poor performance.  Consider joining all columns at once using pd.concat(axis=1) instead. To get a de-fragmented frame, use `newframe = frame.copy()`\n",
            "  muestras['Muestra_' + str(i)]=_ # Con ello salvo cada una de las columnas del df\n",
            "/tmp/ipython-input-470-1324038430.py:7: PerformanceWarning: DataFrame is highly fragmented.  This is usually the result of calling `frame.insert` many times, which has poor performance.  Consider joining all columns at once using pd.concat(axis=1) instead. To get a de-fragmented frame, use `newframe = frame.copy()`\n",
            "  muestras['Muestra_' + str(i)]=_ # Con ello salvo cada una de las columnas del df\n",
            "/tmp/ipython-input-470-1324038430.py:7: PerformanceWarning: DataFrame is highly fragmented.  This is usually the result of calling `frame.insert` many times, which has poor performance.  Consider joining all columns at once using pd.concat(axis=1) instead. To get a de-fragmented frame, use `newframe = frame.copy()`\n",
            "  muestras['Muestra_' + str(i)]=_ # Con ello salvo cada una de las columnas del df\n",
            "/tmp/ipython-input-470-1324038430.py:7: PerformanceWarning: DataFrame is highly fragmented.  This is usually the result of calling `frame.insert` many times, which has poor performance.  Consider joining all columns at once using pd.concat(axis=1) instead. To get a de-fragmented frame, use `newframe = frame.copy()`\n",
            "  muestras['Muestra_' + str(i)]=_ # Con ello salvo cada una de las columnas del df\n",
            "/tmp/ipython-input-470-1324038430.py:7: PerformanceWarning: DataFrame is highly fragmented.  This is usually the result of calling `frame.insert` many times, which has poor performance.  Consider joining all columns at once using pd.concat(axis=1) instead. To get a de-fragmented frame, use `newframe = frame.copy()`\n",
            "  muestras['Muestra_' + str(i)]=_ # Con ello salvo cada una de las columnas del df\n",
            "/tmp/ipython-input-470-1324038430.py:7: PerformanceWarning: DataFrame is highly fragmented.  This is usually the result of calling `frame.insert` many times, which has poor performance.  Consider joining all columns at once using pd.concat(axis=1) instead. To get a de-fragmented frame, use `newframe = frame.copy()`\n",
            "  muestras['Muestra_' + str(i)]=_ # Con ello salvo cada una de las columnas del df\n",
            "/tmp/ipython-input-470-1324038430.py:7: PerformanceWarning: DataFrame is highly fragmented.  This is usually the result of calling `frame.insert` many times, which has poor performance.  Consider joining all columns at once using pd.concat(axis=1) instead. To get a de-fragmented frame, use `newframe = frame.copy()`\n",
            "  muestras['Muestra_' + str(i)]=_ # Con ello salvo cada una de las columnas del df\n",
            "/tmp/ipython-input-470-1324038430.py:7: PerformanceWarning: DataFrame is highly fragmented.  This is usually the result of calling `frame.insert` many times, which has poor performance.  Consider joining all columns at once using pd.concat(axis=1) instead. To get a de-fragmented frame, use `newframe = frame.copy()`\n",
            "  muestras['Muestra_' + str(i)]=_ # Con ello salvo cada una de las columnas del df\n",
            "/tmp/ipython-input-470-1324038430.py:7: PerformanceWarning: DataFrame is highly fragmented.  This is usually the result of calling `frame.insert` many times, which has poor performance.  Consider joining all columns at once using pd.concat(axis=1) instead. To get a de-fragmented frame, use `newframe = frame.copy()`\n",
            "  muestras['Muestra_' + str(i)]=_ # Con ello salvo cada una de las columnas del df\n",
            "/tmp/ipython-input-470-1324038430.py:7: PerformanceWarning: DataFrame is highly fragmented.  This is usually the result of calling `frame.insert` many times, which has poor performance.  Consider joining all columns at once using pd.concat(axis=1) instead. To get a de-fragmented frame, use `newframe = frame.copy()`\n",
            "  muestras['Muestra_' + str(i)]=_ # Con ello salvo cada una de las columnas del df\n",
            "/tmp/ipython-input-470-1324038430.py:7: PerformanceWarning: DataFrame is highly fragmented.  This is usually the result of calling `frame.insert` many times, which has poor performance.  Consider joining all columns at once using pd.concat(axis=1) instead. To get a de-fragmented frame, use `newframe = frame.copy()`\n",
            "  muestras['Muestra_' + str(i)]=_ # Con ello salvo cada una de las columnas del df\n",
            "/tmp/ipython-input-470-1324038430.py:7: PerformanceWarning: DataFrame is highly fragmented.  This is usually the result of calling `frame.insert` many times, which has poor performance.  Consider joining all columns at once using pd.concat(axis=1) instead. To get a de-fragmented frame, use `newframe = frame.copy()`\n",
            "  muestras['Muestra_' + str(i)]=_ # Con ello salvo cada una de las columnas del df\n",
            "/tmp/ipython-input-470-1324038430.py:7: PerformanceWarning: DataFrame is highly fragmented.  This is usually the result of calling `frame.insert` many times, which has poor performance.  Consider joining all columns at once using pd.concat(axis=1) instead. To get a de-fragmented frame, use `newframe = frame.copy()`\n",
            "  muestras['Muestra_' + str(i)]=_ # Con ello salvo cada una de las columnas del df\n",
            "/tmp/ipython-input-470-1324038430.py:7: PerformanceWarning: DataFrame is highly fragmented.  This is usually the result of calling `frame.insert` many times, which has poor performance.  Consider joining all columns at once using pd.concat(axis=1) instead. To get a de-fragmented frame, use `newframe = frame.copy()`\n",
            "  muestras['Muestra_' + str(i)]=_ # Con ello salvo cada una de las columnas del df\n",
            "/tmp/ipython-input-470-1324038430.py:7: PerformanceWarning: DataFrame is highly fragmented.  This is usually the result of calling `frame.insert` many times, which has poor performance.  Consider joining all columns at once using pd.concat(axis=1) instead. To get a de-fragmented frame, use `newframe = frame.copy()`\n",
            "  muestras['Muestra_' + str(i)]=_ # Con ello salvo cada una de las columnas del df\n",
            "/tmp/ipython-input-470-1324038430.py:7: PerformanceWarning: DataFrame is highly fragmented.  This is usually the result of calling `frame.insert` many times, which has poor performance.  Consider joining all columns at once using pd.concat(axis=1) instead. To get a de-fragmented frame, use `newframe = frame.copy()`\n",
            "  muestras['Muestra_' + str(i)]=_ # Con ello salvo cada una de las columnas del df\n",
            "/tmp/ipython-input-470-1324038430.py:7: PerformanceWarning: DataFrame is highly fragmented.  This is usually the result of calling `frame.insert` many times, which has poor performance.  Consider joining all columns at once using pd.concat(axis=1) instead. To get a de-fragmented frame, use `newframe = frame.copy()`\n",
            "  muestras['Muestra_' + str(i)]=_ # Con ello salvo cada una de las columnas del df\n",
            "/tmp/ipython-input-470-1324038430.py:7: PerformanceWarning: DataFrame is highly fragmented.  This is usually the result of calling `frame.insert` many times, which has poor performance.  Consider joining all columns at once using pd.concat(axis=1) instead. To get a de-fragmented frame, use `newframe = frame.copy()`\n",
            "  muestras['Muestra_' + str(i)]=_ # Con ello salvo cada una de las columnas del df\n",
            "/tmp/ipython-input-470-1324038430.py:7: PerformanceWarning: DataFrame is highly fragmented.  This is usually the result of calling `frame.insert` many times, which has poor performance.  Consider joining all columns at once using pd.concat(axis=1) instead. To get a de-fragmented frame, use `newframe = frame.copy()`\n",
            "  muestras['Muestra_' + str(i)]=_ # Con ello salvo cada una de las columnas del df\n",
            "/tmp/ipython-input-470-1324038430.py:7: PerformanceWarning: DataFrame is highly fragmented.  This is usually the result of calling `frame.insert` many times, which has poor performance.  Consider joining all columns at once using pd.concat(axis=1) instead. To get a de-fragmented frame, use `newframe = frame.copy()`\n",
            "  muestras['Muestra_' + str(i)]=_ # Con ello salvo cada una de las columnas del df\n",
            "/tmp/ipython-input-470-1324038430.py:7: PerformanceWarning: DataFrame is highly fragmented.  This is usually the result of calling `frame.insert` many times, which has poor performance.  Consider joining all columns at once using pd.concat(axis=1) instead. To get a de-fragmented frame, use `newframe = frame.copy()`\n",
            "  muestras['Muestra_' + str(i)]=_ # Con ello salvo cada una de las columnas del df\n",
            "/tmp/ipython-input-470-1324038430.py:7: PerformanceWarning: DataFrame is highly fragmented.  This is usually the result of calling `frame.insert` many times, which has poor performance.  Consider joining all columns at once using pd.concat(axis=1) instead. To get a de-fragmented frame, use `newframe = frame.copy()`\n",
            "  muestras['Muestra_' + str(i)]=_ # Con ello salvo cada una de las columnas del df\n",
            "/tmp/ipython-input-470-1324038430.py:7: PerformanceWarning: DataFrame is highly fragmented.  This is usually the result of calling `frame.insert` many times, which has poor performance.  Consider joining all columns at once using pd.concat(axis=1) instead. To get a de-fragmented frame, use `newframe = frame.copy()`\n",
            "  muestras['Muestra_' + str(i)]=_ # Con ello salvo cada una de las columnas del df\n",
            "/tmp/ipython-input-470-1324038430.py:7: PerformanceWarning: DataFrame is highly fragmented.  This is usually the result of calling `frame.insert` many times, which has poor performance.  Consider joining all columns at once using pd.concat(axis=1) instead. To get a de-fragmented frame, use `newframe = frame.copy()`\n",
            "  muestras['Muestra_' + str(i)]=_ # Con ello salvo cada una de las columnas del df\n",
            "/tmp/ipython-input-470-1324038430.py:7: PerformanceWarning: DataFrame is highly fragmented.  This is usually the result of calling `frame.insert` many times, which has poor performance.  Consider joining all columns at once using pd.concat(axis=1) instead. To get a de-fragmented frame, use `newframe = frame.copy()`\n",
            "  muestras['Muestra_' + str(i)]=_ # Con ello salvo cada una de las columnas del df\n",
            "/tmp/ipython-input-470-1324038430.py:7: PerformanceWarning: DataFrame is highly fragmented.  This is usually the result of calling `frame.insert` many times, which has poor performance.  Consider joining all columns at once using pd.concat(axis=1) instead. To get a de-fragmented frame, use `newframe = frame.copy()`\n",
            "  muestras['Muestra_' + str(i)]=_ # Con ello salvo cada una de las columnas del df\n",
            "/tmp/ipython-input-470-1324038430.py:7: PerformanceWarning: DataFrame is highly fragmented.  This is usually the result of calling `frame.insert` many times, which has poor performance.  Consider joining all columns at once using pd.concat(axis=1) instead. To get a de-fragmented frame, use `newframe = frame.copy()`\n",
            "  muestras['Muestra_' + str(i)]=_ # Con ello salvo cada una de las columnas del df\n",
            "/tmp/ipython-input-470-1324038430.py:7: PerformanceWarning: DataFrame is highly fragmented.  This is usually the result of calling `frame.insert` many times, which has poor performance.  Consider joining all columns at once using pd.concat(axis=1) instead. To get a de-fragmented frame, use `newframe = frame.copy()`\n",
            "  muestras['Muestra_' + str(i)]=_ # Con ello salvo cada una de las columnas del df\n",
            "/tmp/ipython-input-470-1324038430.py:7: PerformanceWarning: DataFrame is highly fragmented.  This is usually the result of calling `frame.insert` many times, which has poor performance.  Consider joining all columns at once using pd.concat(axis=1) instead. To get a de-fragmented frame, use `newframe = frame.copy()`\n",
            "  muestras['Muestra_' + str(i)]=_ # Con ello salvo cada una de las columnas del df\n",
            "/tmp/ipython-input-470-1324038430.py:7: PerformanceWarning: DataFrame is highly fragmented.  This is usually the result of calling `frame.insert` many times, which has poor performance.  Consider joining all columns at once using pd.concat(axis=1) instead. To get a de-fragmented frame, use `newframe = frame.copy()`\n",
            "  muestras['Muestra_' + str(i)]=_ # Con ello salvo cada una de las columnas del df\n",
            "/tmp/ipython-input-470-1324038430.py:7: PerformanceWarning: DataFrame is highly fragmented.  This is usually the result of calling `frame.insert` many times, which has poor performance.  Consider joining all columns at once using pd.concat(axis=1) instead. To get a de-fragmented frame, use `newframe = frame.copy()`\n",
            "  muestras['Muestra_' + str(i)]=_ # Con ello salvo cada una de las columnas del df\n",
            "/tmp/ipython-input-470-1324038430.py:7: PerformanceWarning: DataFrame is highly fragmented.  This is usually the result of calling `frame.insert` many times, which has poor performance.  Consider joining all columns at once using pd.concat(axis=1) instead. To get a de-fragmented frame, use `newframe = frame.copy()`\n",
            "  muestras['Muestra_' + str(i)]=_ # Con ello salvo cada una de las columnas del df\n",
            "/tmp/ipython-input-470-1324038430.py:7: PerformanceWarning: DataFrame is highly fragmented.  This is usually the result of calling `frame.insert` many times, which has poor performance.  Consider joining all columns at once using pd.concat(axis=1) instead. To get a de-fragmented frame, use `newframe = frame.copy()`\n",
            "  muestras['Muestra_' + str(i)]=_ # Con ello salvo cada una de las columnas del df\n",
            "/tmp/ipython-input-470-1324038430.py:7: PerformanceWarning: DataFrame is highly fragmented.  This is usually the result of calling `frame.insert` many times, which has poor performance.  Consider joining all columns at once using pd.concat(axis=1) instead. To get a de-fragmented frame, use `newframe = frame.copy()`\n",
            "  muestras['Muestra_' + str(i)]=_ # Con ello salvo cada una de las columnas del df\n",
            "/tmp/ipython-input-470-1324038430.py:7: PerformanceWarning: DataFrame is highly fragmented.  This is usually the result of calling `frame.insert` many times, which has poor performance.  Consider joining all columns at once using pd.concat(axis=1) instead. To get a de-fragmented frame, use `newframe = frame.copy()`\n",
            "  muestras['Muestra_' + str(i)]=_ # Con ello salvo cada una de las columnas del df\n",
            "/tmp/ipython-input-470-1324038430.py:7: PerformanceWarning: DataFrame is highly fragmented.  This is usually the result of calling `frame.insert` many times, which has poor performance.  Consider joining all columns at once using pd.concat(axis=1) instead. To get a de-fragmented frame, use `newframe = frame.copy()`\n",
            "  muestras['Muestra_' + str(i)]=_ # Con ello salvo cada una de las columnas del df\n",
            "/tmp/ipython-input-470-1324038430.py:7: PerformanceWarning: DataFrame is highly fragmented.  This is usually the result of calling `frame.insert` many times, which has poor performance.  Consider joining all columns at once using pd.concat(axis=1) instead. To get a de-fragmented frame, use `newframe = frame.copy()`\n",
            "  muestras['Muestra_' + str(i)]=_ # Con ello salvo cada una de las columnas del df\n",
            "/tmp/ipython-input-470-1324038430.py:7: PerformanceWarning: DataFrame is highly fragmented.  This is usually the result of calling `frame.insert` many times, which has poor performance.  Consider joining all columns at once using pd.concat(axis=1) instead. To get a de-fragmented frame, use `newframe = frame.copy()`\n",
            "  muestras['Muestra_' + str(i)]=_ # Con ello salvo cada una de las columnas del df\n",
            "/tmp/ipython-input-470-1324038430.py:7: PerformanceWarning: DataFrame is highly fragmented.  This is usually the result of calling `frame.insert` many times, which has poor performance.  Consider joining all columns at once using pd.concat(axis=1) instead. To get a de-fragmented frame, use `newframe = frame.copy()`\n",
            "  muestras['Muestra_' + str(i)]=_ # Con ello salvo cada una de las columnas del df\n",
            "/tmp/ipython-input-470-1324038430.py:7: PerformanceWarning: DataFrame is highly fragmented.  This is usually the result of calling `frame.insert` many times, which has poor performance.  Consider joining all columns at once using pd.concat(axis=1) instead. To get a de-fragmented frame, use `newframe = frame.copy()`\n",
            "  muestras['Muestra_' + str(i)]=_ # Con ello salvo cada una de las columnas del df\n",
            "/tmp/ipython-input-470-1324038430.py:7: PerformanceWarning: DataFrame is highly fragmented.  This is usually the result of calling `frame.insert` many times, which has poor performance.  Consider joining all columns at once using pd.concat(axis=1) instead. To get a de-fragmented frame, use `newframe = frame.copy()`\n",
            "  muestras['Muestra_' + str(i)]=_ # Con ello salvo cada una de las columnas del df\n",
            "/tmp/ipython-input-470-1324038430.py:7: PerformanceWarning: DataFrame is highly fragmented.  This is usually the result of calling `frame.insert` many times, which has poor performance.  Consider joining all columns at once using pd.concat(axis=1) instead. To get a de-fragmented frame, use `newframe = frame.copy()`\n",
            "  muestras['Muestra_' + str(i)]=_ # Con ello salvo cada una de las columnas del df\n",
            "/tmp/ipython-input-470-1324038430.py:7: PerformanceWarning: DataFrame is highly fragmented.  This is usually the result of calling `frame.insert` many times, which has poor performance.  Consider joining all columns at once using pd.concat(axis=1) instead. To get a de-fragmented frame, use `newframe = frame.copy()`\n",
            "  muestras['Muestra_' + str(i)]=_ # Con ello salvo cada una de las columnas del df\n",
            "/tmp/ipython-input-470-1324038430.py:7: PerformanceWarning: DataFrame is highly fragmented.  This is usually the result of calling `frame.insert` many times, which has poor performance.  Consider joining all columns at once using pd.concat(axis=1) instead. To get a de-fragmented frame, use `newframe = frame.copy()`\n",
            "  muestras['Muestra_' + str(i)]=_ # Con ello salvo cada una de las columnas del df\n",
            "/tmp/ipython-input-470-1324038430.py:7: PerformanceWarning: DataFrame is highly fragmented.  This is usually the result of calling `frame.insert` many times, which has poor performance.  Consider joining all columns at once using pd.concat(axis=1) instead. To get a de-fragmented frame, use `newframe = frame.copy()`\n",
            "  muestras['Muestra_' + str(i)]=_ # Con ello salvo cada una de las columnas del df\n",
            "/tmp/ipython-input-470-1324038430.py:7: PerformanceWarning: DataFrame is highly fragmented.  This is usually the result of calling `frame.insert` many times, which has poor performance.  Consider joining all columns at once using pd.concat(axis=1) instead. To get a de-fragmented frame, use `newframe = frame.copy()`\n",
            "  muestras['Muestra_' + str(i)]=_ # Con ello salvo cada una de las columnas del df\n",
            "/tmp/ipython-input-470-1324038430.py:7: PerformanceWarning: DataFrame is highly fragmented.  This is usually the result of calling `frame.insert` many times, which has poor performance.  Consider joining all columns at once using pd.concat(axis=1) instead. To get a de-fragmented frame, use `newframe = frame.copy()`\n",
            "  muestras['Muestra_' + str(i)]=_ # Con ello salvo cada una de las columnas del df\n",
            "/tmp/ipython-input-470-1324038430.py:7: PerformanceWarning: DataFrame is highly fragmented.  This is usually the result of calling `frame.insert` many times, which has poor performance.  Consider joining all columns at once using pd.concat(axis=1) instead. To get a de-fragmented frame, use `newframe = frame.copy()`\n",
            "  muestras['Muestra_' + str(i)]=_ # Con ello salvo cada una de las columnas del df\n",
            "/tmp/ipython-input-470-1324038430.py:7: PerformanceWarning: DataFrame is highly fragmented.  This is usually the result of calling `frame.insert` many times, which has poor performance.  Consider joining all columns at once using pd.concat(axis=1) instead. To get a de-fragmented frame, use `newframe = frame.copy()`\n",
            "  muestras['Muestra_' + str(i)]=_ # Con ello salvo cada una de las columnas del df\n",
            "/tmp/ipython-input-470-1324038430.py:7: PerformanceWarning: DataFrame is highly fragmented.  This is usually the result of calling `frame.insert` many times, which has poor performance.  Consider joining all columns at once using pd.concat(axis=1) instead. To get a de-fragmented frame, use `newframe = frame.copy()`\n",
            "  muestras['Muestra_' + str(i)]=_ # Con ello salvo cada una de las columnas del df\n",
            "/tmp/ipython-input-470-1324038430.py:7: PerformanceWarning: DataFrame is highly fragmented.  This is usually the result of calling `frame.insert` many times, which has poor performance.  Consider joining all columns at once using pd.concat(axis=1) instead. To get a de-fragmented frame, use `newframe = frame.copy()`\n",
            "  muestras['Muestra_' + str(i)]=_ # Con ello salvo cada una de las columnas del df\n",
            "/tmp/ipython-input-470-1324038430.py:7: PerformanceWarning: DataFrame is highly fragmented.  This is usually the result of calling `frame.insert` many times, which has poor performance.  Consider joining all columns at once using pd.concat(axis=1) instead. To get a de-fragmented frame, use `newframe = frame.copy()`\n",
            "  muestras['Muestra_' + str(i)]=_ # Con ello salvo cada una de las columnas del df\n",
            "/tmp/ipython-input-470-1324038430.py:7: PerformanceWarning: DataFrame is highly fragmented.  This is usually the result of calling `frame.insert` many times, which has poor performance.  Consider joining all columns at once using pd.concat(axis=1) instead. To get a de-fragmented frame, use `newframe = frame.copy()`\n",
            "  muestras['Muestra_' + str(i)]=_ # Con ello salvo cada una de las columnas del df\n",
            "/tmp/ipython-input-470-1324038430.py:7: PerformanceWarning: DataFrame is highly fragmented.  This is usually the result of calling `frame.insert` many times, which has poor performance.  Consider joining all columns at once using pd.concat(axis=1) instead. To get a de-fragmented frame, use `newframe = frame.copy()`\n",
            "  muestras['Muestra_' + str(i)]=_ # Con ello salvo cada una de las columnas del df\n",
            "/tmp/ipython-input-470-1324038430.py:7: PerformanceWarning: DataFrame is highly fragmented.  This is usually the result of calling `frame.insert` many times, which has poor performance.  Consider joining all columns at once using pd.concat(axis=1) instead. To get a de-fragmented frame, use `newframe = frame.copy()`\n",
            "  muestras['Muestra_' + str(i)]=_ # Con ello salvo cada una de las columnas del df\n",
            "/tmp/ipython-input-470-1324038430.py:7: PerformanceWarning: DataFrame is highly fragmented.  This is usually the result of calling `frame.insert` many times, which has poor performance.  Consider joining all columns at once using pd.concat(axis=1) instead. To get a de-fragmented frame, use `newframe = frame.copy()`\n",
            "  muestras['Muestra_' + str(i)]=_ # Con ello salvo cada una de las columnas del df\n",
            "/tmp/ipython-input-470-1324038430.py:7: PerformanceWarning: DataFrame is highly fragmented.  This is usually the result of calling `frame.insert` many times, which has poor performance.  Consider joining all columns at once using pd.concat(axis=1) instead. To get a de-fragmented frame, use `newframe = frame.copy()`\n",
            "  muestras['Muestra_' + str(i)]=_ # Con ello salvo cada una de las columnas del df\n",
            "/tmp/ipython-input-470-1324038430.py:7: PerformanceWarning: DataFrame is highly fragmented.  This is usually the result of calling `frame.insert` many times, which has poor performance.  Consider joining all columns at once using pd.concat(axis=1) instead. To get a de-fragmented frame, use `newframe = frame.copy()`\n",
            "  muestras['Muestra_' + str(i)]=_ # Con ello salvo cada una de las columnas del df\n",
            "/tmp/ipython-input-470-1324038430.py:7: PerformanceWarning: DataFrame is highly fragmented.  This is usually the result of calling `frame.insert` many times, which has poor performance.  Consider joining all columns at once using pd.concat(axis=1) instead. To get a de-fragmented frame, use `newframe = frame.copy()`\n",
            "  muestras['Muestra_' + str(i)]=_ # Con ello salvo cada una de las columnas del df\n",
            "/tmp/ipython-input-470-1324038430.py:7: PerformanceWarning: DataFrame is highly fragmented.  This is usually the result of calling `frame.insert` many times, which has poor performance.  Consider joining all columns at once using pd.concat(axis=1) instead. To get a de-fragmented frame, use `newframe = frame.copy()`\n",
            "  muestras['Muestra_' + str(i)]=_ # Con ello salvo cada una de las columnas del df\n",
            "/tmp/ipython-input-470-1324038430.py:7: PerformanceWarning: DataFrame is highly fragmented.  This is usually the result of calling `frame.insert` many times, which has poor performance.  Consider joining all columns at once using pd.concat(axis=1) instead. To get a de-fragmented frame, use `newframe = frame.copy()`\n",
            "  muestras['Muestra_' + str(i)]=_ # Con ello salvo cada una de las columnas del df\n",
            "/tmp/ipython-input-470-1324038430.py:7: PerformanceWarning: DataFrame is highly fragmented.  This is usually the result of calling `frame.insert` many times, which has poor performance.  Consider joining all columns at once using pd.concat(axis=1) instead. To get a de-fragmented frame, use `newframe = frame.copy()`\n",
            "  muestras['Muestra_' + str(i)]=_ # Con ello salvo cada una de las columnas del df\n",
            "/tmp/ipython-input-470-1324038430.py:7: PerformanceWarning: DataFrame is highly fragmented.  This is usually the result of calling `frame.insert` many times, which has poor performance.  Consider joining all columns at once using pd.concat(axis=1) instead. To get a de-fragmented frame, use `newframe = frame.copy()`\n",
            "  muestras['Muestra_' + str(i)]=_ # Con ello salvo cada una de las columnas del df\n",
            "/tmp/ipython-input-470-1324038430.py:7: PerformanceWarning: DataFrame is highly fragmented.  This is usually the result of calling `frame.insert` many times, which has poor performance.  Consider joining all columns at once using pd.concat(axis=1) instead. To get a de-fragmented frame, use `newframe = frame.copy()`\n",
            "  muestras['Muestra_' + str(i)]=_ # Con ello salvo cada una de las columnas del df\n",
            "/tmp/ipython-input-470-1324038430.py:7: PerformanceWarning: DataFrame is highly fragmented.  This is usually the result of calling `frame.insert` many times, which has poor performance.  Consider joining all columns at once using pd.concat(axis=1) instead. To get a de-fragmented frame, use `newframe = frame.copy()`\n",
            "  muestras['Muestra_' + str(i)]=_ # Con ello salvo cada una de las columnas del df\n",
            "/tmp/ipython-input-470-1324038430.py:7: PerformanceWarning: DataFrame is highly fragmented.  This is usually the result of calling `frame.insert` many times, which has poor performance.  Consider joining all columns at once using pd.concat(axis=1) instead. To get a de-fragmented frame, use `newframe = frame.copy()`\n",
            "  muestras['Muestra_' + str(i)]=_ # Con ello salvo cada una de las columnas del df\n",
            "/tmp/ipython-input-470-1324038430.py:7: PerformanceWarning: DataFrame is highly fragmented.  This is usually the result of calling `frame.insert` many times, which has poor performance.  Consider joining all columns at once using pd.concat(axis=1) instead. To get a de-fragmented frame, use `newframe = frame.copy()`\n",
            "  muestras['Muestra_' + str(i)]=_ # Con ello salvo cada una de las columnas del df\n",
            "/tmp/ipython-input-470-1324038430.py:7: PerformanceWarning: DataFrame is highly fragmented.  This is usually the result of calling `frame.insert` many times, which has poor performance.  Consider joining all columns at once using pd.concat(axis=1) instead. To get a de-fragmented frame, use `newframe = frame.copy()`\n",
            "  muestras['Muestra_' + str(i)]=_ # Con ello salvo cada una de las columnas del df\n",
            "/tmp/ipython-input-470-1324038430.py:7: PerformanceWarning: DataFrame is highly fragmented.  This is usually the result of calling `frame.insert` many times, which has poor performance.  Consider joining all columns at once using pd.concat(axis=1) instead. To get a de-fragmented frame, use `newframe = frame.copy()`\n",
            "  muestras['Muestra_' + str(i)]=_ # Con ello salvo cada una de las columnas del df\n",
            "/tmp/ipython-input-470-1324038430.py:7: PerformanceWarning: DataFrame is highly fragmented.  This is usually the result of calling `frame.insert` many times, which has poor performance.  Consider joining all columns at once using pd.concat(axis=1) instead. To get a de-fragmented frame, use `newframe = frame.copy()`\n",
            "  muestras['Muestra_' + str(i)]=_ # Con ello salvo cada una de las columnas del df\n",
            "/tmp/ipython-input-470-1324038430.py:7: PerformanceWarning: DataFrame is highly fragmented.  This is usually the result of calling `frame.insert` many times, which has poor performance.  Consider joining all columns at once using pd.concat(axis=1) instead. To get a de-fragmented frame, use `newframe = frame.copy()`\n",
            "  muestras['Muestra_' + str(i)]=_ # Con ello salvo cada una de las columnas del df\n",
            "/tmp/ipython-input-470-1324038430.py:7: PerformanceWarning: DataFrame is highly fragmented.  This is usually the result of calling `frame.insert` many times, which has poor performance.  Consider joining all columns at once using pd.concat(axis=1) instead. To get a de-fragmented frame, use `newframe = frame.copy()`\n",
            "  muestras['Muestra_' + str(i)]=_ # Con ello salvo cada una de las columnas del df\n",
            "/tmp/ipython-input-470-1324038430.py:7: PerformanceWarning: DataFrame is highly fragmented.  This is usually the result of calling `frame.insert` many times, which has poor performance.  Consider joining all columns at once using pd.concat(axis=1) instead. To get a de-fragmented frame, use `newframe = frame.copy()`\n",
            "  muestras['Muestra_' + str(i)]=_ # Con ello salvo cada una de las columnas del df\n",
            "/tmp/ipython-input-470-1324038430.py:7: PerformanceWarning: DataFrame is highly fragmented.  This is usually the result of calling `frame.insert` many times, which has poor performance.  Consider joining all columns at once using pd.concat(axis=1) instead. To get a de-fragmented frame, use `newframe = frame.copy()`\n",
            "  muestras['Muestra_' + str(i)]=_ # Con ello salvo cada una de las columnas del df\n",
            "/tmp/ipython-input-470-1324038430.py:7: PerformanceWarning: DataFrame is highly fragmented.  This is usually the result of calling `frame.insert` many times, which has poor performance.  Consider joining all columns at once using pd.concat(axis=1) instead. To get a de-fragmented frame, use `newframe = frame.copy()`\n",
            "  muestras['Muestra_' + str(i)]=_ # Con ello salvo cada una de las columnas del df\n",
            "/tmp/ipython-input-470-1324038430.py:7: PerformanceWarning: DataFrame is highly fragmented.  This is usually the result of calling `frame.insert` many times, which has poor performance.  Consider joining all columns at once using pd.concat(axis=1) instead. To get a de-fragmented frame, use `newframe = frame.copy()`\n",
            "  muestras['Muestra_' + str(i)]=_ # Con ello salvo cada una de las columnas del df\n",
            "/tmp/ipython-input-470-1324038430.py:7: PerformanceWarning: DataFrame is highly fragmented.  This is usually the result of calling `frame.insert` many times, which has poor performance.  Consider joining all columns at once using pd.concat(axis=1) instead. To get a de-fragmented frame, use `newframe = frame.copy()`\n",
            "  muestras['Muestra_' + str(i)]=_ # Con ello salvo cada una de las columnas del df\n",
            "/tmp/ipython-input-470-1324038430.py:7: PerformanceWarning: DataFrame is highly fragmented.  This is usually the result of calling `frame.insert` many times, which has poor performance.  Consider joining all columns at once using pd.concat(axis=1) instead. To get a de-fragmented frame, use `newframe = frame.copy()`\n",
            "  muestras['Muestra_' + str(i)]=_ # Con ello salvo cada una de las columnas del df\n",
            "/tmp/ipython-input-470-1324038430.py:7: PerformanceWarning: DataFrame is highly fragmented.  This is usually the result of calling `frame.insert` many times, which has poor performance.  Consider joining all columns at once using pd.concat(axis=1) instead. To get a de-fragmented frame, use `newframe = frame.copy()`\n",
            "  muestras['Muestra_' + str(i)]=_ # Con ello salvo cada una de las columnas del df\n",
            "/tmp/ipython-input-470-1324038430.py:7: PerformanceWarning: DataFrame is highly fragmented.  This is usually the result of calling `frame.insert` many times, which has poor performance.  Consider joining all columns at once using pd.concat(axis=1) instead. To get a de-fragmented frame, use `newframe = frame.copy()`\n",
            "  muestras['Muestra_' + str(i)]=_ # Con ello salvo cada una de las columnas del df\n",
            "/tmp/ipython-input-470-1324038430.py:7: PerformanceWarning: DataFrame is highly fragmented.  This is usually the result of calling `frame.insert` many times, which has poor performance.  Consider joining all columns at once using pd.concat(axis=1) instead. To get a de-fragmented frame, use `newframe = frame.copy()`\n",
            "  muestras['Muestra_' + str(i)]=_ # Con ello salvo cada una de las columnas del df\n",
            "/tmp/ipython-input-470-1324038430.py:7: PerformanceWarning: DataFrame is highly fragmented.  This is usually the result of calling `frame.insert` many times, which has poor performance.  Consider joining all columns at once using pd.concat(axis=1) instead. To get a de-fragmented frame, use `newframe = frame.copy()`\n",
            "  muestras['Muestra_' + str(i)]=_ # Con ello salvo cada una de las columnas del df\n",
            "/tmp/ipython-input-470-1324038430.py:7: PerformanceWarning: DataFrame is highly fragmented.  This is usually the result of calling `frame.insert` many times, which has poor performance.  Consider joining all columns at once using pd.concat(axis=1) instead. To get a de-fragmented frame, use `newframe = frame.copy()`\n",
            "  muestras['Muestra_' + str(i)]=_ # Con ello salvo cada una de las columnas del df\n",
            "/tmp/ipython-input-470-1324038430.py:7: PerformanceWarning: DataFrame is highly fragmented.  This is usually the result of calling `frame.insert` many times, which has poor performance.  Consider joining all columns at once using pd.concat(axis=1) instead. To get a de-fragmented frame, use `newframe = frame.copy()`\n",
            "  muestras['Muestra_' + str(i)]=_ # Con ello salvo cada una de las columnas del df\n",
            "/tmp/ipython-input-470-1324038430.py:7: PerformanceWarning: DataFrame is highly fragmented.  This is usually the result of calling `frame.insert` many times, which has poor performance.  Consider joining all columns at once using pd.concat(axis=1) instead. To get a de-fragmented frame, use `newframe = frame.copy()`\n",
            "  muestras['Muestra_' + str(i)]=_ # Con ello salvo cada una de las columnas del df\n",
            "/tmp/ipython-input-470-1324038430.py:7: PerformanceWarning: DataFrame is highly fragmented.  This is usually the result of calling `frame.insert` many times, which has poor performance.  Consider joining all columns at once using pd.concat(axis=1) instead. To get a de-fragmented frame, use `newframe = frame.copy()`\n",
            "  muestras['Muestra_' + str(i)]=_ # Con ello salvo cada una de las columnas del df\n",
            "/tmp/ipython-input-470-1324038430.py:7: PerformanceWarning: DataFrame is highly fragmented.  This is usually the result of calling `frame.insert` many times, which has poor performance.  Consider joining all columns at once using pd.concat(axis=1) instead. To get a de-fragmented frame, use `newframe = frame.copy()`\n",
            "  muestras['Muestra_' + str(i)]=_ # Con ello salvo cada una de las columnas del df\n",
            "/tmp/ipython-input-470-1324038430.py:7: PerformanceWarning: DataFrame is highly fragmented.  This is usually the result of calling `frame.insert` many times, which has poor performance.  Consider joining all columns at once using pd.concat(axis=1) instead. To get a de-fragmented frame, use `newframe = frame.copy()`\n",
            "  muestras['Muestra_' + str(i)]=_ # Con ello salvo cada una de las columnas del df\n",
            "/tmp/ipython-input-470-1324038430.py:7: PerformanceWarning: DataFrame is highly fragmented.  This is usually the result of calling `frame.insert` many times, which has poor performance.  Consider joining all columns at once using pd.concat(axis=1) instead. To get a de-fragmented frame, use `newframe = frame.copy()`\n",
            "  muestras['Muestra_' + str(i)]=_ # Con ello salvo cada una de las columnas del df\n",
            "/tmp/ipython-input-470-1324038430.py:7: PerformanceWarning: DataFrame is highly fragmented.  This is usually the result of calling `frame.insert` many times, which has poor performance.  Consider joining all columns at once using pd.concat(axis=1) instead. To get a de-fragmented frame, use `newframe = frame.copy()`\n",
            "  muestras['Muestra_' + str(i)]=_ # Con ello salvo cada una de las columnas del df\n",
            "/tmp/ipython-input-470-1324038430.py:7: PerformanceWarning: DataFrame is highly fragmented.  This is usually the result of calling `frame.insert` many times, which has poor performance.  Consider joining all columns at once using pd.concat(axis=1) instead. To get a de-fragmented frame, use `newframe = frame.copy()`\n",
            "  muestras['Muestra_' + str(i)]=_ # Con ello salvo cada una de las columnas del df\n",
            "/tmp/ipython-input-470-1324038430.py:7: PerformanceWarning: DataFrame is highly fragmented.  This is usually the result of calling `frame.insert` many times, which has poor performance.  Consider joining all columns at once using pd.concat(axis=1) instead. To get a de-fragmented frame, use `newframe = frame.copy()`\n",
            "  muestras['Muestra_' + str(i)]=_ # Con ello salvo cada una de las columnas del df\n",
            "/tmp/ipython-input-470-1324038430.py:7: PerformanceWarning: DataFrame is highly fragmented.  This is usually the result of calling `frame.insert` many times, which has poor performance.  Consider joining all columns at once using pd.concat(axis=1) instead. To get a de-fragmented frame, use `newframe = frame.copy()`\n",
            "  muestras['Muestra_' + str(i)]=_ # Con ello salvo cada una de las columnas del df\n",
            "/tmp/ipython-input-470-1324038430.py:7: PerformanceWarning: DataFrame is highly fragmented.  This is usually the result of calling `frame.insert` many times, which has poor performance.  Consider joining all columns at once using pd.concat(axis=1) instead. To get a de-fragmented frame, use `newframe = frame.copy()`\n",
            "  muestras['Muestra_' + str(i)]=_ # Con ello salvo cada una de las columnas del df\n",
            "/tmp/ipython-input-470-1324038430.py:7: PerformanceWarning: DataFrame is highly fragmented.  This is usually the result of calling `frame.insert` many times, which has poor performance.  Consider joining all columns at once using pd.concat(axis=1) instead. To get a de-fragmented frame, use `newframe = frame.copy()`\n",
            "  muestras['Muestra_' + str(i)]=_ # Con ello salvo cada una de las columnas del df\n",
            "/tmp/ipython-input-470-1324038430.py:7: PerformanceWarning: DataFrame is highly fragmented.  This is usually the result of calling `frame.insert` many times, which has poor performance.  Consider joining all columns at once using pd.concat(axis=1) instead. To get a de-fragmented frame, use `newframe = frame.copy()`\n",
            "  muestras['Muestra_' + str(i)]=_ # Con ello salvo cada una de las columnas del df\n",
            "/tmp/ipython-input-470-1324038430.py:7: PerformanceWarning: DataFrame is highly fragmented.  This is usually the result of calling `frame.insert` many times, which has poor performance.  Consider joining all columns at once using pd.concat(axis=1) instead. To get a de-fragmented frame, use `newframe = frame.copy()`\n",
            "  muestras['Muestra_' + str(i)]=_ # Con ello salvo cada una de las columnas del df\n",
            "/tmp/ipython-input-470-1324038430.py:7: PerformanceWarning: DataFrame is highly fragmented.  This is usually the result of calling `frame.insert` many times, which has poor performance.  Consider joining all columns at once using pd.concat(axis=1) instead. To get a de-fragmented frame, use `newframe = frame.copy()`\n",
            "  muestras['Muestra_' + str(i)]=_ # Con ello salvo cada una de las columnas del df\n",
            "/tmp/ipython-input-470-1324038430.py:7: PerformanceWarning: DataFrame is highly fragmented.  This is usually the result of calling `frame.insert` many times, which has poor performance.  Consider joining all columns at once using pd.concat(axis=1) instead. To get a de-fragmented frame, use `newframe = frame.copy()`\n",
            "  muestras['Muestra_' + str(i)]=_ # Con ello salvo cada una de las columnas del df\n",
            "/tmp/ipython-input-470-1324038430.py:7: PerformanceWarning: DataFrame is highly fragmented.  This is usually the result of calling `frame.insert` many times, which has poor performance.  Consider joining all columns at once using pd.concat(axis=1) instead. To get a de-fragmented frame, use `newframe = frame.copy()`\n",
            "  muestras['Muestra_' + str(i)]=_ # Con ello salvo cada una de las columnas del df\n",
            "/tmp/ipython-input-470-1324038430.py:7: PerformanceWarning: DataFrame is highly fragmented.  This is usually the result of calling `frame.insert` many times, which has poor performance.  Consider joining all columns at once using pd.concat(axis=1) instead. To get a de-fragmented frame, use `newframe = frame.copy()`\n",
            "  muestras['Muestra_' + str(i)]=_ # Con ello salvo cada una de las columnas del df\n",
            "/tmp/ipython-input-470-1324038430.py:7: PerformanceWarning: DataFrame is highly fragmented.  This is usually the result of calling `frame.insert` many times, which has poor performance.  Consider joining all columns at once using pd.concat(axis=1) instead. To get a de-fragmented frame, use `newframe = frame.copy()`\n",
            "  muestras['Muestra_' + str(i)]=_ # Con ello salvo cada una de las columnas del df\n",
            "/tmp/ipython-input-470-1324038430.py:7: PerformanceWarning: DataFrame is highly fragmented.  This is usually the result of calling `frame.insert` many times, which has poor performance.  Consider joining all columns at once using pd.concat(axis=1) instead. To get a de-fragmented frame, use `newframe = frame.copy()`\n",
            "  muestras['Muestra_' + str(i)]=_ # Con ello salvo cada una de las columnas del df\n",
            "/tmp/ipython-input-470-1324038430.py:7: PerformanceWarning: DataFrame is highly fragmented.  This is usually the result of calling `frame.insert` many times, which has poor performance.  Consider joining all columns at once using pd.concat(axis=1) instead. To get a de-fragmented frame, use `newframe = frame.copy()`\n",
            "  muestras['Muestra_' + str(i)]=_ # Con ello salvo cada una de las columnas del df\n",
            "/tmp/ipython-input-470-1324038430.py:7: PerformanceWarning: DataFrame is highly fragmented.  This is usually the result of calling `frame.insert` many times, which has poor performance.  Consider joining all columns at once using pd.concat(axis=1) instead. To get a de-fragmented frame, use `newframe = frame.copy()`\n",
            "  muestras['Muestra_' + str(i)]=_ # Con ello salvo cada una de las columnas del df\n",
            "/tmp/ipython-input-470-1324038430.py:7: PerformanceWarning: DataFrame is highly fragmented.  This is usually the result of calling `frame.insert` many times, which has poor performance.  Consider joining all columns at once using pd.concat(axis=1) instead. To get a de-fragmented frame, use `newframe = frame.copy()`\n",
            "  muestras['Muestra_' + str(i)]=_ # Con ello salvo cada una de las columnas del df\n",
            "/tmp/ipython-input-470-1324038430.py:7: PerformanceWarning: DataFrame is highly fragmented.  This is usually the result of calling `frame.insert` many times, which has poor performance.  Consider joining all columns at once using pd.concat(axis=1) instead. To get a de-fragmented frame, use `newframe = frame.copy()`\n",
            "  muestras['Muestra_' + str(i)]=_ # Con ello salvo cada una de las columnas del df\n",
            "/tmp/ipython-input-470-1324038430.py:7: PerformanceWarning: DataFrame is highly fragmented.  This is usually the result of calling `frame.insert` many times, which has poor performance.  Consider joining all columns at once using pd.concat(axis=1) instead. To get a de-fragmented frame, use `newframe = frame.copy()`\n",
            "  muestras['Muestra_' + str(i)]=_ # Con ello salvo cada una de las columnas del df\n",
            "/tmp/ipython-input-470-1324038430.py:7: PerformanceWarning: DataFrame is highly fragmented.  This is usually the result of calling `frame.insert` many times, which has poor performance.  Consider joining all columns at once using pd.concat(axis=1) instead. To get a de-fragmented frame, use `newframe = frame.copy()`\n",
            "  muestras['Muestra_' + str(i)]=_ # Con ello salvo cada una de las columnas del df\n",
            "/tmp/ipython-input-470-1324038430.py:7: PerformanceWarning: DataFrame is highly fragmented.  This is usually the result of calling `frame.insert` many times, which has poor performance.  Consider joining all columns at once using pd.concat(axis=1) instead. To get a de-fragmented frame, use `newframe = frame.copy()`\n",
            "  muestras['Muestra_' + str(i)]=_ # Con ello salvo cada una de las columnas del df\n",
            "/tmp/ipython-input-470-1324038430.py:7: PerformanceWarning: DataFrame is highly fragmented.  This is usually the result of calling `frame.insert` many times, which has poor performance.  Consider joining all columns at once using pd.concat(axis=1) instead. To get a de-fragmented frame, use `newframe = frame.copy()`\n",
            "  muestras['Muestra_' + str(i)]=_ # Con ello salvo cada una de las columnas del df\n",
            "/tmp/ipython-input-470-1324038430.py:7: PerformanceWarning: DataFrame is highly fragmented.  This is usually the result of calling `frame.insert` many times, which has poor performance.  Consider joining all columns at once using pd.concat(axis=1) instead. To get a de-fragmented frame, use `newframe = frame.copy()`\n",
            "  muestras['Muestra_' + str(i)]=_ # Con ello salvo cada una de las columnas del df\n",
            "/tmp/ipython-input-470-1324038430.py:7: PerformanceWarning: DataFrame is highly fragmented.  This is usually the result of calling `frame.insert` many times, which has poor performance.  Consider joining all columns at once using pd.concat(axis=1) instead. To get a de-fragmented frame, use `newframe = frame.copy()`\n",
            "  muestras['Muestra_' + str(i)]=_ # Con ello salvo cada una de las columnas del df\n",
            "/tmp/ipython-input-470-1324038430.py:7: PerformanceWarning: DataFrame is highly fragmented.  This is usually the result of calling `frame.insert` many times, which has poor performance.  Consider joining all columns at once using pd.concat(axis=1) instead. To get a de-fragmented frame, use `newframe = frame.copy()`\n",
            "  muestras['Muestra_' + str(i)]=_ # Con ello salvo cada una de las columnas del df\n",
            "/tmp/ipython-input-470-1324038430.py:7: PerformanceWarning: DataFrame is highly fragmented.  This is usually the result of calling `frame.insert` many times, which has poor performance.  Consider joining all columns at once using pd.concat(axis=1) instead. To get a de-fragmented frame, use `newframe = frame.copy()`\n",
            "  muestras['Muestra_' + str(i)]=_ # Con ello salvo cada una de las columnas del df\n",
            "/tmp/ipython-input-470-1324038430.py:7: PerformanceWarning: DataFrame is highly fragmented.  This is usually the result of calling `frame.insert` many times, which has poor performance.  Consider joining all columns at once using pd.concat(axis=1) instead. To get a de-fragmented frame, use `newframe = frame.copy()`\n",
            "  muestras['Muestra_' + str(i)]=_ # Con ello salvo cada una de las columnas del df\n",
            "/tmp/ipython-input-470-1324038430.py:7: PerformanceWarning: DataFrame is highly fragmented.  This is usually the result of calling `frame.insert` many times, which has poor performance.  Consider joining all columns at once using pd.concat(axis=1) instead. To get a de-fragmented frame, use `newframe = frame.copy()`\n",
            "  muestras['Muestra_' + str(i)]=_ # Con ello salvo cada una de las columnas del df\n",
            "/tmp/ipython-input-470-1324038430.py:7: PerformanceWarning: DataFrame is highly fragmented.  This is usually the result of calling `frame.insert` many times, which has poor performance.  Consider joining all columns at once using pd.concat(axis=1) instead. To get a de-fragmented frame, use `newframe = frame.copy()`\n",
            "  muestras['Muestra_' + str(i)]=_ # Con ello salvo cada una de las columnas del df\n",
            "/tmp/ipython-input-470-1324038430.py:7: PerformanceWarning: DataFrame is highly fragmented.  This is usually the result of calling `frame.insert` many times, which has poor performance.  Consider joining all columns at once using pd.concat(axis=1) instead. To get a de-fragmented frame, use `newframe = frame.copy()`\n",
            "  muestras['Muestra_' + str(i)]=_ # Con ello salvo cada una de las columnas del df\n",
            "/tmp/ipython-input-470-1324038430.py:7: PerformanceWarning: DataFrame is highly fragmented.  This is usually the result of calling `frame.insert` many times, which has poor performance.  Consider joining all columns at once using pd.concat(axis=1) instead. To get a de-fragmented frame, use `newframe = frame.copy()`\n",
            "  muestras['Muestra_' + str(i)]=_ # Con ello salvo cada una de las columnas del df\n",
            "/tmp/ipython-input-470-1324038430.py:7: PerformanceWarning: DataFrame is highly fragmented.  This is usually the result of calling `frame.insert` many times, which has poor performance.  Consider joining all columns at once using pd.concat(axis=1) instead. To get a de-fragmented frame, use `newframe = frame.copy()`\n",
            "  muestras['Muestra_' + str(i)]=_ # Con ello salvo cada una de las columnas del df\n",
            "/tmp/ipython-input-470-1324038430.py:7: PerformanceWarning: DataFrame is highly fragmented.  This is usually the result of calling `frame.insert` many times, which has poor performance.  Consider joining all columns at once using pd.concat(axis=1) instead. To get a de-fragmented frame, use `newframe = frame.copy()`\n",
            "  muestras['Muestra_' + str(i)]=_ # Con ello salvo cada una de las columnas del df\n",
            "/tmp/ipython-input-470-1324038430.py:7: PerformanceWarning: DataFrame is highly fragmented.  This is usually the result of calling `frame.insert` many times, which has poor performance.  Consider joining all columns at once using pd.concat(axis=1) instead. To get a de-fragmented frame, use `newframe = frame.copy()`\n",
            "  muestras['Muestra_' + str(i)]=_ # Con ello salvo cada una de las columnas del df\n",
            "/tmp/ipython-input-470-1324038430.py:7: PerformanceWarning: DataFrame is highly fragmented.  This is usually the result of calling `frame.insert` many times, which has poor performance.  Consider joining all columns at once using pd.concat(axis=1) instead. To get a de-fragmented frame, use `newframe = frame.copy()`\n",
            "  muestras['Muestra_' + str(i)]=_ # Con ello salvo cada una de las columnas del df\n",
            "/tmp/ipython-input-470-1324038430.py:7: PerformanceWarning: DataFrame is highly fragmented.  This is usually the result of calling `frame.insert` many times, which has poor performance.  Consider joining all columns at once using pd.concat(axis=1) instead. To get a de-fragmented frame, use `newframe = frame.copy()`\n",
            "  muestras['Muestra_' + str(i)]=_ # Con ello salvo cada una de las columnas del df\n",
            "/tmp/ipython-input-470-1324038430.py:7: PerformanceWarning: DataFrame is highly fragmented.  This is usually the result of calling `frame.insert` many times, which has poor performance.  Consider joining all columns at once using pd.concat(axis=1) instead. To get a de-fragmented frame, use `newframe = frame.copy()`\n",
            "  muestras['Muestra_' + str(i)]=_ # Con ello salvo cada una de las columnas del df\n",
            "/tmp/ipython-input-470-1324038430.py:7: PerformanceWarning: DataFrame is highly fragmented.  This is usually the result of calling `frame.insert` many times, which has poor performance.  Consider joining all columns at once using pd.concat(axis=1) instead. To get a de-fragmented frame, use `newframe = frame.copy()`\n",
            "  muestras['Muestra_' + str(i)]=_ # Con ello salvo cada una de las columnas del df\n",
            "/tmp/ipython-input-470-1324038430.py:7: PerformanceWarning: DataFrame is highly fragmented.  This is usually the result of calling `frame.insert` many times, which has poor performance.  Consider joining all columns at once using pd.concat(axis=1) instead. To get a de-fragmented frame, use `newframe = frame.copy()`\n",
            "  muestras['Muestra_' + str(i)]=_ # Con ello salvo cada una de las columnas del df\n",
            "/tmp/ipython-input-470-1324038430.py:7: PerformanceWarning: DataFrame is highly fragmented.  This is usually the result of calling `frame.insert` many times, which has poor performance.  Consider joining all columns at once using pd.concat(axis=1) instead. To get a de-fragmented frame, use `newframe = frame.copy()`\n",
            "  muestras['Muestra_' + str(i)]=_ # Con ello salvo cada una de las columnas del df\n",
            "/tmp/ipython-input-470-1324038430.py:7: PerformanceWarning: DataFrame is highly fragmented.  This is usually the result of calling `frame.insert` many times, which has poor performance.  Consider joining all columns at once using pd.concat(axis=1) instead. To get a de-fragmented frame, use `newframe = frame.copy()`\n",
            "  muestras['Muestra_' + str(i)]=_ # Con ello salvo cada una de las columnas del df\n",
            "/tmp/ipython-input-470-1324038430.py:7: PerformanceWarning: DataFrame is highly fragmented.  This is usually the result of calling `frame.insert` many times, which has poor performance.  Consider joining all columns at once using pd.concat(axis=1) instead. To get a de-fragmented frame, use `newframe = frame.copy()`\n",
            "  muestras['Muestra_' + str(i)]=_ # Con ello salvo cada una de las columnas del df\n",
            "/tmp/ipython-input-470-1324038430.py:7: PerformanceWarning: DataFrame is highly fragmented.  This is usually the result of calling `frame.insert` many times, which has poor performance.  Consider joining all columns at once using pd.concat(axis=1) instead. To get a de-fragmented frame, use `newframe = frame.copy()`\n",
            "  muestras['Muestra_' + str(i)]=_ # Con ello salvo cada una de las columnas del df\n",
            "/tmp/ipython-input-470-1324038430.py:7: PerformanceWarning: DataFrame is highly fragmented.  This is usually the result of calling `frame.insert` many times, which has poor performance.  Consider joining all columns at once using pd.concat(axis=1) instead. To get a de-fragmented frame, use `newframe = frame.copy()`\n",
            "  muestras['Muestra_' + str(i)]=_ # Con ello salvo cada una de las columnas del df\n",
            "/tmp/ipython-input-470-1324038430.py:7: PerformanceWarning: DataFrame is highly fragmented.  This is usually the result of calling `frame.insert` many times, which has poor performance.  Consider joining all columns at once using pd.concat(axis=1) instead. To get a de-fragmented frame, use `newframe = frame.copy()`\n",
            "  muestras['Muestra_' + str(i)]=_ # Con ello salvo cada una de las columnas del df\n",
            "/tmp/ipython-input-470-1324038430.py:7: PerformanceWarning: DataFrame is highly fragmented.  This is usually the result of calling `frame.insert` many times, which has poor performance.  Consider joining all columns at once using pd.concat(axis=1) instead. To get a de-fragmented frame, use `newframe = frame.copy()`\n",
            "  muestras['Muestra_' + str(i)]=_ # Con ello salvo cada una de las columnas del df\n",
            "/tmp/ipython-input-470-1324038430.py:7: PerformanceWarning: DataFrame is highly fragmented.  This is usually the result of calling `frame.insert` many times, which has poor performance.  Consider joining all columns at once using pd.concat(axis=1) instead. To get a de-fragmented frame, use `newframe = frame.copy()`\n",
            "  muestras['Muestra_' + str(i)]=_ # Con ello salvo cada una de las columnas del df\n",
            "/tmp/ipython-input-470-1324038430.py:7: PerformanceWarning: DataFrame is highly fragmented.  This is usually the result of calling `frame.insert` many times, which has poor performance.  Consider joining all columns at once using pd.concat(axis=1) instead. To get a de-fragmented frame, use `newframe = frame.copy()`\n",
            "  muestras['Muestra_' + str(i)]=_ # Con ello salvo cada una de las columnas del df\n",
            "/tmp/ipython-input-470-1324038430.py:7: PerformanceWarning: DataFrame is highly fragmented.  This is usually the result of calling `frame.insert` many times, which has poor performance.  Consider joining all columns at once using pd.concat(axis=1) instead. To get a de-fragmented frame, use `newframe = frame.copy()`\n",
            "  muestras['Muestra_' + str(i)]=_ # Con ello salvo cada una de las columnas del df\n",
            "/tmp/ipython-input-470-1324038430.py:7: PerformanceWarning: DataFrame is highly fragmented.  This is usually the result of calling `frame.insert` many times, which has poor performance.  Consider joining all columns at once using pd.concat(axis=1) instead. To get a de-fragmented frame, use `newframe = frame.copy()`\n",
            "  muestras['Muestra_' + str(i)]=_ # Con ello salvo cada una de las columnas del df\n",
            "/tmp/ipython-input-470-1324038430.py:7: PerformanceWarning: DataFrame is highly fragmented.  This is usually the result of calling `frame.insert` many times, which has poor performance.  Consider joining all columns at once using pd.concat(axis=1) instead. To get a de-fragmented frame, use `newframe = frame.copy()`\n",
            "  muestras['Muestra_' + str(i)]=_ # Con ello salvo cada una de las columnas del df\n",
            "/tmp/ipython-input-470-1324038430.py:7: PerformanceWarning: DataFrame is highly fragmented.  This is usually the result of calling `frame.insert` many times, which has poor performance.  Consider joining all columns at once using pd.concat(axis=1) instead. To get a de-fragmented frame, use `newframe = frame.copy()`\n",
            "  muestras['Muestra_' + str(i)]=_ # Con ello salvo cada una de las columnas del df\n",
            "/tmp/ipython-input-470-1324038430.py:7: PerformanceWarning: DataFrame is highly fragmented.  This is usually the result of calling `frame.insert` many times, which has poor performance.  Consider joining all columns at once using pd.concat(axis=1) instead. To get a de-fragmented frame, use `newframe = frame.copy()`\n",
            "  muestras['Muestra_' + str(i)]=_ # Con ello salvo cada una de las columnas del df\n",
            "/tmp/ipython-input-470-1324038430.py:7: PerformanceWarning: DataFrame is highly fragmented.  This is usually the result of calling `frame.insert` many times, which has poor performance.  Consider joining all columns at once using pd.concat(axis=1) instead. To get a de-fragmented frame, use `newframe = frame.copy()`\n",
            "  muestras['Muestra_' + str(i)]=_ # Con ello salvo cada una de las columnas del df\n",
            "/tmp/ipython-input-470-1324038430.py:7: PerformanceWarning: DataFrame is highly fragmented.  This is usually the result of calling `frame.insert` many times, which has poor performance.  Consider joining all columns at once using pd.concat(axis=1) instead. To get a de-fragmented frame, use `newframe = frame.copy()`\n",
            "  muestras['Muestra_' + str(i)]=_ # Con ello salvo cada una de las columnas del df\n",
            "/tmp/ipython-input-470-1324038430.py:7: PerformanceWarning: DataFrame is highly fragmented.  This is usually the result of calling `frame.insert` many times, which has poor performance.  Consider joining all columns at once using pd.concat(axis=1) instead. To get a de-fragmented frame, use `newframe = frame.copy()`\n",
            "  muestras['Muestra_' + str(i)]=_ # Con ello salvo cada una de las columnas del df\n",
            "/tmp/ipython-input-470-1324038430.py:7: PerformanceWarning: DataFrame is highly fragmented.  This is usually the result of calling `frame.insert` many times, which has poor performance.  Consider joining all columns at once using pd.concat(axis=1) instead. To get a de-fragmented frame, use `newframe = frame.copy()`\n",
            "  muestras['Muestra_' + str(i)]=_ # Con ello salvo cada una de las columnas del df\n",
            "/tmp/ipython-input-470-1324038430.py:7: PerformanceWarning: DataFrame is highly fragmented.  This is usually the result of calling `frame.insert` many times, which has poor performance.  Consider joining all columns at once using pd.concat(axis=1) instead. To get a de-fragmented frame, use `newframe = frame.copy()`\n",
            "  muestras['Muestra_' + str(i)]=_ # Con ello salvo cada una de las columnas del df\n",
            "/tmp/ipython-input-470-1324038430.py:7: PerformanceWarning: DataFrame is highly fragmented.  This is usually the result of calling `frame.insert` many times, which has poor performance.  Consider joining all columns at once using pd.concat(axis=1) instead. To get a de-fragmented frame, use `newframe = frame.copy()`\n",
            "  muestras['Muestra_' + str(i)]=_ # Con ello salvo cada una de las columnas del df\n",
            "/tmp/ipython-input-470-1324038430.py:7: PerformanceWarning: DataFrame is highly fragmented.  This is usually the result of calling `frame.insert` many times, which has poor performance.  Consider joining all columns at once using pd.concat(axis=1) instead. To get a de-fragmented frame, use `newframe = frame.copy()`\n",
            "  muestras['Muestra_' + str(i)]=_ # Con ello salvo cada una de las columnas del df\n",
            "/tmp/ipython-input-470-1324038430.py:7: PerformanceWarning: DataFrame is highly fragmented.  This is usually the result of calling `frame.insert` many times, which has poor performance.  Consider joining all columns at once using pd.concat(axis=1) instead. To get a de-fragmented frame, use `newframe = frame.copy()`\n",
            "  muestras['Muestra_' + str(i)]=_ # Con ello salvo cada una de las columnas del df\n",
            "/tmp/ipython-input-470-1324038430.py:7: PerformanceWarning: DataFrame is highly fragmented.  This is usually the result of calling `frame.insert` many times, which has poor performance.  Consider joining all columns at once using pd.concat(axis=1) instead. To get a de-fragmented frame, use `newframe = frame.copy()`\n",
            "  muestras['Muestra_' + str(i)]=_ # Con ello salvo cada una de las columnas del df\n",
            "/tmp/ipython-input-470-1324038430.py:7: PerformanceWarning: DataFrame is highly fragmented.  This is usually the result of calling `frame.insert` many times, which has poor performance.  Consider joining all columns at once using pd.concat(axis=1) instead. To get a de-fragmented frame, use `newframe = frame.copy()`\n",
            "  muestras['Muestra_' + str(i)]=_ # Con ello salvo cada una de las columnas del df\n",
            "/tmp/ipython-input-470-1324038430.py:7: PerformanceWarning: DataFrame is highly fragmented.  This is usually the result of calling `frame.insert` many times, which has poor performance.  Consider joining all columns at once using pd.concat(axis=1) instead. To get a de-fragmented frame, use `newframe = frame.copy()`\n",
            "  muestras['Muestra_' + str(i)]=_ # Con ello salvo cada una de las columnas del df\n",
            "/tmp/ipython-input-470-1324038430.py:7: PerformanceWarning: DataFrame is highly fragmented.  This is usually the result of calling `frame.insert` many times, which has poor performance.  Consider joining all columns at once using pd.concat(axis=1) instead. To get a de-fragmented frame, use `newframe = frame.copy()`\n",
            "  muestras['Muestra_' + str(i)]=_ # Con ello salvo cada una de las columnas del df\n",
            "/tmp/ipython-input-470-1324038430.py:7: PerformanceWarning: DataFrame is highly fragmented.  This is usually the result of calling `frame.insert` many times, which has poor performance.  Consider joining all columns at once using pd.concat(axis=1) instead. To get a de-fragmented frame, use `newframe = frame.copy()`\n",
            "  muestras['Muestra_' + str(i)]=_ # Con ello salvo cada una de las columnas del df\n",
            "/tmp/ipython-input-470-1324038430.py:7: PerformanceWarning: DataFrame is highly fragmented.  This is usually the result of calling `frame.insert` many times, which has poor performance.  Consider joining all columns at once using pd.concat(axis=1) instead. To get a de-fragmented frame, use `newframe = frame.copy()`\n",
            "  muestras['Muestra_' + str(i)]=_ # Con ello salvo cada una de las columnas del df\n",
            "/tmp/ipython-input-470-1324038430.py:7: PerformanceWarning: DataFrame is highly fragmented.  This is usually the result of calling `frame.insert` many times, which has poor performance.  Consider joining all columns at once using pd.concat(axis=1) instead. To get a de-fragmented frame, use `newframe = frame.copy()`\n",
            "  muestras['Muestra_' + str(i)]=_ # Con ello salvo cada una de las columnas del df\n",
            "/tmp/ipython-input-470-1324038430.py:7: PerformanceWarning: DataFrame is highly fragmented.  This is usually the result of calling `frame.insert` many times, which has poor performance.  Consider joining all columns at once using pd.concat(axis=1) instead. To get a de-fragmented frame, use `newframe = frame.copy()`\n",
            "  muestras['Muestra_' + str(i)]=_ # Con ello salvo cada una de las columnas del df\n",
            "/tmp/ipython-input-470-1324038430.py:7: PerformanceWarning: DataFrame is highly fragmented.  This is usually the result of calling `frame.insert` many times, which has poor performance.  Consider joining all columns at once using pd.concat(axis=1) instead. To get a de-fragmented frame, use `newframe = frame.copy()`\n",
            "  muestras['Muestra_' + str(i)]=_ # Con ello salvo cada una de las columnas del df\n",
            "/tmp/ipython-input-470-1324038430.py:7: PerformanceWarning: DataFrame is highly fragmented.  This is usually the result of calling `frame.insert` many times, which has poor performance.  Consider joining all columns at once using pd.concat(axis=1) instead. To get a de-fragmented frame, use `newframe = frame.copy()`\n",
            "  muestras['Muestra_' + str(i)]=_ # Con ello salvo cada una de las columnas del df\n",
            "/tmp/ipython-input-470-1324038430.py:7: PerformanceWarning: DataFrame is highly fragmented.  This is usually the result of calling `frame.insert` many times, which has poor performance.  Consider joining all columns at once using pd.concat(axis=1) instead. To get a de-fragmented frame, use `newframe = frame.copy()`\n",
            "  muestras['Muestra_' + str(i)]=_ # Con ello salvo cada una de las columnas del df\n",
            "/tmp/ipython-input-470-1324038430.py:7: PerformanceWarning: DataFrame is highly fragmented.  This is usually the result of calling `frame.insert` many times, which has poor performance.  Consider joining all columns at once using pd.concat(axis=1) instead. To get a de-fragmented frame, use `newframe = frame.copy()`\n",
            "  muestras['Muestra_' + str(i)]=_ # Con ello salvo cada una de las columnas del df\n",
            "/tmp/ipython-input-470-1324038430.py:7: PerformanceWarning: DataFrame is highly fragmented.  This is usually the result of calling `frame.insert` many times, which has poor performance.  Consider joining all columns at once using pd.concat(axis=1) instead. To get a de-fragmented frame, use `newframe = frame.copy()`\n",
            "  muestras['Muestra_' + str(i)]=_ # Con ello salvo cada una de las columnas del df\n",
            "/tmp/ipython-input-470-1324038430.py:7: PerformanceWarning: DataFrame is highly fragmented.  This is usually the result of calling `frame.insert` many times, which has poor performance.  Consider joining all columns at once using pd.concat(axis=1) instead. To get a de-fragmented frame, use `newframe = frame.copy()`\n",
            "  muestras['Muestra_' + str(i)]=_ # Con ello salvo cada una de las columnas del df\n",
            "/tmp/ipython-input-470-1324038430.py:7: PerformanceWarning: DataFrame is highly fragmented.  This is usually the result of calling `frame.insert` many times, which has poor performance.  Consider joining all columns at once using pd.concat(axis=1) instead. To get a de-fragmented frame, use `newframe = frame.copy()`\n",
            "  muestras['Muestra_' + str(i)]=_ # Con ello salvo cada una de las columnas del df\n",
            "/tmp/ipython-input-470-1324038430.py:7: PerformanceWarning: DataFrame is highly fragmented.  This is usually the result of calling `frame.insert` many times, which has poor performance.  Consider joining all columns at once using pd.concat(axis=1) instead. To get a de-fragmented frame, use `newframe = frame.copy()`\n",
            "  muestras['Muestra_' + str(i)]=_ # Con ello salvo cada una de las columnas del df\n",
            "/tmp/ipython-input-470-1324038430.py:7: PerformanceWarning: DataFrame is highly fragmented.  This is usually the result of calling `frame.insert` many times, which has poor performance.  Consider joining all columns at once using pd.concat(axis=1) instead. To get a de-fragmented frame, use `newframe = frame.copy()`\n",
            "  muestras['Muestra_' + str(i)]=_ # Con ello salvo cada una de las columnas del df\n",
            "/tmp/ipython-input-470-1324038430.py:7: PerformanceWarning: DataFrame is highly fragmented.  This is usually the result of calling `frame.insert` many times, which has poor performance.  Consider joining all columns at once using pd.concat(axis=1) instead. To get a de-fragmented frame, use `newframe = frame.copy()`\n",
            "  muestras['Muestra_' + str(i)]=_ # Con ello salvo cada una de las columnas del df\n",
            "/tmp/ipython-input-470-1324038430.py:7: PerformanceWarning: DataFrame is highly fragmented.  This is usually the result of calling `frame.insert` many times, which has poor performance.  Consider joining all columns at once using pd.concat(axis=1) instead. To get a de-fragmented frame, use `newframe = frame.copy()`\n",
            "  muestras['Muestra_' + str(i)]=_ # Con ello salvo cada una de las columnas del df\n",
            "/tmp/ipython-input-470-1324038430.py:7: PerformanceWarning: DataFrame is highly fragmented.  This is usually the result of calling `frame.insert` many times, which has poor performance.  Consider joining all columns at once using pd.concat(axis=1) instead. To get a de-fragmented frame, use `newframe = frame.copy()`\n",
            "  muestras['Muestra_' + str(i)]=_ # Con ello salvo cada una de las columnas del df\n",
            "/tmp/ipython-input-470-1324038430.py:7: PerformanceWarning: DataFrame is highly fragmented.  This is usually the result of calling `frame.insert` many times, which has poor performance.  Consider joining all columns at once using pd.concat(axis=1) instead. To get a de-fragmented frame, use `newframe = frame.copy()`\n",
            "  muestras['Muestra_' + str(i)]=_ # Con ello salvo cada una de las columnas del df\n",
            "/tmp/ipython-input-470-1324038430.py:7: PerformanceWarning: DataFrame is highly fragmented.  This is usually the result of calling `frame.insert` many times, which has poor performance.  Consider joining all columns at once using pd.concat(axis=1) instead. To get a de-fragmented frame, use `newframe = frame.copy()`\n",
            "  muestras['Muestra_' + str(i)]=_ # Con ello salvo cada una de las columnas del df\n",
            "/tmp/ipython-input-470-1324038430.py:7: PerformanceWarning: DataFrame is highly fragmented.  This is usually the result of calling `frame.insert` many times, which has poor performance.  Consider joining all columns at once using pd.concat(axis=1) instead. To get a de-fragmented frame, use `newframe = frame.copy()`\n",
            "  muestras['Muestra_' + str(i)]=_ # Con ello salvo cada una de las columnas del df\n",
            "/tmp/ipython-input-470-1324038430.py:7: PerformanceWarning: DataFrame is highly fragmented.  This is usually the result of calling `frame.insert` many times, which has poor performance.  Consider joining all columns at once using pd.concat(axis=1) instead. To get a de-fragmented frame, use `newframe = frame.copy()`\n",
            "  muestras['Muestra_' + str(i)]=_ # Con ello salvo cada una de las columnas del df\n",
            "/tmp/ipython-input-470-1324038430.py:7: PerformanceWarning: DataFrame is highly fragmented.  This is usually the result of calling `frame.insert` many times, which has poor performance.  Consider joining all columns at once using pd.concat(axis=1) instead. To get a de-fragmented frame, use `newframe = frame.copy()`\n",
            "  muestras['Muestra_' + str(i)]=_ # Con ello salvo cada una de las columnas del df\n",
            "/tmp/ipython-input-470-1324038430.py:7: PerformanceWarning: DataFrame is highly fragmented.  This is usually the result of calling `frame.insert` many times, which has poor performance.  Consider joining all columns at once using pd.concat(axis=1) instead. To get a de-fragmented frame, use `newframe = frame.copy()`\n",
            "  muestras['Muestra_' + str(i)]=_ # Con ello salvo cada una de las columnas del df\n",
            "/tmp/ipython-input-470-1324038430.py:7: PerformanceWarning: DataFrame is highly fragmented.  This is usually the result of calling `frame.insert` many times, which has poor performance.  Consider joining all columns at once using pd.concat(axis=1) instead. To get a de-fragmented frame, use `newframe = frame.copy()`\n",
            "  muestras['Muestra_' + str(i)]=_ # Con ello salvo cada una de las columnas del df\n",
            "/tmp/ipython-input-470-1324038430.py:7: PerformanceWarning: DataFrame is highly fragmented.  This is usually the result of calling `frame.insert` many times, which has poor performance.  Consider joining all columns at once using pd.concat(axis=1) instead. To get a de-fragmented frame, use `newframe = frame.copy()`\n",
            "  muestras['Muestra_' + str(i)]=_ # Con ello salvo cada una de las columnas del df\n",
            "/tmp/ipython-input-470-1324038430.py:7: PerformanceWarning: DataFrame is highly fragmented.  This is usually the result of calling `frame.insert` many times, which has poor performance.  Consider joining all columns at once using pd.concat(axis=1) instead. To get a de-fragmented frame, use `newframe = frame.copy()`\n",
            "  muestras['Muestra_' + str(i)]=_ # Con ello salvo cada una de las columnas del df\n",
            "/tmp/ipython-input-470-1324038430.py:7: PerformanceWarning: DataFrame is highly fragmented.  This is usually the result of calling `frame.insert` many times, which has poor performance.  Consider joining all columns at once using pd.concat(axis=1) instead. To get a de-fragmented frame, use `newframe = frame.copy()`\n",
            "  muestras['Muestra_' + str(i)]=_ # Con ello salvo cada una de las columnas del df\n",
            "/tmp/ipython-input-470-1324038430.py:7: PerformanceWarning: DataFrame is highly fragmented.  This is usually the result of calling `frame.insert` many times, which has poor performance.  Consider joining all columns at once using pd.concat(axis=1) instead. To get a de-fragmented frame, use `newframe = frame.copy()`\n",
            "  muestras['Muestra_' + str(i)]=_ # Con ello salvo cada una de las columnas del df\n",
            "/tmp/ipython-input-470-1324038430.py:7: PerformanceWarning: DataFrame is highly fragmented.  This is usually the result of calling `frame.insert` many times, which has poor performance.  Consider joining all columns at once using pd.concat(axis=1) instead. To get a de-fragmented frame, use `newframe = frame.copy()`\n",
            "  muestras['Muestra_' + str(i)]=_ # Con ello salvo cada una de las columnas del df\n",
            "/tmp/ipython-input-470-1324038430.py:7: PerformanceWarning: DataFrame is highly fragmented.  This is usually the result of calling `frame.insert` many times, which has poor performance.  Consider joining all columns at once using pd.concat(axis=1) instead. To get a de-fragmented frame, use `newframe = frame.copy()`\n",
            "  muestras['Muestra_' + str(i)]=_ # Con ello salvo cada una de las columnas del df\n",
            "/tmp/ipython-input-470-1324038430.py:7: PerformanceWarning: DataFrame is highly fragmented.  This is usually the result of calling `frame.insert` many times, which has poor performance.  Consider joining all columns at once using pd.concat(axis=1) instead. To get a de-fragmented frame, use `newframe = frame.copy()`\n",
            "  muestras['Muestra_' + str(i)]=_ # Con ello salvo cada una de las columnas del df\n",
            "/tmp/ipython-input-470-1324038430.py:7: PerformanceWarning: DataFrame is highly fragmented.  This is usually the result of calling `frame.insert` many times, which has poor performance.  Consider joining all columns at once using pd.concat(axis=1) instead. To get a de-fragmented frame, use `newframe = frame.copy()`\n",
            "  muestras['Muestra_' + str(i)]=_ # Con ello salvo cada una de las columnas del df\n",
            "/tmp/ipython-input-470-1324038430.py:7: PerformanceWarning: DataFrame is highly fragmented.  This is usually the result of calling `frame.insert` many times, which has poor performance.  Consider joining all columns at once using pd.concat(axis=1) instead. To get a de-fragmented frame, use `newframe = frame.copy()`\n",
            "  muestras['Muestra_' + str(i)]=_ # Con ello salvo cada una de las columnas del df\n",
            "/tmp/ipython-input-470-1324038430.py:7: PerformanceWarning: DataFrame is highly fragmented.  This is usually the result of calling `frame.insert` many times, which has poor performance.  Consider joining all columns at once using pd.concat(axis=1) instead. To get a de-fragmented frame, use `newframe = frame.copy()`\n",
            "  muestras['Muestra_' + str(i)]=_ # Con ello salvo cada una de las columnas del df\n",
            "/tmp/ipython-input-470-1324038430.py:7: PerformanceWarning: DataFrame is highly fragmented.  This is usually the result of calling `frame.insert` many times, which has poor performance.  Consider joining all columns at once using pd.concat(axis=1) instead. To get a de-fragmented frame, use `newframe = frame.copy()`\n",
            "  muestras['Muestra_' + str(i)]=_ # Con ello salvo cada una de las columnas del df\n",
            "/tmp/ipython-input-470-1324038430.py:7: PerformanceWarning: DataFrame is highly fragmented.  This is usually the result of calling `frame.insert` many times, which has poor performance.  Consider joining all columns at once using pd.concat(axis=1) instead. To get a de-fragmented frame, use `newframe = frame.copy()`\n",
            "  muestras['Muestra_' + str(i)]=_ # Con ello salvo cada una de las columnas del df\n",
            "/tmp/ipython-input-470-1324038430.py:7: PerformanceWarning: DataFrame is highly fragmented.  This is usually the result of calling `frame.insert` many times, which has poor performance.  Consider joining all columns at once using pd.concat(axis=1) instead. To get a de-fragmented frame, use `newframe = frame.copy()`\n",
            "  muestras['Muestra_' + str(i)]=_ # Con ello salvo cada una de las columnas del df\n",
            "/tmp/ipython-input-470-1324038430.py:7: PerformanceWarning: DataFrame is highly fragmented.  This is usually the result of calling `frame.insert` many times, which has poor performance.  Consider joining all columns at once using pd.concat(axis=1) instead. To get a de-fragmented frame, use `newframe = frame.copy()`\n",
            "  muestras['Muestra_' + str(i)]=_ # Con ello salvo cada una de las columnas del df\n",
            "/tmp/ipython-input-470-1324038430.py:7: PerformanceWarning: DataFrame is highly fragmented.  This is usually the result of calling `frame.insert` many times, which has poor performance.  Consider joining all columns at once using pd.concat(axis=1) instead. To get a de-fragmented frame, use `newframe = frame.copy()`\n",
            "  muestras['Muestra_' + str(i)]=_ # Con ello salvo cada una de las columnas del df\n",
            "/tmp/ipython-input-470-1324038430.py:7: PerformanceWarning: DataFrame is highly fragmented.  This is usually the result of calling `frame.insert` many times, which has poor performance.  Consider joining all columns at once using pd.concat(axis=1) instead. To get a de-fragmented frame, use `newframe = frame.copy()`\n",
            "  muestras['Muestra_' + str(i)]=_ # Con ello salvo cada una de las columnas del df\n",
            "/tmp/ipython-input-470-1324038430.py:7: PerformanceWarning: DataFrame is highly fragmented.  This is usually the result of calling `frame.insert` many times, which has poor performance.  Consider joining all columns at once using pd.concat(axis=1) instead. To get a de-fragmented frame, use `newframe = frame.copy()`\n",
            "  muestras['Muestra_' + str(i)]=_ # Con ello salvo cada una de las columnas del df\n",
            "/tmp/ipython-input-470-1324038430.py:7: PerformanceWarning: DataFrame is highly fragmented.  This is usually the result of calling `frame.insert` many times, which has poor performance.  Consider joining all columns at once using pd.concat(axis=1) instead. To get a de-fragmented frame, use `newframe = frame.copy()`\n",
            "  muestras['Muestra_' + str(i)]=_ # Con ello salvo cada una de las columnas del df\n",
            "/tmp/ipython-input-470-1324038430.py:7: PerformanceWarning: DataFrame is highly fragmented.  This is usually the result of calling `frame.insert` many times, which has poor performance.  Consider joining all columns at once using pd.concat(axis=1) instead. To get a de-fragmented frame, use `newframe = frame.copy()`\n",
            "  muestras['Muestra_' + str(i)]=_ # Con ello salvo cada una de las columnas del df\n",
            "/tmp/ipython-input-470-1324038430.py:7: PerformanceWarning: DataFrame is highly fragmented.  This is usually the result of calling `frame.insert` many times, which has poor performance.  Consider joining all columns at once using pd.concat(axis=1) instead. To get a de-fragmented frame, use `newframe = frame.copy()`\n",
            "  muestras['Muestra_' + str(i)]=_ # Con ello salvo cada una de las columnas del df\n",
            "/tmp/ipython-input-470-1324038430.py:7: PerformanceWarning: DataFrame is highly fragmented.  This is usually the result of calling `frame.insert` many times, which has poor performance.  Consider joining all columns at once using pd.concat(axis=1) instead. To get a de-fragmented frame, use `newframe = frame.copy()`\n",
            "  muestras['Muestra_' + str(i)]=_ # Con ello salvo cada una de las columnas del df\n",
            "/tmp/ipython-input-470-1324038430.py:7: PerformanceWarning: DataFrame is highly fragmented.  This is usually the result of calling `frame.insert` many times, which has poor performance.  Consider joining all columns at once using pd.concat(axis=1) instead. To get a de-fragmented frame, use `newframe = frame.copy()`\n",
            "  muestras['Muestra_' + str(i)]=_ # Con ello salvo cada una de las columnas del df\n",
            "/tmp/ipython-input-470-1324038430.py:7: PerformanceWarning: DataFrame is highly fragmented.  This is usually the result of calling `frame.insert` many times, which has poor performance.  Consider joining all columns at once using pd.concat(axis=1) instead. To get a de-fragmented frame, use `newframe = frame.copy()`\n",
            "  muestras['Muestra_' + str(i)]=_ # Con ello salvo cada una de las columnas del df\n",
            "/tmp/ipython-input-470-1324038430.py:7: PerformanceWarning: DataFrame is highly fragmented.  This is usually the result of calling `frame.insert` many times, which has poor performance.  Consider joining all columns at once using pd.concat(axis=1) instead. To get a de-fragmented frame, use `newframe = frame.copy()`\n",
            "  muestras['Muestra_' + str(i)]=_ # Con ello salvo cada una de las columnas del df\n",
            "/tmp/ipython-input-470-1324038430.py:7: PerformanceWarning: DataFrame is highly fragmented.  This is usually the result of calling `frame.insert` many times, which has poor performance.  Consider joining all columns at once using pd.concat(axis=1) instead. To get a de-fragmented frame, use `newframe = frame.copy()`\n",
            "  muestras['Muestra_' + str(i)]=_ # Con ello salvo cada una de las columnas del df\n",
            "/tmp/ipython-input-470-1324038430.py:7: PerformanceWarning: DataFrame is highly fragmented.  This is usually the result of calling `frame.insert` many times, which has poor performance.  Consider joining all columns at once using pd.concat(axis=1) instead. To get a de-fragmented frame, use `newframe = frame.copy()`\n",
            "  muestras['Muestra_' + str(i)]=_ # Con ello salvo cada una de las columnas del df\n",
            "/tmp/ipython-input-470-1324038430.py:7: PerformanceWarning: DataFrame is highly fragmented.  This is usually the result of calling `frame.insert` many times, which has poor performance.  Consider joining all columns at once using pd.concat(axis=1) instead. To get a de-fragmented frame, use `newframe = frame.copy()`\n",
            "  muestras['Muestra_' + str(i)]=_ # Con ello salvo cada una de las columnas del df\n",
            "/tmp/ipython-input-470-1324038430.py:7: PerformanceWarning: DataFrame is highly fragmented.  This is usually the result of calling `frame.insert` many times, which has poor performance.  Consider joining all columns at once using pd.concat(axis=1) instead. To get a de-fragmented frame, use `newframe = frame.copy()`\n",
            "  muestras['Muestra_' + str(i)]=_ # Con ello salvo cada una de las columnas del df\n",
            "/tmp/ipython-input-470-1324038430.py:7: PerformanceWarning: DataFrame is highly fragmented.  This is usually the result of calling `frame.insert` many times, which has poor performance.  Consider joining all columns at once using pd.concat(axis=1) instead. To get a de-fragmented frame, use `newframe = frame.copy()`\n",
            "  muestras['Muestra_' + str(i)]=_ # Con ello salvo cada una de las columnas del df\n",
            "/tmp/ipython-input-470-1324038430.py:7: PerformanceWarning: DataFrame is highly fragmented.  This is usually the result of calling `frame.insert` many times, which has poor performance.  Consider joining all columns at once using pd.concat(axis=1) instead. To get a de-fragmented frame, use `newframe = frame.copy()`\n",
            "  muestras['Muestra_' + str(i)]=_ # Con ello salvo cada una de las columnas del df\n",
            "/tmp/ipython-input-470-1324038430.py:7: PerformanceWarning: DataFrame is highly fragmented.  This is usually the result of calling `frame.insert` many times, which has poor performance.  Consider joining all columns at once using pd.concat(axis=1) instead. To get a de-fragmented frame, use `newframe = frame.copy()`\n",
            "  muestras['Muestra_' + str(i)]=_ # Con ello salvo cada una de las columnas del df\n",
            "/tmp/ipython-input-470-1324038430.py:7: PerformanceWarning: DataFrame is highly fragmented.  This is usually the result of calling `frame.insert` many times, which has poor performance.  Consider joining all columns at once using pd.concat(axis=1) instead. To get a de-fragmented frame, use `newframe = frame.copy()`\n",
            "  muestras['Muestra_' + str(i)]=_ # Con ello salvo cada una de las columnas del df\n",
            "/tmp/ipython-input-470-1324038430.py:7: PerformanceWarning: DataFrame is highly fragmented.  This is usually the result of calling `frame.insert` many times, which has poor performance.  Consider joining all columns at once using pd.concat(axis=1) instead. To get a de-fragmented frame, use `newframe = frame.copy()`\n",
            "  muestras['Muestra_' + str(i)]=_ # Con ello salvo cada una de las columnas del df\n",
            "/tmp/ipython-input-470-1324038430.py:7: PerformanceWarning: DataFrame is highly fragmented.  This is usually the result of calling `frame.insert` many times, which has poor performance.  Consider joining all columns at once using pd.concat(axis=1) instead. To get a de-fragmented frame, use `newframe = frame.copy()`\n",
            "  muestras['Muestra_' + str(i)]=_ # Con ello salvo cada una de las columnas del df\n",
            "/tmp/ipython-input-470-1324038430.py:7: PerformanceWarning: DataFrame is highly fragmented.  This is usually the result of calling `frame.insert` many times, which has poor performance.  Consider joining all columns at once using pd.concat(axis=1) instead. To get a de-fragmented frame, use `newframe = frame.copy()`\n",
            "  muestras['Muestra_' + str(i)]=_ # Con ello salvo cada una de las columnas del df\n",
            "/tmp/ipython-input-470-1324038430.py:7: PerformanceWarning: DataFrame is highly fragmented.  This is usually the result of calling `frame.insert` many times, which has poor performance.  Consider joining all columns at once using pd.concat(axis=1) instead. To get a de-fragmented frame, use `newframe = frame.copy()`\n",
            "  muestras['Muestra_' + str(i)]=_ # Con ello salvo cada una de las columnas del df\n",
            "/tmp/ipython-input-470-1324038430.py:7: PerformanceWarning: DataFrame is highly fragmented.  This is usually the result of calling `frame.insert` many times, which has poor performance.  Consider joining all columns at once using pd.concat(axis=1) instead. To get a de-fragmented frame, use `newframe = frame.copy()`\n",
            "  muestras['Muestra_' + str(i)]=_ # Con ello salvo cada una de las columnas del df\n",
            "/tmp/ipython-input-470-1324038430.py:7: PerformanceWarning: DataFrame is highly fragmented.  This is usually the result of calling `frame.insert` many times, which has poor performance.  Consider joining all columns at once using pd.concat(axis=1) instead. To get a de-fragmented frame, use `newframe = frame.copy()`\n",
            "  muestras['Muestra_' + str(i)]=_ # Con ello salvo cada una de las columnas del df\n",
            "/tmp/ipython-input-470-1324038430.py:7: PerformanceWarning: DataFrame is highly fragmented.  This is usually the result of calling `frame.insert` many times, which has poor performance.  Consider joining all columns at once using pd.concat(axis=1) instead. To get a de-fragmented frame, use `newframe = frame.copy()`\n",
            "  muestras['Muestra_' + str(i)]=_ # Con ello salvo cada una de las columnas del df\n",
            "/tmp/ipython-input-470-1324038430.py:7: PerformanceWarning: DataFrame is highly fragmented.  This is usually the result of calling `frame.insert` many times, which has poor performance.  Consider joining all columns at once using pd.concat(axis=1) instead. To get a de-fragmented frame, use `newframe = frame.copy()`\n",
            "  muestras['Muestra_' + str(i)]=_ # Con ello salvo cada una de las columnas del df\n",
            "/tmp/ipython-input-470-1324038430.py:7: PerformanceWarning: DataFrame is highly fragmented.  This is usually the result of calling `frame.insert` many times, which has poor performance.  Consider joining all columns at once using pd.concat(axis=1) instead. To get a de-fragmented frame, use `newframe = frame.copy()`\n",
            "  muestras['Muestra_' + str(i)]=_ # Con ello salvo cada una de las columnas del df\n",
            "/tmp/ipython-input-470-1324038430.py:7: PerformanceWarning: DataFrame is highly fragmented.  This is usually the result of calling `frame.insert` many times, which has poor performance.  Consider joining all columns at once using pd.concat(axis=1) instead. To get a de-fragmented frame, use `newframe = frame.copy()`\n",
            "  muestras['Muestra_' + str(i)]=_ # Con ello salvo cada una de las columnas del df\n",
            "/tmp/ipython-input-470-1324038430.py:7: PerformanceWarning: DataFrame is highly fragmented.  This is usually the result of calling `frame.insert` many times, which has poor performance.  Consider joining all columns at once using pd.concat(axis=1) instead. To get a de-fragmented frame, use `newframe = frame.copy()`\n",
            "  muestras['Muestra_' + str(i)]=_ # Con ello salvo cada una de las columnas del df\n",
            "/tmp/ipython-input-470-1324038430.py:7: PerformanceWarning: DataFrame is highly fragmented.  This is usually the result of calling `frame.insert` many times, which has poor performance.  Consider joining all columns at once using pd.concat(axis=1) instead. To get a de-fragmented frame, use `newframe = frame.copy()`\n",
            "  muestras['Muestra_' + str(i)]=_ # Con ello salvo cada una de las columnas del df\n",
            "/tmp/ipython-input-470-1324038430.py:7: PerformanceWarning: DataFrame is highly fragmented.  This is usually the result of calling `frame.insert` many times, which has poor performance.  Consider joining all columns at once using pd.concat(axis=1) instead. To get a de-fragmented frame, use `newframe = frame.copy()`\n",
            "  muestras['Muestra_' + str(i)]=_ # Con ello salvo cada una de las columnas del df\n",
            "/tmp/ipython-input-470-1324038430.py:7: PerformanceWarning: DataFrame is highly fragmented.  This is usually the result of calling `frame.insert` many times, which has poor performance.  Consider joining all columns at once using pd.concat(axis=1) instead. To get a de-fragmented frame, use `newframe = frame.copy()`\n",
            "  muestras['Muestra_' + str(i)]=_ # Con ello salvo cada una de las columnas del df\n",
            "/tmp/ipython-input-470-1324038430.py:7: PerformanceWarning: DataFrame is highly fragmented.  This is usually the result of calling `frame.insert` many times, which has poor performance.  Consider joining all columns at once using pd.concat(axis=1) instead. To get a de-fragmented frame, use `newframe = frame.copy()`\n",
            "  muestras['Muestra_' + str(i)]=_ # Con ello salvo cada una de las columnas del df\n",
            "/tmp/ipython-input-470-1324038430.py:7: PerformanceWarning: DataFrame is highly fragmented.  This is usually the result of calling `frame.insert` many times, which has poor performance.  Consider joining all columns at once using pd.concat(axis=1) instead. To get a de-fragmented frame, use `newframe = frame.copy()`\n",
            "  muestras['Muestra_' + str(i)]=_ # Con ello salvo cada una de las columnas del df\n",
            "/tmp/ipython-input-470-1324038430.py:7: PerformanceWarning: DataFrame is highly fragmented.  This is usually the result of calling `frame.insert` many times, which has poor performance.  Consider joining all columns at once using pd.concat(axis=1) instead. To get a de-fragmented frame, use `newframe = frame.copy()`\n",
            "  muestras['Muestra_' + str(i)]=_ # Con ello salvo cada una de las columnas del df\n",
            "/tmp/ipython-input-470-1324038430.py:7: PerformanceWarning: DataFrame is highly fragmented.  This is usually the result of calling `frame.insert` many times, which has poor performance.  Consider joining all columns at once using pd.concat(axis=1) instead. To get a de-fragmented frame, use `newframe = frame.copy()`\n",
            "  muestras['Muestra_' + str(i)]=_ # Con ello salvo cada una de las columnas del df\n",
            "/tmp/ipython-input-470-1324038430.py:7: PerformanceWarning: DataFrame is highly fragmented.  This is usually the result of calling `frame.insert` many times, which has poor performance.  Consider joining all columns at once using pd.concat(axis=1) instead. To get a de-fragmented frame, use `newframe = frame.copy()`\n",
            "  muestras['Muestra_' + str(i)]=_ # Con ello salvo cada una de las columnas del df\n",
            "/tmp/ipython-input-470-1324038430.py:7: PerformanceWarning: DataFrame is highly fragmented.  This is usually the result of calling `frame.insert` many times, which has poor performance.  Consider joining all columns at once using pd.concat(axis=1) instead. To get a de-fragmented frame, use `newframe = frame.copy()`\n",
            "  muestras['Muestra_' + str(i)]=_ # Con ello salvo cada una de las columnas del df\n",
            "/tmp/ipython-input-470-1324038430.py:7: PerformanceWarning: DataFrame is highly fragmented.  This is usually the result of calling `frame.insert` many times, which has poor performance.  Consider joining all columns at once using pd.concat(axis=1) instead. To get a de-fragmented frame, use `newframe = frame.copy()`\n",
            "  muestras['Muestra_' + str(i)]=_ # Con ello salvo cada una de las columnas del df\n",
            "/tmp/ipython-input-470-1324038430.py:7: PerformanceWarning: DataFrame is highly fragmented.  This is usually the result of calling `frame.insert` many times, which has poor performance.  Consider joining all columns at once using pd.concat(axis=1) instead. To get a de-fragmented frame, use `newframe = frame.copy()`\n",
            "  muestras['Muestra_' + str(i)]=_ # Con ello salvo cada una de las columnas del df\n",
            "/tmp/ipython-input-470-1324038430.py:7: PerformanceWarning: DataFrame is highly fragmented.  This is usually the result of calling `frame.insert` many times, which has poor performance.  Consider joining all columns at once using pd.concat(axis=1) instead. To get a de-fragmented frame, use `newframe = frame.copy()`\n",
            "  muestras['Muestra_' + str(i)]=_ # Con ello salvo cada una de las columnas del df\n",
            "/tmp/ipython-input-470-1324038430.py:7: PerformanceWarning: DataFrame is highly fragmented.  This is usually the result of calling `frame.insert` many times, which has poor performance.  Consider joining all columns at once using pd.concat(axis=1) instead. To get a de-fragmented frame, use `newframe = frame.copy()`\n",
            "  muestras['Muestra_' + str(i)]=_ # Con ello salvo cada una de las columnas del df\n",
            "/tmp/ipython-input-470-1324038430.py:7: PerformanceWarning: DataFrame is highly fragmented.  This is usually the result of calling `frame.insert` many times, which has poor performance.  Consider joining all columns at once using pd.concat(axis=1) instead. To get a de-fragmented frame, use `newframe = frame.copy()`\n",
            "  muestras['Muestra_' + str(i)]=_ # Con ello salvo cada una de las columnas del df\n",
            "/tmp/ipython-input-470-1324038430.py:7: PerformanceWarning: DataFrame is highly fragmented.  This is usually the result of calling `frame.insert` many times, which has poor performance.  Consider joining all columns at once using pd.concat(axis=1) instead. To get a de-fragmented frame, use `newframe = frame.copy()`\n",
            "  muestras['Muestra_' + str(i)]=_ # Con ello salvo cada una de las columnas del df\n",
            "/tmp/ipython-input-470-1324038430.py:7: PerformanceWarning: DataFrame is highly fragmented.  This is usually the result of calling `frame.insert` many times, which has poor performance.  Consider joining all columns at once using pd.concat(axis=1) instead. To get a de-fragmented frame, use `newframe = frame.copy()`\n",
            "  muestras['Muestra_' + str(i)]=_ # Con ello salvo cada una de las columnas del df\n",
            "/tmp/ipython-input-470-1324038430.py:7: PerformanceWarning: DataFrame is highly fragmented.  This is usually the result of calling `frame.insert` many times, which has poor performance.  Consider joining all columns at once using pd.concat(axis=1) instead. To get a de-fragmented frame, use `newframe = frame.copy()`\n",
            "  muestras['Muestra_' + str(i)]=_ # Con ello salvo cada una de las columnas del df\n",
            "/tmp/ipython-input-470-1324038430.py:7: PerformanceWarning: DataFrame is highly fragmented.  This is usually the result of calling `frame.insert` many times, which has poor performance.  Consider joining all columns at once using pd.concat(axis=1) instead. To get a de-fragmented frame, use `newframe = frame.copy()`\n",
            "  muestras['Muestra_' + str(i)]=_ # Con ello salvo cada una de las columnas del df\n",
            "/tmp/ipython-input-470-1324038430.py:7: PerformanceWarning: DataFrame is highly fragmented.  This is usually the result of calling `frame.insert` many times, which has poor performance.  Consider joining all columns at once using pd.concat(axis=1) instead. To get a de-fragmented frame, use `newframe = frame.copy()`\n",
            "  muestras['Muestra_' + str(i)]=_ # Con ello salvo cada una de las columnas del df\n",
            "/tmp/ipython-input-470-1324038430.py:7: PerformanceWarning: DataFrame is highly fragmented.  This is usually the result of calling `frame.insert` many times, which has poor performance.  Consider joining all columns at once using pd.concat(axis=1) instead. To get a de-fragmented frame, use `newframe = frame.copy()`\n",
            "  muestras['Muestra_' + str(i)]=_ # Con ello salvo cada una de las columnas del df\n",
            "/tmp/ipython-input-470-1324038430.py:7: PerformanceWarning: DataFrame is highly fragmented.  This is usually the result of calling `frame.insert` many times, which has poor performance.  Consider joining all columns at once using pd.concat(axis=1) instead. To get a de-fragmented frame, use `newframe = frame.copy()`\n",
            "  muestras['Muestra_' + str(i)]=_ # Con ello salvo cada una de las columnas del df\n",
            "/tmp/ipython-input-470-1324038430.py:7: PerformanceWarning: DataFrame is highly fragmented.  This is usually the result of calling `frame.insert` many times, which has poor performance.  Consider joining all columns at once using pd.concat(axis=1) instead. To get a de-fragmented frame, use `newframe = frame.copy()`\n",
            "  muestras['Muestra_' + str(i)]=_ # Con ello salvo cada una de las columnas del df\n",
            "/tmp/ipython-input-470-1324038430.py:7: PerformanceWarning: DataFrame is highly fragmented.  This is usually the result of calling `frame.insert` many times, which has poor performance.  Consider joining all columns at once using pd.concat(axis=1) instead. To get a de-fragmented frame, use `newframe = frame.copy()`\n",
            "  muestras['Muestra_' + str(i)]=_ # Con ello salvo cada una de las columnas del df\n",
            "/tmp/ipython-input-470-1324038430.py:7: PerformanceWarning: DataFrame is highly fragmented.  This is usually the result of calling `frame.insert` many times, which has poor performance.  Consider joining all columns at once using pd.concat(axis=1) instead. To get a de-fragmented frame, use `newframe = frame.copy()`\n",
            "  muestras['Muestra_' + str(i)]=_ # Con ello salvo cada una de las columnas del df\n",
            "/tmp/ipython-input-470-1324038430.py:7: PerformanceWarning: DataFrame is highly fragmented.  This is usually the result of calling `frame.insert` many times, which has poor performance.  Consider joining all columns at once using pd.concat(axis=1) instead. To get a de-fragmented frame, use `newframe = frame.copy()`\n",
            "  muestras['Muestra_' + str(i)]=_ # Con ello salvo cada una de las columnas del df\n",
            "/tmp/ipython-input-470-1324038430.py:7: PerformanceWarning: DataFrame is highly fragmented.  This is usually the result of calling `frame.insert` many times, which has poor performance.  Consider joining all columns at once using pd.concat(axis=1) instead. To get a de-fragmented frame, use `newframe = frame.copy()`\n",
            "  muestras['Muestra_' + str(i)]=_ # Con ello salvo cada una de las columnas del df\n",
            "/tmp/ipython-input-470-1324038430.py:7: PerformanceWarning: DataFrame is highly fragmented.  This is usually the result of calling `frame.insert` many times, which has poor performance.  Consider joining all columns at once using pd.concat(axis=1) instead. To get a de-fragmented frame, use `newframe = frame.copy()`\n",
            "  muestras['Muestra_' + str(i)]=_ # Con ello salvo cada una de las columnas del df\n",
            "/tmp/ipython-input-470-1324038430.py:7: PerformanceWarning: DataFrame is highly fragmented.  This is usually the result of calling `frame.insert` many times, which has poor performance.  Consider joining all columns at once using pd.concat(axis=1) instead. To get a de-fragmented frame, use `newframe = frame.copy()`\n",
            "  muestras['Muestra_' + str(i)]=_ # Con ello salvo cada una de las columnas del df\n",
            "/tmp/ipython-input-470-1324038430.py:7: PerformanceWarning: DataFrame is highly fragmented.  This is usually the result of calling `frame.insert` many times, which has poor performance.  Consider joining all columns at once using pd.concat(axis=1) instead. To get a de-fragmented frame, use `newframe = frame.copy()`\n",
            "  muestras['Muestra_' + str(i)]=_ # Con ello salvo cada una de las columnas del df\n",
            "/tmp/ipython-input-470-1324038430.py:7: PerformanceWarning: DataFrame is highly fragmented.  This is usually the result of calling `frame.insert` many times, which has poor performance.  Consider joining all columns at once using pd.concat(axis=1) instead. To get a de-fragmented frame, use `newframe = frame.copy()`\n",
            "  muestras['Muestra_' + str(i)]=_ # Con ello salvo cada una de las columnas del df\n",
            "/tmp/ipython-input-470-1324038430.py:7: PerformanceWarning: DataFrame is highly fragmented.  This is usually the result of calling `frame.insert` many times, which has poor performance.  Consider joining all columns at once using pd.concat(axis=1) instead. To get a de-fragmented frame, use `newframe = frame.copy()`\n",
            "  muestras['Muestra_' + str(i)]=_ # Con ello salvo cada una de las columnas del df\n",
            "/tmp/ipython-input-470-1324038430.py:7: PerformanceWarning: DataFrame is highly fragmented.  This is usually the result of calling `frame.insert` many times, which has poor performance.  Consider joining all columns at once using pd.concat(axis=1) instead. To get a de-fragmented frame, use `newframe = frame.copy()`\n",
            "  muestras['Muestra_' + str(i)]=_ # Con ello salvo cada una de las columnas del df\n",
            "/tmp/ipython-input-470-1324038430.py:7: PerformanceWarning: DataFrame is highly fragmented.  This is usually the result of calling `frame.insert` many times, which has poor performance.  Consider joining all columns at once using pd.concat(axis=1) instead. To get a de-fragmented frame, use `newframe = frame.copy()`\n",
            "  muestras['Muestra_' + str(i)]=_ # Con ello salvo cada una de las columnas del df\n",
            "/tmp/ipython-input-470-1324038430.py:7: PerformanceWarning: DataFrame is highly fragmented.  This is usually the result of calling `frame.insert` many times, which has poor performance.  Consider joining all columns at once using pd.concat(axis=1) instead. To get a de-fragmented frame, use `newframe = frame.copy()`\n",
            "  muestras['Muestra_' + str(i)]=_ # Con ello salvo cada una de las columnas del df\n",
            "/tmp/ipython-input-470-1324038430.py:7: PerformanceWarning: DataFrame is highly fragmented.  This is usually the result of calling `frame.insert` many times, which has poor performance.  Consider joining all columns at once using pd.concat(axis=1) instead. To get a de-fragmented frame, use `newframe = frame.copy()`\n",
            "  muestras['Muestra_' + str(i)]=_ # Con ello salvo cada una de las columnas del df\n",
            "/tmp/ipython-input-470-1324038430.py:7: PerformanceWarning: DataFrame is highly fragmented.  This is usually the result of calling `frame.insert` many times, which has poor performance.  Consider joining all columns at once using pd.concat(axis=1) instead. To get a de-fragmented frame, use `newframe = frame.copy()`\n",
            "  muestras['Muestra_' + str(i)]=_ # Con ello salvo cada una de las columnas del df\n",
            "/tmp/ipython-input-470-1324038430.py:7: PerformanceWarning: DataFrame is highly fragmented.  This is usually the result of calling `frame.insert` many times, which has poor performance.  Consider joining all columns at once using pd.concat(axis=1) instead. To get a de-fragmented frame, use `newframe = frame.copy()`\n",
            "  muestras['Muestra_' + str(i)]=_ # Con ello salvo cada una de las columnas del df\n",
            "/tmp/ipython-input-470-1324038430.py:7: PerformanceWarning: DataFrame is highly fragmented.  This is usually the result of calling `frame.insert` many times, which has poor performance.  Consider joining all columns at once using pd.concat(axis=1) instead. To get a de-fragmented frame, use `newframe = frame.copy()`\n",
            "  muestras['Muestra_' + str(i)]=_ # Con ello salvo cada una de las columnas del df\n",
            "/tmp/ipython-input-470-1324038430.py:7: PerformanceWarning: DataFrame is highly fragmented.  This is usually the result of calling `frame.insert` many times, which has poor performance.  Consider joining all columns at once using pd.concat(axis=1) instead. To get a de-fragmented frame, use `newframe = frame.copy()`\n",
            "  muestras['Muestra_' + str(i)]=_ # Con ello salvo cada una de las columnas del df\n",
            "/tmp/ipython-input-470-1324038430.py:7: PerformanceWarning: DataFrame is highly fragmented.  This is usually the result of calling `frame.insert` many times, which has poor performance.  Consider joining all columns at once using pd.concat(axis=1) instead. To get a de-fragmented frame, use `newframe = frame.copy()`\n",
            "  muestras['Muestra_' + str(i)]=_ # Con ello salvo cada una de las columnas del df\n",
            "/tmp/ipython-input-470-1324038430.py:7: PerformanceWarning: DataFrame is highly fragmented.  This is usually the result of calling `frame.insert` many times, which has poor performance.  Consider joining all columns at once using pd.concat(axis=1) instead. To get a de-fragmented frame, use `newframe = frame.copy()`\n",
            "  muestras['Muestra_' + str(i)]=_ # Con ello salvo cada una de las columnas del df\n",
            "/tmp/ipython-input-470-1324038430.py:7: PerformanceWarning: DataFrame is highly fragmented.  This is usually the result of calling `frame.insert` many times, which has poor performance.  Consider joining all columns at once using pd.concat(axis=1) instead. To get a de-fragmented frame, use `newframe = frame.copy()`\n",
            "  muestras['Muestra_' + str(i)]=_ # Con ello salvo cada una de las columnas del df\n",
            "/tmp/ipython-input-470-1324038430.py:7: PerformanceWarning: DataFrame is highly fragmented.  This is usually the result of calling `frame.insert` many times, which has poor performance.  Consider joining all columns at once using pd.concat(axis=1) instead. To get a de-fragmented frame, use `newframe = frame.copy()`\n",
            "  muestras['Muestra_' + str(i)]=_ # Con ello salvo cada una de las columnas del df\n",
            "/tmp/ipython-input-470-1324038430.py:7: PerformanceWarning: DataFrame is highly fragmented.  This is usually the result of calling `frame.insert` many times, which has poor performance.  Consider joining all columns at once using pd.concat(axis=1) instead. To get a de-fragmented frame, use `newframe = frame.copy()`\n",
            "  muestras['Muestra_' + str(i)]=_ # Con ello salvo cada una de las columnas del df\n",
            "/tmp/ipython-input-470-1324038430.py:7: PerformanceWarning: DataFrame is highly fragmented.  This is usually the result of calling `frame.insert` many times, which has poor performance.  Consider joining all columns at once using pd.concat(axis=1) instead. To get a de-fragmented frame, use `newframe = frame.copy()`\n",
            "  muestras['Muestra_' + str(i)]=_ # Con ello salvo cada una de las columnas del df\n",
            "/tmp/ipython-input-470-1324038430.py:7: PerformanceWarning: DataFrame is highly fragmented.  This is usually the result of calling `frame.insert` many times, which has poor performance.  Consider joining all columns at once using pd.concat(axis=1) instead. To get a de-fragmented frame, use `newframe = frame.copy()`\n",
            "  muestras['Muestra_' + str(i)]=_ # Con ello salvo cada una de las columnas del df\n",
            "/tmp/ipython-input-470-1324038430.py:7: PerformanceWarning: DataFrame is highly fragmented.  This is usually the result of calling `frame.insert` many times, which has poor performance.  Consider joining all columns at once using pd.concat(axis=1) instead. To get a de-fragmented frame, use `newframe = frame.copy()`\n",
            "  muestras['Muestra_' + str(i)]=_ # Con ello salvo cada una de las columnas del df\n",
            "/tmp/ipython-input-470-1324038430.py:7: PerformanceWarning: DataFrame is highly fragmented.  This is usually the result of calling `frame.insert` many times, which has poor performance.  Consider joining all columns at once using pd.concat(axis=1) instead. To get a de-fragmented frame, use `newframe = frame.copy()`\n",
            "  muestras['Muestra_' + str(i)]=_ # Con ello salvo cada una de las columnas del df\n",
            "/tmp/ipython-input-470-1324038430.py:7: PerformanceWarning: DataFrame is highly fragmented.  This is usually the result of calling `frame.insert` many times, which has poor performance.  Consider joining all columns at once using pd.concat(axis=1) instead. To get a de-fragmented frame, use `newframe = frame.copy()`\n",
            "  muestras['Muestra_' + str(i)]=_ # Con ello salvo cada una de las columnas del df\n",
            "/tmp/ipython-input-470-1324038430.py:7: PerformanceWarning: DataFrame is highly fragmented.  This is usually the result of calling `frame.insert` many times, which has poor performance.  Consider joining all columns at once using pd.concat(axis=1) instead. To get a de-fragmented frame, use `newframe = frame.copy()`\n",
            "  muestras['Muestra_' + str(i)]=_ # Con ello salvo cada una de las columnas del df\n",
            "/tmp/ipython-input-470-1324038430.py:7: PerformanceWarning: DataFrame is highly fragmented.  This is usually the result of calling `frame.insert` many times, which has poor performance.  Consider joining all columns at once using pd.concat(axis=1) instead. To get a de-fragmented frame, use `newframe = frame.copy()`\n",
            "  muestras['Muestra_' + str(i)]=_ # Con ello salvo cada una de las columnas del df\n",
            "/tmp/ipython-input-470-1324038430.py:7: PerformanceWarning: DataFrame is highly fragmented.  This is usually the result of calling `frame.insert` many times, which has poor performance.  Consider joining all columns at once using pd.concat(axis=1) instead. To get a de-fragmented frame, use `newframe = frame.copy()`\n",
            "  muestras['Muestra_' + str(i)]=_ # Con ello salvo cada una de las columnas del df\n",
            "/tmp/ipython-input-470-1324038430.py:7: PerformanceWarning: DataFrame is highly fragmented.  This is usually the result of calling `frame.insert` many times, which has poor performance.  Consider joining all columns at once using pd.concat(axis=1) instead. To get a de-fragmented frame, use `newframe = frame.copy()`\n",
            "  muestras['Muestra_' + str(i)]=_ # Con ello salvo cada una de las columnas del df\n",
            "/tmp/ipython-input-470-1324038430.py:7: PerformanceWarning: DataFrame is highly fragmented.  This is usually the result of calling `frame.insert` many times, which has poor performance.  Consider joining all columns at once using pd.concat(axis=1) instead. To get a de-fragmented frame, use `newframe = frame.copy()`\n",
            "  muestras['Muestra_' + str(i)]=_ # Con ello salvo cada una de las columnas del df\n",
            "/tmp/ipython-input-470-1324038430.py:7: PerformanceWarning: DataFrame is highly fragmented.  This is usually the result of calling `frame.insert` many times, which has poor performance.  Consider joining all columns at once using pd.concat(axis=1) instead. To get a de-fragmented frame, use `newframe = frame.copy()`\n",
            "  muestras['Muestra_' + str(i)]=_ # Con ello salvo cada una de las columnas del df\n",
            "/tmp/ipython-input-470-1324038430.py:7: PerformanceWarning: DataFrame is highly fragmented.  This is usually the result of calling `frame.insert` many times, which has poor performance.  Consider joining all columns at once using pd.concat(axis=1) instead. To get a de-fragmented frame, use `newframe = frame.copy()`\n",
            "  muestras['Muestra_' + str(i)]=_ # Con ello salvo cada una de las columnas del df\n",
            "/tmp/ipython-input-470-1324038430.py:7: PerformanceWarning: DataFrame is highly fragmented.  This is usually the result of calling `frame.insert` many times, which has poor performance.  Consider joining all columns at once using pd.concat(axis=1) instead. To get a de-fragmented frame, use `newframe = frame.copy()`\n",
            "  muestras['Muestra_' + str(i)]=_ # Con ello salvo cada una de las columnas del df\n",
            "/tmp/ipython-input-470-1324038430.py:7: PerformanceWarning: DataFrame is highly fragmented.  This is usually the result of calling `frame.insert` many times, which has poor performance.  Consider joining all columns at once using pd.concat(axis=1) instead. To get a de-fragmented frame, use `newframe = frame.copy()`\n",
            "  muestras['Muestra_' + str(i)]=_ # Con ello salvo cada una de las columnas del df\n",
            "/tmp/ipython-input-470-1324038430.py:7: PerformanceWarning: DataFrame is highly fragmented.  This is usually the result of calling `frame.insert` many times, which has poor performance.  Consider joining all columns at once using pd.concat(axis=1) instead. To get a de-fragmented frame, use `newframe = frame.copy()`\n",
            "  muestras['Muestra_' + str(i)]=_ # Con ello salvo cada una de las columnas del df\n",
            "/tmp/ipython-input-470-1324038430.py:7: PerformanceWarning: DataFrame is highly fragmented.  This is usually the result of calling `frame.insert` many times, which has poor performance.  Consider joining all columns at once using pd.concat(axis=1) instead. To get a de-fragmented frame, use `newframe = frame.copy()`\n",
            "  muestras['Muestra_' + str(i)]=_ # Con ello salvo cada una de las columnas del df\n",
            "/tmp/ipython-input-470-1324038430.py:7: PerformanceWarning: DataFrame is highly fragmented.  This is usually the result of calling `frame.insert` many times, which has poor performance.  Consider joining all columns at once using pd.concat(axis=1) instead. To get a de-fragmented frame, use `newframe = frame.copy()`\n",
            "  muestras['Muestra_' + str(i)]=_ # Con ello salvo cada una de las columnas del df\n",
            "/tmp/ipython-input-470-1324038430.py:7: PerformanceWarning: DataFrame is highly fragmented.  This is usually the result of calling `frame.insert` many times, which has poor performance.  Consider joining all columns at once using pd.concat(axis=1) instead. To get a de-fragmented frame, use `newframe = frame.copy()`\n",
            "  muestras['Muestra_' + str(i)]=_ # Con ello salvo cada una de las columnas del df\n",
            "/tmp/ipython-input-470-1324038430.py:7: PerformanceWarning: DataFrame is highly fragmented.  This is usually the result of calling `frame.insert` many times, which has poor performance.  Consider joining all columns at once using pd.concat(axis=1) instead. To get a de-fragmented frame, use `newframe = frame.copy()`\n",
            "  muestras['Muestra_' + str(i)]=_ # Con ello salvo cada una de las columnas del df\n",
            "/tmp/ipython-input-470-1324038430.py:7: PerformanceWarning: DataFrame is highly fragmented.  This is usually the result of calling `frame.insert` many times, which has poor performance.  Consider joining all columns at once using pd.concat(axis=1) instead. To get a de-fragmented frame, use `newframe = frame.copy()`\n",
            "  muestras['Muestra_' + str(i)]=_ # Con ello salvo cada una de las columnas del df\n",
            "/tmp/ipython-input-470-1324038430.py:7: PerformanceWarning: DataFrame is highly fragmented.  This is usually the result of calling `frame.insert` many times, which has poor performance.  Consider joining all columns at once using pd.concat(axis=1) instead. To get a de-fragmented frame, use `newframe = frame.copy()`\n",
            "  muestras['Muestra_' + str(i)]=_ # Con ello salvo cada una de las columnas del df\n",
            "/tmp/ipython-input-470-1324038430.py:7: PerformanceWarning: DataFrame is highly fragmented.  This is usually the result of calling `frame.insert` many times, which has poor performance.  Consider joining all columns at once using pd.concat(axis=1) instead. To get a de-fragmented frame, use `newframe = frame.copy()`\n",
            "  muestras['Muestra_' + str(i)]=_ # Con ello salvo cada una de las columnas del df\n",
            "/tmp/ipython-input-470-1324038430.py:7: PerformanceWarning: DataFrame is highly fragmented.  This is usually the result of calling `frame.insert` many times, which has poor performance.  Consider joining all columns at once using pd.concat(axis=1) instead. To get a de-fragmented frame, use `newframe = frame.copy()`\n",
            "  muestras['Muestra_' + str(i)]=_ # Con ello salvo cada una de las columnas del df\n",
            "/tmp/ipython-input-470-1324038430.py:7: PerformanceWarning: DataFrame is highly fragmented.  This is usually the result of calling `frame.insert` many times, which has poor performance.  Consider joining all columns at once using pd.concat(axis=1) instead. To get a de-fragmented frame, use `newframe = frame.copy()`\n",
            "  muestras['Muestra_' + str(i)]=_ # Con ello salvo cada una de las columnas del df\n",
            "/tmp/ipython-input-470-1324038430.py:7: PerformanceWarning: DataFrame is highly fragmented.  This is usually the result of calling `frame.insert` many times, which has poor performance.  Consider joining all columns at once using pd.concat(axis=1) instead. To get a de-fragmented frame, use `newframe = frame.copy()`\n",
            "  muestras['Muestra_' + str(i)]=_ # Con ello salvo cada una de las columnas del df\n",
            "/tmp/ipython-input-470-1324038430.py:7: PerformanceWarning: DataFrame is highly fragmented.  This is usually the result of calling `frame.insert` many times, which has poor performance.  Consider joining all columns at once using pd.concat(axis=1) instead. To get a de-fragmented frame, use `newframe = frame.copy()`\n",
            "  muestras['Muestra_' + str(i)]=_ # Con ello salvo cada una de las columnas del df\n",
            "/tmp/ipython-input-470-1324038430.py:7: PerformanceWarning: DataFrame is highly fragmented.  This is usually the result of calling `frame.insert` many times, which has poor performance.  Consider joining all columns at once using pd.concat(axis=1) instead. To get a de-fragmented frame, use `newframe = frame.copy()`\n",
            "  muestras['Muestra_' + str(i)]=_ # Con ello salvo cada una de las columnas del df\n",
            "/tmp/ipython-input-470-1324038430.py:7: PerformanceWarning: DataFrame is highly fragmented.  This is usually the result of calling `frame.insert` many times, which has poor performance.  Consider joining all columns at once using pd.concat(axis=1) instead. To get a de-fragmented frame, use `newframe = frame.copy()`\n",
            "  muestras['Muestra_' + str(i)]=_ # Con ello salvo cada una de las columnas del df\n",
            "/tmp/ipython-input-470-1324038430.py:7: PerformanceWarning: DataFrame is highly fragmented.  This is usually the result of calling `frame.insert` many times, which has poor performance.  Consider joining all columns at once using pd.concat(axis=1) instead. To get a de-fragmented frame, use `newframe = frame.copy()`\n",
            "  muestras['Muestra_' + str(i)]=_ # Con ello salvo cada una de las columnas del df\n",
            "/tmp/ipython-input-470-1324038430.py:7: PerformanceWarning: DataFrame is highly fragmented.  This is usually the result of calling `frame.insert` many times, which has poor performance.  Consider joining all columns at once using pd.concat(axis=1) instead. To get a de-fragmented frame, use `newframe = frame.copy()`\n",
            "  muestras['Muestra_' + str(i)]=_ # Con ello salvo cada una de las columnas del df\n",
            "/tmp/ipython-input-470-1324038430.py:7: PerformanceWarning: DataFrame is highly fragmented.  This is usually the result of calling `frame.insert` many times, which has poor performance.  Consider joining all columns at once using pd.concat(axis=1) instead. To get a de-fragmented frame, use `newframe = frame.copy()`\n",
            "  muestras['Muestra_' + str(i)]=_ # Con ello salvo cada una de las columnas del df\n",
            "/tmp/ipython-input-470-1324038430.py:7: PerformanceWarning: DataFrame is highly fragmented.  This is usually the result of calling `frame.insert` many times, which has poor performance.  Consider joining all columns at once using pd.concat(axis=1) instead. To get a de-fragmented frame, use `newframe = frame.copy()`\n",
            "  muestras['Muestra_' + str(i)]=_ # Con ello salvo cada una de las columnas del df\n",
            "/tmp/ipython-input-470-1324038430.py:7: PerformanceWarning: DataFrame is highly fragmented.  This is usually the result of calling `frame.insert` many times, which has poor performance.  Consider joining all columns at once using pd.concat(axis=1) instead. To get a de-fragmented frame, use `newframe = frame.copy()`\n",
            "  muestras['Muestra_' + str(i)]=_ # Con ello salvo cada una de las columnas del df\n",
            "/tmp/ipython-input-470-1324038430.py:7: PerformanceWarning: DataFrame is highly fragmented.  This is usually the result of calling `frame.insert` many times, which has poor performance.  Consider joining all columns at once using pd.concat(axis=1) instead. To get a de-fragmented frame, use `newframe = frame.copy()`\n",
            "  muestras['Muestra_' + str(i)]=_ # Con ello salvo cada una de las columnas del df\n",
            "/tmp/ipython-input-470-1324038430.py:7: PerformanceWarning: DataFrame is highly fragmented.  This is usually the result of calling `frame.insert` many times, which has poor performance.  Consider joining all columns at once using pd.concat(axis=1) instead. To get a de-fragmented frame, use `newframe = frame.copy()`\n",
            "  muestras['Muestra_' + str(i)]=_ # Con ello salvo cada una de las columnas del df\n",
            "/tmp/ipython-input-470-1324038430.py:7: PerformanceWarning: DataFrame is highly fragmented.  This is usually the result of calling `frame.insert` many times, which has poor performance.  Consider joining all columns at once using pd.concat(axis=1) instead. To get a de-fragmented frame, use `newframe = frame.copy()`\n",
            "  muestras['Muestra_' + str(i)]=_ # Con ello salvo cada una de las columnas del df\n",
            "/tmp/ipython-input-470-1324038430.py:7: PerformanceWarning: DataFrame is highly fragmented.  This is usually the result of calling `frame.insert` many times, which has poor performance.  Consider joining all columns at once using pd.concat(axis=1) instead. To get a de-fragmented frame, use `newframe = frame.copy()`\n",
            "  muestras['Muestra_' + str(i)]=_ # Con ello salvo cada una de las columnas del df\n",
            "/tmp/ipython-input-470-1324038430.py:7: PerformanceWarning: DataFrame is highly fragmented.  This is usually the result of calling `frame.insert` many times, which has poor performance.  Consider joining all columns at once using pd.concat(axis=1) instead. To get a de-fragmented frame, use `newframe = frame.copy()`\n",
            "  muestras['Muestra_' + str(i)]=_ # Con ello salvo cada una de las columnas del df\n",
            "/tmp/ipython-input-470-1324038430.py:7: PerformanceWarning: DataFrame is highly fragmented.  This is usually the result of calling `frame.insert` many times, which has poor performance.  Consider joining all columns at once using pd.concat(axis=1) instead. To get a de-fragmented frame, use `newframe = frame.copy()`\n",
            "  muestras['Muestra_' + str(i)]=_ # Con ello salvo cada una de las columnas del df\n",
            "/tmp/ipython-input-470-1324038430.py:7: PerformanceWarning: DataFrame is highly fragmented.  This is usually the result of calling `frame.insert` many times, which has poor performance.  Consider joining all columns at once using pd.concat(axis=1) instead. To get a de-fragmented frame, use `newframe = frame.copy()`\n",
            "  muestras['Muestra_' + str(i)]=_ # Con ello salvo cada una de las columnas del df\n",
            "/tmp/ipython-input-470-1324038430.py:7: PerformanceWarning: DataFrame is highly fragmented.  This is usually the result of calling `frame.insert` many times, which has poor performance.  Consider joining all columns at once using pd.concat(axis=1) instead. To get a de-fragmented frame, use `newframe = frame.copy()`\n",
            "  muestras['Muestra_' + str(i)]=_ # Con ello salvo cada una de las columnas del df\n",
            "/tmp/ipython-input-470-1324038430.py:7: PerformanceWarning: DataFrame is highly fragmented.  This is usually the result of calling `frame.insert` many times, which has poor performance.  Consider joining all columns at once using pd.concat(axis=1) instead. To get a de-fragmented frame, use `newframe = frame.copy()`\n",
            "  muestras['Muestra_' + str(i)]=_ # Con ello salvo cada una de las columnas del df\n",
            "/tmp/ipython-input-470-1324038430.py:7: PerformanceWarning: DataFrame is highly fragmented.  This is usually the result of calling `frame.insert` many times, which has poor performance.  Consider joining all columns at once using pd.concat(axis=1) instead. To get a de-fragmented frame, use `newframe = frame.copy()`\n",
            "  muestras['Muestra_' + str(i)]=_ # Con ello salvo cada una de las columnas del df\n",
            "/tmp/ipython-input-470-1324038430.py:7: PerformanceWarning: DataFrame is highly fragmented.  This is usually the result of calling `frame.insert` many times, which has poor performance.  Consider joining all columns at once using pd.concat(axis=1) instead. To get a de-fragmented frame, use `newframe = frame.copy()`\n",
            "  muestras['Muestra_' + str(i)]=_ # Con ello salvo cada una de las columnas del df\n",
            "/tmp/ipython-input-470-1324038430.py:7: PerformanceWarning: DataFrame is highly fragmented.  This is usually the result of calling `frame.insert` many times, which has poor performance.  Consider joining all columns at once using pd.concat(axis=1) instead. To get a de-fragmented frame, use `newframe = frame.copy()`\n",
            "  muestras['Muestra_' + str(i)]=_ # Con ello salvo cada una de las columnas del df\n",
            "/tmp/ipython-input-470-1324038430.py:7: PerformanceWarning: DataFrame is highly fragmented.  This is usually the result of calling `frame.insert` many times, which has poor performance.  Consider joining all columns at once using pd.concat(axis=1) instead. To get a de-fragmented frame, use `newframe = frame.copy()`\n",
            "  muestras['Muestra_' + str(i)]=_ # Con ello salvo cada una de las columnas del df\n",
            "/tmp/ipython-input-470-1324038430.py:7: PerformanceWarning: DataFrame is highly fragmented.  This is usually the result of calling `frame.insert` many times, which has poor performance.  Consider joining all columns at once using pd.concat(axis=1) instead. To get a de-fragmented frame, use `newframe = frame.copy()`\n",
            "  muestras['Muestra_' + str(i)]=_ # Con ello salvo cada una de las columnas del df\n",
            "/tmp/ipython-input-470-1324038430.py:7: PerformanceWarning: DataFrame is highly fragmented.  This is usually the result of calling `frame.insert` many times, which has poor performance.  Consider joining all columns at once using pd.concat(axis=1) instead. To get a de-fragmented frame, use `newframe = frame.copy()`\n",
            "  muestras['Muestra_' + str(i)]=_ # Con ello salvo cada una de las columnas del df\n",
            "/tmp/ipython-input-470-1324038430.py:7: PerformanceWarning: DataFrame is highly fragmented.  This is usually the result of calling `frame.insert` many times, which has poor performance.  Consider joining all columns at once using pd.concat(axis=1) instead. To get a de-fragmented frame, use `newframe = frame.copy()`\n",
            "  muestras['Muestra_' + str(i)]=_ # Con ello salvo cada una de las columnas del df\n",
            "/tmp/ipython-input-470-1324038430.py:7: PerformanceWarning: DataFrame is highly fragmented.  This is usually the result of calling `frame.insert` many times, which has poor performance.  Consider joining all columns at once using pd.concat(axis=1) instead. To get a de-fragmented frame, use `newframe = frame.copy()`\n",
            "  muestras['Muestra_' + str(i)]=_ # Con ello salvo cada una de las columnas del df\n",
            "/tmp/ipython-input-470-1324038430.py:7: PerformanceWarning: DataFrame is highly fragmented.  This is usually the result of calling `frame.insert` many times, which has poor performance.  Consider joining all columns at once using pd.concat(axis=1) instead. To get a de-fragmented frame, use `newframe = frame.copy()`\n",
            "  muestras['Muestra_' + str(i)]=_ # Con ello salvo cada una de las columnas del df\n",
            "/tmp/ipython-input-470-1324038430.py:7: PerformanceWarning: DataFrame is highly fragmented.  This is usually the result of calling `frame.insert` many times, which has poor performance.  Consider joining all columns at once using pd.concat(axis=1) instead. To get a de-fragmented frame, use `newframe = frame.copy()`\n",
            "  muestras['Muestra_' + str(i)]=_ # Con ello salvo cada una de las columnas del df\n",
            "/tmp/ipython-input-470-1324038430.py:7: PerformanceWarning: DataFrame is highly fragmented.  This is usually the result of calling `frame.insert` many times, which has poor performance.  Consider joining all columns at once using pd.concat(axis=1) instead. To get a de-fragmented frame, use `newframe = frame.copy()`\n",
            "  muestras['Muestra_' + str(i)]=_ # Con ello salvo cada una de las columnas del df\n",
            "/tmp/ipython-input-470-1324038430.py:7: PerformanceWarning: DataFrame is highly fragmented.  This is usually the result of calling `frame.insert` many times, which has poor performance.  Consider joining all columns at once using pd.concat(axis=1) instead. To get a de-fragmented frame, use `newframe = frame.copy()`\n",
            "  muestras['Muestra_' + str(i)]=_ # Con ello salvo cada una de las columnas del df\n",
            "/tmp/ipython-input-470-1324038430.py:7: PerformanceWarning: DataFrame is highly fragmented.  This is usually the result of calling `frame.insert` many times, which has poor performance.  Consider joining all columns at once using pd.concat(axis=1) instead. To get a de-fragmented frame, use `newframe = frame.copy()`\n",
            "  muestras['Muestra_' + str(i)]=_ # Con ello salvo cada una de las columnas del df\n",
            "/tmp/ipython-input-470-1324038430.py:7: PerformanceWarning: DataFrame is highly fragmented.  This is usually the result of calling `frame.insert` many times, which has poor performance.  Consider joining all columns at once using pd.concat(axis=1) instead. To get a de-fragmented frame, use `newframe = frame.copy()`\n",
            "  muestras['Muestra_' + str(i)]=_ # Con ello salvo cada una de las columnas del df\n",
            "/tmp/ipython-input-470-1324038430.py:7: PerformanceWarning: DataFrame is highly fragmented.  This is usually the result of calling `frame.insert` many times, which has poor performance.  Consider joining all columns at once using pd.concat(axis=1) instead. To get a de-fragmented frame, use `newframe = frame.copy()`\n",
            "  muestras['Muestra_' + str(i)]=_ # Con ello salvo cada una de las columnas del df\n",
            "/tmp/ipython-input-470-1324038430.py:7: PerformanceWarning: DataFrame is highly fragmented.  This is usually the result of calling `frame.insert` many times, which has poor performance.  Consider joining all columns at once using pd.concat(axis=1) instead. To get a de-fragmented frame, use `newframe = frame.copy()`\n",
            "  muestras['Muestra_' + str(i)]=_ # Con ello salvo cada una de las columnas del df\n",
            "/tmp/ipython-input-470-1324038430.py:7: PerformanceWarning: DataFrame is highly fragmented.  This is usually the result of calling `frame.insert` many times, which has poor performance.  Consider joining all columns at once using pd.concat(axis=1) instead. To get a de-fragmented frame, use `newframe = frame.copy()`\n",
            "  muestras['Muestra_' + str(i)]=_ # Con ello salvo cada una de las columnas del df\n",
            "/tmp/ipython-input-470-1324038430.py:7: PerformanceWarning: DataFrame is highly fragmented.  This is usually the result of calling `frame.insert` many times, which has poor performance.  Consider joining all columns at once using pd.concat(axis=1) instead. To get a de-fragmented frame, use `newframe = frame.copy()`\n",
            "  muestras['Muestra_' + str(i)]=_ # Con ello salvo cada una de las columnas del df\n",
            "/tmp/ipython-input-470-1324038430.py:7: PerformanceWarning: DataFrame is highly fragmented.  This is usually the result of calling `frame.insert` many times, which has poor performance.  Consider joining all columns at once using pd.concat(axis=1) instead. To get a de-fragmented frame, use `newframe = frame.copy()`\n",
            "  muestras['Muestra_' + str(i)]=_ # Con ello salvo cada una de las columnas del df\n",
            "/tmp/ipython-input-470-1324038430.py:7: PerformanceWarning: DataFrame is highly fragmented.  This is usually the result of calling `frame.insert` many times, which has poor performance.  Consider joining all columns at once using pd.concat(axis=1) instead. To get a de-fragmented frame, use `newframe = frame.copy()`\n",
            "  muestras['Muestra_' + str(i)]=_ # Con ello salvo cada una de las columnas del df\n",
            "/tmp/ipython-input-470-1324038430.py:7: PerformanceWarning: DataFrame is highly fragmented.  This is usually the result of calling `frame.insert` many times, which has poor performance.  Consider joining all columns at once using pd.concat(axis=1) instead. To get a de-fragmented frame, use `newframe = frame.copy()`\n",
            "  muestras['Muestra_' + str(i)]=_ # Con ello salvo cada una de las columnas del df\n",
            "/tmp/ipython-input-470-1324038430.py:7: PerformanceWarning: DataFrame is highly fragmented.  This is usually the result of calling `frame.insert` many times, which has poor performance.  Consider joining all columns at once using pd.concat(axis=1) instead. To get a de-fragmented frame, use `newframe = frame.copy()`\n",
            "  muestras['Muestra_' + str(i)]=_ # Con ello salvo cada una de las columnas del df\n",
            "/tmp/ipython-input-470-1324038430.py:7: PerformanceWarning: DataFrame is highly fragmented.  This is usually the result of calling `frame.insert` many times, which has poor performance.  Consider joining all columns at once using pd.concat(axis=1) instead. To get a de-fragmented frame, use `newframe = frame.copy()`\n",
            "  muestras['Muestra_' + str(i)]=_ # Con ello salvo cada una de las columnas del df\n",
            "/tmp/ipython-input-470-1324038430.py:7: PerformanceWarning: DataFrame is highly fragmented.  This is usually the result of calling `frame.insert` many times, which has poor performance.  Consider joining all columns at once using pd.concat(axis=1) instead. To get a de-fragmented frame, use `newframe = frame.copy()`\n",
            "  muestras['Muestra_' + str(i)]=_ # Con ello salvo cada una de las columnas del df\n",
            "/tmp/ipython-input-470-1324038430.py:7: PerformanceWarning: DataFrame is highly fragmented.  This is usually the result of calling `frame.insert` many times, which has poor performance.  Consider joining all columns at once using pd.concat(axis=1) instead. To get a de-fragmented frame, use `newframe = frame.copy()`\n",
            "  muestras['Muestra_' + str(i)]=_ # Con ello salvo cada una de las columnas del df\n",
            "/tmp/ipython-input-470-1324038430.py:7: PerformanceWarning: DataFrame is highly fragmented.  This is usually the result of calling `frame.insert` many times, which has poor performance.  Consider joining all columns at once using pd.concat(axis=1) instead. To get a de-fragmented frame, use `newframe = frame.copy()`\n",
            "  muestras['Muestra_' + str(i)]=_ # Con ello salvo cada una de las columnas del df\n",
            "/tmp/ipython-input-470-1324038430.py:7: PerformanceWarning: DataFrame is highly fragmented.  This is usually the result of calling `frame.insert` many times, which has poor performance.  Consider joining all columns at once using pd.concat(axis=1) instead. To get a de-fragmented frame, use `newframe = frame.copy()`\n",
            "  muestras['Muestra_' + str(i)]=_ # Con ello salvo cada una de las columnas del df\n",
            "/tmp/ipython-input-470-1324038430.py:7: PerformanceWarning: DataFrame is highly fragmented.  This is usually the result of calling `frame.insert` many times, which has poor performance.  Consider joining all columns at once using pd.concat(axis=1) instead. To get a de-fragmented frame, use `newframe = frame.copy()`\n",
            "  muestras['Muestra_' + str(i)]=_ # Con ello salvo cada una de las columnas del df\n",
            "/tmp/ipython-input-470-1324038430.py:7: PerformanceWarning: DataFrame is highly fragmented.  This is usually the result of calling `frame.insert` many times, which has poor performance.  Consider joining all columns at once using pd.concat(axis=1) instead. To get a de-fragmented frame, use `newframe = frame.copy()`\n",
            "  muestras['Muestra_' + str(i)]=_ # Con ello salvo cada una de las columnas del df\n",
            "/tmp/ipython-input-470-1324038430.py:7: PerformanceWarning: DataFrame is highly fragmented.  This is usually the result of calling `frame.insert` many times, which has poor performance.  Consider joining all columns at once using pd.concat(axis=1) instead. To get a de-fragmented frame, use `newframe = frame.copy()`\n",
            "  muestras['Muestra_' + str(i)]=_ # Con ello salvo cada una de las columnas del df\n",
            "/tmp/ipython-input-470-1324038430.py:7: PerformanceWarning: DataFrame is highly fragmented.  This is usually the result of calling `frame.insert` many times, which has poor performance.  Consider joining all columns at once using pd.concat(axis=1) instead. To get a de-fragmented frame, use `newframe = frame.copy()`\n",
            "  muestras['Muestra_' + str(i)]=_ # Con ello salvo cada una de las columnas del df\n",
            "/tmp/ipython-input-470-1324038430.py:7: PerformanceWarning: DataFrame is highly fragmented.  This is usually the result of calling `frame.insert` many times, which has poor performance.  Consider joining all columns at once using pd.concat(axis=1) instead. To get a de-fragmented frame, use `newframe = frame.copy()`\n",
            "  muestras['Muestra_' + str(i)]=_ # Con ello salvo cada una de las columnas del df\n",
            "/tmp/ipython-input-470-1324038430.py:7: PerformanceWarning: DataFrame is highly fragmented.  This is usually the result of calling `frame.insert` many times, which has poor performance.  Consider joining all columns at once using pd.concat(axis=1) instead. To get a de-fragmented frame, use `newframe = frame.copy()`\n",
            "  muestras['Muestra_' + str(i)]=_ # Con ello salvo cada una de las columnas del df\n",
            "/tmp/ipython-input-470-1324038430.py:7: PerformanceWarning: DataFrame is highly fragmented.  This is usually the result of calling `frame.insert` many times, which has poor performance.  Consider joining all columns at once using pd.concat(axis=1) instead. To get a de-fragmented frame, use `newframe = frame.copy()`\n",
            "  muestras['Muestra_' + str(i)]=_ # Con ello salvo cada una de las columnas del df\n",
            "/tmp/ipython-input-470-1324038430.py:7: PerformanceWarning: DataFrame is highly fragmented.  This is usually the result of calling `frame.insert` many times, which has poor performance.  Consider joining all columns at once using pd.concat(axis=1) instead. To get a de-fragmented frame, use `newframe = frame.copy()`\n",
            "  muestras['Muestra_' + str(i)]=_ # Con ello salvo cada una de las columnas del df\n",
            "/tmp/ipython-input-470-1324038430.py:7: PerformanceWarning: DataFrame is highly fragmented.  This is usually the result of calling `frame.insert` many times, which has poor performance.  Consider joining all columns at once using pd.concat(axis=1) instead. To get a de-fragmented frame, use `newframe = frame.copy()`\n",
            "  muestras['Muestra_' + str(i)]=_ # Con ello salvo cada una de las columnas del df\n",
            "/tmp/ipython-input-470-1324038430.py:7: PerformanceWarning: DataFrame is highly fragmented.  This is usually the result of calling `frame.insert` many times, which has poor performance.  Consider joining all columns at once using pd.concat(axis=1) instead. To get a de-fragmented frame, use `newframe = frame.copy()`\n",
            "  muestras['Muestra_' + str(i)]=_ # Con ello salvo cada una de las columnas del df\n",
            "/tmp/ipython-input-470-1324038430.py:7: PerformanceWarning: DataFrame is highly fragmented.  This is usually the result of calling `frame.insert` many times, which has poor performance.  Consider joining all columns at once using pd.concat(axis=1) instead. To get a de-fragmented frame, use `newframe = frame.copy()`\n",
            "  muestras['Muestra_' + str(i)]=_ # Con ello salvo cada una de las columnas del df\n",
            "/tmp/ipython-input-470-1324038430.py:7: PerformanceWarning: DataFrame is highly fragmented.  This is usually the result of calling `frame.insert` many times, which has poor performance.  Consider joining all columns at once using pd.concat(axis=1) instead. To get a de-fragmented frame, use `newframe = frame.copy()`\n",
            "  muestras['Muestra_' + str(i)]=_ # Con ello salvo cada una de las columnas del df\n",
            "/tmp/ipython-input-470-1324038430.py:7: PerformanceWarning: DataFrame is highly fragmented.  This is usually the result of calling `frame.insert` many times, which has poor performance.  Consider joining all columns at once using pd.concat(axis=1) instead. To get a de-fragmented frame, use `newframe = frame.copy()`\n",
            "  muestras['Muestra_' + str(i)]=_ # Con ello salvo cada una de las columnas del df\n",
            "/tmp/ipython-input-470-1324038430.py:7: PerformanceWarning: DataFrame is highly fragmented.  This is usually the result of calling `frame.insert` many times, which has poor performance.  Consider joining all columns at once using pd.concat(axis=1) instead. To get a de-fragmented frame, use `newframe = frame.copy()`\n",
            "  muestras['Muestra_' + str(i)]=_ # Con ello salvo cada una de las columnas del df\n",
            "/tmp/ipython-input-470-1324038430.py:7: PerformanceWarning: DataFrame is highly fragmented.  This is usually the result of calling `frame.insert` many times, which has poor performance.  Consider joining all columns at once using pd.concat(axis=1) instead. To get a de-fragmented frame, use `newframe = frame.copy()`\n",
            "  muestras['Muestra_' + str(i)]=_ # Con ello salvo cada una de las columnas del df\n",
            "/tmp/ipython-input-470-1324038430.py:7: PerformanceWarning: DataFrame is highly fragmented.  This is usually the result of calling `frame.insert` many times, which has poor performance.  Consider joining all columns at once using pd.concat(axis=1) instead. To get a de-fragmented frame, use `newframe = frame.copy()`\n",
            "  muestras['Muestra_' + str(i)]=_ # Con ello salvo cada una de las columnas del df\n",
            "/tmp/ipython-input-470-1324038430.py:7: PerformanceWarning: DataFrame is highly fragmented.  This is usually the result of calling `frame.insert` many times, which has poor performance.  Consider joining all columns at once using pd.concat(axis=1) instead. To get a de-fragmented frame, use `newframe = frame.copy()`\n",
            "  muestras['Muestra_' + str(i)]=_ # Con ello salvo cada una de las columnas del df\n",
            "/tmp/ipython-input-470-1324038430.py:7: PerformanceWarning: DataFrame is highly fragmented.  This is usually the result of calling `frame.insert` many times, which has poor performance.  Consider joining all columns at once using pd.concat(axis=1) instead. To get a de-fragmented frame, use `newframe = frame.copy()`\n",
            "  muestras['Muestra_' + str(i)]=_ # Con ello salvo cada una de las columnas del df\n",
            "/tmp/ipython-input-470-1324038430.py:7: PerformanceWarning: DataFrame is highly fragmented.  This is usually the result of calling `frame.insert` many times, which has poor performance.  Consider joining all columns at once using pd.concat(axis=1) instead. To get a de-fragmented frame, use `newframe = frame.copy()`\n",
            "  muestras['Muestra_' + str(i)]=_ # Con ello salvo cada una de las columnas del df\n",
            "/tmp/ipython-input-470-1324038430.py:7: PerformanceWarning: DataFrame is highly fragmented.  This is usually the result of calling `frame.insert` many times, which has poor performance.  Consider joining all columns at once using pd.concat(axis=1) instead. To get a de-fragmented frame, use `newframe = frame.copy()`\n",
            "  muestras['Muestra_' + str(i)]=_ # Con ello salvo cada una de las columnas del df\n",
            "/tmp/ipython-input-470-1324038430.py:7: PerformanceWarning: DataFrame is highly fragmented.  This is usually the result of calling `frame.insert` many times, which has poor performance.  Consider joining all columns at once using pd.concat(axis=1) instead. To get a de-fragmented frame, use `newframe = frame.copy()`\n",
            "  muestras['Muestra_' + str(i)]=_ # Con ello salvo cada una de las columnas del df\n",
            "/tmp/ipython-input-470-1324038430.py:7: PerformanceWarning: DataFrame is highly fragmented.  This is usually the result of calling `frame.insert` many times, which has poor performance.  Consider joining all columns at once using pd.concat(axis=1) instead. To get a de-fragmented frame, use `newframe = frame.copy()`\n",
            "  muestras['Muestra_' + str(i)]=_ # Con ello salvo cada una de las columnas del df\n",
            "/tmp/ipython-input-470-1324038430.py:7: PerformanceWarning: DataFrame is highly fragmented.  This is usually the result of calling `frame.insert` many times, which has poor performance.  Consider joining all columns at once using pd.concat(axis=1) instead. To get a de-fragmented frame, use `newframe = frame.copy()`\n",
            "  muestras['Muestra_' + str(i)]=_ # Con ello salvo cada una de las columnas del df\n",
            "/tmp/ipython-input-470-1324038430.py:7: PerformanceWarning: DataFrame is highly fragmented.  This is usually the result of calling `frame.insert` many times, which has poor performance.  Consider joining all columns at once using pd.concat(axis=1) instead. To get a de-fragmented frame, use `newframe = frame.copy()`\n",
            "  muestras['Muestra_' + str(i)]=_ # Con ello salvo cada una de las columnas del df\n",
            "/tmp/ipython-input-470-1324038430.py:7: PerformanceWarning: DataFrame is highly fragmented.  This is usually the result of calling `frame.insert` many times, which has poor performance.  Consider joining all columns at once using pd.concat(axis=1) instead. To get a de-fragmented frame, use `newframe = frame.copy()`\n",
            "  muestras['Muestra_' + str(i)]=_ # Con ello salvo cada una de las columnas del df\n",
            "/tmp/ipython-input-470-1324038430.py:7: PerformanceWarning: DataFrame is highly fragmented.  This is usually the result of calling `frame.insert` many times, which has poor performance.  Consider joining all columns at once using pd.concat(axis=1) instead. To get a de-fragmented frame, use `newframe = frame.copy()`\n",
            "  muestras['Muestra_' + str(i)]=_ # Con ello salvo cada una de las columnas del df\n",
            "/tmp/ipython-input-470-1324038430.py:7: PerformanceWarning: DataFrame is highly fragmented.  This is usually the result of calling `frame.insert` many times, which has poor performance.  Consider joining all columns at once using pd.concat(axis=1) instead. To get a de-fragmented frame, use `newframe = frame.copy()`\n",
            "  muestras['Muestra_' + str(i)]=_ # Con ello salvo cada una de las columnas del df\n",
            "/tmp/ipython-input-470-1324038430.py:7: PerformanceWarning: DataFrame is highly fragmented.  This is usually the result of calling `frame.insert` many times, which has poor performance.  Consider joining all columns at once using pd.concat(axis=1) instead. To get a de-fragmented frame, use `newframe = frame.copy()`\n",
            "  muestras['Muestra_' + str(i)]=_ # Con ello salvo cada una de las columnas del df\n",
            "/tmp/ipython-input-470-1324038430.py:7: PerformanceWarning: DataFrame is highly fragmented.  This is usually the result of calling `frame.insert` many times, which has poor performance.  Consider joining all columns at once using pd.concat(axis=1) instead. To get a de-fragmented frame, use `newframe = frame.copy()`\n",
            "  muestras['Muestra_' + str(i)]=_ # Con ello salvo cada una de las columnas del df\n",
            "/tmp/ipython-input-470-1324038430.py:7: PerformanceWarning: DataFrame is highly fragmented.  This is usually the result of calling `frame.insert` many times, which has poor performance.  Consider joining all columns at once using pd.concat(axis=1) instead. To get a de-fragmented frame, use `newframe = frame.copy()`\n",
            "  muestras['Muestra_' + str(i)]=_ # Con ello salvo cada una de las columnas del df\n",
            "/tmp/ipython-input-470-1324038430.py:7: PerformanceWarning: DataFrame is highly fragmented.  This is usually the result of calling `frame.insert` many times, which has poor performance.  Consider joining all columns at once using pd.concat(axis=1) instead. To get a de-fragmented frame, use `newframe = frame.copy()`\n",
            "  muestras['Muestra_' + str(i)]=_ # Con ello salvo cada una de las columnas del df\n",
            "/tmp/ipython-input-470-1324038430.py:7: PerformanceWarning: DataFrame is highly fragmented.  This is usually the result of calling `frame.insert` many times, which has poor performance.  Consider joining all columns at once using pd.concat(axis=1) instead. To get a de-fragmented frame, use `newframe = frame.copy()`\n",
            "  muestras['Muestra_' + str(i)]=_ # Con ello salvo cada una de las columnas del df\n",
            "/tmp/ipython-input-470-1324038430.py:7: PerformanceWarning: DataFrame is highly fragmented.  This is usually the result of calling `frame.insert` many times, which has poor performance.  Consider joining all columns at once using pd.concat(axis=1) instead. To get a de-fragmented frame, use `newframe = frame.copy()`\n",
            "  muestras['Muestra_' + str(i)]=_ # Con ello salvo cada una de las columnas del df\n",
            "/tmp/ipython-input-470-1324038430.py:7: PerformanceWarning: DataFrame is highly fragmented.  This is usually the result of calling `frame.insert` many times, which has poor performance.  Consider joining all columns at once using pd.concat(axis=1) instead. To get a de-fragmented frame, use `newframe = frame.copy()`\n",
            "  muestras['Muestra_' + str(i)]=_ # Con ello salvo cada una de las columnas del df\n",
            "/tmp/ipython-input-470-1324038430.py:7: PerformanceWarning: DataFrame is highly fragmented.  This is usually the result of calling `frame.insert` many times, which has poor performance.  Consider joining all columns at once using pd.concat(axis=1) instead. To get a de-fragmented frame, use `newframe = frame.copy()`\n",
            "  muestras['Muestra_' + str(i)]=_ # Con ello salvo cada una de las columnas del df\n",
            "/tmp/ipython-input-470-1324038430.py:7: PerformanceWarning: DataFrame is highly fragmented.  This is usually the result of calling `frame.insert` many times, which has poor performance.  Consider joining all columns at once using pd.concat(axis=1) instead. To get a de-fragmented frame, use `newframe = frame.copy()`\n",
            "  muestras['Muestra_' + str(i)]=_ # Con ello salvo cada una de las columnas del df\n",
            "/tmp/ipython-input-470-1324038430.py:7: PerformanceWarning: DataFrame is highly fragmented.  This is usually the result of calling `frame.insert` many times, which has poor performance.  Consider joining all columns at once using pd.concat(axis=1) instead. To get a de-fragmented frame, use `newframe = frame.copy()`\n",
            "  muestras['Muestra_' + str(i)]=_ # Con ello salvo cada una de las columnas del df\n",
            "/tmp/ipython-input-470-1324038430.py:7: PerformanceWarning: DataFrame is highly fragmented.  This is usually the result of calling `frame.insert` many times, which has poor performance.  Consider joining all columns at once using pd.concat(axis=1) instead. To get a de-fragmented frame, use `newframe = frame.copy()`\n",
            "  muestras['Muestra_' + str(i)]=_ # Con ello salvo cada una de las columnas del df\n",
            "/tmp/ipython-input-470-1324038430.py:7: PerformanceWarning: DataFrame is highly fragmented.  This is usually the result of calling `frame.insert` many times, which has poor performance.  Consider joining all columns at once using pd.concat(axis=1) instead. To get a de-fragmented frame, use `newframe = frame.copy()`\n",
            "  muestras['Muestra_' + str(i)]=_ # Con ello salvo cada una de las columnas del df\n",
            "/tmp/ipython-input-470-1324038430.py:7: PerformanceWarning: DataFrame is highly fragmented.  This is usually the result of calling `frame.insert` many times, which has poor performance.  Consider joining all columns at once using pd.concat(axis=1) instead. To get a de-fragmented frame, use `newframe = frame.copy()`\n",
            "  muestras['Muestra_' + str(i)]=_ # Con ello salvo cada una de las columnas del df\n",
            "/tmp/ipython-input-470-1324038430.py:7: PerformanceWarning: DataFrame is highly fragmented.  This is usually the result of calling `frame.insert` many times, which has poor performance.  Consider joining all columns at once using pd.concat(axis=1) instead. To get a de-fragmented frame, use `newframe = frame.copy()`\n",
            "  muestras['Muestra_' + str(i)]=_ # Con ello salvo cada una de las columnas del df\n",
            "/tmp/ipython-input-470-1324038430.py:7: PerformanceWarning: DataFrame is highly fragmented.  This is usually the result of calling `frame.insert` many times, which has poor performance.  Consider joining all columns at once using pd.concat(axis=1) instead. To get a de-fragmented frame, use `newframe = frame.copy()`\n",
            "  muestras['Muestra_' + str(i)]=_ # Con ello salvo cada una de las columnas del df\n",
            "/tmp/ipython-input-470-1324038430.py:7: PerformanceWarning: DataFrame is highly fragmented.  This is usually the result of calling `frame.insert` many times, which has poor performance.  Consider joining all columns at once using pd.concat(axis=1) instead. To get a de-fragmented frame, use `newframe = frame.copy()`\n",
            "  muestras['Muestra_' + str(i)]=_ # Con ello salvo cada una de las columnas del df\n",
            "/tmp/ipython-input-470-1324038430.py:7: PerformanceWarning: DataFrame is highly fragmented.  This is usually the result of calling `frame.insert` many times, which has poor performance.  Consider joining all columns at once using pd.concat(axis=1) instead. To get a de-fragmented frame, use `newframe = frame.copy()`\n",
            "  muestras['Muestra_' + str(i)]=_ # Con ello salvo cada una de las columnas del df\n",
            "/tmp/ipython-input-470-1324038430.py:7: PerformanceWarning: DataFrame is highly fragmented.  This is usually the result of calling `frame.insert` many times, which has poor performance.  Consider joining all columns at once using pd.concat(axis=1) instead. To get a de-fragmented frame, use `newframe = frame.copy()`\n",
            "  muestras['Muestra_' + str(i)]=_ # Con ello salvo cada una de las columnas del df\n",
            "/tmp/ipython-input-470-1324038430.py:7: PerformanceWarning: DataFrame is highly fragmented.  This is usually the result of calling `frame.insert` many times, which has poor performance.  Consider joining all columns at once using pd.concat(axis=1) instead. To get a de-fragmented frame, use `newframe = frame.copy()`\n",
            "  muestras['Muestra_' + str(i)]=_ # Con ello salvo cada una de las columnas del df\n",
            "/tmp/ipython-input-470-1324038430.py:7: PerformanceWarning: DataFrame is highly fragmented.  This is usually the result of calling `frame.insert` many times, which has poor performance.  Consider joining all columns at once using pd.concat(axis=1) instead. To get a de-fragmented frame, use `newframe = frame.copy()`\n",
            "  muestras['Muestra_' + str(i)]=_ # Con ello salvo cada una de las columnas del df\n",
            "/tmp/ipython-input-470-1324038430.py:7: PerformanceWarning: DataFrame is highly fragmented.  This is usually the result of calling `frame.insert` many times, which has poor performance.  Consider joining all columns at once using pd.concat(axis=1) instead. To get a de-fragmented frame, use `newframe = frame.copy()`\n",
            "  muestras['Muestra_' + str(i)]=_ # Con ello salvo cada una de las columnas del df\n",
            "/tmp/ipython-input-470-1324038430.py:7: PerformanceWarning: DataFrame is highly fragmented.  This is usually the result of calling `frame.insert` many times, which has poor performance.  Consider joining all columns at once using pd.concat(axis=1) instead. To get a de-fragmented frame, use `newframe = frame.copy()`\n",
            "  muestras['Muestra_' + str(i)]=_ # Con ello salvo cada una de las columnas del df\n",
            "/tmp/ipython-input-470-1324038430.py:7: PerformanceWarning: DataFrame is highly fragmented.  This is usually the result of calling `frame.insert` many times, which has poor performance.  Consider joining all columns at once using pd.concat(axis=1) instead. To get a de-fragmented frame, use `newframe = frame.copy()`\n",
            "  muestras['Muestra_' + str(i)]=_ # Con ello salvo cada una de las columnas del df\n",
            "/tmp/ipython-input-470-1324038430.py:7: PerformanceWarning: DataFrame is highly fragmented.  This is usually the result of calling `frame.insert` many times, which has poor performance.  Consider joining all columns at once using pd.concat(axis=1) instead. To get a de-fragmented frame, use `newframe = frame.copy()`\n",
            "  muestras['Muestra_' + str(i)]=_ # Con ello salvo cada una de las columnas del df\n",
            "/tmp/ipython-input-470-1324038430.py:7: PerformanceWarning: DataFrame is highly fragmented.  This is usually the result of calling `frame.insert` many times, which has poor performance.  Consider joining all columns at once using pd.concat(axis=1) instead. To get a de-fragmented frame, use `newframe = frame.copy()`\n",
            "  muestras['Muestra_' + str(i)]=_ # Con ello salvo cada una de las columnas del df\n",
            "/tmp/ipython-input-470-1324038430.py:7: PerformanceWarning: DataFrame is highly fragmented.  This is usually the result of calling `frame.insert` many times, which has poor performance.  Consider joining all columns at once using pd.concat(axis=1) instead. To get a de-fragmented frame, use `newframe = frame.copy()`\n",
            "  muestras['Muestra_' + str(i)]=_ # Con ello salvo cada una de las columnas del df\n",
            "/tmp/ipython-input-470-1324038430.py:7: PerformanceWarning: DataFrame is highly fragmented.  This is usually the result of calling `frame.insert` many times, which has poor performance.  Consider joining all columns at once using pd.concat(axis=1) instead. To get a de-fragmented frame, use `newframe = frame.copy()`\n",
            "  muestras['Muestra_' + str(i)]=_ # Con ello salvo cada una de las columnas del df\n",
            "/tmp/ipython-input-470-1324038430.py:7: PerformanceWarning: DataFrame is highly fragmented.  This is usually the result of calling `frame.insert` many times, which has poor performance.  Consider joining all columns at once using pd.concat(axis=1) instead. To get a de-fragmented frame, use `newframe = frame.copy()`\n",
            "  muestras['Muestra_' + str(i)]=_ # Con ello salvo cada una de las columnas del df\n",
            "/tmp/ipython-input-470-1324038430.py:7: PerformanceWarning: DataFrame is highly fragmented.  This is usually the result of calling `frame.insert` many times, which has poor performance.  Consider joining all columns at once using pd.concat(axis=1) instead. To get a de-fragmented frame, use `newframe = frame.copy()`\n",
            "  muestras['Muestra_' + str(i)]=_ # Con ello salvo cada una de las columnas del df\n",
            "/tmp/ipython-input-470-1324038430.py:7: PerformanceWarning: DataFrame is highly fragmented.  This is usually the result of calling `frame.insert` many times, which has poor performance.  Consider joining all columns at once using pd.concat(axis=1) instead. To get a de-fragmented frame, use `newframe = frame.copy()`\n",
            "  muestras['Muestra_' + str(i)]=_ # Con ello salvo cada una de las columnas del df\n",
            "/tmp/ipython-input-470-1324038430.py:7: PerformanceWarning: DataFrame is highly fragmented.  This is usually the result of calling `frame.insert` many times, which has poor performance.  Consider joining all columns at once using pd.concat(axis=1) instead. To get a de-fragmented frame, use `newframe = frame.copy()`\n",
            "  muestras['Muestra_' + str(i)]=_ # Con ello salvo cada una de las columnas del df\n",
            "/tmp/ipython-input-470-1324038430.py:7: PerformanceWarning: DataFrame is highly fragmented.  This is usually the result of calling `frame.insert` many times, which has poor performance.  Consider joining all columns at once using pd.concat(axis=1) instead. To get a de-fragmented frame, use `newframe = frame.copy()`\n",
            "  muestras['Muestra_' + str(i)]=_ # Con ello salvo cada una de las columnas del df\n",
            "/tmp/ipython-input-470-1324038430.py:7: PerformanceWarning: DataFrame is highly fragmented.  This is usually the result of calling `frame.insert` many times, which has poor performance.  Consider joining all columns at once using pd.concat(axis=1) instead. To get a de-fragmented frame, use `newframe = frame.copy()`\n",
            "  muestras['Muestra_' + str(i)]=_ # Con ello salvo cada una de las columnas del df\n",
            "/tmp/ipython-input-470-1324038430.py:7: PerformanceWarning: DataFrame is highly fragmented.  This is usually the result of calling `frame.insert` many times, which has poor performance.  Consider joining all columns at once using pd.concat(axis=1) instead. To get a de-fragmented frame, use `newframe = frame.copy()`\n",
            "  muestras['Muestra_' + str(i)]=_ # Con ello salvo cada una de las columnas del df\n",
            "/tmp/ipython-input-470-1324038430.py:7: PerformanceWarning: DataFrame is highly fragmented.  This is usually the result of calling `frame.insert` many times, which has poor performance.  Consider joining all columns at once using pd.concat(axis=1) instead. To get a de-fragmented frame, use `newframe = frame.copy()`\n",
            "  muestras['Muestra_' + str(i)]=_ # Con ello salvo cada una de las columnas del df\n",
            "/tmp/ipython-input-470-1324038430.py:7: PerformanceWarning: DataFrame is highly fragmented.  This is usually the result of calling `frame.insert` many times, which has poor performance.  Consider joining all columns at once using pd.concat(axis=1) instead. To get a de-fragmented frame, use `newframe = frame.copy()`\n",
            "  muestras['Muestra_' + str(i)]=_ # Con ello salvo cada una de las columnas del df\n",
            "/tmp/ipython-input-470-1324038430.py:7: PerformanceWarning: DataFrame is highly fragmented.  This is usually the result of calling `frame.insert` many times, which has poor performance.  Consider joining all columns at once using pd.concat(axis=1) instead. To get a de-fragmented frame, use `newframe = frame.copy()`\n",
            "  muestras['Muestra_' + str(i)]=_ # Con ello salvo cada una de las columnas del df\n",
            "/tmp/ipython-input-470-1324038430.py:7: PerformanceWarning: DataFrame is highly fragmented.  This is usually the result of calling `frame.insert` many times, which has poor performance.  Consider joining all columns at once using pd.concat(axis=1) instead. To get a de-fragmented frame, use `newframe = frame.copy()`\n",
            "  muestras['Muestra_' + str(i)]=_ # Con ello salvo cada una de las columnas del df\n",
            "/tmp/ipython-input-470-1324038430.py:7: PerformanceWarning: DataFrame is highly fragmented.  This is usually the result of calling `frame.insert` many times, which has poor performance.  Consider joining all columns at once using pd.concat(axis=1) instead. To get a de-fragmented frame, use `newframe = frame.copy()`\n",
            "  muestras['Muestra_' + str(i)]=_ # Con ello salvo cada una de las columnas del df\n",
            "/tmp/ipython-input-470-1324038430.py:7: PerformanceWarning: DataFrame is highly fragmented.  This is usually the result of calling `frame.insert` many times, which has poor performance.  Consider joining all columns at once using pd.concat(axis=1) instead. To get a de-fragmented frame, use `newframe = frame.copy()`\n",
            "  muestras['Muestra_' + str(i)]=_ # Con ello salvo cada una de las columnas del df\n",
            "/tmp/ipython-input-470-1324038430.py:7: PerformanceWarning: DataFrame is highly fragmented.  This is usually the result of calling `frame.insert` many times, which has poor performance.  Consider joining all columns at once using pd.concat(axis=1) instead. To get a de-fragmented frame, use `newframe = frame.copy()`\n",
            "  muestras['Muestra_' + str(i)]=_ # Con ello salvo cada una de las columnas del df\n",
            "/tmp/ipython-input-470-1324038430.py:7: PerformanceWarning: DataFrame is highly fragmented.  This is usually the result of calling `frame.insert` many times, which has poor performance.  Consider joining all columns at once using pd.concat(axis=1) instead. To get a de-fragmented frame, use `newframe = frame.copy()`\n",
            "  muestras['Muestra_' + str(i)]=_ # Con ello salvo cada una de las columnas del df\n",
            "/tmp/ipython-input-470-1324038430.py:7: PerformanceWarning: DataFrame is highly fragmented.  This is usually the result of calling `frame.insert` many times, which has poor performance.  Consider joining all columns at once using pd.concat(axis=1) instead. To get a de-fragmented frame, use `newframe = frame.copy()`\n",
            "  muestras['Muestra_' + str(i)]=_ # Con ello salvo cada una de las columnas del df\n",
            "/tmp/ipython-input-470-1324038430.py:7: PerformanceWarning: DataFrame is highly fragmented.  This is usually the result of calling `frame.insert` many times, which has poor performance.  Consider joining all columns at once using pd.concat(axis=1) instead. To get a de-fragmented frame, use `newframe = frame.copy()`\n",
            "  muestras['Muestra_' + str(i)]=_ # Con ello salvo cada una de las columnas del df\n",
            "/tmp/ipython-input-470-1324038430.py:7: PerformanceWarning: DataFrame is highly fragmented.  This is usually the result of calling `frame.insert` many times, which has poor performance.  Consider joining all columns at once using pd.concat(axis=1) instead. To get a de-fragmented frame, use `newframe = frame.copy()`\n",
            "  muestras['Muestra_' + str(i)]=_ # Con ello salvo cada una de las columnas del df\n",
            "/tmp/ipython-input-470-1324038430.py:7: PerformanceWarning: DataFrame is highly fragmented.  This is usually the result of calling `frame.insert` many times, which has poor performance.  Consider joining all columns at once using pd.concat(axis=1) instead. To get a de-fragmented frame, use `newframe = frame.copy()`\n",
            "  muestras['Muestra_' + str(i)]=_ # Con ello salvo cada una de las columnas del df\n",
            "/tmp/ipython-input-470-1324038430.py:7: PerformanceWarning: DataFrame is highly fragmented.  This is usually the result of calling `frame.insert` many times, which has poor performance.  Consider joining all columns at once using pd.concat(axis=1) instead. To get a de-fragmented frame, use `newframe = frame.copy()`\n",
            "  muestras['Muestra_' + str(i)]=_ # Con ello salvo cada una de las columnas del df\n",
            "/tmp/ipython-input-470-1324038430.py:7: PerformanceWarning: DataFrame is highly fragmented.  This is usually the result of calling `frame.insert` many times, which has poor performance.  Consider joining all columns at once using pd.concat(axis=1) instead. To get a de-fragmented frame, use `newframe = frame.copy()`\n",
            "  muestras['Muestra_' + str(i)]=_ # Con ello salvo cada una de las columnas del df\n",
            "/tmp/ipython-input-470-1324038430.py:7: PerformanceWarning: DataFrame is highly fragmented.  This is usually the result of calling `frame.insert` many times, which has poor performance.  Consider joining all columns at once using pd.concat(axis=1) instead. To get a de-fragmented frame, use `newframe = frame.copy()`\n",
            "  muestras['Muestra_' + str(i)]=_ # Con ello salvo cada una de las columnas del df\n",
            "/tmp/ipython-input-470-1324038430.py:7: PerformanceWarning: DataFrame is highly fragmented.  This is usually the result of calling `frame.insert` many times, which has poor performance.  Consider joining all columns at once using pd.concat(axis=1) instead. To get a de-fragmented frame, use `newframe = frame.copy()`\n",
            "  muestras['Muestra_' + str(i)]=_ # Con ello salvo cada una de las columnas del df\n",
            "/tmp/ipython-input-470-1324038430.py:7: PerformanceWarning: DataFrame is highly fragmented.  This is usually the result of calling `frame.insert` many times, which has poor performance.  Consider joining all columns at once using pd.concat(axis=1) instead. To get a de-fragmented frame, use `newframe = frame.copy()`\n",
            "  muestras['Muestra_' + str(i)]=_ # Con ello salvo cada una de las columnas del df\n",
            "/tmp/ipython-input-470-1324038430.py:7: PerformanceWarning: DataFrame is highly fragmented.  This is usually the result of calling `frame.insert` many times, which has poor performance.  Consider joining all columns at once using pd.concat(axis=1) instead. To get a de-fragmented frame, use `newframe = frame.copy()`\n",
            "  muestras['Muestra_' + str(i)]=_ # Con ello salvo cada una de las columnas del df\n",
            "/tmp/ipython-input-470-1324038430.py:7: PerformanceWarning: DataFrame is highly fragmented.  This is usually the result of calling `frame.insert` many times, which has poor performance.  Consider joining all columns at once using pd.concat(axis=1) instead. To get a de-fragmented frame, use `newframe = frame.copy()`\n",
            "  muestras['Muestra_' + str(i)]=_ # Con ello salvo cada una de las columnas del df\n",
            "/tmp/ipython-input-470-1324038430.py:7: PerformanceWarning: DataFrame is highly fragmented.  This is usually the result of calling `frame.insert` many times, which has poor performance.  Consider joining all columns at once using pd.concat(axis=1) instead. To get a de-fragmented frame, use `newframe = frame.copy()`\n",
            "  muestras['Muestra_' + str(i)]=_ # Con ello salvo cada una de las columnas del df\n",
            "/tmp/ipython-input-470-1324038430.py:7: PerformanceWarning: DataFrame is highly fragmented.  This is usually the result of calling `frame.insert` many times, which has poor performance.  Consider joining all columns at once using pd.concat(axis=1) instead. To get a de-fragmented frame, use `newframe = frame.copy()`\n",
            "  muestras['Muestra_' + str(i)]=_ # Con ello salvo cada una de las columnas del df\n",
            "/tmp/ipython-input-470-1324038430.py:7: PerformanceWarning: DataFrame is highly fragmented.  This is usually the result of calling `frame.insert` many times, which has poor performance.  Consider joining all columns at once using pd.concat(axis=1) instead. To get a de-fragmented frame, use `newframe = frame.copy()`\n",
            "  muestras['Muestra_' + str(i)]=_ # Con ello salvo cada una de las columnas del df\n",
            "/tmp/ipython-input-470-1324038430.py:7: PerformanceWarning: DataFrame is highly fragmented.  This is usually the result of calling `frame.insert` many times, which has poor performance.  Consider joining all columns at once using pd.concat(axis=1) instead. To get a de-fragmented frame, use `newframe = frame.copy()`\n",
            "  muestras['Muestra_' + str(i)]=_ # Con ello salvo cada una de las columnas del df\n",
            "/tmp/ipython-input-470-1324038430.py:7: PerformanceWarning: DataFrame is highly fragmented.  This is usually the result of calling `frame.insert` many times, which has poor performance.  Consider joining all columns at once using pd.concat(axis=1) instead. To get a de-fragmented frame, use `newframe = frame.copy()`\n",
            "  muestras['Muestra_' + str(i)]=_ # Con ello salvo cada una de las columnas del df\n",
            "/tmp/ipython-input-470-1324038430.py:7: PerformanceWarning: DataFrame is highly fragmented.  This is usually the result of calling `frame.insert` many times, which has poor performance.  Consider joining all columns at once using pd.concat(axis=1) instead. To get a de-fragmented frame, use `newframe = frame.copy()`\n",
            "  muestras['Muestra_' + str(i)]=_ # Con ello salvo cada una de las columnas del df\n",
            "/tmp/ipython-input-470-1324038430.py:7: PerformanceWarning: DataFrame is highly fragmented.  This is usually the result of calling `frame.insert` many times, which has poor performance.  Consider joining all columns at once using pd.concat(axis=1) instead. To get a de-fragmented frame, use `newframe = frame.copy()`\n",
            "  muestras['Muestra_' + str(i)]=_ # Con ello salvo cada una de las columnas del df\n",
            "/tmp/ipython-input-470-1324038430.py:7: PerformanceWarning: DataFrame is highly fragmented.  This is usually the result of calling `frame.insert` many times, which has poor performance.  Consider joining all columns at once using pd.concat(axis=1) instead. To get a de-fragmented frame, use `newframe = frame.copy()`\n",
            "  muestras['Muestra_' + str(i)]=_ # Con ello salvo cada una de las columnas del df\n",
            "/tmp/ipython-input-470-1324038430.py:7: PerformanceWarning: DataFrame is highly fragmented.  This is usually the result of calling `frame.insert` many times, which has poor performance.  Consider joining all columns at once using pd.concat(axis=1) instead. To get a de-fragmented frame, use `newframe = frame.copy()`\n",
            "  muestras['Muestra_' + str(i)]=_ # Con ello salvo cada una de las columnas del df\n",
            "/tmp/ipython-input-470-1324038430.py:7: PerformanceWarning: DataFrame is highly fragmented.  This is usually the result of calling `frame.insert` many times, which has poor performance.  Consider joining all columns at once using pd.concat(axis=1) instead. To get a de-fragmented frame, use `newframe = frame.copy()`\n",
            "  muestras['Muestra_' + str(i)]=_ # Con ello salvo cada una de las columnas del df\n",
            "/tmp/ipython-input-470-1324038430.py:7: PerformanceWarning: DataFrame is highly fragmented.  This is usually the result of calling `frame.insert` many times, which has poor performance.  Consider joining all columns at once using pd.concat(axis=1) instead. To get a de-fragmented frame, use `newframe = frame.copy()`\n",
            "  muestras['Muestra_' + str(i)]=_ # Con ello salvo cada una de las columnas del df\n",
            "/tmp/ipython-input-470-1324038430.py:7: PerformanceWarning: DataFrame is highly fragmented.  This is usually the result of calling `frame.insert` many times, which has poor performance.  Consider joining all columns at once using pd.concat(axis=1) instead. To get a de-fragmented frame, use `newframe = frame.copy()`\n",
            "  muestras['Muestra_' + str(i)]=_ # Con ello salvo cada una de las columnas del df\n",
            "/tmp/ipython-input-470-1324038430.py:7: PerformanceWarning: DataFrame is highly fragmented.  This is usually the result of calling `frame.insert` many times, which has poor performance.  Consider joining all columns at once using pd.concat(axis=1) instead. To get a de-fragmented frame, use `newframe = frame.copy()`\n",
            "  muestras['Muestra_' + str(i)]=_ # Con ello salvo cada una de las columnas del df\n",
            "/tmp/ipython-input-470-1324038430.py:7: PerformanceWarning: DataFrame is highly fragmented.  This is usually the result of calling `frame.insert` many times, which has poor performance.  Consider joining all columns at once using pd.concat(axis=1) instead. To get a de-fragmented frame, use `newframe = frame.copy()`\n",
            "  muestras['Muestra_' + str(i)]=_ # Con ello salvo cada una de las columnas del df\n",
            "/tmp/ipython-input-470-1324038430.py:7: PerformanceWarning: DataFrame is highly fragmented.  This is usually the result of calling `frame.insert` many times, which has poor performance.  Consider joining all columns at once using pd.concat(axis=1) instead. To get a de-fragmented frame, use `newframe = frame.copy()`\n",
            "  muestras['Muestra_' + str(i)]=_ # Con ello salvo cada una de las columnas del df\n",
            "/tmp/ipython-input-470-1324038430.py:7: PerformanceWarning: DataFrame is highly fragmented.  This is usually the result of calling `frame.insert` many times, which has poor performance.  Consider joining all columns at once using pd.concat(axis=1) instead. To get a de-fragmented frame, use `newframe = frame.copy()`\n",
            "  muestras['Muestra_' + str(i)]=_ # Con ello salvo cada una de las columnas del df\n",
            "/tmp/ipython-input-470-1324038430.py:7: PerformanceWarning: DataFrame is highly fragmented.  This is usually the result of calling `frame.insert` many times, which has poor performance.  Consider joining all columns at once using pd.concat(axis=1) instead. To get a de-fragmented frame, use `newframe = frame.copy()`\n",
            "  muestras['Muestra_' + str(i)]=_ # Con ello salvo cada una de las columnas del df\n",
            "/tmp/ipython-input-470-1324038430.py:7: PerformanceWarning: DataFrame is highly fragmented.  This is usually the result of calling `frame.insert` many times, which has poor performance.  Consider joining all columns at once using pd.concat(axis=1) instead. To get a de-fragmented frame, use `newframe = frame.copy()`\n",
            "  muestras['Muestra_' + str(i)]=_ # Con ello salvo cada una de las columnas del df\n",
            "/tmp/ipython-input-470-1324038430.py:7: PerformanceWarning: DataFrame is highly fragmented.  This is usually the result of calling `frame.insert` many times, which has poor performance.  Consider joining all columns at once using pd.concat(axis=1) instead. To get a de-fragmented frame, use `newframe = frame.copy()`\n",
            "  muestras['Muestra_' + str(i)]=_ # Con ello salvo cada una de las columnas del df\n",
            "/tmp/ipython-input-470-1324038430.py:7: PerformanceWarning: DataFrame is highly fragmented.  This is usually the result of calling `frame.insert` many times, which has poor performance.  Consider joining all columns at once using pd.concat(axis=1) instead. To get a de-fragmented frame, use `newframe = frame.copy()`\n",
            "  muestras['Muestra_' + str(i)]=_ # Con ello salvo cada una de las columnas del df\n",
            "/tmp/ipython-input-470-1324038430.py:7: PerformanceWarning: DataFrame is highly fragmented.  This is usually the result of calling `frame.insert` many times, which has poor performance.  Consider joining all columns at once using pd.concat(axis=1) instead. To get a de-fragmented frame, use `newframe = frame.copy()`\n",
            "  muestras['Muestra_' + str(i)]=_ # Con ello salvo cada una de las columnas del df\n",
            "/tmp/ipython-input-470-1324038430.py:7: PerformanceWarning: DataFrame is highly fragmented.  This is usually the result of calling `frame.insert` many times, which has poor performance.  Consider joining all columns at once using pd.concat(axis=1) instead. To get a de-fragmented frame, use `newframe = frame.copy()`\n",
            "  muestras['Muestra_' + str(i)]=_ # Con ello salvo cada una de las columnas del df\n",
            "/tmp/ipython-input-470-1324038430.py:7: PerformanceWarning: DataFrame is highly fragmented.  This is usually the result of calling `frame.insert` many times, which has poor performance.  Consider joining all columns at once using pd.concat(axis=1) instead. To get a de-fragmented frame, use `newframe = frame.copy()`\n",
            "  muestras['Muestra_' + str(i)]=_ # Con ello salvo cada una de las columnas del df\n",
            "/tmp/ipython-input-470-1324038430.py:7: PerformanceWarning: DataFrame is highly fragmented.  This is usually the result of calling `frame.insert` many times, which has poor performance.  Consider joining all columns at once using pd.concat(axis=1) instead. To get a de-fragmented frame, use `newframe = frame.copy()`\n",
            "  muestras['Muestra_' + str(i)]=_ # Con ello salvo cada una de las columnas del df\n",
            "/tmp/ipython-input-470-1324038430.py:7: PerformanceWarning: DataFrame is highly fragmented.  This is usually the result of calling `frame.insert` many times, which has poor performance.  Consider joining all columns at once using pd.concat(axis=1) instead. To get a de-fragmented frame, use `newframe = frame.copy()`\n",
            "  muestras['Muestra_' + str(i)]=_ # Con ello salvo cada una de las columnas del df\n",
            "/tmp/ipython-input-470-1324038430.py:7: PerformanceWarning: DataFrame is highly fragmented.  This is usually the result of calling `frame.insert` many times, which has poor performance.  Consider joining all columns at once using pd.concat(axis=1) instead. To get a de-fragmented frame, use `newframe = frame.copy()`\n",
            "  muestras['Muestra_' + str(i)]=_ # Con ello salvo cada una de las columnas del df\n",
            "/tmp/ipython-input-470-1324038430.py:7: PerformanceWarning: DataFrame is highly fragmented.  This is usually the result of calling `frame.insert` many times, which has poor performance.  Consider joining all columns at once using pd.concat(axis=1) instead. To get a de-fragmented frame, use `newframe = frame.copy()`\n",
            "  muestras['Muestra_' + str(i)]=_ # Con ello salvo cada una de las columnas del df\n",
            "/tmp/ipython-input-470-1324038430.py:7: PerformanceWarning: DataFrame is highly fragmented.  This is usually the result of calling `frame.insert` many times, which has poor performance.  Consider joining all columns at once using pd.concat(axis=1) instead. To get a de-fragmented frame, use `newframe = frame.copy()`\n",
            "  muestras['Muestra_' + str(i)]=_ # Con ello salvo cada una de las columnas del df\n",
            "/tmp/ipython-input-470-1324038430.py:7: PerformanceWarning: DataFrame is highly fragmented.  This is usually the result of calling `frame.insert` many times, which has poor performance.  Consider joining all columns at once using pd.concat(axis=1) instead. To get a de-fragmented frame, use `newframe = frame.copy()`\n",
            "  muestras['Muestra_' + str(i)]=_ # Con ello salvo cada una de las columnas del df\n",
            "/tmp/ipython-input-470-1324038430.py:7: PerformanceWarning: DataFrame is highly fragmented.  This is usually the result of calling `frame.insert` many times, which has poor performance.  Consider joining all columns at once using pd.concat(axis=1) instead. To get a de-fragmented frame, use `newframe = frame.copy()`\n",
            "  muestras['Muestra_' + str(i)]=_ # Con ello salvo cada una de las columnas del df\n",
            "/tmp/ipython-input-470-1324038430.py:7: PerformanceWarning: DataFrame is highly fragmented.  This is usually the result of calling `frame.insert` many times, which has poor performance.  Consider joining all columns at once using pd.concat(axis=1) instead. To get a de-fragmented frame, use `newframe = frame.copy()`\n",
            "  muestras['Muestra_' + str(i)]=_ # Con ello salvo cada una de las columnas del df\n",
            "/tmp/ipython-input-470-1324038430.py:7: PerformanceWarning: DataFrame is highly fragmented.  This is usually the result of calling `frame.insert` many times, which has poor performance.  Consider joining all columns at once using pd.concat(axis=1) instead. To get a de-fragmented frame, use `newframe = frame.copy()`\n",
            "  muestras['Muestra_' + str(i)]=_ # Con ello salvo cada una de las columnas del df\n",
            "/tmp/ipython-input-470-1324038430.py:7: PerformanceWarning: DataFrame is highly fragmented.  This is usually the result of calling `frame.insert` many times, which has poor performance.  Consider joining all columns at once using pd.concat(axis=1) instead. To get a de-fragmented frame, use `newframe = frame.copy()`\n",
            "  muestras['Muestra_' + str(i)]=_ # Con ello salvo cada una de las columnas del df\n",
            "/tmp/ipython-input-470-1324038430.py:7: PerformanceWarning: DataFrame is highly fragmented.  This is usually the result of calling `frame.insert` many times, which has poor performance.  Consider joining all columns at once using pd.concat(axis=1) instead. To get a de-fragmented frame, use `newframe = frame.copy()`\n",
            "  muestras['Muestra_' + str(i)]=_ # Con ello salvo cada una de las columnas del df\n",
            "/tmp/ipython-input-470-1324038430.py:7: PerformanceWarning: DataFrame is highly fragmented.  This is usually the result of calling `frame.insert` many times, which has poor performance.  Consider joining all columns at once using pd.concat(axis=1) instead. To get a de-fragmented frame, use `newframe = frame.copy()`\n",
            "  muestras['Muestra_' + str(i)]=_ # Con ello salvo cada una de las columnas del df\n",
            "/tmp/ipython-input-470-1324038430.py:7: PerformanceWarning: DataFrame is highly fragmented.  This is usually the result of calling `frame.insert` many times, which has poor performance.  Consider joining all columns at once using pd.concat(axis=1) instead. To get a de-fragmented frame, use `newframe = frame.copy()`\n",
            "  muestras['Muestra_' + str(i)]=_ # Con ello salvo cada una de las columnas del df\n",
            "/tmp/ipython-input-470-1324038430.py:7: PerformanceWarning: DataFrame is highly fragmented.  This is usually the result of calling `frame.insert` many times, which has poor performance.  Consider joining all columns at once using pd.concat(axis=1) instead. To get a de-fragmented frame, use `newframe = frame.copy()`\n",
            "  muestras['Muestra_' + str(i)]=_ # Con ello salvo cada una de las columnas del df\n",
            "/tmp/ipython-input-470-1324038430.py:7: PerformanceWarning: DataFrame is highly fragmented.  This is usually the result of calling `frame.insert` many times, which has poor performance.  Consider joining all columns at once using pd.concat(axis=1) instead. To get a de-fragmented frame, use `newframe = frame.copy()`\n",
            "  muestras['Muestra_' + str(i)]=_ # Con ello salvo cada una de las columnas del df\n",
            "/tmp/ipython-input-470-1324038430.py:7: PerformanceWarning: DataFrame is highly fragmented.  This is usually the result of calling `frame.insert` many times, which has poor performance.  Consider joining all columns at once using pd.concat(axis=1) instead. To get a de-fragmented frame, use `newframe = frame.copy()`\n",
            "  muestras['Muestra_' + str(i)]=_ # Con ello salvo cada una de las columnas del df\n",
            "/tmp/ipython-input-470-1324038430.py:7: PerformanceWarning: DataFrame is highly fragmented.  This is usually the result of calling `frame.insert` many times, which has poor performance.  Consider joining all columns at once using pd.concat(axis=1) instead. To get a de-fragmented frame, use `newframe = frame.copy()`\n",
            "  muestras['Muestra_' + str(i)]=_ # Con ello salvo cada una de las columnas del df\n",
            "/tmp/ipython-input-470-1324038430.py:7: PerformanceWarning: DataFrame is highly fragmented.  This is usually the result of calling `frame.insert` many times, which has poor performance.  Consider joining all columns at once using pd.concat(axis=1) instead. To get a de-fragmented frame, use `newframe = frame.copy()`\n",
            "  muestras['Muestra_' + str(i)]=_ # Con ello salvo cada una de las columnas del df\n",
            "/tmp/ipython-input-470-1324038430.py:7: PerformanceWarning: DataFrame is highly fragmented.  This is usually the result of calling `frame.insert` many times, which has poor performance.  Consider joining all columns at once using pd.concat(axis=1) instead. To get a de-fragmented frame, use `newframe = frame.copy()`\n",
            "  muestras['Muestra_' + str(i)]=_ # Con ello salvo cada una de las columnas del df\n",
            "/tmp/ipython-input-470-1324038430.py:7: PerformanceWarning: DataFrame is highly fragmented.  This is usually the result of calling `frame.insert` many times, which has poor performance.  Consider joining all columns at once using pd.concat(axis=1) instead. To get a de-fragmented frame, use `newframe = frame.copy()`\n",
            "  muestras['Muestra_' + str(i)]=_ # Con ello salvo cada una de las columnas del df\n",
            "/tmp/ipython-input-470-1324038430.py:7: PerformanceWarning: DataFrame is highly fragmented.  This is usually the result of calling `frame.insert` many times, which has poor performance.  Consider joining all columns at once using pd.concat(axis=1) instead. To get a de-fragmented frame, use `newframe = frame.copy()`\n",
            "  muestras['Muestra_' + str(i)]=_ # Con ello salvo cada una de las columnas del df\n",
            "/tmp/ipython-input-470-1324038430.py:7: PerformanceWarning: DataFrame is highly fragmented.  This is usually the result of calling `frame.insert` many times, which has poor performance.  Consider joining all columns at once using pd.concat(axis=1) instead. To get a de-fragmented frame, use `newframe = frame.copy()`\n",
            "  muestras['Muestra_' + str(i)]=_ # Con ello salvo cada una de las columnas del df\n",
            "/tmp/ipython-input-470-1324038430.py:7: PerformanceWarning: DataFrame is highly fragmented.  This is usually the result of calling `frame.insert` many times, which has poor performance.  Consider joining all columns at once using pd.concat(axis=1) instead. To get a de-fragmented frame, use `newframe = frame.copy()`\n",
            "  muestras['Muestra_' + str(i)]=_ # Con ello salvo cada una de las columnas del df\n",
            "/tmp/ipython-input-470-1324038430.py:7: PerformanceWarning: DataFrame is highly fragmented.  This is usually the result of calling `frame.insert` many times, which has poor performance.  Consider joining all columns at once using pd.concat(axis=1) instead. To get a de-fragmented frame, use `newframe = frame.copy()`\n",
            "  muestras['Muestra_' + str(i)]=_ # Con ello salvo cada una de las columnas del df\n",
            "/tmp/ipython-input-470-1324038430.py:7: PerformanceWarning: DataFrame is highly fragmented.  This is usually the result of calling `frame.insert` many times, which has poor performance.  Consider joining all columns at once using pd.concat(axis=1) instead. To get a de-fragmented frame, use `newframe = frame.copy()`\n",
            "  muestras['Muestra_' + str(i)]=_ # Con ello salvo cada una de las columnas del df\n",
            "/tmp/ipython-input-470-1324038430.py:7: PerformanceWarning: DataFrame is highly fragmented.  This is usually the result of calling `frame.insert` many times, which has poor performance.  Consider joining all columns at once using pd.concat(axis=1) instead. To get a de-fragmented frame, use `newframe = frame.copy()`\n",
            "  muestras['Muestra_' + str(i)]=_ # Con ello salvo cada una de las columnas del df\n",
            "/tmp/ipython-input-470-1324038430.py:7: PerformanceWarning: DataFrame is highly fragmented.  This is usually the result of calling `frame.insert` many times, which has poor performance.  Consider joining all columns at once using pd.concat(axis=1) instead. To get a de-fragmented frame, use `newframe = frame.copy()`\n",
            "  muestras['Muestra_' + str(i)]=_ # Con ello salvo cada una de las columnas del df\n",
            "/tmp/ipython-input-470-1324038430.py:7: PerformanceWarning: DataFrame is highly fragmented.  This is usually the result of calling `frame.insert` many times, which has poor performance.  Consider joining all columns at once using pd.concat(axis=1) instead. To get a de-fragmented frame, use `newframe = frame.copy()`\n",
            "  muestras['Muestra_' + str(i)]=_ # Con ello salvo cada una de las columnas del df\n",
            "/tmp/ipython-input-470-1324038430.py:7: PerformanceWarning: DataFrame is highly fragmented.  This is usually the result of calling `frame.insert` many times, which has poor performance.  Consider joining all columns at once using pd.concat(axis=1) instead. To get a de-fragmented frame, use `newframe = frame.copy()`\n",
            "  muestras['Muestra_' + str(i)]=_ # Con ello salvo cada una de las columnas del df\n",
            "/tmp/ipython-input-470-1324038430.py:7: PerformanceWarning: DataFrame is highly fragmented.  This is usually the result of calling `frame.insert` many times, which has poor performance.  Consider joining all columns at once using pd.concat(axis=1) instead. To get a de-fragmented frame, use `newframe = frame.copy()`\n",
            "  muestras['Muestra_' + str(i)]=_ # Con ello salvo cada una de las columnas del df\n",
            "/tmp/ipython-input-470-1324038430.py:7: PerformanceWarning: DataFrame is highly fragmented.  This is usually the result of calling `frame.insert` many times, which has poor performance.  Consider joining all columns at once using pd.concat(axis=1) instead. To get a de-fragmented frame, use `newframe = frame.copy()`\n",
            "  muestras['Muestra_' + str(i)]=_ # Con ello salvo cada una de las columnas del df\n",
            "/tmp/ipython-input-470-1324038430.py:7: PerformanceWarning: DataFrame is highly fragmented.  This is usually the result of calling `frame.insert` many times, which has poor performance.  Consider joining all columns at once using pd.concat(axis=1) instead. To get a de-fragmented frame, use `newframe = frame.copy()`\n",
            "  muestras['Muestra_' + str(i)]=_ # Con ello salvo cada una de las columnas del df\n",
            "/tmp/ipython-input-470-1324038430.py:7: PerformanceWarning: DataFrame is highly fragmented.  This is usually the result of calling `frame.insert` many times, which has poor performance.  Consider joining all columns at once using pd.concat(axis=1) instead. To get a de-fragmented frame, use `newframe = frame.copy()`\n",
            "  muestras['Muestra_' + str(i)]=_ # Con ello salvo cada una de las columnas del df\n",
            "/tmp/ipython-input-470-1324038430.py:7: PerformanceWarning: DataFrame is highly fragmented.  This is usually the result of calling `frame.insert` many times, which has poor performance.  Consider joining all columns at once using pd.concat(axis=1) instead. To get a de-fragmented frame, use `newframe = frame.copy()`\n",
            "  muestras['Muestra_' + str(i)]=_ # Con ello salvo cada una de las columnas del df\n",
            "/tmp/ipython-input-470-1324038430.py:7: PerformanceWarning: DataFrame is highly fragmented.  This is usually the result of calling `frame.insert` many times, which has poor performance.  Consider joining all columns at once using pd.concat(axis=1) instead. To get a de-fragmented frame, use `newframe = frame.copy()`\n",
            "  muestras['Muestra_' + str(i)]=_ # Con ello salvo cada una de las columnas del df\n",
            "/tmp/ipython-input-470-1324038430.py:7: PerformanceWarning: DataFrame is highly fragmented.  This is usually the result of calling `frame.insert` many times, which has poor performance.  Consider joining all columns at once using pd.concat(axis=1) instead. To get a de-fragmented frame, use `newframe = frame.copy()`\n",
            "  muestras['Muestra_' + str(i)]=_ # Con ello salvo cada una de las columnas del df\n",
            "/tmp/ipython-input-470-1324038430.py:7: PerformanceWarning: DataFrame is highly fragmented.  This is usually the result of calling `frame.insert` many times, which has poor performance.  Consider joining all columns at once using pd.concat(axis=1) instead. To get a de-fragmented frame, use `newframe = frame.copy()`\n",
            "  muestras['Muestra_' + str(i)]=_ # Con ello salvo cada una de las columnas del df\n",
            "/tmp/ipython-input-470-1324038430.py:7: PerformanceWarning: DataFrame is highly fragmented.  This is usually the result of calling `frame.insert` many times, which has poor performance.  Consider joining all columns at once using pd.concat(axis=1) instead. To get a de-fragmented frame, use `newframe = frame.copy()`\n",
            "  muestras['Muestra_' + str(i)]=_ # Con ello salvo cada una de las columnas del df\n",
            "/tmp/ipython-input-470-1324038430.py:7: PerformanceWarning: DataFrame is highly fragmented.  This is usually the result of calling `frame.insert` many times, which has poor performance.  Consider joining all columns at once using pd.concat(axis=1) instead. To get a de-fragmented frame, use `newframe = frame.copy()`\n",
            "  muestras['Muestra_' + str(i)]=_ # Con ello salvo cada una de las columnas del df\n",
            "/tmp/ipython-input-470-1324038430.py:7: PerformanceWarning: DataFrame is highly fragmented.  This is usually the result of calling `frame.insert` many times, which has poor performance.  Consider joining all columns at once using pd.concat(axis=1) instead. To get a de-fragmented frame, use `newframe = frame.copy()`\n",
            "  muestras['Muestra_' + str(i)]=_ # Con ello salvo cada una de las columnas del df\n",
            "/tmp/ipython-input-470-1324038430.py:7: PerformanceWarning: DataFrame is highly fragmented.  This is usually the result of calling `frame.insert` many times, which has poor performance.  Consider joining all columns at once using pd.concat(axis=1) instead. To get a de-fragmented frame, use `newframe = frame.copy()`\n",
            "  muestras['Muestra_' + str(i)]=_ # Con ello salvo cada una de las columnas del df\n",
            "/tmp/ipython-input-470-1324038430.py:7: PerformanceWarning: DataFrame is highly fragmented.  This is usually the result of calling `frame.insert` many times, which has poor performance.  Consider joining all columns at once using pd.concat(axis=1) instead. To get a de-fragmented frame, use `newframe = frame.copy()`\n",
            "  muestras['Muestra_' + str(i)]=_ # Con ello salvo cada una de las columnas del df\n",
            "/tmp/ipython-input-470-1324038430.py:7: PerformanceWarning: DataFrame is highly fragmented.  This is usually the result of calling `frame.insert` many times, which has poor performance.  Consider joining all columns at once using pd.concat(axis=1) instead. To get a de-fragmented frame, use `newframe = frame.copy()`\n",
            "  muestras['Muestra_' + str(i)]=_ # Con ello salvo cada una de las columnas del df\n",
            "/tmp/ipython-input-470-1324038430.py:7: PerformanceWarning: DataFrame is highly fragmented.  This is usually the result of calling `frame.insert` many times, which has poor performance.  Consider joining all columns at once using pd.concat(axis=1) instead. To get a de-fragmented frame, use `newframe = frame.copy()`\n",
            "  muestras['Muestra_' + str(i)]=_ # Con ello salvo cada una de las columnas del df\n",
            "/tmp/ipython-input-470-1324038430.py:7: PerformanceWarning: DataFrame is highly fragmented.  This is usually the result of calling `frame.insert` many times, which has poor performance.  Consider joining all columns at once using pd.concat(axis=1) instead. To get a de-fragmented frame, use `newframe = frame.copy()`\n",
            "  muestras['Muestra_' + str(i)]=_ # Con ello salvo cada una de las columnas del df\n",
            "/tmp/ipython-input-470-1324038430.py:7: PerformanceWarning: DataFrame is highly fragmented.  This is usually the result of calling `frame.insert` many times, which has poor performance.  Consider joining all columns at once using pd.concat(axis=1) instead. To get a de-fragmented frame, use `newframe = frame.copy()`\n",
            "  muestras['Muestra_' + str(i)]=_ # Con ello salvo cada una de las columnas del df\n",
            "/tmp/ipython-input-470-1324038430.py:7: PerformanceWarning: DataFrame is highly fragmented.  This is usually the result of calling `frame.insert` many times, which has poor performance.  Consider joining all columns at once using pd.concat(axis=1) instead. To get a de-fragmented frame, use `newframe = frame.copy()`\n",
            "  muestras['Muestra_' + str(i)]=_ # Con ello salvo cada una de las columnas del df\n",
            "/tmp/ipython-input-470-1324038430.py:7: PerformanceWarning: DataFrame is highly fragmented.  This is usually the result of calling `frame.insert` many times, which has poor performance.  Consider joining all columns at once using pd.concat(axis=1) instead. To get a de-fragmented frame, use `newframe = frame.copy()`\n",
            "  muestras['Muestra_' + str(i)]=_ # Con ello salvo cada una de las columnas del df\n",
            "/tmp/ipython-input-470-1324038430.py:7: PerformanceWarning: DataFrame is highly fragmented.  This is usually the result of calling `frame.insert` many times, which has poor performance.  Consider joining all columns at once using pd.concat(axis=1) instead. To get a de-fragmented frame, use `newframe = frame.copy()`\n",
            "  muestras['Muestra_' + str(i)]=_ # Con ello salvo cada una de las columnas del df\n",
            "/tmp/ipython-input-470-1324038430.py:7: PerformanceWarning: DataFrame is highly fragmented.  This is usually the result of calling `frame.insert` many times, which has poor performance.  Consider joining all columns at once using pd.concat(axis=1) instead. To get a de-fragmented frame, use `newframe = frame.copy()`\n",
            "  muestras['Muestra_' + str(i)]=_ # Con ello salvo cada una de las columnas del df\n",
            "/tmp/ipython-input-470-1324038430.py:7: PerformanceWarning: DataFrame is highly fragmented.  This is usually the result of calling `frame.insert` many times, which has poor performance.  Consider joining all columns at once using pd.concat(axis=1) instead. To get a de-fragmented frame, use `newframe = frame.copy()`\n",
            "  muestras['Muestra_' + str(i)]=_ # Con ello salvo cada una de las columnas del df\n",
            "/tmp/ipython-input-470-1324038430.py:7: PerformanceWarning: DataFrame is highly fragmented.  This is usually the result of calling `frame.insert` many times, which has poor performance.  Consider joining all columns at once using pd.concat(axis=1) instead. To get a de-fragmented frame, use `newframe = frame.copy()`\n",
            "  muestras['Muestra_' + str(i)]=_ # Con ello salvo cada una de las columnas del df\n",
            "/tmp/ipython-input-470-1324038430.py:7: PerformanceWarning: DataFrame is highly fragmented.  This is usually the result of calling `frame.insert` many times, which has poor performance.  Consider joining all columns at once using pd.concat(axis=1) instead. To get a de-fragmented frame, use `newframe = frame.copy()`\n",
            "  muestras['Muestra_' + str(i)]=_ # Con ello salvo cada una de las columnas del df\n",
            "/tmp/ipython-input-470-1324038430.py:7: PerformanceWarning: DataFrame is highly fragmented.  This is usually the result of calling `frame.insert` many times, which has poor performance.  Consider joining all columns at once using pd.concat(axis=1) instead. To get a de-fragmented frame, use `newframe = frame.copy()`\n",
            "  muestras['Muestra_' + str(i)]=_ # Con ello salvo cada una de las columnas del df\n",
            "/tmp/ipython-input-470-1324038430.py:7: PerformanceWarning: DataFrame is highly fragmented.  This is usually the result of calling `frame.insert` many times, which has poor performance.  Consider joining all columns at once using pd.concat(axis=1) instead. To get a de-fragmented frame, use `newframe = frame.copy()`\n",
            "  muestras['Muestra_' + str(i)]=_ # Con ello salvo cada una de las columnas del df\n",
            "/tmp/ipython-input-470-1324038430.py:7: PerformanceWarning: DataFrame is highly fragmented.  This is usually the result of calling `frame.insert` many times, which has poor performance.  Consider joining all columns at once using pd.concat(axis=1) instead. To get a de-fragmented frame, use `newframe = frame.copy()`\n",
            "  muestras['Muestra_' + str(i)]=_ # Con ello salvo cada una de las columnas del df\n",
            "/tmp/ipython-input-470-1324038430.py:7: PerformanceWarning: DataFrame is highly fragmented.  This is usually the result of calling `frame.insert` many times, which has poor performance.  Consider joining all columns at once using pd.concat(axis=1) instead. To get a de-fragmented frame, use `newframe = frame.copy()`\n",
            "  muestras['Muestra_' + str(i)]=_ # Con ello salvo cada una de las columnas del df\n",
            "/tmp/ipython-input-470-1324038430.py:7: PerformanceWarning: DataFrame is highly fragmented.  This is usually the result of calling `frame.insert` many times, which has poor performance.  Consider joining all columns at once using pd.concat(axis=1) instead. To get a de-fragmented frame, use `newframe = frame.copy()`\n",
            "  muestras['Muestra_' + str(i)]=_ # Con ello salvo cada una de las columnas del df\n",
            "/tmp/ipython-input-470-1324038430.py:7: PerformanceWarning: DataFrame is highly fragmented.  This is usually the result of calling `frame.insert` many times, which has poor performance.  Consider joining all columns at once using pd.concat(axis=1) instead. To get a de-fragmented frame, use `newframe = frame.copy()`\n",
            "  muestras['Muestra_' + str(i)]=_ # Con ello salvo cada una de las columnas del df\n",
            "/tmp/ipython-input-470-1324038430.py:7: PerformanceWarning: DataFrame is highly fragmented.  This is usually the result of calling `frame.insert` many times, which has poor performance.  Consider joining all columns at once using pd.concat(axis=1) instead. To get a de-fragmented frame, use `newframe = frame.copy()`\n",
            "  muestras['Muestra_' + str(i)]=_ # Con ello salvo cada una de las columnas del df\n",
            "/tmp/ipython-input-470-1324038430.py:7: PerformanceWarning: DataFrame is highly fragmented.  This is usually the result of calling `frame.insert` many times, which has poor performance.  Consider joining all columns at once using pd.concat(axis=1) instead. To get a de-fragmented frame, use `newframe = frame.copy()`\n",
            "  muestras['Muestra_' + str(i)]=_ # Con ello salvo cada una de las columnas del df\n",
            "/tmp/ipython-input-470-1324038430.py:7: PerformanceWarning: DataFrame is highly fragmented.  This is usually the result of calling `frame.insert` many times, which has poor performance.  Consider joining all columns at once using pd.concat(axis=1) instead. To get a de-fragmented frame, use `newframe = frame.copy()`\n",
            "  muestras['Muestra_' + str(i)]=_ # Con ello salvo cada una de las columnas del df\n",
            "/tmp/ipython-input-470-1324038430.py:7: PerformanceWarning: DataFrame is highly fragmented.  This is usually the result of calling `frame.insert` many times, which has poor performance.  Consider joining all columns at once using pd.concat(axis=1) instead. To get a de-fragmented frame, use `newframe = frame.copy()`\n",
            "  muestras['Muestra_' + str(i)]=_ # Con ello salvo cada una de las columnas del df\n",
            "/tmp/ipython-input-470-1324038430.py:7: PerformanceWarning: DataFrame is highly fragmented.  This is usually the result of calling `frame.insert` many times, which has poor performance.  Consider joining all columns at once using pd.concat(axis=1) instead. To get a de-fragmented frame, use `newframe = frame.copy()`\n",
            "  muestras['Muestra_' + str(i)]=_ # Con ello salvo cada una de las columnas del df\n",
            "/tmp/ipython-input-470-1324038430.py:7: PerformanceWarning: DataFrame is highly fragmented.  This is usually the result of calling `frame.insert` many times, which has poor performance.  Consider joining all columns at once using pd.concat(axis=1) instead. To get a de-fragmented frame, use `newframe = frame.copy()`\n",
            "  muestras['Muestra_' + str(i)]=_ # Con ello salvo cada una de las columnas del df\n",
            "/tmp/ipython-input-470-1324038430.py:7: PerformanceWarning: DataFrame is highly fragmented.  This is usually the result of calling `frame.insert` many times, which has poor performance.  Consider joining all columns at once using pd.concat(axis=1) instead. To get a de-fragmented frame, use `newframe = frame.copy()`\n",
            "  muestras['Muestra_' + str(i)]=_ # Con ello salvo cada una de las columnas del df\n",
            "/tmp/ipython-input-470-1324038430.py:7: PerformanceWarning: DataFrame is highly fragmented.  This is usually the result of calling `frame.insert` many times, which has poor performance.  Consider joining all columns at once using pd.concat(axis=1) instead. To get a de-fragmented frame, use `newframe = frame.copy()`\n",
            "  muestras['Muestra_' + str(i)]=_ # Con ello salvo cada una de las columnas del df\n",
            "/tmp/ipython-input-470-1324038430.py:7: PerformanceWarning: DataFrame is highly fragmented.  This is usually the result of calling `frame.insert` many times, which has poor performance.  Consider joining all columns at once using pd.concat(axis=1) instead. To get a de-fragmented frame, use `newframe = frame.copy()`\n",
            "  muestras['Muestra_' + str(i)]=_ # Con ello salvo cada una de las columnas del df\n",
            "/tmp/ipython-input-470-1324038430.py:7: PerformanceWarning: DataFrame is highly fragmented.  This is usually the result of calling `frame.insert` many times, which has poor performance.  Consider joining all columns at once using pd.concat(axis=1) instead. To get a de-fragmented frame, use `newframe = frame.copy()`\n",
            "  muestras['Muestra_' + str(i)]=_ # Con ello salvo cada una de las columnas del df\n",
            "/tmp/ipython-input-470-1324038430.py:7: PerformanceWarning: DataFrame is highly fragmented.  This is usually the result of calling `frame.insert` many times, which has poor performance.  Consider joining all columns at once using pd.concat(axis=1) instead. To get a de-fragmented frame, use `newframe = frame.copy()`\n",
            "  muestras['Muestra_' + str(i)]=_ # Con ello salvo cada una de las columnas del df\n",
            "/tmp/ipython-input-470-1324038430.py:7: PerformanceWarning: DataFrame is highly fragmented.  This is usually the result of calling `frame.insert` many times, which has poor performance.  Consider joining all columns at once using pd.concat(axis=1) instead. To get a de-fragmented frame, use `newframe = frame.copy()`\n",
            "  muestras['Muestra_' + str(i)]=_ # Con ello salvo cada una de las columnas del df\n",
            "/tmp/ipython-input-470-1324038430.py:7: PerformanceWarning: DataFrame is highly fragmented.  This is usually the result of calling `frame.insert` many times, which has poor performance.  Consider joining all columns at once using pd.concat(axis=1) instead. To get a de-fragmented frame, use `newframe = frame.copy()`\n",
            "  muestras['Muestra_' + str(i)]=_ # Con ello salvo cada una de las columnas del df\n",
            "/tmp/ipython-input-470-1324038430.py:7: PerformanceWarning: DataFrame is highly fragmented.  This is usually the result of calling `frame.insert` many times, which has poor performance.  Consider joining all columns at once using pd.concat(axis=1) instead. To get a de-fragmented frame, use `newframe = frame.copy()`\n",
            "  muestras['Muestra_' + str(i)]=_ # Con ello salvo cada una de las columnas del df\n",
            "/tmp/ipython-input-470-1324038430.py:7: PerformanceWarning: DataFrame is highly fragmented.  This is usually the result of calling `frame.insert` many times, which has poor performance.  Consider joining all columns at once using pd.concat(axis=1) instead. To get a de-fragmented frame, use `newframe = frame.copy()`\n",
            "  muestras['Muestra_' + str(i)]=_ # Con ello salvo cada una de las columnas del df\n",
            "/tmp/ipython-input-470-1324038430.py:7: PerformanceWarning: DataFrame is highly fragmented.  This is usually the result of calling `frame.insert` many times, which has poor performance.  Consider joining all columns at once using pd.concat(axis=1) instead. To get a de-fragmented frame, use `newframe = frame.copy()`\n",
            "  muestras['Muestra_' + str(i)]=_ # Con ello salvo cada una de las columnas del df\n",
            "/tmp/ipython-input-470-1324038430.py:7: PerformanceWarning: DataFrame is highly fragmented.  This is usually the result of calling `frame.insert` many times, which has poor performance.  Consider joining all columns at once using pd.concat(axis=1) instead. To get a de-fragmented frame, use `newframe = frame.copy()`\n",
            "  muestras['Muestra_' + str(i)]=_ # Con ello salvo cada una de las columnas del df\n",
            "/tmp/ipython-input-470-1324038430.py:7: PerformanceWarning: DataFrame is highly fragmented.  This is usually the result of calling `frame.insert` many times, which has poor performance.  Consider joining all columns at once using pd.concat(axis=1) instead. To get a de-fragmented frame, use `newframe = frame.copy()`\n",
            "  muestras['Muestra_' + str(i)]=_ # Con ello salvo cada una de las columnas del df\n",
            "/tmp/ipython-input-470-1324038430.py:7: PerformanceWarning: DataFrame is highly fragmented.  This is usually the result of calling `frame.insert` many times, which has poor performance.  Consider joining all columns at once using pd.concat(axis=1) instead. To get a de-fragmented frame, use `newframe = frame.copy()`\n",
            "  muestras['Muestra_' + str(i)]=_ # Con ello salvo cada una de las columnas del df\n",
            "/tmp/ipython-input-470-1324038430.py:7: PerformanceWarning: DataFrame is highly fragmented.  This is usually the result of calling `frame.insert` many times, which has poor performance.  Consider joining all columns at once using pd.concat(axis=1) instead. To get a de-fragmented frame, use `newframe = frame.copy()`\n",
            "  muestras['Muestra_' + str(i)]=_ # Con ello salvo cada una de las columnas del df\n",
            "/tmp/ipython-input-470-1324038430.py:7: PerformanceWarning: DataFrame is highly fragmented.  This is usually the result of calling `frame.insert` many times, which has poor performance.  Consider joining all columns at once using pd.concat(axis=1) instead. To get a de-fragmented frame, use `newframe = frame.copy()`\n",
            "  muestras['Muestra_' + str(i)]=_ # Con ello salvo cada una de las columnas del df\n",
            "/tmp/ipython-input-470-1324038430.py:7: PerformanceWarning: DataFrame is highly fragmented.  This is usually the result of calling `frame.insert` many times, which has poor performance.  Consider joining all columns at once using pd.concat(axis=1) instead. To get a de-fragmented frame, use `newframe = frame.copy()`\n",
            "  muestras['Muestra_' + str(i)]=_ # Con ello salvo cada una de las columnas del df\n",
            "/tmp/ipython-input-470-1324038430.py:7: PerformanceWarning: DataFrame is highly fragmented.  This is usually the result of calling `frame.insert` many times, which has poor performance.  Consider joining all columns at once using pd.concat(axis=1) instead. To get a de-fragmented frame, use `newframe = frame.copy()`\n",
            "  muestras['Muestra_' + str(i)]=_ # Con ello salvo cada una de las columnas del df\n",
            "/tmp/ipython-input-470-1324038430.py:7: PerformanceWarning: DataFrame is highly fragmented.  This is usually the result of calling `frame.insert` many times, which has poor performance.  Consider joining all columns at once using pd.concat(axis=1) instead. To get a de-fragmented frame, use `newframe = frame.copy()`\n",
            "  muestras['Muestra_' + str(i)]=_ # Con ello salvo cada una de las columnas del df\n",
            "/tmp/ipython-input-470-1324038430.py:7: PerformanceWarning: DataFrame is highly fragmented.  This is usually the result of calling `frame.insert` many times, which has poor performance.  Consider joining all columns at once using pd.concat(axis=1) instead. To get a de-fragmented frame, use `newframe = frame.copy()`\n",
            "  muestras['Muestra_' + str(i)]=_ # Con ello salvo cada una de las columnas del df\n",
            "/tmp/ipython-input-470-1324038430.py:7: PerformanceWarning: DataFrame is highly fragmented.  This is usually the result of calling `frame.insert` many times, which has poor performance.  Consider joining all columns at once using pd.concat(axis=1) instead. To get a de-fragmented frame, use `newframe = frame.copy()`\n",
            "  muestras['Muestra_' + str(i)]=_ # Con ello salvo cada una de las columnas del df\n",
            "/tmp/ipython-input-470-1324038430.py:7: PerformanceWarning: DataFrame is highly fragmented.  This is usually the result of calling `frame.insert` many times, which has poor performance.  Consider joining all columns at once using pd.concat(axis=1) instead. To get a de-fragmented frame, use `newframe = frame.copy()`\n",
            "  muestras['Muestra_' + str(i)]=_ # Con ello salvo cada una de las columnas del df\n",
            "/tmp/ipython-input-470-1324038430.py:7: PerformanceWarning: DataFrame is highly fragmented.  This is usually the result of calling `frame.insert` many times, which has poor performance.  Consider joining all columns at once using pd.concat(axis=1) instead. To get a de-fragmented frame, use `newframe = frame.copy()`\n",
            "  muestras['Muestra_' + str(i)]=_ # Con ello salvo cada una de las columnas del df\n",
            "/tmp/ipython-input-470-1324038430.py:7: PerformanceWarning: DataFrame is highly fragmented.  This is usually the result of calling `frame.insert` many times, which has poor performance.  Consider joining all columns at once using pd.concat(axis=1) instead. To get a de-fragmented frame, use `newframe = frame.copy()`\n",
            "  muestras['Muestra_' + str(i)]=_ # Con ello salvo cada una de las columnas del df\n",
            "/tmp/ipython-input-470-1324038430.py:7: PerformanceWarning: DataFrame is highly fragmented.  This is usually the result of calling `frame.insert` many times, which has poor performance.  Consider joining all columns at once using pd.concat(axis=1) instead. To get a de-fragmented frame, use `newframe = frame.copy()`\n",
            "  muestras['Muestra_' + str(i)]=_ # Con ello salvo cada una de las columnas del df\n",
            "/tmp/ipython-input-470-1324038430.py:7: PerformanceWarning: DataFrame is highly fragmented.  This is usually the result of calling `frame.insert` many times, which has poor performance.  Consider joining all columns at once using pd.concat(axis=1) instead. To get a de-fragmented frame, use `newframe = frame.copy()`\n",
            "  muestras['Muestra_' + str(i)]=_ # Con ello salvo cada una de las columnas del df\n",
            "/tmp/ipython-input-470-1324038430.py:7: PerformanceWarning: DataFrame is highly fragmented.  This is usually the result of calling `frame.insert` many times, which has poor performance.  Consider joining all columns at once using pd.concat(axis=1) instead. To get a de-fragmented frame, use `newframe = frame.copy()`\n",
            "  muestras['Muestra_' + str(i)]=_ # Con ello salvo cada una de las columnas del df\n",
            "/tmp/ipython-input-470-1324038430.py:7: PerformanceWarning: DataFrame is highly fragmented.  This is usually the result of calling `frame.insert` many times, which has poor performance.  Consider joining all columns at once using pd.concat(axis=1) instead. To get a de-fragmented frame, use `newframe = frame.copy()`\n",
            "  muestras['Muestra_' + str(i)]=_ # Con ello salvo cada una de las columnas del df\n",
            "/tmp/ipython-input-470-1324038430.py:7: PerformanceWarning: DataFrame is highly fragmented.  This is usually the result of calling `frame.insert` many times, which has poor performance.  Consider joining all columns at once using pd.concat(axis=1) instead. To get a de-fragmented frame, use `newframe = frame.copy()`\n",
            "  muestras['Muestra_' + str(i)]=_ # Con ello salvo cada una de las columnas del df\n",
            "/tmp/ipython-input-470-1324038430.py:7: PerformanceWarning: DataFrame is highly fragmented.  This is usually the result of calling `frame.insert` many times, which has poor performance.  Consider joining all columns at once using pd.concat(axis=1) instead. To get a de-fragmented frame, use `newframe = frame.copy()`\n",
            "  muestras['Muestra_' + str(i)]=_ # Con ello salvo cada una de las columnas del df\n",
            "/tmp/ipython-input-470-1324038430.py:7: PerformanceWarning: DataFrame is highly fragmented.  This is usually the result of calling `frame.insert` many times, which has poor performance.  Consider joining all columns at once using pd.concat(axis=1) instead. To get a de-fragmented frame, use `newframe = frame.copy()`\n",
            "  muestras['Muestra_' + str(i)]=_ # Con ello salvo cada una de las columnas del df\n",
            "/tmp/ipython-input-470-1324038430.py:7: PerformanceWarning: DataFrame is highly fragmented.  This is usually the result of calling `frame.insert` many times, which has poor performance.  Consider joining all columns at once using pd.concat(axis=1) instead. To get a de-fragmented frame, use `newframe = frame.copy()`\n",
            "  muestras['Muestra_' + str(i)]=_ # Con ello salvo cada una de las columnas del df\n",
            "/tmp/ipython-input-470-1324038430.py:7: PerformanceWarning: DataFrame is highly fragmented.  This is usually the result of calling `frame.insert` many times, which has poor performance.  Consider joining all columns at once using pd.concat(axis=1) instead. To get a de-fragmented frame, use `newframe = frame.copy()`\n",
            "  muestras['Muestra_' + str(i)]=_ # Con ello salvo cada una de las columnas del df\n",
            "/tmp/ipython-input-470-1324038430.py:7: PerformanceWarning: DataFrame is highly fragmented.  This is usually the result of calling `frame.insert` many times, which has poor performance.  Consider joining all columns at once using pd.concat(axis=1) instead. To get a de-fragmented frame, use `newframe = frame.copy()`\n",
            "  muestras['Muestra_' + str(i)]=_ # Con ello salvo cada una de las columnas del df\n",
            "/tmp/ipython-input-470-1324038430.py:7: PerformanceWarning: DataFrame is highly fragmented.  This is usually the result of calling `frame.insert` many times, which has poor performance.  Consider joining all columns at once using pd.concat(axis=1) instead. To get a de-fragmented frame, use `newframe = frame.copy()`\n",
            "  muestras['Muestra_' + str(i)]=_ # Con ello salvo cada una de las columnas del df\n",
            "/tmp/ipython-input-470-1324038430.py:7: PerformanceWarning: DataFrame is highly fragmented.  This is usually the result of calling `frame.insert` many times, which has poor performance.  Consider joining all columns at once using pd.concat(axis=1) instead. To get a de-fragmented frame, use `newframe = frame.copy()`\n",
            "  muestras['Muestra_' + str(i)]=_ # Con ello salvo cada una de las columnas del df\n",
            "/tmp/ipython-input-470-1324038430.py:7: PerformanceWarning: DataFrame is highly fragmented.  This is usually the result of calling `frame.insert` many times, which has poor performance.  Consider joining all columns at once using pd.concat(axis=1) instead. To get a de-fragmented frame, use `newframe = frame.copy()`\n",
            "  muestras['Muestra_' + str(i)]=_ # Con ello salvo cada una de las columnas del df\n",
            "/tmp/ipython-input-470-1324038430.py:7: PerformanceWarning: DataFrame is highly fragmented.  This is usually the result of calling `frame.insert` many times, which has poor performance.  Consider joining all columns at once using pd.concat(axis=1) instead. To get a de-fragmented frame, use `newframe = frame.copy()`\n",
            "  muestras['Muestra_' + str(i)]=_ # Con ello salvo cada una de las columnas del df\n",
            "/tmp/ipython-input-470-1324038430.py:7: PerformanceWarning: DataFrame is highly fragmented.  This is usually the result of calling `frame.insert` many times, which has poor performance.  Consider joining all columns at once using pd.concat(axis=1) instead. To get a de-fragmented frame, use `newframe = frame.copy()`\n",
            "  muestras['Muestra_' + str(i)]=_ # Con ello salvo cada una de las columnas del df\n",
            "/tmp/ipython-input-470-1324038430.py:7: PerformanceWarning: DataFrame is highly fragmented.  This is usually the result of calling `frame.insert` many times, which has poor performance.  Consider joining all columns at once using pd.concat(axis=1) instead. To get a de-fragmented frame, use `newframe = frame.copy()`\n",
            "  muestras['Muestra_' + str(i)]=_ # Con ello salvo cada una de las columnas del df\n",
            "/tmp/ipython-input-470-1324038430.py:7: PerformanceWarning: DataFrame is highly fragmented.  This is usually the result of calling `frame.insert` many times, which has poor performance.  Consider joining all columns at once using pd.concat(axis=1) instead. To get a de-fragmented frame, use `newframe = frame.copy()`\n",
            "  muestras['Muestra_' + str(i)]=_ # Con ello salvo cada una de las columnas del df\n",
            "/tmp/ipython-input-470-1324038430.py:7: PerformanceWarning: DataFrame is highly fragmented.  This is usually the result of calling `frame.insert` many times, which has poor performance.  Consider joining all columns at once using pd.concat(axis=1) instead. To get a de-fragmented frame, use `newframe = frame.copy()`\n",
            "  muestras['Muestra_' + str(i)]=_ # Con ello salvo cada una de las columnas del df\n",
            "/tmp/ipython-input-470-1324038430.py:7: PerformanceWarning: DataFrame is highly fragmented.  This is usually the result of calling `frame.insert` many times, which has poor performance.  Consider joining all columns at once using pd.concat(axis=1) instead. To get a de-fragmented frame, use `newframe = frame.copy()`\n",
            "  muestras['Muestra_' + str(i)]=_ # Con ello salvo cada una de las columnas del df\n",
            "/tmp/ipython-input-470-1324038430.py:7: PerformanceWarning: DataFrame is highly fragmented.  This is usually the result of calling `frame.insert` many times, which has poor performance.  Consider joining all columns at once using pd.concat(axis=1) instead. To get a de-fragmented frame, use `newframe = frame.copy()`\n",
            "  muestras['Muestra_' + str(i)]=_ # Con ello salvo cada una de las columnas del df\n",
            "/tmp/ipython-input-470-1324038430.py:7: PerformanceWarning: DataFrame is highly fragmented.  This is usually the result of calling `frame.insert` many times, which has poor performance.  Consider joining all columns at once using pd.concat(axis=1) instead. To get a de-fragmented frame, use `newframe = frame.copy()`\n",
            "  muestras['Muestra_' + str(i)]=_ # Con ello salvo cada una de las columnas del df\n",
            "/tmp/ipython-input-470-1324038430.py:7: PerformanceWarning: DataFrame is highly fragmented.  This is usually the result of calling `frame.insert` many times, which has poor performance.  Consider joining all columns at once using pd.concat(axis=1) instead. To get a de-fragmented frame, use `newframe = frame.copy()`\n",
            "  muestras['Muestra_' + str(i)]=_ # Con ello salvo cada una de las columnas del df\n",
            "/tmp/ipython-input-470-1324038430.py:7: PerformanceWarning: DataFrame is highly fragmented.  This is usually the result of calling `frame.insert` many times, which has poor performance.  Consider joining all columns at once using pd.concat(axis=1) instead. To get a de-fragmented frame, use `newframe = frame.copy()`\n",
            "  muestras['Muestra_' + str(i)]=_ # Con ello salvo cada una de las columnas del df\n",
            "/tmp/ipython-input-470-1324038430.py:7: PerformanceWarning: DataFrame is highly fragmented.  This is usually the result of calling `frame.insert` many times, which has poor performance.  Consider joining all columns at once using pd.concat(axis=1) instead. To get a de-fragmented frame, use `newframe = frame.copy()`\n",
            "  muestras['Muestra_' + str(i)]=_ # Con ello salvo cada una de las columnas del df\n",
            "/tmp/ipython-input-470-1324038430.py:7: PerformanceWarning: DataFrame is highly fragmented.  This is usually the result of calling `frame.insert` many times, which has poor performance.  Consider joining all columns at once using pd.concat(axis=1) instead. To get a de-fragmented frame, use `newframe = frame.copy()`\n",
            "  muestras['Muestra_' + str(i)]=_ # Con ello salvo cada una de las columnas del df\n",
            "/tmp/ipython-input-470-1324038430.py:7: PerformanceWarning: DataFrame is highly fragmented.  This is usually the result of calling `frame.insert` many times, which has poor performance.  Consider joining all columns at once using pd.concat(axis=1) instead. To get a de-fragmented frame, use `newframe = frame.copy()`\n",
            "  muestras['Muestra_' + str(i)]=_ # Con ello salvo cada una de las columnas del df\n",
            "/tmp/ipython-input-470-1324038430.py:7: PerformanceWarning: DataFrame is highly fragmented.  This is usually the result of calling `frame.insert` many times, which has poor performance.  Consider joining all columns at once using pd.concat(axis=1) instead. To get a de-fragmented frame, use `newframe = frame.copy()`\n",
            "  muestras['Muestra_' + str(i)]=_ # Con ello salvo cada una de las columnas del df\n"
          ]
        },
        {
          "output_type": "execute_result",
          "data": {
            "text/plain": [
              "      Muestra_0  Muestra_1  Muestra_2  Muestra_3  Muestra_4  Muestra_5  \\\n",
              "0            40         37         49         65         62         52   \n",
              "1            33         62         37         44         49         54   \n",
              "2            28         53         55         37         18         43   \n",
              "3            63         55         29         62         43         18   \n",
              "4            44         36         57         31         39         49   \n",
              "...         ...        ...        ...        ...        ...        ...   \n",
              "1995         28         27         33         48         29         48   \n",
              "1996         27         49         29         28         55         53   \n",
              "1997         64         33         48         45         54         30   \n",
              "1998         31         59         26         25         64         43   \n",
              "1999         54         35         49         38         81         61   \n",
              "\n",
              "      Muestra_6  Muestra_7  Muestra_8  Muestra_9  ...  Muestra_1490  \\\n",
              "0            30         32         54         43  ...            50   \n",
              "1            64         20         55         43  ...            54   \n",
              "2            26         40         52         67  ...            63   \n",
              "3            65         34         38         49  ...            40   \n",
              "4            52         39         57         56  ...            58   \n",
              "...         ...        ...        ...        ...  ...           ...   \n",
              "1995         46         53         36         44  ...            39   \n",
              "1996         64         28         19         38  ...            48   \n",
              "1997         50         32         62         52  ...            27   \n",
              "1998         63         47         36         60  ...            36   \n",
              "1999         45         49         53         31  ...            33   \n",
              "\n",
              "      Muestra_1491  Muestra_1492  Muestra_1493  Muestra_1494  Muestra_1495  \\\n",
              "0               47            46            27            42            62   \n",
              "1               29            47            61            51            29   \n",
              "2               35            34            37            47            52   \n",
              "3               35            29            42            79            62   \n",
              "4               75            53            36            51            27   \n",
              "...            ...           ...           ...           ...           ...   \n",
              "1995            52            45            44            36            62   \n",
              "1996            34            26            48            41            54   \n",
              "1997            54            48            39            63            66   \n",
              "1998            32            64            35            29            56   \n",
              "1999            52            49            42            27            29   \n",
              "\n",
              "      Muestra_1496  Muestra_1497  Muestra_1498  Muestra_1499  \n",
              "0               41            29            75            34  \n",
              "1               31            26            57            54  \n",
              "2               40            36            42            46  \n",
              "3               44            72            51            58  \n",
              "4               72            46            56            32  \n",
              "...            ...           ...           ...           ...  \n",
              "1995            42            24            42            45  \n",
              "1996            43            66            49            37  \n",
              "1997            33            33            56            26  \n",
              "1998            59            20            45            33  \n",
              "1999            28            40            57            79  \n",
              "\n",
              "[2000 rows x 1500 columns]"
            ],
            "text/html": [
              "\n",
              "  <div id=\"df-00391616-ef9e-471b-8f99-550b629de00a\" class=\"colab-df-container\">\n",
              "    <div>\n",
              "<style scoped>\n",
              "    .dataframe tbody tr th:only-of-type {\n",
              "        vertical-align: middle;\n",
              "    }\n",
              "\n",
              "    .dataframe tbody tr th {\n",
              "        vertical-align: top;\n",
              "    }\n",
              "\n",
              "    .dataframe thead th {\n",
              "        text-align: right;\n",
              "    }\n",
              "</style>\n",
              "<table border=\"1\" class=\"dataframe\">\n",
              "  <thead>\n",
              "    <tr style=\"text-align: right;\">\n",
              "      <th></th>\n",
              "      <th>Muestra_0</th>\n",
              "      <th>Muestra_1</th>\n",
              "      <th>Muestra_2</th>\n",
              "      <th>Muestra_3</th>\n",
              "      <th>Muestra_4</th>\n",
              "      <th>Muestra_5</th>\n",
              "      <th>Muestra_6</th>\n",
              "      <th>Muestra_7</th>\n",
              "      <th>Muestra_8</th>\n",
              "      <th>Muestra_9</th>\n",
              "      <th>...</th>\n",
              "      <th>Muestra_1490</th>\n",
              "      <th>Muestra_1491</th>\n",
              "      <th>Muestra_1492</th>\n",
              "      <th>Muestra_1493</th>\n",
              "      <th>Muestra_1494</th>\n",
              "      <th>Muestra_1495</th>\n",
              "      <th>Muestra_1496</th>\n",
              "      <th>Muestra_1497</th>\n",
              "      <th>Muestra_1498</th>\n",
              "      <th>Muestra_1499</th>\n",
              "    </tr>\n",
              "  </thead>\n",
              "  <tbody>\n",
              "    <tr>\n",
              "      <th>0</th>\n",
              "      <td>40</td>\n",
              "      <td>37</td>\n",
              "      <td>49</td>\n",
              "      <td>65</td>\n",
              "      <td>62</td>\n",
              "      <td>52</td>\n",
              "      <td>30</td>\n",
              "      <td>32</td>\n",
              "      <td>54</td>\n",
              "      <td>43</td>\n",
              "      <td>...</td>\n",
              "      <td>50</td>\n",
              "      <td>47</td>\n",
              "      <td>46</td>\n",
              "      <td>27</td>\n",
              "      <td>42</td>\n",
              "      <td>62</td>\n",
              "      <td>41</td>\n",
              "      <td>29</td>\n",
              "      <td>75</td>\n",
              "      <td>34</td>\n",
              "    </tr>\n",
              "    <tr>\n",
              "      <th>1</th>\n",
              "      <td>33</td>\n",
              "      <td>62</td>\n",
              "      <td>37</td>\n",
              "      <td>44</td>\n",
              "      <td>49</td>\n",
              "      <td>54</td>\n",
              "      <td>64</td>\n",
              "      <td>20</td>\n",
              "      <td>55</td>\n",
              "      <td>43</td>\n",
              "      <td>...</td>\n",
              "      <td>54</td>\n",
              "      <td>29</td>\n",
              "      <td>47</td>\n",
              "      <td>61</td>\n",
              "      <td>51</td>\n",
              "      <td>29</td>\n",
              "      <td>31</td>\n",
              "      <td>26</td>\n",
              "      <td>57</td>\n",
              "      <td>54</td>\n",
              "    </tr>\n",
              "    <tr>\n",
              "      <th>2</th>\n",
              "      <td>28</td>\n",
              "      <td>53</td>\n",
              "      <td>55</td>\n",
              "      <td>37</td>\n",
              "      <td>18</td>\n",
              "      <td>43</td>\n",
              "      <td>26</td>\n",
              "      <td>40</td>\n",
              "      <td>52</td>\n",
              "      <td>67</td>\n",
              "      <td>...</td>\n",
              "      <td>63</td>\n",
              "      <td>35</td>\n",
              "      <td>34</td>\n",
              "      <td>37</td>\n",
              "      <td>47</td>\n",
              "      <td>52</td>\n",
              "      <td>40</td>\n",
              "      <td>36</td>\n",
              "      <td>42</td>\n",
              "      <td>46</td>\n",
              "    </tr>\n",
              "    <tr>\n",
              "      <th>3</th>\n",
              "      <td>63</td>\n",
              "      <td>55</td>\n",
              "      <td>29</td>\n",
              "      <td>62</td>\n",
              "      <td>43</td>\n",
              "      <td>18</td>\n",
              "      <td>65</td>\n",
              "      <td>34</td>\n",
              "      <td>38</td>\n",
              "      <td>49</td>\n",
              "      <td>...</td>\n",
              "      <td>40</td>\n",
              "      <td>35</td>\n",
              "      <td>29</td>\n",
              "      <td>42</td>\n",
              "      <td>79</td>\n",
              "      <td>62</td>\n",
              "      <td>44</td>\n",
              "      <td>72</td>\n",
              "      <td>51</td>\n",
              "      <td>58</td>\n",
              "    </tr>\n",
              "    <tr>\n",
              "      <th>4</th>\n",
              "      <td>44</td>\n",
              "      <td>36</td>\n",
              "      <td>57</td>\n",
              "      <td>31</td>\n",
              "      <td>39</td>\n",
              "      <td>49</td>\n",
              "      <td>52</td>\n",
              "      <td>39</td>\n",
              "      <td>57</td>\n",
              "      <td>56</td>\n",
              "      <td>...</td>\n",
              "      <td>58</td>\n",
              "      <td>75</td>\n",
              "      <td>53</td>\n",
              "      <td>36</td>\n",
              "      <td>51</td>\n",
              "      <td>27</td>\n",
              "      <td>72</td>\n",
              "      <td>46</td>\n",
              "      <td>56</td>\n",
              "      <td>32</td>\n",
              "    </tr>\n",
              "    <tr>\n",
              "      <th>...</th>\n",
              "      <td>...</td>\n",
              "      <td>...</td>\n",
              "      <td>...</td>\n",
              "      <td>...</td>\n",
              "      <td>...</td>\n",
              "      <td>...</td>\n",
              "      <td>...</td>\n",
              "      <td>...</td>\n",
              "      <td>...</td>\n",
              "      <td>...</td>\n",
              "      <td>...</td>\n",
              "      <td>...</td>\n",
              "      <td>...</td>\n",
              "      <td>...</td>\n",
              "      <td>...</td>\n",
              "      <td>...</td>\n",
              "      <td>...</td>\n",
              "      <td>...</td>\n",
              "      <td>...</td>\n",
              "      <td>...</td>\n",
              "      <td>...</td>\n",
              "    </tr>\n",
              "    <tr>\n",
              "      <th>1995</th>\n",
              "      <td>28</td>\n",
              "      <td>27</td>\n",
              "      <td>33</td>\n",
              "      <td>48</td>\n",
              "      <td>29</td>\n",
              "      <td>48</td>\n",
              "      <td>46</td>\n",
              "      <td>53</td>\n",
              "      <td>36</td>\n",
              "      <td>44</td>\n",
              "      <td>...</td>\n",
              "      <td>39</td>\n",
              "      <td>52</td>\n",
              "      <td>45</td>\n",
              "      <td>44</td>\n",
              "      <td>36</td>\n",
              "      <td>62</td>\n",
              "      <td>42</td>\n",
              "      <td>24</td>\n",
              "      <td>42</td>\n",
              "      <td>45</td>\n",
              "    </tr>\n",
              "    <tr>\n",
              "      <th>1996</th>\n",
              "      <td>27</td>\n",
              "      <td>49</td>\n",
              "      <td>29</td>\n",
              "      <td>28</td>\n",
              "      <td>55</td>\n",
              "      <td>53</td>\n",
              "      <td>64</td>\n",
              "      <td>28</td>\n",
              "      <td>19</td>\n",
              "      <td>38</td>\n",
              "      <td>...</td>\n",
              "      <td>48</td>\n",
              "      <td>34</td>\n",
              "      <td>26</td>\n",
              "      <td>48</td>\n",
              "      <td>41</td>\n",
              "      <td>54</td>\n",
              "      <td>43</td>\n",
              "      <td>66</td>\n",
              "      <td>49</td>\n",
              "      <td>37</td>\n",
              "    </tr>\n",
              "    <tr>\n",
              "      <th>1997</th>\n",
              "      <td>64</td>\n",
              "      <td>33</td>\n",
              "      <td>48</td>\n",
              "      <td>45</td>\n",
              "      <td>54</td>\n",
              "      <td>30</td>\n",
              "      <td>50</td>\n",
              "      <td>32</td>\n",
              "      <td>62</td>\n",
              "      <td>52</td>\n",
              "      <td>...</td>\n",
              "      <td>27</td>\n",
              "      <td>54</td>\n",
              "      <td>48</td>\n",
              "      <td>39</td>\n",
              "      <td>63</td>\n",
              "      <td>66</td>\n",
              "      <td>33</td>\n",
              "      <td>33</td>\n",
              "      <td>56</td>\n",
              "      <td>26</td>\n",
              "    </tr>\n",
              "    <tr>\n",
              "      <th>1998</th>\n",
              "      <td>31</td>\n",
              "      <td>59</td>\n",
              "      <td>26</td>\n",
              "      <td>25</td>\n",
              "      <td>64</td>\n",
              "      <td>43</td>\n",
              "      <td>63</td>\n",
              "      <td>47</td>\n",
              "      <td>36</td>\n",
              "      <td>60</td>\n",
              "      <td>...</td>\n",
              "      <td>36</td>\n",
              "      <td>32</td>\n",
              "      <td>64</td>\n",
              "      <td>35</td>\n",
              "      <td>29</td>\n",
              "      <td>56</td>\n",
              "      <td>59</td>\n",
              "      <td>20</td>\n",
              "      <td>45</td>\n",
              "      <td>33</td>\n",
              "    </tr>\n",
              "    <tr>\n",
              "      <th>1999</th>\n",
              "      <td>54</td>\n",
              "      <td>35</td>\n",
              "      <td>49</td>\n",
              "      <td>38</td>\n",
              "      <td>81</td>\n",
              "      <td>61</td>\n",
              "      <td>45</td>\n",
              "      <td>49</td>\n",
              "      <td>53</td>\n",
              "      <td>31</td>\n",
              "      <td>...</td>\n",
              "      <td>33</td>\n",
              "      <td>52</td>\n",
              "      <td>49</td>\n",
              "      <td>42</td>\n",
              "      <td>27</td>\n",
              "      <td>29</td>\n",
              "      <td>28</td>\n",
              "      <td>40</td>\n",
              "      <td>57</td>\n",
              "      <td>79</td>\n",
              "    </tr>\n",
              "  </tbody>\n",
              "</table>\n",
              "<p>2000 rows × 1500 columns</p>\n",
              "</div>\n",
              "    <div class=\"colab-df-buttons\">\n",
              "\n",
              "  <div class=\"colab-df-container\">\n",
              "    <button class=\"colab-df-convert\" onclick=\"convertToInteractive('df-00391616-ef9e-471b-8f99-550b629de00a')\"\n",
              "            title=\"Convert this dataframe to an interactive table.\"\n",
              "            style=\"display:none;\">\n",
              "\n",
              "  <svg xmlns=\"http://www.w3.org/2000/svg\" height=\"24px\" viewBox=\"0 -960 960 960\">\n",
              "    <path d=\"M120-120v-720h720v720H120Zm60-500h600v-160H180v160Zm220 220h160v-160H400v160Zm0 220h160v-160H400v160ZM180-400h160v-160H180v160Zm440 0h160v-160H620v160ZM180-180h160v-160H180v160Zm440 0h160v-160H620v160Z\"/>\n",
              "  </svg>\n",
              "    </button>\n",
              "\n",
              "  <style>\n",
              "    .colab-df-container {\n",
              "      display:flex;\n",
              "      gap: 12px;\n",
              "    }\n",
              "\n",
              "    .colab-df-convert {\n",
              "      background-color: #E8F0FE;\n",
              "      border: none;\n",
              "      border-radius: 50%;\n",
              "      cursor: pointer;\n",
              "      display: none;\n",
              "      fill: #1967D2;\n",
              "      height: 32px;\n",
              "      padding: 0 0 0 0;\n",
              "      width: 32px;\n",
              "    }\n",
              "\n",
              "    .colab-df-convert:hover {\n",
              "      background-color: #E2EBFA;\n",
              "      box-shadow: 0px 1px 2px rgba(60, 64, 67, 0.3), 0px 1px 3px 1px rgba(60, 64, 67, 0.15);\n",
              "      fill: #174EA6;\n",
              "    }\n",
              "\n",
              "    .colab-df-buttons div {\n",
              "      margin-bottom: 4px;\n",
              "    }\n",
              "\n",
              "    [theme=dark] .colab-df-convert {\n",
              "      background-color: #3B4455;\n",
              "      fill: #D2E3FC;\n",
              "    }\n",
              "\n",
              "    [theme=dark] .colab-df-convert:hover {\n",
              "      background-color: #434B5C;\n",
              "      box-shadow: 0px 1px 3px 1px rgba(0, 0, 0, 0.15);\n",
              "      filter: drop-shadow(0px 1px 2px rgba(0, 0, 0, 0.3));\n",
              "      fill: #FFFFFF;\n",
              "    }\n",
              "  </style>\n",
              "\n",
              "    <script>\n",
              "      const buttonEl =\n",
              "        document.querySelector('#df-00391616-ef9e-471b-8f99-550b629de00a button.colab-df-convert');\n",
              "      buttonEl.style.display =\n",
              "        google.colab.kernel.accessAllowed ? 'block' : 'none';\n",
              "\n",
              "      async function convertToInteractive(key) {\n",
              "        const element = document.querySelector('#df-00391616-ef9e-471b-8f99-550b629de00a');\n",
              "        const dataTable =\n",
              "          await google.colab.kernel.invokeFunction('convertToInteractive',\n",
              "                                                    [key], {});\n",
              "        if (!dataTable) return;\n",
              "\n",
              "        const docLinkHtml = 'Like what you see? Visit the ' +\n",
              "          '<a target=\"_blank\" href=https://colab.research.google.com/notebooks/data_table.ipynb>data table notebook</a>'\n",
              "          + ' to learn more about interactive tables.';\n",
              "        element.innerHTML = '';\n",
              "        dataTable['output_type'] = 'display_data';\n",
              "        await google.colab.output.renderOutput(dataTable, element);\n",
              "        const docLink = document.createElement('div');\n",
              "        docLink.innerHTML = docLinkHtml;\n",
              "        element.appendChild(docLink);\n",
              "      }\n",
              "    </script>\n",
              "  </div>\n",
              "\n",
              "\n",
              "    <div id=\"df-ce00542b-9fc3-4272-b0a3-0e17a8526353\">\n",
              "      <button class=\"colab-df-quickchart\" onclick=\"quickchart('df-ce00542b-9fc3-4272-b0a3-0e17a8526353')\"\n",
              "                title=\"Suggest charts\"\n",
              "                style=\"display:none;\">\n",
              "\n",
              "<svg xmlns=\"http://www.w3.org/2000/svg\" height=\"24px\"viewBox=\"0 0 24 24\"\n",
              "     width=\"24px\">\n",
              "    <g>\n",
              "        <path d=\"M19 3H5c-1.1 0-2 .9-2 2v14c0 1.1.9 2 2 2h14c1.1 0 2-.9 2-2V5c0-1.1-.9-2-2-2zM9 17H7v-7h2v7zm4 0h-2V7h2v10zm4 0h-2v-4h2v4z\"/>\n",
              "    </g>\n",
              "</svg>\n",
              "      </button>\n",
              "\n",
              "<style>\n",
              "  .colab-df-quickchart {\n",
              "      --bg-color: #E8F0FE;\n",
              "      --fill-color: #1967D2;\n",
              "      --hover-bg-color: #E2EBFA;\n",
              "      --hover-fill-color: #174EA6;\n",
              "      --disabled-fill-color: #AAA;\n",
              "      --disabled-bg-color: #DDD;\n",
              "  }\n",
              "\n",
              "  [theme=dark] .colab-df-quickchart {\n",
              "      --bg-color: #3B4455;\n",
              "      --fill-color: #D2E3FC;\n",
              "      --hover-bg-color: #434B5C;\n",
              "      --hover-fill-color: #FFFFFF;\n",
              "      --disabled-bg-color: #3B4455;\n",
              "      --disabled-fill-color: #666;\n",
              "  }\n",
              "\n",
              "  .colab-df-quickchart {\n",
              "    background-color: var(--bg-color);\n",
              "    border: none;\n",
              "    border-radius: 50%;\n",
              "    cursor: pointer;\n",
              "    display: none;\n",
              "    fill: var(--fill-color);\n",
              "    height: 32px;\n",
              "    padding: 0;\n",
              "    width: 32px;\n",
              "  }\n",
              "\n",
              "  .colab-df-quickchart:hover {\n",
              "    background-color: var(--hover-bg-color);\n",
              "    box-shadow: 0 1px 2px rgba(60, 64, 67, 0.3), 0 1px 3px 1px rgba(60, 64, 67, 0.15);\n",
              "    fill: var(--button-hover-fill-color);\n",
              "  }\n",
              "\n",
              "  .colab-df-quickchart-complete:disabled,\n",
              "  .colab-df-quickchart-complete:disabled:hover {\n",
              "    background-color: var(--disabled-bg-color);\n",
              "    fill: var(--disabled-fill-color);\n",
              "    box-shadow: none;\n",
              "  }\n",
              "\n",
              "  .colab-df-spinner {\n",
              "    border: 2px solid var(--fill-color);\n",
              "    border-color: transparent;\n",
              "    border-bottom-color: var(--fill-color);\n",
              "    animation:\n",
              "      spin 1s steps(1) infinite;\n",
              "  }\n",
              "\n",
              "  @keyframes spin {\n",
              "    0% {\n",
              "      border-color: transparent;\n",
              "      border-bottom-color: var(--fill-color);\n",
              "      border-left-color: var(--fill-color);\n",
              "    }\n",
              "    20% {\n",
              "      border-color: transparent;\n",
              "      border-left-color: var(--fill-color);\n",
              "      border-top-color: var(--fill-color);\n",
              "    }\n",
              "    30% {\n",
              "      border-color: transparent;\n",
              "      border-left-color: var(--fill-color);\n",
              "      border-top-color: var(--fill-color);\n",
              "      border-right-color: var(--fill-color);\n",
              "    }\n",
              "    40% {\n",
              "      border-color: transparent;\n",
              "      border-right-color: var(--fill-color);\n",
              "      border-top-color: var(--fill-color);\n",
              "    }\n",
              "    60% {\n",
              "      border-color: transparent;\n",
              "      border-right-color: var(--fill-color);\n",
              "    }\n",
              "    80% {\n",
              "      border-color: transparent;\n",
              "      border-right-color: var(--fill-color);\n",
              "      border-bottom-color: var(--fill-color);\n",
              "    }\n",
              "    90% {\n",
              "      border-color: transparent;\n",
              "      border-bottom-color: var(--fill-color);\n",
              "    }\n",
              "  }\n",
              "</style>\n",
              "\n",
              "      <script>\n",
              "        async function quickchart(key) {\n",
              "          const quickchartButtonEl =\n",
              "            document.querySelector('#' + key + ' button');\n",
              "          quickchartButtonEl.disabled = true;  // To prevent multiple clicks.\n",
              "          quickchartButtonEl.classList.add('colab-df-spinner');\n",
              "          try {\n",
              "            const charts = await google.colab.kernel.invokeFunction(\n",
              "                'suggestCharts', [key], {});\n",
              "          } catch (error) {\n",
              "            console.error('Error during call to suggestCharts:', error);\n",
              "          }\n",
              "          quickchartButtonEl.classList.remove('colab-df-spinner');\n",
              "          quickchartButtonEl.classList.add('colab-df-quickchart-complete');\n",
              "        }\n",
              "        (() => {\n",
              "          let quickchartButtonEl =\n",
              "            document.querySelector('#df-ce00542b-9fc3-4272-b0a3-0e17a8526353 button');\n",
              "          quickchartButtonEl.style.display =\n",
              "            google.colab.kernel.accessAllowed ? 'block' : 'none';\n",
              "        })();\n",
              "      </script>\n",
              "    </div>\n",
              "\n",
              "  <div id=\"id_7a6485fa-3811-4f43-84f3-a5a16403c95d\">\n",
              "    <style>\n",
              "      .colab-df-generate {\n",
              "        background-color: #E8F0FE;\n",
              "        border: none;\n",
              "        border-radius: 50%;\n",
              "        cursor: pointer;\n",
              "        display: none;\n",
              "        fill: #1967D2;\n",
              "        height: 32px;\n",
              "        padding: 0 0 0 0;\n",
              "        width: 32px;\n",
              "      }\n",
              "\n",
              "      .colab-df-generate:hover {\n",
              "        background-color: #E2EBFA;\n",
              "        box-shadow: 0px 1px 2px rgba(60, 64, 67, 0.3), 0px 1px 3px 1px rgba(60, 64, 67, 0.15);\n",
              "        fill: #174EA6;\n",
              "      }\n",
              "\n",
              "      [theme=dark] .colab-df-generate {\n",
              "        background-color: #3B4455;\n",
              "        fill: #D2E3FC;\n",
              "      }\n",
              "\n",
              "      [theme=dark] .colab-df-generate:hover {\n",
              "        background-color: #434B5C;\n",
              "        box-shadow: 0px 1px 3px 1px rgba(0, 0, 0, 0.15);\n",
              "        filter: drop-shadow(0px 1px 2px rgba(0, 0, 0, 0.3));\n",
              "        fill: #FFFFFF;\n",
              "      }\n",
              "    </style>\n",
              "    <button class=\"colab-df-generate\" onclick=\"generateWithVariable('muestras')\"\n",
              "            title=\"Generate code using this dataframe.\"\n",
              "            style=\"display:none;\">\n",
              "\n",
              "  <svg xmlns=\"http://www.w3.org/2000/svg\" height=\"24px\"viewBox=\"0 0 24 24\"\n",
              "       width=\"24px\">\n",
              "    <path d=\"M7,19H8.4L18.45,9,17,7.55,7,17.6ZM5,21V16.75L18.45,3.32a2,2,0,0,1,2.83,0l1.4,1.43a1.91,1.91,0,0,1,.58,1.4,1.91,1.91,0,0,1-.58,1.4L9.25,21ZM18.45,9,17,7.55Zm-12,3A5.31,5.31,0,0,0,4.9,8.1,5.31,5.31,0,0,0,1,6.5,5.31,5.31,0,0,0,4.9,4.9,5.31,5.31,0,0,0,6.5,1,5.31,5.31,0,0,0,8.1,4.9,5.31,5.31,0,0,0,12,6.5,5.46,5.46,0,0,0,6.5,12Z\"/>\n",
              "  </svg>\n",
              "    </button>\n",
              "    <script>\n",
              "      (() => {\n",
              "      const buttonEl =\n",
              "        document.querySelector('#id_7a6485fa-3811-4f43-84f3-a5a16403c95d button.colab-df-generate');\n",
              "      buttonEl.style.display =\n",
              "        google.colab.kernel.accessAllowed ? 'block' : 'none';\n",
              "\n",
              "      buttonEl.onclick = () => {\n",
              "        google.colab.notebook.generateWithVariable('muestras');\n",
              "      }\n",
              "      })();\n",
              "    </script>\n",
              "  </div>\n",
              "\n",
              "    </div>\n",
              "  </div>\n"
            ],
            "application/vnd.google.colaboratory.intrinsic+json": {
              "type": "dataframe",
              "variable_name": "muestras"
            }
          },
          "metadata": {},
          "execution_count": 470
        }
      ]
    },
    {
      "cell_type": "markdown",
      "source": [
        "Obtenemos un df que tiene 1500 columnas donde cada columna representa una muestra de tamaño 2000 de la variable Edad."
      ],
      "metadata": {
        "id": "MeCEIv9j5GzV"
      }
    },
    {
      "cell_type": "code",
      "metadata": {
        "id": "v5Q-rnS_izNd",
        "scrolled": true,
        "colab": {
          "base_uri": "https://localhost:8080/",
          "height": 458
        },
        "outputId": "bab4f2f5-7e3e-4097-8de4-80f5a632cb35"
      },
      "source": [
        "muestras.mean() # Calculamos la media de cada una de las 1500 muestras que obtuvimos"
      ],
      "execution_count": 471,
      "outputs": [
        {
          "output_type": "execute_result",
          "data": {
            "text/plain": [
              "Muestra_0       44.0515\n",
              "Muestra_1       44.2990\n",
              "Muestra_2       44.3170\n",
              "Muestra_3       44.6780\n",
              "Muestra_4       44.4625\n",
              "                 ...   \n",
              "Muestra_1495    43.6875\n",
              "Muestra_1496    44.2325\n",
              "Muestra_1497    44.2950\n",
              "Muestra_1498    43.5230\n",
              "Muestra_1499    44.0525\n",
              "Length: 1500, dtype: float64"
            ],
            "text/html": [
              "<div>\n",
              "<style scoped>\n",
              "    .dataframe tbody tr th:only-of-type {\n",
              "        vertical-align: middle;\n",
              "    }\n",
              "\n",
              "    .dataframe tbody tr th {\n",
              "        vertical-align: top;\n",
              "    }\n",
              "\n",
              "    .dataframe thead th {\n",
              "        text-align: right;\n",
              "    }\n",
              "</style>\n",
              "<table border=\"1\" class=\"dataframe\">\n",
              "  <thead>\n",
              "    <tr style=\"text-align: right;\">\n",
              "      <th></th>\n",
              "      <th>0</th>\n",
              "    </tr>\n",
              "  </thead>\n",
              "  <tbody>\n",
              "    <tr>\n",
              "      <th>Muestra_0</th>\n",
              "      <td>44.0515</td>\n",
              "    </tr>\n",
              "    <tr>\n",
              "      <th>Muestra_1</th>\n",
              "      <td>44.2990</td>\n",
              "    </tr>\n",
              "    <tr>\n",
              "      <th>Muestra_2</th>\n",
              "      <td>44.3170</td>\n",
              "    </tr>\n",
              "    <tr>\n",
              "      <th>Muestra_3</th>\n",
              "      <td>44.6780</td>\n",
              "    </tr>\n",
              "    <tr>\n",
              "      <th>Muestra_4</th>\n",
              "      <td>44.4625</td>\n",
              "    </tr>\n",
              "    <tr>\n",
              "      <th>...</th>\n",
              "      <td>...</td>\n",
              "    </tr>\n",
              "    <tr>\n",
              "      <th>Muestra_1495</th>\n",
              "      <td>43.6875</td>\n",
              "    </tr>\n",
              "    <tr>\n",
              "      <th>Muestra_1496</th>\n",
              "      <td>44.2325</td>\n",
              "    </tr>\n",
              "    <tr>\n",
              "      <th>Muestra_1497</th>\n",
              "      <td>44.2950</td>\n",
              "    </tr>\n",
              "    <tr>\n",
              "      <th>Muestra_1498</th>\n",
              "      <td>43.5230</td>\n",
              "    </tr>\n",
              "    <tr>\n",
              "      <th>Muestra_1499</th>\n",
              "      <td>44.0525</td>\n",
              "    </tr>\n",
              "  </tbody>\n",
              "</table>\n",
              "<p>1500 rows × 1 columns</p>\n",
              "</div><br><label><b>dtype:</b> float64</label>"
            ]
          },
          "metadata": {},
          "execution_count": 471
        }
      ]
    },
    {
      "cell_type": "markdown",
      "metadata": {
        "id": "JfgEBDx0jDzf"
      },
      "source": [
        "> El **Teorema Central del Límite** establece que, con el aumento del tamaño de la muestra, la distribución de las medias muestrales se aproxima a una distribución normal con media igual a la media de la población y una desviación estándar igual a la desviación estándar de la variable original dividida por la raíz cuadrada del tamaño de la muestra. Este hecho está asegurado para $n$ mayores o iguales a 30."
      ]
    },
    {
      "cell_type": "markdown",
      "source": [
        "Podemos utilizar el histograma para dar una vista de que es lo que está sucediendo con esta media."
      ],
      "metadata": {
        "id": "DTMnlFqY6MIt"
      }
    },
    {
      "cell_type": "code",
      "source": [
        "muestras.mean().hist()"
      ],
      "metadata": {
        "colab": {
          "base_uri": "https://localhost:8080/",
          "height": 448
        },
        "id": "I3PApBVq6Tl6",
        "outputId": "135eb64b-5521-4430-f6d6-0fec43de7196"
      },
      "execution_count": 472,
      "outputs": [
        {
          "output_type": "execute_result",
          "data": {
            "text/plain": [
              "<Axes: >"
            ]
          },
          "metadata": {},
          "execution_count": 472
        },
        {
          "output_type": "display_data",
          "data": {
            "text/plain": [
              "<Figure size 640x480 with 1 Axes>"
            ],
            "image/png": "[encoded data removed]"
          },
          "metadata": {}
        }
      ]
    },
    {
      "cell_type": "markdown",
      "source": [
        "Con ello comprobamos que se aproxima batante a una distribución normal."
      ],
      "metadata": {
        "id": "4ehN2wEJ6hU8"
      }
    },
    {
      "cell_type": "code",
      "metadata": {
        "id": "NBPGDBJ3VeBw"
      },
      "source": [],
      "execution_count": 472,
      "outputs": []
    },
    {
      "cell_type": "markdown",
      "metadata": {
        "id": "_A4RKStwjkLI"
      },
      "source": [
        "> El **Teorema Central del Límite** establece que, con el aumento del tamaño de la muestra, la distribución de las medias muestrales se aproxima a una distribución normal con media igual a la media de la población y una desviación estándar igual a la desviación estándar de la variable original dividida por la raíz cuadrada del tamaño de la muestra. Este hecho está asegurado para $n$ mayores o iguales a 30."
      ]
    },
    {
      "cell_type": "code",
      "metadata": {
        "id": "vXE-UOj_izGZ",
        "colab": {
          "base_uri": "https://localhost:8080/"
        },
        "outputId": "13a2e71c-e1cf-48b9-e6ef-e56cfd267940"
      },
      "source": [
        "datos.Edad.mean() # La media de la variable Edad original"
      ],
      "execution_count": 473,
      "outputs": [
        {
          "output_type": "execute_result",
          "data": {
            "text/plain": [
              "np.float64(44.07142113482561)"
            ]
          },
          "metadata": {},
          "execution_count": 473
        }
      ]
    },
    {
      "cell_type": "code",
      "metadata": {
        "id": "bahA7_WYizC6",
        "colab": {
          "base_uri": "https://localhost:8080/"
        },
        "outputId": "bb1d7d96-052e-4b6e-ff2a-dc78dcb10bc0"
      },
      "source": [
        "muestras.mean().mean() # La media de nuestras muestras (medidas muestrales)"
      ],
      "execution_count": 474,
      "outputs": [
        {
          "output_type": "execute_result",
          "data": {
            "text/plain": [
              "np.float64(44.069330666666666)"
            ]
          },
          "metadata": {},
          "execution_count": 474
        }
      ]
    },
    {
      "cell_type": "markdown",
      "source": [
        "Nos da un valor bastante aproximado también."
      ],
      "metadata": {
        "id": "ffMQJdr87cA3"
      }
    },
    {
      "cell_type": "markdown",
      "metadata": {
        "id": "7lIWJCAKlPmA"
      },
      "source": [
        "> El **Teorema Central del Límite** establece que, con el aumento del tamaño de la muestra, la distribución de las medias muestrales se aproxima a una distribución normal con media igual a la media de la población y una desviación estándar igual a la desviación estándar de la variable original dividida por la raíz cuadrada del tamaño de la muestra. Este hecho está asegurado para $n$ mayores o iguales a 30.\n",
        "\n",
        "# $$\\sigma_\\bar{x} = \\frac{\\sigma}{\\sqrt{n}}$$"
      ]
    },
    {
      "cell_type": "code",
      "metadata": {
        "id": "qKrG0zqhVNzn",
        "colab": {
          "base_uri": "https://localhost:8080/"
        },
        "outputId": "6a859076-8c52-49ab-ff92-0379cc30ce90"
      },
      "source": [
        "muestras.mean().std() # La desviación estándar de las nuestras muestras (medidas muestrales)"
      ],
      "execution_count": 475,
      "outputs": [
        {
          "output_type": "execute_result",
          "data": {
            "text/plain": [
              "0.2856512829129988"
            ]
          },
          "metadata": {},
          "execution_count": 475
        }
      ]
    },
    {
      "cell_type": "code",
      "metadata": {
        "id": "83ILp8Quiy_W",
        "colab": {
          "base_uri": "https://localhost:8080/"
        },
        "outputId": "863187c5-c637-4ece-e617-c4163263f3ec"
      },
      "source": [
        "datos.Edad.std() # La desviación estándar de la variable Edad original"
      ],
      "execution_count": 476,
      "outputs": [
        {
          "output_type": "execute_result",
          "data": {
            "text/plain": [
              "12.480583465360187"
            ]
          },
          "metadata": {},
          "execution_count": 476
        }
      ]
    },
    {
      "cell_type": "code",
      "metadata": {
        "id": "IQ7wC-Nkiy75",
        "colab": {
          "base_uri": "https://localhost:8080/"
        },
        "outputId": "5f7d67dd-607f-43ad-f9b7-105c4d84ad10"
      },
      "source": [
        "datos.Edad.std() / np.sqrt(n) # La desviación estándar de las nuestras muestras (medidas muestrales)"
      ],
      "execution_count": 477,
      "outputs": [
        {
          "output_type": "execute_result",
          "data": {
            "text/plain": [
              "np.float64(0.2790743302740527)"
            ]
          },
          "metadata": {},
          "execution_count": 477
        }
      ]
    },
    {
      "cell_type": "markdown",
      "source": [
        "Obtenemos un valor bastante aproximado a la DesvSTD de la muestras, de acuerdo con lo que señala el Teorema Central del Límite."
      ],
      "metadata": {
        "id": "uSPcEyr_8Za8"
      }
    },
    {
      "cell_type": "markdown",
      "metadata": {
        "id": "ku8CE67iG3Ge"
      },
      "source": [
        "## <font color=green>4.2 Los niveles de confianza y significación</font>\n",
        "***"
      ]
    },
    {
      "cell_type": "markdown",
      "metadata": {
        "id": "mk6ZsvgyG3Gf"
      },
      "source": [
        "El **nivel de confianza** ($1 - \\alpha$) representa la probabilidad de que la estimación sea correcta. Además, el **nivel de significancia** ($\\alpha$) expresa la probabilidad de error de la estimación.\n",
        "\n",
        "El **nivel de confianza** representa el grado de confiabilidad del resultado estimado dentro de un cierto rango. Cuando establecemos un **nivel de confianza del 95%** en una encuesta, por ejemplo, estamos asumiendo que existe una probabilidad del 95% de que los resultados de la encuesta representen bien la realidad, es decir, sean correctos.\n",
        "\n",
        "El **nivel de confianza** de una estimación se puede obtener del área bajo la curva normal como se muestra en la figura siguiente."
      ]
    },
    {
      "cell_type": "markdown",
      "metadata": {
        "id": "WeGyDfvaG3Gg"
      },
      "source": [
        "<img src='https://caelum-online-public.s3.amazonaws.com/ESP-1764-estadistica-con-python-probabilidad-y-muestreo/img007.png' width='450px'>\n"
      ]
    },
    {
      "cell_type": "markdown",
      "metadata": {
        "id": "AN8WDZ-HG3Gi"
      },
      "source": [
        "## <font color=green>4.3 Error inferencial</font>\n",
        "***"
      ]
    },
    {
      "cell_type": "markdown",
      "metadata": {
        "id": "tk-TwhhfG3Gi"
      },
      "source": [
        "El **error inferencial** se define por la **desviación estándar de las medias muestrales** $\\sigma_\\bar{x}$ y por el **nivel de confianza** determinado para el proceso."
      ]
    },
    {
      "cell_type": "markdown",
      "metadata": {
        "id": "FKOQUPYHG3Gk"
      },
      "source": [
        "# $$e = z \\frac{\\sigma}{\\sqrt{n}}$$"
      ]
    },
    {
      "cell_type": "markdown",
      "metadata": {
        "id": "ELbWQW4sG3HS"
      },
      "source": [
        "## <font color=green>4.4 Intervalos de confianza</font>\n",
        "***"
      ]
    },
    {
      "cell_type": "markdown",
      "metadata": {
        "id": "-r6EMnH-G3HT"
      },
      "source": [
        "### Intervalo de confianza para la media poblacional"
      ]
    },
    {
      "cell_type": "markdown",
      "metadata": {
        "id": "QWgBFeRnG3HT"
      },
      "source": [
        "#### Con desviación estándar poblacional conocida\n",
        "\n",
        "## $$\\mu = \\bar{x} \\pm z\\frac{\\sigma}{\\sqrt{n}}$$\n",
        "\n",
        "#### Con desviación estándar de población desconocida\n",
        "\n",
        "## $$\\mu = \\bar{x} \\pm z\\frac{s}{\\sqrt{n}}$$"
      ]
    },
    {
      "cell_type": "markdown",
      "metadata": {
        "id": "R2qqLneeG3HT"
      },
      "source": [
        "## <font color='blue'>Ejemplo: </font>"
      ]
    },
    {
      "cell_type": "markdown",
      "metadata": {
        "id": "AgnrFjdMG3HT"
      },
      "source": [
        "Suponga que los pesos de las bolsas de arroz de una industria alimentaria se distribuyen aproximadamente como una población normal con **desviación estándar igual a 150 g**. Se seleccionó una **muestra aleatoria de 20 bolsas** de un lote específico, se obtuvo un **peso promedio de 5.050 g**. Construya un intervalo de confianza para el **promedio de la población** asumiendo un **nivel de significancia del 5%**."
      ]
    },
    {
      "cell_type": "markdown",
      "metadata": {
        "id": "LpGQGksTG3HU"
      },
      "source": [
        "### Media muestral"
      ]
    },
    {
      "cell_type": "code",
      "metadata": {
        "id": "aF2QQ0z3G3HU",
        "colab": {
          "base_uri": "https://localhost:8080/"
        },
        "outputId": "19d25819-6aec-48bf-e5d9-46e52bbb727c"
      },
      "source": [
        "media_muestral=5050\n",
        "media_muestral"
      ],
      "execution_count": 478,
      "outputs": [
        {
          "output_type": "execute_result",
          "data": {
            "text/plain": [
              "5050"
            ]
          },
          "metadata": {},
          "execution_count": 478
        }
      ]
    },
    {
      "cell_type": "markdown",
      "metadata": {
        "id": "Jly1bVP9G3HY"
      },
      "source": [
        "### Nivel de significancia ($\\alpha$)"
      ]
    },
    {
      "cell_type": "code",
      "metadata": {
        "id": "BzIgN3C7G3HY",
        "colab": {
          "base_uri": "https://localhost:8080/"
        },
        "outputId": "17ac337b-2b59-4504-e874-eb3d3de00e3a"
      },
      "source": [
        "significancia=0.05\n",
        "significancia"
      ],
      "execution_count": 479,
      "outputs": [
        {
          "output_type": "execute_result",
          "data": {
            "text/plain": [
              "0.05"
            ]
          },
          "metadata": {},
          "execution_count": 479
        }
      ]
    },
    {
      "cell_type": "markdown",
      "metadata": {
        "id": "SrZAbQRKG3Ha"
      },
      "source": [
        "### Nivel de confianza ($1 - \\alpha$)"
      ]
    },
    {
      "cell_type": "code",
      "metadata": {
        "id": "1JeWXwA6G3Ha",
        "colab": {
          "base_uri": "https://localhost:8080/"
        },
        "outputId": "c57bbcb3-f1e5-483d-eb20-c145f03ac434"
      },
      "source": [
        "confianza=1-significancia\n",
        "confianza"
      ],
      "execution_count": 480,
      "outputs": [
        {
          "output_type": "execute_result",
          "data": {
            "text/plain": [
              "0.95"
            ]
          },
          "metadata": {},
          "execution_count": 480
        }
      ]
    },
    {
      "cell_type": "markdown",
      "metadata": {
        "id": "mZoUFr1nG3Hf"
      },
      "source": [
        "### Obteniendo $z$"
      ]
    },
    {
      "cell_type": "code",
      "metadata": {
        "id": "f9IMOwY2Xeva",
        "colab": {
          "base_uri": "https://localhost:8080/",
          "height": 363
        },
        "outputId": "e4a264a1-4a0e-4f9e-e0db-eb5e6c8f7ac1"
      },
      "source": [
        "import pandas as pd\n",
        "import numpy as np\n",
        "from scipy.stats import norm\n",
        "\n",
        "tabla_normal_estandarizada = pd.DataFrame(\n",
        "    [],\n",
        "    index=[\"{0:0.2f}\".format(i / 100) for i in range(0, 400, 10)],\n",
        "    columns = [\"{0:0.2f}\".format(i / 100) for i in range(0, 10)])\n",
        "\n",
        "for index in tabla_normal_estandarizada.index:\n",
        "    for column in tabla_normal_estandarizada.columns:\n",
        "        Z = np.round(float(index) + float(column), 2)\n",
        "        tabla_normal_estandarizada.loc[index, column] = \"{0:0.4f}\".format(norm.cdf(Z))\n",
        "\n",
        "tabla_normal_estandarizada.rename_axis('Z', axis = 'columns', inplace = True)\n",
        "\n",
        "tabla_normal_estandarizada[16:26]\n"
      ],
      "execution_count": 481,
      "outputs": [
        {
          "output_type": "execute_result",
          "data": {
            "text/plain": [
              "Z       0.00    0.01    0.02    0.03    0.04    0.05    0.06    0.07    0.08  \\\n",
              "1.60  0.9452  0.9463  0.9474  0.9484  0.9495  0.9505  0.9515  0.9525  0.9535   \n",
              "1.70  0.9554  0.9564  0.9573  0.9582  0.9591  0.9599  0.9608  0.9616  0.9625   \n",
              "1.80  0.9641  0.9649  0.9656  0.9664  0.9671  0.9678  0.9686  0.9693  0.9699   \n",
              "1.90  0.9713  0.9719  0.9726  0.9732  0.9738  0.9744  0.9750  0.9756  0.9761   \n",
              "2.00  0.9772  0.9778  0.9783  0.9788  0.9793  0.9798  0.9803  0.9808  0.9812   \n",
              "2.10  0.9821  0.9826  0.9830  0.9834  0.9838  0.9842  0.9846  0.9850  0.9854   \n",
              "2.20  0.9861  0.9864  0.9868  0.9871  0.9875  0.9878  0.9881  0.9884  0.9887   \n",
              "2.30  0.9893  0.9896  0.9898  0.9901  0.9904  0.9906  0.9909  0.9911  0.9913   \n",
              "2.40  0.9918  0.9920  0.9922  0.9925  0.9927  0.9929  0.9931  0.9932  0.9934   \n",
              "2.50  0.9938  0.9940  0.9941  0.9943  0.9945  0.9946  0.9948  0.9949  0.9951   \n",
              "\n",
              "Z       0.09  \n",
              "1.60  0.9545  \n",
              "1.70  0.9633  \n",
              "1.80  0.9706  \n",
              "1.90  0.9767  \n",
              "2.00  0.9817  \n",
              "2.10  0.9857  \n",
              "2.20  0.9890  \n",
              "2.30  0.9916  \n",
              "2.40  0.9936  \n",
              "2.50  0.9952  "
            ],
            "text/html": [
              "\n",
              "  <div id=\"df-00f166ab-abb1-48fd-a228-eb211d66d737\" class=\"colab-df-container\">\n",
              "    <div>\n",
              "<style scoped>\n",
              "    .dataframe tbody tr th:only-of-type {\n",
              "        vertical-align: middle;\n",
              "    }\n",
              "\n",
              "    .dataframe tbody tr th {\n",
              "        vertical-align: top;\n",
              "    }\n",
              "\n",
              "    .dataframe thead th {\n",
              "        text-align: right;\n",
              "    }\n",
              "</style>\n",
              "<table border=\"1\" class=\"dataframe\">\n",
              "  <thead>\n",
              "    <tr style=\"text-align: right;\">\n",
              "      <th>Z</th>\n",
              "      <th>0.00</th>\n",
              "      <th>0.01</th>\n",
              "      <th>0.02</th>\n",
              "      <th>0.03</th>\n",
              "      <th>0.04</th>\n",
              "      <th>0.05</th>\n",
              "      <th>0.06</th>\n",
              "      <th>0.07</th>\n",
              "      <th>0.08</th>\n",
              "      <th>0.09</th>\n",
              "    </tr>\n",
              "  </thead>\n",
              "  <tbody>\n",
              "    <tr>\n",
              "      <th>1.60</th>\n",
              "      <td>0.9452</td>\n",
              "      <td>0.9463</td>\n",
              "      <td>0.9474</td>\n",
              "      <td>0.9484</td>\n",
              "      <td>0.9495</td>\n",
              "      <td>0.9505</td>\n",
              "      <td>0.9515</td>\n",
              "      <td>0.9525</td>\n",
              "      <td>0.9535</td>\n",
              "      <td>0.9545</td>\n",
              "    </tr>\n",
              "    <tr>\n",
              "      <th>1.70</th>\n",
              "      <td>0.9554</td>\n",
              "      <td>0.9564</td>\n",
              "      <td>0.9573</td>\n",
              "      <td>0.9582</td>\n",
              "      <td>0.9591</td>\n",
              "      <td>0.9599</td>\n",
              "      <td>0.9608</td>\n",
              "      <td>0.9616</td>\n",
              "      <td>0.9625</td>\n",
              "      <td>0.9633</td>\n",
              "    </tr>\n",
              "    <tr>\n",
              "      <th>1.80</th>\n",
              "      <td>0.9641</td>\n",
              "      <td>0.9649</td>\n",
              "      <td>0.9656</td>\n",
              "      <td>0.9664</td>\n",
              "      <td>0.9671</td>\n",
              "      <td>0.9678</td>\n",
              "      <td>0.9686</td>\n",
              "      <td>0.9693</td>\n",
              "      <td>0.9699</td>\n",
              "      <td>0.9706</td>\n",
              "    </tr>\n",
              "    <tr>\n",
              "      <th>1.90</th>\n",
              "      <td>0.9713</td>\n",
              "      <td>0.9719</td>\n",
              "      <td>0.9726</td>\n",
              "      <td>0.9732</td>\n",
              "      <td>0.9738</td>\n",
              "      <td>0.9744</td>\n",
              "      <td>0.9750</td>\n",
              "      <td>0.9756</td>\n",
              "      <td>0.9761</td>\n",
              "      <td>0.9767</td>\n",
              "    </tr>\n",
              "    <tr>\n",
              "      <th>2.00</th>\n",
              "      <td>0.9772</td>\n",
              "      <td>0.9778</td>\n",
              "      <td>0.9783</td>\n",
              "      <td>0.9788</td>\n",
              "      <td>0.9793</td>\n",
              "      <td>0.9798</td>\n",
              "      <td>0.9803</td>\n",
              "      <td>0.9808</td>\n",
              "      <td>0.9812</td>\n",
              "      <td>0.9817</td>\n",
              "    </tr>\n",
              "    <tr>\n",
              "      <th>2.10</th>\n",
              "      <td>0.9821</td>\n",
              "      <td>0.9826</td>\n",
              "      <td>0.9830</td>\n",
              "      <td>0.9834</td>\n",
              "      <td>0.9838</td>\n",
              "      <td>0.9842</td>\n",
              "      <td>0.9846</td>\n",
              "      <td>0.9850</td>\n",
              "      <td>0.9854</td>\n",
              "      <td>0.9857</td>\n",
              "    </tr>\n",
              "    <tr>\n",
              "      <th>2.20</th>\n",
              "      <td>0.9861</td>\n",
              "      <td>0.9864</td>\n",
              "      <td>0.9868</td>\n",
              "      <td>0.9871</td>\n",
              "      <td>0.9875</td>\n",
              "      <td>0.9878</td>\n",
              "      <td>0.9881</td>\n",
              "      <td>0.9884</td>\n",
              "      <td>0.9887</td>\n",
              "      <td>0.9890</td>\n",
              "    </tr>\n",
              "    <tr>\n",
              "      <th>2.30</th>\n",
              "      <td>0.9893</td>\n",
              "      <td>0.9896</td>\n",
              "      <td>0.9898</td>\n",
              "      <td>0.9901</td>\n",
              "      <td>0.9904</td>\n",
              "      <td>0.9906</td>\n",
              "      <td>0.9909</td>\n",
              "      <td>0.9911</td>\n",
              "      <td>0.9913</td>\n",
              "      <td>0.9916</td>\n",
              "    </tr>\n",
              "    <tr>\n",
              "      <th>2.40</th>\n",
              "      <td>0.9918</td>\n",
              "      <td>0.9920</td>\n",
              "      <td>0.9922</td>\n",
              "      <td>0.9925</td>\n",
              "      <td>0.9927</td>\n",
              "      <td>0.9929</td>\n",
              "      <td>0.9931</td>\n",
              "      <td>0.9932</td>\n",
              "      <td>0.9934</td>\n",
              "      <td>0.9936</td>\n",
              "    </tr>\n",
              "    <tr>\n",
              "      <th>2.50</th>\n",
              "      <td>0.9938</td>\n",
              "      <td>0.9940</td>\n",
              "      <td>0.9941</td>\n",
              "      <td>0.9943</td>\n",
              "      <td>0.9945</td>\n",
              "      <td>0.9946</td>\n",
              "      <td>0.9948</td>\n",
              "      <td>0.9949</td>\n",
              "      <td>0.9951</td>\n",
              "      <td>0.9952</td>\n",
              "    </tr>\n",
              "  </tbody>\n",
              "</table>\n",
              "</div>\n",
              "    <div class=\"colab-df-buttons\">\n",
              "\n",
              "  <div class=\"colab-df-container\">\n",
              "    <button class=\"colab-df-convert\" onclick=\"convertToInteractive('df-00f166ab-abb1-48fd-a228-eb211d66d737')\"\n",
              "            title=\"Convert this dataframe to an interactive table.\"\n",
              "            style=\"display:none;\">\n",
              "\n",
              "  <svg xmlns=\"http://www.w3.org/2000/svg\" height=\"24px\" viewBox=\"0 -960 960 960\">\n",
              "    <path d=\"M120-120v-720h720v720H120Zm60-500h600v-160H180v160Zm220 220h160v-160H400v160Zm0 220h160v-160H400v160ZM180-400h160v-160H180v160Zm440 0h160v-160H620v160ZM180-180h160v-160H180v160Zm440 0h160v-160H620v160Z\"/>\n",
              "  </svg>\n",
              "    </button>\n",
              "\n",
              "  <style>\n",
              "    .colab-df-container {\n",
              "      display:flex;\n",
              "      gap: 12px;\n",
              "    }\n",
              "\n",
              "    .colab-df-convert {\n",
              "      background-color: #E8F0FE;\n",
              "      border: none;\n",
              "      border-radius: 50%;\n",
              "      cursor: pointer;\n",
              "      display: none;\n",
              "      fill: #1967D2;\n",
              "      height: 32px;\n",
              "      padding: 0 0 0 0;\n",
              "      width: 32px;\n",
              "    }\n",
              "\n",
              "    .colab-df-convert:hover {\n",
              "      background-color: #E2EBFA;\n",
              "      box-shadow: 0px 1px 2px rgba(60, 64, 67, 0.3), 0px 1px 3px 1px rgba(60, 64, 67, 0.15);\n",
              "      fill: #174EA6;\n",
              "    }\n",
              "\n",
              "    .colab-df-buttons div {\n",
              "      margin-bottom: 4px;\n",
              "    }\n",
              "\n",
              "    [theme=dark] .colab-df-convert {\n",
              "      background-color: #3B4455;\n",
              "      fill: #D2E3FC;\n",
              "    }\n",
              "\n",
              "    [theme=dark] .colab-df-convert:hover {\n",
              "      background-color: #434B5C;\n",
              "      box-shadow: 0px 1px 3px 1px rgba(0, 0, 0, 0.15);\n",
              "      filter: drop-shadow(0px 1px 2px rgba(0, 0, 0, 0.3));\n",
              "      fill: #FFFFFF;\n",
              "    }\n",
              "  </style>\n",
              "\n",
              "    <script>\n",
              "      const buttonEl =\n",
              "        document.querySelector('#df-00f166ab-abb1-48fd-a228-eb211d66d737 button.colab-df-convert');\n",
              "      buttonEl.style.display =\n",
              "        google.colab.kernel.accessAllowed ? 'block' : 'none';\n",
              "\n",
              "      async function convertToInteractive(key) {\n",
              "        const element = document.querySelector('#df-00f166ab-abb1-48fd-a228-eb211d66d737');\n",
              "        const dataTable =\n",
              "          await google.colab.kernel.invokeFunction('convertToInteractive',\n",
              "                                                    [key], {});\n",
              "        if (!dataTable) return;\n",
              "\n",
              "        const docLinkHtml = 'Like what you see? Visit the ' +\n",
              "          '<a target=\"_blank\" href=https://colab.research.google.com/notebooks/data_table.ipynb>data table notebook</a>'\n",
              "          + ' to learn more about interactive tables.';\n",
              "        element.innerHTML = '';\n",
              "        dataTable['output_type'] = 'display_data';\n",
              "        await google.colab.output.renderOutput(dataTable, element);\n",
              "        const docLink = document.createElement('div');\n",
              "        docLink.innerHTML = docLinkHtml;\n",
              "        element.appendChild(docLink);\n",
              "      }\n",
              "    </script>\n",
              "  </div>\n",
              "\n",
              "\n",
              "    <div id=\"df-18a7d4d9-7478-4b07-843e-1ae5563afe4f\">\n",
              "      <button class=\"colab-df-quickchart\" onclick=\"quickchart('df-18a7d4d9-7478-4b07-843e-1ae5563afe4f')\"\n",
              "                title=\"Suggest charts\"\n",
              "                style=\"display:none;\">\n",
              "\n",
              "<svg xmlns=\"http://www.w3.org/2000/svg\" height=\"24px\"viewBox=\"0 0 24 24\"\n",
              "     width=\"24px\">\n",
              "    <g>\n",
              "        <path d=\"M19 3H5c-1.1 0-2 .9-2 2v14c0 1.1.9 2 2 2h14c1.1 0 2-.9 2-2V5c0-1.1-.9-2-2-2zM9 17H7v-7h2v7zm4 0h-2V7h2v10zm4 0h-2v-4h2v4z\"/>\n",
              "    </g>\n",
              "</svg>\n",
              "      </button>\n",
              "\n",
              "<style>\n",
              "  .colab-df-quickchart {\n",
              "      --bg-color: #E8F0FE;\n",
              "      --fill-color: #1967D2;\n",
              "      --hover-bg-color: #E2EBFA;\n",
              "      --hover-fill-color: #174EA6;\n",
              "      --disabled-fill-color: #AAA;\n",
              "      --disabled-bg-color: #DDD;\n",
              "  }\n",
              "\n",
              "  [theme=dark] .colab-df-quickchart {\n",
              "      --bg-color: #3B4455;\n",
              "      --fill-color: #D2E3FC;\n",
              "      --hover-bg-color: #434B5C;\n",
              "      --hover-fill-color: #FFFFFF;\n",
              "      --disabled-bg-color: #3B4455;\n",
              "      --disabled-fill-color: #666;\n",
              "  }\n",
              "\n",
              "  .colab-df-quickchart {\n",
              "    background-color: var(--bg-color);\n",
              "    border: none;\n",
              "    border-radius: 50%;\n",
              "    cursor: pointer;\n",
              "    display: none;\n",
              "    fill: var(--fill-color);\n",
              "    height: 32px;\n",
              "    padding: 0;\n",
              "    width: 32px;\n",
              "  }\n",
              "\n",
              "  .colab-df-quickchart:hover {\n",
              "    background-color: var(--hover-bg-color);\n",
              "    box-shadow: 0 1px 2px rgba(60, 64, 67, 0.3), 0 1px 3px 1px rgba(60, 64, 67, 0.15);\n",
              "    fill: var(--button-hover-fill-color);\n",
              "  }\n",
              "\n",
              "  .colab-df-quickchart-complete:disabled,\n",
              "  .colab-df-quickchart-complete:disabled:hover {\n",
              "    background-color: var(--disabled-bg-color);\n",
              "    fill: var(--disabled-fill-color);\n",
              "    box-shadow: none;\n",
              "  }\n",
              "\n",
              "  .colab-df-spinner {\n",
              "    border: 2px solid var(--fill-color);\n",
              "    border-color: transparent;\n",
              "    border-bottom-color: var(--fill-color);\n",
              "    animation:\n",
              "      spin 1s steps(1) infinite;\n",
              "  }\n",
              "\n",
              "  @keyframes spin {\n",
              "    0% {\n",
              "      border-color: transparent;\n",
              "      border-bottom-color: var(--fill-color);\n",
              "      border-left-color: var(--fill-color);\n",
              "    }\n",
              "    20% {\n",
              "      border-color: transparent;\n",
              "      border-left-color: var(--fill-color);\n",
              "      border-top-color: var(--fill-color);\n",
              "    }\n",
              "    30% {\n",
              "      border-color: transparent;\n",
              "      border-left-color: var(--fill-color);\n",
              "      border-top-color: var(--fill-color);\n",
              "      border-right-color: var(--fill-color);\n",
              "    }\n",
              "    40% {\n",
              "      border-color: transparent;\n",
              "      border-right-color: var(--fill-color);\n",
              "      border-top-color: var(--fill-color);\n",
              "    }\n",
              "    60% {\n",
              "      border-color: transparent;\n",
              "      border-right-color: var(--fill-color);\n",
              "    }\n",
              "    80% {\n",
              "      border-color: transparent;\n",
              "      border-right-color: var(--fill-color);\n",
              "      border-bottom-color: var(--fill-color);\n",
              "    }\n",
              "    90% {\n",
              "      border-color: transparent;\n",
              "      border-bottom-color: var(--fill-color);\n",
              "    }\n",
              "  }\n",
              "</style>\n",
              "\n",
              "      <script>\n",
              "        async function quickchart(key) {\n",
              "          const quickchartButtonEl =\n",
              "            document.querySelector('#' + key + ' button');\n",
              "          quickchartButtonEl.disabled = true;  // To prevent multiple clicks.\n",
              "          quickchartButtonEl.classList.add('colab-df-spinner');\n",
              "          try {\n",
              "            const charts = await google.colab.kernel.invokeFunction(\n",
              "                'suggestCharts', [key], {});\n",
              "          } catch (error) {\n",
              "            console.error('Error during call to suggestCharts:', error);\n",
              "          }\n",
              "          quickchartButtonEl.classList.remove('colab-df-spinner');\n",
              "          quickchartButtonEl.classList.add('colab-df-quickchart-complete');\n",
              "        }\n",
              "        (() => {\n",
              "          let quickchartButtonEl =\n",
              "            document.querySelector('#df-18a7d4d9-7478-4b07-843e-1ae5563afe4f button');\n",
              "          quickchartButtonEl.style.display =\n",
              "            google.colab.kernel.accessAllowed ? 'block' : 'none';\n",
              "        })();\n",
              "      </script>\n",
              "    </div>\n",
              "\n",
              "    </div>\n",
              "  </div>\n"
            ],
            "application/vnd.google.colaboratory.intrinsic+json": {
              "type": "dataframe",
              "summary": "{\n  \"name\": \"tabla_normal_estandarizada[16:26]\",\n  \"rows\": 10,\n  \"fields\": [\n    {\n      \"column\": \"0.00\",\n      \"properties\": {\n        \"dtype\": \"string\",\n        \"num_unique_values\": 10,\n        \"samples\": [\n          \"0.9918\",\n          \"0.9554\",\n          \"0.9821\"\n        ],\n        \"semantic_type\": \"\",\n        \"description\": \"\"\n      }\n    },\n    {\n      \"column\": \"0.01\",\n      \"properties\": {\n        \"dtype\": \"string\",\n        \"num_unique_values\": 10,\n        \"samples\": [\n          \"0.9920\",\n          \"0.9564\",\n          \"0.9826\"\n        ],\n        \"semantic_type\": \"\",\n        \"description\": \"\"\n      }\n    },\n    {\n      \"column\": \"0.02\",\n      \"properties\": {\n        \"dtype\": \"string\",\n        \"num_unique_values\": 10,\n        \"samples\": [\n          \"0.9922\",\n          \"0.9573\",\n          \"0.9830\"\n        ],\n        \"semantic_type\": \"\",\n        \"description\": \"\"\n      }\n    },\n    {\n      \"column\": \"0.03\",\n      \"properties\": {\n        \"dtype\": \"string\",\n        \"num_unique_values\": 10,\n        \"samples\": [\n          \"0.9925\",\n          \"0.9582\",\n          \"0.9834\"\n        ],\n        \"semantic_type\": \"\",\n        \"description\": \"\"\n      }\n    },\n    {\n      \"column\": \"0.04\",\n      \"properties\": {\n        \"dtype\": \"string\",\n        \"num_unique_values\": 10,\n        \"samples\": [\n          \"0.9927\",\n          \"0.9591\",\n          \"0.9838\"\n        ],\n        \"semantic_type\": \"\",\n        \"description\": \"\"\n      }\n    },\n    {\n      \"column\": \"0.05\",\n      \"properties\": {\n        \"dtype\": \"string\",\n        \"num_unique_values\": 10,\n        \"samples\": [\n          \"0.9929\",\n          \"0.9599\",\n          \"0.9842\"\n        ],\n        \"semantic_type\": \"\",\n        \"description\": \"\"\n      }\n    },\n    {\n      \"column\": \"0.06\",\n      \"properties\": {\n        \"dtype\": \"string\",\n        \"num_unique_values\": 10,\n        \"samples\": [\n          \"0.9931\",\n          \"0.9608\",\n          \"0.9846\"\n        ],\n        \"semantic_type\": \"\",\n        \"description\": \"\"\n      }\n    },\n    {\n      \"column\": \"0.07\",\n      \"properties\": {\n        \"dtype\": \"string\",\n        \"num_unique_values\": 10,\n        \"samples\": [\n          \"0.9932\",\n          \"0.9616\",\n          \"0.9850\"\n        ],\n        \"semantic_type\": \"\",\n        \"description\": \"\"\n      }\n    },\n    {\n      \"column\": \"0.08\",\n      \"properties\": {\n        \"dtype\": \"string\",\n        \"num_unique_values\": 10,\n        \"samples\": [\n          \"0.9934\",\n          \"0.9625\",\n          \"0.9854\"\n        ],\n        \"semantic_type\": \"\",\n        \"description\": \"\"\n      }\n    },\n    {\n      \"column\": \"0.09\",\n      \"properties\": {\n        \"dtype\": \"string\",\n        \"num_unique_values\": 10,\n        \"samples\": [\n          \"0.9936\",\n          \"0.9633\",\n          \"0.9857\"\n        ],\n        \"semantic_type\": \"\",\n        \"description\": \"\"\n      }\n    }\n  ]\n}"
            }
          },
          "metadata": {},
          "execution_count": 481
        }
      ]
    },
    {
      "cell_type": "markdown",
      "metadata": {
        "id": "rMRmnaNPG3Go"
      },
      "source": [
        "### Obteniendo $z$"
      ]
    },
    {
      "cell_type": "markdown",
      "metadata": {
        "id": "T-3mV1qlUj1t"
      },
      "source": [
        "<img src='https://caelum-online-public.s3.amazonaws.com/ESP-1764-estadistica-con-python-probabilidad-y-muestreo/img008.png' width='450px'>"
      ]
    },
    {
      "cell_type": "code",
      "metadata": {
        "id": "nT5ZTwjOG3Go",
        "colab": {
          "base_uri": "https://localhost:8080/"
        },
        "outputId": "49ce394d-9fe3-4fc7-fbc1-279c49c64a28"
      },
      "source": [
        "# Para calcular el valor medio de la zona sombreada, ya sé que el valor de la media hacia la izquierda es 0.5\n",
        "# Entonces puedo saber el valor desde -8 acostado hasta un valor de z específico (+1.96)\n",
        "0.95/2  # nivel de significancia dividido en 2. Esta es la probabilidad de la media hasta el valor de z"
      ],
      "execution_count": 482,
      "outputs": [
        {
          "output_type": "execute_result",
          "data": {
            "text/plain": [
              "0.475"
            ]
          },
          "metadata": {},
          "execution_count": 482
        }
      ]
    },
    {
      "cell_type": "code",
      "metadata": {
        "id": "vMjck-3ZU_sz",
        "colab": {
          "base_uri": "https://localhost:8080/"
        },
        "outputId": "5092e1ae-04f8-41ca-8e87-47dd54fae8fb"
      },
      "source": [
        "# Ahora calculamos el valor del extremo izquierdo hasta el valor de z\n",
        "0.5+(0.95/2) # Tomamos el área de 0,5, que es de la media hacia la izquierda y sumamos el área desde la media hasta +1.96"
      ],
      "execution_count": 483,
      "outputs": [
        {
          "output_type": "execute_result",
          "data": {
            "text/plain": [
              "0.975"
            ]
          },
          "metadata": {},
          "execution_count": 483
        }
      ]
    },
    {
      "cell_type": "markdown",
      "source": [
        "Con este valor, entramos a la tabla al revés, es decir, tenemos la probabilidad y determinamos z.<br>\n",
        "\n",
        "|Z\t|0.00\t|0.01\t|0.02\t|0.03\t|0.04\t|0.05\t| <u>**[0.06]**</u>\t|0.07\t|0.08\t|0.09|\n",
        "|---|---|---|---|---|---|---|---|---|---|---|\n",
        "|1.60\t|0.9452\t|0.9463\t|0.9474\t|0.9484\t|0.9495\t|0.9505\t|0.9515\t|0.9525|0.9535|0.9545|\n",
        "|1.70\t|0.9554\t|0.9564\t|0.9573\t|0.9582\t|0.9591\t|0.9599\t|0.9608\t|0.9616\t|0.9625\t|0.9633|\n",
        "|1.80\t|0.9641\t|0.9649\t|0.9656\t|0.9664\t|0.9671\t|0.9678\t|0.9686\t|0.9693\t|0.9699\t|0.9706|\n",
        "|<u>**[1.90]**</u>\t|0.9713\t|0.9719\t|0.9726\t|0.9732\t|0.9738\t|0.9744\t|<u>**0.9750**</u>\t|0.9756\t|0.9761\t|0.9767|\n",
        "|2.00\t|0.9772\t|0.9778\t|0.9783\t|0.9788\t|0.9793\t|0.9798\t|0.9803\t|0.9808\t|0.9812\t|0.9817|\n"
      ],
      "metadata": {
        "id": "r4z6u8WMD4jA"
      }
    },
    {
      "cell_type": "code",
      "metadata": {
        "id": "L4CMGZ3oVHLX",
        "colab": {
          "base_uri": "https://localhost:8080/"
        },
        "outputId": "d85a52f0-afe3-4b9f-a348-006513693afd"
      },
      "source": [
        "1.9 + 0.06"
      ],
      "execution_count": 484,
      "outputs": [
        {
          "output_type": "execute_result",
          "data": {
            "text/plain": [
              "1.96"
            ]
          },
          "metadata": {},
          "execution_count": 484
        }
      ]
    },
    {
      "cell_type": "code",
      "metadata": {
        "id": "JJS6Z-85G3Hf",
        "colab": {
          "base_uri": "https://localhost:8080/"
        },
        "outputId": "15662317-85f5-4b28-c6e2-adb641f13416"
      },
      "source": [
        "z=norm.ppf(0.975)\n",
        "z"
      ],
      "execution_count": 485,
      "outputs": [
        {
          "output_type": "execute_result",
          "data": {
            "text/plain": [
              "np.float64(1.959963984540054)"
            ]
          },
          "metadata": {},
          "execution_count": 485
        }
      ]
    },
    {
      "cell_type": "markdown",
      "metadata": {
        "id": "ggXXP8QqTyNA"
      },
      "source": [
        "### Valores de $z$ para los niveles de confianza más utilizados\n",
        "\n",
        "|Nivel de<br>confianza|Valor del área bajo<br>la curva normal| $z$ |\n",
        "|:----------------:|:---------------------------------:|:---:|\n",
        "|90%               |0.95                               |1.645|\n",
        "|95%               |0.975                              |1.96 |\n",
        "|99%               |0.995                              |2.575|"
      ]
    },
    {
      "cell_type": "markdown",
      "metadata": {
        "id": "MfE1ru0AG3Hg"
      },
      "source": [
        "### Obteniendo $\\sigma_\\bar{x}$"
      ]
    },
    {
      "cell_type": "code",
      "metadata": {
        "id": "LyQ6UUYtG3Hh",
        "colab": {
          "base_uri": "https://localhost:8080/"
        },
        "outputId": "07a99e59-068f-4aaf-a8a4-41024933c538"
      },
      "source": [
        "desviacion_estandar = 150\n",
        "desviacion_estandar"
      ],
      "execution_count": 486,
      "outputs": [
        {
          "output_type": "execute_result",
          "data": {
            "text/plain": [
              "150"
            ]
          },
          "metadata": {},
          "execution_count": 486
        }
      ]
    },
    {
      "cell_type": "code",
      "metadata": {
        "id": "ebvikT95G3Hi",
        "colab": {
          "base_uri": "https://localhost:8080/"
        },
        "outputId": "3e1c6205-4050-412f-8708-46d78f24a3f5"
      },
      "source": [
        "n = 20\n",
        "n"
      ],
      "execution_count": 487,
      "outputs": [
        {
          "output_type": "execute_result",
          "data": {
            "text/plain": [
              "20"
            ]
          },
          "metadata": {},
          "execution_count": 487
        }
      ]
    },
    {
      "cell_type": "code",
      "metadata": {
        "id": "TxM3yTpjG3Hk",
        "colab": {
          "base_uri": "https://localhost:8080/"
        },
        "outputId": "15faeb70-bf1e-4ee5-a2d1-df541ea8fc3a"
      },
      "source": [
        "# Calculamos las desviaciones estándar de las medias muestrales\n",
        "raiz_de_n=np.sqrt(n)\n",
        "print('Raíz cuadrada de n: ',raiz_de_n)\n",
        "sigma = desviacion_estandar / raiz_de_n\n",
        "print('Desviación estándar de las medias muestrales:', sigma)\n"
      ],
      "execution_count": 488,
      "outputs": [
        {
          "output_type": "stream",
          "name": "stdout",
          "text": [
            "Raíz cuadrada de n:  4.47213595499958\n",
            "Desviación estándar de las medias muestrales: 33.54101966249684\n"
          ]
        }
      ]
    },
    {
      "cell_type": "code",
      "metadata": {
        "id": "HNAcOpl0G3Hl",
        "colab": {
          "base_uri": "https://localhost:8080/"
        },
        "outputId": "e14edb60-de42-4534-9005-86881ca15c7c"
      },
      "source": [
        "sigma = desviacion_estandar / raiz_de_n\n",
        "sigma"
      ],
      "execution_count": 489,
      "outputs": [
        {
          "output_type": "execute_result",
          "data": {
            "text/plain": [
              "np.float64(33.54101966249684)"
            ]
          },
          "metadata": {},
          "execution_count": 489
        }
      ]
    },
    {
      "cell_type": "markdown",
      "source": [
        "En el siguiente paso necesitamos determinar el error"
      ],
      "metadata": {
        "id": "JA7LmWc_HPDF"
      }
    },
    {
      "cell_type": "markdown",
      "metadata": {
        "id": "NHbXlLk-G3Hn"
      },
      "source": [
        "### Obteniendo $e$"
      ]
    },
    {
      "cell_type": "code",
      "metadata": {
        "id": "gAfakih5G3Ho",
        "colab": {
          "base_uri": "https://localhost:8080/"
        },
        "outputId": "53329cfb-dee8-431a-c256-75ff64021656"
      },
      "source": [
        "e=z*sigma\n",
        "e"
      ],
      "execution_count": 490,
      "outputs": [
        {
          "output_type": "execute_result",
          "data": {
            "text/plain": [
              "np.float64(65.73919054324361)"
            ]
          },
          "metadata": {},
          "execution_count": 490
        }
      ]
    },
    {
      "cell_type": "markdown",
      "metadata": {
        "id": "sx1QTfNrG3Hq"
      },
      "source": [
        "### Solución 1 - Calculando el intervalo de confianza para la media"
      ]
    },
    {
      "cell_type": "code",
      "metadata": {
        "id": "NlJCcPZnG3Hq",
        "colab": {
          "base_uri": "https://localhost:8080/"
        },
        "outputId": "607f62bc-5f29-4d7c-a24a-bd73cd726eb6"
      },
      "source": [
        "intervalo=(\n",
        "    media_muestral-e,\n",
        "    media_muestral+e\n",
        ")\n",
        "intervalo"
      ],
      "execution_count": 491,
      "outputs": [
        {
          "output_type": "execute_result",
          "data": {
            "text/plain": [
              "(np.float64(4984.260809456757), np.float64(5115.739190543243))"
            ]
          },
          "metadata": {},
          "execution_count": 491
        }
      ]
    },
    {
      "cell_type": "markdown",
      "source": [
        "El peso medio de los sacos, tiene un 95% de probabilidad de estar entre 4984,26 y 5115.74"
      ],
      "metadata": {
        "id": "H0g37ZdVH-QP"
      }
    },
    {
      "cell_type": "markdown",
      "metadata": {
        "id": "DkFJL7fcG3Ht"
      },
      "source": [
        "### Solución 2 - Calculando el intervalo de confianza para la media"
      ]
    },
    {
      "cell_type": "code",
      "metadata": {
        "id": "U92vSYMkG3Hu",
        "colab": {
          "base_uri": "https://localhost:8080/"
        },
        "outputId": "eb50aba4-7ab9-4b4d-c3b2-75b477489fda"
      },
      "source": [
        "# Alternativa para versiones antiguas\n",
        "norm.interval(0.95, loc=media_muestral, scale=sigma)"
      ],
      "execution_count": 493,
      "outputs": [
        {
          "output_type": "execute_result",
          "data": {
            "text/plain": [
              "(np.float64(4984.260809456757), np.float64(5115.739190543243))"
            ]
          },
          "metadata": {},
          "execution_count": 493
        }
      ]
    },
    {
      "cell_type": "markdown",
      "source": [
        "#####Ejercicio 4_1\n",
        "Para estimar la cantidad media gastada por cada cliente de una gran cadena de comida rápida, se seleccionó una muestra de 50 clientes.\n",
        "\n",
        "Suponiendo que el valor de la desviación estándar de la población es de $ 6,00 y que esta población se distribuye normalmente, obtenga el margen de error de esta estimación para un nivel de confianza del 95%."
      ],
      "metadata": {
        "id": "XDGKSf5DLG9o"
      }
    },
    {
      "cell_type": "code",
      "source": [
        "from scipy.stats import norm\n",
        "import numpy as np\n",
        "\n",
        "z = norm.ppf(0.975)\n",
        "desviacion_estandar = 6\n",
        "n = 50\n",
        "\n",
        "e = z * (desviacion_estandar / np.sqrt(n))\n",
        "print(f\"$ {e:0.2f}\")"
      ],
      "metadata": {
        "colab": {
          "base_uri": "https://localhost:8080/"
        },
        "id": "RAK5DEjULSMb",
        "outputId": "c98d128f-6e58-4f72-d747-2209253d71c3"
      },
      "execution_count": 494,
      "outputs": [
        {
          "output_type": "stream",
          "name": "stdout",
          "text": [
            "$ 1.66\n"
          ]
        }
      ]
    },
    {
      "cell_type": "markdown",
      "source": [
        "#####Ejercicio 4_2\n",
        "Una muestra aleatoria simple de 1976 elementos de una población distribuida normalmente, con una desviación estándar de 11, dio como resultado una media muestral de 28.\n",
        "\n",
        "¿Cuál es el intervalo de confianza del 90% para la media de la población?"
      ],
      "metadata": {
        "id": "RyeXVn5TLeRO"
      }
    },
    {
      "cell_type": "code",
      "source": [
        "from scipy.stats import norm\n",
        "import numpy as np\n",
        "\n",
        "media_muestral = 28\n",
        "desviacion_estandar = 11\n",
        "n = 1976\n",
        "\n",
        "norm.interval(0.90, loc = media_muestral, scale = desviacion_estandar / np.sqrt(n))"
      ],
      "metadata": {
        "colab": {
          "base_uri": "https://localhost:8080/"
        },
        "id": "YI-DNiBELdIA",
        "outputId": "a3a922d6-c9e2-450a-e88f-06d6e1a30f75"
      },
      "execution_count": 498,
      "outputs": [
        {
          "output_type": "execute_result",
          "data": {
            "text/plain": [
              "(np.float64(27.592969951356466), np.float64(28.407030048643534))"
            ]
          },
          "metadata": {},
          "execution_count": 498
        }
      ]
    },
    {
      "cell_type": "markdown",
      "source": [],
      "metadata": {
        "id": "U9W45IrZLcrN"
      }
    },
    {
      "cell_type": "markdown",
      "metadata": {
        "id": "aF9jAC6yG3Gl"
      },
      "source": [
        "# <font color=green>5 CÁLCULO DEL TAMAÑO DE LA MUESTRA</font>\n",
        "***"
      ]
    },
    {
      "cell_type": "markdown",
      "metadata": {
        "id": "BwiygaNqnjrr"
      },
      "source": [
        "## <font color='red'>Problema </font>"
      ]
    },
    {
      "cell_type": "markdown",
      "metadata": {
        "id": "a7RjjVVUnlI3"
      },
      "source": [
        "Estamos estudiando los ingresos mensuales de los jefes de hogar con ingresos de hasta R$\\$$ 5.000,00 en Brasil. Nuestro supervisor determinó que el **error máximo en relación a la media es de R$\\$$ 10,00**. Sabemos que la **desviación estándar poblacional** de este grupo de trabajadores es **R$\\$$ 1.082,79**. Para un **nivel de confianza del 95%**, ¿cuál debería ser el tamaño de la muestra de nuestro estudio?"
      ]
    },
    {
      "cell_type": "markdown",
      "metadata": {
        "id": "za2sGJt6G3Gm"
      },
      "source": [
        "## <font color=green>5.1 Variables cuantitativas y población infinita</font>\n",
        "***"
      ]
    },
    {
      "cell_type": "markdown",
      "metadata": {
        "id": "3wqMjJWR5sVq"
      },
      "source": [
        "# $$e = z \\frac{\\sigma}{\\sqrt{n}}$$"
      ]
    },
    {
      "cell_type": "markdown",
      "metadata": {
        "id": "X1AxpKtIG3Gn"
      },
      "source": [
        "#### Con desviación estándar conocida\n",
        "\n",
        "## $$n = \\left(z\\frac{\\sigma}{e}\\right)^2$$\n",
        "\n",
        "#### Con desviación estándar desconocida\n",
        "\n",
        "## $$n = \\left(z\\frac{s}{e}\\right)^2$$\n",
        "\n",
        "Donde:\n",
        "\n",
        "$z$ = variable normal estandarizada\n",
        "\n",
        "$\\sigma$ = desviación estándar poblacional\n",
        "\n",
        "$s$ = desviación estándar de la muestra\n",
        "\n",
        "$e$ = error inferencial"
      ]
    },
    {
      "cell_type": "markdown",
      "metadata": {
        "id": "T0fysCyDG3Gn"
      },
      "source": [
        "### <font color='red'>Comentarios</font>\n",
        "\n",
        "1. La desviación estándar ($\\sigma$ o $s$) y el error ($e$) deben estar en la misma unidad de medida.\n",
        "\n",
        "2. Cuando el error ($e$) se representa en términos porcentuales, debe interpretarse como un porcentaje relacionado con el promedio."
      ]
    },
    {
      "cell_type": "markdown",
      "metadata": {
        "id": "WHYBTaupG3Gn"
      },
      "source": [
        "## <font color='blue'>Ejemplo: Rendimiento medio</font>"
      ]
    },
    {
      "cell_type": "markdown",
      "metadata": {
        "id": "dcdzo7EgG3Go"
      },
      "source": [
        "Estamos estudiando los ingresos mensuales de los jefes de hogar. Nuestro supervisor determinó que el **error máximo en relación a la media es de $\\$$ 100,00** pesos. Sabemos que la **desviación estándar poblacional** de este grupo de trabajadores es **$\\$$ 3.323,39** pesos. Para un **nivel de confianza del 95%**, ¿cuál debería ser el tamaño de la muestra de nuestro estudio?"
      ]
    },
    {
      "cell_type": "code",
      "metadata": {
        "id": "XtJ5I_kaKDN3"
      },
      "source": [],
      "execution_count": 492,
      "outputs": []
    },
    {
      "cell_type": "code",
      "metadata": {
        "id": "-4TLCgNLKC95"
      },
      "source": [],
      "execution_count": 492,
      "outputs": []
    },
    {
      "cell_type": "code",
      "metadata": {
        "id": "7XDT12I4ViYN"
      },
      "source": [],
      "execution_count": 492,
      "outputs": []
    },
    {
      "cell_type": "markdown",
      "metadata": {
        "id": "6uCkW4KlG3Gr"
      },
      "source": [
        "### Obteniendo $\\sigma$"
      ]
    },
    {
      "cell_type": "code",
      "metadata": {
        "id": "1RmtZfj-G3Gr"
      },
      "source": [],
      "execution_count": 492,
      "outputs": []
    },
    {
      "cell_type": "markdown",
      "metadata": {
        "id": "Cl39PIZ2G3Gt"
      },
      "source": [
        "### Obteniendo $e$"
      ]
    },
    {
      "cell_type": "code",
      "metadata": {
        "id": "NTRMt2gWG3Gt"
      },
      "source": [],
      "execution_count": 492,
      "outputs": []
    },
    {
      "cell_type": "markdown",
      "metadata": {
        "id": "OlAX3Gj6G3Gv"
      },
      "source": [
        "### Obteniendo $n$"
      ]
    },
    {
      "cell_type": "code",
      "metadata": {
        "id": "0MjluwHPG3Gv",
        "scrolled": true
      },
      "source": [],
      "execution_count": 492,
      "outputs": []
    },
    {
      "cell_type": "markdown",
      "metadata": {
        "id": "MjP0xsqyTyNO"
      },
      "source": [
        "---\n",
        "---"
      ]
    },
    {
      "cell_type": "markdown",
      "metadata": {
        "id": "dx2vyLC-TyNP"
      },
      "source": [
        "## <font color='red'>Problema</font>"
      ]
    },
    {
      "cell_type": "markdown",
      "metadata": {
        "id": "uzK2fAOFTyNP"
      },
      "source": [
        "En un lote de **10 000 latas** de gaseosa, se realizó una muestra aleatoria simple de **100 latas** y se obtuvo que la **desviación estándar muestral del contenido de las latas es igual a 12 ml**. El fabricante estipula un **error máximo en la media poblacional de solo 5 ml**. Para garantizar un **nivel de confianza del 95%**, ¿qué tamaño de muestra se debe seleccionar para este estudio?"
      ]
    },
    {
      "cell_type": "markdown",
      "metadata": {
        "id": "FlAz5kycTyNQ"
      },
      "source": [
        "## <font color=green>5.2 Variables cuantitativas y población finita</font>\n",
        "***"
      ]
    },
    {
      "cell_type": "markdown",
      "metadata": {
        "id": "UOe02McSTyNR"
      },
      "source": [
        "#### Con desviación estándar conocida\n",
        "\n",
        "## $$n = \\frac{z^2 \\sigma^2 N}{z^2 \\sigma^2 + e^2(N-1)}$$\n",
        "\n",
        "#### Con desviación estándar desconocida\n",
        "\n",
        "## $$n = \\frac{z^2 s^2 N}{z^2 s^2 + e^2(N-1)}$$\n",
        "\n",
        "Donde:\n",
        "\n",
        "$N$ = tamaño de la población\n",
        "\n",
        "$z$ = variable normal estandarizada\n",
        "\n",
        "$\\sigma$ = desviación estándar poblacional\n",
        "\n",
        "$s$ = desviación estándar muestral\n",
        "\n",
        "$e$ = error inferencial"
      ]
    },
    {
      "cell_type": "markdown",
      "metadata": {
        "id": "cUELtYTKTyNS"
      },
      "source": [
        "## <font color='blue'>Ejemplo: Industria de refrescos</font>"
      ]
    },
    {
      "cell_type": "markdown",
      "metadata": {
        "id": "upv1mM7fTyNS"
      },
      "source": [
        "En un lote de **10 000 latas** de gaseosa, se realizó una muestra aleatoria simple de **100 latas** y se obtuvo que la **desviación estándar muestral del contenido de las latas es igual a 12 ml**. El fabricante estipula un **error máximo en la media poblacional de solo 5 ml**. Para garantizar un **nivel de confianza del 95%**, ¿qué tamaño de muestra se debe seleccionar para este estudio?"
      ]
    },
    {
      "cell_type": "markdown",
      "metadata": {
        "id": "_y3-3VIBTyNS"
      },
      "source": [
        "### Obteniendo $N$"
      ]
    },
    {
      "cell_type": "code",
      "metadata": {
        "id": "gXWn9zTETyNS"
      },
      "source": [],
      "execution_count": 492,
      "outputs": []
    },
    {
      "cell_type": "markdown",
      "metadata": {
        "id": "xCgZ1JSjTyNT"
      },
      "source": [
        "### Obteniendo $z$"
      ]
    },
    {
      "cell_type": "code",
      "metadata": {
        "id": "ZUs9aYJRTyNT"
      },
      "source": [],
      "execution_count": 492,
      "outputs": []
    },
    {
      "cell_type": "markdown",
      "metadata": {
        "id": "KCnigJd8TyNU"
      },
      "source": [
        "### Obteniendo $s$"
      ]
    },
    {
      "cell_type": "code",
      "metadata": {
        "id": "fKqFI_TZTyNU"
      },
      "source": [],
      "execution_count": 492,
      "outputs": []
    },
    {
      "cell_type": "markdown",
      "metadata": {
        "id": "K9gDEIUdTyNX"
      },
      "source": [
        "### Obteniendo $e$"
      ]
    },
    {
      "cell_type": "code",
      "metadata": {
        "id": "hyhJ3MQKTyNX"
      },
      "source": [],
      "execution_count": 492,
      "outputs": []
    },
    {
      "cell_type": "markdown",
      "metadata": {
        "id": "Dsm3bg9gTyNX"
      },
      "source": [
        "### Obteniendo $n$\n",
        "\n",
        "## $$n = \\frac{z^2 s^2 N}{z^2 s^2 + e^2(N-1)}$$"
      ]
    },
    {
      "cell_type": "code",
      "metadata": {
        "id": "0XxWfaPdTyNY",
        "scrolled": true
      },
      "source": [],
      "execution_count": 492,
      "outputs": []
    },
    {
      "cell_type": "markdown",
      "metadata": {
        "id": "XNH7CMglG3Hv"
      },
      "source": [
        "# <font color=green>6 FIJANDO EL CONTENIDO</font>\n",
        "***"
      ]
    },
    {
      "cell_type": "markdown",
      "metadata": {
        "id": "iRYqVAxuG3Hv"
      },
      "source": [
        "## <font color='blue'>Ejemplo: Rendimiento medio</font>"
      ]
    },
    {
      "cell_type": "markdown",
      "metadata": {
        "id": "ggloHI5sG3Hw"
      },
      "source": [
        "Estamos estudiando **los ingresos mensuales de los jefes de hogar con ingresos de hasta R$\\$$ 5.000,00 en Brasil**. Nuestro supervisor determinó que el **error máximo en relación a la media es de R$\\$$ 10,00**. Sabemos que la **desviación estándar poblacional** de este grupo de trabajadores es **R$\\$$ 1.082,79** y que la **media poblacional** es **R$\\$$ 1.426,54**. Para un **nivel de confianza del 95%**, ¿cuál debería ser el tamaño de la muestra de nuestro estudio? ¿Cuál es el intervalo de confianza para la media considerando el tamaño de muestra obtenido?"
      ]
    },
    {
      "cell_type": "markdown",
      "metadata": {
        "id": "JZDvLD-NG3Hw"
      },
      "source": [
        "### Construyendo el conjunto de datos según lo especificado por el problema"
      ]
    },
    {
      "cell_type": "code",
      "metadata": {
        "id": "qlnYQeaKG3Hw"
      },
      "source": [],
      "execution_count": 492,
      "outputs": []
    },
    {
      "cell_type": "code",
      "metadata": {
        "id": "VKuxbygIG3Hy"
      },
      "source": [],
      "execution_count": 492,
      "outputs": []
    },
    {
      "cell_type": "code",
      "metadata": {
        "id": "Q2Ku3mVPG3Hz"
      },
      "source": [],
      "execution_count": 492,
      "outputs": []
    },
    {
      "cell_type": "markdown",
      "metadata": {
        "id": "F33TdkXdG3H2"
      },
      "source": [
        "### Calcular el tamaño de la muestra"
      ]
    },
    {
      "cell_type": "code",
      "metadata": {
        "id": "sWIvnmygG3H2"
      },
      "source": [],
      "execution_count": 492,
      "outputs": []
    },
    {
      "cell_type": "markdown",
      "metadata": {
        "id": "xRN_gmmLG3H6"
      },
      "source": [
        "### Calcular el intervalo de confianza para la media"
      ]
    },
    {
      "cell_type": "code",
      "metadata": {
        "id": "HoG6JKxxG3H6"
      },
      "source": [],
      "execution_count": 492,
      "outputs": []
    },
    {
      "cell_type": "markdown",
      "metadata": {
        "id": "xWAG8q8oG3H8"
      },
      "source": [
        "### Realización de una prueba gráfica"
      ]
    },
    {
      "cell_type": "code",
      "metadata": {
        "id": "pxjJyWnNG3H8"
      },
      "source": [],
      "execution_count": 492,
      "outputs": []
    }
  ]
}